{
 "cells": [
  {
   "cell_type": "code",
   "execution_count": 20,
   "id": "2a0244ac",
   "metadata": {
    "ExecuteTime": {
     "end_time": "2021-10-19T10:36:56.893718Z",
     "start_time": "2021-10-19T10:36:56.884348Z"
    }
   },
   "outputs": [],
   "source": [
    "import glob\n",
    "import pandas as pd\n",
    "\n",
    "glob.glob('/tmp', recursive = True)[0] + '/' \n",
    "\n",
    "\n",
    "df = pd.DataFrame([list('321')])\n",
    "\n",
    "df\n",
    "\n",
    "df.to_excel( glob.glob('/tmp')[0] + '/' + r'adsfgb.xlsx' , engine='xlsxwriter')\n",
    "\n"
   ]
  },
  {
   "cell_type": "code",
   "execution_count": null,
   "id": "d67de5fd-eed2-4ddf-bcd4-b618fed86888",
   "metadata": {},
   "outputs": [],
   "source": []
  },
  {
   "cell_type": "code",
   "execution_count": null,
   "id": "b2262395-cc26-4fc6-9476-2d77e78b9348",
   "metadata": {},
   "outputs": [],
   "source": []
  },
  {
   "cell_type": "code",
   "execution_count": 19,
   "id": "4e42ecf8",
   "metadata": {
    "ExecuteTime": {
     "end_time": "2021-10-19T10:36:02.429395Z",
     "start_time": "2021-10-19T10:36:02.422839Z"
    }
   },
   "outputs": [
    {
     "data": {
      "text/plain": [
       "['/tmp']"
      ]
     },
     "execution_count": 19,
     "metadata": {},
     "output_type": "execute_result"
    }
   ],
   "source": [
    "glob.glob('/tmp', recursive = True)\n"
   ]
  },
  {
   "cell_type": "code",
   "execution_count": 35,
   "id": "9f8d6da6",
   "metadata": {
    "ExecuteTime": {
     "end_time": "2021-10-19T10:59:47.922278Z",
     "start_time": "2021-10-19T10:59:47.920227Z"
    }
   },
   "outputs": [],
   "source": [
    "# import os\n",
    "# os.getlogin()\n"
   ]
  },
  {
   "cell_type": "code",
   "execution_count": 44,
   "id": "59f50e6e",
   "metadata": {
    "ExecuteTime": {
     "end_time": "2021-10-19T11:03:52.639609Z",
     "start_time": "2021-10-19T11:03:52.635650Z"
    }
   },
   "outputs": [
    {
     "data": {
      "text/plain": [
       "'slebedev'"
      ]
     },
     "execution_count": 44,
     "metadata": {},
     "output_type": "execute_result"
    }
   ],
   "source": [
    "# !pip list\n",
    "import getpass\n",
    "getpass.getuser()\n",
    "\n",
    "\n"
   ]
  },
  {
   "cell_type": "code",
   "execution_count": 51,
   "id": "aad25e74",
   "metadata": {
    "ExecuteTime": {
     "end_time": "2021-10-19T11:25:58.093787Z",
     "start_time": "2021-10-19T11:25:56.771769Z"
    }
   },
   "outputs": [
    {
     "name": "stdout",
     "output_type": "stream",
     "text": [
      "Last metadata expiration check: 3:10:54 ago on Tue 19 Oct 2021 03:15:03 PM +07.\n",
      "No match for argument: \u001b[1mpython-pip\u001b[m\n",
      "Error: Unable to find a match: python-pip\n"
     ]
    }
   ],
   "source": [
    "!sudo yum install python-pip\n"
   ]
  },
  {
   "cell_type": "code",
   "execution_count": 50,
   "id": "24edf30f",
   "metadata": {
    "ExecuteTime": {
     "end_time": "2021-10-19T11:24:16.944041Z",
     "start_time": "2021-10-19T11:24:16.826202Z"
    }
   },
   "outputs": [
    {
     "name": "stdout",
     "output_type": "stream",
     "text": [
      "CentOS Stream release 8\n",
      "NAME=\"CentOS Stream\"\n",
      "VERSION=\"8\"\n",
      "ID=\"centos\"\n",
      "ID_LIKE=\"rhel fedora\"\n",
      "VERSION_ID=\"8\"\n",
      "PLATFORM_ID=\"platform:el8\"\n",
      "PRETTY_NAME=\"CentOS Stream 8\"\n",
      "ANSI_COLOR=\"0;31\"\n",
      "CPE_NAME=\"cpe:/o:centos:centos:8\"\n",
      "HOME_URL=\"https://centos.org/\"\n",
      "BUG_REPORT_URL=\"https://bugzilla.redhat.com/\"\n",
      "REDHAT_SUPPORT_PRODUCT=\"Red Hat Enterprise Linux 8\"\n",
      "REDHAT_SUPPORT_PRODUCT_VERSION=\"CentOS Stream\"\n",
      "CentOS Stream release 8\n",
      "CentOS Stream release 8\n"
     ]
    }
   ],
   "source": [
    "!cat /etc/*-release"
   ]
  },
  {
   "cell_type": "code",
   "execution_count": 3,
   "id": "791ecd0c",
   "metadata": {
    "ExecuteTime": {
     "end_time": "2021-11-29T09:09:50.397119Z",
     "start_time": "2021-11-29T09:09:50.276756Z"
    },
    "collapsed": true,
    "jupyter": {
     "outputs_hidden": true
    }
   },
   "outputs": [
    {
     "name": "stdout",
     "output_type": "stream",
     "text": [
      "usage: python [option] ... [-c cmd | -m mod | file | -] [arg] ...\n",
      "Options and arguments (and corresponding environment variables):\n",
      "-b     : issue warnings about str(bytes_instance), str(bytearray_instance)\n",
      "         and comparing bytes/bytearray with str. (-bb: issue errors)\n",
      "-B     : don't write .pyc files on import; also PYTHONDONTWRITEBYTECODE=x\n",
      "-c cmd : program passed in as string (terminates option list)\n",
      "-d     : debug output from parser; also PYTHONDEBUG=x\n",
      "-E     : ignore PYTHON* environment variables (such as PYTHONPATH)\n",
      "-h     : print this help message and exit (also --help)\n",
      "-i     : inspect interactively after running script; forces a prompt even\n",
      "         if stdin does not appear to be a terminal; also PYTHONINSPECT=x\n",
      "-I     : isolate Python from the user's environment (implies -E and -s)\n",
      "-m mod : run library module as a script (terminates option list)\n",
      "-O     : remove assert and __debug__-dependent statements; add .opt-1 before\n",
      "         .pyc extension; also PYTHONOPTIMIZE=x\n",
      "-OO    : do -O changes and also discard docstrings; add .opt-2 before\n",
      "         .pyc extension\n",
      "-q     : don't print version and copyright messages on interactive startup\n",
      "-s     : don't add user site directory to sys.path; also PYTHONNOUSERSITE\n",
      "-S     : don't imply 'import site' on initialization\n",
      "-u     : force the binary I/O layers of stdout and stderr to be unbuffered;\n",
      "         stdin is always buffered; text I/O layer will be line-buffered;\n",
      "         also PYTHONUNBUFFERED=x\n",
      "-v     : verbose (trace import statements); also PYTHONVERBOSE=x\n",
      "         can be supplied multiple times to increase verbosity\n",
      "-V     : print the Python version number and exit (also --version)\n",
      "         when given twice, print more information about the build\n",
      "-W arg : warning control; arg is action:message:category:module:lineno\n",
      "         also PYTHONWARNINGS=arg\n",
      "-x     : skip first line of source, allowing use of non-Unix forms of #!cmd\n",
      "-X opt : set implementation-specific option\n",
      "file   : program read from script file\n",
      "-      : program read from stdin (default; interactive mode if a tty)\n",
      "arg ...: arguments passed to program in sys.argv[1:]\n",
      "\n",
      "Other environment variables:\n",
      "PYTHONSTARTUP: file executed on interactive startup (no default)\n",
      "PYTHONPATH   : ':'-separated list of directories prefixed to the\n",
      "               default module search path.  The result is sys.path.\n",
      "PYTHONHOME   : alternate <prefix> directory (or <prefix>:<exec_prefix>).\n",
      "               The default module search path uses <prefix>/lib/pythonX.X.\n",
      "PYTHONCASEOK : ignore case in 'import' statements (Windows).\n",
      "PYTHONIOENCODING: Encoding[:errors] used for stdin/stdout/stderr.\n",
      "PYTHONFAULTHANDLER: dump the Python traceback on fatal errors.\n",
      "PYTHONHASHSEED: if this variable is set to 'random', a random value is used\n",
      "   to seed the hashes of str, bytes and datetime objects.  It can also be\n",
      "   set to an integer in the range [0,4294967295] to get hash values with a\n",
      "   predictable seed.\n",
      "PYTHONMALLOC: set the Python memory allocators and/or install debug hooks\n",
      "   on Python memory allocators. Use PYTHONMALLOC=debug to install debug\n",
      "   hooks.\n",
      "PYTHONCOERCECLOCALE: if this variable is set to 0, it disables the locale\n",
      "   coercion behavior. Use PYTHONCOERCECLOCALE=warn to request display of\n",
      "   locale coercion and locale compatibility warnings on stderr.\n"
     ]
    }
   ],
   "source": [
    "!python --help"
   ]
  },
  {
   "cell_type": "code",
   "execution_count": 10,
   "id": "7e655c68",
   "metadata": {
    "ExecuteTime": {
     "end_time": "2021-11-29T11:41:52.936339Z",
     "start_time": "2021-11-29T11:41:52.820366Z"
    }
   },
   "outputs": [
    {
     "name": "stdout",
     "output_type": "stream",
     "text": [
      "/bin/bash: /usr: Is a directory\n"
     ]
    }
   ],
   "source": [
    "import sys\n",
    "!{sys.prefix}"
   ]
  },
  {
   "cell_type": "code",
   "execution_count": 11,
   "id": "645c6a15",
   "metadata": {
    "ExecuteTime": {
     "end_time": "2021-11-29T11:41:56.673660Z",
     "start_time": "2021-11-29T11:41:56.668754Z"
    }
   },
   "outputs": [
    {
     "data": {
      "text/plain": [
       "'/usr'"
      ]
     },
     "execution_count": 11,
     "metadata": {},
     "output_type": "execute_result"
    }
   ],
   "source": [
    "sys.prefix\n"
   ]
  },
  {
   "cell_type": "code",
   "execution_count": 12,
   "id": "891e5b74",
   "metadata": {
    "ExecuteTime": {
     "end_time": "2021-11-29T11:42:00.024555Z",
     "start_time": "2021-11-29T11:42:00.019636Z"
    }
   },
   "outputs": [
    {
     "data": {
      "text/plain": [
       "'/bin/python3'"
      ]
     },
     "execution_count": 12,
     "metadata": {},
     "output_type": "execute_result"
    }
   ],
   "source": [
    "sys.executable"
   ]
  },
  {
   "cell_type": "code",
   "execution_count": 9,
   "id": "a960c64f",
   "metadata": {
    "ExecuteTime": {
     "end_time": "2021-11-29T11:22:14.618554Z",
     "start_time": "2021-11-29T11:22:13.321365Z"
    }
   },
   "outputs": [
    {
     "name": "stdout",
     "output_type": "stream",
     "text": [
      "Package                            Version\n",
      "---------------------------------- ----------\n",
      "alabaster                          0.7.12\n",
      "alembic                            1.6.5\n",
      "anaconda-client                    1.2.2\n",
      "ansiwrap                           0.8.4\n",
      "antlr4-python3-runtime             4.9.2\n",
      "anyio                              3.1.0\n",
      "appdirs                            1.4.4\n",
      "argh                               0.26.2\n",
      "argon2-cffi                        20.1.0\n",
      "arrow                              1.1.1\n",
      "asn1crypto                         1.4.0\n",
      "astroid                            2.6.1\n",
      "astropy                            4.1\n",
      "async-generator                    1.10\n",
      "atomicwrites                       1.4.0\n",
      "attrs                              21.2.0\n",
      "autopep8                           1.5.5\n",
      "Babel                              2.9.1\n",
      "backcall                           0.2.0\n",
      "backports.functools-lru-cache      1.6.4\n",
      "backports.shutil-get-terminal-size 1.0.0\n",
      "backports.tempfile                 1.0\n",
      "backports.weakref                  1.0.post1\n",
      "bcrypt                             3.2.0\n",
      "beakerx                            2.3.2\n",
      "beakerx-base                       2.0.1\n",
      "beakerx-tabledisplay               2.0.1\n",
      "beautifulsoup4                     4.9.3\n",
      "binaryornot                        0.4.4\n",
      "bkcharts                           0.2\n",
      "black                              21.6b0\n",
      "bleach                             3.3.0\n",
      "bokeh                              2.3.2\n",
      "boto                               2.49.0\n",
      "bottle                             0.12.19\n",
      "Brotli                             1.0.9\n",
      "brotlipy                           0.7.0\n",
      "cached-property                    1.5.2\n",
      "certifi                            2021.5.30\n",
      "certipy                            0.1.3\n",
      "cffi                               1.14.5\n",
      "chardet                            4.0.0\n",
      "chart-studio                       1.1.0\n",
      "click                              8.0.1\n",
      "cloudpickle                        1.6.0\n",
      "clyent                             1.2.1\n",
      "colorama                           0.4.4\n",
      "comtypes                           1.1.10\n",
      "configobj                          5.0.6\n",
      "contextlib2                        21.6.0\n",
      "contextvars                        2.4\n",
      "cookiecutter                       1.7.3\n",
      "cryptography                       3.4.7\n",
      "cycler                             0.10.0\n",
      "Cython                             0.29.23\n",
      "dadata                             0.3.0\n",
      "dash                               1.20.0\n",
      "dash-core-components               1.16.0\n",
      "dash-html-components               1.1.3\n",
      "dash-renderer                      1.9.1\n",
      "dash-table                         4.11.3\n",
      "dask                               2021.3.0\n",
      "dataclasses                        0.8\n",
      "datasize                           1.0.0\n",
      "DateTime                           4.3\n",
      "dbus-python                        1.2.4\n",
      "debugpy                            1.5.0\n",
      "decorator                          4.4.2\n",
      "defusedxml                         0.7.1\n",
      "diff-match-patch                   20200713\n",
      "distributed                        2021.3.0\n",
      "docutils                           0.17.1\n",
      "entrypoints                        0.3\n",
      "et-xmlfile                         1.1.0\n",
      "filelock                           3.0.12\n",
      "flake8                             3.8.4\n",
      "Flask                              2.0.1\n",
      "Flask-Compress                     1.10.1\n",
      "fs                                 2.4.13\n",
      "fsspec                             2021.6.1\n",
      "future                             0.18.2\n",
      "gevent                             21.1.2\n",
      "gitdb                              4.0.7\n",
      "GitPython                          3.1.17\n",
      "glob2                              0.7\n",
      "gpg                                1.13.1\n",
      "greenlet                           1.1.0\n",
      "h5py                               3.1.0\n",
      "HeapDict                           1.0.1\n",
      "html5lib                           1.1\n",
      "icc-rt                             2020.0.133\n",
      "idna                               2.10\n",
      "imageio                            2.9.0\n",
      "imagesize                          1.2.0\n",
      "immutables                         0.15\n",
      "importlib-metadata                 4.5.0\n",
      "inflection                         0.5.1\n",
      "iniconfig                          1.1.1\n",
      "intel-numpy                        1.15.1\n",
      "intel-openmp                       2020.0.133\n",
      "intervaltree                       3.1.0\n",
      "ipyaggrid                          0.2.1\n",
      "ipydatawidgets                     4.2.0\n",
      "ipykernel                          5.5.5\n",
      "ipyparallel                        6.3.0\n",
      "ipython                            7.16.1\n",
      "ipython-genutils                   0.2.0\n",
      "ipython-sql                        0.4.0\n",
      "ipywidgets                         7.6.3\n",
      "isc                                2.0\n",
      "isort                              5.9.1\n",
      "itables                            0.3.0\n",
      "itsdangerous                       2.0.1\n",
      "jdcal                              1.4.1\n",
      "jedi                               0.17.2\n",
      "jeepney                            0.6.0\n",
      "Jinja2                             3.0.1\n",
      "jinja2-time                        0.2.0\n",
      "joblib                             1.0.1\n",
      "json5                              0.9.5\n",
      "jsonschema                         3.2.0\n",
      "jupyter                            1.0.0\n",
      "jupyter-client                     6.1.12\n",
      "jupyter-console                    6.4.0\n",
      "jupyter-contrib-core               0.3.3\n",
      "jupyter-contrib-nbextensions       0.5.1\n",
      "jupyter-core                       4.7.1\n",
      "jupyter-highlight-selected-word    0.2.0\n",
      "jupyter-latex-envs                 1.4.6\n",
      "jupyter-nbextensions-configurator  0.4.1\n",
      "jupyter-resource-usage             0.6.0\n",
      "jupyter-server                     1.8.0\n",
      "jupyter-server-mathjax             0.2.3\n",
      "jupyter-telemetry                  0.1.0\n",
      "jupyterhub                         1.4.2\n",
      "jupyterhub-ldap-authenticator      0.4.1\n",
      "jupyterhub-ldapauthenticator       1.3.2\n",
      "jupyterhub-systemdspawner          0.15.0\n",
      "jupyterlab                         3.2.0\n",
      "jupyterlab-drawio                  0.9.0\n",
      "jupyterlab-git                     0.33.0\n",
      "jupyterlab-latex                   2.0.0\n",
      "jupyterlab-powerpoint              0.1.0\n",
      "jupyterlab-pygments                0.1.2\n",
      "jupyterlab-scheduler               0.1.5\n",
      "jupyterlab-server                  2.6.0\n",
      "jupyterlab-topbar                  0.6.1\n",
      "jupyterlab-widgets                 1.0.0\n",
      "jupyterthemes                      0.20.0\n",
      "K3D                                2.9.6\n",
      "keyboard                           0.13.5\n",
      "keyring                            23.0.1\n",
      "kiwisolver                         1.3.1\n",
      "lazy-object-proxy                  1.6.0\n",
      "ldap3                              2.9\n",
      "lesscpy                            0.14.0\n",
      "libarchive-c                       3.1\n",
      "libcomps                           0.1.16\n",
      "llvmlite                           0.36.0\n",
      "locket                             0.2.1\n",
      "lxml                               4.6.3\n",
      "Mako                               1.1.4\n",
      "Markdown                           3.3.4\n",
      "MarkupSafe                         2.0.1\n",
      "matplotlib                         3.3.4\n",
      "mccabe                             0.6.1\n",
      "mistune                            0.8.4\n",
      "mkl                                2019.0\n",
      "mkl-fft                            1.0.6\n",
      "mkl-random                         1.0.1.1\n",
      "mock                               4.0.3\n",
      "more-itertools                     8.8.0\n",
      "MouseInfo                          0.1.3\n",
      "mpmath                             1.2.1\n",
      "msgpack                            1.0.2\n",
      "multipledispatch                   0.6.0\n",
      "mypy-extensions                    0.4.3\n",
      "nbclassic                          0.3.1\n",
      "nbclient                           0.5.3\n",
      "nbconvert                          5.6.1\n",
      "nbdime                             3.1.0\n",
      "nbformat                           5.1.3\n",
      "nest-asyncio                       1.5.1\n",
      "networkx                           2.5.1\n",
      "nftables                           0.1\n",
      "nltk                               3.6.2\n",
      "nose                               1.3.7\n",
      "notebook                           6.4.0\n",
      "notebook-autorun                   0.1.7\n",
      "npm                                0.1.1\n",
      "numba                              0.53.1\n",
      "numexpr                            2.7.3\n",
      "numpy                              1.19.5\n",
      "numpydoc                           1.1.0\n",
      "oauthlib                           3.1.1\n",
      "olefile                            0.46\n",
      "openpyxl                           3.0.7\n",
      "optional-django                    0.1.0\n",
      "packaging                          20.9\n",
      "pamela                             1.0.0\n",
      "pandas                             1.1.5\n",
      "pandocfilters                      1.4.3\n",
      "panel                              0.11.3\n",
      "papermill                          2.3.3\n",
      "param                              1.10.1\n",
      "paramiko                           2.7.2\n",
      "parso                              0.7.0\n",
      "partd                              1.2.0\n",
      "path                               16.0.0\n",
      "pathlib2                           2.3.5\n",
      "pathspec                           0.8.1\n",
      "pathtools                          0.1.2\n",
      "patsy                              0.5.1\n",
      "pep8                               1.7.1\n",
      "perf                               0.1\n",
      "pexpect                            4.8.0\n",
      "pickleshare                        0.7.5\n",
      "Pillow                             8.2.0\n",
      "pip                                21.3.1\n",
      "pkginfo                            1.7.0\n",
      "plotly                             5.1.0\n",
      "plotly-express                     0.4.1\n",
      "pluggy                             0.13.1\n",
      "ply                                3.9\n",
      "poyo                               0.5.0\n",
      "prettytable                        0.7.2\n",
      "prometheus-client                  0.11.0\n",
      "prompt-toolkit                     3.0.18\n",
      "psutil                             5.8.0\n",
      "psycopg2                           2.7.7\n",
      "psycopg2-binary                    2.9.1\n",
      "ptyprocess                         0.7.0\n",
      "py                                 1.10.0\n",
      "py3nvml                            0.2.6\n",
      "py4j                               0.10.9\n",
      "pyarrow                            4.0.1\n",
      "pyasn1                             0.4.8\n",
      "PyAutoGUI                          0.9.53\n",
      "pycodestyle                        2.6.0\n",
      "pycparser                          2.20\n",
      "pyct                               0.4.8\n",
      "pydocstyle                         6.1.1\n",
      "pyflakes                           2.2.0\n",
      "PyGetWindow                        0.0.9\n",
      "Pygments                           2.9.0\n",
      "PyGObject                          3.28.3\n",
      "pylint                             2.9.0\n",
      "pyls-black                         0.4.7\n",
      "pyls-spyder                        0.3.2\n",
      "PyMsgBox                           1.0.9\n",
      "PyNaCl                             1.4.0\n",
      "pyocclient                         0.6\n",
      "pyOpenSSL                          20.0.1\n",
      "pyparsing                          2.4.7\n",
      "pyperclip                          1.8.2\n",
      "PyQt5                              5.12.3\n",
      "PyQt5-sip                          12.9.0\n",
      "PyQtWebEngine                      5.12.1\n",
      "pyreadline                         2.1\n",
      "PyRect                             0.1.4\n",
      "pyrsistent                         0.17.3\n",
      "PyScreeze                          0.1.28\n",
      "PySocks                            1.7.1\n",
      "pyspark                            3.1.2\n",
      "pytest                             6.2.4\n",
      "python-crontab                     2.5.1\n",
      "python-dateutil                    2.8.1\n",
      "python-editor                      1.0.4\n",
      "python-json-logger                 2.0.1\n",
      "python-jsonrpc-server              0.4.0\n",
      "python-language-server             0.36.2\n",
      "python-linux-procfs                0.6.3\n",
      "python-pptx                        0.6.21\n",
      "python-slugify                     5.0.2\n",
      "python3-xlib                       0.15\n",
      "pytweening                         1.0.4\n",
      "pytz                               2021.1\n",
      "pyudev                             0.21.0\n",
      "pyviz-comms                        2.0.2\n",
      "PyWavelets                         1.1.1\n",
      "pywin32-ctypes                     0.2.0\n",
      "pyxdg                              0.27\n",
      "PyYAML                             5.4.1\n",
      "pyzmq                              22.1.0\n",
      "QDarkStyle                         3.0.2\n",
      "qgrid                              1.3.1\n",
      "qstylizer                          0.2.0\n",
      "QtAwesome                          1.0.3\n",
      "qtconsole                          5.1.0\n",
      "QtPy                               1.9.0\n",
      "regex                              2021.4.4\n",
      "requests                           2.25.1\n",
      "retrying                           1.3.3\n",
      "rope                               0.19.0\n",
      "rpm                                4.14.3\n",
      "Rtree                              0.9.7\n",
      "ruamel.yaml                        0.17.7\n",
      "ruamel.yaml.clib                   0.2.2\n",
      "schedutils                         0.6\n",
      "scikit-image                       0.17.2\n",
      "scikit-learn                       0.24.2\n",
      "scipy                              1.5.4\n",
      "seaborn                            0.11.1\n",
      "SecretStorage                      3.3.1\n",
      "selinux                            2.9\n",
      "Send2Trash                         1.5.0\n",
      "sepolicy                           1.1\n",
      "setools                            4.3.0\n",
      "setuptools                         39.2.0\n",
      "simplegeneric                      0.8.1\n",
      "simplejson                         3.17.2\n",
      "singledispatch                     3.6.2\n",
      "sip                                6.1.1\n",
      "six                                1.11.0\n",
      "slip                               0.6.4\n",
      "slip.dbus                          0.6.4\n",
      "smmap                              4.0.0\n",
      "sniffio                            1.2.0\n",
      "snowballstemmer                    2.1.0\n",
      "sortedcollections                  2.1.0\n",
      "sortedcontainers                   2.4.0\n",
      "soupsieve                          2.2.1\n",
      "Sphinx                             4.0.2\n",
      "sphinxcontrib-applehelp            1.0.2\n",
      "sphinxcontrib-devhelp              1.0.2\n",
      "sphinxcontrib-htmlhelp             2.0.0\n",
      "sphinxcontrib-jsmath               1.0.1\n",
      "sphinxcontrib-qthelp               1.0.3\n",
      "sphinxcontrib-serializinghtml      1.1.5\n",
      "sphinxcontrib-websupport           1.2.4\n",
      "spyder                             5.0.5\n",
      "spyder-kernels                     2.0.4\n",
      "SQLAlchemy                         1.4.25\n",
      "sqlparse                           0.4.1\n",
      "SSSDConfig                         2.4.0\n",
      "statsmodels                        0.12.2\n",
      "sympy                              1.8\n",
      "syspurpose                         1.28.16\n",
      "tables                             3.6.1\n",
      "tbb                                2021.3.0\n",
      "tbb4py                             2021.3.0\n",
      "tblib                              1.7.0\n",
      "tenacity                           7.0.0\n",
      "termcolor                          1.1.0\n",
      "terminado                          0.10.0\n",
      "testpath                           0.5.0\n",
      "text-unidecode                     1.3\n",
      "textdistance                       4.2.1\n",
      "textwrap3                          0.9.2\n",
      "threadpoolctl                      2.1.0\n",
      "three-merge                        0.1.1\n",
      "tifffile                           2020.9.3\n",
      "tinycss2                           1.1.0\n",
      "toml                               0.10.2\n",
      "toolz                              0.11.1\n",
      "tornado                            6.1\n",
      "tqdm                               4.61.1\n",
      "traitlets                          4.3.3\n",
      "traittypes                         0.2.1\n",
      "typed-ast                          1.4.3\n",
      "typing-extensions                  3.10.0.0\n",
      "ujson                              4.0.2\n",
      "unicodecsv                         0.14.1\n",
      "urllib3                            1.26.5\n",
      "watchdog                           2.1.3\n",
      "wcwidth                            0.2.5\n",
      "webencodings                       0.5.1\n",
      "websocket-client                   1.0.1\n",
      "Werkzeug                           2.0.1\n",
      "wheel                              0.36.2\n",
      "widgetsnbextension                 3.5.1\n",
      "win-inet-pton                      1.1.0\n",
      "win-unicode-console                0.5\n",
      "wincertstore                       0.2\n",
      "wrapt                              1.12.1\n",
      "wurlitzer                          2.1.0\n",
      "xeus-python                        0.9.1\n",
      "xlrd                               2.0.1\n",
      "XlsxWriter                         1.4.3\n",
      "xlwings                            0.2.3\n",
      "xlwt                               1.3.0\n",
      "xmltodict                          0.12.0\n",
      "yapf                               0.31.0\n",
      "yolk3k                             0.9\n",
      "zict                               2.0.0\n",
      "zipp                               3.4.1\n",
      "zope.event                         4.5.0\n",
      "zope.interface                     5.4.0\n"
     ]
    }
   ],
   "source": [
    "!pip list"
   ]
  },
  {
   "cell_type": "code",
   "execution_count": null,
   "id": "20d19bce",
   "metadata": {},
   "outputs": [],
   "source": []
  },
  {
   "cell_type": "code",
   "execution_count": null,
   "id": "d0f8840c",
   "metadata": {},
   "outputs": [],
   "source": []
  },
  {
   "cell_type": "code",
   "execution_count": null,
   "id": "fc9d930c",
   "metadata": {},
   "outputs": [],
   "source": []
  },
  {
   "cell_type": "code",
   "execution_count": null,
   "id": "93c8b954",
   "metadata": {},
   "outputs": [],
   "source": []
  }
 ],
 "metadata": {
  "hide_input": false,
  "kernelspec": {
   "display_name": "Python 3",
   "language": "python",
   "name": "python3"
  },
  "language_info": {
   "codemirror_mode": {
    "name": "ipython",
    "version": 3
   },
   "file_extension": ".py",
   "mimetype": "text/x-python",
   "name": "python",
   "nbconvert_exporter": "python",
   "pygments_lexer": "ipython3",
   "version": "3.6.8"
  },
  "toc": {
   "base_numbering": 1,
   "nav_menu": {},
   "number_sections": false,
   "sideBar": false,
   "skip_h1_title": false,
   "title_cell": "Table of Contents",
   "title_sidebar": "Contents",
   "toc_cell": false,
   "toc_position": {},
   "toc_section_display": false,
   "toc_window_display": false
  },
  "varInspector": {
   "cols": {
    "lenName": 16,
    "lenType": 16,
    "lenVar": 40
   },
   "kernels_config": {
    "python": {
     "delete_cmd_postfix": "",
     "delete_cmd_prefix": "del ",
     "library": "var_list.py",
     "varRefreshCmd": "print(var_dic_list())"
    },
    "r": {
     "delete_cmd_postfix": ") ",
     "delete_cmd_prefix": "rm(",
     "library": "var_list.r",
     "varRefreshCmd": "cat(var_dic_list()) "
    }
   },
   "types_to_exclude": [
    "module",
    "function",
    "builtin_function_or_method",
    "instance",
    "_Feature"
   ],
   "window_display": false
  }
 },
 "nbformat": 4,
 "nbformat_minor": 5
}
