{
 "cells": [
  {
   "cell_type": "markdown",
   "id": "c7d69a65",
   "metadata": {
    "ExecuteTime": {
     "end_time": "2021-07-06T09:20:33.053823Z",
     "start_time": "2021-07-06T09:20:33.046273Z"
    }
   },
   "source": [
    "# pip install"
   ]
  },
  {
   "cell_type": "code",
   "execution_count": 5,
   "id": "7eefd487",
   "metadata": {
    "ExecuteTime": {
     "end_time": "2021-07-06T08:56:43.872173Z",
     "start_time": "2021-07-06T08:56:43.837024Z"
    }
   },
   "outputs": [
    {
     "name": "stdout",
     "output_type": "stream",
     "text": [
      "\n",
      " /home/slebedev/ \n",
      " /home/slebedev/share/_DATA/ \n",
      " 2017-01-01 \n",
      " 2021-07-06 \n",
      "\n"
     ]
    }
   ],
   "source": [
    "# magic\n",
    "############################################################\n",
    "\n",
    "# magic не запускаются с посмощью run !! поэтому отдельно будут тут! # %magic # посмотреть список magic команд\n",
    "%matplotlib inline\n",
    "\n",
    "\n",
    "# run files\n",
    "%run /home/slebedev/\"_Additions\"/Imports_Formats.py\n",
    "\n",
    "%run /home/slebedev/\"_Additions\"/Connecting_bi_admin.py\n",
    "\n",
    "%run /home/slebedev/\"_Additions\"/Date_gen.py\n",
    "\n",
    "%run /home/slebedev/\"_Additions\"/xx.py\n",
    "\n",
    "\n",
    "############################## End ##############################\n",
    "print( '\\n'\n",
    ",abs_path, '\\n'\n",
    "# ,path_sql_files, '\\n'\n",
    ",path_OUT_dbDATA, '\\n'     \n",
    ",date_start, '\\n' \n",
    ",date_end, '\\n' \n",
    ")"
   ]
  },
  {
   "cell_type": "code",
   "execution_count": 42,
   "id": "f8be18cf",
   "metadata": {
    "ExecuteTime": {
     "end_time": "2021-07-06T09:24:32.821076Z",
     "start_time": "2021-07-06T09:24:06.086510Z"
    }
   },
   "outputs": [
    {
     "name": "stdout",
     "output_type": "stream",
     "text": [
      "pip install sys\n",
      "1\n",
      "Обычные пакеты сайта не могут быть записаны, так как они уже предустановлены\n",
      "\n",
      "pip install dateutil\n",
      "1\n",
      "Обычные пакеты сайта не могут быть записаны, так как они уже предустановлены\n",
      "\n",
      "pip install os\n",
      "1\n",
      "Обычные пакеты сайта не могут быть записаны, так как они уже предустановлены\n",
      "\n",
      "pip install datetime\n",
      "0\n",
      "Идет установка недостающей библиотеке! Пожалуйста ожидайте \n",
      "(Defaulting to user installation because normal site-packages is not writeable)\n",
      "\n",
      "pip install getpass\n",
      "1\n",
      "Обычные пакеты сайта не могут быть записаны, так как они уже предустановлены\n",
      "\n",
      "pip install time\n",
      "1\n",
      "Обычные пакеты сайта не могут быть записаны, так как они уже предустановлены\n",
      "\n",
      "pip install glob\n",
      "1\n",
      "Обычные пакеты сайта не могут быть записаны, так как они уже предустановлены\n",
      "\n"
     ]
    }
   ],
   "source": [
    "# list импортируемых либ\n",
    "with open( 'Imports_Formats.py','r') as Imports_Formats_f:\n",
    "        Imports_Formats_f= Imports_Formats_f.read()\n",
    "imports_list = [ j.split(' ')[1].split('.')[0] for j in Imports_Formats_f.split('\\n') if 'import' in j or 'from' in j]\n",
    "imports_list\n",
    "\n",
    "# ЕСЛИ либы нет то установить можно так ! (проверить вывод пип лист и если нет то добваить либу а потом ее импортить)\n",
    "# subprocess.call( 'pip install pandas', shell=True )\n",
    "pip_list = [ j.split(' ')[0] for j in str(subprocess.check_output( 'pip list', shell=True )).split('\\\\n') ]\n",
    "pip_list\n",
    "\n",
    "for j in set([j for j in imports_list if j not in pip_list]):\n",
    "    print( f'pip install {j}' )\n",
    "    subprocess.call( f'pip install {j}', shell=True )\n",
    "    print( subprocess.call( f'pip install {j}', shell=True ) )\n",
    "    print( 'Идет установка недостающей библиотеке! Пожалуйста ожидайте \\n(Defaulting to user installation because normal site-packages is not writeable)\\n' \\\n",
    "        if subprocess.call( f'pip install {j}', shell=True ) == 0 else 'Обычные пакеты сайта не могут быть записаны, так как они уже предустановлены\\n')\n",
    "    "
   ]
  },
  {
   "cell_type": "code",
   "execution_count": null,
   "id": "a34532d4",
   "metadata": {
    "ExecuteTime": {
     "end_time": "2021-07-06T09:24:04.752523Z",
     "start_time": "2021-07-06T09:23:55.124Z"
    }
   },
   "outputs": [],
   "source": [
    "# !pip list"
   ]
  },
  {
   "cell_type": "code",
   "execution_count": null,
   "id": "13a3bf37",
   "metadata": {},
   "outputs": [],
   "source": []
  }
 ],
 "metadata": {
  "hide_input": false,
  "kernelspec": {
   "display_name": "Python 3",
   "language": "python",
   "name": "python3"
  },
  "language_info": {
   "codemirror_mode": {
    "name": "ipython",
    "version": 3
   },
   "file_extension": ".py",
   "mimetype": "text/x-python",
   "name": "python",
   "nbconvert_exporter": "python",
   "pygments_lexer": "ipython3",
   "version": "3.6.8"
  },
  "toc": {
   "base_numbering": 1,
   "nav_menu": {},
   "number_sections": false,
   "sideBar": false,
   "skip_h1_title": false,
   "title_cell": "Table of Contents",
   "title_sidebar": "Contents",
   "toc_cell": false,
   "toc_position": {
    "height": "1012px",
    "left": "0px",
    "top": "162px",
    "width": "249px"
   },
   "toc_section_display": true,
   "toc_window_display": true
  },
  "varInspector": {
   "cols": {
    "lenName": 16,
    "lenType": 16,
    "lenVar": 40
   },
   "kernels_config": {
    "python": {
     "delete_cmd_postfix": "",
     "delete_cmd_prefix": "del ",
     "library": "var_list.py",
     "varRefreshCmd": "print(var_dic_list())"
    },
    "r": {
     "delete_cmd_postfix": ") ",
     "delete_cmd_prefix": "rm(",
     "library": "var_list.r",
     "varRefreshCmd": "cat(var_dic_list()) "
    }
   },
   "types_to_exclude": [
    "module",
    "function",
    "builtin_function_or_method",
    "instance",
    "_Feature"
   ],
   "window_display": false
  }
 },
 "nbformat": 4,
 "nbformat_minor": 5
}
