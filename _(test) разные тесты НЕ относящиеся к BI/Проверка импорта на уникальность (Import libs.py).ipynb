{
 "cells": [
  {
   "cell_type": "code",
   "execution_count": 10,
   "id": "d991b95e",
   "metadata": {
    "ExecuteTime": {
     "end_time": "2021-10-28T10:12:21.423209Z",
     "start_time": "2021-10-28T10:12:21.418364Z"
    }
   },
   "outputs": [
    {
     "data": {
      "text/plain": [
       "'/srv/jhub/share/._Additions/Import_libs.py'"
      ]
     },
     "execution_count": 10,
     "metadata": {},
     "output_type": "execute_result"
    }
   ],
   "source": [
    "\n",
    "exec_f_path = [ str(j) for j in Path( r'/srv/jhub/share/._Additions/' ).glob(\"**/*mport_lib*\") ] [0] \n",
    "exec_f_path"
   ]
  },
  {
   "cell_type": "code",
   "execution_count": 34,
   "id": "5467fe44",
   "metadata": {
    "ExecuteTime": {
     "end_time": "2021-10-28T10:23:55.766119Z",
     "start_time": "2021-10-28T10:23:55.754395Z"
    },
    "scrolled": false
   },
   "outputs": [
    {
     "name": "stdout",
     "output_type": "stream",
     "text": [
      "from IPython.core.display import display, HTML\n",
      "from IPython.core.pylabtools import figsize\n",
      "from IPython.display import display\n",
      "from bs4 import BeautifulSoup\n",
      "from collections import Mapping, Container\n",
      "from datetime import  date\n",
      "from datetime import date, datetime, timedelta\n",
      "from datetime import datetime\n",
      "from dateutil.relativedelta import relativedelta\n",
      "from ipywidgets import *\n",
      "from ipywidgets import ToggleButton\n",
      "from pandas.io.formats.style import Styler\n",
      "from pathlib import Path\n",
      "from sys import getsizeof\n",
      "from termcolor import colored\n",
      "from tqdm import tqdm\n",
      "import IPython\n",
      "import datasize\n",
      "import datetime\n",
      "import gc\n",
      "import getpass\n",
      "import glob\n",
      "import ipywidgets as widgets\n",
      "import json\n",
      "import logging\n",
      "import matplotlib\n",
      "import matplotlib.pyplot as plt\n",
      "import numpy as np\n",
      "import os\n",
      "import owncloud\n",
      "import pandas as pd\n",
      "import plotly.express as px\n",
      "import plotly.graph_objects as go\n",
      "import plotly.graph_objs as go\n",
      "import plotly.offline as py\n",
      "import plotly_express as px\n",
      "import psycopg2\n",
      "import requests\n",
      "import seaborn as sns\n",
      "import subprocess\n",
      "import sys\n",
      "import time\n"
     ]
    }
   ],
   "source": [
    "import pandas as pd\n",
    "[ print(j) for j in  sorted(list(set(pd.read_fwf(exec_f_path).iloc[:,0].unique()))) if '#' not in j and '=' not in j ];"
   ]
  },
  {
   "cell_type": "code",
   "execution_count": null,
   "id": "f68359b1",
   "metadata": {},
   "outputs": [],
   "source": []
  }
 ],
 "metadata": {
  "hide_input": false,
  "kernelspec": {
   "display_name": "Python 3",
   "language": "python",
   "name": "python3"
  },
  "language_info": {
   "codemirror_mode": {
    "name": "ipython",
    "version": 3
   },
   "file_extension": ".py",
   "mimetype": "text/x-python",
   "name": "python",
   "nbconvert_exporter": "python",
   "pygments_lexer": "ipython3",
   "version": "3.6.8"
  },
  "toc": {
   "base_numbering": 1,
   "nav_menu": {},
   "number_sections": false,
   "sideBar": false,
   "skip_h1_title": false,
   "title_cell": "Table of Contents",
   "title_sidebar": "Contents",
   "toc_cell": false,
   "toc_position": {},
   "toc_section_display": false,
   "toc_window_display": false
  },
  "varInspector": {
   "cols": {
    "lenName": 16,
    "lenType": 16,
    "lenVar": 40
   },
   "kernels_config": {
    "python": {
     "delete_cmd_postfix": "",
     "delete_cmd_prefix": "del ",
     "library": "var_list.py",
     "varRefreshCmd": "print(var_dic_list())"
    },
    "r": {
     "delete_cmd_postfix": ") ",
     "delete_cmd_prefix": "rm(",
     "library": "var_list.r",
     "varRefreshCmd": "cat(var_dic_list()) "
    }
   },
   "types_to_exclude": [
    "module",
    "function",
    "builtin_function_or_method",
    "instance",
    "_Feature"
   ],
   "window_display": false
  }
 },
 "nbformat": 4,
 "nbformat_minor": 5
}
