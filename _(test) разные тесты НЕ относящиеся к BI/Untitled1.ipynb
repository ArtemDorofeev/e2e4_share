{
 "cells": [
  {
   "cell_type": "code",
   "execution_count": 32,
   "id": "66fb341c",
   "metadata": {
    "ExecuteTime": {
     "end_time": "2022-09-14T04:05:37.419371Z",
     "start_time": "2022-09-14T04:05:37.365732Z"
    }
   },
   "outputs": [
    {
     "data": {
      "text/html": [
       "<div>\n",
       "<style scoped>\n",
       "    .dataframe tbody tr th:only-of-type {\n",
       "        vertical-align: middle;\n",
       "    }\n",
       "\n",
       "    .dataframe tbody tr th {\n",
       "        vertical-align: top;\n",
       "    }\n",
       "\n",
       "    .dataframe thead th {\n",
       "        text-align: right;\n",
       "    }\n",
       "</style>\n",
       "<table border=\"1\" class=\"dataframe\">\n",
       "  <thead>\n",
       "    <tr style=\"text-align: right;\">\n",
       "      <th></th>\n",
       "      <th>start</th>\n",
       "      <th>end</th>\n",
       "    </tr>\n",
       "  </thead>\n",
       "  <tbody>\n",
       "    <tr>\n",
       "      <th>0</th>\n",
       "      <td>2017-01-02</td>\n",
       "      <td>2017-01-01</td>\n",
       "    </tr>\n",
       "    <tr>\n",
       "      <th>1</th>\n",
       "      <td>2017-01-03</td>\n",
       "      <td>2017-01-02</td>\n",
       "    </tr>\n",
       "    <tr>\n",
       "      <th>2</th>\n",
       "      <td>2017-01-04</td>\n",
       "      <td>2017-01-03</td>\n",
       "    </tr>\n",
       "    <tr>\n",
       "      <th>3</th>\n",
       "      <td>2017-01-05</td>\n",
       "      <td>2017-01-04</td>\n",
       "    </tr>\n",
       "    <tr>\n",
       "      <th>4</th>\n",
       "      <td>2017-01-06</td>\n",
       "      <td>2017-01-05</td>\n",
       "    </tr>\n",
       "    <tr>\n",
       "      <th>...</th>\n",
       "      <td>...</td>\n",
       "      <td>...</td>\n",
       "    </tr>\n",
       "    <tr>\n",
       "      <th>2078</th>\n",
       "      <td>2022-09-11</td>\n",
       "      <td>2022-09-10</td>\n",
       "    </tr>\n",
       "    <tr>\n",
       "      <th>2079</th>\n",
       "      <td>2022-09-12</td>\n",
       "      <td>2022-09-11</td>\n",
       "    </tr>\n",
       "    <tr>\n",
       "      <th>2080</th>\n",
       "      <td>2022-09-13</td>\n",
       "      <td>2022-09-12</td>\n",
       "    </tr>\n",
       "    <tr>\n",
       "      <th>2081</th>\n",
       "      <td>2022-09-14</td>\n",
       "      <td>2022-09-13</td>\n",
       "    </tr>\n",
       "    <tr>\n",
       "      <th>2082</th>\n",
       "      <td>2022-09-15</td>\n",
       "      <td>2022-09-14</td>\n",
       "    </tr>\n",
       "  </tbody>\n",
       "</table>\n",
       "<p>2083 rows × 2 columns</p>\n",
       "</div>"
      ],
      "text/plain": [
       "           start         end\n",
       "0     2017-01-02  2017-01-01\n",
       "1     2017-01-03  2017-01-02\n",
       "2     2017-01-04  2017-01-03\n",
       "3     2017-01-05  2017-01-04\n",
       "4     2017-01-06  2017-01-05\n",
       "...          ...         ...\n",
       "2078  2022-09-11  2022-09-10\n",
       "2079  2022-09-12  2022-09-11\n",
       "2080  2022-09-13  2022-09-12\n",
       "2081  2022-09-14  2022-09-13\n",
       "2082  2022-09-15  2022-09-14\n",
       "\n",
       "[2083 rows x 2 columns]"
      ]
     },
     "execution_count": 32,
     "metadata": {},
     "output_type": "execute_result"
    }
   ],
   "source": [
    "# months\n",
    "\n",
    "from os import getcwd\n",
    "from pathlib import Path\n",
    "#  glob.glob('path', recursive=True)\n",
    "# определяет путь ЮЗЕРОВ (не админа) до mport_lib !даже если папка скрытая (точка спереди)! \n",
    "user_path = '/'.join(getcwd().split('/')[:4])\n",
    "admin_path = '/'.join(getcwd().split('/')[:3])\n",
    "exec_f_path = [ str(j) for j in Path( '/srv/jhub' ).glob(\"**/*mport_lib*\") ] [0] \n",
    "with open( exec_f_path,'r') as exec_f:\n",
    "        exec(exec_f.read())\n",
    "        \n",
    "        \n",
    "        \n",
    "        \n",
    "        \n",
    "date_start = '2017-01-01' # какие года от до\n",
    "date_end = (pd.Timestamp.now()).strftime( '%Y-%m-%d' ) # '2021-01-15'\n",
    "\n",
    "\n",
    "df_date_d = pd.DataFrame({'end':pd.date_range(date_start, date_end, freq='d')}) \n",
    "df_date_d['start'] = df_date_d['end'] + pd.offsets.Day(1) \n",
    "df_date_d = df_date_d[['start','end']]\n",
    "# df_date_d = df_date_d.applymap(lambda x: datetime.strptime(x, '%Y-%m-%d') )  # надо тип стриндгу не дату \n",
    "df_date_d = df_date_d.applymap(lambda x:  x.strftime('%Y-%m-%d') )\n",
    "\n",
    "# for i in df_date_d.iloc[-8:-7,:].values:\n",
    "#     print(f'{i[0]} || {i[1]}')\n",
    "# df_date_d"
   ]
  },
  {
   "cell_type": "code",
   "execution_count": 14,
   "id": "f18e98fc",
   "metadata": {
    "ExecuteTime": {
     "end_time": "2022-09-14T04:00:54.575130Z",
     "start_time": "2022-09-14T04:00:54.562947Z"
    }
   },
   "outputs": [
    {
     "data": {
      "text/html": [
       "<div>\n",
       "<style scoped>\n",
       "    .dataframe tbody tr th:only-of-type {\n",
       "        vertical-align: middle;\n",
       "    }\n",
       "\n",
       "    .dataframe tbody tr th {\n",
       "        vertical-align: top;\n",
       "    }\n",
       "\n",
       "    .dataframe thead th {\n",
       "        text-align: right;\n",
       "    }\n",
       "</style>\n",
       "<table border=\"1\" class=\"dataframe\">\n",
       "  <thead>\n",
       "    <tr style=\"text-align: right;\">\n",
       "      <th></th>\n",
       "      <th>end</th>\n",
       "      <th>start</th>\n",
       "    </tr>\n",
       "  </thead>\n",
       "  <tbody>\n",
       "    <tr>\n",
       "      <th>0</th>\n",
       "      <td>2017-01-01</td>\n",
       "      <td>2017-01-02</td>\n",
       "    </tr>\n",
       "    <tr>\n",
       "      <th>1</th>\n",
       "      <td>2017-01-02</td>\n",
       "      <td>2017-01-03</td>\n",
       "    </tr>\n",
       "    <tr>\n",
       "      <th>2</th>\n",
       "      <td>2017-01-03</td>\n",
       "      <td>2017-01-04</td>\n",
       "    </tr>\n",
       "    <tr>\n",
       "      <th>3</th>\n",
       "      <td>2017-01-04</td>\n",
       "      <td>2017-01-05</td>\n",
       "    </tr>\n",
       "    <tr>\n",
       "      <th>4</th>\n",
       "      <td>2017-01-05</td>\n",
       "      <td>2017-01-06</td>\n",
       "    </tr>\n",
       "    <tr>\n",
       "      <th>...</th>\n",
       "      <td>...</td>\n",
       "      <td>...</td>\n",
       "    </tr>\n",
       "    <tr>\n",
       "      <th>2443</th>\n",
       "      <td>2023-09-10</td>\n",
       "      <td>2023-09-11</td>\n",
       "    </tr>\n",
       "    <tr>\n",
       "      <th>2444</th>\n",
       "      <td>2023-09-11</td>\n",
       "      <td>2023-09-12</td>\n",
       "    </tr>\n",
       "    <tr>\n",
       "      <th>2445</th>\n",
       "      <td>2023-09-12</td>\n",
       "      <td>2023-09-13</td>\n",
       "    </tr>\n",
       "    <tr>\n",
       "      <th>2446</th>\n",
       "      <td>2023-09-13</td>\n",
       "      <td>2023-09-14</td>\n",
       "    </tr>\n",
       "    <tr>\n",
       "      <th>2447</th>\n",
       "      <td>2023-09-14</td>\n",
       "      <td>2023-09-15</td>\n",
       "    </tr>\n",
       "  </tbody>\n",
       "</table>\n",
       "<p>2448 rows × 2 columns</p>\n",
       "</div>"
      ],
      "text/plain": [
       "            end      start\n",
       "0    2017-01-01 2017-01-02\n",
       "1    2017-01-02 2017-01-03\n",
       "2    2017-01-03 2017-01-04\n",
       "3    2017-01-04 2017-01-05\n",
       "4    2017-01-05 2017-01-06\n",
       "...         ...        ...\n",
       "2443 2023-09-10 2023-09-11\n",
       "2444 2023-09-11 2023-09-12\n",
       "2445 2023-09-12 2023-09-13\n",
       "2446 2023-09-13 2023-09-14\n",
       "2447 2023-09-14 2023-09-15\n",
       "\n",
       "[2448 rows x 2 columns]"
      ]
     },
     "execution_count": 14,
     "metadata": {},
     "output_type": "execute_result"
    }
   ],
   "source": [
    "# df_date_m = pd.DataFrame({'end':pd.date_range(date_start, date_end, freq='d')}) \n",
    "\n",
    "df_date_m['start'] = df_date_m['end'] + pd.offsets.Day(1) \n",
    "df_date_m"
   ]
  },
  {
   "cell_type": "code",
   "execution_count": 13,
   "id": "2027ddb7",
   "metadata": {
    "ExecuteTime": {
     "end_time": "2022-09-14T04:00:46.319690Z",
     "start_time": "2022-09-14T04:00:46.312479Z"
    }
   },
   "outputs": [
    {
     "data": {
      "text/plain": [
       "0      2017-01-02\n",
       "1      2017-01-03\n",
       "2      2017-01-04\n",
       "3      2017-01-05\n",
       "4      2017-01-06\n",
       "          ...    \n",
       "2443   2023-09-11\n",
       "2444   2023-09-12\n",
       "2445   2023-09-13\n",
       "2446   2023-09-14\n",
       "2447   2023-09-15\n",
       "Name: end, Length: 2448, dtype: datetime64[ns]"
      ]
     },
     "execution_count": 13,
     "metadata": {},
     "output_type": "execute_result"
    }
   ],
   "source": [
    "df_date_m['end'] + pd.offsets.Day(1)"
   ]
  },
  {
   "cell_type": "code",
   "execution_count": null,
   "id": "bb6224a4",
   "metadata": {},
   "outputs": [],
   "source": []
  },
  {
   "cell_type": "code",
   "execution_count": null,
   "id": "75a3c269",
   "metadata": {},
   "outputs": [],
   "source": []
  },
  {
   "cell_type": "code",
   "execution_count": null,
   "id": "37a984b3",
   "metadata": {},
   "outputs": [],
   "source": []
  },
  {
   "cell_type": "code",
   "execution_count": null,
   "id": "53e2fbca",
   "metadata": {},
   "outputs": [],
   "source": []
  },
  {
   "cell_type": "code",
   "execution_count": null,
   "id": "2ad57ba9",
   "metadata": {},
   "outputs": [],
   "source": []
  },
  {
   "cell_type": "code",
   "execution_count": null,
   "id": "ee0db524",
   "metadata": {},
   "outputs": [],
   "source": []
  },
  {
   "cell_type": "code",
   "execution_count": null,
   "id": "53b1e878",
   "metadata": {},
   "outputs": [],
   "source": []
  },
  {
   "cell_type": "code",
   "execution_count": null,
   "id": "4d513cc6",
   "metadata": {},
   "outputs": [],
   "source": []
  },
  {
   "cell_type": "code",
   "execution_count": null,
   "id": "5baa2f9f",
   "metadata": {},
   "outputs": [],
   "source": []
  },
  {
   "cell_type": "code",
   "execution_count": null,
   "id": "1aec9520",
   "metadata": {},
   "outputs": [],
   "source": []
  },
  {
   "cell_type": "code",
   "execution_count": null,
   "id": "bdf390b4",
   "metadata": {},
   "outputs": [],
   "source": []
  },
  {
   "cell_type": "code",
   "execution_count": null,
   "id": "3cc463e4",
   "metadata": {},
   "outputs": [],
   "source": []
  },
  {
   "cell_type": "code",
   "execution_count": null,
   "id": "56e20a3e",
   "metadata": {},
   "outputs": [],
   "source": []
  },
  {
   "cell_type": "code",
   "execution_count": null,
   "id": "5204ce88",
   "metadata": {},
   "outputs": [],
   "source": []
  },
  {
   "cell_type": "code",
   "execution_count": null,
   "id": "b90febbb",
   "metadata": {},
   "outputs": [],
   "source": []
  },
  {
   "cell_type": "code",
   "execution_count": null,
   "id": "bde61301",
   "metadata": {},
   "outputs": [],
   "source": []
  }
 ],
 "metadata": {
  "hide_input": false,
  "kernelspec": {
   "display_name": "python39-spark-conda",
   "language": "python",
   "name": "python39-spark-conda"
  },
  "language_info": {
   "codemirror_mode": {
    "name": "ipython",
    "version": 3
   },
   "file_extension": ".py",
   "mimetype": "text/x-python",
   "name": "python",
   "nbconvert_exporter": "python",
   "pygments_lexer": "ipython3",
   "version": "3.9.7"
  },
  "toc": {
   "base_numbering": 1,
   "nav_menu": {},
   "number_sections": false,
   "sideBar": false,
   "skip_h1_title": false,
   "title_cell": "Table of Contents",
   "title_sidebar": "Contents",
   "toc_cell": false,
   "toc_position": {},
   "toc_section_display": false,
   "toc_window_display": false
  },
  "varInspector": {
   "cols": {
    "lenName": 16,
    "lenType": 16,
    "lenVar": 40
   },
   "kernels_config": {
    "python": {
     "delete_cmd_postfix": "",
     "delete_cmd_prefix": "del ",
     "library": "var_list.py",
     "varRefreshCmd": "print(var_dic_list())"
    },
    "r": {
     "delete_cmd_postfix": ") ",
     "delete_cmd_prefix": "rm(",
     "library": "var_list.r",
     "varRefreshCmd": "cat(var_dic_list()) "
    }
   },
   "types_to_exclude": [
    "module",
    "function",
    "builtin_function_or_method",
    "instance",
    "_Feature"
   ],
   "window_display": false
  }
 },
 "nbformat": 4,
 "nbformat_minor": 5
}
