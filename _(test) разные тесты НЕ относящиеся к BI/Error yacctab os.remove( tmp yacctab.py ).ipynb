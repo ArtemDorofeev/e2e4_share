{
 "cells": [
  {
   "cell_type": "markdown",
   "id": "e48580a4",
   "metadata": {
    "ExecuteTime": {
     "end_time": "2021-10-04T07:31:31.796860Z",
     "start_time": "2021-10-04T07:31:31.793423Z"
    }
   },
   "source": [
    "# Error yacctab os.remove( tmp yacctab.py )"
   ]
  },
  {
   "cell_type": "code",
   "execution_count": null,
   "id": "7d7e4c3f",
   "metadata": {},
   "outputs": [],
   "source": [
    "# https://github.com/dunovank/jupyter-themes/issues/76\n",
    "# Error message as [Errno 13] Permission denied: '/tmp/yacctab.py' #76"
   ]
  },
  {
   "cell_type": "markdown",
   "id": "62386936",
   "metadata": {
    "ExecuteTime": {
     "end_time": "2021-10-04T07:29:28.974203Z",
     "start_time": "2021-10-04T07:29:28.968818Z"
    }
   },
   "source": [
    "Это распространенная проблема в многопользовательской среде: jt -t somethemeоставляет /tmp/yacctab.py сзади, принадлежит пользователю, который вызвал команду.\n",
    "\n",
    "Если затем другой пользователь попытается запустить <jt-t>, вызов <jt -t> lesscpy.compile(tempfile)в stylefx.py произойдет сбой, пока исходный владелец (или администратор) не удалит файл.\n",
    "\n",
    "Так что проблема на самом деле в пакете lesscpy для того, чтобы оставлять временные файлы поблизости.\n",
    "Но в качестве обходного пути, пока он не будет исправлен, os.remove(\"/tmp/yacctab.py\")после вызова lesscpy.compile выполнит эту работу."
   ]
  },
  {
   "cell_type": "code",
   "execution_count": 3,
   "id": "88db3cbb",
   "metadata": {
    "ExecuteTime": {
     "end_time": "2021-10-04T07:31:53.913546Z",
     "start_time": "2021-10-04T07:31:53.870615Z"
    }
   },
   "outputs": [
    {
     "ename": "PermissionError",
     "evalue": "[Errno 1] Operation not permitted: '/tmp/yacctab.py'",
     "output_type": "error",
     "traceback": [
      "\u001b[0;31m---------------------------------------------------------------------------\u001b[0m",
      "\u001b[0;31mPermissionError\u001b[0m                           Traceback (most recent call last)",
      "\u001b[0;32m<ipython-input-3-b079a6e9e2c5>\u001b[0m in \u001b[0;36m<module>\u001b[0;34m\u001b[0m\n\u001b[1;32m      1\u001b[0m \u001b[0;32mimport\u001b[0m \u001b[0mos\u001b[0m\u001b[0;34m\u001b[0m\u001b[0;34m\u001b[0m\u001b[0m\n\u001b[0;32m----> 2\u001b[0;31m \u001b[0mos\u001b[0m\u001b[0;34m.\u001b[0m\u001b[0mremove\u001b[0m\u001b[0;34m(\u001b[0m\u001b[0;34m\"/tmp/yacctab.py\"\u001b[0m\u001b[0;34m)\u001b[0m\u001b[0;34m\u001b[0m\u001b[0;34m\u001b[0m\u001b[0m\n\u001b[0m",
      "\u001b[0;31mPermissionError\u001b[0m: [Errno 1] Operation not permitted: '/tmp/yacctab.py'"
     ]
    }
   ],
   "source": [
    "import os \n",
    "os.remove(\"/tmp/yacctab.py\")"
   ]
  },
  {
   "cell_type": "code",
   "execution_count": null,
   "id": "279628bc",
   "metadata": {
    "ExecuteTime": {
     "end_time": "2021-10-04T07:31:53.913546Z",
     "start_time": "2021-10-04T07:31:53.870615Z"
    }
   },
   "outputs": [],
   "source": []
  }
 ],
 "metadata": {
  "hide_input": false,
  "kernelspec": {
   "display_name": "Python 3",
   "language": "python",
   "name": "python3"
  },
  "language_info": {
   "codemirror_mode": {
    "name": "ipython",
    "version": 3
   },
   "file_extension": ".py",
   "mimetype": "text/x-python",
   "name": "python",
   "nbconvert_exporter": "python",
   "pygments_lexer": "ipython3",
   "version": "3.6.8"
  },
  "toc": {
   "base_numbering": 1,
   "nav_menu": {},
   "number_sections": true,
   "sideBar": true,
   "skip_h1_title": false,
   "title_cell": "Table of Contents",
   "title_sidebar": "Contents",
   "toc_cell": false,
   "toc_position": {},
   "toc_section_display": true,
   "toc_window_display": false
  },
  "varInspector": {
   "cols": {
    "lenName": 16,
    "lenType": 16,
    "lenVar": 40
   },
   "kernels_config": {
    "python": {
     "delete_cmd_postfix": "",
     "delete_cmd_prefix": "del ",
     "library": "var_list.py",
     "varRefreshCmd": "print(var_dic_list())"
    },
    "r": {
     "delete_cmd_postfix": ") ",
     "delete_cmd_prefix": "rm(",
     "library": "var_list.r",
     "varRefreshCmd": "cat(var_dic_list()) "
    }
   },
   "types_to_exclude": [
    "module",
    "function",
    "builtin_function_or_method",
    "instance",
    "_Feature"
   ],
   "window_display": false
  }
 },
 "nbformat": 4,
 "nbformat_minor": 5
}
