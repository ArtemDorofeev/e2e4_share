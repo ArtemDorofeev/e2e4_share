{
 "cells": [
  {
   "cell_type": "code",
   "execution_count": 36,
   "id": "00b50265",
   "metadata": {
    "ExecuteTime": {
     "end_time": "2021-10-11T06:07:13.911575Z",
     "start_time": "2021-10-11T06:07:13.902313Z"
    }
   },
   "outputs": [],
   "source": [
    "a = 3\n",
    "s = 345"
   ]
  },
  {
   "cell_type": "code",
   "execution_count": null,
   "id": "2091585c",
   "metadata": {
    "collapsed": true
   },
   "outputs": [],
   "source": [
    "# variable"
   ]
  },
  {
   "cell_type": "code",
   "execution_count": 34,
   "id": "37ff9077",
   "metadata": {
    "ExecuteTime": {
     "end_time": "2021-10-11T06:06:10.016196Z",
     "start_time": "2021-10-11T06:06:10.013561Z"
    }
   },
   "outputs": [],
   "source": [
    "# def def_cleaning(variable):\n",
    "#     for j in variable.keys():\n",
    "#         print( j, getsizeof(j) )\n",
    "#         try:\n",
    "#             del j\n",
    "#         except:\n",
    "#             pass\n",
    "\n",
    "# def_cleaning(globals())\n",
    "# def_cleaning(locals())\n",
    "del s "
   ]
  },
  {
   "cell_type": "code",
   "execution_count": 58,
   "id": "7d45429b",
   "metadata": {
    "ExecuteTime": {
     "end_time": "2021-10-11T06:17:47.265842Z",
     "start_time": "2021-10-11T06:17:47.262940Z"
    }
   },
   "outputs": [],
   "source": [
    "# for j in list(globals().keys()):\n",
    "#     print(j)\n",
    "#     del j\n",
    "for name in dir(): \n",
    "#     if not name.startswith('_'): \n",
    "        del globals()[name]\n",
    "del name\n"
   ]
  },
  {
   "cell_type": "code",
   "execution_count": 61,
   "id": "9fef490e",
   "metadata": {
    "ExecuteTime": {
     "end_time": "2021-10-11T06:18:06.235236Z",
     "start_time": "2021-10-11T06:18:06.229793Z"
    }
   },
   "outputs": [
    {
     "name": "stdout",
     "output_type": "stream",
     "text": [
      "Variable          Type                          Data/Info\n",
      "---------------------------------------------------------\n",
      "NamespaceMagics   MetaHasTraits                 <class 'IPython.core.magi<...>mespace.NamespaceMagics'>\n",
      "get_ipython       function                      <function get_ipython at 0x7ff6d0be4730>\n",
      "getsizeof         builtin_function_or_method    <built-in function getsizeof>\n",
      "json              module                        <module 'json' from '/usr<...>hon3.6/json/__init__.py'>\n",
      "np                module                        <module 'numpy' from '/us<...>kages/numpy/__init__.py'>\n",
      "var_dic_list      function                      <function var_dic_list at 0x7ff6c45c8950>\n"
     ]
    }
   ],
   "source": [
    "%whos \n",
    "# dir()"
   ]
  }
 ],
 "metadata": {
  "hide_input": false,
  "kernelspec": {
   "display_name": "Python 3",
   "language": "python",
   "name": "python3"
  },
  "language_info": {
   "codemirror_mode": {
    "name": "ipython",
    "version": 3
   },
   "file_extension": ".py",
   "mimetype": "text/x-python",
   "name": "python",
   "nbconvert_exporter": "python",
   "pygments_lexer": "ipython3",
   "version": "3.6.8"
  },
  "toc": {
   "base_numbering": 1,
   "nav_menu": {},
   "number_sections": false,
   "sideBar": false,
   "skip_h1_title": false,
   "title_cell": "Table of Contents",
   "title_sidebar": "Contents",
   "toc_cell": false,
   "toc_position": {},
   "toc_section_display": false,
   "toc_window_display": false
  },
  "varInspector": {
   "cols": {
    "lenName": 16,
    "lenType": 16,
    "lenVar": 40
   },
   "kernels_config": {
    "python": {
     "delete_cmd_postfix": "",
     "delete_cmd_prefix": "del ",
     "library": "var_list.py",
     "varRefreshCmd": "print(var_dic_list())"
    },
    "r": {
     "delete_cmd_postfix": ") ",
     "delete_cmd_prefix": "rm(",
     "library": "var_list.r",
     "varRefreshCmd": "cat(var_dic_list()) "
    }
   },
   "position": {
    "height": "227.844px",
    "left": "1642px",
    "right": "20px",
    "top": "314px",
    "width": "261px"
   },
   "types_to_exclude": [
    "module",
    "function",
    "builtin_function_or_method",
    "instance",
    "_Feature"
   ],
   "window_display": true
  }
 },
 "nbformat": 4,
 "nbformat_minor": 5
}
