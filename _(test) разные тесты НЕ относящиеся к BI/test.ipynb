{
 "cells": [
  {
   "cell_type": "code",
   "execution_count": 15,
   "id": "a831f4a4",
   "metadata": {
    "ExecuteTime": {
     "end_time": "2021-07-05T07:30:58.483366Z",
     "start_time": "2021-07-05T07:30:55.349620Z"
    }
   },
   "outputs": [
    {
     "name": "stdout",
     "output_type": "stream",
     "text": [
      "Defaulting to user installation because normal site-packages is not writeable\n",
      "Requirement already satisfied: datasize in /home/slebedev/.local/lib/python3.6/site-packages (1.0.0)\n"
     ]
    }
   ],
   "source": [
    "!pip install datasize"
   ]
  },
  {
   "cell_type": "code",
   "execution_count": 16,
   "id": "1ab2b8a9",
   "metadata": {
    "ExecuteTime": {
     "end_time": "2021-07-05T07:30:58.490175Z",
     "start_time": "2021-07-05T07:30:58.486734Z"
    }
   },
   "outputs": [],
   "source": [
    "import datasize"
   ]
  },
  {
   "cell_type": "code",
   "execution_count": 17,
   "id": "b2628224",
   "metadata": {
    "ExecuteTime": {
     "end_time": "2021-07-05T07:30:58.499356Z",
     "start_time": "2021-07-05T07:30:58.493447Z"
    }
   },
   "outputs": [
    {
     "name": "stdout",
     "output_type": "stream",
     "text": [
      "2.6702880859375e-05MiB (gives results in MiB)\n"
     ]
    }
   ],
   "source": [
    "import sys\n",
    "\n",
    "a = 245625436\n",
    "print(f\"{datasize.DataSize(sys.getsizeof(a)):MiB}\", '(gives results in MiB)' )\n"
   ]
  },
  {
   "cell_type": "code",
   "execution_count": null,
   "id": "67a73ab0",
   "metadata": {
    "ExecuteTime": {
     "start_time": "2021-11-29T08:06:28.049Z"
    }
   },
   "outputs": [],
   "source": [
    "!jt -t onedork -T -N -kl -cellw 75% -m 200 -fs 12 -cursc p -ofs 125 -lineh 150\n"
   ]
  },
  {
   "cell_type": "code",
   "execution_count": null,
   "id": "460060d3",
   "metadata": {},
   "outputs": [],
   "source": []
  },
  {
   "cell_type": "code",
   "execution_count": null,
   "id": "52d63377",
   "metadata": {},
   "outputs": [],
   "source": []
  },
  {
   "cell_type": "code",
   "execution_count": null,
   "id": "3c821c8d",
   "metadata": {},
   "outputs": [],
   "source": []
  },
  {
   "cell_type": "code",
   "execution_count": 4,
   "id": "65413140",
   "metadata": {
    "ExecuteTime": {
     "end_time": "2021-08-04T07:01:11.562704Z",
     "start_time": "2021-08-04T07:01:11.558819Z"
    }
   },
   "outputs": [
    {
     "data": {
      "text/plain": [
       "''"
      ]
     },
     "execution_count": 4,
     "metadata": {},
     "output_type": "execute_result"
    }
   ],
   "source": [
    "\"\" .replace (\"\", \"blog\", 2) "
   ]
  },
  {
   "cell_type": "code",
   "execution_count": null,
   "id": "c4953161",
   "metadata": {},
   "outputs": [],
   "source": []
  },
  {
   "cell_type": "code",
   "execution_count": null,
   "id": "bd283ef9",
   "metadata": {},
   "outputs": [],
   "source": []
  },
  {
   "cell_type": "code",
   "execution_count": null,
   "id": "cfff7c9c",
   "metadata": {},
   "outputs": [],
   "source": []
  },
  {
   "cell_type": "code",
   "execution_count": null,
   "id": "6c96ceb1",
   "metadata": {},
   "outputs": [],
   "source": []
  },
  {
   "cell_type": "code",
   "execution_count": null,
   "id": "d38aa9e4",
   "metadata": {},
   "outputs": [],
   "source": []
  },
  {
   "cell_type": "code",
   "execution_count": null,
   "id": "686b70b2",
   "metadata": {},
   "outputs": [],
   "source": []
  },
  {
   "cell_type": "code",
   "execution_count": null,
   "id": "a7e53825",
   "metadata": {},
   "outputs": [],
   "source": []
  },
  {
   "cell_type": "code",
   "execution_count": null,
   "id": "83a221f3",
   "metadata": {},
   "outputs": [],
   "source": []
  },
  {
   "cell_type": "code",
   "execution_count": null,
   "id": "520c2f2f",
   "metadata": {},
   "outputs": [],
   "source": []
  },
  {
   "cell_type": "code",
   "execution_count": null,
   "id": "2bc50238",
   "metadata": {},
   "outputs": [],
   "source": []
  }
 ],
 "metadata": {
  "hide_input": false,
  "kernelspec": {
   "display_name": "Python 3",
   "language": "python",
   "name": "python3"
  },
  "language_info": {
   "codemirror_mode": {
    "name": "ipython",
    "version": 3
   },
   "file_extension": ".py",
   "mimetype": "text/x-python",
   "name": "python",
   "nbconvert_exporter": "python",
   "pygments_lexer": "ipython3",
   "version": "3.6.8"
  },
  "toc": {
   "base_numbering": 1,
   "nav_menu": {},
   "number_sections": false,
   "sideBar": false,
   "skip_h1_title": false,
   "title_cell": "Table of Contents",
   "title_sidebar": "Contents",
   "toc_cell": false,
   "toc_position": {},
   "toc_section_display": false,
   "toc_window_display": false
  },
  "varInspector": {
   "cols": {
    "lenName": 16,
    "lenType": 16,
    "lenVar": 40
   },
   "kernels_config": {
    "python": {
     "delete_cmd_postfix": "",
     "delete_cmd_prefix": "del ",
     "library": "var_list.py",
     "varRefreshCmd": "print(var_dic_list())"
    },
    "r": {
     "delete_cmd_postfix": ") ",
     "delete_cmd_prefix": "rm(",
     "library": "var_list.r",
     "varRefreshCmd": "cat(var_dic_list()) "
    }
   },
   "types_to_exclude": [
    "module",
    "function",
    "builtin_function_or_method",
    "instance",
    "_Feature"
   ],
   "window_display": false
  }
 },
 "nbformat": 4,
 "nbformat_minor": 5
}
