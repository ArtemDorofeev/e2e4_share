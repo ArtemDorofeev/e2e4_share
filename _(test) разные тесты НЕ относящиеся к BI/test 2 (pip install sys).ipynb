{
 "cells": [
  {
   "cell_type": "code",
   "execution_count": 1,
   "id": "0d00bd97",
   "metadata": {
    "ExecuteTime": {
     "end_time": "2021-11-29T11:42:14.104968Z",
     "start_time": "2021-11-29T11:42:13.988110Z"
    }
   },
   "outputs": [
    {
     "name": "stdout",
     "output_type": "stream",
     "text": [
      "/bin/bash: /opt/anaconda3/envs/jupyter_env: Is a directory\r\n"
     ]
    }
   ],
   "source": [
    "import sys\n",
    "!{sys.prefix}\n"
   ]
  },
  {
   "cell_type": "code",
   "execution_count": 2,
   "id": "fc28f5ac",
   "metadata": {
    "ExecuteTime": {
     "end_time": "2021-11-29T11:42:20.635152Z",
     "start_time": "2021-11-29T11:42:20.626590Z"
    }
   },
   "outputs": [
    {
     "data": {
      "text/plain": [
       "'/opt/anaconda3/envs/jupyter_env'"
      ]
     },
     "execution_count": 2,
     "metadata": {},
     "output_type": "execute_result"
    }
   ],
   "source": [
    "sys.prefix"
   ]
  },
  {
   "cell_type": "code",
   "execution_count": 3,
   "id": "15882a1e",
   "metadata": {
    "ExecuteTime": {
     "end_time": "2021-11-29T11:42:24.741220Z",
     "start_time": "2021-11-29T11:42:24.737714Z"
    }
   },
   "outputs": [
    {
     "data": {
      "text/plain": [
       "'/opt/anaconda3/envs/jupyter_env/bin/python'"
      ]
     },
     "execution_count": 3,
     "metadata": {},
     "output_type": "execute_result"
    }
   ],
   "source": [
    "sys.executable"
   ]
  },
  {
   "cell_type": "code",
   "execution_count": 5,
   "id": "da2bb057",
   "metadata": {
    "ExecuteTime": {
     "end_time": "2021-11-29T11:42:57.117829Z",
     "start_time": "2021-11-29T11:42:56.241877Z"
    }
   },
   "outputs": [
    {
     "name": "stdout",
     "output_type": "stream",
     "text": [
      "Defaulting to user installation because normal site-packages is not writeable\r\n",
      "Requirement already satisfied: termcolor in /opt/anaconda3/envs/jupyter_env/lib/python3.9/site-packages (1.1.0)\r\n"
     ]
    }
   ],
   "source": [
    "!'/opt/anaconda3/envs/jupyter_env/bin/python' -m pip install termcolor\n"
   ]
  },
  {
   "cell_type": "code",
   "execution_count": 8,
   "id": "39bc9ff9",
   "metadata": {
    "ExecuteTime": {
     "end_time": "2021-11-30T06:16:54.741619Z",
     "start_time": "2021-11-30T06:16:54.737958Z"
    }
   },
   "outputs": [
    {
     "data": {
      "text/plain": [
       "{'/opt/anaconda3/envs/jupyter_env/bin/python'}"
      ]
     },
     "execution_count": 8,
     "metadata": {},
     "output_type": "execute_result"
    }
   ],
   "source": [
    "import sys\n",
    "{sys.executable}"
   ]
  },
  {
   "cell_type": "code",
   "execution_count": null,
   "id": "36414561",
   "metadata": {},
   "outputs": [],
   "source": [
    "# Install a pip package in the current Jupyter kernel\n",
    "import sys\n",
    "# !{sys.executable} -m pip install numpy\n"
   ]
  },
  {
   "cell_type": "code",
   "execution_count": 6,
   "id": "2177a490",
   "metadata": {
    "ExecuteTime": {
     "end_time": "2021-11-30T06:16:04.581147Z",
     "start_time": "2021-11-30T06:16:04.576663Z"
    }
   },
   "outputs": [
    {
     "data": {
      "text/plain": [
       "{'/opt/anaconda3/envs/jupyter_env/bin/python'}"
      ]
     },
     "execution_count": 6,
     "metadata": {},
     "output_type": "execute_result"
    }
   ],
   "source": [
    "# /opt/anaconda3/envs/jupyter_env/bin/python -m pip install psycopg2-binary\n",
    "/opt/anaconda3/envs/jupyter_env/bin/python -m pip install openpyxl\n",
    "\n",
    "\n",
    "\n",
    "\n"
   ]
  }
 ],
 "metadata": {
  "hide_input": false,
  "kernelspec": {
   "display_name": "python39-spark-conda",
   "language": "python",
   "name": "python39-spark-conda"
  },
  "language_info": {
   "codemirror_mode": {
    "name": "ipython",
    "version": 3
   },
   "file_extension": ".py",
   "mimetype": "text/x-python",
   "name": "python",
   "nbconvert_exporter": "python",
   "pygments_lexer": "ipython3",
   "version": "3.9.7"
  },
  "toc": {
   "base_numbering": 1,
   "nav_menu": {},
   "number_sections": false,
   "sideBar": false,
   "skip_h1_title": false,
   "title_cell": "Table of Contents",
   "title_sidebar": "Contents",
   "toc_cell": false,
   "toc_position": {},
   "toc_section_display": false,
   "toc_window_display": false
  },
  "varInspector": {
   "cols": {
    "lenName": 16,
    "lenType": 16,
    "lenVar": 40
   },
   "kernels_config": {
    "python": {
     "delete_cmd_postfix": "",
     "delete_cmd_prefix": "del ",
     "library": "var_list.py",
     "varRefreshCmd": "print(var_dic_list())"
    },
    "r": {
     "delete_cmd_postfix": ") ",
     "delete_cmd_prefix": "rm(",
     "library": "var_list.r",
     "varRefreshCmd": "cat(var_dic_list()) "
    }
   },
   "types_to_exclude": [
    "module",
    "function",
    "builtin_function_or_method",
    "instance",
    "_Feature"
   ],
   "window_display": false
  }
 },
 "nbformat": 4,
 "nbformat_minor": 5
}
