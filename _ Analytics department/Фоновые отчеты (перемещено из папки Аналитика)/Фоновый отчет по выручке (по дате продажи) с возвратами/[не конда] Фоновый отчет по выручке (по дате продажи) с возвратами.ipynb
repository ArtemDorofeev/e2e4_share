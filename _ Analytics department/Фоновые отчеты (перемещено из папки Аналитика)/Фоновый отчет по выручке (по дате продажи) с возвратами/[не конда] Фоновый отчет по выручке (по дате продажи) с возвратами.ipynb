{
 "cells": [
  {
   "cell_type": "markdown",
   "id": "1107c217",
   "metadata": {
    "toc": true
   },
   "source": [
    "<h1>Table of Contents<span class=\"tocSkip\"></span></h1>\n",
    "<div class=\"toc\"><ul class=\"toc-item\"><li><span><a href=\"#Фоновый-отчет-по-выручке-(по-дате-продажи)-с-возвратами\" data-toc-modified-id=\"Фоновый-отчет-по-выручке-(по-дате-продажи)-с-возвратами-1\"><span class=\"toc-item-num\">1&nbsp;&nbsp;</span>Фоновый отчет по выручке (по дате продажи) с возвратами</a></span><ul class=\"toc-item\"><li><span><a href=\"#Для-обновления-актуальных-данных-и-запуска-процессов-используйте-сочетание-клавиш-(каждый-раз-при-запуске):-Alt+Shift+L-(на-англ.-раскладке)\" data-toc-modified-id=\"Для-обновления-актуальных-данных-и-запуска-процессов-используйте-сочетание-клавиш-(каждый-раз-при-запуске):-Alt+Shift+L-(на-англ.-раскладке)-1.1\"><span class=\"toc-item-num\">1.1&nbsp;&nbsp;</span>Для обновления актуальных данных и запуска процессов используйте сочетание клавиш (каждый раз при запуске): Alt+Shift+L (на англ. раскладке)</a></span></li></ul></li><li><span><a href=\"#Количество-клиентов\" data-toc-modified-id=\"Количество-клиентов-2\"><span class=\"toc-item-num\">2&nbsp;&nbsp;</span>Количество клиентов</a></span></li><li><span><a href=\"#Количество-заказов\" data-toc-modified-id=\"Количество-заказов-3\"><span class=\"toc-item-num\">3&nbsp;&nbsp;</span>Количество заказов</a></span></li><li><span><a href=\"#Частота-покупок\" data-toc-modified-id=\"Частота-покупок-4\"><span class=\"toc-item-num\">4&nbsp;&nbsp;</span>Частота покупок</a></span></li><li><span><a href=\"#Доля-повторных-покупок\" data-toc-modified-id=\"Доля-повторных-покупок-5\"><span class=\"toc-item-num\">5&nbsp;&nbsp;</span>Доля повторных покупок</a></span></li><li><span><a href=\"#Средний-чек\" data-toc-modified-id=\"Средний-чек-6\"><span class=\"toc-item-num\">6&nbsp;&nbsp;</span>Средний чек</a></span></li><li><span><a href=\"#Отток\" data-toc-modified-id=\"Отток-7\"><span class=\"toc-item-num\">7&nbsp;&nbsp;</span>Отток</a></span></li><li><span><a href=\"#Валовой-объем-продаж\" data-toc-modified-id=\"Валовой-объем-продаж-8\"><span class=\"toc-item-num\">8&nbsp;&nbsp;</span>Валовой объем продаж</a></span></li><li><span><a href=\"#Валовой-доход\" data-toc-modified-id=\"Валовой-доход-9\"><span class=\"toc-item-num\">9&nbsp;&nbsp;</span>Валовой доход</a></span></li><li><span><a href=\"#Пользовательский-отчет-с-самостоятельной-настройкой-отчетов-и-диаграмм\" data-toc-modified-id=\"Пользовательский-отчет-с-самостоятельной-настройкой-отчетов-и-диаграмм-10\"><span class=\"toc-item-num\">10&nbsp;&nbsp;</span>Пользовательский отчет с самостоятельной настройкой отчетов и диаграмм</a></span></li></ul></div>"
   ]
  },
  {
   "cell_type": "markdown",
   "id": "5e980dc9",
   "metadata": {
    "ExecuteTime": {
     "end_time": "2021-07-05T09:25:08.337266Z",
     "start_time": "2021-07-05T09:25:08.333567Z"
    }
   },
   "source": [
    "# Фоновый отчет по выручке (по дате продажи) с возвратами\n"
   ]
  },
  {
   "cell_type": "markdown",
   "id": "2107a28b",
   "metadata": {
    "ExecuteTime": {
     "end_time": "2021-07-05T09:28:25.092749Z",
     "start_time": "2021-07-05T09:28:25.088679Z"
    }
   },
   "source": [
    "## Для обновления актуальных данных и запуска процессов используйте сочетание клавиш (каждый раз при запуске): Alt+Shift+L (на англ. раскладке)"
   ]
  },
  {
   "cell_type": "code",
   "execution_count": 1,
   "id": "84db6884",
   "metadata": {
    "ExecuteTime": {
     "end_time": "2021-09-08T10:14:12.355437Z",
     "start_time": "2021-09-08T10:14:12.352511Z"
    }
   },
   "outputs": [],
   "source": [
    "# #  запуск всех модулей кроме (НЕ КАНАЮТ ПЕРЕМЕННЫЕ! надо через magic тогда все четка)\n",
    "# def exec_f(path_exec):\n",
    "#     with open( path_exec,'r') as exec_f:\n",
    "#         exec(exec_f.read())\n",
    "# [ exec_f(j) for j in glob.glob(r\"/var/lib/private/**/_ Additions/*\", recursive=True) if 'Imports_Formats' not in j];"
   ]
  },
  {
   "cell_type": "code",
   "execution_count": 2,
   "id": "b3729b06",
   "metadata": {
    "ExecuteTime": {
     "end_time": "2022-03-04T06:02:50.136918Z",
     "start_time": "2022-03-04T06:02:48.584987Z"
    }
   },
   "outputs": [
    {
     "ename": "ModuleNotFoundError",
     "evalue": "No module named 'webdav3'",
     "output_type": "error",
     "traceback": [
      "\u001b[0;31m---------------------------------------------------------------------------\u001b[0m",
      "\u001b[0;31mModuleNotFoundError\u001b[0m                       Traceback (most recent call last)",
      "\u001b[0;32m/srv/jhub/share/._Additions/Import_libs.py\u001b[0m in \u001b[0;36m<module>\u001b[0;34m\u001b[0m\n\u001b[1;32m     49\u001b[0m \u001b[0;32mimport\u001b[0m \u001b[0msys\u001b[0m\u001b[0;34m\u001b[0m\u001b[0;34m\u001b[0m\u001b[0m\n\u001b[1;32m     50\u001b[0m \u001b[0;32mimport\u001b[0m \u001b[0mtime\u001b[0m\u001b[0;34m\u001b[0m\u001b[0;34m\u001b[0m\u001b[0m\n\u001b[0;32m---> 51\u001b[0;31m \u001b[0;32mfrom\u001b[0m \u001b[0mwebdav3\u001b[0m\u001b[0;34m.\u001b[0m\u001b[0mclient\u001b[0m \u001b[0;32mimport\u001b[0m \u001b[0mClient\u001b[0m\u001b[0;34m\u001b[0m\u001b[0;34m\u001b[0m\u001b[0m\n\u001b[0m\u001b[1;32m     52\u001b[0m \u001b[0;32mimport\u001b[0m \u001b[0mxmltodict\u001b[0m\u001b[0;34m\u001b[0m\u001b[0;34m\u001b[0m\u001b[0m\n\u001b[1;32m     53\u001b[0m \u001b[0;32mimport\u001b[0m \u001b[0murllib\u001b[0m\u001b[0;34m.\u001b[0m\u001b[0mparse\u001b[0m\u001b[0;34m\u001b[0m\u001b[0;34m\u001b[0m\u001b[0m\n",
      "\u001b[0;31mModuleNotFoundError\u001b[0m: No module named 'webdav3'"
     ]
    },
    {
     "ename": "ModuleNotFoundError",
     "evalue": "No module named 'webdav3'",
     "output_type": "error",
     "traceback": [
      "\u001b[0;31m---------------------------------------------------------------------------\u001b[0m",
      "\u001b[0;31mModuleNotFoundError\u001b[0m                       Traceback (most recent call last)",
      "\u001b[0;32m/srv/jhub/share/._Additions/my_script.py\u001b[0m in \u001b[0;36m<module>\u001b[0;34m\u001b[0m\n\u001b[1;32m     36\u001b[0m \u001b[0mexec_f_path\u001b[0m \u001b[0;34m=\u001b[0m \u001b[0;34m[\u001b[0m \u001b[0mstr\u001b[0m\u001b[0;34m(\u001b[0m\u001b[0mj\u001b[0m\u001b[0;34m)\u001b[0m \u001b[0;32mfor\u001b[0m \u001b[0mj\u001b[0m \u001b[0;32min\u001b[0m \u001b[0mPath\u001b[0m\u001b[0;34m(\u001b[0m \u001b[0;34m'/srv/jhub'\u001b[0m \u001b[0;34m)\u001b[0m\u001b[0;34m.\u001b[0m\u001b[0mglob\u001b[0m\u001b[0;34m(\u001b[0m\u001b[0;34m\"**/*mport_lib*\"\u001b[0m\u001b[0;34m)\u001b[0m \u001b[0;34m]\u001b[0m \u001b[0;34m[\u001b[0m\u001b[0;36m0\u001b[0m\u001b[0;34m]\u001b[0m\u001b[0;34m\u001b[0m\u001b[0;34m\u001b[0m\u001b[0m\n\u001b[1;32m     37\u001b[0m \u001b[0;32mwith\u001b[0m \u001b[0mopen\u001b[0m\u001b[0;34m(\u001b[0m \u001b[0mexec_f_path\u001b[0m\u001b[0;34m,\u001b[0m\u001b[0;34m'r'\u001b[0m\u001b[0;34m)\u001b[0m \u001b[0;32mas\u001b[0m \u001b[0mexec_f\u001b[0m\u001b[0;34m:\u001b[0m\u001b[0;34m\u001b[0m\u001b[0;34m\u001b[0m\u001b[0m\n\u001b[0;32m---> 38\u001b[0;31m         \u001b[0mexec\u001b[0m\u001b[0;34m(\u001b[0m\u001b[0mexec_f\u001b[0m\u001b[0;34m.\u001b[0m\u001b[0mread\u001b[0m\u001b[0;34m(\u001b[0m\u001b[0;34m)\u001b[0m\u001b[0;34m)\u001b[0m\u001b[0;34m\u001b[0m\u001b[0;34m\u001b[0m\u001b[0m\n\u001b[0m\u001b[1;32m     39\u001b[0m \u001b[0;34m\u001b[0m\u001b[0m\n\u001b[1;32m     40\u001b[0m \u001b[0;31m############################################################\u001b[0m\u001b[0;34m\u001b[0m\u001b[0;34m\u001b[0m\u001b[0;34m\u001b[0m\u001b[0m\n",
      "\u001b[0;32m/srv/jhub/share/._Additions/my_script.py\u001b[0m in \u001b[0;36m<module>\u001b[0;34m\u001b[0m\n",
      "\u001b[0;31mModuleNotFoundError\u001b[0m: No module named 'webdav3'"
     ]
    },
    {
     "ename": "ModuleNotFoundError",
     "evalue": "No module named 'webdav3'",
     "output_type": "error",
     "traceback": [
      "\u001b[0;31m---------------------------------------------------------------------------\u001b[0m",
      "\u001b[0;31mModuleNotFoundError\u001b[0m                       Traceback (most recent call last)",
      "\u001b[0;32m/srv/jhub/share/._Additions/Date_gen.py\u001b[0m in \u001b[0;36m<module>\u001b[0;34m\u001b[0m\n\u001b[1;32m      9\u001b[0m \u001b[0mexec_f_path\u001b[0m \u001b[0;34m=\u001b[0m \u001b[0;34m[\u001b[0m \u001b[0mstr\u001b[0m\u001b[0;34m(\u001b[0m\u001b[0mj\u001b[0m\u001b[0;34m)\u001b[0m \u001b[0;32mfor\u001b[0m \u001b[0mj\u001b[0m \u001b[0;32min\u001b[0m \u001b[0mPath\u001b[0m\u001b[0;34m(\u001b[0m \u001b[0;34m'/srv/jhub'\u001b[0m \u001b[0;34m)\u001b[0m\u001b[0;34m.\u001b[0m\u001b[0mglob\u001b[0m\u001b[0;34m(\u001b[0m\u001b[0;34m\"**/*mport_lib*\"\u001b[0m\u001b[0;34m)\u001b[0m \u001b[0;34m]\u001b[0m \u001b[0;34m[\u001b[0m\u001b[0;36m0\u001b[0m\u001b[0;34m]\u001b[0m\u001b[0;34m\u001b[0m\u001b[0;34m\u001b[0m\u001b[0m\n\u001b[1;32m     10\u001b[0m \u001b[0;32mwith\u001b[0m \u001b[0mopen\u001b[0m\u001b[0;34m(\u001b[0m \u001b[0mexec_f_path\u001b[0m\u001b[0;34m,\u001b[0m\u001b[0;34m'r'\u001b[0m\u001b[0;34m)\u001b[0m \u001b[0;32mas\u001b[0m \u001b[0mexec_f\u001b[0m\u001b[0;34m:\u001b[0m\u001b[0;34m\u001b[0m\u001b[0;34m\u001b[0m\u001b[0m\n\u001b[0;32m---> 11\u001b[0;31m         \u001b[0mexec\u001b[0m\u001b[0;34m(\u001b[0m\u001b[0mexec_f\u001b[0m\u001b[0;34m.\u001b[0m\u001b[0mread\u001b[0m\u001b[0;34m(\u001b[0m\u001b[0;34m)\u001b[0m\u001b[0;34m)\u001b[0m\u001b[0;34m\u001b[0m\u001b[0;34m\u001b[0m\u001b[0m\n\u001b[0m\u001b[1;32m     12\u001b[0m \u001b[0;34m\u001b[0m\u001b[0m\n\u001b[1;32m     13\u001b[0m \u001b[0;31m############################################################\u001b[0m\u001b[0;34m\u001b[0m\u001b[0;34m\u001b[0m\u001b[0;34m\u001b[0m\u001b[0m\n",
      "\u001b[0;32m/srv/jhub/share/._Additions/Date_gen.py\u001b[0m in \u001b[0;36m<module>\u001b[0;34m\u001b[0m\n",
      "\u001b[0;31mModuleNotFoundError\u001b[0m: No module named 'webdav3'"
     ]
    },
    {
     "ename": "ModuleNotFoundError",
     "evalue": "No module named 'webdav3'",
     "output_type": "error",
     "traceback": [
      "\u001b[0;31m---------------------------------------------------------------------------\u001b[0m",
      "\u001b[0;31mModuleNotFoundError\u001b[0m                       Traceback (most recent call last)",
      "\u001b[0;32m/srv/jhub/share/._Additions/xx.py\u001b[0m in \u001b[0;36m<module>\u001b[0;34m\u001b[0m\n\u001b[1;32m      4\u001b[0m \u001b[0;32mfrom\u001b[0m \u001b[0mpathlib\u001b[0m \u001b[0;32mimport\u001b[0m \u001b[0mPath\u001b[0m\u001b[0;34m\u001b[0m\u001b[0;34m\u001b[0m\u001b[0m\n\u001b[1;32m      5\u001b[0m \u001b[0;32mwith\u001b[0m \u001b[0mopen\u001b[0m\u001b[0;34m(\u001b[0m \u001b[0;34m[\u001b[0m \u001b[0mstr\u001b[0m\u001b[0;34m(\u001b[0m\u001b[0mj\u001b[0m\u001b[0;34m)\u001b[0m \u001b[0;32mfor\u001b[0m \u001b[0mj\u001b[0m \u001b[0;32min\u001b[0m \u001b[0mPath\u001b[0m\u001b[0;34m(\u001b[0m \u001b[0;34m'/srv/jhub'\u001b[0m \u001b[0;34m)\u001b[0m\u001b[0;34m.\u001b[0m\u001b[0mglob\u001b[0m\u001b[0;34m(\u001b[0m\u001b[0;34m\"**/*mport_lib*\"\u001b[0m\u001b[0;34m)\u001b[0m \u001b[0;34m]\u001b[0m \u001b[0;34m[\u001b[0m\u001b[0;36m0\u001b[0m\u001b[0;34m]\u001b[0m \u001b[0;34m)\u001b[0m \u001b[0;32mas\u001b[0m \u001b[0mexec_f\u001b[0m\u001b[0;34m:\u001b[0m\u001b[0;34m\u001b[0m\u001b[0;34m\u001b[0m\u001b[0m\n\u001b[0;32m----> 6\u001b[0;31m         \u001b[0mexec\u001b[0m\u001b[0;34m(\u001b[0m\u001b[0mexec_f\u001b[0m\u001b[0;34m.\u001b[0m\u001b[0mread\u001b[0m\u001b[0;34m(\u001b[0m\u001b[0;34m)\u001b[0m\u001b[0;34m)\u001b[0m\u001b[0;34m\u001b[0m\u001b[0;34m\u001b[0m\u001b[0m\n\u001b[0m\u001b[1;32m      7\u001b[0m \u001b[0;34m\u001b[0m\u001b[0m\n\u001b[1;32m      8\u001b[0m \u001b[0;31m############################################################\u001b[0m\u001b[0;34m\u001b[0m\u001b[0;34m\u001b[0m\u001b[0;34m\u001b[0m\u001b[0m\n",
      "\u001b[0;32m/srv/jhub/share/._Additions/xx.py\u001b[0m in \u001b[0;36m<module>\u001b[0;34m\u001b[0m\n",
      "\u001b[0;31mModuleNotFoundError\u001b[0m: No module named 'webdav3'"
     ]
    }
   ],
   "source": [
    "\n",
    "# magic\n",
    "############################################################\n",
    "# magic не запускаются с посмощью run !! поэтому отдельно будут тут! # %magic # посмотреть список magic команд\n",
    "%matplotlib inline\n",
    "\n",
    "# run files\n",
    "%run /srv/jhub/share/._Additions/Import_libs.py\n",
    "%run /srv/jhub/share/._Additions/Connecting_.py\n",
    "%run /srv/jhub/share/._Additions/my_script.py\n",
    "%run /srv/jhub/share/._Additions/Date_gen.py\n",
    "%run /srv/jhub/share/._Additions/xx.py\n",
    "\n",
    "# print\n",
    "###########################\n",
    "#################################\n",
    "# print(\n",
    "# df_test_xx.shape, '\\n'\n",
    "# ,abs_path, '\\n' # abs_path - путь до шары (видна всем езерам - '/srv/jhub/share/')\n",
    "# ,path_OUT_dbDATA, '\\n'\n",
    "# ,date_start, date_end, '\\n'\n",
    "# ,temp_tmp\n",
    "# )\n",
    "############################## End ##############################"
   ]
  },
  {
   "cell_type": "code",
   "execution_count": 3,
   "id": "1c9420f3",
   "metadata": {
    "ExecuteTime": {
     "end_time": "2021-09-08T10:14:16.012132Z",
     "start_time": "2021-09-08T10:14:16.009507Z"
    }
   },
   "outputs": [
    {
     "name": "stdout",
     "output_type": "stream",
     "text": [
      "Немного подождите! идет инициализация данных...\n"
     ]
    }
   ],
   "source": [
    "print('Немного подождите! идет инициализация данных...')"
   ]
  },
  {
   "cell_type": "code",
   "execution_count": null,
   "id": "e9f8fabb",
   "metadata": {
    "ExecuteTime": {
     "end_time": "2021-07-29T09:12:13.357278Z",
     "start_time": "2021-07-29T09:12:13.352921Z"
    }
   },
   "outputs": [],
   "source": [
    "\n"
   ]
  },
  {
   "cell_type": "code",
   "execution_count": 4,
   "id": "831543d2",
   "metadata": {
    "ExecuteTime": {
     "end_time": "2021-09-08T10:36:23.349411Z",
     "start_time": "2021-09-08T10:14:16.026433Z"
    }
   },
   "outputs": [
    {
     "name": "stderr",
     "output_type": "stream",
     "text": [
      "Progress bar: 100%| ██████████\n"
     ]
    }
   ],
   "source": [
    "df_all_fon = pd.DataFrame()\n",
    "list_f = glob.glob(abs_path + r'/_DATA/Фоновый отчет по выручке (по дате продажи) с возвратами/df_fon*pkl')[:]\n",
    "\n",
    "for i in tqdm( list_f, desc = 'Progress bar', bar_format = '{l_bar} {bar}' ): # 5 сек\n",
    "# j=1\n",
    "# for i in list_f: \n",
    "#     print( i.split('/')[-1] )\n",
    "    df_all_fon = pd.concat([ df_all_fon, pd.read_pickle(i, compression='zip').iloc[:,:] ])\n",
    "#     print(f\"{len(list_f)}/{j} - Всего/текущий \\t {df_all_fon.shape} - размерность таблицы\")\n",
    "#     j+=1\n",
    "#     gc.collect() # https://docs.python.org/3/library/gc.html\n",
    "\n",
    "# df_all_fon\n",
    "# used 31 \n",
    "# executed in 18m 33s, finished 14:03:04 2021-07-23 || 6975706 rows × 69 columns"
   ]
  },
  {
   "cell_type": "code",
   "execution_count": 5,
   "id": "cc1a10a5",
   "metadata": {
    "ExecuteTime": {
     "end_time": "2021-09-08T10:55:09.093117Z",
     "start_time": "2021-09-08T10:50:14.215713Z"
    }
   },
   "outputs": [],
   "source": [
    "# df_all_fon.to_csv( fr'df_all_fon.csv', index = False)# cp-1251 encoding='UTF-8', engine='xlsxwriter'"
   ]
  },
  {
   "cell_type": "code",
   "execution_count": 6,
   "id": "983a6859",
   "metadata": {
    "ExecuteTime": {
     "end_time": "2021-09-08T11:16:17.700842Z",
     "start_time": "2021-09-08T11:16:17.695779Z"
    }
   },
   "outputs": [],
   "source": [
    "# glob.glob( abs_path + '**/df_all_fon/' , recursive = True ) [0] + fr'/df_all_fon { df_all_fon.shape } .pkl'"
   ]
  },
  {
   "cell_type": "code",
   "execution_count": 7,
   "id": "af5d98fd",
   "metadata": {
    "ExecuteTime": {
     "end_time": "2021-09-08T11:16:30.041983Z",
     "start_time": "2021-09-08T11:16:30.040041Z"
    }
   },
   "outputs": [],
   "source": [
    "# print( f\"{datasize.DataSize(sys.getsizeof(df_all_fon)):MiB}\", '( results in MiB)' )\n",
    "# gc.collect()"
   ]
  },
  {
   "cell_type": "code",
   "execution_count": 8,
   "id": "b4faf4bc",
   "metadata": {
    "ExecuteTime": {
     "end_time": "2021-09-08T11:16:40.767418Z",
     "start_time": "2021-09-08T11:16:40.765373Z"
    }
   },
   "outputs": [],
   "source": [
    "# df_all_fon.to_pickle( glob.glob( abs_path + '**/df_all_fon/' , recursive = True ) [0] + fr'/df_all_fon { df_all_fon.shape } .pkl'\n",
    "#                     , compression='zip')\n",
    "# gc.collect() # https://docs.python.org/3/library/gc.html\n",
    "# ПАДАЕТ НА ЗАПИСИ ТАК ЖЕ СЖИРАЕТ СТОЛЬКО ЖЕ ПАМЯТИ"
   ]
  },
  {
   "cell_type": "code",
   "execution_count": 9,
   "id": "9a93d90c",
   "metadata": {
    "ExecuteTime": {
     "end_time": "2021-09-08T11:16:51.230118Z",
     "start_time": "2021-09-08T11:16:51.227404Z"
    }
   },
   "outputs": [
    {
     "name": "stdout",
     "output_type": "stream",
     "text": [
      "Инициализация данных прошла успешно!\n",
      "\n",
      "Готово к работе\n"
     ]
    }
   ],
   "source": [
    "print('Инициализация данных прошла успешно!\\n\\nГотово к работе')"
   ]
  },
  {
   "cell_type": "code",
   "execution_count": 10,
   "id": "411880db",
   "metadata": {
    "ExecuteTime": {
     "end_time": "2021-09-08T11:17:01.398470Z",
     "start_time": "2021-09-08T11:17:01.396227Z"
    },
    "scrolled": true
   },
   "outputs": [],
   "source": [
    "# ИЗМЕНЕНИЕ ЦВЕТА вывода \n",
    "# print( colored(\"Красный текст (без атрибутов)\", \"green\") )\n",
    "# print( colored(\"Красный текст (подчеркивание)\", \"red\",  attrs=[\"underline\"]) )\n",
    "# print( colored(\"Зеленый текст на красном фоне (без атрибутов)\", \"green\", \"on_red\" ) )\n",
    "# print( colored(\"Зеленый текст на красном фоне (bold)\", \"green\", \"on_red\", attrs=[\"bold\"]) )\n",
    "\n",
    "##############\n",
    "# def highlight(df, col2highlite=\"plan\"):\n",
    "#     ret = pd.DataFrame(\"\", index=df.index, columns=df.columns)\n",
    "#     ret.loc[df[\"plan\"] < df[\"fact\"], col2highlite] = \"background-color: green\"\n",
    "#     ret.loc[df[\"plan\"] > df[\"fact\"], col2highlite] = \"background-color: red\"\n",
    "#     ret.loc[df[\"plan\"] == df[\"fact\"], col2highlite] = \"background-color: yellow\"\n",
    "#     return ret\n",
    "\n",
    "# df.style.apply(highlight, col2highlite=\"plan\", axis=None)\n",
    "\n",
    "# df_all_warranty_fon.reset_index().style.applymap(lambda x:\"background-color: %s\"%x, subset=['color'])\n"
   ]
  },
  {
   "cell_type": "code",
   "execution_count": 11,
   "id": "1f25515e",
   "metadata": {
    "ExecuteTime": {
     "end_time": "2021-09-08T11:17:45.570558Z",
     "start_time": "2021-09-08T11:17:11.517613Z"
    },
    "scrolled": true
   },
   "outputs": [],
   "source": [
    "df_all_fon\n",
    "df_all_fon.columns = [ j.replace(' ','_') for j in df_all_fon.columns ]\n",
    "df_all_fon.columns\n",
    "df_new = df_all_fon.query(\" Статус_списания == 'Продано' and Тип_позиции != 'Подарочная карта' \") \n",
    "# df_new"
   ]
  },
  {
   "cell_type": "code",
   "execution_count": 12,
   "id": "1863a9ec",
   "metadata": {
    "ExecuteTime": {
     "end_time": "2021-09-08T11:18:01.637983Z",
     "start_time": "2021-09-08T11:17:56.455555Z"
    }
   },
   "outputs": [],
   "source": [
    "del df_all_fon\n",
    "gc.collect();\n",
    "# !free -g"
   ]
  },
  {
   "cell_type": "code",
   "execution_count": 13,
   "id": "813e1c62",
   "metadata": {
    "ExecuteTime": {
     "end_time": "2021-09-08T11:18:26.852155Z",
     "start_time": "2021-09-08T11:18:06.586283Z"
    },
    "scrolled": true
   },
   "outputs": [],
   "source": [
    "# Понимание SettingWithCopyWarning\n",
    "pd.set_option('mode.chained_assignment', None)\n",
    "\n",
    "# df_new['Дата_отгрузки_товара'] = pd.to_datetime(df_new['Дата_отгрузки_товара'], format='%Y-%m-%d').dt.strftime('%d-%m-%Y') # .dt.date '%d-%m-%Y'\n",
    "df_new['Дата_отгрузки_товара'] = pd.to_datetime(df_new['Дата_отгрузки_товара'], format='%Y-%m-%d') \n",
    "df_new['ID_клиента'] = df_new['ID_клиента'].astype(int)\n",
    "df_new = df_new.reset_index(drop=True)\n",
    "# df_new['Дата_отгрузки_товара'][1]"
   ]
  },
  {
   "cell_type": "code",
   "execution_count": 14,
   "id": "a22f1467",
   "metadata": {
    "ExecuteTime": {
     "end_time": "2021-09-08T11:18:31.735699Z",
     "start_time": "2021-09-08T11:18:31.733499Z"
    }
   },
   "outputs": [],
   "source": [
    "# df_new['Дата_отгрузки_товара'][0]"
   ]
  },
  {
   "cell_type": "code",
   "execution_count": 15,
   "id": "25402ae0",
   "metadata": {
    "ExecuteTime": {
     "end_time": "2021-09-08T11:18:36.789266Z",
     "start_time": "2021-09-08T11:18:36.787450Z"
    }
   },
   "outputs": [],
   "source": [
    "# gc.collect()\n",
    "# !free -g"
   ]
  },
  {
   "cell_type": "markdown",
   "id": "60e077e0",
   "metadata": {
    "ExecuteTime": {
     "end_time": "2021-07-06T07:42:08.126562Z",
     "start_time": "2021-07-06T07:42:08.123915Z"
    }
   },
   "source": [
    "# Количество клиентов"
   ]
  },
  {
   "cell_type": "code",
   "execution_count": null,
   "id": "3a4a9e69",
   "metadata": {
    "ExecuteTime": {
     "end_time": "2021-07-21T10:13:57.033213Z",
     "start_time": "2021-07-21T10:13:52.066115Z"
    }
   },
   "outputs": [],
   "source": []
  },
  {
   "cell_type": "code",
   "execution_count": 16,
   "id": "eb0af29d",
   "metadata": {
    "ExecuteTime": {
     "end_time": "2021-09-08T11:18:44.383998Z",
     "start_time": "2021-09-08T11:18:41.646547Z"
    },
    "scrolled": false
   },
   "outputs": [
    {
     "name": "stdout",
     "output_type": "stream",
     "text": [
      "\u001b[32m Какой \u001b[0m\n",
      "\u001b[4m\u001b[31m\n",
      "\t то \u001b[0m\n",
      "\u001b[1m\u001b[34m \t\t текст \u001b[0m\n"
     ]
    },
    {
     "data": {
      "application/vnd.jupyter.widget-view+json": {
       "model_id": "f7360ae0a0904857ba5f87b00023e181",
       "version_major": 2,
       "version_minor": 0
      },
      "text/plain": [
       "HBox(children=(VBox(children=(Label(value='Для начала выберите обе даты'), DatePicker(value=None, description=…"
      ]
     },
     "metadata": {},
     "output_type": "display_data"
    },
    {
     "data": {
      "application/vnd.jupyter.widget-view+json": {
       "model_id": "91c3e0373da6482bac16557648f5861f",
       "version_major": 2,
       "version_minor": 0
      },
      "text/plain": [
       "Output()"
      ]
     },
     "metadata": {},
     "output_type": "display_data"
    }
   ],
   "source": [
    "\n",
    "col_name = [\n",
    "'Количество активных зарегистрированных клиентов' \n",
    ",'динамика, %'\n",
    ",'Количество активных зарегистрированных клиентов ФЛ'\n",
    ",'динамика, %'\n",
    ",'Количество активных зарегистрированных клиентов ЮЛ'\n",
    ",'динамика, %'\n",
    "]\n",
    "\n",
    "col_name2 =[\n",
    "'Доля ФЛ в общем объеме, %'\n",
    ",'Доля ЮЛ в общем объеме, %']\n",
    "\n",
    "# df_end = pd.DataFrame()\n",
    "\n",
    "\n",
    "\n",
    "# print('Какой \\n\\t то \\n \\t\\t\\t\\t текст')\n",
    "print( colored(\" Какой \", \"green\") )\n",
    "print( colored(\"\\n\\t то \", \"red\",  attrs=[\"underline\"]) )\n",
    "print( colored(\" \\t\\t текст \", \"blue\", attrs=[\"bold\"] ) )\n",
    "\n",
    "# ALL = 'Все'\n",
    "def unique_sorted_values_plus_ALL(array):\n",
    "#     print( array[array.notna()] )\n",
    "    unique = array[array.notna()].unique().tolist()\n",
    "    sorted(unique)\n",
    "#     unique.insert(0, ALL)\n",
    "    return unique\n",
    "\n",
    "def colour_zero( value ):\n",
    "    if isinstance(value, float):\n",
    "        if value >= 0:\n",
    "            return 'color: green'\n",
    "        else:\n",
    "            return 'color: red'\n",
    " \n",
    "def num_active_clients(df_):\n",
    "    columns=sorted(list(df_['Год_отгрузки'].unique()))\n",
    "    fl = [ df_.query(f''' Год_отгрузки == '{j}' and Тип_клиента == 'ФЛ' ''') ['ID_клиента'].nunique()\n",
    "         for j in columns ]  \n",
    "    ul = [ df_.query(f''' Год_отгрузки == '{j}' and Тип_клиента == 'ЮЛ' ''') ['ID_клиента'].nunique()\n",
    "         for j in columns ]  \n",
    "    df_ = pd.DataFrame([fl, ul], columns=columns, index=['ФЛ', 'ЮЛ'] )\n",
    "    df_ = pd.DataFrame([[df_[col].sum() for col in df_.columns]], columns=columns, index=['ФЛ и ЮЛ']).append(df_)\n",
    "    \n",
    "    fun_list = []\n",
    "    def f_dinamic(data):\n",
    "    #     print( [np.int64(j) for j in data] )\n",
    "        fun_list.append( [int(j) for j in data] ) # [int(round(j,0)) for j in data]\n",
    "        fun_list.append(['']+[round((y/x-1)*100,2) for x, y in zip(data[0::], data[1::]) ])\n",
    "        return fun_list\n",
    "\n",
    "    for i in range(len(df_)):\n",
    "        f_dinamic( list(df_.iloc[i,:]) ) \n",
    "    df_end = pd.DataFrame(fun_list, columns=columns, index=col_name )\n",
    "    # df_end.index.name = 'Количество (динамика) / год'\n",
    "    for i in range(len(df_end))[::2]:\n",
    "    #     df_end.iloc[i,:] = df_end.iloc[i,:] .astype(int)\n",
    "        df_end.iloc[i,:] = df_end.iloc[i,:].astype(str).apply( lambda x: x.split('.')[0] )\n",
    "    # for i in range(len(df_end))[::2]:\n",
    "    #     df_end.iloc[i,:] = df_end.iloc[i,:] .astype(int)\n",
    "    # df_end.astype(int)\n",
    "    # df_end.applymap( lambda x: int(x) if x is not None and type(x)!= float else x )\n",
    "    def def_lambda(x):\n",
    "#         global df_end\n",
    "        return  round(int(x.values[1]) / int(x.values[0])*100, 2) \n",
    "\n",
    "    df_end = df_end.append( pd.DataFrame([df_end.iloc[[0,2],:].apply(def_lambda)] ) ) \n",
    "    df_end = df_end.append( pd.DataFrame([df_end.iloc[[0,4],:].apply(def_lambda)] ) ) \n",
    "    df_end.index = col_name + col_name2\n",
    "    df_end = df_end.iloc[[0,1,2,3,6,4,5,7],:]\n",
    "    df_end = df_end.reset_index(drop=False)\n",
    "    df_end.iloc[[0,2,4,5,7]] = df_end.iloc[[0,2,4,5,7]].astype(str)\n",
    "    df_end.columns = [''] + list(df_end.columns[1:])\n",
    "    #     df_end.index.name = [' ']\n",
    "#     print(df_end.index.name)\n",
    "    return df_end\n",
    "  \n",
    "def  def_plot(df_end): # https://plotly.com/python/histograms/#basic-histogram\n",
    "    pl1,pl2 = {},{}\n",
    "    data_plot1,data_plot2,data_plot3 = [],[],[]\n",
    "    col_plot = [j for j in df_end.columns if j != '']\n",
    "#     histogram \n",
    "    for i in df_end.iloc[[0,2,5]].set_index('').index:\n",
    "        pl1[i] = [ int(j) for j in df_end.iloc[[0,2,5]].set_index('').loc[i].values ]\n",
    "        trace1 = go.Bar( x = col_plot, y = pl1[i], name = i, text=pl1[i])\n",
    "        trace2 = go.Scatter( x = col_plot, y = pl1[i], name = i, mode=\"lines+markers+text\",\n",
    "                            textposition=\"bottom center\", text=pl1[i] )\n",
    "        data_plot1.append( trace1 )\n",
    "        data_plot2.append( trace2 )\n",
    "#     hist 3\n",
    "    for k in df_end.iloc[[4,7]].set_index('').index:\n",
    "        pl2[k] = [ float(j) for j in df_end.iloc[[4,7]].set_index('').loc[k].values ]\n",
    "        trace3 = go.Bar( x = col_plot, y = pl2[k], name = i, text=pl2[k])\n",
    "        data_plot3.append( trace3 )\n",
    "#     layout (макет)\n",
    "    layout1 = go.Layout(\n",
    "        title_text= 'Количество клиентов', # title of plot\n",
    "        xaxis_title_text='Годы', yaxis_title_text='Количество', \n",
    "        autosize=True,\n",
    "        #autosize=False, width=1200, height=600,\n",
    "        paper_bgcolor=\"LightSteelBlue\",\n",
    "        barmode = 'group' # - One of the following enumeration values: ['stack', 'group', 'overlay', 'relative']         \n",
    "        )\n",
    "    layout2 = go.Layout(\n",
    "        title_text= 'Доля клиентов ФЛ/ЮЛ в общем объеме по АСУП', # title of plot\n",
    "        xaxis_title_text='Годы', yaxis_title_text='Доля', \n",
    "        autosize=True,\n",
    "        #autosize=False, width=1200, height=600,\n",
    "        paper_bgcolor=\"LightSteelBlue\",\n",
    "        barmode = 'stack' \n",
    "        # - One of the following enumeration values: ['stack', 'group', 'overlay' наложение, 'relative']         \n",
    "        )\n",
    "#     fig\n",
    "    fig1 = go.Figure(data = data_plot1, layout = layout1)\n",
    "    fig2 = go.Figure(data = data_plot2, layout = layout1)\n",
    "    fig3 = go.Figure(data = data_plot3, layout = layout2)\n",
    "    fig2.update_traces(textposition='top center')\n",
    "    fig1.show() \n",
    "    fig2.show() \n",
    "    fig3.show()\n",
    "\n",
    "#     return (fig1,fig2,fig3)\n",
    "\n",
    "    \n",
    "def widgets_filtering(wf_1, wf_2, wf_3, wf_4, wf_5):\n",
    "    output_all_widgets.clear_output()\n",
    "#     print( wf_1, wf_2, wf_3, wf_4, str(wf_5) )\n",
    "#     display( print( colored(\" \\t\\t Ждите... \", \"blue\") ) ) #s , attrs=[\"bold\"] \n",
    "\n",
    "    if wf_3 is None or wf_4 is None:\n",
    "#         print('Выберите обе даты' )\n",
    "#         df_date_filtering = pd.DataFrame()\n",
    "#         df_12_filtering  = pd.DataFrame()\n",
    "        df_all_filtering = pd.DataFrame()\n",
    "    else:\n",
    "#         print('Выбрынные значения дат: ', wf_3, '-', wf_4)\n",
    "#         print( wf_5.split('\\n') )\n",
    "#         print( wf_3, wf_4, type(wf_3), type(wf_4), str(wf_3) )\n",
    "        try:\n",
    "            df_all_filtering = df_new.set_index(df_new['Дата_отгрузки_товара']) .loc[ str(wf_3) : str(wf_4), : ]             \n",
    "            df_all_filtering = df_all_filtering[(df_all_filtering['Тип_позиции'].isin(wf_1)) & (df_all_filtering['Классификация'].isin(wf_2))]\n",
    "    #         df_all_filtering = df_new.set_index(df_new['Тип_позиции']) .loc[ wf_1 ] .set_index(df_new['Классификация']) .loc[ wf_2 ]  # [\"Товар\", \"Услуга\", \"Доставка\" ] [\"перекуп\", \"бюджетник\", \"майнер\", \"ТК\", \"АСЦ\"]\n",
    "            df_all_filtering = df_all_filtering[df_all_filtering['ID_клиента'] \\\n",
    "                                .isin( set([j for j in df_all_filtering['ID_клиента'] \\\n",
    "                                .astype(int).to_list() if j not in [ int(j) for j in wf_5.split('\\n') if j != '']]))] \\\n",
    "                                .reset_index(drop=True)\n",
    "        \n",
    "            df_end = num_active_clients(df_all_filtering)\n",
    "            \n",
    "            with output_all_widgets:\n",
    "                display( # , subset=['Visits (000s)','Spend (Јm)', 'Nights (000s)']\n",
    "                    df_end.style \\\n",
    "                        .applymap(lambda x: colour_zero(x)).hide_index() \\\n",
    "                        .format( formatter =   lambda x: \"{:.2f}\".format(float(x)) if isinstance(x, float) else x  )                         \n",
    "                    )\n",
    "                def_plot(df_end)\n",
    "#                 display( def_plot(df_end)[0] .show() )\n",
    "#                 display( def_plot(df_end)[1] .show() )\n",
    "#                 display( def_plot(df_end)[2] .show() )\n",
    "            \n",
    "        except:\n",
    "            pass\n",
    "                      \n",
    "# Тип позиции\n",
    "#     применяет НОВЫЕ значения 1го! interactive_changes.new и просто значения второго  w_filter2.value - Это при работе по отдельности!!\n",
    "def w_filter1_EventHandler(interactive_changes):\n",
    "    widgets_filtering(interactive_changes.new, w_filter2.value, w_filter3.value, w_filter4.value, w_filter5.value)\n",
    "# Классификация\n",
    "def w_filter2_EventHandler(interactive_changes):\n",
    "    widgets_filtering(w_filter1.value, interactive_changes.new, w_filter3.value, w_filter4.value, w_filter5.value)\n",
    "# Календарь от   \n",
    "def w_filter3_EventHandler(interactive_changes):\n",
    "    widgets_filtering(w_filter1.value, w_filter2.value, interactive_changes.new, w_filter4.value, w_filter5.value )\n",
    "# Календарь до \n",
    "def w_filter4_EventHandler(interactive_changes):\n",
    "    widgets_filtering(w_filter1.value, w_filter2.value, w_filter3.value, interactive_changes.new, w_filter5.value)\n",
    "# Исключить ID клиентов\n",
    "def w_filter5_EventHandler(interactive_changes):\n",
    "    widgets_filtering(w_filter1.value, w_filter2.value, w_filter3.value, w_filter4.value, interactive_changes.new)\n",
    "    \n",
    "# общий вывод для всех виджетов\n",
    "output_all_widgets = widgets.Output()\n",
    "\n",
    "# Создание виджетов\n",
    "description1 = widgets.Label(value='Тип позиции')\n",
    "w_filter1 = widgets.SelectMultiple( \n",
    "    options = unique_sorted_values_plus_ALL( df_new['Тип_позиции'] )\n",
    "    ,value = [], rows = len( unique_sorted_values_plus_ALL( df_new['Тип_позиции'] ) )\n",
    "    ,description = '', disabled = False )\n",
    "\n",
    "description2 = widgets.Label(value='Классификация')\n",
    "w_filter2 = widgets.SelectMultiple( \n",
    "    options = unique_sorted_values_plus_ALL( df_new['Классификация'] )\n",
    "    ,value = [], rows = len( unique_sorted_values_plus_ALL( df_new['Классификация'] ) )\n",
    "    ,description = '', disabled = False )\n",
    "\n",
    "description34 = widgets.Label(value='Для начала выберите обе даты')\n",
    "w_filter3 = widgets.DatePicker( description='От', disabled=False ) # value = None,\n",
    "w_filter4 = widgets.DatePicker( description='До', disabled=False )\n",
    "\n",
    "description5 = widgets.Label(value='Исключить ID клиентов')\n",
    "w_filter5 = widgets.Textarea( value='1\\n666\\n1137\\n790217\\n799975\\n801691\\n', \\\n",
    "                             placeholder='Введите ID клиентов которые хотите исключить', description='', disabled=False )\n",
    "\n",
    "# свяжем обработчик с выпадающим списком (что бы принимала функция новые значения .new)\n",
    "w_filter1.observe(w_filter1_EventHandler, names='value')\n",
    "w_filter2.observe(w_filter2_EventHandler, names='value')\n",
    "w_filter3.observe(w_filter3_EventHandler, names='value')\n",
    "w_filter4.observe(w_filter4_EventHandler, names='value')\n",
    "w_filter5.observe(w_filter5_EventHandler, names='value')\n",
    "\n",
    "# HBox и Простой вывод \n",
    "# input_widgets1 = widgets.HBox([ description1, description2 ])\n",
    "# input_widgets2 = widgets.HBox([ w_filter1, w_filter2 ])\n",
    "# display(w_filter1) # display(w_filter2) \n",
    "\n",
    "# GridBox\n",
    "# items = [widgets.Label(str(i)) for i in range(8)]\n",
    "# widgets.GridBox(items, layout=widgets.Layout(grid_template_columns=\"repeat(3, 100px)\"))\n",
    "\n",
    "# VBox\n",
    "box1 = widgets.VBox([ description34,  w_filter3, w_filter4 ])\n",
    "box2 = widgets.VBox([ description1, w_filter1 ])\n",
    "box34 = widgets.VBox([ description2, w_filter2 ])\n",
    "box5 = widgets.VBox([ description5, w_filter5 ])\n",
    "all_VBox_widgets = widgets.HBox([ box1, box2, box34, box5  ]) \n",
    "\n",
    "# display\n",
    "display(all_VBox_widgets)\n",
    "display(output_all_widgets)\n",
    "\n",
    "# учесть наны! 22253\n",
    "# 31.03.2017"
   ]
  },
  {
   "cell_type": "code",
   "execution_count": null,
   "id": "9f1d922f",
   "metadata": {},
   "outputs": [],
   "source": []
  },
  {
   "cell_type": "code",
   "execution_count": null,
   "id": "007f708c",
   "metadata": {},
   "outputs": [],
   "source": []
  },
  {
   "cell_type": "code",
   "execution_count": 18,
   "id": "1dad6c26",
   "metadata": {
    "ExecuteTime": {
     "end_time": "2021-08-19T09:51:05.040318Z",
     "start_time": "2021-08-19T09:51:05.037855Z"
    }
   },
   "outputs": [],
   "source": [
    "# почему то долго тупит вобще раньше до свопа считалось за пару сек ....\n",
    "# вернули настройки назад надо перегрузить ядро ..."
   ]
  },
  {
   "cell_type": "code",
   "execution_count": null,
   "id": "c01a56ec",
   "metadata": {},
   "outputs": [],
   "source": []
  },
  {
   "cell_type": "code",
   "execution_count": null,
   "id": "c6994235",
   "metadata": {},
   "outputs": [],
   "source": []
  },
  {
   "cell_type": "code",
   "execution_count": 19,
   "id": "fc3603e9",
   "metadata": {
    "ExecuteTime": {
     "end_time": "2021-08-19T09:51:10.261206Z",
     "start_time": "2021-08-19T09:51:10.256276Z"
    },
    "scrolled": false
   },
   "outputs": [],
   "source": [
    "# # БЕЗ ВВОДИМЫХ ПАРАМЕТРОВ  (БЕЗ ВИДЖЕТОВ!)\n",
    "# col_name = [\n",
    "# 'Количество активных зарегистрированных клиентов' \n",
    "# ,'динамика, %'\n",
    "# ,'Количество активных зарегистрированных клиентов ФЛ'\n",
    "# ,'динамика, %'\n",
    "# ,'Количество активных зарегистрированных клиентов ЮЛ'\n",
    "# ,'динамика, %'\n",
    "# ]\n",
    "\n",
    "# col_name2 =[\n",
    "# 'Доля ФЛ в общем объеме, %'\n",
    "# ,'Доля ЮЛ в общем объеме, %']\n",
    "\n",
    "# # df_end = pd.DataFrame()\n",
    "# # print('Какой \\n\\t то \\n \\t\\t\\t\\t текст')\n",
    "# print( colored(\" Какой \", \"green\") )\n",
    "# print( colored(\"\\n\\t то \", \"red\",  attrs=[\"underline\"]) )\n",
    "# print( colored(\" \\t\\t текст \", \"blue\", attrs=[\"bold\"] ) )\n",
    "\n",
    "# # ALL = 'Все'\n",
    "# def unique_sorted_values_plus_ALL(array):\n",
    "# #     print( array[array.notna()] )\n",
    "#     unique = array[array.notna()].unique().tolist()\n",
    "#     sorted(unique)\n",
    "# #     unique.insert(0, ALL)\n",
    "#     return unique\n",
    "\n",
    "# def colour_zero( value ):\n",
    "#     if isinstance(value, float):\n",
    "#         if value >= 0:\n",
    "#             return 'color: green'\n",
    "#         else:\n",
    "#             return 'color: red'\n",
    " \n",
    "# def num_active_clients(df_):\n",
    "#     columns=sorted(list(df_['Год_отгрузки'].unique()))\n",
    "#     fl = [ df_.query(f''' Год_отгрузки == '{j}' and Тип_клиента == 'ФЛ' ''') ['ID_клиента'].nunique()\n",
    "#          for j in columns ]  \n",
    "#     ul = [ df_.query(f''' Год_отгрузки == '{j}' and Тип_клиента == 'ЮЛ' ''') ['ID_клиента'].nunique()\n",
    "#          for j in columns ]  \n",
    "#     df_ = pd.DataFrame([fl, ul], columns=columns, index=['ФЛ', 'ЮЛ'] )\n",
    "#     df_ = pd.DataFrame([[df_[col].sum() for col in df_.columns]], columns=columns, index=['ФЛ и ЮЛ']).append(df_)\n",
    "    \n",
    "#     fun_list = []\n",
    "#     def f_dinamic(data):\n",
    "#     #     print( [np.int64(j) for j in data] )\n",
    "#         fun_list.append( [int(j) for j in data] ) # [int(round(j,0)) for j in data]\n",
    "#         fun_list.append(['']+[round((y/x-1)*100,2) for x, y in zip(data[0::], data[1::]) ])\n",
    "#         return fun_list\n",
    "\n",
    "#     for i in range(len(df_)):\n",
    "#         f_dinamic( list(df_.iloc[i,:]) ) \n",
    "#     df_end = pd.DataFrame(fun_list, columns=columns, index=col_name )\n",
    "#     # df_end.index.name = 'Количество (динамика) / год'\n",
    "#     for i in range(len(df_end))[::2]:\n",
    "#     #     df_end.iloc[i,:] = df_end.iloc[i,:] .astype(int)\n",
    "#         df_end.iloc[i,:] = df_end.iloc[i,:].astype(str).apply( lambda x: x.split('.')[0] )\n",
    "#     # for i in range(len(df_end))[::2]:\n",
    "#     #     df_end.iloc[i,:] = df_end.iloc[i,:] .astype(int)\n",
    "#     # df_end.astype(int)\n",
    "#     # df_end.applymap( lambda x: int(x) if x is not None and type(x)!= float else x )\n",
    "#     def def_lambda(x):\n",
    "# #         global df_end\n",
    "#         return  round(int(x.values[1]) / int(x.values[0])*100, 2) \n",
    "\n",
    "#     df_end = df_end.append( pd.DataFrame([df_end.iloc[[0,2],:].apply(def_lambda)] ) ) \n",
    "#     df_end = df_end.append( pd.DataFrame([df_end.iloc[[0,4],:].apply(def_lambda)] ) ) \n",
    "#     df_end.index = col_name + col_name2\n",
    "#     df_end = df_end.iloc[[0,1,2,3,6,4,5,7],:]\n",
    "#     df_end = df_end.reset_index(drop=False)\n",
    "#     df_end.iloc[[0,2,4,5,7]] = df_end.iloc[[0,2,4,5,7]].astype(str)\n",
    "#     df_end.columns = [''] + list(df_end.columns[1:])\n",
    "#     #     df_end.index.name = [' ']\n",
    "# #     print(df_end.index.name)\n",
    "#     return df_end\n",
    "  \n",
    "# def  def_plot(df_end): # https://plotly.com/python/histograms/#basic-histogram\n",
    "#     pl1,pl2 = {},{}\n",
    "#     data_plot1,data_plot2,data_plot3 = [],[],[]\n",
    "#     col_plot = [j for j in df_end.columns if j != '']\n",
    "# #     histogram \n",
    "#     for i in df_end.iloc[[0,2,5]].set_index('').index:\n",
    "#         pl1[i] = [ int(j) for j in df_end.iloc[[0,2,5]].set_index('').loc[i].values ]\n",
    "#         trace1 = go.Bar( x = col_plot, y = pl1[i], name = i, text=pl1[i])\n",
    "#         trace2 = go.Scatter( x = col_plot, y = pl1[i], name = i, mode=\"lines+markers+text\",\n",
    "#                             textposition=\"bottom center\", text=pl1[i] )\n",
    "#         data_plot1.append( trace1 )\n",
    "#         data_plot2.append( trace2 )\n",
    "# #     hist 3\n",
    "#     for k in df_end.iloc[[4,7]].set_index('').index:\n",
    "#         pl2[k] = [ float(j) for j in df_end.iloc[[4,7]].set_index('').loc[k].values ]\n",
    "#         trace3 = go.Bar( x = col_plot, y = pl2[k], name = i, text=pl2[k])\n",
    "#         data_plot3.append( trace3 )\n",
    "# #     layout (макет)\n",
    "#     layout1 = go.Layout(\n",
    "#         title_text= 'Количество клиентов', # title of plot\n",
    "#         xaxis_title_text='Годы', yaxis_title_text='Количество', \n",
    "#         autosize=True,\n",
    "#         bargap=0.2, # gap between bars of adjacent location coordinates\n",
    "#         bargroupgap=0.1, # gap between bars of the same location coordinates\n",
    "#         #autosize=False, width=1200, height=600,\n",
    "#         paper_bgcolor=\"LightSteelBlue\",\n",
    "#         barmode = 'group' # - One of the following enumeration values: ['stack', 'group', 'overlay', 'relative']         \n",
    "#         )\n",
    "#     layout2 = go.Layout(\n",
    "#         title_text= 'Доля клиентов ФЛ/ЮЛ в общем объеме по АСУП', # title of plot\n",
    "#         xaxis_title_text='Годы', yaxis_title_text='Доля', \n",
    "#         autosize=True,\n",
    "#         #autosize=False, width=1200, height=600,\n",
    "#         paper_bgcolor=\"LightSteelBlue\",\n",
    "#         barmode = 'stack' \n",
    "#         # - One of the following enumeration values: ['stack', 'group', 'overlay' наложение, 'relative']         \n",
    "#         )\n",
    "# #     fig\n",
    "#     fig1 = go.Figure(data = data_plot1, layout = layout1)\n",
    "#     fig2 = go.Figure(data = data_plot2, layout = layout1)\n",
    "#     fig3 = go.Figure(data = data_plot3, layout = layout2)\n",
    "#     fig2.update_traces(textposition='top center')\n",
    "#     fig1.show() \n",
    "#     fig2.show() \n",
    "#     fig3.show()\n",
    "\n",
    "# #     return (fig1,fig2,fig3)\n",
    "            \n",
    "# df_end = num_active_clients(df_new)\n",
    "# # df_end\n",
    "# display( \n",
    "#     df_end.style \\\n",
    "#         .applymap(lambda x: colour_zero(x)).hide_index() \\\n",
    "#         .format( formatter =   lambda x: \"{:.2f}\".format(float(x)) if isinstance(x, float) else x  )\n",
    "#          # , subset=['Visits (000s)','Spend (Јm)', 'Nights (000s)']\n",
    "#     )\n",
    "\n",
    "# def_plot(df_end)\n"
   ]
  },
  {
   "cell_type": "code",
   "execution_count": null,
   "id": "722e92dd",
   "metadata": {},
   "outputs": [],
   "source": []
  },
  {
   "cell_type": "code",
   "execution_count": 20,
   "id": "b8a8e55b",
   "metadata": {
    "ExecuteTime": {
     "end_time": "2021-08-19T09:51:15.582700Z",
     "start_time": "2021-08-19T09:51:15.580463Z"
    }
   },
   "outputs": [],
   "source": [
    "# import plotly.graph_objects as go\n",
    "# import plotly\n",
    "\n",
    "# x = [\"Apples\",\"Apples\",\"Apples\",\"Oranges\", \"Bananas\"]\n",
    "# y = [\"5\",\"10\",\"3\",\"10\",\"5\"]\n",
    "\n",
    "# fig = go.Figure()\n",
    "# fig.add_trace(go.Histogram(histfunc=\"count\", y=y, x=x, name=\"count\"))\n",
    "# fig.add_trace(go.Histogram(histfunc=\"sum\", y=y, x=x, name=\"sum\"))\n",
    "\n",
    "# fig.show()"
   ]
  },
  {
   "cell_type": "code",
   "execution_count": null,
   "id": "f54510c7",
   "metadata": {},
   "outputs": [],
   "source": []
  },
  {
   "cell_type": "code",
   "execution_count": null,
   "id": "065c223f",
   "metadata": {},
   "outputs": [],
   "source": []
  },
  {
   "cell_type": "markdown",
   "id": "ab446fe4",
   "metadata": {
    "ExecuteTime": {
     "end_time": "2021-07-06T07:42:08.439638Z",
     "start_time": "2021-07-06T07:42:08.436759Z"
    }
   },
   "source": [
    "# Количество заказов"
   ]
  },
  {
   "cell_type": "code",
   "execution_count": 21,
   "id": "56931446",
   "metadata": {
    "ExecuteTime": {
     "end_time": "2021-08-19T09:51:21.194438Z",
     "start_time": "2021-08-19T09:51:20.644595Z"
    }
   },
   "outputs": [],
   "source": [
    "# df_new.columns\n",
    "df_new['ID_заказа'] = df_new['ID_заказа'].astype(int)"
   ]
  },
  {
   "cell_type": "code",
   "execution_count": null,
   "id": "88e3359e",
   "metadata": {},
   "outputs": [],
   "source": []
  },
  {
   "cell_type": "code",
   "execution_count": 1,
   "id": "d614eb5d",
   "metadata": {
    "ExecuteTime": {
     "end_time": "2021-08-19T09:56:31.901644Z",
     "start_time": "2021-08-19T09:56:31.826929Z"
    },
    "scrolled": false
   },
   "outputs": [
    {
     "ename": "NameError",
     "evalue": "name 'colored' is not defined",
     "output_type": "error",
     "traceback": [
      "\u001b[0;31m---------------------------------------------------------------------------\u001b[0m",
      "\u001b[0;31mNameError\u001b[0m                                 Traceback (most recent call last)",
      "\u001b[0;32m<ipython-input-1-e38a08245296>\u001b[0m in \u001b[0;36m<module>\u001b[0;34m\u001b[0m\n\u001b[1;32m     17\u001b[0m \u001b[0;34m\u001b[0m\u001b[0m\n\u001b[1;32m     18\u001b[0m \u001b[0;31m# print('Какой \\n\\t то \\n \\t\\t\\t\\t текст')\u001b[0m\u001b[0;34m\u001b[0m\u001b[0;34m\u001b[0m\u001b[0;34m\u001b[0m\u001b[0m\n\u001b[0;32m---> 19\u001b[0;31m \u001b[0mprint\u001b[0m\u001b[0;34m(\u001b[0m \u001b[0mcolored\u001b[0m\u001b[0;34m(\u001b[0m\u001b[0;34m\" Какой \"\u001b[0m\u001b[0;34m,\u001b[0m \u001b[0;34m\"green\"\u001b[0m\u001b[0;34m)\u001b[0m \u001b[0;34m)\u001b[0m\u001b[0;34m\u001b[0m\u001b[0;34m\u001b[0m\u001b[0m\n\u001b[0m\u001b[1;32m     20\u001b[0m \u001b[0mprint\u001b[0m\u001b[0;34m(\u001b[0m \u001b[0mcolored\u001b[0m\u001b[0;34m(\u001b[0m\u001b[0;34m\"\\n\\t то \"\u001b[0m\u001b[0;34m,\u001b[0m \u001b[0;34m\"red\"\u001b[0m\u001b[0;34m,\u001b[0m  \u001b[0mattrs\u001b[0m\u001b[0;34m=\u001b[0m\u001b[0;34m[\u001b[0m\u001b[0;34m\"underline\"\u001b[0m\u001b[0;34m]\u001b[0m\u001b[0;34m)\u001b[0m \u001b[0;34m)\u001b[0m\u001b[0;34m\u001b[0m\u001b[0;34m\u001b[0m\u001b[0m\n\u001b[1;32m     21\u001b[0m \u001b[0mprint\u001b[0m\u001b[0;34m(\u001b[0m \u001b[0mcolored\u001b[0m\u001b[0;34m(\u001b[0m\u001b[0;34m\" \\t\\t текст \"\u001b[0m\u001b[0;34m,\u001b[0m \u001b[0;34m\"blue\"\u001b[0m\u001b[0;34m,\u001b[0m \u001b[0mattrs\u001b[0m\u001b[0;34m=\u001b[0m\u001b[0;34m[\u001b[0m\u001b[0;34m\"bold\"\u001b[0m\u001b[0;34m]\u001b[0m \u001b[0;34m)\u001b[0m \u001b[0;34m)\u001b[0m\u001b[0;34m\u001b[0m\u001b[0;34m\u001b[0m\u001b[0m\n",
      "\u001b[0;31mNameError\u001b[0m: name 'colored' is not defined"
     ]
    }
   ],
   "source": [
    "\n",
    "# col_name = [\n",
    "# 'Количество активных зарегистрированных клиентов' \n",
    "# ,'динамика, %'\n",
    "# ,'Количество активных зарегистрированных клиентов ФЛ'\n",
    "# ,'динамика, %'\n",
    "# ,'Количество активных зарегистрированных клиентов ЮЛ'\n",
    "# ,'динамика, %'\n",
    "# ]\n",
    "\n",
    "# col_name2 =[\n",
    "# 'Доля ФЛ в общем объеме, %'\n",
    "# ,'Доля ЮЛ в общем объеме, %']\n",
    "\n",
    "# # df_end = pd.DataFrame()\n",
    "\n",
    "\n",
    "\n",
    "# # print('Какой \\n\\t то \\n \\t\\t\\t\\t текст')\n",
    "# print( colored(\" Какой \", \"green\") )\n",
    "# print( colored(\"\\n\\t то \", \"red\",  attrs=[\"underline\"]) )\n",
    "# print( colored(\" \\t\\t текст \", \"blue\", attrs=[\"bold\"] ) )\n",
    "\n",
    "# # ALL = 'Все'\n",
    "# def unique_sorted_values_plus_ALL(array):\n",
    "# #     print( array[array.notna()] )\n",
    "#     unique = array[array.notna()].unique().tolist()\n",
    "#     sorted(unique)\n",
    "# #     unique.insert(0, ALL)\n",
    "#     return unique\n",
    "\n",
    "# def colour_zero( value ):\n",
    "#     if isinstance(value, float):\n",
    "#         if value >= 0:\n",
    "#             return 'color: green'\n",
    "#         else:\n",
    "#             return 'color: red'\n",
    " \n",
    "# def num_orders(df_):\n",
    "#     columns = sorted(list(df_['Год_отгрузки'].unique()))\n",
    "#     fl = [ df_.query(f''' Год_отгрузки == '{j}' and Тип_клиента == 'ФЛ' ''') ['ID_заказа'].nunique()\n",
    "#          for j in columns ]  \n",
    "#     ul = [ df_.query(f''' Год_отгрузки == '{j}' and Тип_клиента == 'ЮЛ' ''') ['ID_заказа'].nunique()\n",
    "#          for j in columns ]  \n",
    "#     df_ = pd.DataFrame([fl, ul], columns=columns, index=['ФЛ', 'ЮЛ'] )\n",
    "#     df_ = pd.DataFrame([[df_[col].sum() for col in df_.columns]], columns=columns, index=['ФЛ и ЮЛ']).append(df_)\n",
    "    \n",
    "#     fun_list = []\n",
    "#     def f_dinamic(data):\n",
    "#     #     print( [np.int64(j) for j in data] )\n",
    "#         fun_list.append( [int(j) for j in data] ) # [int(round(j,0)) for j in data]\n",
    "#         fun_list.append(['']+[round((y/x-1)*100,2) for x, y in zip(data[0::], data[1::]) ])\n",
    "#         return fun_list\n",
    "\n",
    "#     for i in range(len(df_)):\n",
    "#         f_dinamic( list(df_.iloc[i,:]) ) \n",
    "#     df_end = pd.DataFrame(fun_list, columns=columns, index=col_name )\n",
    "#     # df_end.index.name = 'Количество (динамика) / год'\n",
    "#     for i in range(len(df_end))[::2]:\n",
    "#     #     df_end.iloc[i,:] = df_end.iloc[i,:] .astype(int)\n",
    "#         df_end.iloc[i,:] = df_end.iloc[i,:].astype(str).apply( lambda x: x.split('.')[0] )\n",
    "#     # for i in range(len(df_end))[::2]:\n",
    "#     #     df_end.iloc[i,:] = df_end.iloc[i,:] .astype(int)\n",
    "#     # df_end.astype(int)\n",
    "#     # df_end.applymap( lambda x: int(x) if x is not None and type(x)!= float else x )\n",
    "#     def def_lambda(x):\n",
    "# #         global df_end\n",
    "#         return  round(int(x.values[1]) / int(x.values[0])*100, 2) \n",
    "\n",
    "#     df_end = df_end.append( pd.DataFrame([df_end.iloc[[0,2],:].apply(def_lambda)] ) ) \n",
    "#     df_end = df_end.append( pd.DataFrame([df_end.iloc[[0,4],:].apply(def_lambda)] ) ) \n",
    "#     df_end.index = col_name + col_name2\n",
    "#     df_end = df_end.iloc[[0,1,2,3,6,4,5,7],:]\n",
    "#     df_end = df_end.reset_index(drop=False)\n",
    "#     df_end.iloc[[0,2,4,5,7]] = df_end.iloc[[0,2,4,5,7]].astype(str)\n",
    "#     df_end.columns = [''] + list(df_end.columns[1:])\n",
    "#     #     df_end.index.name = [' ']\n",
    "# #     print(df_end.index.name)\n",
    "#     return df_end\n",
    "  \n",
    "# def  def_plot(df_end): # https://plotly.com/python/histograms/#basic-histogram\n",
    "#     pl1,pl2 = {},{}\n",
    "#     data_plot1,data_plot2,data_plot3 = [],[],[]\n",
    "#     col_plot = [j for j in df_end.columns if j != '']\n",
    "# #     histogram \n",
    "#     for i in df_end.iloc[[0,2,5]].set_index('').index:\n",
    "#         pl1[i] = [ int(j) for j in df_end.iloc[[0,2,5]].set_index('').loc[i].values ]\n",
    "#         trace1 = go.Bar( x = col_plot, y = pl1[i], name = i, text=pl1[i])\n",
    "#         trace2 = go.Scatter( x = col_plot, y = pl1[i], name = i, mode=\"lines+markers+text\",\n",
    "#                             textposition=\"bottom center\", text=pl1[i] )\n",
    "#         data_plot1.append( trace1 )\n",
    "#         data_plot2.append( trace2 )\n",
    "# #     hist 3\n",
    "#     for k in df_end.iloc[[4,7]].set_index('').index:\n",
    "#         pl2[k] = [ float(j) for j in df_end.iloc[[4,7]].set_index('').loc[k].values ]\n",
    "#         trace3 = go.Bar( x = col_plot, y = pl2[k], name = i, text=pl2[k])\n",
    "#         data_plot3.append( trace3 )\n",
    "# #     layout (макет)\n",
    "#     layout1 = go.Layout(\n",
    "#         title_text= 'Количество клиентов', # title of plot\n",
    "#         xaxis_title_text='Годы', yaxis_title_text='Количество', \n",
    "#         autosize=True,\n",
    "#         #autosize=False, width=1200, height=600,\n",
    "#         paper_bgcolor=\"LightSteelBlue\",\n",
    "#         barmode = 'group' # - One of the following enumeration values: ['stack', 'group', 'overlay', 'relative']         \n",
    "#         )\n",
    "#     layout2 = go.Layout(\n",
    "#         title_text= 'Доля клиентов ФЛ/ЮЛ в общем объеме по АСУП', # title of plot\n",
    "#         xaxis_title_text='Годы', yaxis_title_text='Доля', \n",
    "#         autosize=True,\n",
    "#         #autosize=False, width=1200, height=600,\n",
    "#         paper_bgcolor=\"LightSteelBlue\",\n",
    "#         barmode = 'stack' \n",
    "#         # - One of the following enumeration values: ['stack', 'group', 'overlay' наложение, 'relative']         \n",
    "#         )\n",
    "# #     fig\n",
    "#     fig1 = go.Figure(data = data_plot1, layout = layout1)\n",
    "#     fig2 = go.Figure(data = data_plot2, layout = layout1)\n",
    "#     fig3 = go.Figure(data = data_plot3, layout = layout2)\n",
    "#     fig2.update_traces(textposition='top center')\n",
    "#     fig1.show() \n",
    "#     fig2.show() \n",
    "#     fig3.show()\n",
    "\n",
    "# #     return (fig1,fig2,fig3)\n",
    "\n",
    "    \n",
    "# def widgets_filtering(wf_1, wf_2, wf_3, wf_4, wf_5):\n",
    "#     output_all_widgets.clear_output()\n",
    "# #     print( wf_1, wf_2, wf_3, wf_4, str(wf_5) )\n",
    "# #     display( print( colored(\" \\t\\t Ждите... \", \"blue\") ) ) #s , attrs=[\"bold\"] \n",
    "\n",
    "#     if wf_3 is None or wf_4 is None:\n",
    "# #         print('Выберите обе даты' )\n",
    "# #         df_date_filtering = pd.DataFrame()\n",
    "# #         df_12_filtering  = pd.DataFrame()\n",
    "#         df_all_filtering = pd.DataFrame()\n",
    "#     else:\n",
    "# #         print('Выбрынные значения дат: ', wf_3, '-', wf_4)\n",
    "# #         print( wf_5.split('\\n') )\n",
    "# #         print( wf_3, wf_4, type(wf_3), type(wf_4), str(wf_3) )\n",
    "#         try:\n",
    "#             df_all_filtering = df_new.set_index(df_new['Дата_отгрузки_товара']) .loc[ str(wf_3) : str(wf_4), : ]             \n",
    "#             df_all_filtering = df_all_filtering[(df_all_filtering['Тип_позиции'].isin(wf_1)) & (df_all_filtering['Классификация'].isin(wf_2))]\n",
    "#     #         df_all_filtering = df_new.set_index(df_new['Тип_позиции']) .loc[ wf_1 ] .set_index(df_new['Классификация']) .loc[ wf_2 ]  # [\"Товар\", \"Услуга\", \"Доставка\" ] [\"перекуп\", \"бюджетник\", \"майнер\", \"ТК\", \"АСЦ\"]\n",
    "#             df_all_filtering = df_all_filtering[df_all_filtering['ID_клиента'] \\\n",
    "#                                 .isin( set([j for j in df_all_filtering['ID_клиента'] \\\n",
    "#                                 .astype(int).to_list() if j not in [ int(j) for j in wf_5.split('\\n') if j != '']]))] \\\n",
    "#                                 .reset_index(drop=True)\n",
    "        \n",
    "#             df_end = num_orders(df_all_filtering)\n",
    "            \n",
    "#             with output_all_widgets:\n",
    "#                 display( # , subset=['Visits (000s)','Spend (Јm)', 'Nights (000s)']\n",
    "#                     df_end.style \\\n",
    "#                         .applymap(lambda x: colour_zero(x)).hide_index() \\\n",
    "#                         .format( formatter =   lambda x: \"{:.2f}\".format(float(x)) if isinstance(x, float) else x  )                         \n",
    "#                     )\n",
    "#                 def_plot(df_end)\n",
    "# #                 display( def_plot(df_end)[0] .show() )\n",
    "# #                 display( def_plot(df_end)[1] .show() )\n",
    "# #                 display( def_plot(df_end)[2] .show() )\n",
    "            \n",
    "#         except:\n",
    "#             pass\n",
    "                      \n",
    "# # Тип позиции\n",
    "# #     применяет НОВЫЕ значения 1го! interactive_changes.new и просто значения второго  w_filter2.value - Это при работе по отдельности!!\n",
    "# def w_filter1_EventHandler(interactive_changes):\n",
    "#     widgets_filtering(interactive_changes.new, w_filter2.value, w_filter3.value, w_filter4.value, w_filter5.value)\n",
    "# # Классификация\n",
    "# def w_filter2_EventHandler(interactive_changes):\n",
    "#     widgets_filtering(w_filter1.value, interactive_changes.new, w_filter3.value, w_filter4.value, w_filter5.value)\n",
    "# # Календарь от   \n",
    "# def w_filter3_EventHandler(interactive_changes):\n",
    "#     widgets_filtering(w_filter1.value, w_filter2.value, interactive_changes.new, w_filter4.value, w_filter5.value )\n",
    "# # Календарь до \n",
    "# def w_filter4_EventHandler(interactive_changes):\n",
    "#     widgets_filtering(w_filter1.value, w_filter2.value, w_filter3.value, interactive_changes.new, w_filter5.value)\n",
    "# # Исключить ID клиентов\n",
    "# def w_filter5_EventHandler(interactive_changes):\n",
    "#     widgets_filtering(w_filter1.value, w_filter2.value, w_filter3.value, w_filter4.value, interactive_changes.new)\n",
    "    \n",
    "# # общий вывод для всех виджетов\n",
    "# output_all_widgets = widgets.Output()\n",
    "\n",
    "# # Создание виджетов\n",
    "# description1 = widgets.Label(value='Тип позиции')\n",
    "# w_filter1 = widgets.SelectMultiple( \n",
    "#     options = unique_sorted_values_plus_ALL( df_new['Тип_позиции'] )\n",
    "#     ,value = [], rows = len( unique_sorted_values_plus_ALL( df_new['Тип_позиции'] ) )\n",
    "#     ,description = '', disabled = False )\n",
    "\n",
    "# description2 = widgets.Label(value='Классификация')\n",
    "# w_filter2 = widgets.SelectMultiple( \n",
    "#     options = unique_sorted_values_plus_ALL( df_new['Классификация'] )\n",
    "#     ,value = [], rows = len( unique_sorted_values_plus_ALL( df_new['Классификация'] ) )\n",
    "#     ,description = '', disabled = False )\n",
    "\n",
    "# description34 = widgets.Label(value='Для начала выберите обе даты')\n",
    "# w_filter3 = widgets.DatePicker( description='От', disabled=False ) # value = None,\n",
    "# w_filter4 = widgets.DatePicker( description='До', disabled=False )\n",
    "\n",
    "# description5 = widgets.Label(value='Исключить ID клиентов')\n",
    "# w_filter5 = widgets.Textarea( value='1\\n666\\n1137\\n790217\\n799975\\n801691\\n', \\\n",
    "#                              placeholder='Введите ID клиентов которые хотите исключить', description='', disabled=False )\n",
    "\n",
    "# # свяжем обработчик с выпадающим списком (что бы принимала функция новые значения .new)\n",
    "# w_filter1.observe(w_filter1_EventHandler, names='value')\n",
    "# w_filter2.observe(w_filter2_EventHandler, names='value')\n",
    "# w_filter3.observe(w_filter3_EventHandler, names='value')\n",
    "# w_filter4.observe(w_filter4_EventHandler, names='value')\n",
    "# w_filter5.observe(w_filter5_EventHandler, names='value')\n",
    "\n",
    "# # HBox и Простой вывод \n",
    "# # input_widgets1 = widgets.HBox([ description1, description2 ])\n",
    "# # input_widgets2 = widgets.HBox([ w_filter1, w_filter2 ])\n",
    "# # display(w_filter1) # display(w_filter2) \n",
    "\n",
    "# # GridBox\n",
    "# # items = [widgets.Label(str(i)) for i in range(8)]\n",
    "# # widgets.GridBox(items, layout=widgets.Layout(grid_template_columns=\"repeat(3, 100px)\"))\n",
    "\n",
    "# # VBox\n",
    "# box1 = widgets.VBox([ description34,  w_filter3, w_filter4 ])\n",
    "# box2 = widgets.VBox([ description1, w_filter1 ])\n",
    "# box34 = widgets.VBox([ description2, w_filter2 ])\n",
    "# box5 = widgets.VBox([ description5, w_filter5 ])\n",
    "# all_VBox_widgets = widgets.HBox([ box1, box2, box34, box5  ]) \n",
    "\n",
    "# # display\n",
    "# display(all_VBox_widgets)\n",
    "# display(output_all_widgets)\n",
    "\n",
    "# # учесть наны! 22253\n",
    "# # 31.03.2017"
   ]
  },
  {
   "cell_type": "code",
   "execution_count": null,
   "id": "191be20f",
   "metadata": {},
   "outputs": [],
   "source": []
  },
  {
   "cell_type": "code",
   "execution_count": null,
   "id": "8b6962e9",
   "metadata": {
    "ExecuteTime": {
     "end_time": "2021-08-03T06:27:23.636822Z",
     "start_time": "2021-08-03T06:27:23.632469Z"
    }
   },
   "outputs": [],
   "source": [
    "# # БЕЗ ПАРАМЕТРОВ ВВОДИМЫХ (БЕЗ ВИДЖЕТОВ!)\n",
    "# col_name = [\n",
    "# 'Количество заказов' \n",
    "# ,'динамика, %'\n",
    "# ,'Количество заказов ФЛ'\n",
    "# ,'динамика, %'\n",
    "# ,'Количество заказов ЮЛ'\n",
    "# ,'динамика, %'\n",
    "# ]\n",
    "\n",
    "# col_name2 =[\n",
    "# 'Доля ФЛ в общем объеме, %'\n",
    "# ,'Доля ЮЛ в общем объеме, %']\n",
    "\n",
    "# # df_end = pd.DataFrame()\n",
    "# # print('Какой \\n\\t то \\n \\t\\t\\t\\t текст')\n",
    "# print( colored(\" Какой \", \"green\") )\n",
    "# print( colored(\"\\n\\t то \", \"red\",  attrs=[\"underline\"]) )\n",
    "# print( colored(\" \\t\\t текст \", \"blue\", attrs=[\"bold\"] ) )\n",
    "\n",
    "# # ALL = 'Все'\n",
    "# def unique_sorted_values_plus_ALL(array):\n",
    "# #     print( array[array.notna()] )\n",
    "#     unique = array[array.notna()].unique().tolist()\n",
    "#     sorted(unique)\n",
    "# #     unique.insert(0, ALL)\n",
    "#     return unique\n",
    "\n",
    "# def colour_zero( value ):\n",
    "#     if isinstance(value, float):\n",
    "#         if value >= 0:\n",
    "#             return 'color: green'\n",
    "#         else:\n",
    "#             return 'color: red'\n",
    " \n",
    "# def num_orders(df_):\n",
    "#     columns=sorted(list(df_['Год_отгрузки'].unique()))\n",
    "#     fl = [ df_.query(f''' Год_отгрузки == '{j}' and Тип_клиента == 'ФЛ' ''') ['ID_заказа'].nunique()\n",
    "#          for j in columns ]  \n",
    "#     ul = [ df_.query(f''' Год_отгрузки == '{j}' and Тип_клиента == 'ЮЛ' ''') ['ID_заказа'].nunique()\n",
    "#          for j in columns ]  \n",
    "#     df_ = pd.DataFrame([fl, ul], columns=columns, index=['ФЛ', 'ЮЛ'] )\n",
    "#     df_ = pd.DataFrame([[df_[col].sum() for col in df_.columns]], columns=columns, index=['ФЛ и ЮЛ']).append(df_)\n",
    "    \n",
    "#     fun_list = []\n",
    "#     def f_dinamic(data):\n",
    "#     #     print( [np.int64(j) for j in data] )\n",
    "#         fun_list.append( [int(j) for j in data] ) # [int(round(j,0)) for j in data]\n",
    "#         fun_list.append(['']+[round((y/x-1)*100,2) for x, y in zip(data[0::], data[1::]) ])\n",
    "#         return fun_list\n",
    "\n",
    "#     for i in range(len(df_)):\n",
    "#         f_dinamic( list(df_.iloc[i,:]) ) \n",
    "#     df_end = pd.DataFrame(fun_list, columns=columns, index=col_name )\n",
    "#     # df_end.index.name = 'Количество (динамика) / год'\n",
    "#     for i in range(len(df_end))[::2]:\n",
    "#     #     df_end.iloc[i,:] = df_end.iloc[i,:] .astype(int)\n",
    "#         df_end.iloc[i,:] = df_end.iloc[i,:].astype(str).apply( lambda x: x.split('.')[0] )\n",
    "#     # for i in range(len(df_end))[::2]:\n",
    "#     #     df_end.iloc[i,:] = df_end.iloc[i,:] .astype(int)\n",
    "#     # df_end.astype(int)\n",
    "#     # df_end.applymap( lambda x: int(x) if x is not None and type(x)!= float else x )\n",
    "#     def def_lambda(x):\n",
    "# #         global df_end\n",
    "#         return  round(int(x.values[1]) / int(x.values[0])*100, 2) \n",
    "\n",
    "#     df_end = df_end.append( pd.DataFrame([df_end.iloc[[0,2],:].apply(def_lambda)] ) ) \n",
    "#     df_end = df_end.append( pd.DataFrame([df_end.iloc[[0,4],:].apply(def_lambda)] ) ) \n",
    "#     df_end.index = col_name + col_name2\n",
    "#     df_end = df_end.iloc[[0,1,2,3,6,4,5,7],:]\n",
    "#     df_end = df_end.reset_index(drop=False)\n",
    "#     df_end.iloc[[0,2,4,5,7]] = df_end.iloc[[0,2,4,5,7]].astype(str)\n",
    "#     df_end.columns = [''] + list(df_end.columns[1:])\n",
    "#     #     df_end.index.name = [' ']\n",
    "# #     print(df_end.index.name)\n",
    "#     return df_end\n",
    "  \n",
    "# def  def_plot(df_end): # https://plotly.com/python/histograms/#basic-histogram\n",
    "#     pl1,pl2 = {},{}\n",
    "#     data_plot1,data_plot2,data_plot3 = [],[],[]\n",
    "#     col_plot = [j for j in df_end.columns if j != '']\n",
    "# #     histogram \n",
    "#     for i in df_end.iloc[[0,2,5]].set_index('').index:\n",
    "#         pl1[i] = [ int(j) for j in df_end.iloc[[0,2,5]].set_index('').loc[i].values ]\n",
    "#         trace1 = go.Bar( x = col_plot, y = pl1[i], name = i, text=pl1[i])\n",
    "#         trace2 = go.Scatter( x = col_plot, y = pl1[i], name = i, mode=\"lines+markers+text\",\n",
    "#                             textposition=\"bottom center\", text=pl1[i] )\n",
    "#         data_plot1.append( trace1 )\n",
    "#         data_plot2.append( trace2 )\n",
    "# #     hist 3\n",
    "#     for k in df_end.iloc[[4,7]].set_index('').index:\n",
    "#         pl2[k] = [ float(j) for j in df_end.iloc[[4,7]].set_index('').loc[k].values ]\n",
    "#         trace3 = go.Bar( x = col_plot, y = pl2[k], name = i, text=pl2[k])\n",
    "#         data_plot3.append( trace3 )\n",
    "# #     layout (макет)\n",
    "#     layout1 = go.Layout(\n",
    "#         title_text= 'Количество клиентов', # title of plot\n",
    "#         xaxis_title_text='Годы', yaxis_title_text='Количество', \n",
    "#         autosize=True,\n",
    "#         bargap=0.2, # gap between bars of adjacent location coordinates\n",
    "#         bargroupgap=0.1, # gap between bars of the same location coordinates\n",
    "#         #autosize=False, width=1200, height=600,\n",
    "#         paper_bgcolor=\"LightSteelBlue\",\n",
    "#         barmode = 'group' # - One of the following enumeration values: ['stack', 'group', 'overlay', 'relative']         \n",
    "#         )\n",
    "#     layout2 = go.Layout(\n",
    "#         title_text= 'Доля клиентов ФЛ/ЮЛ в общем объеме по АСУП', # title of plot\n",
    "#         xaxis_title_text='Годы', yaxis_title_text='Доля', \n",
    "#         autosize=True,\n",
    "#         #autosize=False, width=1200, height=600,\n",
    "#         paper_bgcolor=\"LightSteelBlue\",\n",
    "#         barmode = 'stack' \n",
    "#         # - One of the following enumeration values: ['stack', 'group', 'overlay' наложение, 'relative']         \n",
    "#         )\n",
    "# #     fig\n",
    "#     fig1 = go.Figure(data = data_plot1, layout = layout1)\n",
    "#     fig2 = go.Figure(data = data_plot2, layout = layout1)\n",
    "#     fig3 = go.Figure(data = data_plot3, layout = layout2)\n",
    "#     fig2.update_traces(textposition='top center')\n",
    "#     fig1.show() \n",
    "#     fig2.show() \n",
    "#     fig3.show()\n",
    "\n",
    "# #     return (fig1,fig2,fig3)\n",
    "            \n",
    "# df_end = num_orders(df_new)\n",
    "# # df_end\n",
    "# display( \n",
    "#     df_end.style \\\n",
    "#         .applymap(lambda x: colour_zero(x)).hide_index() \\\n",
    "#         .format( formatter =   lambda x: \"{:.2f}\".format(float(x)) if isinstance(x, float) else x  )\n",
    "#          # , subset=['Visits (000s)','Spend (Јm)', 'Nights (000s)']\n",
    "#     )\n",
    "\n",
    "# def_plot(df_end)\n"
   ]
  },
  {
   "cell_type": "code",
   "execution_count": null,
   "id": "1e9e2564",
   "metadata": {},
   "outputs": [],
   "source": []
  },
  {
   "cell_type": "code",
   "execution_count": null,
   "id": "798e3d0b",
   "metadata": {},
   "outputs": [],
   "source": []
  },
  {
   "cell_type": "markdown",
   "id": "7452f392",
   "metadata": {
    "ExecuteTime": {
     "end_time": "2021-07-06T07:42:08.752097Z",
     "start_time": "2021-07-06T07:42:08.749183Z"
    }
   },
   "source": [
    "# Частота покупок"
   ]
  },
  {
   "cell_type": "code",
   "execution_count": null,
   "id": "fad770ba",
   "metadata": {
    "ExecuteTime": {
     "end_time": "2021-08-03T06:27:23.642863Z",
     "start_time": "2021-08-03T06:27:23.638086Z"
    }
   },
   "outputs": [],
   "source": [
    "# df_new.columns\n",
    "# df_new['ID_клиента'] = df_new['ID_клиента'].astype(int)"
   ]
  },
  {
   "cell_type": "code",
   "execution_count": null,
   "id": "7b062aa1",
   "metadata": {
    "ExecuteTime": {
     "end_time": "2021-08-03T07:04:01.635744Z",
     "start_time": "2021-08-03T07:03:59.224958Z"
    },
    "scrolled": false
   },
   "outputs": [],
   "source": [
    "\n",
    "# col_name = [\n",
    "# 'Частота покупок активных зарегистрированных клиентов' \n",
    "# ,'динамика, %'\n",
    "# ,'Частота покупок активных зарегистрированных клиентов ФЛ'\n",
    "# ,'динамика, %'\n",
    "# ,'Частота покупок активных зарегистрированных клиентов ЮЛ'\n",
    "# ,'динамика, %'\n",
    "# ]\n",
    "\n",
    "# col_name2 =[\n",
    "# 'Доля ФЛ в общем объеме, %'\n",
    "# ,'Доля ЮЛ в общем объеме, %']\n",
    "\n",
    "# # df_end = pd.DataFrame()\n",
    "# # print('Какой \\n\\t то \\n \\t\\t\\t\\t текст')\n",
    "# print( colored(\" Какой \", \"green\") )\n",
    "# print( colored(\"\\n\\t то \", \"red\",  attrs=[\"underline\"]) )\n",
    "# print( colored(\" \\t\\t текст \", \"blue\", attrs=[\"bold\"] ) )\n",
    "\n",
    "# # ALL = 'Все'\n",
    "# def unique_sorted_values_plus_ALL(array):\n",
    "# #     print( array[array.notna()] )\n",
    "#     unique = array[array.notna()].unique().tolist()\n",
    "#     sorted(unique)\n",
    "# #     unique.insert(0, ALL)\n",
    "#     return unique\n",
    "\n",
    "# def colour_zero( value ):\n",
    "#     if isinstance(value, float):\n",
    "#         if value >= 0:\n",
    "#             return 'color: green'\n",
    "#         else:\n",
    "#             return 'color: red'\n",
    " \n",
    "# def num_active_clients(df_):\n",
    "#     columns=sorted(list(df_['Год_отгрузки'].unique()))\n",
    "#     fl = [ df_.query(f''' Год_отгрузки == '{j}' and Тип_клиента == 'ФЛ' ''') ['ID_клиента'].nunique()\n",
    "#          for j in columns ]  \n",
    "#     ul = [ df_.query(f''' Год_отгрузки == '{j}' and Тип_клиента == 'ЮЛ' ''') ['ID_клиента'].nunique()\n",
    "#          for j in columns ]  \n",
    "#     df_ = pd.DataFrame([fl, ul], columns=columns, index=['ФЛ', 'ЮЛ'] )\n",
    "#     df_ = pd.DataFrame([[df_[col].sum() for col in df_.columns]], columns=columns, index=['ФЛ и ЮЛ']).append(df_)\n",
    "    \n",
    "#     fun_list = []\n",
    "#     def f_dinamic(data):\n",
    "#     #     print( [np.int64(j) for j in data] )\n",
    "#         fun_list.append( [int(j) for j in data] ) # [int(round(j,0)) for j in data]\n",
    "#         fun_list.append(['']+[round((y/x-1)*100,2) for x, y in zip(data[0::], data[1::]) ])\n",
    "#         return fun_list\n",
    "\n",
    "#     for i in range(len(df_)):\n",
    "#         f_dinamic( list(df_.iloc[i,:]) ) \n",
    "#     df_end = pd.DataFrame(fun_list, columns=columns, index=col_name )\n",
    "#     # df_end.index.name = 'Количество (динамика) / год'\n",
    "#     for i in range(len(df_end))[::2]:\n",
    "#     #     df_end.iloc[i,:] = df_end.iloc[i,:] .astype(int)\n",
    "#         df_end.iloc[i,:] = df_end.iloc[i,:].astype(str).apply( lambda x: x.split('.')[0] )\n",
    "#     # for i in range(len(df_end))[::2]:\n",
    "#     #     df_end.iloc[i,:] = df_end.iloc[i,:] .astype(int)\n",
    "#     # df_end.astype(int)\n",
    "#     # df_end.applymap( lambda x: int(x) if x is not None and type(x)!= float else x )\n",
    "#     def def_lambda(x):\n",
    "# #         global df_end\n",
    "#         return  round(int(x.values[1]) / int(x.values[0])*100, 2) \n",
    "\n",
    "#     df_end = df_end.append( pd.DataFrame([df_end.iloc[[0,2],:].apply(def_lambda)] ) ) \n",
    "#     df_end = df_end.append( pd.DataFrame([df_end.iloc[[0,4],:].apply(def_lambda)] ) ) \n",
    "#     df_end.index = col_name + col_name2\n",
    "#     df_end = df_end.iloc[[0,1,2,3,6,4,5,7],:]\n",
    "#     df_end = df_end.reset_index(drop=False)\n",
    "#     df_end.iloc[[0,2,4,5,7]] = df_end.iloc[[0,2,4,5,7]].astype(str)\n",
    "#     df_end.columns = [''] + list(df_end.columns[1:])\n",
    "#     #     df_end.index.name = [' ']\n",
    "# #     print(df_end.index.name)\n",
    "#     return df_end\n",
    "\n",
    "# def num_orders(df_):\n",
    "#     columns = sorted(list(df_['Год_отгрузки'].unique()))\n",
    "#     fl = [ df_.query(f''' Год_отгрузки == '{j}' and Тип_клиента == 'ФЛ' ''') ['ID_заказа'].nunique()\n",
    "#          for j in columns ]  \n",
    "#     ul = [ df_.query(f''' Год_отгрузки == '{j}' and Тип_клиента == 'ЮЛ' ''') ['ID_заказа'].nunique()\n",
    "#          for j in columns ]  \n",
    "#     df_ = pd.DataFrame([fl, ul], columns=columns, index=['ФЛ', 'ЮЛ'] )\n",
    "#     df_ = pd.DataFrame([[df_[col].sum() for col in df_.columns]], columns=columns, index=['ФЛ и ЮЛ']).append(df_)\n",
    "    \n",
    "#     fun_list = []\n",
    "#     def f_dinamic(data):\n",
    "#     #     print( [np.int64(j) for j in data] )\n",
    "#         fun_list.append( [int(j) for j in data] ) # [int(round(j,0)) for j in data]\n",
    "#         fun_list.append(['']+[round((y/x-1)*100,2) for x, y in zip(data[0::], data[1::]) ])\n",
    "#         return fun_list\n",
    "\n",
    "#     for i in range(len(df_)):\n",
    "#         f_dinamic( list(df_.iloc[i,:]) ) \n",
    "#     df_end = pd.DataFrame(fun_list, columns=columns, index=col_name )\n",
    "#     # df_end.index.name = 'Количество (динамика) / год'\n",
    "#     for i in range(len(df_end))[::2]:\n",
    "#     #     df_end.iloc[i,:] = df_end.iloc[i,:] .astype(int)\n",
    "#         df_end.iloc[i,:] = df_end.iloc[i,:].astype(str).apply( lambda x: x.split('.')[0] )\n",
    "#     # for i in range(len(df_end))[::2]:\n",
    "#     #     df_end.iloc[i,:] = df_end.iloc[i,:] .astype(int)\n",
    "#     # df_end.astype(int)\n",
    "#     # df_end.applymap( lambda x: int(x) if x is not None and type(x)!= float else x )\n",
    "#     def def_lambda(x):\n",
    "# #         global df_end\n",
    "#         return  round(int(x.values[1]) / int(x.values[0])*100, 2) \n",
    "\n",
    "#     df_end = df_end.append( pd.DataFrame([df_end.iloc[[0,2],:].apply(def_lambda)] ) ) \n",
    "#     df_end = df_end.append( pd.DataFrame([df_end.iloc[[0,4],:].apply(def_lambda)] ) ) \n",
    "#     df_end.index = col_name + col_name2\n",
    "#     df_end = df_end.iloc[[0,1,2,3,6,4,5,7],:]\n",
    "#     df_end = df_end.reset_index(drop=False)\n",
    "#     df_end.iloc[[0,2,4,5,7]] = df_end.iloc[[0,2,4,5,7]].astype(str)\n",
    "#     df_end.columns = [''] + list(df_end.columns[1:])\n",
    "#     #     df_end.index.name = [' ']\n",
    "# #     print(df_end.index.name)\n",
    "#     return df_end\n",
    "  \n",
    "# def  def_plot(df_end): # https://plotly.com/python/histograms/#basic-histogram\n",
    "#     pl1,pl2 = {},{}\n",
    "#     data_plot1,data_plot2,data_plot3 = [],[],[]\n",
    "#     col_plot = [j for j in df_end.columns if j != '']\n",
    "# #     histogram \n",
    "#     for i in df_end.iloc[[0,2,4]].set_index('').index:\n",
    "#         pl1[i] = [ round(float(j),2) for j in df_end.iloc[[0,2,4]].set_index('').loc[i].values ]\n",
    "#         trace1 = go.Bar( x = col_plot, y = pl1[i], name = i, text=pl1[i])\n",
    "#         trace2 = go.Scatter( x = col_plot, y = pl1[i], name = i, mode=\"lines+markers+text\",\n",
    "#                             textposition=\"bottom center\", text=pl1[i] )\n",
    "#         data_plot1.append( trace1 )\n",
    "#         data_plot2.append( trace2 )\n",
    "# #     hist 3\n",
    "# #     for k in df_end.iloc[[4,7]].set_index('').index:\n",
    "# #         pl2[k] = [ float(j) for j in df_end.iloc[[4,7]].set_index('').loc[k].values ]\n",
    "# #         trace3 = go.Bar( x = col_plot, y = pl2[k], name = i, text=pl2[k])\n",
    "# #         data_plot3.append( trace3 )\n",
    "# #     layout (макет)\n",
    "#     layout1 = go.Layout(\n",
    "#         title_text= 'Количество клиентов', # title of plot\n",
    "#         xaxis_title_text='Годы', yaxis_title_text='Количество', \n",
    "#         autosize=True,\n",
    "#         #autosize=False, width=1200, height=600,\n",
    "#         paper_bgcolor=\"LightSteelBlue\",\n",
    "#         barmode = 'group' # - One of the following enumeration values: ['stack', 'group', 'overlay', 'relative']         \n",
    "#         )\n",
    "# #     layout2 = go.Layout(\n",
    "# #         title_text= 'Доля клиентов ФЛ/ЮЛ в общем объеме по АСУП', # title of plot\n",
    "# #         xaxis_title_text='Годы', yaxis_title_text='Доля', \n",
    "# #         autosize=True,\n",
    "# #         #autosize=False, width=1200, height=600,\n",
    "# #         paper_bgcolor=\"LightSteelBlue\",\n",
    "# #         barmode = 'stack' \n",
    "# #         # - One of the following enumeration values: ['stack', 'group', 'overlay' наложение, 'relative']         \n",
    "# #         )\n",
    "# #     fig\n",
    "#     fig1 = go.Figure(data = data_plot1, layout = layout1)\n",
    "#     fig2 = go.Figure(data = data_plot2, layout = layout1)\n",
    "# #     fig3 = go.Figure(data = data_plot3, layout = layout2)\n",
    "#     fig2.update_traces(textposition='top center')\n",
    "#     fig1.show() \n",
    "#     fig2.show() \n",
    "# #     fig3.show()\n",
    "\n",
    "# #     return (fig1,fig2,fig3)\n",
    "\n",
    "    \n",
    "# def widgets_filtering(wf_1, wf_2, wf_3, wf_4, wf_5):\n",
    "#     output_all_widgets.clear_output()\n",
    "# #     print( wf_1, wf_2, wf_3, wf_4, str(wf_5) )\n",
    "# #     display( print( colored(\" \\t\\t Ждите... \", \"blue\") ) ) #s , attrs=[\"bold\"] \n",
    "\n",
    "#     if wf_3 is None or wf_4 is None:\n",
    "# #         print('Выберите обе даты' )\n",
    "# #         df_date_filtering = pd.DataFrame()\n",
    "# #         df_12_filtering  = pd.DataFrame()\n",
    "#         df_all_filtering = pd.DataFrame()\n",
    "#     else:\n",
    "# #         print('Выбрынные значения дат: ', wf_3, '-', wf_4)\n",
    "# #         print( wf_5.split('\\n') )\n",
    "# #         print( wf_3, wf_4, type(wf_3), type(wf_4), str(wf_3) )\n",
    "#         try:\n",
    "#             df_all_filtering = df_new.set_index(df_new['Дата_отгрузки_товара']) .loc[ str(wf_3) : str(wf_4), : ]             \n",
    "#             df_all_filtering = df_all_filtering[(df_all_filtering['Тип_позиции'].isin(wf_1)) & (df_all_filtering['Классификация'].isin(wf_2))]\n",
    "#     #         df_all_filtering = df_new.set_index(df_new['Тип_позиции']) .loc[ wf_1 ] .set_index(df_new['Классификация']) .loc[ wf_2 ]  # [\"Товар\", \"Услуга\", \"Доставка\" ] [\"перекуп\", \"бюджетник\", \"майнер\", \"ТК\", \"АСЦ\"]\n",
    "#             df_all_filtering = df_all_filtering[df_all_filtering['ID_клиента'] \\\n",
    "#                                 .isin( set([j for j in df_all_filtering['ID_клиента'] \\\n",
    "#                                 .astype(int).to_list() if j not in [ int(j) for j in wf_5.split('\\n') if j != '']]))] \\\n",
    "#                                 .reset_index(drop=True)\n",
    "                    \n",
    "#             df_end = num_orders(df_all_filtering).iloc[[0,1,2,3,5,6],1:].applymap(lambda x: float(x) if x != '' else 0) \\\n",
    "#                 / num_active_clients(df_all_filtering).iloc[[0,1,2,3,5,6],1:].applymap(lambda x: float(x) if x != '' else 0)\n",
    "#             df_end.index = col_name\n",
    "#             df_end.index.name = ''\n",
    "#             df_end = df_end.fillna('').reset_index()\n",
    "#             df_end\n",
    "            \n",
    "#             with output_all_widgets:\n",
    "#                 display( # , subset=['Visits (000s)','Spend (Јm)', 'Nights (000s)']\n",
    "#                     df_end.style \\\n",
    "#                         .applymap(lambda x: colour_zero(x)).hide_index() \\\n",
    "#                         .format( formatter =   lambda x: \"{:.2f}\".format(float(x)) if isinstance(x, float) else x  )                         \n",
    "#                     )\n",
    "#                 def_plot(df_end)\n",
    "# #                 display( def_plot(df_end)[0] .show() )\n",
    "# #                 display( def_plot(df_end)[1] .show() )\n",
    "# #                 display( def_plot(df_end)[2] .show() )\n",
    "            \n",
    "#         except:\n",
    "#             pass\n",
    "                      \n",
    "# # Тип позиции\n",
    "# #     применяет НОВЫЕ значения 1го! interactive_changes.new и просто значения второго  w_filter2.value - Это при работе по отдельности!!\n",
    "# def w_filter1_EventHandler(interactive_changes):\n",
    "#     widgets_filtering(interactive_changes.new, w_filter2.value, w_filter3.value, w_filter4.value, w_filter5.value)\n",
    "# # Классификация\n",
    "# def w_filter2_EventHandler(interactive_changes):\n",
    "#     widgets_filtering(w_filter1.value, interactive_changes.new, w_filter3.value, w_filter4.value, w_filter5.value)\n",
    "# # Календарь от   \n",
    "# def w_filter3_EventHandler(interactive_changes):\n",
    "#     widgets_filtering(w_filter1.value, w_filter2.value, interactive_changes.new, w_filter4.value, w_filter5.value )\n",
    "# # Календарь до \n",
    "# def w_filter4_EventHandler(interactive_changes):\n",
    "#     widgets_filtering(w_filter1.value, w_filter2.value, w_filter3.value, interactive_changes.new, w_filter5.value)\n",
    "# # Исключить ID клиентов\n",
    "# def w_filter5_EventHandler(interactive_changes):\n",
    "#     widgets_filtering(w_filter1.value, w_filter2.value, w_filter3.value, w_filter4.value, interactive_changes.new)\n",
    "    \n",
    "# # общий вывод для всех виджетов\n",
    "# output_all_widgets = widgets.Output()\n",
    "\n",
    "# # Создание виджетов\n",
    "# description1 = widgets.Label(value='Тип позиции')\n",
    "# w_filter1 = widgets.SelectMultiple( \n",
    "#     options = unique_sorted_values_plus_ALL( df_new['Тип_позиции'] )\n",
    "#     ,value = [], rows = len( unique_sorted_values_plus_ALL( df_new['Тип_позиции'] ) )\n",
    "#     ,description = '', disabled = False )\n",
    "\n",
    "# description2 = widgets.Label(value='Классификация')\n",
    "# w_filter2 = widgets.SelectMultiple( \n",
    "#     options = unique_sorted_values_plus_ALL( df_new['Классификация'] )\n",
    "#     ,value = [], rows = len( unique_sorted_values_plus_ALL( df_new['Классификация'] ) )\n",
    "#     ,description = '', disabled = False )\n",
    "\n",
    "# description34 = widgets.Label(value='Для начала выберите обе даты')\n",
    "# w_filter3 = widgets.DatePicker( description='От', disabled=False ) # value = None,\n",
    "# w_filter4 = widgets.DatePicker( description='До', disabled=False )\n",
    "\n",
    "# description5 = widgets.Label(value='Исключить ID клиентов')\n",
    "# w_filter5 = widgets.Textarea( value='1\\n666\\n1137\\n790217\\n799975\\n801691\\n', \\\n",
    "#                              placeholder='Введите ID клиентов которые хотите исключить', description='', disabled=False )\n",
    "\n",
    "# # свяжем обработчик с выпадающим списком (что бы принимала функция новые значения .new)\n",
    "# w_filter1.observe(w_filter1_EventHandler, names='value')\n",
    "# w_filter2.observe(w_filter2_EventHandler, names='value')\n",
    "# w_filter3.observe(w_filter3_EventHandler, names='value')\n",
    "# w_filter4.observe(w_filter4_EventHandler, names='value')\n",
    "# w_filter5.observe(w_filter5_EventHandler, names='value')\n",
    "\n",
    "# # HBox и Простой вывод \n",
    "# # input_widgets1 = widgets.HBox([ description1, description2 ])\n",
    "# # input_widgets2 = widgets.HBox([ w_filter1, w_filter2 ])\n",
    "# # display(w_filter1) # display(w_filter2) \n",
    "\n",
    "# # GridBox\n",
    "# # items = [widgets.Label(str(i)) for i in range(8)]\n",
    "# # widgets.GridBox(items, layout=widgets.Layout(grid_template_columns=\"repeat(3, 100px)\"))\n",
    "\n",
    "# # VBox\n",
    "# box1 = widgets.VBox([ description34,  w_filter3, w_filter4 ])\n",
    "# box2 = widgets.VBox([ description1, w_filter1 ])\n",
    "# box34 = widgets.VBox([ description2, w_filter2 ])\n",
    "# box5 = widgets.VBox([ description5, w_filter5 ])\n",
    "# all_VBox_widgets = widgets.HBox([ box1, box2, box34, box5  ]) \n",
    "\n",
    "# # display\n",
    "# display(all_VBox_widgets)\n",
    "# display(output_all_widgets)\n",
    "# # учесть наны! 22253\n",
    "# # 31.03.2017"
   ]
  },
  {
   "cell_type": "code",
   "execution_count": null,
   "id": "4a3b3a33",
   "metadata": {
    "ExecuteTime": {
     "end_time": "2021-08-03T06:27:26.118911Z",
     "start_time": "2021-08-03T06:27:26.116920Z"
    }
   },
   "outputs": [],
   "source": [
    "# ФУНКЦИИ РАСЧЕТА ТАБЛИЦЫ И ГРАФИКОВ "
   ]
  },
  {
   "cell_type": "code",
   "execution_count": null,
   "id": "50ab0e91",
   "metadata": {
    "ExecuteTime": {
     "end_time": "2021-08-03T06:27:26.125492Z",
     "start_time": "2021-08-03T06:27:26.120412Z"
    }
   },
   "outputs": [],
   "source": [
    "# # БЕЗ ВВОДИМЫХ ПАРАМЕТРОВ  (БЕЗ ВИДЖЕТОВ!)\n",
    "# col_name = [\n",
    "# 'Количество активных зарегистрированных клиентов' \n",
    "# ,'динамика, %'\n",
    "# ,'Количество активных зарегистрированных клиентов ФЛ'\n",
    "# ,'динамика, %'\n",
    "# ,'Количество активных зарегистрированных клиентов ЮЛ'\n",
    "# ,'динамика, %'\n",
    "# ]\n",
    "\n",
    "# col_name2 =[\n",
    "# 'Доля ФЛ в общем объеме, %'\n",
    "# ,'Доля ЮЛ в общем объеме, %']\n",
    "\n",
    "# # df_end = pd.DataFrame()\n",
    "# # print('Какой \\n\\t то \\n \\t\\t\\t\\t текст')\n",
    "# print( colored(\" Какой \", \"green\") )\n",
    "# print( colored(\"\\n\\t то \", \"red\",  attrs=[\"underline\"]) )\n",
    "# print( colored(\" \\t\\t текст \", \"blue\", attrs=[\"bold\"] ) )\n",
    "\n",
    "# # ALL = 'Все'\n",
    "# def unique_sorted_values_plus_ALL(array):\n",
    "# #     print( array[array.notna()] )\n",
    "#     unique = array[array.notna()].unique().tolist()\n",
    "#     sorted(unique)\n",
    "# #     unique.insert(0, ALL)\n",
    "#     return unique\n",
    "\n",
    "# def colour_zero( value ):\n",
    "#     if isinstance(value, float):\n",
    "#         if value >= 0:\n",
    "#             return 'color: green'\n",
    "#         else:\n",
    "#             return 'color: red'\n",
    " \n",
    "# def num_active_clients(df_):\n",
    "#     columns=sorted(list(df_['Год_отгрузки'].unique()))\n",
    "#     fl = [ df_.query(f''' Год_отгрузки == '{j}' and Тип_клиента == 'ФЛ' ''') ['ID_клиента'].nunique()\n",
    "#          for j in columns ]  \n",
    "#     ul = [ df_.query(f''' Год_отгрузки == '{j}' and Тип_клиента == 'ЮЛ' ''') ['ID_клиента'].nunique()\n",
    "#          for j in columns ]  \n",
    "#     df_ = pd.DataFrame([fl, ul], columns=columns, index=['ФЛ', 'ЮЛ'] )\n",
    "#     df_ = pd.DataFrame([[df_[col].sum() for col in df_.columns]], columns=columns, index=['ФЛ и ЮЛ']).append(df_)\n",
    "    \n",
    "#     fun_list = []\n",
    "#     def f_dinamic(data):\n",
    "#     #     print( [np.int64(j) for j in data] )\n",
    "#         fun_list.append( [int(j) for j in data] ) # [int(round(j,0)) for j in data]\n",
    "#         fun_list.append(['']+[round((y/x-1)*100,2) for x, y in zip(data[0::], data[1::]) ])\n",
    "#         return fun_list\n",
    "\n",
    "#     for i in range(len(df_)):\n",
    "#         f_dinamic( list(df_.iloc[i,:]) ) \n",
    "#     df_end = pd.DataFrame(fun_list, columns=columns, index=col_name )\n",
    "#     # df_end.index.name = 'Количество (динамика) / год'\n",
    "#     for i in range(len(df_end))[::2]:\n",
    "#     #     df_end.iloc[i,:] = df_end.iloc[i,:] .astype(int)\n",
    "#         df_end.iloc[i,:] = df_end.iloc[i,:].astype(str).apply( lambda x: x.split('.')[0] )\n",
    "#     # for i in range(len(df_end))[::2]:\n",
    "#     #     df_end.iloc[i,:] = df_end.iloc[i,:] .astype(int)\n",
    "#     # df_end.astype(int)\n",
    "#     # df_end.applymap( lambda x: int(x) if x is not None and type(x)!= float else x )\n",
    "#     def def_lambda(x):\n",
    "# #         global df_end\n",
    "#         return  round(int(x.values[1]) / int(x.values[0])*100, 2) \n",
    "\n",
    "#     df_end = df_end.append( pd.DataFrame([df_end.iloc[[0,2],:].apply(def_lambda)] ) ) \n",
    "#     df_end = df_end.append( pd.DataFrame([df_end.iloc[[0,4],:].apply(def_lambda)] ) ) \n",
    "#     df_end.index = col_name + col_name2\n",
    "#     df_end = df_end.iloc[[0,1,2,3,6,4,5,7],:]\n",
    "#     df_end = df_end.reset_index(drop=False)\n",
    "#     df_end.iloc[[0,2,4,5,7]] = df_end.iloc[[0,2,4,5,7]].astype(str)\n",
    "#     df_end.columns = [''] + list(df_end.columns[1:])\n",
    "#     #     df_end.index.name = [' ']\n",
    "# #     print(df_end.index.name)\n",
    "#     return df_end\n",
    "\n",
    "# def num_orders(df_):\n",
    "#     columns = sorted(list(df_['Год_отгрузки'].unique()))\n",
    "#     fl = [ df_.query(f''' Год_отгрузки == '{j}' and Тип_клиента == 'ФЛ' ''') ['ID_заказа'].nunique()\n",
    "#          for j in columns ]  \n",
    "#     ul = [ df_.query(f''' Год_отгрузки == '{j}' and Тип_клиента == 'ЮЛ' ''') ['ID_заказа'].nunique()\n",
    "#          for j in columns ]  \n",
    "#     df_ = pd.DataFrame([fl, ul], columns=columns, index=['ФЛ', 'ЮЛ'] )\n",
    "#     df_ = pd.DataFrame([[df_[col].sum() for col in df_.columns]], columns=columns, index=['ФЛ и ЮЛ']).append(df_)\n",
    "    \n",
    "#     fun_list = []\n",
    "#     def f_dinamic(data):\n",
    "#     #     print( [np.int64(j) for j in data] )\n",
    "#         fun_list.append( [int(j) for j in data] ) # [int(round(j,0)) for j in data]\n",
    "#         fun_list.append(['']+[round((y/x-1)*100,2) for x, y in zip(data[0::], data[1::]) ])\n",
    "#         return fun_list\n",
    "\n",
    "#     for i in range(len(df_)):\n",
    "#         f_dinamic( list(df_.iloc[i,:]) ) \n",
    "#     df_end = pd.DataFrame(fun_list, columns=columns, index=col_name )\n",
    "#     # df_end.index.name = 'Количество (динамика) / год'\n",
    "#     for i in range(len(df_end))[::2]:\n",
    "#     #     df_end.iloc[i,:] = df_end.iloc[i,:] .astype(int)\n",
    "#         df_end.iloc[i,:] = df_end.iloc[i,:].astype(str).apply( lambda x: x.split('.')[0] )\n",
    "#     # for i in range(len(df_end))[::2]:\n",
    "#     #     df_end.iloc[i,:] = df_end.iloc[i,:] .astype(int)\n",
    "#     # df_end.astype(int)\n",
    "#     # df_end.applymap( lambda x: int(x) if x is not None and type(x)!= float else x )\n",
    "#     def def_lambda(x):\n",
    "# #         global df_end\n",
    "#         return  round(int(x.values[1]) / int(x.values[0])*100, 2) \n",
    "\n",
    "#     df_end = df_end.append( pd.DataFrame([df_end.iloc[[0,2],:].apply(def_lambda)] ) ) \n",
    "#     df_end = df_end.append( pd.DataFrame([df_end.iloc[[0,4],:].apply(def_lambda)] ) ) \n",
    "#     df_end.index = col_name + col_name2\n",
    "#     df_end = df_end.iloc[[0,1,2,3,6,4,5,7],:]\n",
    "#     df_end = df_end.reset_index(drop=False)\n",
    "#     df_end.iloc[[0,2,4,5,7]] = df_end.iloc[[0,2,4,5,7]].astype(str)\n",
    "#     df_end.columns = [''] + list(df_end.columns[1:])\n",
    "#     #     df_end.index.name = [' ']\n",
    "# #     print(df_end.index.name)\n",
    "#     return df_end\n",
    "  \n",
    "# def  def_plot(df_end): # https://plotly.com/python/histograms/#basic-histogram\n",
    "#     pl1,pl2 = {},{}\n",
    "#     data_plot1,data_plot2,data_plot3 = [],[],[]\n",
    "#     col_plot = [j for j in df_end.columns if j != '']\n",
    "# #     histogram \n",
    "#     for i in df_end.iloc[[0,2,4]].set_index('').index:\n",
    "#         pl1[i] = [ round(float(j),2) for j in df_end.iloc[[0,2,4]].set_index('').loc[i].values ]\n",
    "#         trace1 = go.Bar( x = col_plot, y = pl1[i], name = i, text=pl1[i])\n",
    "#         trace2 = go.Scatter( x = col_plot, y = pl1[i], name = i, mode=\"lines+markers+text\",\n",
    "#                             textposition=\"bottom center\", text=pl1[i] )\n",
    "#         data_plot1.append( trace1 )\n",
    "#         data_plot2.append( trace2 )\n",
    "# #     hist 3\n",
    "# #     for k in df_end.iloc[[4,7]].set_index('').index:\n",
    "# #         pl2[k] = [ float(j) for j in df_end.iloc[[4,7]].set_index('').loc[k].values ]\n",
    "# #         trace3 = go.Bar( x = col_plot, y = pl2[k], name = i, text=pl2[k])\n",
    "# #         data_plot3.append( trace3 )\n",
    "# #     layout (макет)\n",
    "#     layout1 = go.Layout(\n",
    "#         title_text= 'Количество клиентов', # title of plot\n",
    "#         xaxis_title_text='Годы', yaxis_title_text='Количество', \n",
    "#         autosize=True,\n",
    "#         bargap=0.2, # gap between bars of adjacent location coordinates\n",
    "#         bargroupgap=0.1, # gap between bars of the same location coordinates\n",
    "#         #autosize=False, width=1200, height=600,\n",
    "#         paper_bgcolor=\"LightSteelBlue\",\n",
    "#         barmode = 'group' # - One of the following enumeration values: ['stack', 'group', 'overlay', 'relative']         \n",
    "#         )\n",
    "# #     layout2 = go.Layout(\n",
    "# #         title_text= 'Доля клиентов ФЛ/ЮЛ в общем объеме по АСУП', # title of plot\n",
    "# #         xaxis_title_text='Годы', yaxis_title_text='Доля', \n",
    "# #         autosize=True,\n",
    "# #         #autosize=False, width=1200, height=600,\n",
    "# #         paper_bgcolor=\"LightSteelBlue\",\n",
    "# #         barmode = 'stack' \n",
    "# #         # - One of the following enumeration values: ['stack', 'group', 'overlay' наложение, 'relative']         \n",
    "# #         )\n",
    "# #     fig\n",
    "#     fig1 = go.Figure(data = data_plot1, layout = layout1)\n",
    "#     fig2 = go.Figure(data = data_plot2, layout = layout1)\n",
    "# #     fig3 = go.Figure(data = data_plot3, layout = layout2)\n",
    "#     fig2.update_traces(textposition='top center')\n",
    "#     fig1.show() \n",
    "#     fig2.show() \n",
    "# #     fig3.show()\n",
    "# #     return (fig1,fig2,fig3)  \n",
    "# df_end = num_orders(df_new).iloc[[0,1,2,3,5,6],1:].applymap(lambda x: float(x) if x != '' else 0) \\\n",
    "#     / num_active_clients(df_new).iloc[[0,1,2,3,5,6],1:].applymap(lambda x: float(x) if x != '' else 0)\n",
    "# df_end.index = col_name\n",
    "# df_end.index.name = ''\n",
    "# df_end = df_end.fillna('').reset_index()\n",
    "# # df_end\n",
    "# display( \n",
    "#     df_end.style \\\n",
    "#         .applymap(lambda x: colour_zero(x)).hide_index() \\\n",
    "#         .format( formatter =   lambda x: \"{:.2f}\".format(float(x)) if isinstance(x, float) else x  )\n",
    "#     )\n",
    "# def_plot(df_end)"
   ]
  },
  {
   "cell_type": "code",
   "execution_count": null,
   "id": "114d8a4d",
   "metadata": {
    "ExecuteTime": {
     "end_time": "2021-08-03T06:27:26.131926Z",
     "start_time": "2021-08-03T06:27:26.126749Z"
    }
   },
   "outputs": [],
   "source": [
    "# ФУНКЦИИ РАСЧЕТА ТАБЛИЦЫ "
   ]
  },
  {
   "cell_type": "code",
   "execution_count": null,
   "id": "5bc377de",
   "metadata": {
    "ExecuteTime": {
     "end_time": "2021-08-03T06:27:26.145309Z",
     "start_time": "2021-08-03T06:27:26.133313Z"
    },
    "scrolled": false
   },
   "outputs": [],
   "source": [
    "# def num_active_clients(df_):\n",
    "#     columns=sorted(list(df_['Год_отгрузки'].unique()))\n",
    "#     fl = [ df_.query(f''' Год_отгрузки == '{j}' and Тип_клиента == 'ФЛ' ''') ['ID_клиента'].nunique()\n",
    "#          for j in columns ]  \n",
    "#     ul = [ df_.query(f''' Год_отгрузки == '{j}' and Тип_клиента == 'ЮЛ' ''') ['ID_клиента'].nunique()\n",
    "#          for j in columns ]  \n",
    "#     df_ = pd.DataFrame([fl, ul], columns=columns, index=['ФЛ', 'ЮЛ'] )\n",
    "#     df_ = pd.DataFrame([[df_[col].sum() for col in df_.columns]], columns=columns, index=['ФЛ и ЮЛ']).append(df_)\n",
    "    \n",
    "#     fun_list = []\n",
    "#     def f_dinamic(data):\n",
    "#     #     print( [np.int64(j) for j in data] )\n",
    "#         fun_list.append( [int(j) for j in data] ) # [int(round(j,0)) for j in data]\n",
    "#         fun_list.append(['']+[round((y/x-1)*100,2) for x, y in zip(data[0::], data[1::]) ])\n",
    "#         return fun_list\n",
    "\n",
    "#     for i in range(len(df_)):\n",
    "#         f_dinamic( list(df_.iloc[i,:]) ) \n",
    "#     df_end = pd.DataFrame(fun_list, columns=columns, index=col_name )\n",
    "#     # df_end.index.name = 'Количество (динамика) / год'\n",
    "#     for i in range(len(df_end))[::2]:\n",
    "#     #     df_end.iloc[i,:] = df_end.iloc[i,:] .astype(int)\n",
    "#         df_end.iloc[i,:] = df_end.iloc[i,:].astype(str).apply( lambda x: x.split('.')[0] )\n",
    "#     # for i in range(len(df_end))[::2]:\n",
    "#     #     df_end.iloc[i,:] = df_end.iloc[i,:] .astype(int)\n",
    "#     # df_end.astype(int)\n",
    "#     # df_end.applymap( lambda x: int(x) if x is not None and type(x)!= float else x )\n",
    "#     def def_lambda(x):\n",
    "# #         global df_end\n",
    "#         return  round(int(x.values[1]) / int(x.values[0])*100, 2) \n",
    "\n",
    "#     df_end = df_end.append( pd.DataFrame([df_end.iloc[[0,2],:].apply(def_lambda)] ) ) \n",
    "#     df_end = df_end.append( pd.DataFrame([df_end.iloc[[0,4],:].apply(def_lambda)] ) ) \n",
    "#     df_end.index = col_name + col_name2\n",
    "#     df_end = df_end.iloc[[0,1,2,3,6,4,5,7],:]\n",
    "#     df_end = df_end.reset_index(drop=False)\n",
    "#     df_end.iloc[[0,2,4,5,7]] = df_end.iloc[[0,2,4,5,7]].astype(str)\n",
    "#     df_end.columns = [''] + list(df_end.columns[1:])\n",
    "#     #     df_end.index.name = [' ']\n",
    "# #     print(df_end.index.name)\n",
    "#     return df_end\n",
    "\n",
    "# def num_orders(df_):\n",
    "#     columns = sorted(list(df_['Год_отгрузки'].unique()))\n",
    "#     fl = [ df_.query(f''' Год_отгрузки == '{j}' and Тип_клиента == 'ФЛ' ''') ['ID_заказа'].nunique()\n",
    "#          for j in columns ]  \n",
    "#     ul = [ df_.query(f''' Год_отгрузки == '{j}' and Тип_клиента == 'ЮЛ' ''') ['ID_заказа'].nunique()\n",
    "#          for j in columns ]  \n",
    "#     df_ = pd.DataFrame([fl, ul], columns=columns, index=['ФЛ', 'ЮЛ'] )\n",
    "#     df_ = pd.DataFrame([[df_[col].sum() for col in df_.columns]], columns=columns, index=['ФЛ и ЮЛ']).append(df_)\n",
    "    \n",
    "#     fun_list = []\n",
    "#     def f_dinamic(data):\n",
    "#     #     print( [np.int64(j) for j in data] )\n",
    "#         fun_list.append( [int(j) for j in data] ) # [int(round(j,0)) for j in data]\n",
    "#         fun_list.append(['']+[round((y/x-1)*100,2) for x, y in zip(data[0::], data[1::]) ])\n",
    "#         return fun_list\n",
    "\n",
    "#     for i in range(len(df_)):\n",
    "#         f_dinamic( list(df_.iloc[i,:]) ) \n",
    "#     df_end = pd.DataFrame(fun_list, columns=columns, index=col_name )\n",
    "#     # df_end.index.name = 'Количество (динамика) / год'\n",
    "#     for i in range(len(df_end))[::2]:\n",
    "#     #     df_end.iloc[i,:] = df_end.iloc[i,:] .astype(int)\n",
    "#         df_end.iloc[i,:] = df_end.iloc[i,:].astype(str).apply( lambda x: x.split('.')[0] )\n",
    "#     # for i in range(len(df_end))[::2]:\n",
    "#     #     df_end.iloc[i,:] = df_end.iloc[i,:] .astype(int)\n",
    "#     # df_end.astype(int)\n",
    "#     # df_end.applymap( lambda x: int(x) if x is not None and type(x)!= float else x )\n",
    "#     def def_lambda(x):\n",
    "# #         global df_end\n",
    "#         return  round(int(x.values[1]) / int(x.values[0])*100, 2) \n",
    "\n",
    "#     df_end = df_end.append( pd.DataFrame([df_end.iloc[[0,2],:].apply(def_lambda)] ) ) \n",
    "#     df_end = df_end.append( pd.DataFrame([df_end.iloc[[0,4],:].apply(def_lambda)] ) ) \n",
    "#     df_end.index = col_name + col_name2\n",
    "#     df_end = df_end.iloc[[0,1,2,3,6,4,5,7],:]\n",
    "#     df_end = df_end.reset_index(drop=False)\n",
    "#     df_end.iloc[[0,2,4,5,7]] = df_end.iloc[[0,2,4,5,7]].astype(str)\n",
    "#     df_end.columns = [''] + list(df_end.columns[1:])\n",
    "#     #     df_end.index.name = [' ']\n",
    "# #     print(df_end.index.name)\n",
    "#     return df_end\n",
    "\n",
    "# # df_end_clients = num_active_clients(df_new)\n",
    "# # df_end_orders = num_orders(df_new)\n",
    "# df_end = num_orders(df_new).iloc[[0,1,2,3,5,6],1:].applymap(lambda x: float(x) if x != '' else 0) \\\n",
    "#     / num_active_clients(df_new).iloc[[0,1,2,3,5,6],1:].applymap(lambda x: float(x) if x != '' else 0)\n",
    "# df_end.index = col_name\n",
    "# df_end.index.name = ''\n",
    "# df_end = df_end.fillna('').reset_index()\n",
    "# df_end\n",
    "# # Frequency of customer purchases Частота покупок клиентов \n",
    "# # ID заказов, деленное на количество активных зарегистрированных клиентов за отчетный период"
   ]
  },
  {
   "cell_type": "code",
   "execution_count": null,
   "id": "0e8c96ac",
   "metadata": {
    "ExecuteTime": {
     "end_time": "2021-08-03T06:27:26.149628Z",
     "start_time": "2021-08-03T06:27:26.146608Z"
    }
   },
   "outputs": [],
   "source": [
    "# ФУНКЦИИ РАСЧЕТА ГРАФИКОВ "
   ]
  },
  {
   "cell_type": "code",
   "execution_count": null,
   "id": "4ac6ae21",
   "metadata": {
    "ExecuteTime": {
     "end_time": "2021-08-03T06:27:26.155456Z",
     "start_time": "2021-08-03T06:27:26.150915Z"
    },
    "scrolled": false
   },
   "outputs": [],
   "source": [
    "# def  def_plot(df_end): # https://plotly.com/python/histograms/#basic-histogram\n",
    "#     pl1,pl2 = {},{}\n",
    "#     data_plot1,data_plot2,data_plot3 = [],[],[]\n",
    "#     col_plot = [j for j in df_end.columns if j != '']\n",
    "# #     histogram \n",
    "#     for i in df_end.iloc[[0,2,4]].set_index('').index:\n",
    "#         pl1[i] = [ round(float(j),2) for j in df_end.iloc[[0,2,4]].set_index('').loc[i].values ]\n",
    "#         trace1 = go.Bar( x = col_plot, y = pl1[i], name = i, text=pl1[i])\n",
    "#         trace2 = go.Scatter( x = col_plot, y = pl1[i], name = i, mode=\"lines+markers+text\",\n",
    "#                             textposition=\"bottom center\", text=pl1[i] )\n",
    "#         data_plot1.append( trace1 )\n",
    "#         data_plot2.append( trace2 )\n",
    "# #     hist 3\n",
    "# #     for k in df_end.iloc[[4,7]].set_index('').index:\n",
    "# #         pl2[k] = [ float(j) for j in df_end.iloc[[4,7]].set_index('').loc[k].values ]\n",
    "# #         trace3 = go.Bar( x = col_plot, y = pl2[k], name = i, text=pl2[k])\n",
    "# #         data_plot3.append( trace3 )\n",
    "# #     layout (макет)\n",
    "#     layout1 = go.Layout(\n",
    "#         title_text= 'Количество клиентов', # title of plot\n",
    "#         xaxis_title_text='Годы', yaxis_title_text='Количество', \n",
    "#         autosize=True,\n",
    "#         bargap=0.2, # gap between bars of adjacent location coordinates\n",
    "#         bargroupgap=0.1, # gap between bars of the same location coordinates\n",
    "#         #autosize=False, width=1200, height=600,\n",
    "#         paper_bgcolor=\"LightSteelBlue\",\n",
    "#         barmode = 'group' # - One of the following enumeration values: ['stack', 'group', 'overlay', 'relative']         \n",
    "#         )\n",
    "# #     layout2 = go.Layout(\n",
    "# #         title_text= 'Доля клиентов ФЛ/ЮЛ в общем объеме по АСУП', # title of plot\n",
    "# #         xaxis_title_text='Годы', yaxis_title_text='Доля', \n",
    "# #         autosize=True,\n",
    "# #         #autosize=False, width=1200, height=600,\n",
    "# #         paper_bgcolor=\"LightSteelBlue\",\n",
    "# #         barmode = 'stack' \n",
    "# #         # - One of the following enumeration values: ['stack', 'group', 'overlay' наложение, 'relative']         \n",
    "# #         )\n",
    "# #     fig\n",
    "#     fig1 = go.Figure(data = data_plot1, layout = layout1)\n",
    "#     fig2 = go.Figure(data = data_plot2, layout = layout1)\n",
    "# #     fig3 = go.Figure(data = data_plot3, layout = layout2)\n",
    "#     fig2.update_traces(textposition='top center')\n",
    "#     fig1.show() \n",
    "#     fig2.show() \n",
    "# #     fig3.show()\n",
    "# def_plot(df_end)"
   ]
  },
  {
   "cell_type": "code",
   "execution_count": null,
   "id": "52eb19d6",
   "metadata": {
    "ExecuteTime": {
     "end_time": "2021-08-03T06:27:26.159844Z",
     "start_time": "2021-08-03T06:27:26.156657Z"
    },
    "scrolled": true
   },
   "outputs": [],
   "source": [
    "# df_end"
   ]
  },
  {
   "cell_type": "code",
   "execution_count": null,
   "id": "1bf6ec9a",
   "metadata": {},
   "outputs": [],
   "source": []
  },
  {
   "cell_type": "code",
   "execution_count": null,
   "id": "6aaa0991",
   "metadata": {},
   "outputs": [],
   "source": []
  },
  {
   "cell_type": "code",
   "execution_count": null,
   "id": "c6760273",
   "metadata": {},
   "outputs": [],
   "source": []
  },
  {
   "cell_type": "markdown",
   "id": "2b8ea7e4",
   "metadata": {
    "ExecuteTime": {
     "end_time": "2021-07-06T07:42:09.066956Z",
     "start_time": "2021-07-06T07:42:09.063650Z"
    }
   },
   "source": [
    "# Доля повторных покупок"
   ]
  },
  {
   "cell_type": "code",
   "execution_count": null,
   "id": "9637cb12",
   "metadata": {
    "ExecuteTime": {
     "end_time": "2021-08-03T06:27:26.163592Z",
     "start_time": "2021-08-03T06:27:26.161068Z"
    }
   },
   "outputs": [],
   "source": [
    "# Количество уникальных ID клиента (карточек клиента), которые совершили 2 и более покупок в отчетный период, \n",
    "# за исключением \"специальных\" клиентов, деленное на общее количество уникальных ID клиента (карточек клиента),\n",
    "# которые совершили покупку в отчетный период, за исключением \"специальных\" клиентов\n"
   ]
  },
  {
   "cell_type": "code",
   "execution_count": 17,
   "id": "73dae24b",
   "metadata": {
    "ExecuteTime": {
     "end_time": "2021-08-19T11:06:31.108414Z",
     "start_time": "2021-08-19T11:06:31.089137Z"
    }
   },
   "outputs": [],
   "source": [
    "\n",
    "# col_name = [\n",
    "# 'Доля повторных покупок активных зарегистрированных клиентов' \n",
    "# ,'динамика, %'\n",
    "# ,'Доля повторных покупок активных зарегистрированных клиентов ФЛ'\n",
    "# ,'динамика, %'\n",
    "# ,'Доля повторных покупок активных зарегистрированных клиентов ЮЛ'\n",
    "# ,'динамика, %'\n",
    "# ]\n",
    "\n",
    "# col_name2 =[\n",
    "# 'Доля ФЛ в общем объеме, %'\n",
    "# ,'Доля ЮЛ в общем объеме, %']\n",
    "\n",
    "# # df_end = pd.DataFrame()\n",
    "# # print('Какой \\n\\t то \\n \\t\\t\\t\\t текст')\n",
    "# print( colored(\" Какой \", \"green\") )\n",
    "# print( colored(\"\\n\\t то \", \"red\",  attrs=[\"underline\"]) )\n",
    "# print( colored(\" \\t\\t текст \", \"blue\", attrs=[\"bold\"] ) )\n",
    "\n",
    "# # ALL = 'Все'\n",
    "# def unique_sorted_values_plus_ALL(array):\n",
    "# #     print( array[array.notna()] )\n",
    "#     unique = array[array.notna()].unique().tolist()\n",
    "#     sorted(unique)\n",
    "# #     unique.insert(0, ALL)\n",
    "#     return unique\n",
    "\n",
    "# def colour_zero( value ):\n",
    "#     if isinstance(value, float):\n",
    "#         if value >= 0:\n",
    "#             return 'color: green'\n",
    "#         else:\n",
    "#             return 'color: red'\n",
    " \n",
    "# def num_active_clients(df_):\n",
    "#     columns=sorted(list(df_['Год_отгрузки'].unique()))\n",
    "#     fl = [ df_.query(f''' Год_отгрузки == '{j}' and Тип_клиента == 'ФЛ' ''') ['ID_клиента'].nunique()\n",
    "#          for j in columns ]  \n",
    "#     ul = [ df_.query(f''' Год_отгрузки == '{j}' and Тип_клиента == 'ЮЛ' ''') ['ID_клиента'].nunique()\n",
    "#          for j in columns ]  \n",
    "#     df_ = pd.DataFrame([fl, ul], columns=columns, index=['ФЛ', 'ЮЛ'] )\n",
    "#     df_ = pd.DataFrame([[df_[col].sum() for col in df_.columns]], columns=columns, index=['ФЛ и ЮЛ']).append(df_)\n",
    "    \n",
    "#     fun_list = []\n",
    "#     def f_dinamic(data):\n",
    "#     #     print( [np.int64(j) for j in data] )\n",
    "#         fun_list.append( [int(j) for j in data] ) # [int(round(j,0)) for j in data]\n",
    "#         fun_list.append(['']+[round((y/x-1)*100,2) for x, y in zip(data[0::], data[1::]) ])\n",
    "#         return fun_list\n",
    "\n",
    "#     for i in range(len(df_)):\n",
    "#         f_dinamic( list(df_.iloc[i,:]) ) \n",
    "#     df_end = pd.DataFrame(fun_list, columns=columns, index=col_name )\n",
    "#     # df_end.index.name = 'Количество (динамика) / год'\n",
    "#     for i in range(len(df_end))[::2]:\n",
    "#     #     df_end.iloc[i,:] = df_end.iloc[i,:] .astype(int)\n",
    "#         df_end.iloc[i,:] = df_end.iloc[i,:].astype(str).apply( lambda x: x.split('.')[0] )\n",
    "#     # for i in range(len(df_end))[::2]:\n",
    "#     #     df_end.iloc[i,:] = df_end.iloc[i,:] .astype(int)\n",
    "#     # df_end.astype(int)\n",
    "#     # df_end.applymap( lambda x: int(x) if x is not None and type(x)!= float else x )\n",
    "#     def def_lambda(x):\n",
    "# #         global df_end\n",
    "#         return  round(int(x.values[1]) / int(x.values[0])*100, 2) \n",
    "\n",
    "#     df_end = df_end.append( pd.DataFrame([df_end.iloc[[0,2],:].apply(def_lambda)] ) ) \n",
    "#     df_end = df_end.append( pd.DataFrame([df_end.iloc[[0,4],:].apply(def_lambda)] ) ) \n",
    "#     df_end.index = col_name + col_name2\n",
    "#     df_end = df_end.iloc[[0,1,2,3,6,4,5,7],:]\n",
    "#     df_end = df_end.reset_index(drop=False)\n",
    "#     df_end.iloc[[0,2,4,5,7]] = df_end.iloc[[0,2,4,5,7]].astype(str)\n",
    "#     df_end.columns = [''] + list(df_end.columns[1:])\n",
    "#     #     df_end.index.name = [' ']\n",
    "# #     print(df_end.index.name)\n",
    "#     return df_end\n",
    "\n",
    "# def num_orders(df_):\n",
    "#     columns = sorted(list(df_['Год_отгрузки'].unique()))\n",
    "#     fl = [ df_.query(f''' Год_отгрузки == '{j}' and Тип_клиента == 'ФЛ' ''') ['ID_заказа'].nunique()\n",
    "#          for j in columns ]  \n",
    "#     ul = [ df_.query(f''' Год_отгрузки == '{j}' and Тип_клиента == 'ЮЛ' ''') ['ID_заказа'].nunique()\n",
    "#          for j in columns ]  \n",
    "#     df_ = pd.DataFrame([fl, ul], columns=columns, index=['ФЛ', 'ЮЛ'] )\n",
    "#     df_ = pd.DataFrame([[df_[col].sum() for col in df_.columns]], columns=columns, index=['ФЛ и ЮЛ']).append(df_)\n",
    "    \n",
    "#     fun_list = []\n",
    "#     def f_dinamic(data):\n",
    "#     #     print( [np.int64(j) for j in data] )\n",
    "#         fun_list.append( [int(j) for j in data] ) # [int(round(j,0)) for j in data]\n",
    "#         fun_list.append(['']+[round((y/x-1)*100,2) for x, y in zip(data[0::], data[1::]) ])\n",
    "#         return fun_list\n",
    "\n",
    "#     for i in range(len(df_)):\n",
    "#         f_dinamic( list(df_.iloc[i,:]) ) \n",
    "#     df_end = pd.DataFrame(fun_list, columns=columns, index=col_name )\n",
    "#     # df_end.index.name = 'Количество (динамика) / год'\n",
    "#     for i in range(len(df_end))[::2]:\n",
    "#     #     df_end.iloc[i,:] = df_end.iloc[i,:] .astype(int)\n",
    "#         df_end.iloc[i,:] = df_end.iloc[i,:].astype(str).apply( lambda x: x.split('.')[0] )\n",
    "#     # for i in range(len(df_end))[::2]:\n",
    "#     #     df_end.iloc[i,:] = df_end.iloc[i,:] .astype(int)\n",
    "#     # df_end.astype(int)\n",
    "#     # df_end.applymap( lambda x: int(x) if x is not None and type(x)!= float else x )\n",
    "#     def def_lambda(x):\n",
    "# #         global df_end\n",
    "#         return  round(int(x.values[1]) / int(x.values[0])*100, 2) \n",
    "\n",
    "#     df_end = df_end.append( pd.DataFrame([df_end.iloc[[0,2],:].apply(def_lambda)] ) ) \n",
    "#     df_end = df_end.append( pd.DataFrame([df_end.iloc[[0,4],:].apply(def_lambda)] ) ) \n",
    "#     df_end.index = col_name + col_name2\n",
    "#     df_end = df_end.iloc[[0,1,2,3,6,4,5,7],:]\n",
    "#     df_end = df_end.reset_index(drop=False)\n",
    "#     df_end.iloc[[0,2,4,5,7]] = df_end.iloc[[0,2,4,5,7]].astype(str)\n",
    "#     df_end.columns = [''] + list(df_end.columns[1:])\n",
    "#     #     df_end.index.name = [' ']\n",
    "# #     print(df_end.index.name)\n",
    "#     return df_end\n",
    "  \n",
    "# def  def_plot(df_end): # https://plotly.com/python/histograms/#basic-histogram\n",
    "#     pl1,pl2 = {},{}\n",
    "#     data_plot1,data_plot2,data_plot3 = [],[],[]\n",
    "#     col_plot = [j for j in df_end.columns if j != '']\n",
    "# #     histogram \n",
    "#     for i in df_end.iloc[[0,2,4]].set_index('').index:\n",
    "#         pl1[i] = [ round(float(j),2) for j in df_end.iloc[[0,2,4]].set_index('').loc[i].values ]\n",
    "#         trace1 = go.Bar( x = col_plot, y = pl1[i], name = i, text=pl1[i])\n",
    "#         trace2 = go.Scatter( x = col_plot, y = pl1[i], name = i, mode=\"lines+markers+text\",\n",
    "#                             textposition=\"bottom center\", text=pl1[i] )\n",
    "#         data_plot1.append( trace1 )\n",
    "#         data_plot2.append( trace2 )\n",
    "# #     hist 3\n",
    "# #     for k in df_end.iloc[[4,7]].set_index('').index:\n",
    "# #         pl2[k] = [ float(j) for j in df_end.iloc[[4,7]].set_index('').loc[k].values ]\n",
    "# #         trace3 = go.Bar( x = col_plot, y = pl2[k], name = i, text=pl2[k])\n",
    "# #         data_plot3.append( trace3 )\n",
    "# #     layout (макет)\n",
    "#     layout1 = go.Layout(\n",
    "#         title_text= 'Количество клиентов', # title of plot\n",
    "#         xaxis_title_text='Годы', yaxis_title_text='Количество', \n",
    "#         autosize=True,\n",
    "#         #autosize=False, width=1200, height=600,\n",
    "#         paper_bgcolor=\"LightSteelBlue\",\n",
    "#         barmode = 'group' # - One of the following enumeration values: ['stack', 'group', 'overlay', 'relative']         \n",
    "#         )\n",
    "# #     layout2 = go.Layout(\n",
    "# #         title_text= 'Доля клиентов ФЛ/ЮЛ в общем объеме по АСУП', # title of plot\n",
    "# #         xaxis_title_text='Годы', yaxis_title_text='Доля', \n",
    "# #         autosize=True,\n",
    "# #         #autosize=False, width=1200, height=600,\n",
    "# #         paper_bgcolor=\"LightSteelBlue\",\n",
    "# #         barmode = 'stack' \n",
    "# #         # - One of the following enumeration values: ['stack', 'group', 'overlay' наложение, 'relative']         \n",
    "# #         )\n",
    "# #     fig\n",
    "#     fig1 = go.Figure(data = data_plot1, layout = layout1)\n",
    "#     fig2 = go.Figure(data = data_plot2, layout = layout1)\n",
    "# #     fig3 = go.Figure(data = data_plot3, layout = layout2)\n",
    "#     fig2.update_traces(textposition='top center')\n",
    "#     fig1.show() \n",
    "#     fig2.show() \n",
    "# #     fig3.show()\n",
    "\n",
    "# #     return (fig1,fig2,fig3)\n",
    "\n",
    "    \n",
    "# def widgets_filtering(wf_1, wf_2, wf_3, wf_4, wf_5):\n",
    "#     output_all_widgets.clear_output()\n",
    "# #     print( wf_1, wf_2, wf_3, wf_4, str(wf_5) )\n",
    "# #     display( print( colored(\" \\t\\t Ждите... \", \"blue\") ) ) #s , attrs=[\"bold\"] \n",
    "\n",
    "#     if wf_3 is None or wf_4 is None:\n",
    "# #         print('Выберите обе даты' )\n",
    "# #         df_date_filtering = pd.DataFrame()\n",
    "# #         df_12_filtering  = pd.DataFrame()\n",
    "#         df_all_filtering = pd.DataFrame()\n",
    "#     else:\n",
    "# #         print('Выбрынные значения дат: ', wf_3, '-', wf_4)\n",
    "# #         print( wf_5.split('\\n') )\n",
    "# #         print( wf_3, wf_4, type(wf_3), type(wf_4), str(wf_3) )\n",
    "#         try:\n",
    "#             df_all_filtering = df_new.set_index(df_new['Дата_отгрузки_товара']) .loc[ str(wf_3) : str(wf_4), : ]             \n",
    "#             df_all_filtering = df_all_filtering[(df_all_filtering['Тип_позиции'].isin(wf_1)) & (df_all_filtering['Классификация'].isin(wf_2))]\n",
    "#     #         df_all_filtering = df_new.set_index(df_new['Тип_позиции']) .loc[ wf_1 ] .set_index(df_new['Классификация']) .loc[ wf_2 ]  # [\"Товар\", \"Услуга\", \"Доставка\" ] [\"перекуп\", \"бюджетник\", \"майнер\", \"ТК\", \"АСЦ\"]\n",
    "#             df_all_filtering = df_all_filtering[df_all_filtering['ID_клиента'] \\\n",
    "#                                 .isin( set([j for j in df_all_filtering['ID_клиента'] \\\n",
    "#                                 .astype(int).to_list() if j not in [ int(j) for j in wf_5.split('\\n') if j != '']]))] \\\n",
    "#                                 .reset_index(drop=True)\n",
    "                    \n",
    "#             df_end = num_2_clients( \n",
    "#             df_new.set_index('ID_клиента').loc \\\n",
    "#             [df_new[['ID_клиента','ID_заказа']].groupby(by=['ID_клиента']).count().query(\" ID_заказа > 1 \").index].reset_index() \\\n",
    "#             )\\\n",
    "#             .iloc[[0,1,2,3,5,6],1:].applymap(lambda x: float(x) if x != '' else 0) \\\n",
    "#             / num_all_clients(df_new).iloc[[0,1,2,3,5,6],1:].applymap(lambda x: float(x) if x != '' else 0)\n",
    "#             df_end.index = col_name\n",
    "#             df_end.index.name = ''\n",
    "#             df_end = df_end.fillna('').reset_index()\n",
    "            \n",
    "#             with output_all_widgets:\n",
    "#                 display( # , subset=['Visits (000s)','Spend (Јm)', 'Nights (000s)']\n",
    "#                     df_end.style \\\n",
    "#                         .applymap(lambda x: colour_zero(x)).hide_index() \\\n",
    "#                         .format( formatter =   lambda x: \"{:.2f}\".format(float(x)) if isinstance(x, float) else x  )                         \n",
    "#                     )\n",
    "#                 def_plot(df_end)\n",
    "# #                 display( def_plot(df_end)[0] .show() )\n",
    "# #                 display( def_plot(df_end)[1] .show() )\n",
    "# #                 display( def_plot(df_end)[2] .show() )\n",
    "            \n",
    "#         except:\n",
    "#             pass\n",
    "                      \n",
    "# # Тип позиции\n",
    "# #     применяет НОВЫЕ значения 1го! interactive_changes.new и просто значения второго  w_filter2.value - Это при работе по отдельности!!\n",
    "# def w_filter1_EventHandler(interactive_changes):\n",
    "#     widgets_filtering(interactive_changes.new, w_filter2.value, w_filter3.value, w_filter4.value, w_filter5.value)\n",
    "# # Классификация\n",
    "# def w_filter2_EventHandler(interactive_changes):\n",
    "#     widgets_filtering(w_filter1.value, interactive_changes.new, w_filter3.value, w_filter4.value, w_filter5.value)\n",
    "# # Календарь от   \n",
    "# def w_filter3_EventHandler(interactive_changes):\n",
    "#     widgets_filtering(w_filter1.value, w_filter2.value, interactive_changes.new, w_filter4.value, w_filter5.value )\n",
    "# # Календарь до \n",
    "# def w_filter4_EventHandler(interactive_changes):\n",
    "#     widgets_filtering(w_filter1.value, w_filter2.value, w_filter3.value, interactive_changes.new, w_filter5.value)\n",
    "# # Исключить ID клиентов\n",
    "# def w_filter5_EventHandler(interactive_changes):\n",
    "#     widgets_filtering(w_filter1.value, w_filter2.value, w_filter3.value, w_filter4.value, interactive_changes.new)\n",
    "    \n",
    "# # общий вывод для всех виджетов\n",
    "# output_all_widgets = widgets.Output()\n",
    "\n",
    "# # Создание виджетов\n",
    "# description1 = widgets.Label(value='Тип позиции')\n",
    "# w_filter1 = widgets.SelectMultiple( \n",
    "#     options = unique_sorted_values_plus_ALL( df_new['Тип_позиции'] )\n",
    "#     ,value = [], rows = len( unique_sorted_values_plus_ALL( df_new['Тип_позиции'] ) )\n",
    "#     ,description = '', disabled = False )\n",
    "\n",
    "# description2 = widgets.Label(value='Классификация')\n",
    "# w_filter2 = widgets.SelectMultiple( \n",
    "#     options = unique_sorted_values_plus_ALL( df_new['Классификация'] )\n",
    "#     ,value = [], rows = len( unique_sorted_values_plus_ALL( df_new['Классификация'] ) )\n",
    "#     ,description = '', disabled = False )\n",
    "\n",
    "# description34 = widgets.Label(value='Для начала выберите обе даты')\n",
    "# w_filter3 = widgets.DatePicker( description='От', disabled=False ) # value = None,\n",
    "# w_filter4 = widgets.DatePicker( description='До', disabled=False )\n",
    "\n",
    "# description5 = widgets.Label(value='Исключить ID клиентов')\n",
    "# w_filter5 = widgets.Textarea( value='1\\n666\\n1137\\n790217\\n799975\\n801691\\n', \\\n",
    "#                              placeholder='Введите ID клиентов которые хотите исключить', description='', disabled=False )\n",
    "\n",
    "# # свяжем обработчик с выпадающим списком (что бы принимала функция новые значения .new)\n",
    "# w_filter1.observe(w_filter1_EventHandler, names='value')\n",
    "# w_filter2.observe(w_filter2_EventHandler, names='value')\n",
    "# w_filter3.observe(w_filter3_EventHandler, names='value')\n",
    "# w_filter4.observe(w_filter4_EventHandler, names='value')\n",
    "# w_filter5.observe(w_filter5_EventHandler, names='value')\n",
    "\n",
    "# # HBox и Простой вывод \n",
    "# # input_widgets1 = widgets.HBox([ description1, description2 ])\n",
    "# # input_widgets2 = widgets.HBox([ w_filter1, w_filter2 ])\n",
    "# # display(w_filter1) # display(w_filter2) \n",
    "\n",
    "# # GridBox\n",
    "# # items = [widgets.Label(str(i)) for i in range(8)]\n",
    "# # widgets.GridBox(items, layout=widgets.Layout(grid_template_columns=\"repeat(3, 100px)\"))\n",
    "\n",
    "# # VBox\n",
    "# box1 = widgets.VBox([ description34,  w_filter3, w_filter4 ])\n",
    "# box2 = widgets.VBox([ description1, w_filter1 ])\n",
    "# box34 = widgets.VBox([ description2, w_filter2 ])\n",
    "# box5 = widgets.VBox([ description5, w_filter5 ])\n",
    "# all_VBox_widgets = widgets.HBox([ box1, box2, box34, box5  ]) \n",
    "\n",
    "# # display\n",
    "# display(all_VBox_widgets)\n",
    "# display(output_all_widgets)\n",
    "# # учесть наны! 22253\n",
    "# # 31.03.2017"
   ]
  },
  {
   "cell_type": "code",
   "execution_count": null,
   "id": "3c4b2bc8",
   "metadata": {
    "ExecuteTime": {
     "end_time": "2021-08-03T06:27:26.167176Z",
     "start_time": "2021-08-03T06:27:26.164900Z"
    }
   },
   "outputs": [],
   "source": [
    "# ФУНКЦИИ РАСЧЕТА ТАБЛИЦЫ И ГРАФИКОВ "
   ]
  },
  {
   "cell_type": "code",
   "execution_count": 27,
   "id": "64b95ae7",
   "metadata": {
    "ExecuteTime": {
     "end_time": "2021-08-03T08:42:18.996113Z",
     "start_time": "2021-08-03T08:40:00.612275Z"
    }
   },
   "outputs": [
    {
     "name": "stdout",
     "output_type": "stream",
     "text": [
      "\u001b[32m Какой \u001b[0m\n",
      "\u001b[4m\u001b[31m\n",
      "\t то \u001b[0m\n",
      "\u001b[1m\u001b[34m \t\t текст \u001b[0m\n"
     ]
    },
    {
     "data": {
      "text/html": [
       "<style  type=\"text/css\" >\n",
       "#T_b65962fc_f436_11eb_9ac5_001a4a4b1c51row0_col1,#T_b65962fc_f436_11eb_9ac5_001a4a4b1c51row0_col2,#T_b65962fc_f436_11eb_9ac5_001a4a4b1c51row0_col3,#T_b65962fc_f436_11eb_9ac5_001a4a4b1c51row0_col4,#T_b65962fc_f436_11eb_9ac5_001a4a4b1c51row0_col5,#T_b65962fc_f436_11eb_9ac5_001a4a4b1c51row1_col2,#T_b65962fc_f436_11eb_9ac5_001a4a4b1c51row1_col3,#T_b65962fc_f436_11eb_9ac5_001a4a4b1c51row1_col4,#T_b65962fc_f436_11eb_9ac5_001a4a4b1c51row1_col5,#T_b65962fc_f436_11eb_9ac5_001a4a4b1c51row2_col1,#T_b65962fc_f436_11eb_9ac5_001a4a4b1c51row2_col2,#T_b65962fc_f436_11eb_9ac5_001a4a4b1c51row2_col3,#T_b65962fc_f436_11eb_9ac5_001a4a4b1c51row2_col4,#T_b65962fc_f436_11eb_9ac5_001a4a4b1c51row2_col5,#T_b65962fc_f436_11eb_9ac5_001a4a4b1c51row3_col2,#T_b65962fc_f436_11eb_9ac5_001a4a4b1c51row3_col3,#T_b65962fc_f436_11eb_9ac5_001a4a4b1c51row3_col4,#T_b65962fc_f436_11eb_9ac5_001a4a4b1c51row3_col5,#T_b65962fc_f436_11eb_9ac5_001a4a4b1c51row4_col1,#T_b65962fc_f436_11eb_9ac5_001a4a4b1c51row4_col2,#T_b65962fc_f436_11eb_9ac5_001a4a4b1c51row4_col3,#T_b65962fc_f436_11eb_9ac5_001a4a4b1c51row4_col4,#T_b65962fc_f436_11eb_9ac5_001a4a4b1c51row4_col5,#T_b65962fc_f436_11eb_9ac5_001a4a4b1c51row5_col2,#T_b65962fc_f436_11eb_9ac5_001a4a4b1c51row5_col3,#T_b65962fc_f436_11eb_9ac5_001a4a4b1c51row5_col4,#T_b65962fc_f436_11eb_9ac5_001a4a4b1c51row5_col5{\n",
       "            color:  green;\n",
       "        }</style><table id=\"T_b65962fc_f436_11eb_9ac5_001a4a4b1c51\" ><thead>    <tr>        <th class=\"col_heading level0 col0\" ></th>        <th class=\"col_heading level0 col1\" >2017</th>        <th class=\"col_heading level0 col2\" >2018</th>        <th class=\"col_heading level0 col3\" >2019</th>        <th class=\"col_heading level0 col4\" >2020</th>        <th class=\"col_heading level0 col5\" >2021</th>    </tr></thead><tbody>\n",
       "                <tr>\n",
       "                                <td id=\"T_b65962fc_f436_11eb_9ac5_001a4a4b1c51row0_col0\" class=\"data row0 col0\" >Количество активных зарегистрированных клиентов</td>\n",
       "                        <td id=\"T_b65962fc_f436_11eb_9ac5_001a4a4b1c51row0_col1\" class=\"data row0 col1\" >0.70</td>\n",
       "                        <td id=\"T_b65962fc_f436_11eb_9ac5_001a4a4b1c51row0_col2\" class=\"data row0 col2\" >0.69</td>\n",
       "                        <td id=\"T_b65962fc_f436_11eb_9ac5_001a4a4b1c51row0_col3\" class=\"data row0 col3\" >0.71</td>\n",
       "                        <td id=\"T_b65962fc_f436_11eb_9ac5_001a4a4b1c51row0_col4\" class=\"data row0 col4\" >0.69</td>\n",
       "                        <td id=\"T_b65962fc_f436_11eb_9ac5_001a4a4b1c51row0_col5\" class=\"data row0 col5\" >0.77</td>\n",
       "            </tr>\n",
       "            <tr>\n",
       "                                <td id=\"T_b65962fc_f436_11eb_9ac5_001a4a4b1c51row1_col0\" class=\"data row1 col0\" >динамика, %</td>\n",
       "                        <td id=\"T_b65962fc_f436_11eb_9ac5_001a4a4b1c51row1_col1\" class=\"data row1 col1\" ></td>\n",
       "                        <td id=\"T_b65962fc_f436_11eb_9ac5_001a4a4b1c51row1_col2\" class=\"data row1 col2\" >0.90</td>\n",
       "                        <td id=\"T_b65962fc_f436_11eb_9ac5_001a4a4b1c51row1_col3\" class=\"data row1 col3\" >0.31</td>\n",
       "                        <td id=\"T_b65962fc_f436_11eb_9ac5_001a4a4b1c51row1_col4\" class=\"data row1 col4\" >1.38</td>\n",
       "                        <td id=\"T_b65962fc_f436_11eb_9ac5_001a4a4b1c51row1_col5\" class=\"data row1 col5\" >0.91</td>\n",
       "            </tr>\n",
       "            <tr>\n",
       "                                <td id=\"T_b65962fc_f436_11eb_9ac5_001a4a4b1c51row2_col0\" class=\"data row2 col0\" >Количество активных зарегистрированных клиентов ФЛ</td>\n",
       "                        <td id=\"T_b65962fc_f436_11eb_9ac5_001a4a4b1c51row2_col1\" class=\"data row2 col1\" >0.66</td>\n",
       "                        <td id=\"T_b65962fc_f436_11eb_9ac5_001a4a4b1c51row2_col2\" class=\"data row2 col2\" >0.65</td>\n",
       "                        <td id=\"T_b65962fc_f436_11eb_9ac5_001a4a4b1c51row2_col3\" class=\"data row2 col3\" >0.66</td>\n",
       "                        <td id=\"T_b65962fc_f436_11eb_9ac5_001a4a4b1c51row2_col4\" class=\"data row2 col4\" >0.64</td>\n",
       "                        <td id=\"T_b65962fc_f436_11eb_9ac5_001a4a4b1c51row2_col5\" class=\"data row2 col5\" >0.71</td>\n",
       "            </tr>\n",
       "            <tr>\n",
       "                                <td id=\"T_b65962fc_f436_11eb_9ac5_001a4a4b1c51row3_col0\" class=\"data row3 col0\" >динамика, %</td>\n",
       "                        <td id=\"T_b65962fc_f436_11eb_9ac5_001a4a4b1c51row3_col1\" class=\"data row3 col1\" ></td>\n",
       "                        <td id=\"T_b65962fc_f436_11eb_9ac5_001a4a4b1c51row3_col2\" class=\"data row3 col2\" >0.84</td>\n",
       "                        <td id=\"T_b65962fc_f436_11eb_9ac5_001a4a4b1c51row3_col3\" class=\"data row3 col3\" >0.63</td>\n",
       "                        <td id=\"T_b65962fc_f436_11eb_9ac5_001a4a4b1c51row3_col4\" class=\"data row3 col4\" >1.48</td>\n",
       "                        <td id=\"T_b65962fc_f436_11eb_9ac5_001a4a4b1c51row3_col5\" class=\"data row3 col5\" >0.93</td>\n",
       "            </tr>\n",
       "            <tr>\n",
       "                                <td id=\"T_b65962fc_f436_11eb_9ac5_001a4a4b1c51row4_col0\" class=\"data row4 col0\" >Количество активных зарегистрированных клиентов ЮЛ</td>\n",
       "                        <td id=\"T_b65962fc_f436_11eb_9ac5_001a4a4b1c51row4_col1\" class=\"data row4 col1\" >0.91</td>\n",
       "                        <td id=\"T_b65962fc_f436_11eb_9ac5_001a4a4b1c51row4_col2\" class=\"data row4 col2\" >0.91</td>\n",
       "                        <td id=\"T_b65962fc_f436_11eb_9ac5_001a4a4b1c51row4_col3\" class=\"data row4 col3\" >0.92</td>\n",
       "                        <td id=\"T_b65962fc_f436_11eb_9ac5_001a4a4b1c51row4_col4\" class=\"data row4 col4\" >0.92</td>\n",
       "                        <td id=\"T_b65962fc_f436_11eb_9ac5_001a4a4b1c51row4_col5\" class=\"data row4 col5\" >0.94</td>\n",
       "            </tr>\n",
       "            <tr>\n",
       "                                <td id=\"T_b65962fc_f436_11eb_9ac5_001a4a4b1c51row5_col0\" class=\"data row5 col0\" >динамика, %</td>\n",
       "                        <td id=\"T_b65962fc_f436_11eb_9ac5_001a4a4b1c51row5_col1\" class=\"data row5 col1\" ></td>\n",
       "                        <td id=\"T_b65962fc_f436_11eb_9ac5_001a4a4b1c51row5_col2\" class=\"data row5 col2\" >1.01</td>\n",
       "                        <td id=\"T_b65962fc_f436_11eb_9ac5_001a4a4b1c51row5_col3\" class=\"data row5 col3\" >1.27</td>\n",
       "                        <td id=\"T_b65962fc_f436_11eb_9ac5_001a4a4b1c51row5_col4\" class=\"data row5 col4\" >1.04</td>\n",
       "                        <td id=\"T_b65962fc_f436_11eb_9ac5_001a4a4b1c51row5_col5\" class=\"data row5 col5\" >0.96</td>\n",
       "            </tr>\n",
       "    </tbody></table>"
      ],
      "text/plain": [
       "<pandas.io.formats.style.Styler at 0x7f57f86332e8>"
      ]
     },
     "metadata": {},
     "output_type": "display_data"
    },
    {
     "data": {
      "application/vnd.plotly.v1+json": {
       "config": {
        "plotlyServerURL": "https://plot.ly"
       },
       "data": [
        {
         "name": "Количество активных зарегистрированных клиентов",
         "text": [
          "0.7",
          "0.69",
          "0.71",
          "0.69",
          "0.77"
         ],
         "type": "bar",
         "x": [
          "2017",
          "2018",
          "2019",
          "2020",
          "2021"
         ],
         "y": [
          0.7,
          0.69,
          0.71,
          0.69,
          0.77
         ]
        },
        {
         "name": "Количество активных зарегистрированных клиентов ФЛ",
         "text": [
          "0.66",
          "0.65",
          "0.66",
          "0.64",
          "0.71"
         ],
         "type": "bar",
         "x": [
          "2017",
          "2018",
          "2019",
          "2020",
          "2021"
         ],
         "y": [
          0.66,
          0.65,
          0.66,
          0.64,
          0.71
         ]
        },
        {
         "name": "Количество активных зарегистрированных клиентов ЮЛ",
         "text": [
          "0.91",
          "0.91",
          "0.92",
          "0.92",
          "0.94"
         ],
         "type": "bar",
         "x": [
          "2017",
          "2018",
          "2019",
          "2020",
          "2021"
         ],
         "y": [
          0.91,
          0.91,
          0.92,
          0.92,
          0.94
         ]
        }
       ],
       "layout": {
        "autosize": true,
        "bargap": 0.2,
        "bargroupgap": 0.1,
        "barmode": "group",
        "paper_bgcolor": "LightSteelBlue",
        "template": {
         "data": {
          "bar": [
           {
            "error_x": {
             "color": "#2a3f5f"
            },
            "error_y": {
             "color": "#2a3f5f"
            },
            "marker": {
             "line": {
              "color": "#E5ECF6",
              "width": 0.5
             },
             "pattern": {
              "fillmode": "overlay",
              "size": 10,
              "solidity": 0.2
             }
            },
            "type": "bar"
           }
          ],
          "barpolar": [
           {
            "marker": {
             "line": {
              "color": "#E5ECF6",
              "width": 0.5
             },
             "pattern": {
              "fillmode": "overlay",
              "size": 10,
              "solidity": 0.2
             }
            },
            "type": "barpolar"
           }
          ],
          "carpet": [
           {
            "aaxis": {
             "endlinecolor": "#2a3f5f",
             "gridcolor": "white",
             "linecolor": "white",
             "minorgridcolor": "white",
             "startlinecolor": "#2a3f5f"
            },
            "baxis": {
             "endlinecolor": "#2a3f5f",
             "gridcolor": "white",
             "linecolor": "white",
             "minorgridcolor": "white",
             "startlinecolor": "#2a3f5f"
            },
            "type": "carpet"
           }
          ],
          "choropleth": [
           {
            "colorbar": {
             "outlinewidth": 0,
             "ticks": ""
            },
            "type": "choropleth"
           }
          ],
          "contour": [
           {
            "colorbar": {
             "outlinewidth": 0,
             "ticks": ""
            },
            "colorscale": [
             [
              0,
              "#0d0887"
             ],
             [
              0.1111111111111111,
              "#46039f"
             ],
             [
              0.2222222222222222,
              "#7201a8"
             ],
             [
              0.3333333333333333,
              "#9c179e"
             ],
             [
              0.4444444444444444,
              "#bd3786"
             ],
             [
              0.5555555555555556,
              "#d8576b"
             ],
             [
              0.6666666666666666,
              "#ed7953"
             ],
             [
              0.7777777777777778,
              "#fb9f3a"
             ],
             [
              0.8888888888888888,
              "#fdca26"
             ],
             [
              1,
              "#f0f921"
             ]
            ],
            "type": "contour"
           }
          ],
          "contourcarpet": [
           {
            "colorbar": {
             "outlinewidth": 0,
             "ticks": ""
            },
            "type": "contourcarpet"
           }
          ],
          "heatmap": [
           {
            "colorbar": {
             "outlinewidth": 0,
             "ticks": ""
            },
            "colorscale": [
             [
              0,
              "#0d0887"
             ],
             [
              0.1111111111111111,
              "#46039f"
             ],
             [
              0.2222222222222222,
              "#7201a8"
             ],
             [
              0.3333333333333333,
              "#9c179e"
             ],
             [
              0.4444444444444444,
              "#bd3786"
             ],
             [
              0.5555555555555556,
              "#d8576b"
             ],
             [
              0.6666666666666666,
              "#ed7953"
             ],
             [
              0.7777777777777778,
              "#fb9f3a"
             ],
             [
              0.8888888888888888,
              "#fdca26"
             ],
             [
              1,
              "#f0f921"
             ]
            ],
            "type": "heatmap"
           }
          ],
          "heatmapgl": [
           {
            "colorbar": {
             "outlinewidth": 0,
             "ticks": ""
            },
            "colorscale": [
             [
              0,
              "#0d0887"
             ],
             [
              0.1111111111111111,
              "#46039f"
             ],
             [
              0.2222222222222222,
              "#7201a8"
             ],
             [
              0.3333333333333333,
              "#9c179e"
             ],
             [
              0.4444444444444444,
              "#bd3786"
             ],
             [
              0.5555555555555556,
              "#d8576b"
             ],
             [
              0.6666666666666666,
              "#ed7953"
             ],
             [
              0.7777777777777778,
              "#fb9f3a"
             ],
             [
              0.8888888888888888,
              "#fdca26"
             ],
             [
              1,
              "#f0f921"
             ]
            ],
            "type": "heatmapgl"
           }
          ],
          "histogram": [
           {
            "marker": {
             "pattern": {
              "fillmode": "overlay",
              "size": 10,
              "solidity": 0.2
             }
            },
            "type": "histogram"
           }
          ],
          "histogram2d": [
           {
            "colorbar": {
             "outlinewidth": 0,
             "ticks": ""
            },
            "colorscale": [
             [
              0,
              "#0d0887"
             ],
             [
              0.1111111111111111,
              "#46039f"
             ],
             [
              0.2222222222222222,
              "#7201a8"
             ],
             [
              0.3333333333333333,
              "#9c179e"
             ],
             [
              0.4444444444444444,
              "#bd3786"
             ],
             [
              0.5555555555555556,
              "#d8576b"
             ],
             [
              0.6666666666666666,
              "#ed7953"
             ],
             [
              0.7777777777777778,
              "#fb9f3a"
             ],
             [
              0.8888888888888888,
              "#fdca26"
             ],
             [
              1,
              "#f0f921"
             ]
            ],
            "type": "histogram2d"
           }
          ],
          "histogram2dcontour": [
           {
            "colorbar": {
             "outlinewidth": 0,
             "ticks": ""
            },
            "colorscale": [
             [
              0,
              "#0d0887"
             ],
             [
              0.1111111111111111,
              "#46039f"
             ],
             [
              0.2222222222222222,
              "#7201a8"
             ],
             [
              0.3333333333333333,
              "#9c179e"
             ],
             [
              0.4444444444444444,
              "#bd3786"
             ],
             [
              0.5555555555555556,
              "#d8576b"
             ],
             [
              0.6666666666666666,
              "#ed7953"
             ],
             [
              0.7777777777777778,
              "#fb9f3a"
             ],
             [
              0.8888888888888888,
              "#fdca26"
             ],
             [
              1,
              "#f0f921"
             ]
            ],
            "type": "histogram2dcontour"
           }
          ],
          "mesh3d": [
           {
            "colorbar": {
             "outlinewidth": 0,
             "ticks": ""
            },
            "type": "mesh3d"
           }
          ],
          "parcoords": [
           {
            "line": {
             "colorbar": {
              "outlinewidth": 0,
              "ticks": ""
             }
            },
            "type": "parcoords"
           }
          ],
          "pie": [
           {
            "automargin": true,
            "type": "pie"
           }
          ],
          "scatter": [
           {
            "marker": {
             "colorbar": {
              "outlinewidth": 0,
              "ticks": ""
             }
            },
            "type": "scatter"
           }
          ],
          "scatter3d": [
           {
            "line": {
             "colorbar": {
              "outlinewidth": 0,
              "ticks": ""
             }
            },
            "marker": {
             "colorbar": {
              "outlinewidth": 0,
              "ticks": ""
             }
            },
            "type": "scatter3d"
           }
          ],
          "scattercarpet": [
           {
            "marker": {
             "colorbar": {
              "outlinewidth": 0,
              "ticks": ""
             }
            },
            "type": "scattercarpet"
           }
          ],
          "scattergeo": [
           {
            "marker": {
             "colorbar": {
              "outlinewidth": 0,
              "ticks": ""
             }
            },
            "type": "scattergeo"
           }
          ],
          "scattergl": [
           {
            "marker": {
             "colorbar": {
              "outlinewidth": 0,
              "ticks": ""
             }
            },
            "type": "scattergl"
           }
          ],
          "scattermapbox": [
           {
            "marker": {
             "colorbar": {
              "outlinewidth": 0,
              "ticks": ""
             }
            },
            "type": "scattermapbox"
           }
          ],
          "scatterpolar": [
           {
            "marker": {
             "colorbar": {
              "outlinewidth": 0,
              "ticks": ""
             }
            },
            "type": "scatterpolar"
           }
          ],
          "scatterpolargl": [
           {
            "marker": {
             "colorbar": {
              "outlinewidth": 0,
              "ticks": ""
             }
            },
            "type": "scatterpolargl"
           }
          ],
          "scatterternary": [
           {
            "marker": {
             "colorbar": {
              "outlinewidth": 0,
              "ticks": ""
             }
            },
            "type": "scatterternary"
           }
          ],
          "surface": [
           {
            "colorbar": {
             "outlinewidth": 0,
             "ticks": ""
            },
            "colorscale": [
             [
              0,
              "#0d0887"
             ],
             [
              0.1111111111111111,
              "#46039f"
             ],
             [
              0.2222222222222222,
              "#7201a8"
             ],
             [
              0.3333333333333333,
              "#9c179e"
             ],
             [
              0.4444444444444444,
              "#bd3786"
             ],
             [
              0.5555555555555556,
              "#d8576b"
             ],
             [
              0.6666666666666666,
              "#ed7953"
             ],
             [
              0.7777777777777778,
              "#fb9f3a"
             ],
             [
              0.8888888888888888,
              "#fdca26"
             ],
             [
              1,
              "#f0f921"
             ]
            ],
            "type": "surface"
           }
          ],
          "table": [
           {
            "cells": {
             "fill": {
              "color": "#EBF0F8"
             },
             "line": {
              "color": "white"
             }
            },
            "header": {
             "fill": {
              "color": "#C8D4E3"
             },
             "line": {
              "color": "white"
             }
            },
            "type": "table"
           }
          ]
         },
         "layout": {
          "annotationdefaults": {
           "arrowcolor": "#2a3f5f",
           "arrowhead": 0,
           "arrowwidth": 1
          },
          "autotypenumbers": "strict",
          "coloraxis": {
           "colorbar": {
            "outlinewidth": 0,
            "ticks": ""
           }
          },
          "colorscale": {
           "diverging": [
            [
             0,
             "#8e0152"
            ],
            [
             0.1,
             "#c51b7d"
            ],
            [
             0.2,
             "#de77ae"
            ],
            [
             0.3,
             "#f1b6da"
            ],
            [
             0.4,
             "#fde0ef"
            ],
            [
             0.5,
             "#f7f7f7"
            ],
            [
             0.6,
             "#e6f5d0"
            ],
            [
             0.7,
             "#b8e186"
            ],
            [
             0.8,
             "#7fbc41"
            ],
            [
             0.9,
             "#4d9221"
            ],
            [
             1,
             "#276419"
            ]
           ],
           "sequential": [
            [
             0,
             "#0d0887"
            ],
            [
             0.1111111111111111,
             "#46039f"
            ],
            [
             0.2222222222222222,
             "#7201a8"
            ],
            [
             0.3333333333333333,
             "#9c179e"
            ],
            [
             0.4444444444444444,
             "#bd3786"
            ],
            [
             0.5555555555555556,
             "#d8576b"
            ],
            [
             0.6666666666666666,
             "#ed7953"
            ],
            [
             0.7777777777777778,
             "#fb9f3a"
            ],
            [
             0.8888888888888888,
             "#fdca26"
            ],
            [
             1,
             "#f0f921"
            ]
           ],
           "sequentialminus": [
            [
             0,
             "#0d0887"
            ],
            [
             0.1111111111111111,
             "#46039f"
            ],
            [
             0.2222222222222222,
             "#7201a8"
            ],
            [
             0.3333333333333333,
             "#9c179e"
            ],
            [
             0.4444444444444444,
             "#bd3786"
            ],
            [
             0.5555555555555556,
             "#d8576b"
            ],
            [
             0.6666666666666666,
             "#ed7953"
            ],
            [
             0.7777777777777778,
             "#fb9f3a"
            ],
            [
             0.8888888888888888,
             "#fdca26"
            ],
            [
             1,
             "#f0f921"
            ]
           ]
          },
          "colorway": [
           "#636efa",
           "#EF553B",
           "#00cc96",
           "#ab63fa",
           "#FFA15A",
           "#19d3f3",
           "#FF6692",
           "#B6E880",
           "#FF97FF",
           "#FECB52"
          ],
          "font": {
           "color": "#2a3f5f"
          },
          "geo": {
           "bgcolor": "white",
           "lakecolor": "white",
           "landcolor": "#E5ECF6",
           "showlakes": true,
           "showland": true,
           "subunitcolor": "white"
          },
          "hoverlabel": {
           "align": "left"
          },
          "hovermode": "closest",
          "mapbox": {
           "style": "light"
          },
          "paper_bgcolor": "white",
          "plot_bgcolor": "#E5ECF6",
          "polar": {
           "angularaxis": {
            "gridcolor": "white",
            "linecolor": "white",
            "ticks": ""
           },
           "bgcolor": "#E5ECF6",
           "radialaxis": {
            "gridcolor": "white",
            "linecolor": "white",
            "ticks": ""
           }
          },
          "scene": {
           "xaxis": {
            "backgroundcolor": "#E5ECF6",
            "gridcolor": "white",
            "gridwidth": 2,
            "linecolor": "white",
            "showbackground": true,
            "ticks": "",
            "zerolinecolor": "white"
           },
           "yaxis": {
            "backgroundcolor": "#E5ECF6",
            "gridcolor": "white",
            "gridwidth": 2,
            "linecolor": "white",
            "showbackground": true,
            "ticks": "",
            "zerolinecolor": "white"
           },
           "zaxis": {
            "backgroundcolor": "#E5ECF6",
            "gridcolor": "white",
            "gridwidth": 2,
            "linecolor": "white",
            "showbackground": true,
            "ticks": "",
            "zerolinecolor": "white"
           }
          },
          "shapedefaults": {
           "line": {
            "color": "#2a3f5f"
           }
          },
          "ternary": {
           "aaxis": {
            "gridcolor": "white",
            "linecolor": "white",
            "ticks": ""
           },
           "baxis": {
            "gridcolor": "white",
            "linecolor": "white",
            "ticks": ""
           },
           "bgcolor": "#E5ECF6",
           "caxis": {
            "gridcolor": "white",
            "linecolor": "white",
            "ticks": ""
           }
          },
          "title": {
           "x": 0.05
          },
          "xaxis": {
           "automargin": true,
           "gridcolor": "white",
           "linecolor": "white",
           "ticks": "",
           "title": {
            "standoff": 15
           },
           "zerolinecolor": "white",
           "zerolinewidth": 2
          },
          "yaxis": {
           "automargin": true,
           "gridcolor": "white",
           "linecolor": "white",
           "ticks": "",
           "title": {
            "standoff": 15
           },
           "zerolinecolor": "white",
           "zerolinewidth": 2
          }
         }
        },
        "title": {
         "text": "Количество клиентов"
        },
        "xaxis": {
         "title": {
          "text": "Годы"
         }
        },
        "yaxis": {
         "title": {
          "text": "Количество"
         }
        }
       }
      },
      "text/html": [
       "<div>                            <div id=\"9d5f527e-f58b-4773-8e60-fd60289bda3a\" class=\"plotly-graph-div\" style=\"height:525px; width:100%;\"></div>            <script type=\"text/javascript\">                require([\"plotly\"], function(Plotly) {                    window.PLOTLYENV=window.PLOTLYENV || {};                                    if (document.getElementById(\"9d5f527e-f58b-4773-8e60-fd60289bda3a\")) {                    Plotly.newPlot(                        \"9d5f527e-f58b-4773-8e60-fd60289bda3a\",                        [{\"name\":\"\\u041a\\u043e\\u043b\\u0438\\u0447\\u0435\\u0441\\u0442\\u0432\\u043e \\u0430\\u043a\\u0442\\u0438\\u0432\\u043d\\u044b\\u0445 \\u0437\\u0430\\u0440\\u0435\\u0433\\u0438\\u0441\\u0442\\u0440\\u0438\\u0440\\u043e\\u0432\\u0430\\u043d\\u043d\\u044b\\u0445 \\u043a\\u043b\\u0438\\u0435\\u043d\\u0442\\u043e\\u0432\",\"text\":[\"0.7\",\"0.69\",\"0.71\",\"0.69\",\"0.77\"],\"type\":\"bar\",\"x\":[\"2017\",\"2018\",\"2019\",\"2020\",\"2021\"],\"y\":[0.7,0.69,0.71,0.69,0.77]},{\"name\":\"\\u041a\\u043e\\u043b\\u0438\\u0447\\u0435\\u0441\\u0442\\u0432\\u043e \\u0430\\u043a\\u0442\\u0438\\u0432\\u043d\\u044b\\u0445 \\u0437\\u0430\\u0440\\u0435\\u0433\\u0438\\u0441\\u0442\\u0440\\u0438\\u0440\\u043e\\u0432\\u0430\\u043d\\u043d\\u044b\\u0445 \\u043a\\u043b\\u0438\\u0435\\u043d\\u0442\\u043e\\u0432 \\u0424\\u041b\",\"text\":[\"0.66\",\"0.65\",\"0.66\",\"0.64\",\"0.71\"],\"type\":\"bar\",\"x\":[\"2017\",\"2018\",\"2019\",\"2020\",\"2021\"],\"y\":[0.66,0.65,0.66,0.64,0.71]},{\"name\":\"\\u041a\\u043e\\u043b\\u0438\\u0447\\u0435\\u0441\\u0442\\u0432\\u043e \\u0430\\u043a\\u0442\\u0438\\u0432\\u043d\\u044b\\u0445 \\u0437\\u0430\\u0440\\u0435\\u0433\\u0438\\u0441\\u0442\\u0440\\u0438\\u0440\\u043e\\u0432\\u0430\\u043d\\u043d\\u044b\\u0445 \\u043a\\u043b\\u0438\\u0435\\u043d\\u0442\\u043e\\u0432 \\u042e\\u041b\",\"text\":[\"0.91\",\"0.91\",\"0.92\",\"0.92\",\"0.94\"],\"type\":\"bar\",\"x\":[\"2017\",\"2018\",\"2019\",\"2020\",\"2021\"],\"y\":[0.91,0.91,0.92,0.92,0.94]}],                        {\"autosize\":true,\"bargap\":0.2,\"bargroupgap\":0.1,\"barmode\":\"group\",\"paper_bgcolor\":\"LightSteelBlue\",\"template\":{\"data\":{\"bar\":[{\"error_x\":{\"color\":\"#2a3f5f\"},\"error_y\":{\"color\":\"#2a3f5f\"},\"marker\":{\"line\":{\"color\":\"#E5ECF6\",\"width\":0.5},\"pattern\":{\"fillmode\":\"overlay\",\"size\":10,\"solidity\":0.2}},\"type\":\"bar\"}],\"barpolar\":[{\"marker\":{\"line\":{\"color\":\"#E5ECF6\",\"width\":0.5},\"pattern\":{\"fillmode\":\"overlay\",\"size\":10,\"solidity\":0.2}},\"type\":\"barpolar\"}],\"carpet\":[{\"aaxis\":{\"endlinecolor\":\"#2a3f5f\",\"gridcolor\":\"white\",\"linecolor\":\"white\",\"minorgridcolor\":\"white\",\"startlinecolor\":\"#2a3f5f\"},\"baxis\":{\"endlinecolor\":\"#2a3f5f\",\"gridcolor\":\"white\",\"linecolor\":\"white\",\"minorgridcolor\":\"white\",\"startlinecolor\":\"#2a3f5f\"},\"type\":\"carpet\"}],\"choropleth\":[{\"colorbar\":{\"outlinewidth\":0,\"ticks\":\"\"},\"type\":\"choropleth\"}],\"contour\":[{\"colorbar\":{\"outlinewidth\":0,\"ticks\":\"\"},\"colorscale\":[[0.0,\"#0d0887\"],[0.1111111111111111,\"#46039f\"],[0.2222222222222222,\"#7201a8\"],[0.3333333333333333,\"#9c179e\"],[0.4444444444444444,\"#bd3786\"],[0.5555555555555556,\"#d8576b\"],[0.6666666666666666,\"#ed7953\"],[0.7777777777777778,\"#fb9f3a\"],[0.8888888888888888,\"#fdca26\"],[1.0,\"#f0f921\"]],\"type\":\"contour\"}],\"contourcarpet\":[{\"colorbar\":{\"outlinewidth\":0,\"ticks\":\"\"},\"type\":\"contourcarpet\"}],\"heatmap\":[{\"colorbar\":{\"outlinewidth\":0,\"ticks\":\"\"},\"colorscale\":[[0.0,\"#0d0887\"],[0.1111111111111111,\"#46039f\"],[0.2222222222222222,\"#7201a8\"],[0.3333333333333333,\"#9c179e\"],[0.4444444444444444,\"#bd3786\"],[0.5555555555555556,\"#d8576b\"],[0.6666666666666666,\"#ed7953\"],[0.7777777777777778,\"#fb9f3a\"],[0.8888888888888888,\"#fdca26\"],[1.0,\"#f0f921\"]],\"type\":\"heatmap\"}],\"heatmapgl\":[{\"colorbar\":{\"outlinewidth\":0,\"ticks\":\"\"},\"colorscale\":[[0.0,\"#0d0887\"],[0.1111111111111111,\"#46039f\"],[0.2222222222222222,\"#7201a8\"],[0.3333333333333333,\"#9c179e\"],[0.4444444444444444,\"#bd3786\"],[0.5555555555555556,\"#d8576b\"],[0.6666666666666666,\"#ed7953\"],[0.7777777777777778,\"#fb9f3a\"],[0.8888888888888888,\"#fdca26\"],[1.0,\"#f0f921\"]],\"type\":\"heatmapgl\"}],\"histogram\":[{\"marker\":{\"pattern\":{\"fillmode\":\"overlay\",\"size\":10,\"solidity\":0.2}},\"type\":\"histogram\"}],\"histogram2d\":[{\"colorbar\":{\"outlinewidth\":0,\"ticks\":\"\"},\"colorscale\":[[0.0,\"#0d0887\"],[0.1111111111111111,\"#46039f\"],[0.2222222222222222,\"#7201a8\"],[0.3333333333333333,\"#9c179e\"],[0.4444444444444444,\"#bd3786\"],[0.5555555555555556,\"#d8576b\"],[0.6666666666666666,\"#ed7953\"],[0.7777777777777778,\"#fb9f3a\"],[0.8888888888888888,\"#fdca26\"],[1.0,\"#f0f921\"]],\"type\":\"histogram2d\"}],\"histogram2dcontour\":[{\"colorbar\":{\"outlinewidth\":0,\"ticks\":\"\"},\"colorscale\":[[0.0,\"#0d0887\"],[0.1111111111111111,\"#46039f\"],[0.2222222222222222,\"#7201a8\"],[0.3333333333333333,\"#9c179e\"],[0.4444444444444444,\"#bd3786\"],[0.5555555555555556,\"#d8576b\"],[0.6666666666666666,\"#ed7953\"],[0.7777777777777778,\"#fb9f3a\"],[0.8888888888888888,\"#fdca26\"],[1.0,\"#f0f921\"]],\"type\":\"histogram2dcontour\"}],\"mesh3d\":[{\"colorbar\":{\"outlinewidth\":0,\"ticks\":\"\"},\"type\":\"mesh3d\"}],\"parcoords\":[{\"line\":{\"colorbar\":{\"outlinewidth\":0,\"ticks\":\"\"}},\"type\":\"parcoords\"}],\"pie\":[{\"automargin\":true,\"type\":\"pie\"}],\"scatter\":[{\"marker\":{\"colorbar\":{\"outlinewidth\":0,\"ticks\":\"\"}},\"type\":\"scatter\"}],\"scatter3d\":[{\"line\":{\"colorbar\":{\"outlinewidth\":0,\"ticks\":\"\"}},\"marker\":{\"colorbar\":{\"outlinewidth\":0,\"ticks\":\"\"}},\"type\":\"scatter3d\"}],\"scattercarpet\":[{\"marker\":{\"colorbar\":{\"outlinewidth\":0,\"ticks\":\"\"}},\"type\":\"scattercarpet\"}],\"scattergeo\":[{\"marker\":{\"colorbar\":{\"outlinewidth\":0,\"ticks\":\"\"}},\"type\":\"scattergeo\"}],\"scattergl\":[{\"marker\":{\"colorbar\":{\"outlinewidth\":0,\"ticks\":\"\"}},\"type\":\"scattergl\"}],\"scattermapbox\":[{\"marker\":{\"colorbar\":{\"outlinewidth\":0,\"ticks\":\"\"}},\"type\":\"scattermapbox\"}],\"scatterpolar\":[{\"marker\":{\"colorbar\":{\"outlinewidth\":0,\"ticks\":\"\"}},\"type\":\"scatterpolar\"}],\"scatterpolargl\":[{\"marker\":{\"colorbar\":{\"outlinewidth\":0,\"ticks\":\"\"}},\"type\":\"scatterpolargl\"}],\"scatterternary\":[{\"marker\":{\"colorbar\":{\"outlinewidth\":0,\"ticks\":\"\"}},\"type\":\"scatterternary\"}],\"surface\":[{\"colorbar\":{\"outlinewidth\":0,\"ticks\":\"\"},\"colorscale\":[[0.0,\"#0d0887\"],[0.1111111111111111,\"#46039f\"],[0.2222222222222222,\"#7201a8\"],[0.3333333333333333,\"#9c179e\"],[0.4444444444444444,\"#bd3786\"],[0.5555555555555556,\"#d8576b\"],[0.6666666666666666,\"#ed7953\"],[0.7777777777777778,\"#fb9f3a\"],[0.8888888888888888,\"#fdca26\"],[1.0,\"#f0f921\"]],\"type\":\"surface\"}],\"table\":[{\"cells\":{\"fill\":{\"color\":\"#EBF0F8\"},\"line\":{\"color\":\"white\"}},\"header\":{\"fill\":{\"color\":\"#C8D4E3\"},\"line\":{\"color\":\"white\"}},\"type\":\"table\"}]},\"layout\":{\"annotationdefaults\":{\"arrowcolor\":\"#2a3f5f\",\"arrowhead\":0,\"arrowwidth\":1},\"autotypenumbers\":\"strict\",\"coloraxis\":{\"colorbar\":{\"outlinewidth\":0,\"ticks\":\"\"}},\"colorscale\":{\"diverging\":[[0,\"#8e0152\"],[0.1,\"#c51b7d\"],[0.2,\"#de77ae\"],[0.3,\"#f1b6da\"],[0.4,\"#fde0ef\"],[0.5,\"#f7f7f7\"],[0.6,\"#e6f5d0\"],[0.7,\"#b8e186\"],[0.8,\"#7fbc41\"],[0.9,\"#4d9221\"],[1,\"#276419\"]],\"sequential\":[[0.0,\"#0d0887\"],[0.1111111111111111,\"#46039f\"],[0.2222222222222222,\"#7201a8\"],[0.3333333333333333,\"#9c179e\"],[0.4444444444444444,\"#bd3786\"],[0.5555555555555556,\"#d8576b\"],[0.6666666666666666,\"#ed7953\"],[0.7777777777777778,\"#fb9f3a\"],[0.8888888888888888,\"#fdca26\"],[1.0,\"#f0f921\"]],\"sequentialminus\":[[0.0,\"#0d0887\"],[0.1111111111111111,\"#46039f\"],[0.2222222222222222,\"#7201a8\"],[0.3333333333333333,\"#9c179e\"],[0.4444444444444444,\"#bd3786\"],[0.5555555555555556,\"#d8576b\"],[0.6666666666666666,\"#ed7953\"],[0.7777777777777778,\"#fb9f3a\"],[0.8888888888888888,\"#fdca26\"],[1.0,\"#f0f921\"]]},\"colorway\":[\"#636efa\",\"#EF553B\",\"#00cc96\",\"#ab63fa\",\"#FFA15A\",\"#19d3f3\",\"#FF6692\",\"#B6E880\",\"#FF97FF\",\"#FECB52\"],\"font\":{\"color\":\"#2a3f5f\"},\"geo\":{\"bgcolor\":\"white\",\"lakecolor\":\"white\",\"landcolor\":\"#E5ECF6\",\"showlakes\":true,\"showland\":true,\"subunitcolor\":\"white\"},\"hoverlabel\":{\"align\":\"left\"},\"hovermode\":\"closest\",\"mapbox\":{\"style\":\"light\"},\"paper_bgcolor\":\"white\",\"plot_bgcolor\":\"#E5ECF6\",\"polar\":{\"angularaxis\":{\"gridcolor\":\"white\",\"linecolor\":\"white\",\"ticks\":\"\"},\"bgcolor\":\"#E5ECF6\",\"radialaxis\":{\"gridcolor\":\"white\",\"linecolor\":\"white\",\"ticks\":\"\"}},\"scene\":{\"xaxis\":{\"backgroundcolor\":\"#E5ECF6\",\"gridcolor\":\"white\",\"gridwidth\":2,\"linecolor\":\"white\",\"showbackground\":true,\"ticks\":\"\",\"zerolinecolor\":\"white\"},\"yaxis\":{\"backgroundcolor\":\"#E5ECF6\",\"gridcolor\":\"white\",\"gridwidth\":2,\"linecolor\":\"white\",\"showbackground\":true,\"ticks\":\"\",\"zerolinecolor\":\"white\"},\"zaxis\":{\"backgroundcolor\":\"#E5ECF6\",\"gridcolor\":\"white\",\"gridwidth\":2,\"linecolor\":\"white\",\"showbackground\":true,\"ticks\":\"\",\"zerolinecolor\":\"white\"}},\"shapedefaults\":{\"line\":{\"color\":\"#2a3f5f\"}},\"ternary\":{\"aaxis\":{\"gridcolor\":\"white\",\"linecolor\":\"white\",\"ticks\":\"\"},\"baxis\":{\"gridcolor\":\"white\",\"linecolor\":\"white\",\"ticks\":\"\"},\"bgcolor\":\"#E5ECF6\",\"caxis\":{\"gridcolor\":\"white\",\"linecolor\":\"white\",\"ticks\":\"\"}},\"title\":{\"x\":0.05},\"xaxis\":{\"automargin\":true,\"gridcolor\":\"white\",\"linecolor\":\"white\",\"ticks\":\"\",\"title\":{\"standoff\":15},\"zerolinecolor\":\"white\",\"zerolinewidth\":2},\"yaxis\":{\"automargin\":true,\"gridcolor\":\"white\",\"linecolor\":\"white\",\"ticks\":\"\",\"title\":{\"standoff\":15},\"zerolinecolor\":\"white\",\"zerolinewidth\":2}}},\"title\":{\"text\":\"\\u041a\\u043e\\u043b\\u0438\\u0447\\u0435\\u0441\\u0442\\u0432\\u043e \\u043a\\u043b\\u0438\\u0435\\u043d\\u0442\\u043e\\u0432\"},\"xaxis\":{\"title\":{\"text\":\"\\u0413\\u043e\\u0434\\u044b\"}},\"yaxis\":{\"title\":{\"text\":\"\\u041a\\u043e\\u043b\\u0438\\u0447\\u0435\\u0441\\u0442\\u0432\\u043e\"}}},                        {\"responsive\": true}                    ).then(function(){\n",
       "                            \n",
       "var gd = document.getElementById('9d5f527e-f58b-4773-8e60-fd60289bda3a');\n",
       "var x = new MutationObserver(function (mutations, observer) {{\n",
       "        var display = window.getComputedStyle(gd).display;\n",
       "        if (!display || display === 'none') {{\n",
       "            console.log([gd, 'removed!']);\n",
       "            Plotly.purge(gd);\n",
       "            observer.disconnect();\n",
       "        }}\n",
       "}});\n",
       "\n",
       "// Listen for the removal of the full notebook cells\n",
       "var notebookContainer = gd.closest('#notebook-container');\n",
       "if (notebookContainer) {{\n",
       "    x.observe(notebookContainer, {childList: true});\n",
       "}}\n",
       "\n",
       "// Listen for the clearing of the current output cell\n",
       "var outputEl = gd.closest('.output');\n",
       "if (outputEl) {{\n",
       "    x.observe(outputEl, {childList: true});\n",
       "}}\n",
       "\n",
       "                        })                };                });            </script>        </div>"
      ]
     },
     "metadata": {},
     "output_type": "display_data"
    },
    {
     "data": {
      "application/vnd.plotly.v1+json": {
       "config": {
        "plotlyServerURL": "https://plot.ly"
       },
       "data": [
        {
         "mode": "lines+markers+text",
         "name": "Количество активных зарегистрированных клиентов",
         "text": [
          "0.7",
          "0.69",
          "0.71",
          "0.69",
          "0.77"
         ],
         "textposition": "top center",
         "type": "scatter",
         "x": [
          "2017",
          "2018",
          "2019",
          "2020",
          "2021"
         ],
         "y": [
          0.7,
          0.69,
          0.71,
          0.69,
          0.77
         ]
        },
        {
         "mode": "lines+markers+text",
         "name": "Количество активных зарегистрированных клиентов ФЛ",
         "text": [
          "0.66",
          "0.65",
          "0.66",
          "0.64",
          "0.71"
         ],
         "textposition": "top center",
         "type": "scatter",
         "x": [
          "2017",
          "2018",
          "2019",
          "2020",
          "2021"
         ],
         "y": [
          0.66,
          0.65,
          0.66,
          0.64,
          0.71
         ]
        },
        {
         "mode": "lines+markers+text",
         "name": "Количество активных зарегистрированных клиентов ЮЛ",
         "text": [
          "0.91",
          "0.91",
          "0.92",
          "0.92",
          "0.94"
         ],
         "textposition": "top center",
         "type": "scatter",
         "x": [
          "2017",
          "2018",
          "2019",
          "2020",
          "2021"
         ],
         "y": [
          0.91,
          0.91,
          0.92,
          0.92,
          0.94
         ]
        }
       ],
       "layout": {
        "autosize": true,
        "bargap": 0.2,
        "bargroupgap": 0.1,
        "barmode": "group",
        "paper_bgcolor": "LightSteelBlue",
        "template": {
         "data": {
          "bar": [
           {
            "error_x": {
             "color": "#2a3f5f"
            },
            "error_y": {
             "color": "#2a3f5f"
            },
            "marker": {
             "line": {
              "color": "#E5ECF6",
              "width": 0.5
             },
             "pattern": {
              "fillmode": "overlay",
              "size": 10,
              "solidity": 0.2
             }
            },
            "type": "bar"
           }
          ],
          "barpolar": [
           {
            "marker": {
             "line": {
              "color": "#E5ECF6",
              "width": 0.5
             },
             "pattern": {
              "fillmode": "overlay",
              "size": 10,
              "solidity": 0.2
             }
            },
            "type": "barpolar"
           }
          ],
          "carpet": [
           {
            "aaxis": {
             "endlinecolor": "#2a3f5f",
             "gridcolor": "white",
             "linecolor": "white",
             "minorgridcolor": "white",
             "startlinecolor": "#2a3f5f"
            },
            "baxis": {
             "endlinecolor": "#2a3f5f",
             "gridcolor": "white",
             "linecolor": "white",
             "minorgridcolor": "white",
             "startlinecolor": "#2a3f5f"
            },
            "type": "carpet"
           }
          ],
          "choropleth": [
           {
            "colorbar": {
             "outlinewidth": 0,
             "ticks": ""
            },
            "type": "choropleth"
           }
          ],
          "contour": [
           {
            "colorbar": {
             "outlinewidth": 0,
             "ticks": ""
            },
            "colorscale": [
             [
              0,
              "#0d0887"
             ],
             [
              0.1111111111111111,
              "#46039f"
             ],
             [
              0.2222222222222222,
              "#7201a8"
             ],
             [
              0.3333333333333333,
              "#9c179e"
             ],
             [
              0.4444444444444444,
              "#bd3786"
             ],
             [
              0.5555555555555556,
              "#d8576b"
             ],
             [
              0.6666666666666666,
              "#ed7953"
             ],
             [
              0.7777777777777778,
              "#fb9f3a"
             ],
             [
              0.8888888888888888,
              "#fdca26"
             ],
             [
              1,
              "#f0f921"
             ]
            ],
            "type": "contour"
           }
          ],
          "contourcarpet": [
           {
            "colorbar": {
             "outlinewidth": 0,
             "ticks": ""
            },
            "type": "contourcarpet"
           }
          ],
          "heatmap": [
           {
            "colorbar": {
             "outlinewidth": 0,
             "ticks": ""
            },
            "colorscale": [
             [
              0,
              "#0d0887"
             ],
             [
              0.1111111111111111,
              "#46039f"
             ],
             [
              0.2222222222222222,
              "#7201a8"
             ],
             [
              0.3333333333333333,
              "#9c179e"
             ],
             [
              0.4444444444444444,
              "#bd3786"
             ],
             [
              0.5555555555555556,
              "#d8576b"
             ],
             [
              0.6666666666666666,
              "#ed7953"
             ],
             [
              0.7777777777777778,
              "#fb9f3a"
             ],
             [
              0.8888888888888888,
              "#fdca26"
             ],
             [
              1,
              "#f0f921"
             ]
            ],
            "type": "heatmap"
           }
          ],
          "heatmapgl": [
           {
            "colorbar": {
             "outlinewidth": 0,
             "ticks": ""
            },
            "colorscale": [
             [
              0,
              "#0d0887"
             ],
             [
              0.1111111111111111,
              "#46039f"
             ],
             [
              0.2222222222222222,
              "#7201a8"
             ],
             [
              0.3333333333333333,
              "#9c179e"
             ],
             [
              0.4444444444444444,
              "#bd3786"
             ],
             [
              0.5555555555555556,
              "#d8576b"
             ],
             [
              0.6666666666666666,
              "#ed7953"
             ],
             [
              0.7777777777777778,
              "#fb9f3a"
             ],
             [
              0.8888888888888888,
              "#fdca26"
             ],
             [
              1,
              "#f0f921"
             ]
            ],
            "type": "heatmapgl"
           }
          ],
          "histogram": [
           {
            "marker": {
             "pattern": {
              "fillmode": "overlay",
              "size": 10,
              "solidity": 0.2
             }
            },
            "type": "histogram"
           }
          ],
          "histogram2d": [
           {
            "colorbar": {
             "outlinewidth": 0,
             "ticks": ""
            },
            "colorscale": [
             [
              0,
              "#0d0887"
             ],
             [
              0.1111111111111111,
              "#46039f"
             ],
             [
              0.2222222222222222,
              "#7201a8"
             ],
             [
              0.3333333333333333,
              "#9c179e"
             ],
             [
              0.4444444444444444,
              "#bd3786"
             ],
             [
              0.5555555555555556,
              "#d8576b"
             ],
             [
              0.6666666666666666,
              "#ed7953"
             ],
             [
              0.7777777777777778,
              "#fb9f3a"
             ],
             [
              0.8888888888888888,
              "#fdca26"
             ],
             [
              1,
              "#f0f921"
             ]
            ],
            "type": "histogram2d"
           }
          ],
          "histogram2dcontour": [
           {
            "colorbar": {
             "outlinewidth": 0,
             "ticks": ""
            },
            "colorscale": [
             [
              0,
              "#0d0887"
             ],
             [
              0.1111111111111111,
              "#46039f"
             ],
             [
              0.2222222222222222,
              "#7201a8"
             ],
             [
              0.3333333333333333,
              "#9c179e"
             ],
             [
              0.4444444444444444,
              "#bd3786"
             ],
             [
              0.5555555555555556,
              "#d8576b"
             ],
             [
              0.6666666666666666,
              "#ed7953"
             ],
             [
              0.7777777777777778,
              "#fb9f3a"
             ],
             [
              0.8888888888888888,
              "#fdca26"
             ],
             [
              1,
              "#f0f921"
             ]
            ],
            "type": "histogram2dcontour"
           }
          ],
          "mesh3d": [
           {
            "colorbar": {
             "outlinewidth": 0,
             "ticks": ""
            },
            "type": "mesh3d"
           }
          ],
          "parcoords": [
           {
            "line": {
             "colorbar": {
              "outlinewidth": 0,
              "ticks": ""
             }
            },
            "type": "parcoords"
           }
          ],
          "pie": [
           {
            "automargin": true,
            "type": "pie"
           }
          ],
          "scatter": [
           {
            "marker": {
             "colorbar": {
              "outlinewidth": 0,
              "ticks": ""
             }
            },
            "type": "scatter"
           }
          ],
          "scatter3d": [
           {
            "line": {
             "colorbar": {
              "outlinewidth": 0,
              "ticks": ""
             }
            },
            "marker": {
             "colorbar": {
              "outlinewidth": 0,
              "ticks": ""
             }
            },
            "type": "scatter3d"
           }
          ],
          "scattercarpet": [
           {
            "marker": {
             "colorbar": {
              "outlinewidth": 0,
              "ticks": ""
             }
            },
            "type": "scattercarpet"
           }
          ],
          "scattergeo": [
           {
            "marker": {
             "colorbar": {
              "outlinewidth": 0,
              "ticks": ""
             }
            },
            "type": "scattergeo"
           }
          ],
          "scattergl": [
           {
            "marker": {
             "colorbar": {
              "outlinewidth": 0,
              "ticks": ""
             }
            },
            "type": "scattergl"
           }
          ],
          "scattermapbox": [
           {
            "marker": {
             "colorbar": {
              "outlinewidth": 0,
              "ticks": ""
             }
            },
            "type": "scattermapbox"
           }
          ],
          "scatterpolar": [
           {
            "marker": {
             "colorbar": {
              "outlinewidth": 0,
              "ticks": ""
             }
            },
            "type": "scatterpolar"
           }
          ],
          "scatterpolargl": [
           {
            "marker": {
             "colorbar": {
              "outlinewidth": 0,
              "ticks": ""
             }
            },
            "type": "scatterpolargl"
           }
          ],
          "scatterternary": [
           {
            "marker": {
             "colorbar": {
              "outlinewidth": 0,
              "ticks": ""
             }
            },
            "type": "scatterternary"
           }
          ],
          "surface": [
           {
            "colorbar": {
             "outlinewidth": 0,
             "ticks": ""
            },
            "colorscale": [
             [
              0,
              "#0d0887"
             ],
             [
              0.1111111111111111,
              "#46039f"
             ],
             [
              0.2222222222222222,
              "#7201a8"
             ],
             [
              0.3333333333333333,
              "#9c179e"
             ],
             [
              0.4444444444444444,
              "#bd3786"
             ],
             [
              0.5555555555555556,
              "#d8576b"
             ],
             [
              0.6666666666666666,
              "#ed7953"
             ],
             [
              0.7777777777777778,
              "#fb9f3a"
             ],
             [
              0.8888888888888888,
              "#fdca26"
             ],
             [
              1,
              "#f0f921"
             ]
            ],
            "type": "surface"
           }
          ],
          "table": [
           {
            "cells": {
             "fill": {
              "color": "#EBF0F8"
             },
             "line": {
              "color": "white"
             }
            },
            "header": {
             "fill": {
              "color": "#C8D4E3"
             },
             "line": {
              "color": "white"
             }
            },
            "type": "table"
           }
          ]
         },
         "layout": {
          "annotationdefaults": {
           "arrowcolor": "#2a3f5f",
           "arrowhead": 0,
           "arrowwidth": 1
          },
          "autotypenumbers": "strict",
          "coloraxis": {
           "colorbar": {
            "outlinewidth": 0,
            "ticks": ""
           }
          },
          "colorscale": {
           "diverging": [
            [
             0,
             "#8e0152"
            ],
            [
             0.1,
             "#c51b7d"
            ],
            [
             0.2,
             "#de77ae"
            ],
            [
             0.3,
             "#f1b6da"
            ],
            [
             0.4,
             "#fde0ef"
            ],
            [
             0.5,
             "#f7f7f7"
            ],
            [
             0.6,
             "#e6f5d0"
            ],
            [
             0.7,
             "#b8e186"
            ],
            [
             0.8,
             "#7fbc41"
            ],
            [
             0.9,
             "#4d9221"
            ],
            [
             1,
             "#276419"
            ]
           ],
           "sequential": [
            [
             0,
             "#0d0887"
            ],
            [
             0.1111111111111111,
             "#46039f"
            ],
            [
             0.2222222222222222,
             "#7201a8"
            ],
            [
             0.3333333333333333,
             "#9c179e"
            ],
            [
             0.4444444444444444,
             "#bd3786"
            ],
            [
             0.5555555555555556,
             "#d8576b"
            ],
            [
             0.6666666666666666,
             "#ed7953"
            ],
            [
             0.7777777777777778,
             "#fb9f3a"
            ],
            [
             0.8888888888888888,
             "#fdca26"
            ],
            [
             1,
             "#f0f921"
            ]
           ],
           "sequentialminus": [
            [
             0,
             "#0d0887"
            ],
            [
             0.1111111111111111,
             "#46039f"
            ],
            [
             0.2222222222222222,
             "#7201a8"
            ],
            [
             0.3333333333333333,
             "#9c179e"
            ],
            [
             0.4444444444444444,
             "#bd3786"
            ],
            [
             0.5555555555555556,
             "#d8576b"
            ],
            [
             0.6666666666666666,
             "#ed7953"
            ],
            [
             0.7777777777777778,
             "#fb9f3a"
            ],
            [
             0.8888888888888888,
             "#fdca26"
            ],
            [
             1,
             "#f0f921"
            ]
           ]
          },
          "colorway": [
           "#636efa",
           "#EF553B",
           "#00cc96",
           "#ab63fa",
           "#FFA15A",
           "#19d3f3",
           "#FF6692",
           "#B6E880",
           "#FF97FF",
           "#FECB52"
          ],
          "font": {
           "color": "#2a3f5f"
          },
          "geo": {
           "bgcolor": "white",
           "lakecolor": "white",
           "landcolor": "#E5ECF6",
           "showlakes": true,
           "showland": true,
           "subunitcolor": "white"
          },
          "hoverlabel": {
           "align": "left"
          },
          "hovermode": "closest",
          "mapbox": {
           "style": "light"
          },
          "paper_bgcolor": "white",
          "plot_bgcolor": "#E5ECF6",
          "polar": {
           "angularaxis": {
            "gridcolor": "white",
            "linecolor": "white",
            "ticks": ""
           },
           "bgcolor": "#E5ECF6",
           "radialaxis": {
            "gridcolor": "white",
            "linecolor": "white",
            "ticks": ""
           }
          },
          "scene": {
           "xaxis": {
            "backgroundcolor": "#E5ECF6",
            "gridcolor": "white",
            "gridwidth": 2,
            "linecolor": "white",
            "showbackground": true,
            "ticks": "",
            "zerolinecolor": "white"
           },
           "yaxis": {
            "backgroundcolor": "#E5ECF6",
            "gridcolor": "white",
            "gridwidth": 2,
            "linecolor": "white",
            "showbackground": true,
            "ticks": "",
            "zerolinecolor": "white"
           },
           "zaxis": {
            "backgroundcolor": "#E5ECF6",
            "gridcolor": "white",
            "gridwidth": 2,
            "linecolor": "white",
            "showbackground": true,
            "ticks": "",
            "zerolinecolor": "white"
           }
          },
          "shapedefaults": {
           "line": {
            "color": "#2a3f5f"
           }
          },
          "ternary": {
           "aaxis": {
            "gridcolor": "white",
            "linecolor": "white",
            "ticks": ""
           },
           "baxis": {
            "gridcolor": "white",
            "linecolor": "white",
            "ticks": ""
           },
           "bgcolor": "#E5ECF6",
           "caxis": {
            "gridcolor": "white",
            "linecolor": "white",
            "ticks": ""
           }
          },
          "title": {
           "x": 0.05
          },
          "xaxis": {
           "automargin": true,
           "gridcolor": "white",
           "linecolor": "white",
           "ticks": "",
           "title": {
            "standoff": 15
           },
           "zerolinecolor": "white",
           "zerolinewidth": 2
          },
          "yaxis": {
           "automargin": true,
           "gridcolor": "white",
           "linecolor": "white",
           "ticks": "",
           "title": {
            "standoff": 15
           },
           "zerolinecolor": "white",
           "zerolinewidth": 2
          }
         }
        },
        "title": {
         "text": "Количество клиентов"
        },
        "xaxis": {
         "title": {
          "text": "Годы"
         }
        },
        "yaxis": {
         "title": {
          "text": "Количество"
         }
        }
       }
      },
      "text/html": [
       "<div>                            <div id=\"77e1275d-9238-4c1a-b504-bf967cc5fe94\" class=\"plotly-graph-div\" style=\"height:525px; width:100%;\"></div>            <script type=\"text/javascript\">                require([\"plotly\"], function(Plotly) {                    window.PLOTLYENV=window.PLOTLYENV || {};                                    if (document.getElementById(\"77e1275d-9238-4c1a-b504-bf967cc5fe94\")) {                    Plotly.newPlot(                        \"77e1275d-9238-4c1a-b504-bf967cc5fe94\",                        [{\"mode\":\"lines+markers+text\",\"name\":\"\\u041a\\u043e\\u043b\\u0438\\u0447\\u0435\\u0441\\u0442\\u0432\\u043e \\u0430\\u043a\\u0442\\u0438\\u0432\\u043d\\u044b\\u0445 \\u0437\\u0430\\u0440\\u0435\\u0433\\u0438\\u0441\\u0442\\u0440\\u0438\\u0440\\u043e\\u0432\\u0430\\u043d\\u043d\\u044b\\u0445 \\u043a\\u043b\\u0438\\u0435\\u043d\\u0442\\u043e\\u0432\",\"text\":[\"0.7\",\"0.69\",\"0.71\",\"0.69\",\"0.77\"],\"textposition\":\"top center\",\"type\":\"scatter\",\"x\":[\"2017\",\"2018\",\"2019\",\"2020\",\"2021\"],\"y\":[0.7,0.69,0.71,0.69,0.77]},{\"mode\":\"lines+markers+text\",\"name\":\"\\u041a\\u043e\\u043b\\u0438\\u0447\\u0435\\u0441\\u0442\\u0432\\u043e \\u0430\\u043a\\u0442\\u0438\\u0432\\u043d\\u044b\\u0445 \\u0437\\u0430\\u0440\\u0435\\u0433\\u0438\\u0441\\u0442\\u0440\\u0438\\u0440\\u043e\\u0432\\u0430\\u043d\\u043d\\u044b\\u0445 \\u043a\\u043b\\u0438\\u0435\\u043d\\u0442\\u043e\\u0432 \\u0424\\u041b\",\"text\":[\"0.66\",\"0.65\",\"0.66\",\"0.64\",\"0.71\"],\"textposition\":\"top center\",\"type\":\"scatter\",\"x\":[\"2017\",\"2018\",\"2019\",\"2020\",\"2021\"],\"y\":[0.66,0.65,0.66,0.64,0.71]},{\"mode\":\"lines+markers+text\",\"name\":\"\\u041a\\u043e\\u043b\\u0438\\u0447\\u0435\\u0441\\u0442\\u0432\\u043e \\u0430\\u043a\\u0442\\u0438\\u0432\\u043d\\u044b\\u0445 \\u0437\\u0430\\u0440\\u0435\\u0433\\u0438\\u0441\\u0442\\u0440\\u0438\\u0440\\u043e\\u0432\\u0430\\u043d\\u043d\\u044b\\u0445 \\u043a\\u043b\\u0438\\u0435\\u043d\\u0442\\u043e\\u0432 \\u042e\\u041b\",\"text\":[\"0.91\",\"0.91\",\"0.92\",\"0.92\",\"0.94\"],\"textposition\":\"top center\",\"type\":\"scatter\",\"x\":[\"2017\",\"2018\",\"2019\",\"2020\",\"2021\"],\"y\":[0.91,0.91,0.92,0.92,0.94]}],                        {\"autosize\":true,\"bargap\":0.2,\"bargroupgap\":0.1,\"barmode\":\"group\",\"paper_bgcolor\":\"LightSteelBlue\",\"template\":{\"data\":{\"bar\":[{\"error_x\":{\"color\":\"#2a3f5f\"},\"error_y\":{\"color\":\"#2a3f5f\"},\"marker\":{\"line\":{\"color\":\"#E5ECF6\",\"width\":0.5},\"pattern\":{\"fillmode\":\"overlay\",\"size\":10,\"solidity\":0.2}},\"type\":\"bar\"}],\"barpolar\":[{\"marker\":{\"line\":{\"color\":\"#E5ECF6\",\"width\":0.5},\"pattern\":{\"fillmode\":\"overlay\",\"size\":10,\"solidity\":0.2}},\"type\":\"barpolar\"}],\"carpet\":[{\"aaxis\":{\"endlinecolor\":\"#2a3f5f\",\"gridcolor\":\"white\",\"linecolor\":\"white\",\"minorgridcolor\":\"white\",\"startlinecolor\":\"#2a3f5f\"},\"baxis\":{\"endlinecolor\":\"#2a3f5f\",\"gridcolor\":\"white\",\"linecolor\":\"white\",\"minorgridcolor\":\"white\",\"startlinecolor\":\"#2a3f5f\"},\"type\":\"carpet\"}],\"choropleth\":[{\"colorbar\":{\"outlinewidth\":0,\"ticks\":\"\"},\"type\":\"choropleth\"}],\"contour\":[{\"colorbar\":{\"outlinewidth\":0,\"ticks\":\"\"},\"colorscale\":[[0.0,\"#0d0887\"],[0.1111111111111111,\"#46039f\"],[0.2222222222222222,\"#7201a8\"],[0.3333333333333333,\"#9c179e\"],[0.4444444444444444,\"#bd3786\"],[0.5555555555555556,\"#d8576b\"],[0.6666666666666666,\"#ed7953\"],[0.7777777777777778,\"#fb9f3a\"],[0.8888888888888888,\"#fdca26\"],[1.0,\"#f0f921\"]],\"type\":\"contour\"}],\"contourcarpet\":[{\"colorbar\":{\"outlinewidth\":0,\"ticks\":\"\"},\"type\":\"contourcarpet\"}],\"heatmap\":[{\"colorbar\":{\"outlinewidth\":0,\"ticks\":\"\"},\"colorscale\":[[0.0,\"#0d0887\"],[0.1111111111111111,\"#46039f\"],[0.2222222222222222,\"#7201a8\"],[0.3333333333333333,\"#9c179e\"],[0.4444444444444444,\"#bd3786\"],[0.5555555555555556,\"#d8576b\"],[0.6666666666666666,\"#ed7953\"],[0.7777777777777778,\"#fb9f3a\"],[0.8888888888888888,\"#fdca26\"],[1.0,\"#f0f921\"]],\"type\":\"heatmap\"}],\"heatmapgl\":[{\"colorbar\":{\"outlinewidth\":0,\"ticks\":\"\"},\"colorscale\":[[0.0,\"#0d0887\"],[0.1111111111111111,\"#46039f\"],[0.2222222222222222,\"#7201a8\"],[0.3333333333333333,\"#9c179e\"],[0.4444444444444444,\"#bd3786\"],[0.5555555555555556,\"#d8576b\"],[0.6666666666666666,\"#ed7953\"],[0.7777777777777778,\"#fb9f3a\"],[0.8888888888888888,\"#fdca26\"],[1.0,\"#f0f921\"]],\"type\":\"heatmapgl\"}],\"histogram\":[{\"marker\":{\"pattern\":{\"fillmode\":\"overlay\",\"size\":10,\"solidity\":0.2}},\"type\":\"histogram\"}],\"histogram2d\":[{\"colorbar\":{\"outlinewidth\":0,\"ticks\":\"\"},\"colorscale\":[[0.0,\"#0d0887\"],[0.1111111111111111,\"#46039f\"],[0.2222222222222222,\"#7201a8\"],[0.3333333333333333,\"#9c179e\"],[0.4444444444444444,\"#bd3786\"],[0.5555555555555556,\"#d8576b\"],[0.6666666666666666,\"#ed7953\"],[0.7777777777777778,\"#fb9f3a\"],[0.8888888888888888,\"#fdca26\"],[1.0,\"#f0f921\"]],\"type\":\"histogram2d\"}],\"histogram2dcontour\":[{\"colorbar\":{\"outlinewidth\":0,\"ticks\":\"\"},\"colorscale\":[[0.0,\"#0d0887\"],[0.1111111111111111,\"#46039f\"],[0.2222222222222222,\"#7201a8\"],[0.3333333333333333,\"#9c179e\"],[0.4444444444444444,\"#bd3786\"],[0.5555555555555556,\"#d8576b\"],[0.6666666666666666,\"#ed7953\"],[0.7777777777777778,\"#fb9f3a\"],[0.8888888888888888,\"#fdca26\"],[1.0,\"#f0f921\"]],\"type\":\"histogram2dcontour\"}],\"mesh3d\":[{\"colorbar\":{\"outlinewidth\":0,\"ticks\":\"\"},\"type\":\"mesh3d\"}],\"parcoords\":[{\"line\":{\"colorbar\":{\"outlinewidth\":0,\"ticks\":\"\"}},\"type\":\"parcoords\"}],\"pie\":[{\"automargin\":true,\"type\":\"pie\"}],\"scatter\":[{\"marker\":{\"colorbar\":{\"outlinewidth\":0,\"ticks\":\"\"}},\"type\":\"scatter\"}],\"scatter3d\":[{\"line\":{\"colorbar\":{\"outlinewidth\":0,\"ticks\":\"\"}},\"marker\":{\"colorbar\":{\"outlinewidth\":0,\"ticks\":\"\"}},\"type\":\"scatter3d\"}],\"scattercarpet\":[{\"marker\":{\"colorbar\":{\"outlinewidth\":0,\"ticks\":\"\"}},\"type\":\"scattercarpet\"}],\"scattergeo\":[{\"marker\":{\"colorbar\":{\"outlinewidth\":0,\"ticks\":\"\"}},\"type\":\"scattergeo\"}],\"scattergl\":[{\"marker\":{\"colorbar\":{\"outlinewidth\":0,\"ticks\":\"\"}},\"type\":\"scattergl\"}],\"scattermapbox\":[{\"marker\":{\"colorbar\":{\"outlinewidth\":0,\"ticks\":\"\"}},\"type\":\"scattermapbox\"}],\"scatterpolar\":[{\"marker\":{\"colorbar\":{\"outlinewidth\":0,\"ticks\":\"\"}},\"type\":\"scatterpolar\"}],\"scatterpolargl\":[{\"marker\":{\"colorbar\":{\"outlinewidth\":0,\"ticks\":\"\"}},\"type\":\"scatterpolargl\"}],\"scatterternary\":[{\"marker\":{\"colorbar\":{\"outlinewidth\":0,\"ticks\":\"\"}},\"type\":\"scatterternary\"}],\"surface\":[{\"colorbar\":{\"outlinewidth\":0,\"ticks\":\"\"},\"colorscale\":[[0.0,\"#0d0887\"],[0.1111111111111111,\"#46039f\"],[0.2222222222222222,\"#7201a8\"],[0.3333333333333333,\"#9c179e\"],[0.4444444444444444,\"#bd3786\"],[0.5555555555555556,\"#d8576b\"],[0.6666666666666666,\"#ed7953\"],[0.7777777777777778,\"#fb9f3a\"],[0.8888888888888888,\"#fdca26\"],[1.0,\"#f0f921\"]],\"type\":\"surface\"}],\"table\":[{\"cells\":{\"fill\":{\"color\":\"#EBF0F8\"},\"line\":{\"color\":\"white\"}},\"header\":{\"fill\":{\"color\":\"#C8D4E3\"},\"line\":{\"color\":\"white\"}},\"type\":\"table\"}]},\"layout\":{\"annotationdefaults\":{\"arrowcolor\":\"#2a3f5f\",\"arrowhead\":0,\"arrowwidth\":1},\"autotypenumbers\":\"strict\",\"coloraxis\":{\"colorbar\":{\"outlinewidth\":0,\"ticks\":\"\"}},\"colorscale\":{\"diverging\":[[0,\"#8e0152\"],[0.1,\"#c51b7d\"],[0.2,\"#de77ae\"],[0.3,\"#f1b6da\"],[0.4,\"#fde0ef\"],[0.5,\"#f7f7f7\"],[0.6,\"#e6f5d0\"],[0.7,\"#b8e186\"],[0.8,\"#7fbc41\"],[0.9,\"#4d9221\"],[1,\"#276419\"]],\"sequential\":[[0.0,\"#0d0887\"],[0.1111111111111111,\"#46039f\"],[0.2222222222222222,\"#7201a8\"],[0.3333333333333333,\"#9c179e\"],[0.4444444444444444,\"#bd3786\"],[0.5555555555555556,\"#d8576b\"],[0.6666666666666666,\"#ed7953\"],[0.7777777777777778,\"#fb9f3a\"],[0.8888888888888888,\"#fdca26\"],[1.0,\"#f0f921\"]],\"sequentialminus\":[[0.0,\"#0d0887\"],[0.1111111111111111,\"#46039f\"],[0.2222222222222222,\"#7201a8\"],[0.3333333333333333,\"#9c179e\"],[0.4444444444444444,\"#bd3786\"],[0.5555555555555556,\"#d8576b\"],[0.6666666666666666,\"#ed7953\"],[0.7777777777777778,\"#fb9f3a\"],[0.8888888888888888,\"#fdca26\"],[1.0,\"#f0f921\"]]},\"colorway\":[\"#636efa\",\"#EF553B\",\"#00cc96\",\"#ab63fa\",\"#FFA15A\",\"#19d3f3\",\"#FF6692\",\"#B6E880\",\"#FF97FF\",\"#FECB52\"],\"font\":{\"color\":\"#2a3f5f\"},\"geo\":{\"bgcolor\":\"white\",\"lakecolor\":\"white\",\"landcolor\":\"#E5ECF6\",\"showlakes\":true,\"showland\":true,\"subunitcolor\":\"white\"},\"hoverlabel\":{\"align\":\"left\"},\"hovermode\":\"closest\",\"mapbox\":{\"style\":\"light\"},\"paper_bgcolor\":\"white\",\"plot_bgcolor\":\"#E5ECF6\",\"polar\":{\"angularaxis\":{\"gridcolor\":\"white\",\"linecolor\":\"white\",\"ticks\":\"\"},\"bgcolor\":\"#E5ECF6\",\"radialaxis\":{\"gridcolor\":\"white\",\"linecolor\":\"white\",\"ticks\":\"\"}},\"scene\":{\"xaxis\":{\"backgroundcolor\":\"#E5ECF6\",\"gridcolor\":\"white\",\"gridwidth\":2,\"linecolor\":\"white\",\"showbackground\":true,\"ticks\":\"\",\"zerolinecolor\":\"white\"},\"yaxis\":{\"backgroundcolor\":\"#E5ECF6\",\"gridcolor\":\"white\",\"gridwidth\":2,\"linecolor\":\"white\",\"showbackground\":true,\"ticks\":\"\",\"zerolinecolor\":\"white\"},\"zaxis\":{\"backgroundcolor\":\"#E5ECF6\",\"gridcolor\":\"white\",\"gridwidth\":2,\"linecolor\":\"white\",\"showbackground\":true,\"ticks\":\"\",\"zerolinecolor\":\"white\"}},\"shapedefaults\":{\"line\":{\"color\":\"#2a3f5f\"}},\"ternary\":{\"aaxis\":{\"gridcolor\":\"white\",\"linecolor\":\"white\",\"ticks\":\"\"},\"baxis\":{\"gridcolor\":\"white\",\"linecolor\":\"white\",\"ticks\":\"\"},\"bgcolor\":\"#E5ECF6\",\"caxis\":{\"gridcolor\":\"white\",\"linecolor\":\"white\",\"ticks\":\"\"}},\"title\":{\"x\":0.05},\"xaxis\":{\"automargin\":true,\"gridcolor\":\"white\",\"linecolor\":\"white\",\"ticks\":\"\",\"title\":{\"standoff\":15},\"zerolinecolor\":\"white\",\"zerolinewidth\":2},\"yaxis\":{\"automargin\":true,\"gridcolor\":\"white\",\"linecolor\":\"white\",\"ticks\":\"\",\"title\":{\"standoff\":15},\"zerolinecolor\":\"white\",\"zerolinewidth\":2}}},\"title\":{\"text\":\"\\u041a\\u043e\\u043b\\u0438\\u0447\\u0435\\u0441\\u0442\\u0432\\u043e \\u043a\\u043b\\u0438\\u0435\\u043d\\u0442\\u043e\\u0432\"},\"xaxis\":{\"title\":{\"text\":\"\\u0413\\u043e\\u0434\\u044b\"}},\"yaxis\":{\"title\":{\"text\":\"\\u041a\\u043e\\u043b\\u0438\\u0447\\u0435\\u0441\\u0442\\u0432\\u043e\"}}},                        {\"responsive\": true}                    ).then(function(){\n",
       "                            \n",
       "var gd = document.getElementById('77e1275d-9238-4c1a-b504-bf967cc5fe94');\n",
       "var x = new MutationObserver(function (mutations, observer) {{\n",
       "        var display = window.getComputedStyle(gd).display;\n",
       "        if (!display || display === 'none') {{\n",
       "            console.log([gd, 'removed!']);\n",
       "            Plotly.purge(gd);\n",
       "            observer.disconnect();\n",
       "        }}\n",
       "}});\n",
       "\n",
       "// Listen for the removal of the full notebook cells\n",
       "var notebookContainer = gd.closest('#notebook-container');\n",
       "if (notebookContainer) {{\n",
       "    x.observe(notebookContainer, {childList: true});\n",
       "}}\n",
       "\n",
       "// Listen for the clearing of the current output cell\n",
       "var outputEl = gd.closest('.output');\n",
       "if (outputEl) {{\n",
       "    x.observe(outputEl, {childList: true});\n",
       "}}\n",
       "\n",
       "                        })                };                });            </script>        </div>"
      ]
     },
     "metadata": {},
     "output_type": "display_data"
    }
   ],
   "source": [
    "# # БЕЗ ВВОДИМЫХ ПАРАМЕТРОВ  (БЕЗ ВИДЖЕТОВ!)\n",
    "# col_name = [\n",
    "# 'Количество активных зарегистрированных клиентов' \n",
    "# ,'динамика, %'\n",
    "# ,'Количество активных зарегистрированных клиентов ФЛ'\n",
    "# ,'динамика, %'\n",
    "# ,'Количество активных зарегистрированных клиентов ЮЛ'\n",
    "# ,'динамика, %'\n",
    "# ]\n",
    "\n",
    "# col_name2 =[\n",
    "# 'Доля ФЛ в общем объеме, %'\n",
    "# ,'Доля ЮЛ в общем объеме, %']\n",
    "\n",
    "# # df_end = pd.DataFrame()\n",
    "# # print('Какой \\n\\t то \\n \\t\\t\\t\\t текст')\n",
    "# print( colored(\" Какой \", \"green\") )\n",
    "# print( colored(\"\\n\\t то \", \"red\",  attrs=[\"underline\"]) )\n",
    "# print( colored(\" \\t\\t текст \", \"blue\", attrs=[\"bold\"] ) )\n",
    "\n",
    "# # ALL = 'Все'\n",
    "# def unique_sorted_values_plus_ALL(array):\n",
    "# #     print( array[array.notna()] )\n",
    "#     unique = array[array.notna()].unique().tolist()\n",
    "#     sorted(unique)\n",
    "# #     unique.insert(0, ALL)\n",
    "#     return unique\n",
    "\n",
    "# def colour_zero( value ):\n",
    "#     if isinstance(value, float):\n",
    "#         if value >= 0:\n",
    "#             return 'color: green'\n",
    "#         else:\n",
    "#             return 'color: red'\n",
    " \n",
    "# def num_active_clients(df_):\n",
    "#     columns=sorted(list(df_['Год_отгрузки'].unique()))\n",
    "#     fl = [ df_.query(f''' Год_отгрузки == '{j}' and Тип_клиента == 'ФЛ' ''') ['ID_клиента'].nunique()\n",
    "#          for j in columns ]  \n",
    "#     ul = [ df_.query(f''' Год_отгрузки == '{j}' and Тип_клиента == 'ЮЛ' ''') ['ID_клиента'].nunique()\n",
    "#          for j in columns ]  \n",
    "#     df_ = pd.DataFrame([fl, ul], columns=columns, index=['ФЛ', 'ЮЛ'] )\n",
    "#     df_ = pd.DataFrame([[df_[col].sum() for col in df_.columns]], columns=columns, index=['ФЛ и ЮЛ']).append(df_)\n",
    "    \n",
    "#     fun_list = []\n",
    "#     def f_dinamic(data):\n",
    "#     #     print( [np.int64(j) for j in data] )\n",
    "#         fun_list.append( [int(j) for j in data] ) # [int(round(j,0)) for j in data]\n",
    "#         fun_list.append(['']+[round((y/x-1)*100,2) for x, y in zip(data[0::], data[1::]) ])\n",
    "#         return fun_list\n",
    "\n",
    "#     for i in range(len(df_)):\n",
    "#         f_dinamic( list(df_.iloc[i,:]) ) \n",
    "#     df_end = pd.DataFrame(fun_list, columns=columns, index=col_name )\n",
    "#     # df_end.index.name = 'Количество (динамика) / год'\n",
    "#     for i in range(len(df_end))[::2]:\n",
    "#     #     df_end.iloc[i,:] = df_end.iloc[i,:] .astype(int)\n",
    "#         df_end.iloc[i,:] = df_end.iloc[i,:].astype(str).apply( lambda x: x.split('.')[0] )\n",
    "#     # for i in range(len(df_end))[::2]:\n",
    "#     #     df_end.iloc[i,:] = df_end.iloc[i,:] .astype(int)\n",
    "#     # df_end.astype(int)\n",
    "#     # df_end.applymap( lambda x: int(x) if x is not None and type(x)!= float else x )\n",
    "#     def def_lambda(x):\n",
    "# #         global df_end\n",
    "#         return  round(int(x.values[1]) / int(x.values[0])*100, 2) \n",
    "\n",
    "#     df_end = df_end.append( pd.DataFrame([df_end.iloc[[0,2],:].apply(def_lambda)] ) ) \n",
    "#     df_end = df_end.append( pd.DataFrame([df_end.iloc[[0,4],:].apply(def_lambda)] ) ) \n",
    "#     df_end.index = col_name + col_name2\n",
    "#     df_end = df_end.iloc[[0,1,2,3,6,4,5,7],:]\n",
    "#     df_end = df_end.reset_index(drop=False)\n",
    "#     df_end.iloc[[0,2,4,5,7]] = df_end.iloc[[0,2,4,5,7]].astype(str)\n",
    "#     df_end.columns = [''] + list(df_end.columns[1:])\n",
    "#     #     df_end.index.name = [' ']\n",
    "# #     print(df_end.index.name)\n",
    "#     return df_end\n",
    "\n",
    "# def num_orders(df_):\n",
    "#     columns = sorted(list(df_['Год_отгрузки'].unique()))\n",
    "#     fl = [ df_.query(f''' Год_отгрузки == '{j}' and Тип_клиента == 'ФЛ' ''') ['ID_заказа'].nunique()\n",
    "#          for j in columns ]  \n",
    "#     ul = [ df_.query(f''' Год_отгрузки == '{j}' and Тип_клиента == 'ЮЛ' ''') ['ID_заказа'].nunique()\n",
    "#          for j in columns ]  \n",
    "#     df_ = pd.DataFrame([fl, ul], columns=columns, index=['ФЛ', 'ЮЛ'] )\n",
    "#     df_ = pd.DataFrame([[df_[col].sum() for col in df_.columns]], columns=columns, index=['ФЛ и ЮЛ']).append(df_)\n",
    "    \n",
    "#     fun_list = []\n",
    "#     def f_dinamic(data):\n",
    "#     #     print( [np.int64(j) for j in data] )\n",
    "#         fun_list.append( [int(j) for j in data] ) # [int(round(j,0)) for j in data]\n",
    "#         fun_list.append(['']+[round((y/x-1)*100,2) for x, y in zip(data[0::], data[1::]) ])\n",
    "#         return fun_list\n",
    "\n",
    "#     for i in range(len(df_)):\n",
    "#         f_dinamic( list(df_.iloc[i,:]) ) \n",
    "#     df_end = pd.DataFrame(fun_list, columns=columns, index=col_name )\n",
    "#     # df_end.index.name = 'Количество (динамика) / год'\n",
    "#     for i in range(len(df_end))[::2]:\n",
    "#     #     df_end.iloc[i,:] = df_end.iloc[i,:] .astype(int)\n",
    "#         df_end.iloc[i,:] = df_end.iloc[i,:].astype(str).apply( lambda x: x.split('.')[0] )\n",
    "#     # for i in range(len(df_end))[::2]:\n",
    "#     #     df_end.iloc[i,:] = df_end.iloc[i,:] .astype(int)\n",
    "#     # df_end.astype(int)\n",
    "#     # df_end.applymap( lambda x: int(x) if x is not None and type(x)!= float else x )\n",
    "#     def def_lambda(x):\n",
    "# #         global df_end\n",
    "#         return  round(int(x.values[1]) / int(x.values[0])*100, 2) \n",
    "\n",
    "#     df_end = df_end.append( pd.DataFrame([df_end.iloc[[0,2],:].apply(def_lambda)] ) ) \n",
    "#     df_end = df_end.append( pd.DataFrame([df_end.iloc[[0,4],:].apply(def_lambda)] ) ) \n",
    "#     df_end.index = col_name + col_name2\n",
    "#     df_end = df_end.iloc[[0,1,2,3,6,4,5,7],:]\n",
    "#     df_end = df_end.reset_index(drop=False)\n",
    "#     df_end.iloc[[0,2,4,5,7]] = df_end.iloc[[0,2,4,5,7]].astype(str)\n",
    "#     df_end.columns = [''] + list(df_end.columns[1:])\n",
    "#     #     df_end.index.name = [' ']\n",
    "# #     print(df_end.index.name)\n",
    "#     return df_end\n",
    "  \n",
    "# def  def_plot(df_end): # https://plotly.com/python/histograms/#basic-histogram\n",
    "#     pl1,pl2 = {},{}\n",
    "#     data_plot1,data_plot2,data_plot3 = [],[],[]\n",
    "#     col_plot = [j for j in df_end.columns if j != '']\n",
    "# #     histogram \n",
    "#     for i in df_end.iloc[[0,2,4]].set_index('').index:\n",
    "#         pl1[i] = [ round(float(j),2) for j in df_end.iloc[[0,2,4]].set_index('').loc[i].values ]\n",
    "#         trace1 = go.Bar( x = col_plot, y = pl1[i], name = i, text=pl1[i])\n",
    "#         trace2 = go.Scatter( x = col_plot, y = pl1[i], name = i, mode=\"lines+markers+text\",\n",
    "#                             textposition=\"bottom center\", text=pl1[i] )\n",
    "#         data_plot1.append( trace1 )\n",
    "#         data_plot2.append( trace2 )\n",
    "# #     hist 3\n",
    "# #     for k in df_end.iloc[[4,7]].set_index('').index:\n",
    "# #         pl2[k] = [ float(j) for j in df_end.iloc[[4,7]].set_index('').loc[k].values ]\n",
    "# #         trace3 = go.Bar( x = col_plot, y = pl2[k], name = i, text=pl2[k])\n",
    "# #         data_plot3.append( trace3 )\n",
    "# #     layout (макет)\n",
    "#     layout1 = go.Layout(\n",
    "#         title_text= 'Количество клиентов', # title of plot\n",
    "#         xaxis_title_text='Годы', yaxis_title_text='Количество', \n",
    "#         autosize=True,\n",
    "#         bargap=0.2, # gap between bars of adjacent location coordinates\n",
    "#         bargroupgap=0.1, # gap between bars of the same location coordinates\n",
    "#         #autosize=False, width=1200, height=600,\n",
    "#         paper_bgcolor=\"LightSteelBlue\",\n",
    "#         barmode = 'group' # - One of the following enumeration values: ['stack', 'group', 'overlay', 'relative']         \n",
    "#         )\n",
    "# #     layout2 = go.Layout(\n",
    "# #         title_text= 'Доля клиентов ФЛ/ЮЛ в общем объеме по АСУП', # title of plot\n",
    "# #         xaxis_title_text='Годы', yaxis_title_text='Доля', \n",
    "# #         autosize=True,\n",
    "# #         #autosize=False, width=1200, height=600,\n",
    "# #         paper_bgcolor=\"LightSteelBlue\",\n",
    "# #         barmode = 'stack' \n",
    "# #         # - One of the following enumeration values: ['stack', 'group', 'overlay' наложение, 'relative']         \n",
    "# #         )\n",
    "# #     fig\n",
    "#     fig1 = go.Figure(data = data_plot1, layout = layout1)\n",
    "#     fig2 = go.Figure(data = data_plot2, layout = layout1)\n",
    "# #     fig3 = go.Figure(data = data_plot3, layout = layout2)\n",
    "#     fig2.update_traces(textposition='top center')\n",
    "#     fig1.show() \n",
    "#     fig2.show() \n",
    "# #     fig3.show()\n",
    "# #     return (fig1,fig2,fig3)  \n",
    "\n",
    "# df_end = num_2_clients( \n",
    "#     df_new.set_index('ID_клиента').loc \\\n",
    "#     [df_new[['ID_клиента','ID_заказа']].groupby(by=['ID_клиента']).count().query(\" ID_заказа > 1 \").index].reset_index() \\\n",
    "#     )\\\n",
    "#     .iloc[[0,1,2,3,5,6],1:].applymap(lambda x: float(x) if x != '' else 0) \\\n",
    "#     / num_all_clients(df_new).iloc[[0,1,2,3,5,6],1:].applymap(lambda x: float(x) if x != '' else 0)\n",
    "\n",
    "# df_end.index = col_name\n",
    "# df_end.index.name = ''\n",
    "# df_end = df_end.fillna('').reset_index()\n",
    "# # df_end\n",
    "# display( \n",
    "#     df_end.style \\\n",
    "#         .applymap(lambda x: colour_zero(x)).hide_index() \\\n",
    "#         .format( formatter =   lambda x: \"{:.2f}\".format(float(x)) if isinstance(x, float) else x  )\n",
    "#     )\n",
    "# def_plot(df_end)"
   ]
  },
  {
   "cell_type": "code",
   "execution_count": null,
   "id": "556eb287",
   "metadata": {
    "ExecuteTime": {
     "end_time": "2021-08-03T06:27:56.367450Z",
     "start_time": "2021-08-03T06:27:56.365505Z"
    }
   },
   "outputs": [],
   "source": [
    "# ФУНКЦИИ РАСЧЕТА ТАБЛИЦЫ "
   ]
  },
  {
   "cell_type": "code",
   "execution_count": 31,
   "id": "bcec14c2",
   "metadata": {
    "ExecuteTime": {
     "end_time": "2021-08-03T09:32:46.120249Z",
     "start_time": "2021-08-03T09:32:46.112685Z"
    }
   },
   "outputs": [],
   "source": [
    "# def num_all_clients(df_):\n",
    "#     columns=sorted(list(df_['Год_отгрузки'].unique()))\n",
    "#     fl = [ df_.query(f''' Год_отгрузки == '{j}' and Тип_клиента == 'ФЛ' ''') ['ID_клиента'].nunique()\n",
    "#          for j in columns ]  \n",
    "#     ul = [ df_.query(f''' Год_отгрузки == '{j}' and Тип_клиента == 'ЮЛ' ''') ['ID_клиента'].nunique()\n",
    "#          for j in columns ]  \n",
    "#     df_ = pd.DataFrame([fl, ul], columns=columns, index=['ФЛ', 'ЮЛ'] )\n",
    "#     df_ = pd.DataFrame([[df_[col].sum() for col in df_.columns]], columns=columns, index=['ФЛ и ЮЛ']).append(df_)\n",
    "    \n",
    "#     fun_list = []\n",
    "#     def f_dinamic(data):\n",
    "#     #     print( [np.int64(j) for j in data] )\n",
    "#         fun_list.append( [int(j) for j in data] ) # [int(round(j,0)) for j in data]\n",
    "#         fun_list.append(['']+[round((y/x-1)*100,2) for x, y in zip(data[0::], data[1::]) ])\n",
    "#         return fun_list\n",
    "\n",
    "#     for i in range(len(df_)):\n",
    "#         f_dinamic( list(df_.iloc[i,:]) ) \n",
    "#     df_end = pd.DataFrame(fun_list, columns=columns, index=col_name )\n",
    "#     # df_end.index.name = 'Количество (динамика) / год'\n",
    "#     for i in range(len(df_end))[::2]:\n",
    "#     #     df_end.iloc[i,:] = df_end.iloc[i,:] .astype(int)\n",
    "#         df_end.iloc[i,:] = df_end.iloc[i,:].astype(str).apply( lambda x: x.split('.')[0] )\n",
    "#     # for i in range(len(df_end))[::2]:\n",
    "#     #     df_end.iloc[i,:] = df_end.iloc[i,:] .astype(int)\n",
    "#     # df_end.astype(int)\n",
    "#     # df_end.applymap( lambda x: int(x) if x is not None and type(x)!= float else x )\n",
    "#     def def_lambda(x):\n",
    "# #         global df_end\n",
    "#         return  round(int(x.values[1]) / int(x.values[0])*100, 2) \n",
    "\n",
    "#     df_end = df_end.append( pd.DataFrame([df_end.iloc[[0,2],:].apply(def_lambda)] ) ) \n",
    "#     df_end = df_end.append( pd.DataFrame([df_end.iloc[[0,4],:].apply(def_lambda)] ) ) \n",
    "#     df_end.index = col_name + col_name2\n",
    "#     df_end = df_end.iloc[[0,1,2,3,6,4,5,7],:]\n",
    "#     df_end = df_end.reset_index(drop=False)\n",
    "#     df_end.iloc[[0,2,4,5,7]] = df_end.iloc[[0,2,4,5,7]].astype(str)\n",
    "#     df_end.columns = [''] + list(df_end.columns[1:])\n",
    "#     #     df_end.index.name = [' ']\n",
    "# #     print(df_end.index.name)\n",
    "#     return df_end\n",
    "\n",
    "# def num_2_clients(df_):\n",
    "# #     df_ = df_.loc[df_[['ID_клиента','ID_заказа']].groupby(by=['ID_клиента']).count().query(\" ID_заказа > 1 \").index]\n",
    "#     columns = sorted(list(df_['Год_отгрузки'].unique()))\n",
    "#     fl = [ df_.query(f''' Год_отгрузки == '{j}' and Тип_клиента == 'ФЛ' ''') ['ID_клиента'].nunique()\n",
    "#          for j in columns ]  \n",
    "#     ul = [ df_.query(f''' Год_отгрузки == '{j}' and Тип_клиента == 'ЮЛ' ''') ['ID_клиента'].nunique()\n",
    "#          for j in columns ]  \n",
    "#     df_ = pd.DataFrame([fl, ul], columns=columns, index=['ФЛ', 'ЮЛ'] )\n",
    "#     df_ = pd.DataFrame([[df_[col].sum() for col in df_.columns]], columns=columns, index=['ФЛ и ЮЛ']).append(df_)\n",
    "    \n",
    "#     fun_list = []\n",
    "#     def f_dinamic(data):\n",
    "#     #     print( [np.int64(j) for j in data] )\n",
    "#         fun_list.append( [int(j) for j in data] ) # [int(round(j,0)) for j in data]\n",
    "#         fun_list.append(['']+[round((y/x-1)*100,2) for x, y in zip(data[0::], data[1::]) ])\n",
    "#         return fun_list\n",
    "\n",
    "#     for i in range(len(df_)):\n",
    "#         f_dinamic( list(df_.iloc[i,:]) ) \n",
    "#     df_end = pd.DataFrame(fun_list, columns=columns, index=col_name )\n",
    "#     # df_end.index.name = 'Количество (динамика) / год'\n",
    "#     for i in range(len(df_end))[::2]:\n",
    "#     #     df_end.iloc[i,:] = df_end.iloc[i,:] .astype(int)\n",
    "#         df_end.iloc[i,:] = df_end.iloc[i,:].astype(str).apply( lambda x: x.split('.')[0] )\n",
    "#     # for i in range(len(df_end))[::2]:\n",
    "#     #     df_end.iloc[i,:] = df_end.iloc[i,:] .astype(int)\n",
    "#     # df_end.astype(int)\n",
    "#     # df_end.applymap( lambda x: int(x) if x is not None and type(x)!= float else x )\n",
    "#     def def_lambda(x):\n",
    "# #         global df_end\n",
    "#         return  round(int(x.values[1]) / int(x.values[0])*100, 2) \n",
    "\n",
    "#     df_end = df_end.append( pd.DataFrame([df_end.iloc[[0,2],:].apply(def_lambda)] ) ) \n",
    "#     df_end = df_end.append( pd.DataFrame([df_end.iloc[[0,4],:].apply(def_lambda)] ) ) \n",
    "#     df_end.index = col_name + col_name2\n",
    "#     df_end = df_end.iloc[[0,1,2,3,6,4,5,7],:]\n",
    "#     df_end = df_end.reset_index(drop=False)\n",
    "#     df_end.iloc[[0,2,4,5,7]] = df_end.iloc[[0,2,4,5,7]].astype(str)\n",
    "#     df_end.columns = [''] + list(df_end.columns[1:])\n",
    "#     #     df_end.index.name = [' ']\n",
    "# #     print(df_end.index.name)\n",
    "#     return df_end\n",
    "\n",
    "# # df_end_clients = num_active_clients(df_new)\n",
    "# # df_end_orders = num_orders(df_new)\n",
    "\n",
    "# # df_end_clients\n",
    "# # df_end_orders\n",
    "\n",
    "# df_end = num_2_clients( \n",
    "#     df_new.set_index('ID_клиента').loc \\\n",
    "#     [df_new[['ID_клиента','ID_заказа']].groupby(by=['ID_клиента']).count().query(\" ID_заказа > 1 \").index].reset_index() \\\n",
    "#     )\\\n",
    "#     .iloc[[0,1,2,3,5,6],1:].applymap(lambda x: float(x) if x != '' else 0) \\\n",
    "#     / num_all_clients(df_new).iloc[[0,1,2,3,5,6],1:].applymap(lambda x: float(x) if x != '' else 0)\n",
    "\n",
    "# df_end.index = col_name\n",
    "# df_end.index.name = ''\n",
    "# df_end = df_end.fillna('').reset_index()\n",
    "# df_end\n"
   ]
  },
  {
   "cell_type": "code",
   "execution_count": null,
   "id": "f0158cea",
   "metadata": {},
   "outputs": [],
   "source": []
  },
  {
   "cell_type": "code",
   "execution_count": null,
   "id": "68e82ab7",
   "metadata": {},
   "outputs": [],
   "source": []
  },
  {
   "cell_type": "code",
   "execution_count": null,
   "id": "195747d6",
   "metadata": {},
   "outputs": [],
   "source": []
  },
  {
   "cell_type": "code",
   "execution_count": null,
   "id": "c411acaa",
   "metadata": {},
   "outputs": [],
   "source": []
  },
  {
   "cell_type": "markdown",
   "id": "b0335db8",
   "metadata": {
    "ExecuteTime": {
     "end_time": "2021-07-06T07:42:09.371268Z",
     "start_time": "2021-07-06T07:42:09.368533Z"
    }
   },
   "source": [
    "# Средний чек"
   ]
  },
  {
   "cell_type": "code",
   "execution_count": null,
   "id": "5ad9bb22",
   "metadata": {},
   "outputs": [],
   "source": []
  },
  {
   "cell_type": "markdown",
   "id": "b9a341b0",
   "metadata": {
    "ExecuteTime": {
     "end_time": "2021-07-06T07:42:09.688098Z",
     "start_time": "2021-07-06T07:42:09.685310Z"
    }
   },
   "source": [
    "# Отток"
   ]
  },
  {
   "cell_type": "code",
   "execution_count": null,
   "id": "144b5ce2",
   "metadata": {},
   "outputs": [],
   "source": []
  },
  {
   "cell_type": "markdown",
   "id": "32eecfae",
   "metadata": {
    "ExecuteTime": {
     "end_time": "2021-07-06T07:42:09.996805Z",
     "start_time": "2021-07-06T07:42:09.994158Z"
    }
   },
   "source": [
    "# Валовой объем продаж"
   ]
  },
  {
   "cell_type": "code",
   "execution_count": null,
   "id": "6c4f9db9",
   "metadata": {},
   "outputs": [],
   "source": []
  },
  {
   "cell_type": "markdown",
   "id": "e0e8a9ba",
   "metadata": {
    "ExecuteTime": {
     "end_time": "2021-07-06T07:42:10.315978Z",
     "start_time": "2021-07-06T07:42:10.313292Z"
    }
   },
   "source": [
    "# Валовой доход"
   ]
  },
  {
   "cell_type": "code",
   "execution_count": null,
   "id": "35392cb0",
   "metadata": {},
   "outputs": [],
   "source": []
  },
  {
   "cell_type": "markdown",
   "id": "15bec753",
   "metadata": {
    "ExecuteTime": {
     "end_time": "2021-07-06T07:42:10.631014Z",
     "start_time": "2021-07-06T07:42:10.628513Z"
    }
   },
   "source": [
    "# Пользовательский отчет с самостоятельной настройкой отчетов и диаграмм"
   ]
  },
  {
   "cell_type": "code",
   "execution_count": null,
   "id": "825abc00",
   "metadata": {},
   "outputs": [],
   "source": []
  },
  {
   "cell_type": "code",
   "execution_count": null,
   "id": "5524f1c1",
   "metadata": {},
   "outputs": [],
   "source": []
  },
  {
   "cell_type": "code",
   "execution_count": null,
   "id": "78756c83",
   "metadata": {},
   "outputs": [],
   "source": []
  },
  {
   "cell_type": "code",
   "execution_count": null,
   "id": "2908fcfc",
   "metadata": {},
   "outputs": [],
   "source": []
  }
 ],
 "metadata": {
  "hide_input": false,
  "kernelspec": {
   "display_name": "Python 3",
   "language": "python",
   "name": "python3"
  },
  "language_info": {
   "codemirror_mode": {
    "name": "ipython",
    "version": 3
   },
   "file_extension": ".py",
   "mimetype": "text/x-python",
   "name": "python",
   "nbconvert_exporter": "python",
   "pygments_lexer": "ipython3",
   "version": "3.6.8"
  },
  "toc": {
   "base_numbering": 1,
   "nav_menu": {},
   "number_sections": true,
   "sideBar": true,
   "skip_h1_title": false,
   "title_cell": "Table of Contents",
   "title_sidebar": "Contents",
   "toc_cell": true,
   "toc_position": {
    "height": "899px",
    "left": "0px",
    "top": "130px",
    "width": "225px"
   },
   "toc_section_display": true,
   "toc_window_display": true
  },
  "varInspector": {
   "cols": {
    "lenName": 16,
    "lenType": 16,
    "lenVar": 40
   },
   "kernels_config": {
    "python": {
     "delete_cmd_postfix": "",
     "delete_cmd_prefix": "del ",
     "library": "var_list.py",
     "varRefreshCmd": "print(var_dic_list())"
    },
    "r": {
     "delete_cmd_postfix": ") ",
     "delete_cmd_prefix": "rm(",
     "library": "var_list.r",
     "varRefreshCmd": "cat(var_dic_list()) "
    }
   },
   "oldHeight": 721,
   "position": {
    "height": "44px",
    "left": "933px",
    "right": "20px",
    "top": "17px",
    "width": "664px"
   },
   "types_to_exclude": [
    "module",
    "function",
    "builtin_function_or_method",
    "instance",
    "_Feature"
   ],
   "varInspector_section_display": "none",
   "window_display": true
  }
 },
 "nbformat": 4,
 "nbformat_minor": 5
}
