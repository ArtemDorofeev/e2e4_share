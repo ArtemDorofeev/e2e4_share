{
 "cells": [
  {
   "cell_type": "markdown",
   "id": "8181258a",
   "metadata": {
    "ExecuteTime": {
     "end_time": "2022-01-26T10:45:08.909176Z",
     "start_time": "2022-01-26T10:45:08.905523Z"
    }
   },
   "source": [
    "# Фоновый отчет по выручке (по дате продажи) БЕЗ возвратов\n",
    "<span class=\"burk\">admin</span>"
   ]
  },
  {
   "cell_type": "markdown",
   "id": "daa139b1",
   "metadata": {},
   "source": [
    "# По месяцам"
   ]
  },
  {
   "cell_type": "markdown",
   "id": "7686ea72",
   "metadata": {},
   "source": [
    "##  Делаем магию %magic %run"
   ]
  },
  {
   "cell_type": "code",
   "execution_count": 1,
   "id": "06bbed2a",
   "metadata": {
    "ExecuteTime": {
     "end_time": "2022-11-28T09:02:06.016625Z",
     "start_time": "2022-11-28T09:02:06.012849Z"
    }
   },
   "outputs": [],
   "source": [
    "# #  запуск всех модулей кроме (НЕ КАНАЮТ ПЕРЕМЕННЫЕ! надо через magic тогда все четка)\n",
    "# def exec_f(path_exec):\n",
    "#     with open( path_exec,'r') as exec_f:\n",
    "#         exec(exec_f.read())\n",
    "# [ exec_f(j) for j in glob.glob(r\"/var/lib/private/**/_ Additions/*\", recursive=True) if 'Imports_Formats' not in j];"
   ]
  },
  {
   "cell_type": "code",
   "execution_count": 2,
   "id": "6b58cac7",
   "metadata": {
    "ExecuteTime": {
     "end_time": "2022-11-28T09:02:07.711168Z",
     "start_time": "2022-11-28T09:02:06.178654Z"
    }
   },
   "outputs": [],
   "source": [
    "# magic\n",
    "############################################################\n",
    "# magic не запускаются с посмощью run !! поэтому отдельно будут тут! # %magic # посмотреть список magic команд\n",
    "%matplotlib inline\n",
    "\n",
    "# run files\n",
    "%run /srv/jhub/share/._Additions/Import_libs.py\n",
    "%run /srv/jhub/share/._Additions/Connecting_.py\n",
    "%run /srv/jhub/share/._Additions/my_script.py\n",
    "%run /srv/jhub/share/._Additions/Date_gen.py\n",
    "%run /srv/jhub/share/._Additions/xx.py\n",
    "\n",
    "# print\n",
    "###########################\n",
    "#################################\n",
    "# print(\n",
    "# df_test_xx.shape, '\\n'\n",
    "# ,abs_path, '\\n' # abs_path - путь до шары (видна всем езерам - '/srv/jhub/share/')\n",
    "# ,path_OUT_dbDATA, '\\n'\n",
    "# ,date_start, date_end, '\\n'\n",
    "# )\n",
    "############################## End ##############################"
   ]
  },
  {
   "cell_type": "code",
   "execution_count": 3,
   "id": "bcc0a083",
   "metadata": {
    "ExecuteTime": {
     "end_time": "2022-11-28T09:02:07.763912Z",
     "start_time": "2022-11-28T09:02:07.758101Z"
    }
   },
   "outputs": [
    {
     "data": {
      "text/plain": [
       "'/tmp/'"
      ]
     },
     "execution_count": 3,
     "metadata": {},
     "output_type": "execute_result"
    }
   ],
   "source": [
    "temp_tmp"
   ]
  },
  {
   "cell_type": "code",
   "execution_count": 4,
   "id": "8143092f",
   "metadata": {
    "ExecuteTime": {
     "end_time": "2022-11-28T09:02:07.839094Z",
     "start_time": "2022-11-28T09:02:07.805406Z"
    }
   },
   "outputs": [],
   "source": [
    "\n",
    "# # В НАЧАЛЕ СКРИПТА АВТОЗАПУСКА\n",
    "# # logs crontab АВТОЗАПУСК\n",
    "# start_datetime = datetime.datetime.today()\n",
    "# name_file = r'[АВТОЗАПУСК] Источники для BI (Продажи_).py'\n",
    "# path_ipy = r\"/opt/anaconda3/envs/jupyter_env/bin/ipython\" \n",
    "# path_file = fr\"/home/slebedev/jhub-analytics/'_ Analytics department'/'Источники для BI (Продажи)'/'{name_file}'\" \n",
    "# log_info = []\n",
    "\n",
    "# ###########################"
   ]
  },
  {
   "cell_type": "code",
   "execution_count": 5,
   "id": "b9983326",
   "metadata": {
    "ExecuteTime": {
     "end_time": "2022-11-28T09:02:07.884494Z",
     "start_time": "2022-11-28T09:02:07.881912Z"
    }
   },
   "outputs": [],
   "source": [
    "# start_datetime"
   ]
  },
  {
   "cell_type": "code",
   "execution_count": 6,
   "id": "bf55fad6",
   "metadata": {
    "ExecuteTime": {
     "end_time": "2022-11-28T09:02:07.928491Z",
     "start_time": "2022-11-28T09:02:07.925811Z"
    }
   },
   "outputs": [],
   "source": [
    "# (test) [АВТОЗАПУСК] Источники для BI (Продажи_).sql"
   ]
  },
  {
   "cell_type": "markdown",
   "id": "8cc61774",
   "metadata": {},
   "source": [
    "## Путь к sql"
   ]
  },
  {
   "cell_type": "code",
   "execution_count": 7,
   "id": "d7ceea34",
   "metadata": {
    "ExecuteTime": {
     "end_time": "2022-11-28T09:02:07.983612Z",
     "start_time": "2022-11-28T09:02:07.970747Z"
    },
    "scrolled": false
   },
   "outputs": [
    {
     "data": {
      "text/plain": [
       "'/home/slebedev/jhub-analytics/_ Analytics department/Источники для BI (Продажи)/tests/(test) [АВТОЗАПУСК] Источники для BI (Продажи_ с удаленными позициями).sql'"
      ]
     },
     "execution_count": 7,
     "metadata": {},
     "output_type": "execute_result"
    }
   ],
   "source": [
    "path_SQL_fon = glob.glob(abs_path + r'**/' \n",
    "#                          + r'*АВТОЗАПУСК] Источники для BI (Продажи_).sql'\n",
    "                         + r'*test*АВТОЗАПУСК] Источники для BI (Продажи_ с удаленными позициями).sql'\n",
    "#                          + r'*test*АВТОЗАПУСК] Источники для BI (Заказы с метками).sql'\n",
    "                         , recursive=True) [0]\n",
    "# [print(i) for i in path_SQL_fon]\n",
    "path_SQL_fon"
   ]
  },
  {
   "cell_type": "code",
   "execution_count": 8,
   "id": "bd0d24bc",
   "metadata": {
    "ExecuteTime": {
     "end_time": "2022-11-28T09:02:08.029602Z",
     "start_time": "2022-11-28T09:02:08.027190Z"
    }
   },
   "outputs": [],
   "source": [
    "# Путь куда будут выгружены файлы "
   ]
  },
  {
   "cell_type": "code",
   "execution_count": 9,
   "id": "f8b305b2",
   "metadata": {
    "ExecuteTime": {
     "end_time": "2022-11-28T09:02:08.309589Z",
     "start_time": "2022-11-28T09:02:08.069771Z"
    }
   },
   "outputs": [],
   "source": [
    "# path_OUT_dbDATA"
   ]
  },
  {
   "cell_type": "markdown",
   "id": "f7f54068",
   "metadata": {},
   "source": [
    "## Качнуть за какую то опредлеленную дату"
   ]
  },
  {
   "cell_type": "code",
   "execution_count": 10,
   "id": "868403a3",
   "metadata": {
    "ExecuteTime": {
     "end_time": "2022-11-28T09:02:08.359140Z",
     "start_time": "2022-11-28T09:02:08.352582Z"
    },
    "scrolled": false
   },
   "outputs": [
    {
     "name": "stdout",
     "output_type": "stream",
     "text": [
      "           start         end\n",
      "2150  2022-11-21  2022-11-22\n",
      "2151  2022-11-22  2022-11-23\n",
      "2152  2022-11-23  2022-11-24\n",
      "2153  2022-11-24  2022-11-25\n",
      "2154  2022-11-25  2022-11-26\n",
      "2155  2022-11-26  2022-11-27\n",
      "2156  2022-11-27  2022-11-28\n",
      "\n",
      "2022-11-21 || 2022-11-21\n",
      "2022-11-22 || 2022-11-22\n",
      "2022-11-23 || 2022-11-23\n",
      "2022-11-24 || 2022-11-24\n",
      "2022-11-25 || 2022-11-25\n",
      "2022-11-26 || 2022-11-26\n",
      "2022-11-27 || 2022-11-27\n"
     ]
    }
   ],
   "source": [
    "# Смотрим что надо дни мес или года и тд\n",
    "# https://jhub.e2e4.ru/user/slebedev/edit/jhub-analytics/%D0%90%D0%BD%D0%B0%D0%BB%D0%B8%D1%82%D0%B8%D0%BA%D0%B0/._Additions/Date_gen.py\n",
    "\n",
    "# df_date_Y\n",
    "# date_end_m\n",
    "# df_date_d\n",
    "\n",
    "# выбираем диапозон\n",
    "df_date_ = df_date_d .iloc[ 2157-7 : 2157,: ]\n",
    "print( df_date_ )\n",
    "\n",
    "print()\n",
    "for i in df_date_ .values:\n",
    "    print(f'{i[0]} || {i[0]}')"
   ]
  },
  {
   "cell_type": "markdown",
   "id": "546acee4",
   "metadata": {
    "ExecuteTime": {
     "end_time": "2022-01-26T10:50:48.257217Z",
     "start_time": "2022-01-26T10:50:48.253748Z"
    }
   },
   "source": [
    "## Грузим, записываем (read sql file, connect, to_csv/xlsx)\n",
    "<span class=\"mark\">по месяцам</span>"
   ]
  },
  {
   "cell_type": "code",
   "execution_count": null,
   "id": "5368efad",
   "metadata": {
    "ExecuteTime": {
     "end_time": "2022-04-21T09:03:40.256240Z",
     "start_time": "2022-04-21T09:03:40.234301Z"
    }
   },
   "outputs": [],
   "source": []
  },
  {
   "cell_type": "code",
   "execution_count": 11,
   "id": "eca8d93b",
   "metadata": {
    "ExecuteTime": {
     "end_time": "2022-11-28T09:02:18.337163Z",
     "start_time": "2022-11-28T09:02:16.831025Z"
    }
   },
   "outputs": [
    {
     "name": "stdout",
     "output_type": "stream",
     "text": [
      "Источники для BI (Продажи_ с удаленными позициями) \n",
      " /home/slebedev/jhub-analytics/_ Analytics department/Источники для BI (Продажи)/tests/(test) [АВТОЗАПУСК] Источники для BI (Продажи_ с удаленными позициями).sql\n"
     ]
    }
   ],
   "source": [
    "# public_link = '''https://nextcloud.e2e4.ru/apps/files/?dir=/Public/Отчеты%20(выгрузка%20jupyter%20notebooks)&fileid=2018892'''\n",
    "AmazonS3_folder_Public = r'/Public/Отчеты (выгрузка jupyter notebooks)'\n",
    "AmazonS3_path_to_file = r'/ДЛЯ ТЕСТОВ/BI (all)/'\n",
    "# AmazonS3_path_to_file = r'/Источники для BI/Продажи_ 2008-2016/'\n",
    "\n",
    "\n",
    "# print('AmazonS3_file_name - ', AmazonS3_file_name, '/nAmazonS3_full_path - ', AmazonS3_full_path)\n",
    "Amazon_owncloud = owncloud.Client('https://nextcloud.e2e4.ru')\n",
    "Amazon_owncloud.login(loginAtlassianjhubAdmin, passwordAtlassianjhubAdmin)\n",
    "### Amazon_owncloud.mkdir('testdir')\n",
    "print( path_SQL_fon .split('.')[-2].split('/')[-1].split(']')[-1].strip()\n",
    "          ,'\\n', path_SQL_fon )"
   ]
  },
  {
   "cell_type": "code",
   "execution_count": 13,
   "id": "eeeb972c",
   "metadata": {
    "ExecuteTime": {
     "end_time": "2022-11-28T09:02:25.695385Z",
     "start_time": "2022-11-28T09:02:25.690817Z"
    }
   },
   "outputs": [
    {
     "data": {
      "text/plain": [
       "'(test) [АВТОЗАПУСК] Источники для BI (Продажи_ с удаленными позициями) 2022-11-27 - 2022-11-27'"
      ]
     },
     "execution_count": 13,
     "metadata": {},
     "output_type": "execute_result"
    }
   ],
   "source": [
    "AmazonS3_file_name =  path_SQL_fon.split('.')[-2].split('/')[-1] + fr' {i[0]} - {i[0]}' # ({getpass.getuser()})\n",
    "AmazonS3_file_name"
   ]
  },
  {
   "cell_type": "code",
   "execution_count": 14,
   "id": "52e7f895",
   "metadata": {
    "ExecuteTime": {
     "end_time": "2022-11-28T09:08:15.171041Z",
     "start_time": "2022-11-28T09:02:26.430585Z"
    },
    "scrolled": false
   },
   "outputs": [
    {
     "name": "stdout",
     "output_type": "stream",
     "text": [
      "\n",
      "\n",
      "2022-11-21 || 2022-11-21 \n",
      "\n",
      "Файл записан в облако\n",
      "/Public/Отчеты (выгрузка jupyter notebooks)/ДЛЯ ТЕСТОВ/BI (all)/Источники для BI (Продажи_ с удаленными позициями) 2022-11-21 - 2022-11-21.xlsx\n",
      "os.remove\n",
      "52.22029399871826MiB (gives results in MiB)\n",
      "\n",
      "\n",
      "2022-11-22 || 2022-11-22 \n",
      "\n",
      "Файл записан в облако\n",
      "/Public/Отчеты (выгрузка jupyter notebooks)/ДЛЯ ТЕСТОВ/BI (all)/Источники для BI (Продажи_ с удаленными позициями) 2022-11-22 - 2022-11-22.xlsx\n",
      "os.remove\n",
      "43.78495693206787MiB (gives results in MiB)\n",
      "\n",
      "\n",
      "2022-11-23 || 2022-11-23 \n",
      "\n",
      "Файл записан в облако\n",
      "/Public/Отчеты (выгрузка jupyter notebooks)/ДЛЯ ТЕСТОВ/BI (all)/Источники для BI (Продажи_ с удаленными позициями) 2022-11-23 - 2022-11-23.xlsx\n",
      "os.remove\n",
      "28.834367752075195MiB (gives results in MiB)\n",
      "\n",
      "\n",
      "2022-11-24 || 2022-11-24 \n",
      "\n",
      "Файл записан в облако\n",
      "/Public/Отчеты (выгрузка jupyter notebooks)/ДЛЯ ТЕСТОВ/BI (all)/Источники для BI (Продажи_ с удаленными позициями) 2022-11-24 - 2022-11-24.xlsx\n",
      "os.remove\n",
      "34.64273548126221MiB (gives results in MiB)\n",
      "\n",
      "\n",
      "2022-11-25 || 2022-11-25 \n",
      "\n",
      "Файл записан в облако\n",
      "/Public/Отчеты (выгрузка jupyter notebooks)/ДЛЯ ТЕСТОВ/BI (all)/Источники для BI (Продажи_ с удаленными позициями) 2022-11-25 - 2022-11-25.xlsx\n",
      "os.remove\n",
      "34.12044429779053MiB (gives results in MiB)\n",
      "\n",
      "\n",
      "2022-11-26 || 2022-11-26 \n",
      "\n",
      "Файл записан в облако\n",
      "/Public/Отчеты (выгрузка jupyter notebooks)/ДЛЯ ТЕСТОВ/BI (all)/Источники для BI (Продажи_ с удаленными позициями) 2022-11-26 - 2022-11-26.xlsx\n",
      "os.remove\n",
      "3.600335121154785MiB (gives results in MiB)\n",
      "\n",
      "\n",
      "2022-11-27 || 2022-11-27 \n",
      "\n",
      "Файл записан в облако\n",
      "/Public/Отчеты (выгрузка jupyter notebooks)/ДЛЯ ТЕСТОВ/BI (all)/Источники для BI (Продажи_ с удаленными позициями) 2022-11-27 - 2022-11-27.xlsx\n",
      "os.remove\n",
      "3.7311058044433594MiB (gives results in MiB)\n"
     ]
    }
   ],
   "source": [
    "\n",
    "## идем по датам, коннектимся, читаем sql file, подставляем даты\n",
    "df_fon = pd.DataFrame()\n",
    "for i in df_date_.iloc[:,:].values:\n",
    "    AmazonS3_file_name = path_SQL_fon.split('.')[-2].split('/')[-1].split(']')[-1].strip() + fr' {i[0]} - {i[0]}' # ({getpass.getuser()})\n",
    "    AmazonS3_full_path = AmazonS3_folder_Public + AmazonS3_path_to_file + AmazonS3_file_name\n",
    "\n",
    "    print(f'\\n\\n{i[0]} || {i[0]} \\n')\n",
    "#   читаем sql file\n",
    "    with open( path_SQL_fon, \"r\", encoding = \"utf-8\" ) as sql_file:\n",
    "#       коннектимся \n",
    "        with psycopg2.connect(dbname=database, user=user, password=password, host=host) as cnxn:\n",
    "#           подставляем даты\n",
    "#             df_fon = pd.concat([df_fon, \n",
    "#                 pd.read_sql_query(sql_file.read().replace('DATE_START_replce', f'{i[0]}') \\\n",
    "#                                                            .replace('DATE_END_replce', f'{i[1]}'), cnxn)])    \n",
    "            df_fon = pd.read_sql_query(sql_file.read().replace('DATE_START_replce', f'{i[0]}').replace('DATE_END_replce', f'{i[0]}'), cnxn) \n",
    "#   to_excel\n",
    "    df_fon.to_excel(temp_tmp + AmazonS3_file_name + '.xlsx',  index=False, encoding='cp-1251') \n",
    "\n",
    "#   to_csv \n",
    "#     df_fon.to_csv(path_OUT_dbDATA + r'Фоновый отчет по выручке (по дате продажи) с возвратами/' \\\n",
    "#         + fr'Источники для BI (Продажи) { i[0] } { i[1] } .csv', sep='☺',  index=False) # cp-1251 encoding='UTF-8', engine='xlsxwriter'\n",
    "\n",
    "#   .to_pickle\n",
    "#     df_fon.to_pickle(temp_tmp + AmazonS3_file_name + '.pkl', compression='zip') \n",
    "    \n",
    "    print( f'Файл записан в облако\\n{AmazonS3_full_path}.xlsx' if Amazon_owncloud.put_file( \n",
    "    #                 полный путь и там и там!!! \n",
    "                AmazonS3_full_path + '.xlsx', temp_tmp + AmazonS3_file_name + '.xlsx'\n",
    "                )  \\\n",
    "        is True else f'Возникли проблемы при записи в облако {AmazonS3_full_path}.xlsx' )  \n",
    "    \n",
    "#     print( f'Файл записан в облако\\n{AmazonS3_full_path}.pkl' if Amazon_owncloud.put_file( \n",
    "#     #                 полный путь и там и там!!! \n",
    "#                 AmazonS3_full_path + '.pkl', temp_tmp + AmazonS3_file_name + '.pkl'\n",
    "#                 )  \\\n",
    "#         is True else f'Возникли проблемы при записи в облако {AmazonS3_full_path}.pkl' ) \n",
    "\n",
    "    os.remove(temp_tmp + AmazonS3_file_name + '.xlsx')\n",
    "#     os.remove(temp_tmp + AmazonS3_file_name + '.pkl')\n",
    "    print('os.remove')\n",
    "#     print(df_fon) \n",
    "    print(f\"{datasize.DataSize(sys.getsizeof(df_fon)):MiB}\", '(gives results in MiB)' )\n",
    "    df_fon\n",
    "#     "
   ]
  },
  {
   "cell_type": "code",
   "execution_count": null,
   "id": "73e52155",
   "metadata": {
    "ExecuteTime": {
     "end_time": "2022-01-28T05:42:30.016933Z",
     "start_time": "2022-01-28T05:42:30.011435Z"
    }
   },
   "outputs": [],
   "source": [
    "# from platform import python_version  \n",
    "# # Getting Python interpreter version as a result \n",
    "# print(\"Current Version of Python interpreter we are using-\", python_version()) \n"
   ]
  },
  {
   "cell_type": "markdown",
   "id": "5cd769af",
   "metadata": {
    "ExecuteTime": {
     "end_time": "2022-01-26T10:51:39.321146Z",
     "start_time": "2022-01-26T10:51:39.318406Z"
    }
   },
   "source": [
    "# СПРАВОЧНИКИ"
   ]
  },
  {
   "cell_type": "code",
   "execution_count": null,
   "id": "bff31f2a",
   "metadata": {
    "ExecuteTime": {
     "end_time": "2022-01-28T09:24:31.886025Z",
     "start_time": "2022-01-28T09:24:31.878570Z"
    }
   },
   "outputs": [],
   "source": [
    "# --СПРАВОЧНИКИ\n",
    "# sql_customer # --_Сотрудники (справочник)\n",
    "# sql_storage # --_Склады (справочник)\n",
    "# sql_users # --_Клиенты (справочник) \n",
    "# sql_platforms # --_Площадки (справочник)\n",
    "# sql_e2e4 # --_e2e4 ID (справочник)"
   ]
  },
  {
   "cell_type": "code",
   "execution_count": null,
   "id": "027d053c",
   "metadata": {
    "ExecuteTime": {
     "end_time": "2022-01-28T09:42:21.940948Z",
     "start_time": "2022-01-28T09:42:21.936942Z"
    },
    "code_folding": [
     0
    ]
   },
   "outputs": [],
   "source": [
    "# sql_customer = '''\n",
    "    /*\n",
    "    Клиенты (справочник) 874 657\n",
    "    */\n",
    "    with CUSTOMER_MANAGERS_LOG AS (\n",
    "        /* Дата последней отвязки ответственного менеджера */\n",
    "        SELECT \n",
    "            c.id\n",
    "            ,max(l._tm)::date unbind_date\n",
    "\n",
    "        FROM opentech.customers c\n",
    "        JOIN _logs.opentech__customers l ON l.id = c.id\n",
    "            AND l.\"_op_type\" = 2    /* это запись об изменении карточки */\n",
    "            AND exist(l._values, 'manager') /* изменялся ответственный менеджер */\n",
    "            AND NOT defined(l._values, 'manager') /* ответственный менеджер был снят */\n",
    "        WHERE c.manager IS NULL\n",
    "        GROUP BY c.id\n",
    "    )\n",
    "\n",
    "    , CUSTOMERS_REFERENCE as(\n",
    "    select\n",
    "        customer.id \"ID клиента\"\n",
    "        ,COALESCE(customer.name, customer.phone) \"Наименование клиента\"\n",
    "        ,CASE WHEN customer.inn IS NULL THEN 'ФЛ' ELSE 'ЮЛ' END \"Тип клиента\"\n",
    "\n",
    "        ,CASE\n",
    "            WHEN budget.id_customer IS NOT NULL THEN 'бюджетник'\n",
    "            WHEN secondhand.id_customer IS NOT NULL THEN 'перекуп'\n",
    "            WHEN miner.id_customer IS NOT NULL THEN 'майнер'\n",
    "            WHEN transport.id_customer IS NOT NULL THEN 'ТК'\n",
    "            WHEN customer.asc = 1 THEN 'АСЦ'\n",
    "            WHEN customer.concurent = 1 THEN 'конкурент'\n",
    "        END \"Классификация\"\n",
    "\n",
    "        ,customer.inn \"ИНН\"\n",
    "\n",
    "        ,NULLIF(customer.respite_period, 0) \"Отсрочка, дни\"\n",
    "    /*\n",
    "        ,CASE\n",
    "            WHEN o.order_type = orders.type('ORGANIZATION') AND o.is_full_paid AND o.is_full_sold THEN\n",
    "                NULLIF(GREATEST(0, o.pay_date - o.date_sold), 0)\n",
    "        END AS \"Отсрочка факт, дни\"\n",
    "    */\n",
    "        ,cco.id_okved \"ОКВЭД\"\n",
    "        ,okved_section.name \"Отрасль\"\n",
    "        ,okved.name \"Вид деятельности\"\n",
    "        ,customer_city.name \"Город клиента\"\n",
    "        ,customer.registrationdate \"Дата регистрации клиента\"\n",
    "        ,manager.name \"Ответственный менеджер\" --заменить на логи потом может быть но пока оставть id \n",
    "        ,manager.id \"Ответственный менеджер\" --заменить на логи потом может быть но пока оставть id \n",
    "        ,cml.unbind_date \"Дата отвязки менеджера\"\n",
    "        \n",
    "\n",
    "    from  opentech.customers customer --ON customer.id = item.id_customer\n",
    "    --LEFT JOIN opentech.customers supplier ON supplier.id = ai.supplier_cid\n",
    "    --LEFT JOIN opentech.customers shipper ON shipper.id = ai.shipperid\n",
    "    left join CUSTOMER_MANAGERS_LOG cml ON cml.id = customer.id\n",
    "    left join opentech.users manager on manager.id = customer.manager\n",
    "\n",
    "    left join customers.customer_okveds cco on cco.id_customer = customer.id\n",
    "    left join customers.okveds okved on okved.id = cco.id_okved\n",
    "    left join customers.okved_sections okved_section on okved_section.id = okved.id_okved_section\n",
    "\n",
    "    left join customers.budgetaries budget on budget.id_customer = customer.id\n",
    "    left join customers.secondhand_dealers secondhand on secondhand.id_customer = customer.id\n",
    "    left join customers.miners miner on miner.id_customer = customer.id\n",
    "    left join customers.transports transport on transport.id_customer = customer.id\n",
    "    left join public.cities customer_city on customer_city.id = customer.cityid\n",
    "    )\n",
    "\n",
    "    select * from CUSTOMERS_REFERENCE cr\n",
    "    '''"
   ]
  },
  {
   "cell_type": "code",
   "execution_count": null,
   "id": "7675f748",
   "metadata": {
    "ExecuteTime": {
     "end_time": "2022-01-28T09:42:22.137252Z",
     "start_time": "2022-01-28T09:42:22.134946Z"
    },
    "code_folding": [
     0
    ]
   },
   "outputs": [],
   "source": [
    "# sql_storage = '''\n",
    "#     /*\n",
    "#     Склады (справочник) 145\n",
    "#     */\n",
    "#     select \n",
    "#         storage.id \"ID склада отгрузки\", --Переделать на ID склада\n",
    "#         storage.name \"Склад отгрузки\", --Переделать на ID склада\n",
    "#         city.name \"Город отгрузки\",\n",
    "#         storage.fulladdress \"Адрес склада\"\n",
    "#     from opentech.storage storage --ON storage.id = item.id_storage\n",
    "#     JOIN public.cities city ON city.id = storage.city_id\n",
    "#     '''"
   ]
  },
  {
   "cell_type": "code",
   "execution_count": null,
   "id": "e9afd366",
   "metadata": {
    "ExecuteTime": {
     "end_time": "2022-01-28T09:42:22.354387Z",
     "start_time": "2022-01-28T09:42:22.351911Z"
    },
    "code_folding": [
     0
    ]
   },
   "outputs": [],
   "source": [
    "# sql_users = '''\n",
    "#     /*\n",
    "#     Сотрудники (справочник)\n",
    "#     */\n",
    "#     select \n",
    "#         u.id, \n",
    "#         u.login, u.\"name\", u.customer_id \"Карточка клиента\", u.fired \"Признак, что сотрудник уволен\",\n",
    "#         u.id_1c \"Инедтификатор сотрудника в 1С\", ud.id \"Отдел id\", ud.name \"Отдел\", u.email, u.phone, u.workphone, u.workphone_login, \n",
    "#         u.employmentdate \"Дата приёма на работу\", u.terminationdate \"Дата увольнения (последний рабочий день)\", \n",
    "#         u.siteuser_id \"Учетная запись на сайте\",\n",
    "#         u.timezone \"Часовой пояс\"\n",
    "#     from opentech.users u\n",
    "#     left join users.departments ud on ud.id = u.department\n",
    "#     '''"
   ]
  },
  {
   "cell_type": "code",
   "execution_count": null,
   "id": "a69f2d89",
   "metadata": {
    "ExecuteTime": {
     "end_time": "2022-01-28T09:42:22.533143Z",
     "start_time": "2022-01-28T09:42:22.530939Z"
    },
    "code_folding": [
     0
    ]
   },
   "outputs": [],
   "source": [
    "# sql_platforms = '''\n",
    "#     /*\n",
    "#     Площадки (справочник)\n",
    "#     */\n",
    "#     select * from orders.platforms op\n",
    "#     '''"
   ]
  },
  {
   "cell_type": "code",
   "execution_count": null,
   "id": "f107727c",
   "metadata": {
    "ExecuteTime": {
     "end_time": "2022-01-28T09:55:38.759521Z",
     "start_time": "2022-01-28T09:55:38.757134Z"
    },
    "code_folding": [
     0
    ]
   },
   "outputs": [],
   "source": [
    "# sql_e2e4 = '''\n",
    "#     /*\n",
    "#     e2e4 ID (справочник)\n",
    "#     */\n",
    "#     select \n",
    "#         id, login, \"name\", surname, id_author, tm_create::timestamp, entrance_datetime::timestamp \"Момент времени последнего входа\",  \n",
    "#         id_city \"Выбранный город (не отгрузки, а доставки)\",  payment_type \"Тип платежа по умолчанию\"\n",
    "#     from site.users -- 577 692 \n",
    "    \n",
    "#     '''"
   ]
  },
  {
   "cell_type": "code",
   "execution_count": null,
   "id": "5baf3b6f",
   "metadata": {
    "ExecuteTime": {
     "end_time": "2022-01-28T09:58:47.810524Z",
     "start_time": "2022-01-28T09:55:42.730715Z"
    }
   },
   "outputs": [],
   "source": [
    "# directory_book_of_reference = r'/Public/Отчеты (выгрузка jupyter notebooks)/Источники для BI'\n",
    "\n",
    "# AmazonS3_full_path_customer = directory_book_of_reference + r'/_Сотрудники (справочник)/_Клиенты (справочник)' \n",
    "# AmazonS3_full_path_storage = directory_book_of_reference + r'/_Склады (справочник)/_Склады (справочник)' \n",
    "# AmazonS3_full_path_users = directory_book_of_reference + r'/_Клиенты (справочник)/_Сотрудники (справочник)' \n",
    "# AmazonS3_full_path_platforms = directory_book_of_reference + r'/_Площадки (справочник)/_Площадки (справочник)' \n",
    "# AmazonS3_full_path_e2e4ID = directory_book_of_reference + r'/_e2e4 ID (справочник)/_e2e4 ID (справочник)' \n",
    "\n",
    "\n",
    "# for file_zip in zip([AmazonS3_full_path_customer, AmazonS3_full_path_storage, AmazonS3_full_path_users, AmazonS3_full_path_platforms, AmazonS3_full_path_e2e4ID]\n",
    "#              ,[sql_customer, sql_storage, sql_users, sql_platforms, sql_e2e4]\n",
    "#             ):\n",
    "\n",
    "#     with psycopg2.connect(dbname=database, user=user, password=password, host=host) as cnxn: # коннектимся \n",
    "#         df_fon = pd.read_sql_query( file_zip[1], cnxn) \n",
    "#     df_fon.to_excel(temp_tmp + file_zip[0].split('/')[-1] + '.xlsx',  index=False, encoding='cp-1251') #   to_excel\n",
    "#     print( f'Файл записан в облако\\n{file_zip[0]}.xlsx' if Amazon_owncloud.put_file( \n",
    "#         file_zip[0] + '.xlsx'\n",
    "#         , temp_tmp + file_zip[0].split('/')[-1] + '.xlsx' ) is True \n",
    "#             else f'Возникли проблемы при записи в облако {file_zip[0]}.xlsx' )  \n",
    "#     os.remove(temp_tmp + file_zip[0].split('/')[-1] + '.xlsx')\n",
    "#     print('os.remove')\n",
    "#     #     print(df_fon) \n",
    "#     print(f\"{datasize.DataSize(sys.getsizeof(df_fon)):MiB}\", '(gives results in MiB)' )\n",
    "#     # df_fon"
   ]
  },
  {
   "cell_type": "code",
   "execution_count": null,
   "id": "ed87f333",
   "metadata": {
    "ExecuteTime": {
     "end_time": "2022-01-28T09:45:04.357892Z",
     "start_time": "2022-01-28T09:45:04.357873Z"
    }
   },
   "outputs": [],
   "source": [
    "# [AmazonS3_full_path_customer, AmazonS3_full_path_storage, AmazonS3_full_path_users, AmazonS3_full_path_platforms, AmazonS3_full_path_e2e4ID]"
   ]
  },
  {
   "cell_type": "code",
   "execution_count": null,
   "id": "da7c5a63",
   "metadata": {
    "ExecuteTime": {
     "end_time": "2022-01-28T09:45:04.360804Z",
     "start_time": "2022-01-28T09:45:04.360791Z"
    }
   },
   "outputs": [],
   "source": [
    "\n",
    "# for i in zip([AmazonS3_full_path_customer, AmazonS3_full_path_storage, AmazonS3_full_path_users, AmazonS3_full_path_platforms, AmazonS3_full_path_e2e4ID]\n",
    "#              ,[sql_customer, sql_storage, sql_users, sql_platforms, sql_e2e4]\n",
    "#             ):\n",
    "#     print(i)"
   ]
  },
  {
   "cell_type": "code",
   "execution_count": null,
   "id": "236848d6",
   "metadata": {
    "ExecuteTime": {
     "end_time": "2022-01-28T09:45:04.363177Z",
     "start_time": "2022-01-28T09:45:04.363165Z"
    }
   },
   "outputs": [],
   "source": [
    "# AmazonS3_full_path_customer"
   ]
  },
  {
   "cell_type": "code",
   "execution_count": null,
   "id": "6849d2b3",
   "metadata": {},
   "outputs": [],
   "source": []
  },
  {
   "cell_type": "code",
   "execution_count": null,
   "id": "9ecc8fbb",
   "metadata": {
    "ExecuteTime": {
     "end_time": "2022-01-28T09:54:01.014180Z",
     "start_time": "2022-01-28T09:54:01.010301Z"
    }
   },
   "outputs": [],
   "source": [
    "# glob.glob( '/tmp/*e2e4*' )"
   ]
  },
  {
   "cell_type": "code",
   "execution_count": null,
   "id": "8cb0dd6f",
   "metadata": {},
   "outputs": [],
   "source": []
  },
  {
   "cell_type": "code",
   "execution_count": null,
   "id": "7ba14791",
   "metadata": {},
   "outputs": [],
   "source": []
  },
  {
   "cell_type": "code",
   "execution_count": null,
   "id": "ba0d455a",
   "metadata": {},
   "outputs": [],
   "source": []
  },
  {
   "cell_type": "code",
   "execution_count": null,
   "id": "516890a2",
   "metadata": {},
   "outputs": [],
   "source": []
  },
  {
   "cell_type": "code",
   "execution_count": null,
   "id": "f1100c84",
   "metadata": {},
   "outputs": [],
   "source": []
  },
  {
   "cell_type": "code",
   "execution_count": null,
   "id": "db7a0741",
   "metadata": {},
   "outputs": [],
   "source": []
  },
  {
   "cell_type": "markdown",
   "id": "3d1e4e37",
   "metadata": {
    "ExecuteTime": {
     "end_time": "2022-01-26T10:58:36.280545Z",
     "start_time": "2022-01-26T10:58:36.277784Z"
    }
   },
   "source": [
    "# Исправить на поиск справочников и потом цикл по файлам...."
   ]
  },
  {
   "cell_type": "code",
   "execution_count": null,
   "id": "ef5478b5",
   "metadata": {
    "ExecuteTime": {
     "end_time": "2022-01-28T09:45:04.365469Z",
     "start_time": "2022-01-28T09:45:04.365458Z"
    }
   },
   "outputs": [],
   "source": [
    "# # docs.nextcloud.com Listing folders\n",
    "# # https://docs.nextcloud.com/server/latest/developer_manual/client_apis/WebDAV/basic.html#listing-folders-rfc4918\n",
    "# webdav_options = \"\"\"<?xml version=\"1.0\" encoding=\"UTF-8\"?>\n",
    "#     <d:propfind xmlns:d=\"DAV:\">\n",
    "#         <d:prop xmlns:oc=\"http://owncloud.org/ns\">\n",
    "#             <d:getlastmodified/>\n",
    "#             <d:getcontenttype/>\n",
    "#             <oc:fileid/>\n",
    "#         </d:prop>\n",
    "#     </d:propfind>\"\"\"\n",
    "\n",
    "# path_nextcloud_folder =  'Public/Отчеты (выгрузка jupyter notebooks)/Источники для BI'\n",
    "# req = requests.request('PROPFIND'\n",
    "#     ,f'''https://nextcloud.e2e4.ru//remote.php/dav/files/slebedev/{path_nextcloud_folder}'''   \n",
    "#     ,auth=('slebedev', '!Qwe321654')\n",
    "#     ,data=webdav_options )\n",
    "\n",
    "# xml_dict = xmltodict.parse(req.text, dict_constructor=dict)\n",
    "# # xml_dict\n",
    "# # list_files_for_BI = [j for j in [ urllib.parse.unquote( response['d:href'] ).split('/')[-1] for response in xml_dict['d:multistatus']['d:response'] ] if j != '']\n",
    "# list_files_for_BI = [j for j in [ urllib.parse.unquote( response['d:href'] ) for response in xml_dict['d:multistatus']['d:response'] ] if j != ''  and 'правочник' in j ]\n",
    "# print( list_files_for_BI ) \n"
   ]
  },
  {
   "cell_type": "code",
   "execution_count": null,
   "id": "5e76f6c7",
   "metadata": {},
   "outputs": [],
   "source": []
  },
  {
   "cell_type": "code",
   "execution_count": null,
   "id": "2577f989",
   "metadata": {},
   "outputs": [],
   "source": []
  },
  {
   "cell_type": "code",
   "execution_count": null,
   "id": "827d58bc",
   "metadata": {},
   "outputs": [],
   "source": []
  },
  {
   "cell_type": "code",
   "execution_count": null,
   "id": "65cfc98d",
   "metadata": {},
   "outputs": [],
   "source": []
  },
  {
   "cell_type": "code",
   "execution_count": null,
   "id": "e282bba9",
   "metadata": {},
   "outputs": [],
   "source": []
  },
  {
   "cell_type": "markdown",
   "id": "6fb928cf",
   "metadata": {
    "ExecuteTime": {
     "end_time": "2022-01-26T10:53:09.430938Z",
     "start_time": "2022-01-26T10:53:09.428088Z"
    }
   },
   "source": [
    "# End"
   ]
  },
  {
   "cell_type": "code",
   "execution_count": null,
   "id": "eb0ad067",
   "metadata": {},
   "outputs": [],
   "source": []
  }
 ],
 "metadata": {
  "hide_input": false,
  "kernelspec": {
   "display_name": "python39-spark-conda",
   "language": "python",
   "name": "python39-spark-conda"
  },
  "language_info": {
   "codemirror_mode": {
    "name": "ipython",
    "version": 3
   },
   "file_extension": ".py",
   "mimetype": "text/x-python",
   "name": "python",
   "nbconvert_exporter": "python",
   "pygments_lexer": "ipython3",
   "version": "3.9.7"
  },
  "toc": {
   "base_numbering": 1,
   "nav_menu": {},
   "number_sections": false,
   "sideBar": true,
   "skip_h1_title": false,
   "title_cell": "Table of Contents",
   "title_sidebar": "Contents",
   "toc_cell": false,
   "toc_position": {
    "height": "calc(100% - 180px)",
    "left": "10px",
    "top": "150px",
    "width": "295px"
   },
   "toc_section_display": true,
   "toc_window_display": true
  },
  "varInspector": {
   "cols": {
    "lenName": 16,
    "lenType": 16,
    "lenVar": 40
   },
   "kernels_config": {
    "python": {
     "delete_cmd_postfix": "",
     "delete_cmd_prefix": "del ",
     "library": "var_list.py",
     "varRefreshCmd": "print(var_dic_list())"
    },
    "r": {
     "delete_cmd_postfix": ") ",
     "delete_cmd_prefix": "rm(",
     "library": "var_list.r",
     "varRefreshCmd": "cat(var_dic_list()) "
    }
   },
   "position": {
    "height": "885.844px",
    "left": "1650px",
    "right": "20px",
    "top": "14px",
    "width": "800px"
   },
   "types_to_exclude": [
    "module",
    "function",
    "builtin_function_or_method",
    "instance",
    "_Feature"
   ],
   "window_display": false
  }
 },
 "nbformat": 4,
 "nbformat_minor": 5
}
