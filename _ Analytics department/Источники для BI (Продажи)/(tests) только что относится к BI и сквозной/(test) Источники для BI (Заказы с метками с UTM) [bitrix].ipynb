{
 "cells": [
  {
   "cell_type": "markdown",
   "id": "4b74caef",
   "metadata": {
    "ExecuteTime": {
     "end_time": "2022-05-28T07:10:05.904127Z",
     "start_time": "2022-05-28T07:10:05.902123Z"
    }
   },
   "source": [
    "# bitrix + заказы с метками по месяцам "
   ]
  },
  {
   "cell_type": "code",
   "execution_count": 1,
   "id": "f75ec4af",
   "metadata": {
    "ExecuteTime": {
     "end_time": "2022-11-01T10:12:25.676739Z",
     "start_time": "2022-11-01T10:12:23.502627Z"
    }
   },
   "outputs": [
    {
     "name": "stdout",
     "output_type": "stream",
     "text": [
      "path_SQL_fon_labels - /home/slebedev/jhub-analytics/_ Analytics department/Источники для BI (Продажи)/tests/(test) [АВТОЗАПУСК] Источники для BI (Заказы с метками).sql\n"
     ]
    }
   ],
   "source": [
    "# magic    \n",
    "get_ipython().run_line_magic('matplotlib', 'inline')\n",
    "# run files\n",
    "get_ipython().run_line_magic('run', '/srv/jhub/share/._Additions/Import_libs.py')\n",
    "get_ipython().run_line_magic('run', '/srv/jhub/share/._Additions/Connecting_.py')\n",
    "get_ipython().run_line_magic('run', '/srv/jhub/share/._Additions/my_script.py')\n",
    "get_ipython().run_line_magic('run', '/srv/jhub/share/._Additions/Date_gen.py')\n",
    "get_ipython().run_line_magic('run', '/srv/jhub/share/._Additions/xx.py')\n",
    "\n",
    "# print\n",
    "###########################\n",
    "# print(\n",
    "# df_test_xx.shape, '\\n'\n",
    "# ,abs_path, '\\n' # abs_path - путь до шары (видна всем езерам - '/srv/jhub/share/')\n",
    "# ,path_OUT_dbDATA, '\\n'\n",
    "# ,date_start, date_end, '\\n'\n",
    "# )\n",
    "############################## End ##############################\n",
    "\n",
    "# В НАЧАЛЕ СКРИПТА АВТОЗАПУСКА\n",
    "# logs crontab АВТОЗАПУСК\n",
    "# start_datetime = datetime.datetime.today()\n",
    "# name_file = r'[АВТОЗАПУСК] Источники для BI (Заказы с метками).py'\n",
    "# path_ipy = r\"/opt/anaconda3/envs/jupyter_env/bin/ipython\" \n",
    "# path_file = fr\"/home/slebedev/jhub-analytics/'_ Analytics department'/'Источники для BI (Продажи)'/'{name_file}'\" \n",
    "# log_info = []\n",
    "\n",
    "###########################\n",
    "# labels\n",
    "path_SQL_fon_labels = glob.glob(abs_path + r'**/' + r'*test*АВТОЗАПУСК] Источники для BI (Заказы с метками).sql', recursive=True)[0]\n",
    "print(f'path_SQL_fon_labels - {path_SQL_fon_labels}')\n",
    "\n",
    "\n",
    "# months\n",
    "# date_df_start = df_date_m['start'][0]\n",
    "# date_df_end = df_date_m.iloc[-1, -1]\n",
    "# date_df_start, date_df_end, df_date_m.iloc[-2:, :]\n",
    "# days\n",
    "date_df_start = df_date_d['start'][0]\n",
    "date_df_end = df_date_d.iloc[-1, -1]\n",
    "\n",
    "# public_link = '''https://nextcloud.e2e4.ru/apps/files/?dir=/Public/Отчеты%20(выгрузка%20jupyter%20notebooks)&fileid=2018892'''\n",
    "AmazonS3_folder_Public = r'/Public/Отчеты (выгрузка jupyter notebooks)'\n",
    "AmazonS3_path_to_file = r'/ДЛЯ ТЕСТОВ/BI (all)/' \n",
    "# print('AmazonS3_file_name - ', AmazonS3_file_name, '/nAmazonS3_full_path - ', AmazonS3_full_path)\n",
    "Amazon_owncloud = owncloud.Client('https://nextcloud.e2e4.ru')\n",
    "Amazon_owncloud.login(loginAtlassianjhubAdmin, passwordAtlassianjhubAdmin)\n",
    "### Amazon_owncloud.mkdir('testdir')\n"
   ]
  },
  {
   "cell_type": "code",
   "execution_count": 2,
   "id": "fa7b9db1",
   "metadata": {
    "ExecuteTime": {
     "end_time": "2022-11-01T10:12:25.715961Z",
     "start_time": "2022-11-01T10:12:25.703303Z"
    },
    "scrolled": true
   },
   "outputs": [
    {
     "data": {
      "text/plain": [
       "(           start         end\n",
       " 0     2017-01-01  2017-01-02\n",
       " 1     2017-01-02  2017-01-03\n",
       " 2     2017-01-03  2017-01-04\n",
       " 3     2017-01-04  2017-01-05\n",
       " 4     2017-01-05  2017-01-06\n",
       " ...          ...         ...\n",
       " 2126  2022-10-28  2022-10-29\n",
       " 2127  2022-10-29  2022-10-30\n",
       " 2128  2022-10-30  2022-10-31\n",
       " 2129  2022-10-31  2022-11-01\n",
       " 2130  2022-11-01  2022-11-02\n",
       " \n",
       " [2131 rows x 2 columns],\n",
       "          start         end\n",
       " 0   2017-01-01  2017-01-31\n",
       " 1   2017-02-01  2017-02-28\n",
       " 2   2017-03-01  2017-03-31\n",
       " 3   2017-04-01  2017-04-30\n",
       " 4   2017-05-01  2017-05-31\n",
       " ..         ...         ...\n",
       " 66  2022-07-01  2022-07-31\n",
       " 67  2022-08-01  2022-08-31\n",
       " 68  2022-09-01  2022-09-30\n",
       " 69  2022-10-01  2022-10-31\n",
       " 70  2022-11-01  2022-11-30\n",
       " \n",
       " [71 rows x 2 columns],\n",
       "         start         end\n",
       " 0  2017-01-01  2017-12-31\n",
       " 1  2018-01-01  2018-12-31\n",
       " 2  2019-01-01  2019-12-31\n",
       " 3  2020-01-01  2020-12-31\n",
       " 4  2021-01-01  2021-12-31)"
      ]
     },
     "execution_count": 2,
     "metadata": {},
     "output_type": "execute_result"
    }
   ],
   "source": [
    "df_date_d, df_date_m, df_date_Y"
   ]
  },
  {
   "cell_type": "code",
   "execution_count": 3,
   "id": "53c32571",
   "metadata": {
    "ExecuteTime": {
     "end_time": "2022-11-01T10:12:25.742285Z",
     "start_time": "2022-11-01T10:12:25.738384Z"
    }
   },
   "outputs": [
    {
     "data": {
      "text/plain": [
       "('2017-01-01', '2022-11-02')"
      ]
     },
     "execution_count": 3,
     "metadata": {},
     "output_type": "execute_result"
    }
   ],
   "source": [
    "# days\n",
    "date_df_start, date_df_end"
   ]
  },
  {
   "cell_type": "code",
   "execution_count": 4,
   "id": "e69f274b",
   "metadata": {
    "ExecuteTime": {
     "end_time": "2022-11-01T10:12:25.767348Z",
     "start_time": "2022-11-01T10:12:25.764014Z"
    },
    "code_folding": [
     0
    ]
   },
   "outputs": [],
   "source": [
    "# # ПРОВЕРКА ТОТАЛ\n",
    "# df_fon = pd.DataFrame()\n",
    "# for i in df_date_m.iloc[-2:,:].values:\n",
    "#     df_bitrix_utm = pd.DataFrame()\n",
    "\n",
    "#     # _1cbitrix\n",
    "#     # BEGINDATE Дата создания ЗАКАЗА в АСУП это \"Дата начала\" в Битриксе. \n",
    "#     # DATE_CREATE Дата создания в Битриксе это дата когда сделка была создана в БД Битрикса.\n",
    "#     DATE_frm = f\"{i[0]}T00:00:00+00:00\" \n",
    "#     DATE_til = f\"{i[1]}T00:00:00+00:00\" \n",
    "# #     print(DATE_frm, DATE_til)\n",
    "#     j = 0\n",
    "#     # params = {\"filter[>DATE_CREATE]\": f\"{DATE}\" \n",
    "#     params = {\n",
    "#         \"filter[>=BEGINDATE]\": f\"{DATE_frm}\" \n",
    "#         ,\"filter[<=BEGINDATE]\": f\"{DATE_til}\"\n",
    "#         ,\"filter[!UTM_SOURCE]\": \"false\"\n",
    "#         ,\"filter[!UTM_MEDIUM]\": \"false\"\n",
    "#         ,\"filter[!UTM_CAMPAIGN]\": \"false\"\n",
    "#         ,\"filter[!UTM_CONTENT]\": \"false\"\n",
    "#         ,\"filter[!UTM_TERM]\": \"false\"\n",
    "\n",
    "#         ,\"select[0]\": \"BEGINDATE\"\n",
    "#         ,\"select[1]\": \"ID\"\n",
    "#         ,\"select[2]\": \"UF_CRM_1644313996\"\n",
    "#         ,\"select[3]\": \"UTM_SOURCE\"\n",
    "#         ,\"select[4]\": \"UTM_MEDIUM\"\n",
    "#         ,\"select[5]\": \"UTM_CAMPAIGN\"\n",
    "#         ,\"select[6]\": \"UTM_CONTENT\"\n",
    "#         ,\"select[7]\": \"UTM_TERM\"\n",
    "#         ,\"start\": f\"{j}\"\n",
    "#         }\n",
    "#     print(params)\n",
    "#     response = requests.post(url_param_1cbitrix, data = params)\n",
    "#     # print(response)\n",
    "#     result = response.json()\n",
    "#     total = result['total']\n",
    "#     print(total)\n",
    "#     ########################################################"
   ]
  },
  {
   "cell_type": "code",
   "execution_count": 5,
   "id": "1794a86d",
   "metadata": {
    "ExecuteTime": {
     "end_time": "2022-11-01T10:12:25.792483Z",
     "start_time": "2022-11-01T10:12:25.788973Z"
    },
    "scrolled": true
   },
   "outputs": [
    {
     "name": "stdout",
     "output_type": "stream",
     "text": [
      "2022-10-25 - 2022-10-26\n"
     ]
    }
   ],
   "source": [
    "# months\n",
    "# for i in df_date_m.iloc[ -9 : -8 , : ].values:\n",
    "#     print( f'{i[0]} - {i[1]}' )\n",
    "# days\n",
    "for i in df_date_d.iloc[ -8 : -7 , : ].values:\n",
    "    print( f'{i[0]} - {i[1]}' )\n"
   ]
  },
  {
   "cell_type": "code",
   "execution_count": null,
   "id": "6334106a",
   "metadata": {
    "ExecuteTime": {
     "end_time": "2022-09-14T05:45:09.320160Z",
     "start_time": "2022-09-14T05:45:00.667809Z"
    },
    "scrolled": false
   },
   "outputs": [],
   "source": [
    "## идем по датам, коннектимся, читаем sql file, подставляем даты\n",
    "df_fon = pd.DataFrame()\n",
    "\n",
    "for i in df_date_d.iloc[ -8 : -7 , : ].values:\n",
    "\n",
    "    print( f'{i[0]} - {i[1]}' )\n",
    "\n",
    "    df_bitrix_utm = pd.DataFrame()\n",
    "\n",
    "    # _1cbitrix\n",
    "    print('1c bitrix (batch50)')\n",
    "    # BEGINDATE Дата создания ЗАКАЗА в АСУП это \"Дата начала\" в Битриксе. \n",
    "    # DATE_CREATE Дата создания в Битриксе это дата когда сделка была создана в БД Битрикса.\n",
    "    DATE_frm = f\"{i[0]}T00:00:00\" # +00:00\n",
    "    DATE_til = f\"{i[1]}T00:00:00\" # +00:00\n",
    "#     DATE_frm = f\"2022-09-06T00:00:00+00:00\" \n",
    "#     DATE_til = f\"2022-09-07T00:00:00+00:00\" \n",
    "#     print(DATE_frm, DATE_til)\n",
    "    j = 0\n",
    "    # params = {\"filter[>DATE_CREATE]\": f\"{DATE}\" \n",
    "    params = {\n",
    "        \"filter[>=BEGINDATE]\": f\"{DATE_frm}\" \n",
    "        ,\"filter[<=BEGINDATE]\": f\"{DATE_til}\"\n",
    "        ,\"filter[!UTM_SOURCE]\": \"false\"\n",
    "        ,\"filter[!UTM_MEDIUM]\": \"false\"\n",
    "        ,\"filter[!UTM_CAMPAIGN]\": \"false\"\n",
    "        ,\"filter[!UTM_CONTENT]\": \"false\"\n",
    "        ,\"filter[!UTM_TERM]\": \"false\"\n",
    "\n",
    "        ,\"select[0]\": \"BEGINDATE\"\n",
    "        ,\"select[1]\": \"ID\"\n",
    "        ,\"select[2]\": \"UF_CRM_1644313996\"\n",
    "        ,\"select[3]\": \"UTM_SOURCE\"\n",
    "        ,\"select[4]\": \"UTM_MEDIUM\"\n",
    "        ,\"select[5]\": \"UTM_CAMPAIGN\"\n",
    "        ,\"select[6]\": \"UTM_CONTENT\"\n",
    "        ,\"select[7]\": \"UTM_TERM\"\n",
    "        ,\"start\": f\"{j}\"\n",
    "        }\n",
    "    # print(params)\n",
    "    response = requests.post(url_param_1cbitrix, data = params)\n",
    "    print(response)\n",
    "    result = response.json()\n",
    "    total = result['total']\n",
    "    print(total)\n",
    "    \n",
    "    for k in tqdm(range(math.ceil(result['total']  / 50))[:]):\n",
    "#         print(k)\n",
    "        # params = {\"filter[>DATE_CREATE]\": f\"{DATE}\" \n",
    "        params = {\n",
    "                \"filter[>=BEGINDATE]\": f\"{DATE_frm}\" \n",
    "                ,\"filter[<=BEGINDATE]\": f\"{DATE_til}\"\n",
    "                ,\"filter[!UTM_SOURCE]\": \"false\"\n",
    "                ,\"filter[!UTM_MEDIUM]\": \"false\"\n",
    "                ,\"filter[!UTM_CAMPAIGN]\": \"false\"\n",
    "                ,\"filter[!UTM_CONTENT]\": \"false\"\n",
    "                ,\"filter[!UTM_TERM]\": \"false\"\n",
    "                ,\"select[0]\": \"BEGINDATE\"\n",
    "                ,\"select[1]\": \"ID\"\n",
    "                ,\"select[2]\": \"UF_CRM_1644313996\"\n",
    "                ,\"select[3]\": \"UTM_SOURCE\"\n",
    "                ,\"select[4]\": \"UTM_MEDIUM\"\n",
    "                ,\"select[5]\": \"UTM_CAMPAIGN\"\n",
    "                ,\"select[6]\": \"UTM_CONTENT\"\n",
    "                ,\"select[7]\": \"UTM_TERM\"\n",
    "                ,\"start\": f\"{j}\"\n",
    "                }\n",
    "#         print(params)\n",
    "        response = requests.post(url_param_1cbitrix, data = params)\n",
    "        # print(response)\n",
    "        result = response.json()\n",
    "        total = result['total']\n",
    "        df_bitrix_utm = pd.concat([df_bitrix_utm, pd.DataFrame.from_records(result['result'])], ignore_index=True)\n",
    "        j+=50\n",
    "        print(j)\n",
    "    \n",
    "    df_bitrix_utm = df_bitrix_utm.loc[\n",
    "        list(set(df_bitrix_utm[df_bitrix_utm['UTM_SOURCE'].notna()].index.tolist() + df_bitrix_utm[df_bitrix_utm['UTM_MEDIUM'].notna()].index.tolist() + \\\n",
    "        df_bitrix_utm[df_bitrix_utm['UTM_CAMPAIGN'].notna()].index.tolist() + df_bitrix_utm[df_bitrix_utm['UTM_CONTENT'].notna()].index.tolist() + \\\n",
    "        df_bitrix_utm[df_bitrix_utm['UTM_TERM'].notna()].index.tolist() # + df_bitrix_utm[df_bitrix_utm['UF_CRM_1644313996'].notna()].index.tolist() # (и заказов АСУП???)\n",
    "                )), :]\n",
    "    df_bitrix_utm['UF_CRM_1644313996'] = df_bitrix_utm['UF_CRM_1644313996'].astype(np.int64)\n",
    "    \n",
    "    print('_1cbitrix - конец \\n АСУП - начало')\n",
    "\n",
    "    \n",
    "    # АСУП\n",
    "    AmazonS3_file_name = fr'Источники для BI (Заказы с метками с UTM) {i[0]} - {i[1]}' # ({getpass.getuser()})\n",
    "    print(AmazonS3_file_name)\n",
    "    AmazonS3_full_path = AmazonS3_folder_Public + AmazonS3_path_to_file + AmazonS3_file_name\n",
    "    print(AmazonS3_full_path)\n",
    "    print(f'{i[0]} || {i[1]}')\n",
    "#   читаем sql file\n",
    "    with open( path_SQL_fon_labels, \"r\", encoding = \"utf-8\" ) as sql_file_labels:\n",
    "#       коннектимся \n",
    "        with psycopg2.connect(dbname=database, user=user, password=password, host=host) as cnxn:\n",
    "#           подставляем даты\n",
    "            print('подставляем даты, выгружаем')\n",
    "            df_fon = pd.read_sql_query(sql_file_labels.read().replace('DATE_START_replce', f'{i[0]}').replace('DATE_END_replce', f'{i[1]}'), cnxn) \n",
    "            print('✔ .read_sql_query')\n",
    "#     log_info.append( (i, df_fon.shape) )\n",
    "    if df_fon.shape[0] != 0:\n",
    "        df_all = df_fon.merge(df_bitrix_utm, how='left', left_on='ID заказа', right_on='UF_CRM_1644313996')\n",
    "        df_all = df_all[['ID заказа', 'Тендер', 'Автор метки Т', 'Запрос цен', 'Дата запроса цен', 'Коммерческое предложение', 'Активные продажи', 'Проект'\n",
    "                         ,'Сумма оплаты заказа', 'Дата оплаты заказа'\n",
    "                         ,'ID', 'UTM_SOURCE', 'UTM_MEDIUM', 'UTM_CAMPAIGN', 'UTM_CONTENT', 'UTM_TERM']]\n",
    "        df_all.columns = ['ID заказа', 'Тендер', 'Автор метки Т', 'Запрос цен', 'Дата запроса цен', 'Коммерческое предложение', 'Активные продажи', 'Проект'\n",
    "                          ,'Сумма оплаты заказа', 'Дата оплаты заказа'\n",
    "                          ,'ID bitrix', 'UTM_SOURCE', 'UTM_MEDIUM', 'UTM_CAMPAIGN', 'UTM_CONTENT', 'UTM_TERM']\n",
    "        \n",
    "        #   to_excel\n",
    "        df_all.to_excel(temp_tmp + AmazonS3_file_name + '.xlsx',  index=False, encoding='cp-1251') \n",
    "#         df_all.to_excel( '/home/slebedev/jhub-analytics/_ Analytics department/' + AmazonS3_file_name + '.xlsx',  index=False, encoding='cp-1251') \n",
    "        print('✔ .to_excel')\n",
    "    #   to_csv \n",
    "    #     df_all.to_csv(path_OUT_dbDATA + r'Фоновый отчет по выручке (по дате продажи) с возвратами/' \\\n",
    "    #         + fr'Источники для BI (Продажи) { i[0] } { i[1] } .csv', sep='☺',  index=False) # cp-1251 encoding='UTF-8', engine='xlsxwriter'\n",
    "    #   .to_pickle\n",
    "#         df_all.to_pickle(temp_tmp + AmazonS3_file_name + '.pkl', compression='zip') \n",
    "#         print('✔ .to_pickle')\n",
    "\n",
    "        Amazon_owncloud.put_file( # полный путь и куда откуда !!! \n",
    "                    AmazonS3_full_path + '.xlsx', temp_tmp + AmazonS3_file_name + '.xlsx')\n",
    "        print( f'✔ Файл записан в облако\\n {AmazonS3_full_path}.xlsx')  \n",
    "#         Amazon_owncloud.put_file( # полный путь и там и там!!! \n",
    "#                     AmazonS3_full_path + '.pkl', temp_tmp + AmazonS3_file_name + '.pkl') \n",
    "        print( f'✔ Файл записан в облако\\n {AmazonS3_full_path}.pkl') \n",
    "        os.remove(temp_tmp + AmazonS3_file_name + '.xlsx')\n",
    "#         os.remove(temp_tmp + AmazonS3_file_name + '.pkl')\n",
    "        print('✔ os.remove')\n",
    "    #     print(df_all) \n",
    "        print(f\"{datasize.DataSize(sys.getsizeof(df_all)):MiB}\", '(MiB)\\n\\n' )\n",
    "    \n",
    "    else:\n",
    "        print( df_fon, '-- df.shape =', df_fon.shape)\n",
    "\n",
    "    print('АСУП - конец \\n')\n",
    "\n",
    "### TypeError: 'int' object is not subscriptable \n",
    "\n"
   ]
  },
  {
   "cell_type": "code",
   "execution_count": null,
   "id": "4173d5c5",
   "metadata": {
    "ExecuteTime": {
     "end_time": "2022-09-14T05:46:02.754452Z",
     "start_time": "2022-09-14T05:46:02.749773Z"
    }
   },
   "outputs": [],
   "source": [
    "AmazonS3_full_path + '.xlsx'"
   ]
  },
  {
   "cell_type": "code",
   "execution_count": null,
   "id": "d94b8ae1",
   "metadata": {},
   "outputs": [],
   "source": []
  },
  {
   "cell_type": "code",
   "execution_count": null,
   "id": "982b6ce9",
   "metadata": {},
   "outputs": [],
   "source": []
  },
  {
   "cell_type": "code",
   "execution_count": null,
   "id": "9d2b9b03",
   "metadata": {},
   "outputs": [],
   "source": []
  },
  {
   "cell_type": "code",
   "execution_count": null,
   "id": "f08ecf30",
   "metadata": {},
   "outputs": [],
   "source": []
  },
  {
   "cell_type": "code",
   "execution_count": null,
   "id": "fb7ac07c",
   "metadata": {},
   "outputs": [],
   "source": []
  },
  {
   "cell_type": "code",
   "execution_count": null,
   "id": "69469f0d",
   "metadata": {},
   "outputs": [],
   "source": []
  },
  {
   "cell_type": "code",
   "execution_count": null,
   "id": "c1d9ec9c",
   "metadata": {},
   "outputs": [],
   "source": []
  },
  {
   "cell_type": "code",
   "execution_count": null,
   "id": "cb203121",
   "metadata": {},
   "outputs": [],
   "source": []
  },
  {
   "cell_type": "code",
   "execution_count": null,
   "id": "61f12972",
   "metadata": {},
   "outputs": [],
   "source": []
  }
 ],
 "metadata": {
  "hide_input": false,
  "kernelspec": {
   "display_name": "python39-spark-conda",
   "language": "python",
   "name": "python39-spark-conda"
  },
  "language_info": {
   "codemirror_mode": {
    "name": "ipython",
    "version": 3
   },
   "file_extension": ".py",
   "mimetype": "text/x-python",
   "name": "python",
   "nbconvert_exporter": "python",
   "pygments_lexer": "ipython3",
   "version": "3.9.7"
  },
  "toc": {
   "base_numbering": 1,
   "nav_menu": {},
   "number_sections": false,
   "sideBar": true,
   "skip_h1_title": false,
   "title_cell": "Table of Contents",
   "title_sidebar": "Contents",
   "toc_cell": false,
   "toc_position": {
    "height": "calc(100% - 180px)",
    "left": "10px",
    "top": "150px",
    "width": "342px"
   },
   "toc_section_display": true,
   "toc_window_display": true
  },
  "varInspector": {
   "cols": {
    "lenName": 16,
    "lenType": 16,
    "lenVar": 40
   },
   "kernels_config": {
    "python": {
     "delete_cmd_postfix": "",
     "delete_cmd_prefix": "del ",
     "library": "var_list.py",
     "varRefreshCmd": "print(var_dic_list())"
    },
    "r": {
     "delete_cmd_postfix": ") ",
     "delete_cmd_prefix": "rm(",
     "library": "var_list.r",
     "varRefreshCmd": "cat(var_dic_list()) "
    }
   },
   "types_to_exclude": [
    "module",
    "function",
    "builtin_function_or_method",
    "instance",
    "_Feature"
   ],
   "window_display": false
  }
 },
 "nbformat": 4,
 "nbformat_minor": 5
}
