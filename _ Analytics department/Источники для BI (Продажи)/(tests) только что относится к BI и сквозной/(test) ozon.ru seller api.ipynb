{
 "cells": [
  {
   "cell_type": "markdown",
   "id": "9842207a",
   "metadata": {
    "ExecuteTime": {
     "end_time": "2022-12-21T12:30:42.036326Z",
     "start_time": "2022-12-21T12:30:42.033722Z"
    }
   },
   "source": [
    "# ***"
   ]
  },
  {
   "cell_type": "markdown",
   "id": "c1726849",
   "metadata": {
    "ExecuteTime": {
     "end_time": "2023-03-22T10:14:25.616431Z",
     "start_time": "2023-03-22T10:14:25.613525Z"
    }
   },
   "source": [
    "# https://jira.e2e4.ru/browse/BA-440"
   ]
  },
  {
   "cell_type": "code",
   "execution_count": null,
   "id": "fdb62acd",
   "metadata": {
    "ExecuteTime": {
     "end_time": "2023-03-28T13:52:09.496041Z",
     "start_time": "2023-03-28T13:52:09.492370Z"
    }
   },
   "outputs": [],
   "source": [
    "# все тут должен вывести\n",
    "# https://api-seller.ozon.ru/v2/product/list\n",
    "\n",
    "# потом циклично тут их наш ску ид\n",
    "# https://api-seller.ozon.ru/v2/product/info/list\n",
    "\n",
    "# потом мордить по их ску с этим\n",
    "# https://api-seller.ozon.ru/v3/finance/transaction/list"
   ]
  },
  {
   "cell_type": "markdown",
   "id": "415c5a0f",
   "metadata": {
    "ExecuteTime": {
     "end_time": "2022-12-14T07:18:39.465522Z",
     "start_time": "2022-12-14T07:18:39.462479Z"
    }
   },
   "source": [
    "# (test) ozon.ru seller api"
   ]
  },
  {
   "cell_type": "code",
   "execution_count": null,
   "id": "8185b3ca",
   "metadata": {
    "ExecuteTime": {
     "end_time": "2023-04-06T08:27:40.813302Z",
     "start_time": "2023-04-06T08:27:36.604138Z"
    }
   },
   "outputs": [],
   "source": [
    "# magic    \n",
    "get_ipython().run_line_magic('matplotlib', 'inline')\n",
    "# run files\n",
    "get_ipython().run_line_magic('run', '/srv/jhub/share/._Additions/import_libs.py')\n",
    "get_ipython().run_line_magic('run', '/srv/jhub/share/._Additions/Connecting_.py')\n",
    "get_ipython().run_line_magic('run', '/srv/jhub/share/._Additions/my_script.py')\n",
    "get_ipython().run_line_magic('run', '/srv/jhub/share/._Additions/Date_gen.py')\n",
    "get_ipython().run_line_magic('run', '/srv/jhub/share/._Additions/xx.py')\n",
    "\n",
    "# print\n",
    "###########################\n",
    "# print(\n",
    "# df_test_xx.shape, '\\n'\n",
    "# ,abs_path, '\\n' # abs_path - путь до шары (видна всем езерам - '/srv/jhub/share/')\n",
    "# ,path_OUT_dbDATA, '\\n'\n",
    "# ,date_start, date_end, '\\n'\n",
    "# )\n",
    "############################## End ##############################\n"
   ]
  },
  {
   "cell_type": "markdown",
   "id": "b0fe8fac",
   "metadata": {
    "ExecuteTime": {
     "end_time": "2022-12-14T09:30:42.062952Z",
     "start_time": "2022-12-14T09:30:42.060244Z"
    }
   },
   "source": [
    "# Client Id"
   ]
  },
  {
   "cell_type": "code",
   "execution_count": null,
   "id": "78344439",
   "metadata": {
    "ExecuteTime": {
     "end_time": "2023-03-28T13:52:12.615891Z",
     "start_time": "2023-03-28T13:52:12.613481Z"
    }
   },
   "outputs": [],
   "source": [
    "# Client Id:\n",
    "# 74383\n",
    "# Api-Key:\n",
    "# 475be825-81ea-4e71-b394-fd2a7a17ed80"
   ]
  },
  {
   "cell_type": "code",
   "execution_count": null,
   "id": "ecfafd34",
   "metadata": {
    "ExecuteTime": {
     "end_time": "2023-03-28T13:52:12.621183Z",
     "start_time": "2023-03-28T13:52:12.617332Z"
    }
   },
   "outputs": [],
   "source": [
    "# POST /v1/analytics/data HTTP/1.1\n",
    "# Host: api-seller.ozon.ru \n",
    "# Client-Id: 74383\n",
    "# Api-Key: 475be825-81ea-4e71-b394-fd2a7a17ed80\n",
    "# Content-Type: application/json"
   ]
  },
  {
   "cell_type": "markdown",
   "id": "37380c15",
   "metadata": {
    "ExecuteTime": {
     "end_time": "2022-12-14T09:31:15.364193Z",
     "start_time": "2022-12-14T09:31:15.360541Z"
    }
   },
   "source": [
    "#  пример /v1/product/info/description https://github.com/magik2art/ozon/blob/main/main.py"
   ]
  },
  {
   "cell_type": "code",
   "execution_count": null,
   "id": "4ae899df",
   "metadata": {
    "ExecuteTime": {
     "end_time": "2023-03-28T13:52:12.626337Z",
     "start_time": "2023-03-28T13:52:12.623358Z"
    }
   },
   "outputs": [],
   "source": [
    "# import requests\n",
    "# import json\n",
    "\n",
    "# url = \"https://cb-api.ozonru.me\" # Cсылку нужно поменять на боевую среду\n",
    "# method = \"/v1/product/info/description\" # Сюда вбиваем нужный метод\n",
    "# print(url + method)\n",
    "# head = {\n",
    "#   \"Client-Id\": \"836\", # сюда клиент id\n",
    "#   \"Api-Key\": \"0296d4f2-70a1-4c09-b507-904fd05567b9\" # Сюда Api-Key\n",
    "# }\n",
    "\n",
    "# # Сюда пишем параметры запроса\n",
    "# body = {\n",
    "#   \"offer_id\": \"1\",\n",
    "#   \"product_id\": \"0\"\n",
    "# }\n",
    "# body = json.dumps(body) # Нужно передавать в озон именно так, потому что string он как json не понимает\n",
    "# response = requests.post(url + method, headers=head, data=body)\n",
    "\n",
    "# print(response.text) # ответ сервера Озон\n"
   ]
  },
  {
   "cell_type": "markdown",
   "id": "a15d921e",
   "metadata": {
    "ExecuteTime": {
     "end_time": "2022-12-14T09:31:35.957880Z",
     "start_time": "2022-12-14T09:31:35.954143Z"
    }
   },
   "source": [
    "# склады /v1/warehouse/list"
   ]
  },
  {
   "cell_type": "code",
   "execution_count": null,
   "id": "91d942d5",
   "metadata": {
    "ExecuteTime": {
     "end_time": "2023-03-28T13:52:12.927150Z",
     "start_time": "2023-03-28T13:52:12.627872Z"
    }
   },
   "outputs": [],
   "source": [
    "\n",
    "\n",
    "url = \"https://api-seller.ozon.ru\" # Cсылку нужно поменять на боевую среду\n",
    "method = \"/v1/warehouse/list\" # Сюда вбиваем нужный метод\n",
    "print(url + method)\n",
    "head = {\n",
    "  \"Client-Id\": \"74383\", # сюда клиент id\n",
    "  \"Api-Key\": \"475be825-81ea-4e71-b394-fd2a7a17ed80\" # Сюда Api-Key\n",
    "}\n",
    "\n",
    "# Сюда пишем параметры запроса\n",
    "# body = {\n",
    "#   \"offer_id\": \"1\",\n",
    "#   \"product_id\": \"0\"\n",
    "# }\n",
    "\n",
    "# body = json.dumps(body) # Нужно передавать в озон именно так, потому что string он как json не понимает\n",
    "response = requests.post(url + method, headers=head)\n",
    "\n",
    "\n",
    "print(response.text) # ответ сервера Озон\n"
   ]
  },
  {
   "cell_type": "code",
   "execution_count": null,
   "id": "6acc3302",
   "metadata": {},
   "outputs": [],
   "source": []
  },
  {
   "cell_type": "code",
   "execution_count": null,
   "id": "b2ac2a84",
   "metadata": {},
   "outputs": [],
   "source": []
  },
  {
   "cell_type": "code",
   "execution_count": null,
   "id": "c8867619",
   "metadata": {},
   "outputs": [],
   "source": []
  },
  {
   "cell_type": "code",
   "execution_count": null,
   "id": "96c6210a",
   "metadata": {
    "ExecuteTime": {
     "end_time": "2023-03-28T13:52:12.931246Z",
     "start_time": "2023-03-28T13:52:12.928685Z"
    }
   },
   "outputs": [],
   "source": [
    "# "
   ]
  },
  {
   "cell_type": "code",
   "execution_count": null,
   "id": "e7aeae54",
   "metadata": {
    "ExecuteTime": {
     "end_time": "2023-03-28T13:52:13.501540Z",
     "start_time": "2023-03-28T13:52:12.932773Z"
    },
    "scrolled": true
   },
   "outputs": [],
   "source": [
    "url = \"\" # Cсылку нужно поменять на боевую среду\n",
    "method = \"https://api-seller.ozon.ru/v1/report/list\" # Список отчётов https://docs.ozon.ru/api/seller/#operation/ReportAPI_ReportList\n",
    "print(url + method)\n",
    "\n",
    "body = {\n",
    "  \"page\": 1,\n",
    "  \"page_size\": 1000,\n",
    "  \"report_type\": \"ALL\"\n",
    "}\n",
    "body = json.dumps(body) # Нужно передавать в озон именно так, потому что string он как json не понимает\n",
    "response = requests.post(url + method, headers=head, data=body)\n",
    "\n",
    "print(response.text) # ответ сервера Озон\n"
   ]
  },
  {
   "cell_type": "code",
   "execution_count": null,
   "id": "5bd25814",
   "metadata": {
    "ExecuteTime": {
     "start_time": "2023-03-28T13:52:08.993Z"
    },
    "scrolled": true
   },
   "outputs": [],
   "source": [
    "# аналитика - отчеты - начисления - Начисления и компенсации по отправлениям\n",
    "# https://seller.ozon.ru/api/site/self-gateway/api/reports/74383/accruals/product/download?from=2022-11-30&to=2022-12-14\n",
    "\n",
    "url = \"\" \n",
    "method = \"\\\n",
    "https://api-seller.ozon.ru/v1/analytics/data\\\n",
    "\"\n",
    "print(url + method)\n",
    "\n",
    "body = {\n",
    "  \"date_from\": \"2020-09-01\",\n",
    "  \"date_to\": \"2021-10-15\",\n",
    "  \"metrics\": [\n",
    "    \"hits_view_search\"\n",
    "  ],\n",
    "  \"dimension\": [\n",
    "    \"sku\",\n",
    "    \"day\"\n",
    "  ],\n",
    "  \"filters\": [],\n",
    "  \"sort\": [\n",
    "    {\n",
    "      \"key\": \"hits_view_search\",\n",
    "      \"order\": \"DESC\"\n",
    "    }\n",
    "  ],\n",
    "  \"limit\": 1000,\n",
    "  \"offset\": 0\n",
    "}\n",
    "\n",
    "body = json.dumps(body) \n",
    "response = requests.post(url + method, headers=head, data=body)\n",
    "\n",
    "print(response.text) "
   ]
  },
  {
   "cell_type": "code",
   "execution_count": null,
   "id": "a5b686fc",
   "metadata": {},
   "outputs": [],
   "source": []
  },
  {
   "cell_type": "markdown",
   "id": "7018a17e",
   "metadata": {
    "ExecuteTime": {
     "end_time": "2022-12-14T11:33:36.839830Z",
     "start_time": "2022-12-14T11:33:36.833142Z"
    }
   },
   "source": [
    "# При запросе любого из отчётов сначала возвращается код на создание документа. Отправьте его в запросе метода /v1/report/info — в ответе вернётся файл отчёта и дополнительная информация.\n",
    "\n"
   ]
  },
  {
   "cell_type": "code",
   "execution_count": null,
   "id": "66af7120",
   "metadata": {
    "ExecuteTime": {
     "start_time": "2023-03-28T13:52:09.013Z"
    }
   },
   "outputs": [],
   "source": [
    "url = \"\" # Cсылку нужно поменять на боевую среду\n",
    "method = \"\\\n",
    "https://api-seller.ozon.ru/v1/report/finance/create\\\n",
    "\"\n",
    "# print(url + method)\n",
    "\n",
    "body = {\n",
    "  \"date_from\": \"2022-11-06\",\n",
    "  \"date_to\": \"2022-11-06\",\n",
    "  \"language\": \"DEFAULT\"\n",
    "}\n",
    "\n",
    "body = json.dumps(body) # Нужно передавать в озон именно так, потому что string он как json не понимает\n",
    "response = requests.post(url + method, headers=head, data=body)\n",
    "\n",
    "print(response.text) # ответ сервера Озон"
   ]
  },
  {
   "cell_type": "code",
   "execution_count": null,
   "id": "4bfae8e2",
   "metadata": {
    "ExecuteTime": {
     "start_time": "2023-03-28T13:52:09.014Z"
    }
   },
   "outputs": [],
   "source": [
    "url = \"\" # Cсылку нужно поменять на боевую среду\n",
    "method = \"\\\n",
    "https://api-seller.ozon.ru/v1/report/info\\\n",
    "\"\n",
    "# print(url + method)\n",
    "\n",
    "body = {\n",
    "  \"code\": \"b4b8a452-61bc-4b33-8f24-262a74191d96\"\n",
    "}\n",
    "\n",
    "body = json.dumps(body) # Нужно передавать в озон именно так, потому что string он как json не понимает\n",
    "response = requests.post(url + method, headers=head, data=body)\n",
    "\n",
    "print(response.text) # ответ сервера Озон"
   ]
  },
  {
   "cell_type": "markdown",
   "id": "6602cb53",
   "metadata": {
    "ExecuteTime": {
     "end_time": "2022-12-19T04:59:00.747506Z",
     "start_time": "2022-12-19T04:59:00.744707Z"
    }
   },
   "source": [
    "# Схема FBO"
   ]
  },
  {
   "cell_type": "code",
   "execution_count": null,
   "id": "ce4bf5e1",
   "metadata": {
    "ExecuteTime": {
     "start_time": "2023-03-28T13:52:09.028Z"
    }
   },
   "outputs": [],
   "source": [
    "url = \"\" # Cсылку нужно поменять на боевую среду\n",
    "method = \"\\\n",
    "https://api-seller.ozon.ru/v2/posting/fbo/list\\\n",
    "\"\n",
    "# print(url + method)\n",
    "\n",
    "body = {\n",
    "  \"dir\": \"ASC\",\n",
    "  \"filter\": {\n",
    "    \"since\": \"2021-09-01T00:00:00.000Z\",\n",
    "    \"status\": \"\",\n",
    "    \"to\": \"2021-11-17T10:44:12.828Z\"\n",
    "  },\n",
    "  \"limit\": 5,\n",
    "  \"offset\": 0,\n",
    "#   \"translit\": true,\n",
    "#   \"with\": {\n",
    "#     \"analytics_data\": true,\n",
    "#     \"financial_data\": true\n",
    "#   }\n",
    "}\n",
    "\n",
    "body = json.dumps(body) # Нужно передавать в озон именно так, потому что string он как json не понимает\n",
    "response = requests.post(url + method, headers=head, data=body)\n",
    "\n",
    "print(response.text) # ответ сервера Озон"
   ]
  },
  {
   "cell_type": "markdown",
   "id": "0ff6c22c",
   "metadata": {
    "ExecuteTime": {
     "end_time": "2022-12-19T05:01:09.811921Z",
     "start_time": "2022-12-19T05:01:09.809246Z"
    }
   },
   "source": [
    "# Информация об отправлении"
   ]
  },
  {
   "cell_type": "code",
   "execution_count": null,
   "id": "6d55a629",
   "metadata": {
    "ExecuteTime": {
     "start_time": "2023-03-28T13:52:09.045Z"
    }
   },
   "outputs": [],
   "source": [
    "url = \"\" # Cсылку нужно поменять на боевую среду\n",
    "method = \"\\\n",
    "https://api-seller.ozon.ru/v2/posting/fbo/get\\\n",
    "\"\n",
    "# print(url + method)\n",
    "\n",
    "body = {\n",
    "  \"posting_number\": \"50520644-0012-7\",\n",
    "#   \"translit\": true,\n",
    "#   \"with\": {\n",
    "#     \"analytics_data\": true,\n",
    "#     \"financial_data\": true\n",
    "#   }\n",
    "}\n",
    "\n",
    "body = json.dumps(body) # Нужно передавать в озон именно так, потому что string он как json не понимает\n",
    "response = requests.post(url + method, headers=head, data=body)\n",
    "\n",
    "print(response.text) # ответ сервера Озон"
   ]
  },
  {
   "cell_type": "markdown",
   "id": "a721ab15",
   "metadata": {
    "ExecuteTime": {
     "end_time": "2022-12-19T05:03:18.668561Z",
     "start_time": "2022-12-19T05:03:18.666190Z"
    }
   },
   "source": [
    "# Валидация кодов маркировки"
   ]
  },
  {
   "cell_type": "code",
   "execution_count": null,
   "id": "3a69ef73",
   "metadata": {
    "ExecuteTime": {
     "start_time": "2023-03-28T13:52:09.061Z"
    }
   },
   "outputs": [],
   "source": [
    "url = \"\" # Cсылку нужно поменять на боевую среду\n",
    "method = \"\\\n",
    "https://api-seller.ozon.ru/v4/fbs/posting/product/exemplar/validate\\\n",
    "\"\n",
    "# print(url + method)\n",
    "\n",
    "body = {\n",
    "  \"posting_number\": \"23281294-0063-2\",\n",
    "  \"products\": [\n",
    "    {\n",
    "      \"exemplars\": [\n",
    "        {\n",
    "          \"gtd\": \"\",\n",
    "          \"mandatory_mark\": \"010290000151642731tVMohkbfFgunB\"\n",
    "        }\n",
    "      ],\n",
    "      \"product_id\": 476925391\n",
    "    }\n",
    "  ]\n",
    "}\n",
    "\n",
    "body = json.dumps(body) # Нужно передавать в озон именно так, потому что string он как json не понимает\n",
    "response = requests.post(url + method, headers=head, data=body)\n",
    "\n",
    "print(response.text) # ответ сервера Озон"
   ]
  },
  {
   "cell_type": "markdown",
   "id": "97d442ed",
   "metadata": {
    "ExecuteTime": {
     "end_time": "2022-12-19T05:04:03.045203Z",
     "start_time": "2022-12-19T05:04:03.042594Z"
    }
   },
   "source": [
    "# Проверить и сохранить данные экземпляров"
   ]
  },
  {
   "cell_type": "code",
   "execution_count": null,
   "id": "2f859fa3",
   "metadata": {
    "ExecuteTime": {
     "start_time": "2023-03-28T13:52:09.076Z"
    }
   },
   "outputs": [],
   "source": [
    "url = \"\" # Cсылку нужно поменять на боевую среду\n",
    "method = \"\\\n",
    "https://api-seller.ozon.ru/v4/fbs/posting/product/exemplar/status\\\n",
    "\"\n",
    "# print(url + method)\n",
    "\n",
    "body = {\n",
    "  \"posting_number\": \"23281294-0063-2\"\n",
    "}\n",
    "\n",
    "body = json.dumps(body) # Нужно передавать в озон именно так, потому что string он как json не понимает\n",
    "response = requests.post(url + method, headers=head, data=body)\n",
    "\n",
    "print(response.text) # ответ сервера Озон"
   ]
  },
  {
   "cell_type": "markdown",
   "id": "4abfdb0c",
   "metadata": {
    "ExecuteTime": {
     "end_time": "2022-12-19T05:06:25.234333Z",
     "start_time": "2022-12-19T05:06:25.232245Z"
    }
   },
   "source": [
    "# Список необработанных отправлений (версия 3)"
   ]
  },
  {
   "cell_type": "code",
   "execution_count": null,
   "id": "5e3982d9",
   "metadata": {
    "ExecuteTime": {
     "start_time": "2023-03-28T13:52:09.093Z"
    }
   },
   "outputs": [],
   "source": [
    "url = \"\" # Cсылку нужно поменять на боевую среду\n",
    "method = \"\\\n",
    "https://api-seller.ozon.ru/v3/posting/fbs/unfulfilled/list\\\n",
    "\"\n",
    "# print(url + method)\n",
    "\n",
    "body = {\n",
    "  \"dir\": \"ASC\",\n",
    "  \"filter\": {\n",
    "    \"cutoff_from\": \"2021-08-24T14:15:22Z\",\n",
    "    \"cutoff_to\": \"2021-08-31T14:15:22Z\",\n",
    "    \"delivery_method_id\": [],\n",
    "    \"provider_id\": [],\n",
    "    \"status\": \"awaiting_packaging\",\n",
    "    \"warehouse_id\": []\n",
    "  },\n",
    "  \"limit\": 100,\n",
    "  \"offset\": 0,\n",
    "#   \"with\": {\n",
    "#     \"analytics_data\": true,\n",
    "#     \"barcodes\": true,\n",
    "#     \"financial_data\": true,\n",
    "#     \"translit\": true\n",
    "#   }\n",
    "}\n",
    "\n",
    "body = json.dumps(body) # Нужно передавать в озон именно так, потому что string он как json не понимает\n",
    "response = requests.post(url + method, headers=head, data=body)\n",
    "\n",
    "print(response.text) # ответ сервера Озон"
   ]
  },
  {
   "cell_type": "markdown",
   "id": "9e740e5e",
   "metadata": {
    "ExecuteTime": {
     "end_time": "2022-12-19T05:07:48.023351Z",
     "start_time": "2022-12-19T05:07:48.021153Z"
    }
   },
   "source": [
    "# Финансовый отчёт"
   ]
  },
  {
   "cell_type": "code",
   "execution_count": null,
   "id": "a6b3c715",
   "metadata": {
    "ExecuteTime": {
     "start_time": "2023-03-28T13:52:09.109Z"
    }
   },
   "outputs": [],
   "source": [
    "url = \"\" # Cсылку нужно поменять на боевую среду\n",
    "method = \"\\\n",
    "https://api-seller.ozon.ru/v1/finance/cash-flow-statement/list\\\n",
    "\"\n",
    "# print(url + method)\n",
    "\n",
    "body = {\n",
    "  \"date\": {\n",
    "    \"from\": \"2022-01-01T00:00:00.000Z\",\n",
    "    \"to\": \"2022-12-31T00:00:00.000Z\"\n",
    "  },\n",
    "  \"page\": 1,\n",
    "  \"page_size\": 2\n",
    "}\n",
    "\n",
    "body = json.dumps(body) # Нужно передавать в озон именно так, потому что string он как json не понимает\n",
    "response = requests.post(url + method, headers=head, data=body)\n",
    "\n",
    "print(response.text) # ответ сервера Озон"
   ]
  },
  {
   "cell_type": "markdown",
   "id": "64510987",
   "metadata": {
    "ExecuteTime": {
     "end_time": "2022-12-19T09:48:21.397000Z",
     "start_time": "2022-12-19T09:48:21.394036Z"
    }
   },
   "source": [
    "# Аналитические отчёты"
   ]
  },
  {
   "cell_type": "code",
   "execution_count": null,
   "id": "c061266b",
   "metadata": {
    "ExecuteTime": {
     "start_time": "2023-03-28T13:52:09.125Z"
    },
    "scrolled": true
   },
   "outputs": [],
   "source": [
    "url = \"\" # Cсылку нужно поменять на боевую среду\n",
    "method = \"\\\n",
    "https://api-seller.ozon.ru/v1/analytics/data\\\n",
    "\"\n",
    "# print(url + method)\n",
    "\n",
    "body = {\n",
    "  \"date_from\": \"2020-09-01\",\n",
    "  \"date_to\": \"2021-10-15\",\n",
    "  \"metrics\": [\n",
    "    \"returns\"\n",
    "  ],\n",
    "  \"dimension\": [\n",
    "    \"sku\",\n",
    "#     \"day\"\n",
    "  ],\n",
    "#   \"filters\": [],\n",
    "#   \"sort\": [\n",
    "#     {\n",
    "#       \"key\": \"revenue\",\n",
    "#       \"order\": \"DESC\"\n",
    "#     }\n",
    "#   ],\n",
    "  \"limit\": 1000,\n",
    "  \"offset\": 0\n",
    "}\n",
    "\n",
    "body = json.dumps(body) # Нужно передавать в озон именно так, потому что string он как json не понимает\n",
    "response = requests.post(url + method, headers=head, data=body)\n",
    "\n",
    "print(response.text) # ответ сервера Озон"
   ]
  },
  {
   "cell_type": "markdown",
   "id": "78c6ceba",
   "metadata": {
    "ExecuteTime": {
     "end_time": "2022-12-19T10:27:17.186046Z",
     "start_time": "2022-12-19T10:27:17.182435Z"
    }
   },
   "source": [
    "# Отчёт о реализации товаров"
   ]
  },
  {
   "cell_type": "code",
   "execution_count": null,
   "id": "71df2592",
   "metadata": {
    "ExecuteTime": {
     "start_time": "2023-03-28T13:52:09.143Z"
    }
   },
   "outputs": [],
   "source": [
    "url = \"\" # Cсылку нужно поменять на боевую среду\n",
    "method = \"\\\n",
    "https://api-seller.ozon.ru/v1/finance/realization\\\n",
    "\"\n",
    "# print(url + method)\n",
    "\n",
    "body = {\n",
    "  \"date\": \"2022-09\"\n",
    "}\n",
    "\n",
    "body = json.dumps(body) # Нужно передавать в озон именно так, потому что string он как json не понимает\n",
    "response = requests.post(url + method, headers=head, data=body)\n",
    "\n",
    "print(response.text) # ответ сервера Озон"
   ]
  },
  {
   "cell_type": "code",
   "execution_count": null,
   "id": "3ad7830d",
   "metadata": {
    "ExecuteTime": {
     "start_time": "2023-03-28T13:52:09.144Z"
    }
   },
   "outputs": [],
   "source": [
    "type(response.text)"
   ]
  },
  {
   "cell_type": "code",
   "execution_count": null,
   "id": "ca0b9d50",
   "metadata": {
    "ExecuteTime": {
     "start_time": "2023-03-28T13:52:09.145Z"
    }
   },
   "outputs": [],
   "source": [
    "type( json.loads( response.text ) )"
   ]
  },
  {
   "cell_type": "code",
   "execution_count": null,
   "id": "31e48280",
   "metadata": {
    "ExecuteTime": {
     "start_time": "2023-03-28T13:52:09.145Z"
    },
    "scrolled": true
   },
   "outputs": [],
   "source": [
    "# type( json.loads( response.text )['result'] )\n",
    "# json.loads( response.text )['result'] ['rows']\n",
    "pd.DataFrame.from_dict( json.loads( response.text )['result'] ['rows']\n",
    "    , orient='columns')"
   ]
  },
  {
   "cell_type": "code",
   "execution_count": null,
   "id": "bda2925a",
   "metadata": {
    "ExecuteTime": {
     "start_time": "2023-03-28T13:52:09.146Z"
    },
    "scrolled": false
   },
   "outputs": [],
   "source": [
    "# json.loads( response.text )['result'] ['header']\n",
    "pd.DataFrame([json.loads( response.text )['result'] ['header']]).T.reset_index()"
   ]
  },
  {
   "cell_type": "markdown",
   "id": "6459b198",
   "metadata": {
    "ExecuteTime": {
     "end_time": "2022-12-19T11:08:57.906363Z",
     "start_time": "2022-12-19T11:08:57.901701Z"
    }
   },
   "source": [
    "## в ексель Отчёт о реализации товаров"
   ]
  },
  {
   "cell_type": "code",
   "execution_count": null,
   "id": "3a588068",
   "metadata": {
    "ExecuteTime": {
     "start_time": "2023-03-28T13:52:09.165Z"
    }
   },
   "outputs": [],
   "source": [
    "AmazonS3_folder_Public = r'/Public/Отчеты (выгрузка jupyter notebooks)'\n",
    "AmazonS3_path_to_file = r'/Отчёт о реализации товаров/'\n",
    "AmazonS3_file_name = fr'Отчёт о реализации товаров ({getpass.getuser()}) {time.strftime(\"%H:%M:%S\", time.localtime())}.xlsx'\n",
    "AmazonS3_full_path = AmazonS3_folder_Public + AmazonS3_path_to_file + AmazonS3_file_name\n",
    "#     print('AmazonS3_file_name, AmazonS3_full_path', AmazonS3_file_name, AmazonS3_full_path)\n",
    "Amazon_owncloud = owncloud.Client('https://nextcloud.e2e4.ru')\n",
    "Amazon_owncloud.login(loginAtlassianjhubAdmin, passwordAtlassianjhubAdmin)\n",
    "\n",
    "\n",
    "\n",
    "# print('Выгрузка завершена! \\nИдет запись в файл/облако')\n",
    "sheet_name1 = 'Отчёт о реализации товаров'\n",
    "sheet_name2 = 'info'\n",
    "\n",
    "excel_sheets = {\n",
    "    f'1 - {sheet_name1}' : pd.DataFrame.from_dict( json.loads( response.text )['result']['rows'], orient='columns')\n",
    "    ,f'2 - {sheet_name2}' : pd.DataFrame([json.loads( response.text )['result']['header']]).T.reset_index()\n",
    "    }\n",
    "\n",
    "excel_writer = pd.ExcelWriter( temp_tmp + AmazonS3_file_name, engine='xlsxwriter' )\n",
    "for sheet_name in excel_sheets.keys():\n",
    "    excel_sheets[sheet_name].iloc[:1048576,:].to_excel(excel_writer, sheet_name=sheet_name, index=False)\n",
    "excel_writer.save()\n",
    "# полный путь и там и там!!! \n",
    "Amazon_owncloud.put_file( \n",
    "                AmazonS3_full_path, temp_tmp + AmazonS3_file_name \n",
    "                )  \n",
    "\n",
    "os.remove(temp_tmp + AmazonS3_file_name)"
   ]
  },
  {
   "cell_type": "code",
   "execution_count": null,
   "id": "d0781350",
   "metadata": {
    "ExecuteTime": {
     "start_time": "2023-03-28T13:52:09.166Z"
    }
   },
   "outputs": [],
   "source": [
    "temp_tmp"
   ]
  },
  {
   "cell_type": "markdown",
   "id": "f1fd5fe5",
   "metadata": {
    "ExecuteTime": {
     "end_time": "2022-12-21T12:24:43.989065Z",
     "start_time": "2022-12-21T12:24:43.984290Z"
    }
   },
   "source": [
    "# Список транзакций (версия 3)"
   ]
  },
  {
   "cell_type": "code",
   "execution_count": null,
   "id": "f1795cdd",
   "metadata": {
    "ExecuteTime": {
     "end_time": "2023-03-29T07:34:13.840662Z",
     "start_time": "2023-03-29T07:34:13.679968Z"
    },
    "scrolled": false
   },
   "outputs": [],
   "source": [
    "url = \"\" # Cсылку нужно поменять на боевую среду\n",
    "method = \"\\\n",
    "https://api-seller.ozon.ru/v3/finance/transaction/list\\\n",
    "\"\n",
    "# print(url + method)\n",
    "\n",
    "body = {\n",
    "  \"filter\": {\n",
    "    \"date\": {\n",
    "      \"from\": \"2022-09-01T00:00:00.000Z\",\n",
    "      \"to\": \"2022-09-02T00:00:00.000Z\"\n",
    "    },\n",
    "    \"transaction_type\": \"all\"\n",
    "  },\n",
    "  \"page\": 1,\n",
    "  \"page_size\": 1000\n",
    "}\n",
    "\n",
    "body = json.dumps(body) # Нужно передавать в озон именно так, потому что string он как json не понимает\n",
    "response = requests.post(url + method, headers=head, data=body)\n",
    "# print(response.text)\n",
    "jsonreport = json.loads( response.text )\n",
    "jsonreport"
   ]
  },
  {
   "cell_type": "code",
   "execution_count": null,
   "id": "488c1d24",
   "metadata": {
    "ExecuteTime": {
     "start_time": "2023-03-28T13:52:09.187Z"
    }
   },
   "outputs": [],
   "source": [
    "type( jsonreport['result']['operations'] )"
   ]
  },
  {
   "cell_type": "code",
   "execution_count": null,
   "id": "40574c44",
   "metadata": {
    "ExecuteTime": {
     "start_time": "2023-03-28T13:52:09.188Z"
    }
   },
   "outputs": [],
   "source": [
    "len( jsonreport['result']['operations'] )"
   ]
  },
  {
   "cell_type": "code",
   "execution_count": null,
   "id": "dc48064b",
   "metadata": {
    "ExecuteTime": {
     "start_time": "2023-03-28T13:52:09.189Z"
    },
    "scrolled": false
   },
   "outputs": [],
   "source": [
    "# json['result']['operations']\n",
    "\n",
    "pd.DataFrame( jsonreport['result']['operations'] )"
   ]
  },
  {
   "cell_type": "code",
   "execution_count": null,
   "id": "a6378e09",
   "metadata": {
    "ExecuteTime": {
     "start_time": "2023-03-28T13:52:09.190Z"
    }
   },
   "outputs": [],
   "source": [
    "AmazonS3_folder_Public = r'/Public/Отчеты (выгрузка jupyter notebooks)'\n",
    "AmazonS3_path_to_file = r'/ozon.ru seller api/'\n",
    "AmazonS3_file_name = fr'Список транзакций (версия 3) posting_number - номер отправления ({getpass.getuser()}) {time.strftime(\"%H:%M:%S\", time.localtime())}.xlsx'\n",
    "AmazonS3_full_path = AmazonS3_folder_Public + AmazonS3_path_to_file + AmazonS3_file_name\n",
    "#     print('AmazonS3_file_name, AmazonS3_full_path', AmazonS3_file_name, AmazonS3_full_path)\n",
    "Amazon_owncloud = owncloud.Client('https://nextcloud.e2e4.ru')\n",
    "Amazon_owncloud.login(loginAtlassianjhubAdmin, passwordAtlassianjhubAdmin)\n",
    "\n",
    "\n",
    "\n",
    "# print('Выгрузка завершена! \\nИдет запись в файл/облако')\n",
    "sheet_name1 = 'Список транзакций'\n",
    "# sheet_name2 = 'info'\n",
    "\n",
    "excel_sheets = {\n",
    "    f'1 - {sheet_name1}' : pd.DataFrame( jsonreport['result']['operations'] )\n",
    "#     ,f'2 - {sheet_name2}' : pd.DataFrame([json.loads( response.text )['result']['header']]).T.reset_index()\n",
    "    }\n",
    "\n",
    "excel_writer = pd.ExcelWriter( temp_tmp + AmazonS3_file_name, engine='xlsxwriter' )\n",
    "for sheet_name in excel_sheets.keys():\n",
    "    excel_sheets[sheet_name].iloc[:1048576,:].to_excel(excel_writer, sheet_name=sheet_name, index=False)\n",
    "excel_writer.save()\n",
    "# полный путь и там и там!!! \n",
    "Amazon_owncloud.put_file( \n",
    "                AmazonS3_full_path, temp_tmp + AmazonS3_file_name \n",
    "                )  \n",
    "\n",
    "os.remove(temp_tmp + AmazonS3_file_name)\n",
    "print('ГОТОВО!')\n",
    "AmazonS3_full_path"
   ]
  },
  {
   "cell_type": "markdown",
   "id": "8b4b77b8",
   "metadata": {
    "ExecuteTime": {
     "end_time": "2023-03-27T09:32:00.265807Z",
     "start_time": "2023-03-27T09:32:00.262043Z"
    }
   },
   "source": [
    "# Информация о товарах https://api-seller.ozon.ru/v2/product/info"
   ]
  },
  {
   "cell_type": "code",
   "execution_count": null,
   "id": "dfa2a978",
   "metadata": {
    "ExecuteTime": {
     "start_time": "2023-03-28T13:52:09.211Z"
    }
   },
   "outputs": [],
   "source": [
    "url = \"\" # Cсылку нужно поменять на боевую среду\n",
    "method = \"\"\"https://api-seller.ozon.ru/v2/product/info\"\"\"\n",
    "# print(url + method)\n",
    "\n",
    "body = {\n",
    "  \"offer_id\": \"\",\n",
    "  \"product_id\": 139046036, \n",
    "  \n",
    "} \n",
    "\n",
    "body = json.dumps(body) # Нужно передавать в озон именно так, потому что string он как json не понимает\n",
    "response = requests.post(url + method, headers=head, data=body)\n",
    "# print(response.text)\n",
    "jsonreport = json.loads( response.text )\n",
    "jsonreport"
   ]
  },
  {
   "cell_type": "code",
   "execution_count": null,
   "id": "8edc827d",
   "metadata": {},
   "outputs": [],
   "source": []
  },
  {
   "cell_type": "markdown",
   "id": "a15ec910",
   "metadata": {
    "ExecuteTime": {
     "end_time": "2023-01-23T09:40:00.074019Z",
     "start_time": "2023-01-23T09:40:00.068244Z"
    }
   },
   "source": [
    "# Список товаров https://api-seller.ozon.ru/v2/product/list"
   ]
  },
  {
   "cell_type": "code",
   "execution_count": null,
   "id": "b40f49ac",
   "metadata": {},
   "outputs": [],
   "source": []
  },
  {
   "cell_type": "code",
   "execution_count": null,
   "id": "e7ef9621",
   "metadata": {},
   "outputs": [],
   "source": []
  },
  {
   "cell_type": "code",
   "execution_count": null,
   "id": "8b56a0c7",
   "metadata": {
    "ExecuteTime": {
     "start_time": "2023-03-28T13:52:09.234Z"
    }
   },
   "outputs": [],
   "source": [
    "# задаем имя файла если жаваскрипт отработал криво а он нифига не пашет (( только если руками запускать а если ран алл то все криво работает ((\n",
    "ipynb_file_name = '''(test) ozon.ru seller api'''\n",
    "# ipynb_file_name"
   ]
  },
  {
   "cell_type": "code",
   "execution_count": null,
   "id": "f549eef1",
   "metadata": {
    "ExecuteTime": {
     "start_time": "2023-03-28T13:52:09.235Z"
    }
   },
   "outputs": [],
   "source": [
    "url = \"https://api-seller.ozon.ru\" # Cсылку нужно поменять на боевую среду\n",
    "method = \"/v1/warehouse/list\" # Сюда вбиваем нужный метод\n",
    "print(url + method)\n",
    "head = {\n",
    "  \"Client-Id\": \"74383\", # сюда клиент id\n",
    "  \"Api-Key\": \"475be825-81ea-4e71-b394-fd2a7a17ed80\" # Сюда Api-Key\n",
    "}\n",
    "\n",
    "# Сюда пишем параметры запроса\n",
    "# body = {\n",
    "#   \"offer_id\": \"1\",\n",
    "#   \"product_id\": \"0\"\n",
    "# }\n",
    "\n",
    "# body = json.dumps(body) # Нужно передавать в озон именно так, потому что string он как json не понимает\n",
    "response = requests.post(url + method, headers=head)\n",
    "\n",
    "\n",
    "print(response.text) # ответ сервера Озон\n"
   ]
  },
  {
   "cell_type": "code",
   "execution_count": null,
   "id": "ad09753d",
   "metadata": {
    "ExecuteTime": {
     "end_time": "2023-04-07T09:54:18.675662Z",
     "start_time": "2023-04-07T09:54:17.375813Z"
    },
    "scrolled": true
   },
   "outputs": [],
   "source": [
    "os_head = {\n",
    "  \"Client-Id\": \"74383\", # клиент id\n",
    "  \"Api-Key\": \"475be825-81ea-4e71-b394-fd2a7a17ed80\" # Api-Key\n",
    "}\n",
    "\n",
    "os_url_method_v2 = \"\"\"https://api-seller.ozon.ru/v2/product/list\"\"\"\n",
    "# print(url + method)\n",
    "\n",
    "body_v2 = {\n",
    "    \"filter\": {\n",
    "        \"offer_id\": [],\n",
    "        \"product_id\": [],\n",
    "        \"visibility\": 'ALL'\n",
    "        }\n",
    "    ,\"last_id\": ''\n",
    "    ,\"limit\": 1000\n",
    "    }\n",
    "\n",
    "response_v2 = requests.post(os_url_method_v2, headers = os_head, data = json.dumps(body_v2) )\n",
    "# print(response.text)\n",
    "json_v2 = json.loads( response_v2.text )\n",
    "\n",
    "json_v2, json_v2['result']['total'], json_v2['result']['last_id'] \n",
    "# os_body_v2"
   ]
  },
  {
   "cell_type": "markdown",
   "id": "0304d45a",
   "metadata": {
    "ExecuteTime": {
     "end_time": "2023-03-27T09:37:08.139321Z",
     "start_time": "2023-03-27T09:37:08.136514Z"
    }
   },
   "source": [
    "# Получить список товаров по идентификаторам https://api-seller.ozon.ru/v2/product/info/list"
   ]
  },
  {
   "cell_type": "code",
   "execution_count": null,
   "id": "d63a14cc",
   "metadata": {
    "ExecuteTime": {
     "start_time": "2023-03-28T13:52:09.286Z"
    }
   },
   "outputs": [],
   "source": [
    "df_all_offer_id.offer_id.unique().tolist() [:1000]"
   ]
  },
  {
   "cell_type": "code",
   "execution_count": null,
   "id": "841b76b8",
   "metadata": {
    "ExecuteTime": {
     "end_time": "2023-04-07T09:58:44.793123Z",
     "start_time": "2023-04-07T09:58:44.789007Z"
    }
   },
   "outputs": [],
   "source": [
    "array_items_sku_v3[:10]"
   ]
  },
  {
   "cell_type": "code",
   "execution_count": null,
   "id": "acdc8dc2",
   "metadata": {
    "ExecuteTime": {
     "end_time": "2023-04-07T10:24:11.138484Z",
     "start_time": "2023-04-07T10:24:10.848133Z"
    },
    "scrolled": false
   },
   "outputs": [],
   "source": [
    "os_head = {\n",
    "  \"Client-Id\": \"74383\", # клиент id\n",
    "  \"Api-Key\": \"475be825-81ea-4e71-b394-fd2a7a17ed80\" # Api-Key\n",
    "}\n",
    "\n",
    "method_product_info_list = \"\"\"https://api-seller.ozon.ru/v2/product/info/list\"\"\"\n",
    "# print(url + method)\n",
    "\n",
    "body_product_info_list = {\n",
    "#     \"offer_id\": '778900' # это в нашей системе  194691296.0\t194691301.0\n",
    "#     ,\"product_id\": []\n",
    "    \"sku\": [194691296] #array_items_sku_v3[:10] #[185029480] # в системе OZON \n",
    "}\n",
    "\n",
    "# body = json.dumps(body_product_info_list) # Нужно передавать в озон именно так, потому что string он как json не понимает\n",
    "response = requests.post(method_product_info_list, headers=os_head, data=json.dumps(body_product_info_list))\n",
    "# print(response.text)\n",
    "jsonreport = json.loads( response.text )\n",
    "jsonreport"
   ]
  },
  {
   "cell_type": "code",
   "execution_count": null,
   "id": "3b9efdc8",
   "metadata": {
    "ExecuteTime": {
     "end_time": "2023-03-28T15:58:37.101366Z",
     "start_time": "2023-03-28T15:58:37.082452Z"
    }
   },
   "outputs": [],
   "source": [
    " pd.DataFrame.from_dict(jsonreport['result']['items'], orient='columns') [['offer_id','fbo_sku','fbs_sku']]"
   ]
  },
  {
   "cell_type": "code",
   "execution_count": null,
   "id": "33b387e8",
   "metadata": {
    "ExecuteTime": {
     "end_time": "2023-04-03T12:28:39.634695Z",
     "start_time": "2023-04-03T12:28:39.616586Z"
    },
    "scrolled": true
   },
   "outputs": [],
   "source": [
    "# %%time\n",
    "\n",
    "# # method\n",
    "# oas_url_method_v2 = \"\"\"https://api-seller.ozon.ru/v2/product/list\"\"\"\n",
    "# # body\n",
    "# oas_body_v2 = {\n",
    "#     \"filter\": {\n",
    "#         \"offer_id\": []\n",
    "#         ,\"product_id\": []\n",
    "#         ,\"visibility\": 'ALL'\n",
    "#         }\n",
    "#     ,\"last_id\": ''\n",
    "#     ,\"limit\": 1000\n",
    "#     }\n",
    "# # method\n",
    "# oas_url_method_info_list = \"\"\"https://api-seller.ozon.ru/v2/product/info/list\"\"\"\n",
    "# # body\n",
    "# oas_url_body_info_list_offer_id = {\n",
    "#     \"offer_id\": '' # df_all_offer_id.offer_id.unique().tolist() [:1000]\n",
    "# #         ['730641', '730636', '730593', '1109338', '1097865', '990662' ]\n",
    "# #     ,\"product_id\": []\n",
    "# #     ,\"sku\": []\n",
    "#     }\n",
    "\n",
    "\n",
    "# oas_url_method_v3 = \"\\\n",
    "# https://api-seller.ozon.ru/v3/finance/transaction/list\\\n",
    "# \"\n",
    "# oas_body_v3 = {'filter': \n",
    "#     {'date': {\n",
    "#         'from': '2023-03-01T00:00:00.000Z'\n",
    "#         ,'to': '2023-03-31T00:00:00.000Z'\n",
    "#         }\n",
    "#     ,'transaction_type': 'all'\n",
    "#     }\n",
    "#     ,'page': 1\n",
    "#     ,'page_size': 1000}\n",
    "\n",
    "# # response = requests.post(oas_url_method_v3, headers=MainVariables().oas_head, data=json.dumps(oas_body_v3))\n",
    "# # # print(response.text)\n",
    "# # jsonreport = json.loads( response.text )\n",
    "# # jsonreport\n",
    "\n",
    "# nest_asyncio.apply()\n",
    "\n",
    "# # class OzonApiSeller\n",
    "# class OzonApiSeller( Prints_, MainVariables ):\n",
    "#     '''Ozon Api Seller methods.\n",
    "#     https://seller.ozon.ru/app/messenger/?chatType=support&id=3b23191b-17ab-475a-9e30-c1d1765e028f&group=support\n",
    "#     https://docs.ozon.ru/api/seller/#operation/FinanceAPI_FinanceTransactionListV3\n",
    "#     The load() function of the json module converts the document to JSON format in a Python object\n",
    "#     The dumps() function of the json module serializes the Python object obj to a JSON string str\n",
    "#     pandarallel.initialize(progress_bar=True) # parallel use CPU (not good for response requests)\n",
    "#     \"asyncio.run() cannot be called from a running event loop\" when using Jupyter Notebook\n",
    "#     https://stackoverflow.com/questions/46827007/runtimeerror-this-event-loop-is-already-running-in-python\n",
    "#     https://stackoverflow.com/questions/55409641/asyncio-run-cannot-be-called-from-a-running-event-loop-when-using-jupyter-no\n",
    "#     Jupyter (IPython ≥ 7.0)\n",
    "#     async def main():\n",
    "#         print(1)\n",
    "#     await main()\n",
    "#     Python ≥ 3.7 and IPython < 7.0\n",
    "#     async def main():\n",
    "#         print(1)\n",
    "#     asyncio.run(main())\n",
    "#     import nest_asyncio # running event loop\n",
    "#     nest_asyncio.apply()\n",
    "#     '''\n",
    "#     def get_response(self, oas_url_method: str,  oas_body: dict ) -> str:\n",
    "#         '''post any method - get response (json)'''\n",
    "#         response = requests.post(oas_url_method, headers = self.oas_head, data = json.dumps(oas_body) )\n",
    "#         return json.loads( response.text )\n",
    "    \n",
    "#     def get_all_offer_id_sku(self, oas_url_method: str, oas_body: dict, **kwargs) -> 'DataFrame':\n",
    "#         '''get all offer id (post1) & (merge) sku (post2) '''\n",
    "#         total = self.get_response( oas_url_method,  oas_body )['result']['total']\n",
    "#         print(total)\n",
    "#         df_all_offer_id = pd.DataFrame()\n",
    "#         for i_response in range( 1, math.ceil( total/1000 )+1 ):\n",
    "#             print(i_response, end = ' ')\n",
    "#             print(oas_body['last_id'], oas_body)\n",
    "#             json_ = self.get_response( oas_url_method, oas_body )\n",
    "#             df_offer_id = pd.DataFrame.from_dict(json_['result']['items'], orient='columns')\n",
    "#             kwargs['body2']['offer_id'] = df_offer_id.offer_id.unique().tolist() #[:1000]\n",
    "#             df_sku = self.get_sku(kwargs['oas_url_method2'], kwargs['body2']) [['offer_id','fbo_sku','fbs_sku']]\n",
    "#             df_offer_id['last_id'] = oas_body['last_id']\n",
    "# #             print( df_sku )\n",
    "#             df_all_offer_id = pd.concat([ df_all_offer_id, df_offer_id.merge(df_sku , how='inner', on='offer_id') ])\n",
    "# #             new last id is activated in body\n",
    "#             oas_body['last_id'] = json_['result']['last_id']\n",
    "#         return df_all_offer_id\n",
    "    \n",
    "#     def get_sku(self, oas_url_method: str, oas_body: dict) -> 'DataFrame':\n",
    "#         '''get sku (v2/product/info/list) (fbo_sku, fbs_sku)'''\n",
    "# #         print(oas_url_method, type(oas_body['offer_id']), len(oas_body['offer_id']) )\n",
    "#         return pd.DataFrame.from_dict(self.get_response( oas_url_method, oas_body )['result']['items'], orient='columns')\n",
    "\n",
    "#     def apply_func(self, x):\n",
    "#         '''for use parallel _apply\n",
    "#         not good for response requests'''\n",
    "#         oas_url_method = oas_url_method_v3\n",
    "#         return self.get_response( oas_url_method,  x )\n",
    "\n",
    "    \n",
    "#     async def async_requests_post(self, body: dict) -> str:\n",
    "#         print( type(body) )\n",
    "#         # not for async - response = requests.post(oas_url_method_v3, headers=MainVariables().oas_head, data=json.dumps(body))\n",
    "#         async with aiohttp.ClientSession() as async_requests:\n",
    "#             async with async_requests.post(oas_url_method_v3, headers=MainVariables().oas_head, data=json.dumps(body)) as response:\n",
    "#                 jsonreport = await response.text() \n",
    "# #         print( type(jsonreport), 'async_requests_post return jsonreport' )\n",
    "#         return jsonreport\n",
    "\n",
    "#     async def async_main(self, xxx, chunk = 20 ) -> 'list of str ( json.loads(str) )':\n",
    "#         tasks, panded = [], 0\n",
    "#         for x in xxx:\n",
    "#             tasks.append( asyncio.create_task( self.async_requests_post(x) ) )\n",
    "#             panded += 1\n",
    "#             if len(tasks) == chunk or panded == len( xxx ):\n",
    "#                 res = await asyncio.gather(*tasks)\n",
    "#                 task = []\n",
    "# #         print( type( json.loads(res[0]) ), 'async_main return res' )\n",
    "#         return res \n",
    "\n",
    "#     def v3(self, oas_url_method: str, oas_body: dict) -> 'DataFrame':\n",
    "#         '''https://docs.ozon.ru/api/seller/#operation/FinanceAPI_FinanceTransactionListV3'''\n",
    "#         df_v3_all = pd.DataFrame()\n",
    "#         df = pd.DataFrame( {'page_count':list(range(1, self.get_response( oas_url_method,  oas_body )['result']['page_count']+1))} )\n",
    "#         df['body'] = str(oas_body) \n",
    "#         df['newbody'] = df.apply(lambda x: eval(x[1].replace(\"'page': 1\", f\"'page': {x[0]}\")) , axis=1 ) \n",
    "#         # parallel use CPU (not good for response requests)\n",
    "# #         df['jsonreport'] = df.newbody.parallel_apply(self.apply_func)\n",
    "# #         for i in df.itertuples():\n",
    "# #             df_v3_all = pd.concat([ df_v3_all, pd.DataFrame(i.jsonreport['result']['operations']) ])\n",
    "\n",
    "#         loop = asyncio.get_event_loop()\n",
    "#         res = loop.run_until_complete( self.async_main( df['newbody'], chunk = 100  ) )\n",
    "#         for i in pd.DataFrame({'jsonreport': res}).iloc[:].itertuples() :\n",
    "#         #     print( type( json.loads( i.jsonreport ) ['result']['operations']   ))\n",
    "#         #     print(  json.loads( i.jsonreport ) ['result']['operations']   )\n",
    "#             try: #     {'code': 8, 'message': 'You have reached request rate limit per second'}\n",
    "#                 df_v3_all = pd.concat([ df_v3_all, pd.DataFrame( json.loads( i.jsonreport ) ['result']['operations'] ) ])\n",
    "#             except:\n",
    "#                 print('Скорее всего слишком много запросов в OZON помер!\\nПопробуйте снова еще раз, при возникновении той же ситуации поставте меньшее количество запросов!')\n",
    "\n",
    "#         return df_v3_all.reset_index()\n",
    "\n",
    "# # v2\n",
    "# # df_all_offer_id_sku = OzonApiSeller().get_all_offer_id_sku( oas_url_method_v2,  oas_body_v2\n",
    "# #                                                        ,oas_url_method2 = oas_url_method_info_list\n",
    "# #                                                        ,body2 = oas_url_body_info_list_offer_id).reset_index()\n",
    "# # df_all_offer_id_sku\n",
    "\n",
    "# # v3\n",
    "# df_v3 = OzonApiSeller().v3( oas_url_method_v3,  oas_body_v3 ) # .reset_index()\n",
    "# # print( type(df_v3) )\n",
    "# # type(df_v3['newbody'][3]), df_v3['newbody'][3], df_v3\n",
    "# df_v3"
   ]
  },
  {
   "cell_type": "markdown",
   "id": "13daa163",
   "metadata": {
    "ExecuteTime": {
     "end_time": "2023-03-28T11:21:15.947387Z",
     "start_time": "2023-03-28T11:21:15.943967Z"
    }
   },
   "source": [
    "\n",
    "# <br>class ozon.ru api seller"
   ]
  },
  {
   "cell_type": "code",
   "execution_count": 1,
   "id": "7f644893",
   "metadata": {
    "ExecuteTime": {
     "end_time": "2023-04-10T07:02:54.209733Z",
     "start_time": "2023-04-10T07:02:50.658115Z"
    }
   },
   "outputs": [],
   "source": [
    "# magic\n",
    "#################################\n",
    "%matplotlib inline \n",
    "#################################\n",
    "\n",
    "# run magic в юпитере! НЕ РАБОТАЕТ в .py файлах\n",
    "# run files исполнить файлы магией тут\n",
    "%run /srv/jhub/share/._Additions/import_my_modules.py\n",
    "\n",
    "# %run /srv/jhub/share/._Additions/import_libs.py\n",
    "# %run /srv/jhub/share/._Additions/prints_.py\n",
    "# %run /srv/jhub/share/._Additions/my_script.py этот импортится внутри import_my_modules.py\n",
    "# %run /srv/jhub/share/._Additions/Connecting_.py\n",
    "# %run /srv/jhub/share/._Additions/Date_gen.py\n",
    "# %run /srv/jhub/share/._Additions/xx.py\n",
    "\n",
    "#################################\n",
    "# еще вариант magic который !РАБОТАЕТ в .py (+.ipynb) файлах\n",
    "# get_ipython().run_line_magic('matplotlib', 'inline')\n",
    "# run files\n",
    "# get_ipython().run_line_magic('run', '/srv/jhub/share/._Additions/import_libs.py')\n",
    "# get_ipython().run_line_magic('run', '/srv/jhub/share/._Additions/Connecting_.py')\n",
    "# get_ipython().run_line_magic('run', '/srv/jhub/share/._Additions/my_script.py')\n",
    "# get_ipython().run_line_magic('run', '/srv/jhub/share/._Additions/Date_gen.py')\n",
    "# get_ipython().run_line_magic('run', '/srv/jhub/share/._Additions/xx.py')\n",
    "############################## End ##############################\n",
    "# help(Prints_), print(JiraTaskPrint.__doc__)"
   ]
  },
  {
   "cell_type": "code",
   "execution_count": 2,
   "id": "7b3955f1",
   "metadata": {
    "ExecuteTime": {
     "end_time": "2023-04-10T07:03:00.855043Z",
     "start_time": "2023-04-10T07:02:54.228639Z"
    },
    "code_folding": [],
    "scrolled": true
   },
   "outputs": [
    {
     "name": "stdout",
     "output_type": "stream",
     "text": [
      "\u001b[34mОбщее количество страниц (запросов) = 26\u001b[0m\n",
      "\u001b[34mОбщее количество товаров = 25107\u001b[0m\n",
      "\u001b[34mРазмерность таблицы (после обработки запросов (v3 метод)) = (25107, 18)\u001b[0m\n",
      "\u001b[34mИдет развертывание списков товаров (items) и подсчет количества sku в пределах одной операции >> (sku, name)\u001b[0m\n",
      "\u001b[34mКоличество уникальных SKU (Идентификатор товара в системе Ozon) за выбранный период = 2128 (v3 method)\u001b[0m\n",
      "\u001b[34mРазмерность таблицы (после развертывания) = (25821, 21)\u001b[0m\n",
      "\u001b[34mДелаем асинхронные запросы в OZON API (3 запроса, 2127 кол-во SKU, https://api-seller.ozon.ru/v2/product/info/list ) || Сопоставляем SKU в системе OZON и в системе АСУП\u001b[0m\n",
      "\u001b[34mКоличество уникальных SKU (Идентификатор товара в системе Ozon) за выбранный период = 2070 (offer_id - АСУП, sku - ozon, v2 method)\u001b[0m\n",
      "\u001b[34mРазмерность таблицы (после сопоставления SKU) = (25827, 25)\u001b[0m\n"
     ]
    },
    {
     "data": {
      "text/html": [
       "<div>\n",
       "<style scoped>\n",
       "    .dataframe tbody tr th:only-of-type {\n",
       "        vertical-align: middle;\n",
       "    }\n",
       "\n",
       "    .dataframe tbody tr th {\n",
       "        vertical-align: top;\n",
       "    }\n",
       "\n",
       "    .dataframe thead th {\n",
       "        text-align: right;\n",
       "    }\n",
       "</style>\n",
       "<table border=\"1\" class=\"dataframe\">\n",
       "  <thead>\n",
       "    <tr style=\"text-align: right;\">\n",
       "      <th></th>\n",
       "      <th>index</th>\n",
       "      <th>operation_id</th>\n",
       "      <th>operation_type</th>\n",
       "      <th>operation_date</th>\n",
       "      <th>operation_type_name</th>\n",
       "      <th>delivery_charge</th>\n",
       "      <th>return_delivery_charge</th>\n",
       "      <th>accruals_for_sale</th>\n",
       "      <th>sale_commission</th>\n",
       "      <th>amount</th>\n",
       "      <th>...</th>\n",
       "      <th>posting.order_date</th>\n",
       "      <th>posting.posting_number</th>\n",
       "      <th>posting.warehouse_id</th>\n",
       "      <th>items_sku</th>\n",
       "      <th>items_name</th>\n",
       "      <th>items_sku_count</th>\n",
       "      <th>offer_id</th>\n",
       "      <th>name</th>\n",
       "      <th>fbo_sku</th>\n",
       "      <th>fbs_sku</th>\n",
       "    </tr>\n",
       "  </thead>\n",
       "  <tbody>\n",
       "    <tr>\n",
       "      <th>0</th>\n",
       "      <td>0</td>\n",
       "      <td>11166026387</td>\n",
       "      <td>MarketplaceRedistributionOfAcquiringOperation</td>\n",
       "      <td>2023-03-01 00:00:00</td>\n",
       "      <td>Оплата эквайринга</td>\n",
       "      <td>0</td>\n",
       "      <td>0</td>\n",
       "      <td>0.0</td>\n",
       "      <td>0.0</td>\n",
       "      <td>-3.65</td>\n",
       "      <td>...</td>\n",
       "      <td>NaN</td>\n",
       "      <td>NaN</td>\n",
       "      <td>NaN</td>\n",
       "      <td>185029480</td>\n",
       "      <td>Вентилятор e2e4, 80мм, 2200rpm, 22 дБ, 3pin+Mo...</td>\n",
       "      <td>1</td>\n",
       "      <td>709403</td>\n",
       "      <td>Вентилятор e2e4, 80мм, 2200rpm, 22 дБ, 3pin+Mo...</td>\n",
       "      <td>185029477.0</td>\n",
       "      <td>185029480.0</td>\n",
       "    </tr>\n",
       "    <tr>\n",
       "      <th>1</th>\n",
       "      <td>1</td>\n",
       "      <td>11166081062</td>\n",
       "      <td>MarketplaceRedistributionOfAcquiringOperation</td>\n",
       "      <td>2023-03-01 00:00:00</td>\n",
       "      <td>Оплата эквайринга</td>\n",
       "      <td>0</td>\n",
       "      <td>0</td>\n",
       "      <td>0.0</td>\n",
       "      <td>0.0</td>\n",
       "      <td>-30.81</td>\n",
       "      <td>...</td>\n",
       "      <td>NaN</td>\n",
       "      <td>NaN</td>\n",
       "      <td>NaN</td>\n",
       "      <td>437338874</td>\n",
       "      <td>Блок питания 550Вт ATX Pangu S550, 120 мм, 80 ...</td>\n",
       "      <td>1</td>\n",
       "      <td>916811</td>\n",
       "      <td>Блок питания 550Вт ATX Pangu S550, 120 мм, 80 ...</td>\n",
       "      <td>437338873.0</td>\n",
       "      <td>437338874.0</td>\n",
       "    </tr>\n",
       "    <tr>\n",
       "      <th>2</th>\n",
       "      <td>2</td>\n",
       "      <td>11166104478</td>\n",
       "      <td>MarketplaceRedistributionOfAcquiringOperation</td>\n",
       "      <td>2023-03-01 00:00:00</td>\n",
       "      <td>Оплата эквайринга</td>\n",
       "      <td>0</td>\n",
       "      <td>0</td>\n",
       "      <td>0.0</td>\n",
       "      <td>0.0</td>\n",
       "      <td>-4.53</td>\n",
       "      <td>...</td>\n",
       "      <td>NaN</td>\n",
       "      <td>NaN</td>\n",
       "      <td>NaN</td>\n",
       "      <td>864226026</td>\n",
       "      <td>Кронштейн для СВЧ Рэмо К-113, телескопический ...</td>\n",
       "      <td>1</td>\n",
       "      <td>1114402</td>\n",
       "      <td>Кронштейн для СВЧ Рэмо К-113, телескопический ...</td>\n",
       "      <td>864226025.0</td>\n",
       "      <td>864226026.0</td>\n",
       "    </tr>\n",
       "    <tr>\n",
       "      <th>3</th>\n",
       "      <td>3</td>\n",
       "      <td>11166136158</td>\n",
       "      <td>MarketplaceRedistributionOfAcquiringOperation</td>\n",
       "      <td>2023-03-01 00:00:00</td>\n",
       "      <td>Оплата эквайринга</td>\n",
       "      <td>0</td>\n",
       "      <td>0</td>\n",
       "      <td>0.0</td>\n",
       "      <td>0.0</td>\n",
       "      <td>-12.49</td>\n",
       "      <td>...</td>\n",
       "      <td>NaN</td>\n",
       "      <td>NaN</td>\n",
       "      <td>NaN</td>\n",
       "      <td>194691301</td>\n",
       "      <td>Кулер e2e4 CRYO TOWER LT, Blue LED</td>\n",
       "      <td>1</td>\n",
       "      <td>778900</td>\n",
       "      <td>Кулер e2e4 CRYO TOWER LT, Blue LED</td>\n",
       "      <td>194691296.0</td>\n",
       "      <td>194691301.0</td>\n",
       "    </tr>\n",
       "    <tr>\n",
       "      <th>4</th>\n",
       "      <td>4</td>\n",
       "      <td>11166174818</td>\n",
       "      <td>MarketplaceRedistributionOfAcquiringOperation</td>\n",
       "      <td>2023-03-01 00:00:00</td>\n",
       "      <td>Оплата эквайринга</td>\n",
       "      <td>0</td>\n",
       "      <td>0</td>\n",
       "      <td>0.0</td>\n",
       "      <td>0.0</td>\n",
       "      <td>-46.23</td>\n",
       "      <td>...</td>\n",
       "      <td>NaN</td>\n",
       "      <td>NaN</td>\n",
       "      <td>NaN</td>\n",
       "      <td>316914644</td>\n",
       "      <td>Проводная гарнитура EPOS PC 8 USB, черный (504...</td>\n",
       "      <td>1</td>\n",
       "      <td>286222</td>\n",
       "      <td>Проводная гарнитура EPOS PC 8 USB, черный (504...</td>\n",
       "      <td>316914600.0</td>\n",
       "      <td>316914644.0</td>\n",
       "    </tr>\n",
       "    <tr>\n",
       "      <th>...</th>\n",
       "      <td>...</td>\n",
       "      <td>...</td>\n",
       "      <td>...</td>\n",
       "      <td>...</td>\n",
       "      <td>...</td>\n",
       "      <td>...</td>\n",
       "      <td>...</td>\n",
       "      <td>...</td>\n",
       "      <td>...</td>\n",
       "      <td>...</td>\n",
       "      <td>...</td>\n",
       "      <td>...</td>\n",
       "      <td>...</td>\n",
       "      <td>...</td>\n",
       "      <td>...</td>\n",
       "      <td>...</td>\n",
       "      <td>...</td>\n",
       "      <td>...</td>\n",
       "      <td>...</td>\n",
       "      <td>...</td>\n",
       "      <td>...</td>\n",
       "    </tr>\n",
       "    <tr>\n",
       "      <th>25822</th>\n",
       "      <td>102</td>\n",
       "      <td>11702333632</td>\n",
       "      <td>MarketplaceMarketingActionCostOperation</td>\n",
       "      <td>2023-03-31 00:00:00</td>\n",
       "      <td>Услуги продвижения товаров</td>\n",
       "      <td>0</td>\n",
       "      <td>0</td>\n",
       "      <td>0.0</td>\n",
       "      <td>0.0</td>\n",
       "      <td>-2.35</td>\n",
       "      <td>...</td>\n",
       "      <td></td>\n",
       "      <td></td>\n",
       "      <td>0.0</td>\n",
       "      <td>0</td>\n",
       "      <td>0</td>\n",
       "      <td>1</td>\n",
       "      <td>NaN</td>\n",
       "      <td>NaN</td>\n",
       "      <td>NaN</td>\n",
       "      <td>NaN</td>\n",
       "    </tr>\n",
       "    <tr>\n",
       "      <th>25823</th>\n",
       "      <td>103</td>\n",
       "      <td>11702333634</td>\n",
       "      <td>MarketplaceMarketingActionCostOperation</td>\n",
       "      <td>2023-03-31 00:00:00</td>\n",
       "      <td>Услуги продвижения товаров</td>\n",
       "      <td>0</td>\n",
       "      <td>0</td>\n",
       "      <td>0.0</td>\n",
       "      <td>0.0</td>\n",
       "      <td>-1.15</td>\n",
       "      <td>...</td>\n",
       "      <td></td>\n",
       "      <td></td>\n",
       "      <td>0.0</td>\n",
       "      <td>0</td>\n",
       "      <td>0</td>\n",
       "      <td>1</td>\n",
       "      <td>NaN</td>\n",
       "      <td>NaN</td>\n",
       "      <td>NaN</td>\n",
       "      <td>NaN</td>\n",
       "    </tr>\n",
       "    <tr>\n",
       "      <th>25824</th>\n",
       "      <td>104</td>\n",
       "      <td>11702333692</td>\n",
       "      <td>MarketplaceMarketingActionCostOperation</td>\n",
       "      <td>2023-03-31 00:00:00</td>\n",
       "      <td>Услуги продвижения товаров</td>\n",
       "      <td>0</td>\n",
       "      <td>0</td>\n",
       "      <td>0.0</td>\n",
       "      <td>0.0</td>\n",
       "      <td>-1670.97</td>\n",
       "      <td>...</td>\n",
       "      <td></td>\n",
       "      <td></td>\n",
       "      <td>0.0</td>\n",
       "      <td>0</td>\n",
       "      <td>0</td>\n",
       "      <td>1</td>\n",
       "      <td>NaN</td>\n",
       "      <td>NaN</td>\n",
       "      <td>NaN</td>\n",
       "      <td>NaN</td>\n",
       "    </tr>\n",
       "    <tr>\n",
       "      <th>25825</th>\n",
       "      <td>105</td>\n",
       "      <td>11702333696</td>\n",
       "      <td>MarketplaceMarketingActionCostOperation</td>\n",
       "      <td>2023-03-31 00:00:00</td>\n",
       "      <td>Услуги продвижения товаров</td>\n",
       "      <td>0</td>\n",
       "      <td>0</td>\n",
       "      <td>0.0</td>\n",
       "      <td>0.0</td>\n",
       "      <td>-90.65</td>\n",
       "      <td>...</td>\n",
       "      <td></td>\n",
       "      <td></td>\n",
       "      <td>0.0</td>\n",
       "      <td>0</td>\n",
       "      <td>0</td>\n",
       "      <td>1</td>\n",
       "      <td>NaN</td>\n",
       "      <td>NaN</td>\n",
       "      <td>NaN</td>\n",
       "      <td>NaN</td>\n",
       "    </tr>\n",
       "    <tr>\n",
       "      <th>25826</th>\n",
       "      <td>106</td>\n",
       "      <td>11702333700</td>\n",
       "      <td>MarketplaceMarketingActionCostOperation</td>\n",
       "      <td>2023-03-31 00:00:00</td>\n",
       "      <td>Услуги продвижения товаров</td>\n",
       "      <td>0</td>\n",
       "      <td>0</td>\n",
       "      <td>0.0</td>\n",
       "      <td>0.0</td>\n",
       "      <td>-1957.91</td>\n",
       "      <td>...</td>\n",
       "      <td></td>\n",
       "      <td></td>\n",
       "      <td>0.0</td>\n",
       "      <td>0</td>\n",
       "      <td>0</td>\n",
       "      <td>1</td>\n",
       "      <td>NaN</td>\n",
       "      <td>NaN</td>\n",
       "      <td>NaN</td>\n",
       "      <td>NaN</td>\n",
       "    </tr>\n",
       "  </tbody>\n",
       "</table>\n",
       "<p>25827 rows × 25 columns</p>\n",
       "</div>"
      ],
      "text/plain": [
       "       index  operation_id                                 operation_type  \\\n",
       "0          0   11166026387  MarketplaceRedistributionOfAcquiringOperation   \n",
       "1          1   11166081062  MarketplaceRedistributionOfAcquiringOperation   \n",
       "2          2   11166104478  MarketplaceRedistributionOfAcquiringOperation   \n",
       "3          3   11166136158  MarketplaceRedistributionOfAcquiringOperation   \n",
       "4          4   11166174818  MarketplaceRedistributionOfAcquiringOperation   \n",
       "...      ...           ...                                            ...   \n",
       "25822    102   11702333632        MarketplaceMarketingActionCostOperation   \n",
       "25823    103   11702333634        MarketplaceMarketingActionCostOperation   \n",
       "25824    104   11702333692        MarketplaceMarketingActionCostOperation   \n",
       "25825    105   11702333696        MarketplaceMarketingActionCostOperation   \n",
       "25826    106   11702333700        MarketplaceMarketingActionCostOperation   \n",
       "\n",
       "            operation_date         operation_type_name  delivery_charge  \\\n",
       "0      2023-03-01 00:00:00           Оплата эквайринга                0   \n",
       "1      2023-03-01 00:00:00           Оплата эквайринга                0   \n",
       "2      2023-03-01 00:00:00           Оплата эквайринга                0   \n",
       "3      2023-03-01 00:00:00           Оплата эквайринга                0   \n",
       "4      2023-03-01 00:00:00           Оплата эквайринга                0   \n",
       "...                    ...                         ...              ...   \n",
       "25822  2023-03-31 00:00:00  Услуги продвижения товаров                0   \n",
       "25823  2023-03-31 00:00:00  Услуги продвижения товаров                0   \n",
       "25824  2023-03-31 00:00:00  Услуги продвижения товаров                0   \n",
       "25825  2023-03-31 00:00:00  Услуги продвижения товаров                0   \n",
       "25826  2023-03-31 00:00:00  Услуги продвижения товаров                0   \n",
       "\n",
       "       return_delivery_charge  accruals_for_sale  sale_commission   amount  \\\n",
       "0                           0                0.0              0.0    -3.65   \n",
       "1                           0                0.0              0.0   -30.81   \n",
       "2                           0                0.0              0.0    -4.53   \n",
       "3                           0                0.0              0.0   -12.49   \n",
       "4                           0                0.0              0.0   -46.23   \n",
       "...                       ...                ...              ...      ...   \n",
       "25822                       0                0.0              0.0    -2.35   \n",
       "25823                       0                0.0              0.0    -1.15   \n",
       "25824                       0                0.0              0.0 -1670.97   \n",
       "25825                       0                0.0              0.0   -90.65   \n",
       "25826                       0                0.0              0.0 -1957.91   \n",
       "\n",
       "       ... posting.order_date posting.posting_number posting.warehouse_id  \\\n",
       "0      ...                NaN                    NaN                  NaN   \n",
       "1      ...                NaN                    NaN                  NaN   \n",
       "2      ...                NaN                    NaN                  NaN   \n",
       "3      ...                NaN                    NaN                  NaN   \n",
       "4      ...                NaN                    NaN                  NaN   \n",
       "...    ...                ...                    ...                  ...   \n",
       "25822  ...                                                            0.0   \n",
       "25823  ...                                                            0.0   \n",
       "25824  ...                                                            0.0   \n",
       "25825  ...                                                            0.0   \n",
       "25826  ...                                                            0.0   \n",
       "\n",
       "       items_sku                                         items_name  \\\n",
       "0      185029480  Вентилятор e2e4, 80мм, 2200rpm, 22 дБ, 3pin+Mo...   \n",
       "1      437338874  Блок питания 550Вт ATX Pangu S550, 120 мм, 80 ...   \n",
       "2      864226026  Кронштейн для СВЧ Рэмо К-113, телескопический ...   \n",
       "3      194691301                 Кулер e2e4 CRYO TOWER LT, Blue LED   \n",
       "4      316914644  Проводная гарнитура EPOS PC 8 USB, черный (504...   \n",
       "...          ...                                                ...   \n",
       "25822          0                                                  0   \n",
       "25823          0                                                  0   \n",
       "25824          0                                                  0   \n",
       "25825          0                                                  0   \n",
       "25826          0                                                  0   \n",
       "\n",
       "      items_sku_count offer_id  \\\n",
       "0                   1   709403   \n",
       "1                   1   916811   \n",
       "2                   1  1114402   \n",
       "3                   1   778900   \n",
       "4                   1   286222   \n",
       "...               ...      ...   \n",
       "25822               1      NaN   \n",
       "25823               1      NaN   \n",
       "25824               1      NaN   \n",
       "25825               1      NaN   \n",
       "25826               1      NaN   \n",
       "\n",
       "                                                    name      fbo_sku  \\\n",
       "0      Вентилятор e2e4, 80мм, 2200rpm, 22 дБ, 3pin+Mo...  185029477.0   \n",
       "1      Блок питания 550Вт ATX Pangu S550, 120 мм, 80 ...  437338873.0   \n",
       "2      Кронштейн для СВЧ Рэмо К-113, телескопический ...  864226025.0   \n",
       "3                     Кулер e2e4 CRYO TOWER LT, Blue LED  194691296.0   \n",
       "4      Проводная гарнитура EPOS PC 8 USB, черный (504...  316914600.0   \n",
       "...                                                  ...          ...   \n",
       "25822                                                NaN          NaN   \n",
       "25823                                                NaN          NaN   \n",
       "25824                                                NaN          NaN   \n",
       "25825                                                NaN          NaN   \n",
       "25826                                                NaN          NaN   \n",
       "\n",
       "           fbs_sku  \n",
       "0      185029480.0  \n",
       "1      437338874.0  \n",
       "2      864226026.0  \n",
       "3      194691301.0  \n",
       "4      316914644.0  \n",
       "...            ...  \n",
       "25822          NaN  \n",
       "25823          NaN  \n",
       "25824          NaN  \n",
       "25825          NaN  \n",
       "25826          NaN  \n",
       "\n",
       "[25827 rows x 25 columns]"
      ]
     },
     "execution_count": 2,
     "metadata": {},
     "output_type": "execute_result"
    }
   ],
   "source": [
    "# %%time\n",
    "    \n",
    "# # method v2 not asinc\n",
    "# oas_url_method_v2_notasinc = \"\"\"https://api-seller.ozon.ru/v2/product/list\"\"\"\n",
    "# # body v2 not asinc\n",
    "# oas_body_v2_notasinc = {'filter': {'offer_id': [], 'product_id': [], 'visibility': 'ALL'},\n",
    "#  'last_id': '',\n",
    "#  'limit': 1000}\n",
    "\n",
    "# # method v2\n",
    "# oas_url_method_v2 = \"\"\"https://api-seller.ozon.ru/v2/product/info/list\"\"\"\n",
    "# # body v2\n",
    "# oas_body_v2 = {\n",
    "# #     \"offer_id\": '185029480' # в нашей системе \n",
    "# #     ,\"product_id\": []\n",
    "#     'sku': 0 # в системе OZON \n",
    "# }\n",
    "\n",
    "# # method v3\n",
    "# oas_url_method_v3 = \"\\\n",
    "# https://api-seller.ozon.ru/v3/finance/transaction/list\\\n",
    "# \"\n",
    "# # body v3\n",
    "# oas_body_v3 = {'filter': \n",
    "#     {'date': {\n",
    "#         'from': '2023-03-01T00:00:00.000Z'\n",
    "#         ,'to': '2023-03-31T00:00:00.000Z'\n",
    "#         }\n",
    "#     ,'transaction_type': 'all'\n",
    "#     }\n",
    "#     ,'page': 1\n",
    "#     ,'page_size': 1000}\n",
    "# response = requests.post(oas_url_method_v3, headers=MainVariables().oas_head, data=json.dumps(oas_body_v3))\n",
    "# # print(response.text)\n",
    "# jsonreport = json.loads( response.text )\n",
    "# jsonreport\n",
    "\n",
    "# pandarallel.initialize(progress_bar=True)\n",
    "nest_asyncio.apply()\n",
    "# class OzonApiSeller\n",
    "class OzonApiSeller( Prints_, MainVariables ):\n",
    "    '''Ozon Api Seller methods.\n",
    "    https://seller.ozon.ru/app/messenger\n",
    "    https://docs.ozon.ru/api/seller/#operation/FinanceAPI_FinanceTransactionListV3\n",
    "    The load() function of the json module converts the document to JSON format in a Python object\n",
    "    The dumps() function of the json module serializes the Python object obj to a JSON string str\n",
    "    pandarallel.initialize(progress_bar=True) # parallel use CPU (not good for response requests)\n",
    "    \"asyncio.run() cannot be called from a running event loop\" when using Jupyter Notebook\n",
    "    https://stackoverflow.com/questions/46827007/runtimeerror-this-event-loop-is-already-running-in-python\n",
    "    https://stackoverflow.com/questions/55409641/asyncio-run-cannot-be-called-from-a-running-event-loop-when-using-jupyter-no\n",
    "    Jupyter (IPython ≥ 7.0)\n",
    "    async def main():\n",
    "        print(1)\n",
    "    await main()\n",
    "    Python ≥ 3.7 and IPython < 7.0\n",
    "    async def main():\n",
    "        print(1)\n",
    "    asyncio.run(main())\n",
    "    import nest_asyncio # running event loop\n",
    "    nest_asyncio.apply()\n",
    "    '''\n",
    "    def get_response(self, oas_url_method: str,  oas_body: dict ) -> str:\n",
    "        '''post any method - get response (json)'''\n",
    "        response = requests.post(oas_url_method, headers = self.oas_head, data = json.dumps(oas_body) )\n",
    "        return json.loads( response.text )\n",
    "    \n",
    "    def get_all_offer_id_sku(self, oas_url_method: str, oas_body: dict, **kwargs) -> 'DataFrame':\n",
    "        '''get all offer id (post1) & (merge) sku (post2) '''\n",
    "        total = self.get_response( oas_url_method,  oas_body )['result']['total']\n",
    "        print(total)\n",
    "        df_all_offer_id = pd.DataFrame()\n",
    "        for i_response in range( 1, math.ceil( total/1000 )+1 ):\n",
    "            print(i_response, end = ' ')\n",
    "            print(oas_body['last_id'], oas_body)\n",
    "            json_ = self.get_response( oas_url_method, oas_body )\n",
    "            df_offer_id = pd.DataFrame.from_dict(json_['result']['items'], orient='columns')\n",
    "            kwargs['body2']['offer_id'] = df_offer_id.offer_id.unique().tolist() #[:1000]\n",
    "            df_sku = self.get_sku(kwargs['oas_url_method2'], kwargs['body2']) [['offer_id','fbo_sku','fbs_sku']]\n",
    "            df_offer_id['last_id'] = oas_body['last_id']\n",
    "#             print( df_sku )\n",
    "            df_all_offer_id = pd.concat([ df_all_offer_id, df_offer_id.merge(df_sku , how='inner', on='offer_id') ])\n",
    "#             new last id is activated in body\n",
    "            oas_body['last_id'] = json_['result']['last_id']\n",
    "        return df_all_offer_id\n",
    "    \n",
    "    def get_sku(self, oas_url_method: str, oas_body: dict) -> 'DataFrame':\n",
    "        '''get sku (v2/product/info/list) (fbo_sku, fbs_sku)'''\n",
    "        return pd.DataFrame.from_dict(self.get_response( oas_url_method, oas_body )['result']['items'], orient='columns')\n",
    "\n",
    "    def apply_func(self, x):\n",
    "        '''for use parallel _apply\n",
    "        not good for response requests'''\n",
    "        oas_url_method = oas_url_method_v3\n",
    "        return self.get_response( oas_url_method,  x )\n",
    "\n",
    "    async def async_requests_post(self, oas_url_method, body: dict) -> str:\n",
    "        # not for async - response = requests.post(oas_url_method, headers=self.oas_head, data=json.dumps(body))\n",
    "        async with aiohttp.ClientSession() as async_requests:\n",
    "            async with async_requests.post(oas_url_method,  headers=self.oas_head, data=json.dumps(body)) as response:\n",
    "                jsonreport = await response.text() \n",
    "#         print( type(jsonreport), 'async_requests_post return jsonreport' )\n",
    "        return jsonreport\n",
    "\n",
    "    async def async_main_requests(self, oas_url_method, for_cors, chunk = 100 ) -> 'list of str ( json.loads(str) )':\n",
    "        '''create tasks (quantity = chunk) function to run coroutines concurrently as asyncio tasks using gather'''\n",
    "        chunk_tasks_for_gather, all_jsonreports, limit_all_tasks = [], [], 0\n",
    "        for cor in for_cors:\n",
    "            chunk_tasks_for_gather.append( asyncio.create_task( self.async_requests_post(oas_url_method, cor) ) )\n",
    "            limit_all_tasks += 1\n",
    "            if len(chunk_tasks_for_gather) == chunk or limit_all_tasks == len( for_cors ):\n",
    "                chunk_jsonreports = await asyncio.gather(*chunk_tasks_for_gather)\n",
    "                chunk_tasks_for_gather = []\n",
    "                all_jsonreports.extend(chunk_jsonreports)    \n",
    "        return all_jsonreports\n",
    "    \n",
    "    def df_deployer(self, df: 'DataFrame') -> 'DataFrame':\n",
    "        '''expand the list of items, count the number of SKUs and add to the source df'''\n",
    "        try:  \n",
    "            self.print_shape(df.shape, s=f'(после обработки запросов (v3 метод))' )\n",
    "            self.print_info_deployer()\n",
    "            df_ = df.explode('items') #.loc[18810] \n",
    "            df_['items_sku'] = df_['items']  [:] .apply( lambda x:  x['sku']  if isinstance(x, dict ) else 0 )\n",
    "            df_['items_name'] = df_['items'] [:] .apply( lambda x:  x['name'] if isinstance(x, dict ) else 0 )\n",
    "            self.print_n_sku(df_.items_sku.nunique(), '(v3 method)')\n",
    "            before_after_group = ['posting','items','services'] # TypeError: unhashable type: 'dict'  if len(x)>0 else None\n",
    "            df_[before_after_group] = df_[before_after_group].applymap(lambda x: json.dumps(x)  )\n",
    "            df_merge_count_sku = df_.drop_duplicates().merge(\n",
    "                df_.groupby( ['operation_id','items_sku'] ).agg({'items_sku':'count'}).rename(columns={'items_sku':'items_sku_count'}).reset_index()\n",
    "                    ,how='left', on=['operation_id','items_sku']) \n",
    "            df_merge_count_sku[before_after_group] = df_merge_count_sku[before_after_group].applymap(lambda x: json.loads(x)  )\n",
    "            self.print_shape(df_merge_count_sku.shape, s='(после развертывания)', )\n",
    "            return df_merge_count_sku\n",
    "        except (NameError, KeyError, AttributeError) as a_err:  \n",
    "            print( self.print_err_requests() ) if  isinstance(a_err, (NameError, KeyError, AttributeError) ) else None\n",
    "                \n",
    "    def apply_replace_dict(self, x, key, key1 = ['sku', 'page'] ):\n",
    "        '''apply lambda'''\n",
    "        temp = json.loads(x[1])\n",
    "        temp[key] = x[0]\n",
    "#         try:\n",
    "#             temp[key[1]] = x[0]\n",
    "#         except:\n",
    "#             temp[key[2]] = x[0]\n",
    "        return  temp\n",
    "    \n",
    "    def asyncio_loop_run(self,  oas_url_method, oas_body, df, key0='page', key1='result', key2='operations', chunk = 100, df_all = pd.DataFrame() ) -> 'DataFrame':\n",
    "        try: #     {'code': 8, 'message': 'You have reached request rate limit per second'}\n",
    "            df['body'] = json.dumps(oas_body) \n",
    "            df['newbody'] = df.apply( lambda x:  self.apply_replace_dict(x, key0) , axis=1 )\n",
    "    #         parallel use CPU (not good for response requests)\n",
    "    #         df['jsonreport'] = df.newbody.parallel_apply(self.apply_func)\n",
    "    #         for i in df.itertuples():\n",
    "    #             df_all = pd.concat([ df_all, pd.DataFrame(i.jsonreport['result']['operations']) ])\n",
    "            loop = asyncio.get_event_loop()\n",
    "            res = loop.run_until_complete( self.async_main_requests( oas_url_method, df['newbody'], chunk = chunk  ) )\n",
    "            for i in pd.DataFrame({'jsonreport': res}).iloc[:].itertuples() :             \n",
    "                df_all = pd.concat([ df_all, pd.json_normalize( json.loads(i.jsonreport)[key1][key2] ) ])\n",
    "            return df_all.reset_index() # drop=True\n",
    "        except KeyError as k_err:\n",
    "                self.print_err_async_requests() if isinstance(k_err, KeyError) else None   \n",
    "\n",
    "    def v3(self, oas_url_method: str, oas_body: dict, chunk = 100 ) -> 'DataFrame':\n",
    "        '''v3 method (https://docs.ozon.ru/api/seller/#operation/FinanceAPI_FinanceTransactionListV3)'''\n",
    "        cor_page_start = 2\n",
    "        df_all = pd.DataFrame()\n",
    "        v3page1 = self.get_response( oas_url_method,  oas_body )\n",
    "        print( colored(f'''Общее количество страниц (запросов) = {v3page1['result']['page_count']}''', 'blue') ) \n",
    "        print( colored(f'''Общее количество товаров = {v3page1['result']['row_count']}''', 'blue') ) \n",
    "        df_all = pd.concat([ df_all, pd.DataFrame.from_dict(v3page1['result']['operations'], orient='columns') ])\n",
    "        df = pd.DataFrame( {'page_count':list(range( cor_page_start, v3page1['result']['page_count']+1 ))} )\n",
    "        return self.asyncio_loop_run( oas_url_method, oas_body, df, chunk = chunk, df_all = df_all )\n",
    "\n",
    "    def v2_sku_merge(self, oas_url_method_v2, oas_body_v2, df_deployded, max_sku_req_defoult = 1000, key0='sku', key2='items', chunk = 1000):\n",
    "        '''v2 method (ProductAPI_GetProductInfoListV2) & merge v3 method (FinanceAPI_FinanceTransactionListV3)'''\n",
    "        array_items_sku_v3 = np.delete(np.sort(df_deployded['items_sku'].unique()), 0).tolist()\n",
    "        df_items_sku_v3 = pd.DataFrame({'array_items_sku_v3': [array_items_sku_v3[i:i + max_sku_req_defoult] \n",
    "                                                           for i in range(0, len(array_items_sku_v3), max_sku_req_defoult) ] })\n",
    "        self.print_v2_sku_merge( df_items_sku_v3.shape[0], len(array_items_sku_v3), oas_url_method_v2 )\n",
    "        df_items_sku = self.asyncio_loop_run(oas_url_method_v2, oas_body_v2, df_items_sku_v3\n",
    "                                 ,key0='sku', key2='items', chunk = chunk) [['offer_id','name','fbo_sku','fbs_sku']]\n",
    "        self.print_n_sku(df_items_sku.offer_id.nunique(), '(offer_id - АСУП, sku - ozon, v2 method)')\n",
    "        df_v2_sku_merge = df_deployded.merge(df_items_sku, left_on='items_name', right_on='name', how='left')\n",
    "        self.print_shape(df_v2_sku_merge.shape, s='(после сопоставления SKU)', ) \n",
    "        return df_v2_sku_merge\n",
    "        \n",
    "############\n",
    "# def main():\n",
    "\n",
    "# print('''Очень странное поведение когда запускаешь (что то одно или несколько ячеек) то все равботает нормально, НО если ткнуть мышкой в другую область (другую ячейку) то все может сломается ((''')\n",
    "\n",
    "### v2\n",
    "# df_all_offer_id_sku = OzonApiSeller().get_all_offer_id_sku( oas_url_method_v2_notasinc,  oas_body_v2_notasinc\n",
    "#                                                        ,oas_url_method2 = oas_url_method_info_list\n",
    "#                                                        ,body2 = oas_url_body_info_list_offer_id).reset_index(drop=True)\n",
    "# df_all_offer_id_sku\n",
    "\n",
    "### v3 # OzonApiSeller().v3.__doc__ OzonApiSeller().__doc__\n",
    "chunk_defoult = 100\n",
    "max_sku_req_defoult = 1000\n",
    "df_v3 = OzonApiSeller().v3( MainVariables().oas_url_method_v3, eval(MainVariables().oas_body_v3), chunk = chunk_defoult ) \n",
    "df_deployded = OzonApiSeller().df_deployer( df_v3 ) \n",
    "df_v2_sku_merge = OzonApiSeller().v2_sku_merge( MainVariables().oas_url_method_v2, eval(MainVariables().oas_body_v2), df_deployded\n",
    "                 ,max_sku_req_defoult = max_sku_req_defoult, key0='sku', key2='items', chunk = chunk_defoult)\n",
    "\n",
    "\n",
    "# if __name__ == \"__main__\":\n",
    "#     main()\n",
    "    \n",
    "df_v3 \n",
    "df_deployded\n",
    "df_v2_sku_merge\n"
   ]
  },
  {
   "cell_type": "code",
   "execution_count": null,
   "id": "9fe0e581",
   "metadata": {
    "ExecuteTime": {
     "end_time": "2023-04-10T07:08:46.569767Z",
     "start_time": "2023-04-10T07:08:46.565492Z"
    }
   },
   "outputs": [],
   "source": []
  },
  {
   "cell_type": "code",
   "execution_count": 17,
   "id": "3206daf0",
   "metadata": {
    "ExecuteTime": {
     "end_time": "2023-04-10T07:12:08.940431Z",
     "start_time": "2023-04-10T07:12:08.937080Z"
    }
   },
   "outputs": [],
   "source": [
    "DATE_START_replce = '2023-03-10'\n",
    "DATE_END_replce = '2023-04-10'"
   ]
  },
  {
   "cell_type": "code",
   "execution_count": 28,
   "id": "4932c3a0",
   "metadata": {
    "ExecuteTime": {
     "end_time": "2023-04-10T07:23:32.868772Z",
     "start_time": "2023-04-10T07:23:32.863369Z"
    }
   },
   "outputs": [
    {
     "data": {
      "text/plain": [
       "{'filter': {'date': {'from': '2023-03-10T00:00:00.000Z',\n",
       "   'to': '2023-04-10T00:00:00.000Z'},\n",
       "  'transaction_type': 'all'},\n",
       " 'page': 1,\n",
       " 'page_size': 1000}"
      ]
     },
     "execution_count": 28,
     "metadata": {},
     "output_type": "execute_result"
    }
   ],
   "source": [
    "oas_body_v3 = eval(MainVariables().oas_body_v3)\n",
    "oas_body_v3['filter']['date']['from'] = DATE_START_replce + 'T00:00:00.000Z'\n",
    "oas_body_v3['filter']['date']['to'] = DATE_END_replce + 'T00:00:00.000Z'\n",
    "oas_body_v3\n",
    "# eval(MainVariables().oas_body_v2)"
   ]
  },
  {
   "cell_type": "code",
   "execution_count": 29,
   "id": "6bed5acb",
   "metadata": {
    "ExecuteTime": {
     "end_time": "2023-04-10T07:23:43.707070Z",
     "start_time": "2023-04-10T07:23:43.701854Z"
    }
   },
   "outputs": [
    {
     "data": {
      "text/plain": [
       "'{\"filter\": {\"date\": {\"from\": \"2023-03-10T00:00:00.000Z\", \"to\": \"2023-04-10T00:00:00.000Z\"}, \"transaction_type\": \"all\"}, \"page\": 1, \"page_size\": 1000}'"
      ]
     },
     "execution_count": 29,
     "metadata": {},
     "output_type": "execute_result"
    }
   ],
   "source": [
    "json.dumps(oas_body_v3)"
   ]
  },
  {
   "cell_type": "code",
   "execution_count": null,
   "id": "bdaafbb9",
   "metadata": {
    "ExecuteTime": {
     "end_time": "2023-04-05T07:54:57.082236Z",
     "start_time": "2023-04-05T07:54:55.994920Z"
    }
   },
   "outputs": [],
   "source": [
    "\n",
    "async def async_requests_post( body: dict) -> str:\n",
    "#         print( type(body) )\n",
    "    # not for async - response = requests.post(oas_url_method_v3, headers=MainVariables().oas_head, data=json.dumps(body))\n",
    "    async with aiohttp.ClientSession() as async_requests:\n",
    "        async with async_requests.post(oas_url_method_v3, headers=self.oas_head, data=json.dumps(body)) as response:\n",
    "            jsonreport = await response.text() \n",
    "#         print( type(jsonreport), 'async_requests_post return jsonreport' )\n",
    "    return jsonreport\n",
    "\n",
    "\n",
    "async def async_main_requests( for_cors, chunk = 100 ) -> 'list of str ( json.loads(str) )':\n",
    "    '''create tasks (quantity = chunk) function to run coroutines concurrently as asyncio tasks using gather'''\n",
    "    chunk_tasks_for_gather, all_jsonreports, limit_all_tasks = [], [], 0\n",
    "    for cor in for_cors:\n",
    "        chunk_tasks_for_gather.append( asyncio.create_task( self.async_requests_post(cor) ) )\n",
    "        limit_all_tasks += 1\n",
    "        if len(chunk_tasks_for_gather) == chunk or limit_all_tasks == len( for_cors ):\n",
    "            chunk_jsonreports = await asyncio.gather(*chunk_tasks_for_gather)\n",
    "            chunk_tasks_for_gather = []\n",
    "            all_jsonreports.extend(chunk_jsonreports)    \n",
    "    return all_jsonreports\n",
    "\n",
    "\n",
    "\n",
    "def asyncio_loop_run( , chunk = 1000)\n",
    "    loop = asyncio.get_event_loop()\n",
    "    res = loop.run_until_complete( self.async_main_requests( df['newbody'], chunk = chunk  ) )\n",
    "    for i in pd.DataFrame({'jsonreport': res}).iloc[:].itertuples() :\n",
    "        try: #     {'code': 8, 'message': 'You have reached request rate limit per second'} \n",
    "            df_v3_all = pd.concat([ df_v3_all, pd.json_normalize( json.loads(i.jsonreport)['result']['operations'] ) ])\n",
    "        except KeyError as k_err:\n",
    "            err_msg = k_err \n",
    "    try: \n",
    "    #             print( type(err_msg), isinstance(err_msg, KeyError), self.print_err_async_requests() )\n",
    "        print( self.print_err_async_requests() ) if  isinstance(err_msg, KeyError) else None\n",
    "    except:\n",
    "\n",
    "    return df_v3_all.reset_index() #drop=True"
   ]
  },
  {
   "cell_type": "code",
   "execution_count": null,
   "id": "ee595de1",
   "metadata": {
    "ExecuteTime": {
     "end_time": "2023-04-05T07:57:01.380042Z",
     "start_time": "2023-04-05T07:57:01.349998Z"
    }
   },
   "outputs": [],
   "source": [
    "# df_merge_count_sku['items'][3]\n",
    "df_merge_count_sku[df_merge_count_sku.operation_id==11565187300]"
   ]
  },
  {
   "cell_type": "code",
   "execution_count": null,
   "id": "5ff04165",
   "metadata": {
    "ExecuteTime": {
     "end_time": "2023-04-05T07:22:44.948491Z",
     "start_time": "2023-04-05T07:22:44.940373Z"
    },
    "scrolled": true
   },
   "outputs": [],
   "source": [
    "# df_v3['items'] .loc[18810] \n",
    "# df_v3['services'] .loc[18810] "
   ]
  },
  {
   "cell_type": "code",
   "execution_count": null,
   "id": "4a907bfa",
   "metadata": {
    "ExecuteTime": {
     "end_time": "2023-04-04T11:55:00.935101Z",
     "start_time": "2023-04-04T11:54:05.141282Z"
    }
   },
   "outputs": [],
   "source": [
    "# %%time\n",
    "\n",
    "# df_name_sku_count = pd.DataFrame()\n",
    "# for i in df_v3.iloc[:].itertuples(): # 0,1,18810\n",
    "# #     print(i.Index, i.items)\n",
    "#     try:\n",
    "#         df = pd.DataFrame.from_dict( i.items,  orient='columns') #.groupby(['name','sku']).agg({'sku':'count'}).rename(columns={'sku':'sku_count'}).reset_index()\n",
    "#         df['operation_id'] = i.operation_id\n",
    "#         df['old_index'] = i.Index\n",
    "#         df_name_sku_count = pd.concat([ df_name_sku_count, df ])\n",
    "#     except: pass\n",
    "\n",
    "# df_name_sku_count #.set_index('operation_id')"
   ]
  },
  {
   "cell_type": "code",
   "execution_count": null,
   "id": "5896d842",
   "metadata": {
    "ExecuteTime": {
     "end_time": "2023-04-04T11:55:47.197300Z",
     "start_time": "2023-04-04T11:55:47.191246Z"
    }
   },
   "outputs": [],
   "source": [
    "# df_name_sku_count['operation_id'].nunique()"
   ]
  },
  {
   "cell_type": "code",
   "execution_count": null,
   "id": "6999797e",
   "metadata": {
    "ExecuteTime": {
     "end_time": "2023-04-05T07:23:03.673889Z",
     "start_time": "2023-04-05T07:23:03.527849Z"
    },
    "scrolled": true
   },
   "outputs": [],
   "source": [
    "# df_v3['items_name'] = df_v3['items'] [:] .apply( lambda x:  [ j['name']  for j in x if len(j)>0 ]  )\n",
    "# df_v3['items_sku'] = df_v3['items'] [:] .apply( lambda x:  [ j['sku']  for j in x if len(j)>0 ]  )\n",
    "# df_v3[['operation_id','items_sku','items_name']]\n",
    "\n",
    "# df_v3['items_sku_name'] = df_v3['items'] [:] .apply( lambda x: ([j['sku']  for j in x if len(j)>0], [j['name']  for j in x if len(j)>0])  )\n",
    "# df_v3['items_sku_name'].loc[18810]\n",
    "# df_v3['items'] .loc[18810]\n",
    "\n",
    "# pd.DataFrame.from_dict( df_v3['items'] .loc[18810],  orient='columns') .groupby(['name','sku']).agg({'sku':'count'}).rename(columns={'sku':'sku_count'})\n",
    "\n",
    "\n",
    "# def defdef(x):\n",
    "    \n",
    "# #     x.index = x['operation_id']\n",
    "# #     return ( {'operation_id': x['operation_id']} )\n",
    "#     print( pd.DataFrame.from_dict( x['items'].extend(['operation_id':x['operation_id']] ),  orient='columns') #.groupby(['name','sku']).agg({'sku':'count'}).rename(columns={'sku':'sku_count'})  )\n",
    "# #     return df\n",
    "# df_v3[['operation_id','items']] .iloc[[ 18810]] . apply( defdef, axis=1 )\n",
    "\n",
    "# ['items'][18810] .loc[18810] \n",
    "df_ = df_v3.explode('items') #\n",
    "df_['items_sku'] = df_['items']  [:] .apply( lambda x:  x['sku']  if isinstance(x, dict ) else 0 )\n",
    "df_['items_name'] = df_['items'] [:] .apply( lambda x:  x['name'] if isinstance(x, dict ) else 0 )\n",
    "# df_[['operation_id','items_sku','items_name']]"
   ]
  },
  {
   "cell_type": "code",
   "execution_count": null,
   "id": "d8090b05",
   "metadata": {
    "ExecuteTime": {
     "end_time": "2023-04-05T07:44:34.458110Z",
     "start_time": "2023-04-05T07:44:34.452092Z"
    }
   },
   "outputs": [],
   "source": [
    "# befor_group = ['posting','items','services'] # TypeError: unhashable type: 'dict'  if len(x)>0 else None\n",
    "# df_[befor_group] = df_[befor_group].applymap(lambda x: json.dumps(x)  )\n",
    "# df_"
   ]
  },
  {
   "cell_type": "code",
   "execution_count": null,
   "id": "8ab651fa",
   "metadata": {
    "ExecuteTime": {
     "end_time": "2023-04-05T07:40:24.882989Z",
     "start_time": "2023-04-05T07:40:24.763512Z"
    }
   },
   "outputs": [],
   "source": [
    "# df_.dtypes\n",
    "# type(df_.posting[0])\n",
    "# df_v3.operation_id.nunique()\n",
    "# df_.drop_duplicates() #.loc[18810] \n",
    "# df_.groupby( ['operation_id','items_sku'] ).agg({'items_sku':'count'}).rename(columns={'items_sku':'items_sku_count'}).reset_index()"
   ]
  },
  {
   "cell_type": "code",
   "execution_count": null,
   "id": "07d8c38e",
   "metadata": {
    "ExecuteTime": {
     "end_time": "2023-04-05T07:42:09.368374Z",
     "start_time": "2023-04-05T07:42:09.153765Z"
    },
    "scrolled": true
   },
   "outputs": [],
   "source": [
    "# B = ['items_sku','items_name']                 \n",
    "# [j for j in df_.columns if j not in B]\n",
    "df_merge_count_sku = df_.drop_duplicates().merge(\n",
    "    df_.groupby( ['operation_id','items_sku'] ).agg({'items_sku':'count'}).rename(columns={'items_sku':'items_sku_count'}).reset_index()\n",
    "    ,how='left', on=['operation_id','items_sku']) \n",
    "df_merge_count_sku"
   ]
  },
  {
   "cell_type": "code",
   "execution_count": null,
   "id": "4fe61fb1",
   "metadata": {
    "ExecuteTime": {
     "end_time": "2023-04-05T07:46:16.723013Z",
     "start_time": "2023-04-05T07:46:16.717343Z"
    }
   },
   "outputs": [],
   "source": []
  },
  {
   "cell_type": "code",
   "execution_count": null,
   "id": "eb5891b3",
   "metadata": {
    "ExecuteTime": {
     "end_time": "2023-04-05T07:48:12.675985Z",
     "start_time": "2023-04-05T07:48:12.645505Z"
    }
   },
   "outputs": [],
   "source": [
    "df_merge_count_sku['items'][7]\n",
    "df_merge_count_sku[df_merge_count_sku.operation_id==11565187300]"
   ]
  },
  {
   "cell_type": "code",
   "execution_count": null,
   "id": "04eda620",
   "metadata": {
    "ExecuteTime": {
     "end_time": "2023-04-04T09:24:49.641676Z",
     "start_time": "2023-04-04T09:24:49.447651Z"
    }
   },
   "outputs": [],
   "source": [
    "# df_v3['N_items_sku'] = df_v3['items_sku'] .apply(lambda x: len(x))\n",
    "# df_v3['N_items_name'] = df_v3['items_name'] .apply(lambda x: len(x))\n",
    "# df_v3[['operation_id','N_items_sku','N_items_name']]\n",
    "# # (df_v3['N_items_sku'] != df_v3['N_items_name']).sum() # проверка наме и ску\n",
    "# df_v3['N_items_name'].loc[18810]"
   ]
  },
  {
   "cell_type": "code",
   "execution_count": null,
   "id": "0ffb91c3",
   "metadata": {
    "ExecuteTime": {
     "end_time": "2023-04-04T09:13:55.795148Z",
     "start_time": "2023-04-04T09:13:55.787014Z"
    }
   },
   "outputs": [],
   "source": [
    "# def lambdalambda(array):\n",
    "    \n",
    "#     return {i: array.count(i) for i in array}\n",
    "    \n",
    "    \n",
    "\n",
    "\n",
    "\n",
    "# df_v3['items_sku'].loc[[18810]] .apply( lambda array: {i: array.count(i) for i in array} )"
   ]
  },
  {
   "cell_type": "code",
   "execution_count": null,
   "id": "5aa1a988",
   "metadata": {},
   "outputs": [],
   "source": []
  },
  {
   "cell_type": "code",
   "execution_count": null,
   "id": "2a3b0003",
   "metadata": {
    "ExecuteTime": {
     "end_time": "2023-04-04T08:10:46.864389Z",
     "start_time": "2023-04-04T08:10:46.849609Z"
    },
    "scrolled": true
   },
   "outputs": [],
   "source": [
    "# df_v3.iloc[18810] 11565187300-54 11482957920-18\n",
    "# df_v3[df_v3['operation_id']==11565187300]['items'].values[0]\n",
    "# 13493    108\n",
    "# 18810    108\n",
    "# 14721    36\n",
    "\n",
    "def lambda1(x):\n",
    "#     print( type(x) )\n",
    "#     print( x['operation_id'], len(x['items']) )\n",
    "    gg = [  [j['sku'], j['name']] for j in x['items'] ]\n",
    "\n",
    "    \n",
    "    return [len(gg), gg]\n",
    "\n",
    "\n",
    "\n",
    "\n",
    "temp = df_v3[['operation_id','items']]  .iloc[[13493,18810,14721,0,1,25106]]  .apply( lambda1, axis=1 ) .loc[18810]\n",
    "temp\n",
    "\n",
    "# lambda1(    df_v3[['operation_id','items']] .iloc[[13493,18810,14721,0,1,25106]]       )"
   ]
  },
  {
   "cell_type": "code",
   "execution_count": null,
   "id": "a07c26c3",
   "metadata": {
    "ExecuteTime": {
     "end_time": "2023-04-04T09:00:52.136956Z",
     "start_time": "2023-04-04T09:00:52.130136Z"
    },
    "scrolled": false
   },
   "outputs": [],
   "source": [
    "# temp[1]\n",
    "\n",
    "\n",
    "\n",
    "test_list = [{\"gfg\": 1, \"is\": 3, \"best\": 2},\n",
    "             {\"gfg\": 1, \"is\": 3, \"best\": 6},\n",
    "             {\"gfg\": 7, \"is\": 3, \"best\": 10}]\n",
    "              \n",
    "result = {}\n",
    "# printing original list\n",
    "print(\"The original list is : \" + str(test_list))\n",
    "for key in test_list[0]:\n",
    "    values = np.array([d[key] for d in test_list])\n",
    "    result[key] = len(np.unique(values))\n",
    "     \n",
    " \n",
    "# printing result\n",
    "print(\"Unique count of keys : \" + str(result))"
   ]
  },
  {
   "cell_type": "code",
   "execution_count": null,
   "id": "8cbf4a1a",
   "metadata": {
    "ExecuteTime": {
     "end_time": "2023-04-04T07:51:49.075915Z",
     "start_time": "2023-04-04T07:51:49.020758Z"
    }
   },
   "outputs": [],
   "source": []
  },
  {
   "cell_type": "code",
   "execution_count": null,
   "id": "d3d7a4a7",
   "metadata": {},
   "outputs": [],
   "source": []
  },
  {
   "cell_type": "code",
   "execution_count": null,
   "id": "655372bd",
   "metadata": {
    "ExecuteTime": {
     "end_time": "2023-04-03T12:28:45.244226Z",
     "start_time": "2023-04-03T12:28:45.241317Z"
    }
   },
   "outputs": [],
   "source": [
    "# проверка\n",
    "# v3\n",
    "# print(df_v3.operation_id.nunique(), df_v3.operation_id.unique())\n",
    "\n",
    "# v2\n",
    "# df_all_offer_id_sku.offer_id.nunique(), df_all_offer_id_sku.fbo_sku.nunique(), df_all_offer_id_sku.fbs_sku.nunique(), \\\n",
    "# np.sort(df_all_offer_id_sku.fbo_sku.unique()), np.sort(df_all_offer_id_sku.fbs_sku.unique()), \\\n",
    "#  (df_all_offer_id_sku.fbo_sku==0).sum(), (df_all_offer_id_sku.fbo_sku==None).sum(), (df_all_offer_id_sku.fbs_sku==0).sum(), (df_all_offer_id_sku.fbs_sku==None).sum(), \\\n",
    "#  np.sort(df_all_offer_id_sku.fbo_sku.unique())[0]\n",
    "# product_id\toffer_id\tis_fbo_visible\tis_fbs_visible\tarchived\tis_discounted\tlast_id\tfbo_sku\tfbs_sku\n",
    "# 17759\t481725182\t975784\tFalse\tFalse\tFalse\tFalse\tWzQ3MDY4NjY1Nyw0NzA2ODY2NTdd\t0\t0\n",
    "\n"
   ]
  },
  {
   "cell_type": "markdown",
   "id": "c60262a5",
   "metadata": {
    "ExecuteTime": {
     "end_time": "2023-04-03T14:43:11.753194Z",
     "start_time": "2023-04-03T14:43:11.750399Z"
    }
   },
   "source": [
    "### df_deployer"
   ]
  },
  {
   "cell_type": "code",
   "execution_count": null,
   "id": "63abd703",
   "metadata": {
    "ExecuteTime": {
     "end_time": "2023-04-03T15:08:46.397802Z",
     "start_time": "2023-04-03T15:08:46.375507Z"
    }
   },
   "outputs": [],
   "source": [
    "# # df_v3['items'][0][0].keys()\n",
    "# def df_deployer( df_v3, col_name):\n",
    "#     df_v3 = df_v3[col_name].apply(lambda x: [x]) if isinstance(df_v3[col_name][0], dict)\n",
    "#     df_deployed = pd.DataFrame()\n",
    "#     for i in df_v3.iloc[:].itertuples(): \n",
    "\n",
    "def df_deployer(df_index, col_name):\n",
    "    print(df_index, col_name)\n",
    "    df_all = pd.DataFrame()\n",
    "    check_type = col_name[0]\n",
    "    print(type(check_type))\n",
    "    if isinstance(check_type, dict):\n",
    "        col_name = col_name.apply(lambda x: [x]) \n",
    "#     print(type(df_v3))\n",
    "#     for i in df_v3.iloc[:].itertuples(): \n",
    "# #         print( i.Index, type(i), type(i.items), type(i.posting), type(i.services) )\n",
    "#         df = pd.DataFrame.from_dict( i.items,  orient='columns') \n",
    "#         df.index = [i.Index]\n",
    "#         df_all = pd.concat([ df_all, df ])\n",
    "    \n",
    "    return col_name\n",
    "    \n",
    "#     df_all = pd.DataFrame()\n",
    "#     for i in df_v3.iloc[:3].itertuples(): \n",
    "#         print( i.Index, type(i), type(i.items), type(i.posting), type(i.services) )\n",
    "#         df = pd.DataFrame.from_dict( i.items,  orient='columns') \n",
    "#         df.index = [i.Index]\n",
    "#         df_all = pd.concat([ df_all, df ])\n",
    "    \n",
    "\n",
    "    \n",
    "# #     df_v3['posting'].apply(lambda x: [x])\n",
    "# df_all\n",
    "\n",
    "\n",
    "# type( df_v3['posting'][0] )\n",
    "\n",
    "\n",
    "\n",
    "dd = pd.DataFrame.from_dict( [j[0] for j in df_v3.iloc[:]['items'].to_list()],  orient='columns')\n",
    "dd\n",
    "# df_v3 = \n",
    "\n",
    "# df_v3.assign(items_name=dd['name']\n",
    "#              ,items_sku=dd['sku'] \n",
    "         \n",
    "#          )\n",
    "\n",
    "# df.assign(temp_f=df['temp_c'] * 9 / 5 + 32)\n",
    "\n",
    "\n",
    "    \n",
    "# df_v3.iloc[:3].['posting'].values"
   ]
  },
  {
   "cell_type": "code",
   "execution_count": null,
   "id": "4e4fe7dd",
   "metadata": {
    "ExecuteTime": {
     "end_time": "2023-04-04T06:01:35.979444Z",
     "start_time": "2023-04-04T06:01:35.719834Z"
    }
   },
   "outputs": [],
   "source": [
    "df_v3['items'].apply( lambda x: len( list(chain.from_iterable(x)) ) )[df_v3['items'].apply( lambda x: len( list(chain.from_iterable(x)) ) ) == 36] #_deployed  44, 108, 120,  36, 140\n",
    "# 13493    108\n",
    "# 18810    108\n",
    "# 14721    36\n",
    "\n",
    "df_v3['items_deployed'] = df_v3['items'].apply( lambda x: list(deepflatten(x, ignore=dict)) )\n",
    "df_v3['items_deployed']\n",
    "# len(np.sort(df_v3['items_deployed'].unique()))\n",
    "# pd.DataFrame.from_dict( list, orient='columns')"
   ]
  },
  {
   "cell_type": "code",
   "execution_count": null,
   "id": "79cc4243",
   "metadata": {
    "ExecuteTime": {
     "end_time": "2023-04-04T06:40:00.151266Z",
     "start_time": "2023-04-04T06:39:59.899828Z"
    }
   },
   "outputs": [],
   "source": []
  },
  {
   "cell_type": "code",
   "execution_count": null,
   "id": "4c5ed276",
   "metadata": {
    "ExecuteTime": {
     "end_time": "2023-04-04T06:23:27.028858Z",
     "start_time": "2023-04-04T06:23:27.023583Z"
    },
    "scrolled": false
   },
   "outputs": [],
   "source": [
    "df_v3['items_deployed'][[14721]].values"
   ]
  },
  {
   "cell_type": "code",
   "execution_count": null,
   "id": "3d07d362",
   "metadata": {
    "ExecuteTime": {
     "end_time": "2023-04-03T15:41:07.888094Z",
     "start_time": "2023-04-03T15:41:07.878739Z"
    }
   },
   "outputs": [],
   "source": [
    "len(list(chain.from_iterable( df_v3['items'].to_list() )) )"
   ]
  },
  {
   "cell_type": "code",
   "execution_count": null,
   "id": "82cbd97a",
   "metadata": {
    "ExecuteTime": {
     "end_time": "2023-04-03T15:29:23.135936Z",
     "start_time": "2023-04-03T15:29:23.124143Z"
    },
    "scrolled": false
   },
   "outputs": [],
   "source": [
    "for i in df_v3.iloc[:5].iterrows():\n",
    "#     print(df_v3['operation_id'])\n",
    "#     print(df_v3['items'])\n",
    "    print( i['items'] )\n"
   ]
  },
  {
   "cell_type": "code",
   "execution_count": null,
   "id": "ae1f0489",
   "metadata": {
    "ExecuteTime": {
     "end_time": "2023-04-03T15:37:35.041334Z",
     "start_time": "2023-04-03T15:37:35.035707Z"
    }
   },
   "outputs": [],
   "source": [
    "www = [{'name': 'Кулер для процессора DeepCool ICE EDGE MINI FS V2.0 100Вт 3-pin (ICEEDGEMINIFSV2.0)',\\\n",
    "   'sku': 289182663}],\\\n",
    " [{'name': 'Кулер для процессора ID-COOLING DK-01T 95Вт 3-pin',\\\n",
    "   'sku': 836145568},\\\n",
    "  {'name': 'Кулер для процессора ID-COOLING DK-01T 95Вт 3-pin',\\\n",
    "   'sku': 836145568}]\n",
    "    \n",
    "    \n",
    "len(www)"
   ]
  },
  {
   "cell_type": "code",
   "execution_count": null,
   "id": "37522537",
   "metadata": {},
   "outputs": [],
   "source": []
  },
  {
   "cell_type": "code",
   "execution_count": null,
   "id": "54cac22c",
   "metadata": {},
   "outputs": [],
   "source": []
  },
  {
   "cell_type": "code",
   "execution_count": null,
   "id": "7a36c797",
   "metadata": {},
   "outputs": [],
   "source": []
  },
  {
   "cell_type": "code",
   "execution_count": null,
   "id": "8ffb0a27",
   "metadata": {
    "ExecuteTime": {
     "end_time": "2023-04-03T15:17:29.435877Z",
     "start_time": "2023-04-03T15:17:29.420962Z"
    }
   },
   "outputs": [],
   "source": [
    "# df_v3\n",
    "# [j[0] for j in df_v3['items'].to_list()]\n",
    "qwe=[]\n",
    "for i in df_v3['items']:\n",
    "    qwe.append(type(i))\n",
    "#     if type(i) == list:\n",
    "#         print(i)\n",
    "    \n",
    "set(qwe)"
   ]
  },
  {
   "cell_type": "code",
   "execution_count": null,
   "id": "e8b024f0",
   "metadata": {},
   "outputs": [],
   "source": []
  },
  {
   "cell_type": "code",
   "execution_count": null,
   "id": "bd814383",
   "metadata": {},
   "outputs": [],
   "source": []
  },
  {
   "cell_type": "code",
   "execution_count": null,
   "id": "e5b6898c",
   "metadata": {},
   "outputs": [],
   "source": []
  },
  {
   "cell_type": "markdown",
   "id": "91a713e9",
   "metadata": {
    "ExecuteTime": {
     "end_time": "2023-03-31T12:30:33.701471Z",
     "start_time": "2023-03-31T12:30:33.698942Z"
    }
   },
   "source": [
    "### nest_asyncio"
   ]
  },
  {
   "cell_type": "markdown",
   "id": "a43e49c8",
   "metadata": {
    "ExecuteTime": {
     "end_time": "2023-03-29T07:37:18.596901Z",
     "start_time": "2023-03-29T07:37:18.594198Z"
    }
   },
   "source": [
    "### v3\n",
    "Возвращает подробную информацию по всем начислениям. Максимальный период, за который можно получить информацию в одном запросе — 1 месяц.\n",
    "\n",
    "Если в запросе не указывать posting_number, то в ответе будут все отправления за указанный период или отправления определённого типа.\n",
    "https://docs.ozon.ru/api/seller/#operation/FinanceAPI_FinanceTransactionListV3\n"
   ]
  },
  {
   "cell_type": "code",
   "execution_count": null,
   "id": "f63e6647",
   "metadata": {},
   "outputs": [],
   "source": []
  },
  {
   "cell_type": "code",
   "execution_count": null,
   "id": "b262ff96",
   "metadata": {},
   "outputs": [],
   "source": []
  },
  {
   "cell_type": "code",
   "execution_count": null,
   "id": "56d4b111",
   "metadata": {},
   "outputs": [],
   "source": []
  },
  {
   "cell_type": "code",
   "execution_count": null,
   "id": "5964fde7",
   "metadata": {},
   "outputs": [],
   "source": []
  },
  {
   "cell_type": "code",
   "execution_count": null,
   "id": "3e681f6b",
   "metadata": {},
   "outputs": [],
   "source": []
  },
  {
   "cell_type": "code",
   "execution_count": null,
   "id": "3ecbdce0",
   "metadata": {},
   "outputs": [],
   "source": []
  },
  {
   "cell_type": "code",
   "execution_count": null,
   "id": "40647282",
   "metadata": {},
   "outputs": [],
   "source": []
  },
  {
   "cell_type": "code",
   "execution_count": null,
   "id": "7a3cccad",
   "metadata": {},
   "outputs": [],
   "source": []
  },
  {
   "cell_type": "code",
   "execution_count": null,
   "id": "60a4d5c5",
   "metadata": {},
   "outputs": [],
   "source": []
  },
  {
   "cell_type": "code",
   "execution_count": null,
   "id": "58b3fe7c",
   "metadata": {},
   "outputs": [],
   "source": []
  },
  {
   "cell_type": "code",
   "execution_count": null,
   "id": "925380f0",
   "metadata": {},
   "outputs": [],
   "source": []
  },
  {
   "cell_type": "code",
   "execution_count": null,
   "id": "2ef14278",
   "metadata": {},
   "outputs": [],
   "source": []
  },
  {
   "cell_type": "code",
   "execution_count": null,
   "id": "7042eeec",
   "metadata": {},
   "outputs": [],
   "source": []
  },
  {
   "cell_type": "code",
   "execution_count": null,
   "id": "c32f0c04",
   "metadata": {
    "ExecuteTime": {
     "start_time": "2023-03-31T11:24:33.373Z"
    }
   },
   "outputs": [],
   "source": [
    "!ipython -V"
   ]
  },
  {
   "cell_type": "code",
   "execution_count": null,
   "id": "53284336",
   "metadata": {
    "ExecuteTime": {
     "end_time": "2023-03-31T10:20:38.692516Z",
     "start_time": "2023-03-31T10:20:38.574643Z"
    }
   },
   "outputs": [],
   "source": [
    "!conda update jupyter"
   ]
  },
  {
   "cell_type": "code",
   "execution_count": null,
   "id": "068990e9",
   "metadata": {
    "ExecuteTime": {
     "end_time": "2023-03-30T09:10:22.618162Z",
     "start_time": "2023-03-30T09:10:22.612968Z"
    }
   },
   "outputs": [],
   "source": [
    "# pandarallel.initialize(progress_bar=True)\n",
    "\n",
    "# # df.apply(func)\n",
    "# # df.parallel_apply(func)\n",
    "\n",
    "# import pandas as pd\n",
    "# import requests\n",
    "\n",
    "# from tqdm import tqdm\n",
    "# tqdm.pandas()\n",
    "\n",
    "# from pandarallel import pandarallel\n",
    "# pandarallel.initialize(progress_bar=True)"
   ]
  },
  {
   "cell_type": "code",
   "execution_count": null,
   "id": "1546ee30",
   "metadata": {},
   "outputs": [],
   "source": []
  },
  {
   "cell_type": "code",
   "execution_count": null,
   "id": "c4d18c55",
   "metadata": {},
   "outputs": [],
   "source": []
  },
  {
   "cell_type": "code",
   "execution_count": null,
   "id": "1d401b1e",
   "metadata": {},
   "outputs": [],
   "source": []
  },
  {
   "cell_type": "code",
   "execution_count": null,
   "id": "e17946b2",
   "metadata": {
    "ExecuteTime": {
     "end_time": "2023-03-29T11:47:09.788039Z",
     "start_time": "2023-03-29T11:47:09.781366Z"
    }
   },
   "outputs": [],
   "source": []
  },
  {
   "cell_type": "code",
   "execution_count": null,
   "id": "538b7fed",
   "metadata": {},
   "outputs": [],
   "source": []
  },
  {
   "cell_type": "code",
   "execution_count": null,
   "id": "f7ce6bf7",
   "metadata": {},
   "outputs": [],
   "source": []
  },
  {
   "cell_type": "code",
   "execution_count": null,
   "id": "e3be3302",
   "metadata": {},
   "outputs": [],
   "source": []
  },
  {
   "cell_type": "code",
   "execution_count": null,
   "id": "723420b2",
   "metadata": {},
   "outputs": [],
   "source": []
  },
  {
   "cell_type": "code",
   "execution_count": null,
   "id": "49696cea",
   "metadata": {},
   "outputs": [],
   "source": []
  },
  {
   "cell_type": "code",
   "execution_count": null,
   "id": "84a1b6d8",
   "metadata": {},
   "outputs": [],
   "source": []
  },
  {
   "cell_type": "code",
   "execution_count": null,
   "id": "5abb4c33",
   "metadata": {},
   "outputs": [],
   "source": []
  },
  {
   "cell_type": "code",
   "execution_count": null,
   "id": "ebaa7f15",
   "metadata": {},
   "outputs": [],
   "source": []
  },
  {
   "cell_type": "code",
   "execution_count": null,
   "id": "50da0c7c",
   "metadata": {},
   "outputs": [],
   "source": []
  },
  {
   "cell_type": "code",
   "execution_count": null,
   "id": "2a0d4feb",
   "metadata": {},
   "outputs": [],
   "source": []
  },
  {
   "cell_type": "code",
   "execution_count": null,
   "id": "429549fa",
   "metadata": {},
   "outputs": [],
   "source": []
  },
  {
   "cell_type": "code",
   "execution_count": null,
   "id": "88bfbfed",
   "metadata": {},
   "outputs": [],
   "source": []
  }
 ],
 "metadata": {
  "hide_input": false,
  "kernelspec": {
   "display_name": "python39-spark-conda",
   "language": "python",
   "name": "python39-spark-conda"
  },
  "language_info": {
   "codemirror_mode": {
    "name": "ipython",
    "version": 3
   },
   "file_extension": ".py",
   "mimetype": "text/x-python",
   "name": "python",
   "nbconvert_exporter": "python",
   "pygments_lexer": "ipython3",
   "version": "3.9.7"
  },
  "toc": {
   "base_numbering": 1,
   "nav_menu": {},
   "number_sections": false,
   "sideBar": true,
   "skip_h1_title": false,
   "title_cell": "Table of Contents",
   "title_sidebar": "Contents",
   "toc_cell": false,
   "toc_position": {
    "height": "1076px",
    "left": "198px",
    "top": "311.75px",
    "width": "419px"
   },
   "toc_section_display": true,
   "toc_window_display": true
  },
  "varInspector": {
   "cols": {
    "lenName": 16,
    "lenType": 16,
    "lenVar": 40
   },
   "kernels_config": {
    "python": {
     "delete_cmd_postfix": "",
     "delete_cmd_prefix": "del ",
     "library": "var_list.py",
     "varRefreshCmd": "print(var_dic_list())"
    },
    "r": {
     "delete_cmd_postfix": ") ",
     "delete_cmd_prefix": "rm(",
     "library": "var_list.r",
     "varRefreshCmd": "cat(var_dic_list()) "
    }
   },
   "types_to_exclude": [
    "module",
    "function",
    "builtin_function_or_method",
    "instance",
    "_Feature"
   ],
   "window_display": false
  }
 },
 "nbformat": 4,
 "nbformat_minor": 5
}
