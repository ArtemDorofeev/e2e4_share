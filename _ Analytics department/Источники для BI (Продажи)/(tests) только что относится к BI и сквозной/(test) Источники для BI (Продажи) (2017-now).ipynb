{
 "cells": [
  {
   "cell_type": "markdown",
   "id": "8181258a",
   "metadata": {
    "ExecuteTime": {
     "end_time": "2022-01-26T10:45:08.909176Z",
     "start_time": "2022-01-26T10:45:08.905523Z"
    }
   },
   "source": [
    "# Фоновый отчет по выручке (по дате продажи) БЕЗ возвратов\n",
    "<span class=\"burk\">admin</span>"
   ]
  },
  {
   "cell_type": "markdown",
   "id": "daa139b1",
   "metadata": {},
   "source": [
    "# По месяцам"
   ]
  },
  {
   "cell_type": "markdown",
   "id": "7686ea72",
   "metadata": {},
   "source": [
    "##  Делаем магию %magic %run"
   ]
  },
  {
   "cell_type": "code",
   "execution_count": 133,
   "id": "06bbed2a",
   "metadata": {
    "ExecuteTime": {
     "end_time": "2022-03-01T12:29:18.559451Z",
     "start_time": "2022-03-01T12:29:18.556471Z"
    }
   },
   "outputs": [],
   "source": [
    "# #  запуск всех модулей кроме (НЕ КАНАЮТ ПЕРЕМЕННЫЕ! надо через magic тогда все четка)\n",
    "# def exec_f(path_exec):\n",
    "#     with open( path_exec,'r') as exec_f:\n",
    "#         exec(exec_f.read())\n",
    "# [ exec_f(j) for j in glob.glob(r\"/var/lib/private/**/_ Additions/*\", recursive=True) if 'Imports_Formats' not in j];"
   ]
  },
  {
   "cell_type": "code",
   "execution_count": 134,
   "id": "6b58cac7",
   "metadata": {
    "ExecuteTime": {
     "end_time": "2022-03-01T12:29:18.855407Z",
     "start_time": "2022-03-01T12:29:18.786317Z"
    }
   },
   "outputs": [
    {
     "name": "stdout",
     "output_type": "stream",
     "text": [
      "(1, 1) \n",
      " /home/slebedev/jhub-analytics/ \n",
      " /home/slebedev/jhub-analytics/Аналитика/_DATA/ \n",
      " 2017-01-01 2022-04-01 \n",
      "\n"
     ]
    }
   ],
   "source": [
    "# magic\n",
    "############################################################\n",
    "# magic не запускаются с посмощью run !! поэтому отдельно будут тут! # %magic # посмотреть список magic команд\n",
    "%matplotlib inline\n",
    "\n",
    "# run files\n",
    "%run /srv/jhub/share/._Additions/Import_libs.py\n",
    "%run /srv/jhub/share/._Additions/Connecting_.py\n",
    "%run /srv/jhub/share/._Additions/my_script.py\n",
    "%run /srv/jhub/share/._Additions/Date_gen.py\n",
    "%run /srv/jhub/share/._Additions/xx.py\n",
    "\n",
    "# print\n",
    "###########################\n",
    "#################################\n",
    "print(\n",
    "df_test_xx.shape, '\\n'\n",
    ",abs_path, '\\n' # abs_path - путь до шары (видна всем езерам - '/srv/jhub/share/')\n",
    ",path_OUT_dbDATA, '\\n'\n",
    ",date_start, date_end, '\\n'\n",
    ")\n",
    "############################## End ##############################"
   ]
  },
  {
   "cell_type": "code",
   "execution_count": 135,
   "id": "bcc0a083",
   "metadata": {
    "ExecuteTime": {
     "end_time": "2022-03-01T12:29:19.012778Z",
     "start_time": "2022-03-01T12:29:19.008102Z"
    }
   },
   "outputs": [
    {
     "data": {
      "text/plain": [
       "'/tmp/'"
      ]
     },
     "execution_count": 135,
     "metadata": {},
     "output_type": "execute_result"
    }
   ],
   "source": [
    "temp_tmp"
   ]
  },
  {
   "cell_type": "code",
   "execution_count": 136,
   "id": "8143092f",
   "metadata": {
    "ExecuteTime": {
     "end_time": "2022-03-01T12:29:19.767399Z",
     "start_time": "2022-03-01T12:29:19.760727Z"
    }
   },
   "outputs": [
    {
     "name": "stdout",
     "output_type": "stream",
     "text": [
      "\n",
      "2022-02-03 00:45:23 || [АВТОЗАПУСК] [last2month] Источники для BI (Продажи).py || время выполнения = 26 days, 18:43:55\n",
      "/opt/anaconda3/envs/jupyter_env/bin/ipython\n",
      "/home/slebedev/jhub-analytics/'_ Analytics department'/'Источники для BI (Продажи)'/'[АВТОЗАПУСК] [last2month] Источники для BI (Продажи).py'\n"
     ]
    }
   ],
   "source": [
    "\n",
    "# В НАЧАЛЕ СКРИПТА АВТОЗАПУСКА\n",
    "# start_datetime = datetime.datetime.today()\n",
    "# name_file = r'[АВТОЗАПУСК] [last2month] Источники для BI (Продажи).py'\n",
    "# path_ipy = r\"/opt/anaconda3/envs/jupyter_env/bin/ipython\" \n",
    "# path_file = r\"/home/slebedev/jhub-analytics/'_ Analytics department'/'Источники для BI (Продажи)'/'[АВТОЗАПУСК] [last2month] Источники для BI (Продажи).py'\" \n",
    "\n",
    "\n",
    "# https://jhub.e2e4.ru/user/slebedev/edit/jhub-analytics/%D0%90%D0%BD%D0%B0%D0%BB%D0%B8%D1%82%D0%B8%D0%BA%D0%B0/._Additions/my_script.py\n",
    "def cron_logs( start_datetime, name_file, path_ipy, path_file ):    \n",
    "    time_diff = str(datetime.datetime.today() - start_datetime) \n",
    "    \n",
    "    print( '\\n'\n",
    "        + start_datetime.strftime('%Y-%m-%d %H:%M:%S') + ' || ' \\\n",
    "        + name_file  + ' || время выполнения = ' + str(datetime.datetime.today() - start_datetime).split('.')[0] + '\\n' \\\n",
    "        + path_ipy + '\\n' + path_file \n",
    "         )\n",
    "    \n",
    "#     with open(r'/home/slebedev/jhub-analytics/crontab/crontab.txt', 'a+', encoding='utf-8') as file:\n",
    "#         file.write(\n",
    "#             start_datetime.strftime('%Y-%m-%d %H:%M:%S') + ' || ' \\\n",
    "#             + name_file  + ' || время выполнения = ' + str(datetime.datetime.today() - start_datetime) + '\\n' \\\n",
    "#             + path_ipy + '\\n' + path_file \n",
    "#             )\n",
    "\n",
    "    \n",
    "    \n",
    "# В КОНЦЕ СКРИПТА АВТОЗАПУСКА!\n",
    "cron_logs( start_datetime=start_datetime, name_file=name_file, path_ipy=path_ipy, path_file=path_file, )"
   ]
  },
  {
   "cell_type": "code",
   "execution_count": null,
   "id": "5186b5a2",
   "metadata": {
    "ExecuteTime": {
     "end_time": "2022-02-02T12:14:05.843092Z",
     "start_time": "2022-02-02T12:14:05.832754Z"
    }
   },
   "outputs": [],
   "source": []
  },
  {
   "cell_type": "code",
   "execution_count": 137,
   "id": "b9983326",
   "metadata": {
    "ExecuteTime": {
     "end_time": "2022-03-01T12:29:28.223316Z",
     "start_time": "2022-03-01T12:29:28.219514Z"
    }
   },
   "outputs": [
    {
     "data": {
      "text/plain": [
       "datetime.datetime(2022, 2, 3, 0, 45, 23, 947641)"
      ]
     },
     "execution_count": 137,
     "metadata": {},
     "output_type": "execute_result"
    }
   ],
   "source": [
    "start_datetime"
   ]
  },
  {
   "cell_type": "code",
   "execution_count": null,
   "id": "391d83a5",
   "metadata": {},
   "outputs": [],
   "source": []
  },
  {
   "cell_type": "code",
   "execution_count": null,
   "id": "5dadaa8f",
   "metadata": {},
   "outputs": [],
   "source": []
  },
  {
   "cell_type": "code",
   "execution_count": 138,
   "id": "1afcf930",
   "metadata": {
    "ExecuteTime": {
     "end_time": "2022-03-01T12:29:29.117993Z",
     "start_time": "2022-03-01T12:29:29.115087Z"
    }
   },
   "outputs": [
    {
     "name": "stdout",
     "output_type": "stream",
     "text": [
      "lyfyjh\n"
     ]
    }
   ],
   "source": [
    "print(\"lyfyjh\")"
   ]
  },
  {
   "cell_type": "code",
   "execution_count": null,
   "id": "6a0ff826",
   "metadata": {},
   "outputs": [],
   "source": []
  },
  {
   "cell_type": "code",
   "execution_count": null,
   "id": "bf55fad6",
   "metadata": {},
   "outputs": [],
   "source": []
  },
  {
   "cell_type": "markdown",
   "id": "8cc61774",
   "metadata": {},
   "source": [
    "## Путь к sql"
   ]
  },
  {
   "cell_type": "code",
   "execution_count": 139,
   "id": "d7ceea34",
   "metadata": {
    "ExecuteTime": {
     "end_time": "2022-03-01T12:29:31.346218Z",
     "start_time": "2022-03-01T12:29:31.322631Z"
    }
   },
   "outputs": [
    {
     "ename": "IndexError",
     "evalue": "list index out of range",
     "output_type": "error",
     "traceback": [
      "\u001b[0;31m---------------------------------------------------------------------------\u001b[0m",
      "\u001b[0;31mIndexError\u001b[0m                                Traceback (most recent call last)",
      "\u001b[0;32m/tmp/ipykernel_809105/3669666448.py\u001b[0m in \u001b[0;36m<module>\u001b[0;34m\u001b[0m\n\u001b[0;32m----> 1\u001b[0;31m \u001b[0mpath_SQL_fon\u001b[0m \u001b[0;34m=\u001b[0m \u001b[0mglob\u001b[0m\u001b[0;34m.\u001b[0m\u001b[0mglob\u001b[0m\u001b[0;34m(\u001b[0m\u001b[0mabs_path\u001b[0m \u001b[0;34m+\u001b[0m \u001b[0;34mr'**/'\u001b[0m \u001b[0;34m+\u001b[0m \u001b[0;34mr\"Источники для BI (Продажи).sql\"\u001b[0m\u001b[0;34m,\u001b[0m \u001b[0mrecursive\u001b[0m\u001b[0;34m=\u001b[0m\u001b[0;32mTrue\u001b[0m\u001b[0;34m)\u001b[0m\u001b[0;34m[\u001b[0m\u001b[0;36m0\u001b[0m\u001b[0;34m]\u001b[0m\u001b[0;34m\u001b[0m\u001b[0;34m\u001b[0m\u001b[0m\n\u001b[0m\u001b[1;32m      2\u001b[0m \u001b[0mprint\u001b[0m\u001b[0;34m(\u001b[0m\u001b[0mpath_SQL_fon\u001b[0m\u001b[0;34m)\u001b[0m\u001b[0;34m\u001b[0m\u001b[0;34m\u001b[0m\u001b[0m\n",
      "\u001b[0;31mIndexError\u001b[0m: list index out of range"
     ]
    }
   ],
   "source": [
    "path_SQL_fon = glob.glob(abs_path + r'**/' + r\"Источники для BI (Продажи).sql\", recursive=True)[0]\n",
    "print(path_SQL_fon)"
   ]
  },
  {
   "cell_type": "markdown",
   "id": "ffc51441",
   "metadata": {},
   "source": [
    "## Путь куда будут выгружены файлы "
   ]
  },
  {
   "cell_type": "code",
   "execution_count": 140,
   "id": "f8b305b2",
   "metadata": {
    "ExecuteTime": {
     "end_time": "2022-03-01T12:29:32.324915Z",
     "start_time": "2022-03-01T12:29:32.321114Z"
    }
   },
   "outputs": [
    {
     "data": {
      "text/plain": [
       "'/home/slebedev/jhub-analytics/Аналитика/_DATA/'"
      ]
     },
     "execution_count": 140,
     "metadata": {},
     "output_type": "execute_result"
    }
   ],
   "source": [
    "path_OUT_dbDATA"
   ]
  },
  {
   "cell_type": "markdown",
   "id": "f7f54068",
   "metadata": {},
   "source": [
    "## Качнуть за какую то опредлеленную дату"
   ]
  },
  {
   "cell_type": "code",
   "execution_count": 141,
   "id": "215456a0",
   "metadata": {
    "ExecuteTime": {
     "end_time": "2022-03-01T12:29:34.214919Z",
     "start_time": "2022-03-01T12:29:34.212269Z"
    }
   },
   "outputs": [],
   "source": [
    "# Качнуть за какую то опредлеленную дату\n",
    "# date_start = '01.01.2021'\n",
    "# date_end = '30.06.2021'\n",
    "# df_fon = pd.DataFrame()\n",
    "# with open( path_SQL_fon, \"r\", encoding = \"utf-8\" ) as sql_file:\n",
    "# #        коннектимся\n",
    "#     with psycopg2.connect(dbname=database, user=user, password=password, host=host) as cnxn:\n",
    "# #             читаем sql file, подставляем даты\n",
    "#         df_fon = pd.read_sql_query(sql_file.read().replace('DATE_START_replce', f'{ date_start }').replace('DATE_END_replce', f'{ date_end }'), cnxn)\n",
    "\n",
    "# df_fon.to_csv(path_OUT_dbDATA + r'Фоновый отчет по выручке (по дате продажи) с возвратами/' \\\n",
    "#         + fr'df_fon { date_start } { date_end }.csv', sep='☺',  index=True) # cp-1251 encoding='UTF-8', engine='xlsxwriter'\n",
    "# df_fon.to_excel(path_OUT_dbDATA + r'Фоновый отчет по выручке (по дате продажи) с возвратами/' \\\n",
    "#         + fr'df_fon { date_start } { date_end }.xlsx') # cp-1251 encoding='UTF-8', engine='xlsxwriter'\n",
    "\n",
    "# print(df_fon)\n",
    "# df_fon\n",
    "# print('\\n\\n\\n*** End ***\\n\\n\\n')"
   ]
  },
  {
   "cell_type": "markdown",
   "id": "546acee4",
   "metadata": {
    "ExecuteTime": {
     "end_time": "2022-01-26T10:50:48.257217Z",
     "start_time": "2022-01-26T10:50:48.253748Z"
    }
   },
   "source": [
    "## Грузим, записываем (read sql file, connect, to_csv/xlsx)\n",
    "<span class=\"mark\">по месяцам</span>"
   ]
  },
  {
   "cell_type": "code",
   "execution_count": 142,
   "id": "868403a3",
   "metadata": {
    "ExecuteTime": {
     "end_time": "2022-03-01T12:29:35.609270Z",
     "start_time": "2022-03-01T12:29:35.603267Z"
    },
    "scrolled": true
   },
   "outputs": [
    {
     "data": {
      "text/plain": [
       "('2017-01-01',\n",
       " '2022-03-31',\n",
       "          start         end\n",
       " 61  2022-02-01  2022-02-28\n",
       " 62  2022-03-01  2022-03-31)"
      ]
     },
     "execution_count": 142,
     "metadata": {},
     "output_type": "execute_result"
    }
   ],
   "source": [
    "date_df_start = df_date_m['start'][0]\n",
    "date_df_end = df_date_m.iloc[-1, -1]\n",
    "date_df_start, date_df_end, df_date_m.iloc[-2:, :]\n",
    "\n",
    "# df_date_m = pd.DataFrame([['2021-11-01','2021-11-30']], columns = ['start','end'])\n",
    "# df_date_m"
   ]
  },
  {
   "cell_type": "code",
   "execution_count": 18,
   "id": "eca8d93b",
   "metadata": {
    "ExecuteTime": {
     "end_time": "2022-02-02T07:55:23.573135Z",
     "start_time": "2022-02-02T07:55:22.894558Z"
    }
   },
   "outputs": [],
   "source": [
    "# public_link = '''https://nextcloud.e2e4.ru/apps/files/?dir=/Public/Отчеты%20(выгрузка%20jupyter%20notebooks)&fileid=2018892'''\n",
    "AmazonS3_folder_Public = r'/Public/Отчеты (выгрузка jupyter notebooks)'\n",
    "AmazonS3_path_to_file = r'/Источники для BI/Продажи/'\n",
    "# print('AmazonS3_file_name - ', AmazonS3_file_name, '/nAmazonS3_full_path - ', AmazonS3_full_path)\n",
    "Amazon_owncloud = owncloud.Client('https://nextcloud.e2e4.ru')\n",
    "Amazon_owncloud.login(loginAtlassianjhubAdmin, passwordAtlassianjhubAdmin)\n",
    "### Amazon_owncloud.mkdir('testdir')"
   ]
  },
  {
   "cell_type": "code",
   "execution_count": null,
   "id": "52e7f895",
   "metadata": {
    "ExecuteTime": {
     "start_time": "2022-01-31T07:11:46.454Z"
    },
    "scrolled": true
   },
   "outputs": [
    {
     "name": "stdout",
     "output_type": "stream",
     "text": [
      "\n",
      "\n",
      "2017-01-01 || 2017-01-31 \n",
      "\n",
      "Файл записан в облако\n",
      "/Public/Отчеты (выгрузка jupyter notebooks)/Источники для BI/Продажи/Источники для BI (Продажи) 2017-01-01 - 2017-01-31.xlsx\n",
      "Файл записан в облако\n",
      "/Public/Отчеты (выгрузка jupyter notebooks)/Источники для BI/Продажи/Источники для BI (Продажи) 2017-01-01 - 2017-01-31.pkl\n",
      "200.0638666152954MiB (gives results in MiB)\n",
      "\n",
      "\n",
      "2017-02-01 || 2017-02-28 \n",
      "\n",
      "Файл записан в облако\n",
      "/Public/Отчеты (выгрузка jupyter notebooks)/Источники для BI/Продажи/Источники для BI (Продажи) 2017-02-01 - 2017-02-28.xlsx\n",
      "Файл записан в облако\n",
      "/Public/Отчеты (выгрузка jupyter notebooks)/Источники для BI/Продажи/Источники для BI (Продажи) 2017-02-01 - 2017-02-28.pkl\n",
      "219.78146362304688MiB (gives results in MiB)\n",
      "\n",
      "\n",
      "2017-03-01 || 2017-03-31 \n",
      "\n",
      "Файл записан в облако\n",
      "/Public/Отчеты (выгрузка jupyter notebooks)/Источники для BI/Продажи/Источники для BI (Продажи) 2017-03-01 - 2017-03-31.xlsx\n",
      "Файл записан в облако\n",
      "/Public/Отчеты (выгрузка jupyter notebooks)/Источники для BI/Продажи/Источники для BI (Продажи) 2017-03-01 - 2017-03-31.pkl\n",
      "258.671368598938MiB (gives results in MiB)\n",
      "\n",
      "\n",
      "2017-04-01 || 2017-04-30 \n",
      "\n",
      "Файл записан в облако\n",
      "/Public/Отчеты (выгрузка jupyter notebooks)/Источники для BI/Продажи/Источники для BI (Продажи) 2017-04-01 - 2017-04-30.xlsx\n",
      "Файл записан в облако\n",
      "/Public/Отчеты (выгрузка jupyter notebooks)/Источники для BI/Продажи/Источники для BI (Продажи) 2017-04-01 - 2017-04-30.pkl\n",
      "245.0917797088623MiB (gives results in MiB)\n",
      "\n",
      "\n",
      "2017-05-01 || 2017-05-31 \n",
      "\n",
      "Файл записан в облако\n",
      "/Public/Отчеты (выгрузка jupyter notebooks)/Источники для BI/Продажи/Источники для BI (Продажи) 2017-05-01 - 2017-05-31.xlsx\n",
      "Файл записан в облако\n",
      "/Public/Отчеты (выгрузка jupyter notebooks)/Источники для BI/Продажи/Источники для BI (Продажи) 2017-05-01 - 2017-05-31.pkl\n",
      "224.7997646331787MiB (gives results in MiB)\n",
      "\n",
      "\n",
      "2017-06-01 || 2017-06-30 \n",
      "\n",
      "Файл записан в облако\n",
      "/Public/Отчеты (выгрузка jupyter notebooks)/Источники для BI/Продажи/Источники для BI (Продажи) 2017-06-01 - 2017-06-30.xlsx\n",
      "Файл записан в облако\n",
      "/Public/Отчеты (выгрузка jupyter notebooks)/Источники для BI/Продажи/Источники для BI (Продажи) 2017-06-01 - 2017-06-30.pkl\n",
      "245.00482082366943MiB (gives results in MiB)\n",
      "\n",
      "\n",
      "2017-07-01 || 2017-07-31 \n",
      "\n",
      "Файл записан в облако\n",
      "/Public/Отчеты (выгрузка jupyter notebooks)/Источники для BI/Продажи/Источники для BI (Продажи) 2017-07-01 - 2017-07-31.xlsx\n",
      "Файл записан в облако\n",
      "/Public/Отчеты (выгрузка jupyter notebooks)/Источники для BI/Продажи/Источники для BI (Продажи) 2017-07-01 - 2017-07-31.pkl\n",
      "235.3841962814331MiB (gives results in MiB)\n",
      "\n",
      "\n",
      "2017-08-01 || 2017-08-31 \n",
      "\n",
      "Файл записан в облако\n",
      "/Public/Отчеты (выгрузка jupyter notebooks)/Источники для BI/Продажи/Источники для BI (Продажи) 2017-08-01 - 2017-08-31.xlsx\n",
      "Файл записан в облако\n",
      "/Public/Отчеты (выгрузка jupyter notebooks)/Источники для BI/Продажи/Источники для BI (Продажи) 2017-08-01 - 2017-08-31.pkl\n",
      "254.12320137023926MiB (gives results in MiB)\n",
      "\n",
      "\n",
      "2017-09-01 || 2017-09-30 \n",
      "\n",
      "Файл записан в облако\n",
      "/Public/Отчеты (выгрузка jupyter notebooks)/Источники для BI/Продажи/Источники для BI (Продажи) 2017-09-01 - 2017-09-30.xlsx\n",
      "Файл записан в облако\n",
      "/Public/Отчеты (выгрузка jupyter notebooks)/Источники для BI/Продажи/Источники для BI (Продажи) 2017-09-01 - 2017-09-30.pkl\n",
      "261.0845355987549MiB (gives results in MiB)\n",
      "\n",
      "\n",
      "2017-10-01 || 2017-10-31 \n",
      "\n",
      "Файл записан в облако\n",
      "/Public/Отчеты (выгрузка jupyter notebooks)/Источники для BI/Продажи/Источники для BI (Продажи) 2017-10-01 - 2017-10-31.xlsx\n",
      "Файл записан в облако\n",
      "/Public/Отчеты (выгрузка jupyter notebooks)/Источники для BI/Продажи/Источники для BI (Продажи) 2017-10-01 - 2017-10-31.pkl\n",
      "302.28716468811035MiB (gives results in MiB)\n",
      "\n",
      "\n",
      "2017-11-01 || 2017-11-30 \n",
      "\n",
      "Файл записан в облако\n",
      "/Public/Отчеты (выгрузка jupyter notebooks)/Источники для BI/Продажи/Источники для BI (Продажи) 2017-11-01 - 2017-11-30.xlsx\n",
      "Файл записан в облако\n",
      "/Public/Отчеты (выгрузка jupyter notebooks)/Источники для BI/Продажи/Источники для BI (Продажи) 2017-11-01 - 2017-11-30.pkl\n",
      "290.54225730895996MiB (gives results in MiB)\n",
      "\n",
      "\n",
      "2017-12-01 || 2017-12-31 \n",
      "\n",
      "Файл записан в облако\n",
      "/Public/Отчеты (выгрузка jupyter notebooks)/Источники для BI/Продажи/Источники для BI (Продажи) 2017-12-01 - 2017-12-31.xlsx\n",
      "Файл записан в облако\n",
      "/Public/Отчеты (выгрузка jupyter notebooks)/Источники для BI/Продажи/Источники для BI (Продажи) 2017-12-01 - 2017-12-31.pkl\n",
      "334.58037662506104MiB (gives results in MiB)\n",
      "\n",
      "\n",
      "2018-01-01 || 2018-01-31 \n",
      "\n",
      "Файл записан в облако\n",
      "/Public/Отчеты (выгрузка jupyter notebooks)/Источники для BI/Продажи/Источники для BI (Продажи) 2018-01-01 - 2018-01-31.xlsx\n",
      "Файл записан в облако\n",
      "/Public/Отчеты (выгрузка jupyter notebooks)/Источники для BI/Продажи/Источники для BI (Продажи) 2018-01-01 - 2018-01-31.pkl\n",
      "215.8079957962036MiB (gives results in MiB)\n",
      "\n",
      "\n",
      "2018-02-01 || 2018-02-28 \n",
      "\n",
      "Файл записан в облако\n",
      "/Public/Отчеты (выгрузка jupyter notebooks)/Источники для BI/Продажи/Источники для BI (Продажи) 2018-02-01 - 2018-02-28.xlsx\n",
      "Файл записан в облако\n",
      "/Public/Отчеты (выгрузка jupyter notebooks)/Источники для BI/Продажи/Источники для BI (Продажи) 2018-02-01 - 2018-02-28.pkl\n",
      "263.51683044433594MiB (gives results in MiB)\n",
      "\n",
      "\n",
      "2018-03-01 || 2018-03-31 \n",
      "\n",
      "Файл записан в облако\n",
      "/Public/Отчеты (выгрузка jupyter notebooks)/Источники для BI/Продажи/Источники для BI (Продажи) 2018-03-01 - 2018-03-31.xlsx\n",
      "Файл записан в облако\n",
      "/Public/Отчеты (выгрузка jupyter notebooks)/Источники для BI/Продажи/Источники для BI (Продажи) 2018-03-01 - 2018-03-31.pkl\n",
      "267.77519607543945MiB (gives results in MiB)\n",
      "\n",
      "\n",
      "2018-04-01 || 2018-04-30 \n",
      "\n",
      "Файл записан в облако\n",
      "/Public/Отчеты (выгрузка jupyter notebooks)/Источники для BI/Продажи/Источники для BI (Продажи) 2018-04-01 - 2018-04-30.xlsx\n",
      "Файл записан в облако\n",
      "/Public/Отчеты (выгрузка jupyter notebooks)/Источники для BI/Продажи/Источники для BI (Продажи) 2018-04-01 - 2018-04-30.pkl\n",
      "277.36662578582764MiB (gives results in MiB)\n",
      "\n",
      "\n",
      "2018-05-01 || 2018-05-31 \n",
      "\n",
      "Файл записан в облако\n",
      "/Public/Отчеты (выгрузка jupyter notebooks)/Источники для BI/Продажи/Источники для BI (Продажи) 2018-05-01 - 2018-05-31.xlsx\n",
      "Файл записан в облако\n",
      "/Public/Отчеты (выгрузка jupyter notebooks)/Источники для BI/Продажи/Источники для BI (Продажи) 2018-05-01 - 2018-05-31.pkl\n",
      "277.5119676589966MiB (gives results in MiB)\n",
      "\n",
      "\n",
      "2018-06-01 || 2018-06-30 \n",
      "\n",
      "Файл записан в облако\n",
      "/Public/Отчеты (выгрузка jupyter notebooks)/Источники для BI/Продажи/Источники для BI (Продажи) 2018-06-01 - 2018-06-30.xlsx\n",
      "Файл записан в облако\n",
      "/Public/Отчеты (выгрузка jupyter notebooks)/Источники для BI/Продажи/Источники для BI (Продажи) 2018-06-01 - 2018-06-30.pkl\n",
      "259.53439140319824MiB (gives results in MiB)\n",
      "\n",
      "\n",
      "2018-07-01 || 2018-07-31 \n",
      "\n",
      "Файл записан в облако\n",
      "/Public/Отчеты (выгрузка jupyter notebooks)/Источники для BI/Продажи/Источники для BI (Продажи) 2018-07-01 - 2018-07-31.xlsx\n",
      "Файл записан в облако\n",
      "/Public/Отчеты (выгрузка jupyter notebooks)/Источники для BI/Продажи/Источники для BI (Продажи) 2018-07-01 - 2018-07-31.pkl\n",
      "271.66369342803955MiB (gives results in MiB)\n",
      "\n",
      "\n",
      "2018-08-01 || 2018-08-31 \n",
      "\n",
      "Файл записан в облако\n",
      "/Public/Отчеты (выгрузка jupyter notebooks)/Источники для BI/Продажи/Источники для BI (Продажи) 2018-08-01 - 2018-08-31.xlsx\n",
      "Файл записан в облако\n",
      "/Public/Отчеты (выгрузка jupyter notebooks)/Источники для BI/Продажи/Источники для BI (Продажи) 2018-08-01 - 2018-08-31.pkl\n",
      "285.60375785827637MiB (gives results in MiB)\n",
      "\n",
      "\n",
      "2018-09-01 || 2018-09-30 \n",
      "\n",
      "Файл записан в облако\n",
      "/Public/Отчеты (выгрузка jupyter notebooks)/Источники для BI/Продажи/Источники для BI (Продажи) 2018-09-01 - 2018-09-30.xlsx\n",
      "Файл записан в облако\n",
      "/Public/Отчеты (выгрузка jupyter notebooks)/Источники для BI/Продажи/Источники для BI (Продажи) 2018-09-01 - 2018-09-30.pkl\n",
      "279.5997066497803MiB (gives results in MiB)\n",
      "\n",
      "\n",
      "2018-10-01 || 2018-10-31 \n",
      "\n",
      "Файл записан в облако\n",
      "/Public/Отчеты (выгрузка jupyter notebooks)/Источники для BI/Продажи/Источники для BI (Продажи) 2018-10-01 - 2018-10-31.xlsx\n",
      "Файл записан в облако\n",
      "/Public/Отчеты (выгрузка jupyter notebooks)/Источники для BI/Продажи/Источники для BI (Продажи) 2018-10-01 - 2018-10-31.pkl\n",
      "304.4522466659546MiB (gives results in MiB)\n",
      "\n",
      "\n",
      "2018-11-01 || 2018-11-30 \n",
      "\n",
      "Файл записан в облако\n",
      "/Public/Отчеты (выгрузка jupyter notebooks)/Источники для BI/Продажи/Источники для BI (Продажи) 2018-11-01 - 2018-11-30.xlsx\n"
     ]
    },
    {
     "name": "stdout",
     "output_type": "stream",
     "text": [
      "Файл записан в облако\n",
      "/Public/Отчеты (выгрузка jupyter notebooks)/Источники для BI/Продажи/Источники для BI (Продажи) 2018-11-01 - 2018-11-30.pkl\n",
      "301.5414333343506MiB (gives results in MiB)\n",
      "\n",
      "\n",
      "2018-12-01 || 2018-12-31 \n",
      "\n",
      "Файл записан в облако\n",
      "/Public/Отчеты (выгрузка jupyter notebooks)/Источники для BI/Продажи/Источники для BI (Продажи) 2018-12-01 - 2018-12-31.xlsx\n",
      "Файл записан в облако\n",
      "/Public/Отчеты (выгрузка jupyter notebooks)/Источники для BI/Продажи/Источники для BI (Продажи) 2018-12-01 - 2018-12-31.pkl\n",
      "358.35971450805664MiB (gives results in MiB)\n",
      "\n",
      "\n",
      "2019-01-01 || 2019-01-31 \n",
      "\n",
      "Файл записан в облако\n",
      "/Public/Отчеты (выгрузка jupyter notebooks)/Источники для BI/Продажи/Источники для BI (Продажи) 2019-01-01 - 2019-01-31.xlsx\n",
      "Файл записан в облако\n",
      "/Public/Отчеты (выгрузка jupyter notebooks)/Источники для BI/Продажи/Источники для BI (Продажи) 2019-01-01 - 2019-01-31.pkl\n",
      "252.9305715560913MiB (gives results in MiB)\n",
      "\n",
      "\n",
      "2019-02-01 || 2019-02-28 \n",
      "\n",
      "Файл записан в облако\n",
      "/Public/Отчеты (выгрузка jupyter notebooks)/Источники для BI/Продажи/Источники для BI (Продажи) 2019-02-01 - 2019-02-28.xlsx\n",
      "Файл записан в облако\n",
      "/Public/Отчеты (выгрузка jupyter notebooks)/Источники для BI/Продажи/Источники для BI (Продажи) 2019-02-01 - 2019-02-28.pkl\n",
      "274.8804178237915MiB (gives results in MiB)\n",
      "\n",
      "\n",
      "2019-03-01 || 2019-03-31 \n",
      "\n",
      "Файл записан в облако\n",
      "/Public/Отчеты (выгрузка jupyter notebooks)/Источники для BI/Продажи/Источники для BI (Продажи) 2019-03-01 - 2019-03-31.xlsx\n",
      "Файл записан в облако\n",
      "/Public/Отчеты (выгрузка jupyter notebooks)/Источники для BI/Продажи/Источники для BI (Продажи) 2019-03-01 - 2019-03-31.pkl\n",
      "283.02202796936035MiB (gives results in MiB)\n",
      "\n",
      "\n",
      "2019-04-01 || 2019-04-30 \n",
      "\n",
      "Файл записан в облако\n",
      "/Public/Отчеты (выгрузка jupyter notebooks)/Источники для BI/Продажи/Источники для BI (Продажи) 2019-04-01 - 2019-04-30.xlsx\n",
      "Файл записан в облако\n",
      "/Public/Отчеты (выгрузка jupyter notebooks)/Источники для BI/Продажи/Источники для BI (Продажи) 2019-04-01 - 2019-04-30.pkl\n",
      "306.7982578277588MiB (gives results in MiB)\n",
      "\n",
      "\n",
      "2019-05-01 || 2019-05-31 \n",
      "\n",
      "Файл записан в облако\n",
      "/Public/Отчеты (выгрузка jupyter notebooks)/Источники для BI/Продажи/Источники для BI (Продажи) 2019-05-01 - 2019-05-31.xlsx\n",
      "Файл записан в облако\n",
      "/Public/Отчеты (выгрузка jupyter notebooks)/Источники для BI/Продажи/Источники для BI (Продажи) 2019-05-01 - 2019-05-31.pkl\n",
      "244.75650215148926MiB (gives results in MiB)\n",
      "\n",
      "\n",
      "2019-06-01 || 2019-06-30 \n",
      "\n",
      "Файл записан в облако\n",
      "/Public/Отчеты (выгрузка jupyter notebooks)/Источники для BI/Продажи/Источники для BI (Продажи) 2019-06-01 - 2019-06-30.xlsx\n",
      "Файл записан в облако\n",
      "/Public/Отчеты (выгрузка jupyter notebooks)/Источники для BI/Продажи/Источники для BI (Продажи) 2019-06-01 - 2019-06-30.pkl\n",
      "258.5273609161377MiB (gives results in MiB)\n",
      "\n",
      "\n",
      "2019-07-01 || 2019-07-31 \n",
      "\n",
      "Файл записан в облако\n",
      "/Public/Отчеты (выгрузка jupyter notebooks)/Источники для BI/Продажи/Источники для BI (Продажи) 2019-07-01 - 2019-07-31.xlsx\n",
      "Файл записан в облако\n",
      "/Public/Отчеты (выгрузка jupyter notebooks)/Источники для BI/Продажи/Источники для BI (Продажи) 2019-07-01 - 2019-07-31.pkl\n",
      "292.75912952423096MiB (gives results in MiB)\n",
      "\n",
      "\n",
      "2019-08-01 || 2019-08-31 \n",
      "\n",
      "Файл записан в облако\n",
      "/Public/Отчеты (выгрузка jupyter notebooks)/Источники для BI/Продажи/Источники для BI (Продажи) 2019-08-01 - 2019-08-31.xlsx\n",
      "Файл записан в облако\n",
      "/Public/Отчеты (выгрузка jupyter notebooks)/Источники для BI/Продажи/Источники для BI (Продажи) 2019-08-01 - 2019-08-31.pkl\n",
      "302.7035713195801MiB (gives results in MiB)\n",
      "\n",
      "\n",
      "2019-09-01 || 2019-09-30 \n",
      "\n",
      "Файл записан в облако\n",
      "/Public/Отчеты (выгрузка jupyter notebooks)/Источники для BI/Продажи/Источники для BI (Продажи) 2019-09-01 - 2019-09-30.xlsx\n",
      "Файл записан в облако\n",
      "/Public/Отчеты (выгрузка jupyter notebooks)/Источники для BI/Продажи/Источники для BI (Продажи) 2019-09-01 - 2019-09-30.pkl\n",
      "305.01258087158203MiB (gives results in MiB)\n",
      "\n",
      "\n",
      "2019-10-01 || 2019-10-31 \n",
      "\n",
      "Файл записан в облако\n",
      "/Public/Отчеты (выгрузка jupyter notebooks)/Источники для BI/Продажи/Источники для BI (Продажи) 2019-10-01 - 2019-10-31.xlsx\n",
      "Файл записан в облако\n",
      "/Public/Отчеты (выгрузка jupyter notebooks)/Источники для BI/Продажи/Источники для BI (Продажи) 2019-10-01 - 2019-10-31.pkl\n",
      "328.3131790161133MiB (gives results in MiB)\n",
      "\n",
      "\n",
      "2019-11-01 || 2019-11-30 \n",
      "\n",
      "Файл записан в облако\n",
      "/Public/Отчеты (выгрузка jupyter notebooks)/Источники для BI/Продажи/Источники для BI (Продажи) 2019-11-01 - 2019-11-30.xlsx\n",
      "Файл записан в облако\n",
      "/Public/Отчеты (выгрузка jupyter notebooks)/Источники для BI/Продажи/Источники для BI (Продажи) 2019-11-01 - 2019-11-30.pkl\n",
      "305.9038143157959MiB (gives results in MiB)\n",
      "\n",
      "\n",
      "2019-12-01 || 2019-12-31 \n",
      "\n",
      "Файл записан в облако\n",
      "/Public/Отчеты (выгрузка jupyter notebooks)/Источники для BI/Продажи/Источники для BI (Продажи) 2019-12-01 - 2019-12-31.xlsx\n",
      "Файл записан в облако\n",
      "/Public/Отчеты (выгрузка jupyter notebooks)/Источники для BI/Продажи/Источники для BI (Продажи) 2019-12-01 - 2019-12-31.pkl\n",
      "381.0878562927246MiB (gives results in MiB)\n",
      "\n",
      "\n",
      "2020-01-01 || 2020-01-31 \n",
      "\n",
      "Файл записан в облако\n",
      "/Public/Отчеты (выгрузка jupyter notebooks)/Источники для BI/Продажи/Источники для BI (Продажи) 2020-01-01 - 2020-01-31.xlsx\n",
      "Файл записан в облако\n",
      "/Public/Отчеты (выгрузка jupyter notebooks)/Источники для BI/Продажи/Источники для BI (Продажи) 2020-01-01 - 2020-01-31.pkl\n",
      "233.8229866027832MiB (gives results in MiB)\n",
      "\n",
      "\n",
      "2020-02-01 || 2020-02-29 \n",
      "\n",
      "Файл записан в облако\n",
      "/Public/Отчеты (выгрузка jupyter notebooks)/Источники для BI/Продажи/Источники для BI (Продажи) 2020-02-01 - 2020-02-29.xlsx\n",
      "Файл записан в облако\n",
      "/Public/Отчеты (выгрузка jupyter notebooks)/Источники для BI/Продажи/Источники для BI (Продажи) 2020-02-01 - 2020-02-29.pkl\n",
      "285.45785427093506MiB (gives results in MiB)\n",
      "\n",
      "\n",
      "2020-03-01 || 2020-03-31 \n",
      "\n",
      "Файл записан в облако\n",
      "/Public/Отчеты (выгрузка jupyter notebooks)/Источники для BI/Продажи/Источники для BI (Продажи) 2020-03-01 - 2020-03-31.xlsx\n",
      "Файл записан в облако\n",
      "/Public/Отчеты (выгрузка jupyter notebooks)/Источники для BI/Продажи/Источники для BI (Продажи) 2020-03-01 - 2020-03-31.pkl\n",
      "307.457142829895MiB (gives results in MiB)\n",
      "\n",
      "\n",
      "2020-04-01 || 2020-04-30 \n",
      "\n",
      "Файл записан в облако\n",
      "/Public/Отчеты (выгрузка jupyter notebooks)/Источники для BI/Продажи/Источники для BI (Продажи) 2020-04-01 - 2020-04-30.xlsx\n",
      "Файл записан в облако\n",
      "/Public/Отчеты (выгрузка jupyter notebooks)/Источники для BI/Продажи/Источники для BI (Продажи) 2020-04-01 - 2020-04-30.pkl\n",
      "236.712965965271MiB (gives results in MiB)\n",
      "\n",
      "\n",
      "2020-05-01 || 2020-05-31 \n",
      "\n",
      "Файл записан в облако\n",
      "/Public/Отчеты (выгрузка jupyter notebooks)/Источники для BI/Продажи/Источники для BI (Продажи) 2020-05-01 - 2020-05-31.xlsx\n",
      "Файл записан в облако\n",
      "/Public/Отчеты (выгрузка jupyter notebooks)/Источники для BI/Продажи/Источники для BI (Продажи) 2020-05-01 - 2020-05-31.pkl\n",
      "274.26661014556885MiB (gives results in MiB)\n",
      "\n",
      "\n",
      "2020-06-01 || 2020-06-30 \n",
      "\n",
      "Файл записан в облако\n",
      "/Public/Отчеты (выгрузка jupyter notebooks)/Источники для BI/Продажи/Источники для BI (Продажи) 2020-06-01 - 2020-06-30.xlsx\n",
      "Файл записан в облако\n",
      "/Public/Отчеты (выгрузка jupyter notebooks)/Источники для BI/Продажи/Источники для BI (Продажи) 2020-06-01 - 2020-06-30.pkl\n",
      "268.91059017181396MiB (gives results in MiB)\n",
      "\n",
      "\n",
      "2020-07-01 || 2020-07-31 \n",
      "\n",
      "Файл записан в облако\n",
      "/Public/Отчеты (выгрузка jupyter notebooks)/Источники для BI/Продажи/Источники для BI (Продажи) 2020-07-01 - 2020-07-31.xlsx\n",
      "Файл записан в облако\n",
      "/Public/Отчеты (выгрузка jupyter notebooks)/Источники для BI/Продажи/Источники для BI (Продажи) 2020-07-01 - 2020-07-31.pkl\n",
      "270.08996391296387MiB (gives results in MiB)\n",
      "\n",
      "\n",
      "2020-08-01 || 2020-08-31 \n",
      "\n",
      "Файл записан в облако\n",
      "/Public/Отчеты (выгрузка jupyter notebooks)/Источники для BI/Продажи/Источники для BI (Продажи) 2020-08-01 - 2020-08-31.xlsx\n",
      "Файл записан в облако\n",
      "/Public/Отчеты (выгрузка jupyter notebooks)/Источники для BI/Продажи/Источники для BI (Продажи) 2020-08-01 - 2020-08-31.pkl\n",
      "300.69155979156494MiB (gives results in MiB)\n",
      "\n",
      "\n",
      "2020-09-01 || 2020-09-30 \n",
      "\n",
      "Файл записан в облако\n",
      "/Public/Отчеты (выгрузка jupyter notebooks)/Источники для BI/Продажи/Источники для BI (Продажи) 2020-09-01 - 2020-09-30.xlsx\n",
      "Файл записан в облако\n",
      "/Public/Отчеты (выгрузка jupyter notebooks)/Источники для BI/Продажи/Источники для BI (Продажи) 2020-09-01 - 2020-09-30.pkl\n"
     ]
    },
    {
     "name": "stdout",
     "output_type": "stream",
     "text": [
      "315.8256711959839MiB (gives results in MiB)\n",
      "\n",
      "\n",
      "2020-10-01 || 2020-10-31 \n",
      "\n",
      "Файл записан в облако\n",
      "/Public/Отчеты (выгрузка jupyter notebooks)/Источники для BI/Продажи/Источники для BI (Продажи) 2020-10-01 - 2020-10-31.xlsx\n",
      "Файл записан в облако\n",
      "/Public/Отчеты (выгрузка jupyter notebooks)/Источники для BI/Продажи/Источники для BI (Продажи) 2020-10-01 - 2020-10-31.pkl\n",
      "325.1593074798584MiB (gives results in MiB)\n",
      "\n",
      "\n",
      "2020-11-01 || 2020-11-30 \n",
      "\n",
      "Файл записан в облако\n",
      "/Public/Отчеты (выгрузка jupyter notebooks)/Источники для BI/Продажи/Источники для BI (Продажи) 2020-11-01 - 2020-11-30.xlsx\n",
      "Файл записан в облако\n",
      "/Public/Отчеты (выгрузка jupyter notebooks)/Источники для BI/Продажи/Источники для BI (Продажи) 2020-11-01 - 2020-11-30.pkl\n",
      "295.0003299713135MiB (gives results in MiB)\n",
      "\n",
      "\n",
      "2020-12-01 || 2020-12-31 \n",
      "\n",
      "Файл записан в облако\n",
      "/Public/Отчеты (выгрузка jupyter notebooks)/Источники для BI/Продажи/Источники для BI (Продажи) 2020-12-01 - 2020-12-31.xlsx\n",
      "Файл записан в облако\n",
      "/Public/Отчеты (выгрузка jupyter notebooks)/Источники для BI/Продажи/Источники для BI (Продажи) 2020-12-01 - 2020-12-31.pkl\n",
      "373.2212972640991MiB (gives results in MiB)\n",
      "\n",
      "\n",
      "2021-01-01 || 2021-01-31 \n",
      "\n",
      "Файл записан в облако\n",
      "/Public/Отчеты (выгрузка jupyter notebooks)/Источники для BI/Продажи/Источники для BI (Продажи) 2021-01-01 - 2021-01-31.xlsx\n",
      "Файл записан в облако\n",
      "/Public/Отчеты (выгрузка jupyter notebooks)/Источники для BI/Продажи/Источники для BI (Продажи) 2021-01-01 - 2021-01-31.pkl\n",
      "210.67619228363037MiB (gives results in MiB)\n",
      "\n",
      "\n",
      "2021-02-01 || 2021-02-28 \n",
      "\n"
     ]
    }
   ],
   "source": [
    "\n",
    "## идем по датам, коннектимся, читаем sql file, подставляем даты\n",
    "df_fon = pd.DataFrame()\n",
    "for i in df_date_m.iloc[:,:].values:\n",
    "    AmazonS3_file_name = fr'Источники для BI (Продажи) {i[0]} - {i[1]}' # ({getpass.getuser()})\n",
    "    AmazonS3_full_path = AmazonS3_folder_Public + AmazonS3_path_to_file + AmazonS3_file_name\n",
    "\n",
    "    print(f'\\n\\n{i[0]} || {i[1]} \\n')\n",
    "#   читаем sql file\n",
    "    with open( path_SQL_fon, \"r\", encoding = \"utf-8\" ) as sql_file:\n",
    "#       коннектимся \n",
    "        with psycopg2.connect(dbname=database, user=user, password=password, host=host) as cnxn:\n",
    "#           подставляем даты\n",
    "#             df_fon = pd.concat([df_fon, \n",
    "#                 pd.read_sql_query(sql_file.read().replace('DATE_START_replce', f'{i[0]}') \\\n",
    "#                                                            .replace('DATE_END_replce', f'{i[1]}'), cnxn)])    \n",
    "            df_fon = pd.read_sql_query(sql_file.read().replace('DATE_START_replce', f'{i[0]}').replace('DATE_END_replce', f'{i[1]}'), cnxn) \n",
    "#   to_excel\n",
    "    df_fon.to_excel(temp_tmp + AmazonS3_file_name + '.xlsx',  index=False, encoding='cp-1251') \n",
    "\n",
    "#   to_csv \n",
    "#     df_fon.to_csv(path_OUT_dbDATA + r'Фоновый отчет по выручке (по дате продажи) с возвратами/' \\\n",
    "#         + fr'Источники для BI (Продажи) { i[0] } { i[1] } .csv', sep='☺',  index=False) # cp-1251 encoding='UTF-8', engine='xlsxwriter'\n",
    "\n",
    "#   .to_pickle\n",
    "    df_fon.to_pickle(temp_tmp + AmazonS3_file_name + '.pkl', compression='zip') \n",
    "    \n",
    "    print( f'Файл записан в облако\\n{AmazonS3_full_path}.xlsx' if Amazon_owncloud.put_file( \n",
    "    #                 полный путь и там и там!!! \n",
    "                AmazonS3_full_path + '.xlsx', temp_tmp + AmazonS3_file_name + '.xlsx'\n",
    "                )  \\\n",
    "        is True else f'Возникли проблемы при записи в облако {AmazonS3_full_path}.xlsx' )  \n",
    "    \n",
    "    print( f'Файл записан в облако\\n{AmazonS3_full_path}.pkl' if Amazon_owncloud.put_file( \n",
    "    #                 полный путь и там и там!!! \n",
    "                AmazonS3_full_path + '.pkl', temp_tmp + AmazonS3_file_name + '.pkl'\n",
    "                )  \\\n",
    "        is True else f'Возникли проблемы при записи в облако {AmazonS3_full_path}.pkl' ) \n",
    "\n",
    "#     os.remove(temp_tmp + AmazonS3_file_name + '.xlsx')\n",
    "#     os.remove(temp_tmp + AmazonS3_file_name + '.pkl')\n",
    "#     print('os.remove')\n",
    "#     print(df_fon) \n",
    "    print(f\"{datasize.DataSize(sys.getsizeof(df_fon)):MiB}\", '(gives results in MiB)' )\n",
    "    df_fon"
   ]
  },
  {
   "cell_type": "code",
   "execution_count": 10,
   "id": "73e52155",
   "metadata": {
    "ExecuteTime": {
     "end_time": "2022-01-28T05:42:30.016933Z",
     "start_time": "2022-01-28T05:42:30.011435Z"
    }
   },
   "outputs": [
    {
     "name": "stdout",
     "output_type": "stream",
     "text": [
      "Current Version of Python interpreter we are using- 3.9.7\n"
     ]
    }
   ],
   "source": [
    "from platform import python_version  \n",
    "# Getting Python interpreter version as a result \n",
    "print(\"Current Version of Python interpreter we are using-\", python_version()) \n"
   ]
  },
  {
   "cell_type": "markdown",
   "id": "5cd769af",
   "metadata": {
    "ExecuteTime": {
     "end_time": "2022-01-26T10:51:39.321146Z",
     "start_time": "2022-01-26T10:51:39.318406Z"
    }
   },
   "source": [
    "# СПРАВОЧНИКИ"
   ]
  },
  {
   "cell_type": "code",
   "execution_count": 11,
   "id": "bff31f2a",
   "metadata": {
    "ExecuteTime": {
     "end_time": "2022-01-28T09:24:31.886025Z",
     "start_time": "2022-01-28T09:24:31.878570Z"
    }
   },
   "outputs": [],
   "source": [
    "# --СПРАВОЧНИКИ\n",
    "# sql_customer # --_Сотрудники (справочник)\n",
    "# sql_storage # --_Склады (справочник)\n",
    "# sql_users # --_Клиенты (справочник) \n",
    "# sql_platforms # --_Площадки (справочник)\n",
    "# sql_e2e4 # --_e2e4 ID (справочник)"
   ]
  },
  {
   "cell_type": "code",
   "execution_count": 24,
   "id": "027d053c",
   "metadata": {
    "ExecuteTime": {
     "end_time": "2022-01-28T09:42:21.940948Z",
     "start_time": "2022-01-28T09:42:21.936942Z"
    },
    "code_folding": [
     0
    ]
   },
   "outputs": [],
   "source": [
    "sql_customer = '''\n",
    "    /*\n",
    "    Клиенты (справочник) 874 657\n",
    "    */\n",
    "    with CUSTOMER_MANAGERS_LOG AS (\n",
    "        /* Дата последней отвязки ответственного менеджера */\n",
    "        SELECT \n",
    "            c.id\n",
    "            ,max(l._tm)::date unbind_date\n",
    "\n",
    "        FROM opentech.customers c\n",
    "        JOIN _logs.opentech__customers l ON l.id = c.id\n",
    "            AND l.\"_op_type\" = 2    /* это запись об изменении карточки */\n",
    "            AND exist(l._values, 'manager') /* изменялся ответственный менеджер */\n",
    "            AND NOT defined(l._values, 'manager') /* ответственный менеджер был снят */\n",
    "        WHERE c.manager IS NULL\n",
    "        GROUP BY c.id\n",
    "    )\n",
    "\n",
    "    , CUSTOMERS_REFERENCE as(\n",
    "    select\n",
    "        customer.id \"ID клиента\"\n",
    "        ,COALESCE(customer.name, customer.phone) \"Наименование клиента\"\n",
    "        ,CASE WHEN customer.inn IS NULL THEN 'ФЛ' ELSE 'ЮЛ' END \"Тип клиента\"\n",
    "\n",
    "        ,CASE\n",
    "            WHEN budget.id_customer IS NOT NULL THEN 'бюджетник'\n",
    "            WHEN secondhand.id_customer IS NOT NULL THEN 'перекуп'\n",
    "            WHEN miner.id_customer IS NOT NULL THEN 'майнер'\n",
    "            WHEN transport.id_customer IS NOT NULL THEN 'ТК'\n",
    "            WHEN customer.asc = 1 THEN 'АСЦ'\n",
    "            WHEN customer.concurent = 1 THEN 'конкурент'\n",
    "        END \"Классификация\"\n",
    "\n",
    "        ,customer.inn \"ИНН\"\n",
    "\n",
    "        ,NULLIF(customer.respite_period, 0) \"Отсрочка, дни\"\n",
    "    /*\n",
    "        ,CASE\n",
    "            WHEN o.order_type = orders.type('ORGANIZATION') AND o.is_full_paid AND o.is_full_sold THEN\n",
    "                NULLIF(GREATEST(0, o.pay_date - o.date_sold), 0)\n",
    "        END AS \"Отсрочка факт, дни\"\n",
    "    */\n",
    "        ,cco.id_okved \"ОКВЭД\"\n",
    "        ,okved_section.name \"Отрасль\"\n",
    "        ,okved.name \"Вид деятельности\"\n",
    "        ,customer_city.name \"Город клиента\"\n",
    "        ,customer.registrationdate \"Дата регистрации клиента\"\n",
    "        ,manager.name \"Ответственный менеджер\" --заменить на логи потом может быть но пока оставть id \n",
    "        ,manager.id \"Ответственный менеджер\" --заменить на логи потом может быть но пока оставть id \n",
    "        ,cml.unbind_date \"Дата отвязки менеджера\"\n",
    "        \n",
    "\n",
    "    from  opentech.customers customer --ON customer.id = item.id_customer\n",
    "    --LEFT JOIN opentech.customers supplier ON supplier.id = ai.supplier_cid\n",
    "    --LEFT JOIN opentech.customers shipper ON shipper.id = ai.shipperid\n",
    "    left join CUSTOMER_MANAGERS_LOG cml ON cml.id = customer.id\n",
    "    left join opentech.users manager on manager.id = customer.manager\n",
    "\n",
    "    left join customers.customer_okveds cco on cco.id_customer = customer.id\n",
    "    left join customers.okveds okved on okved.id = cco.id_okved\n",
    "    left join customers.okved_sections okved_section on okved_section.id = okved.id_okved_section\n",
    "\n",
    "    left join customers.budgetaries budget on budget.id_customer = customer.id\n",
    "    left join customers.secondhand_dealers secondhand on secondhand.id_customer = customer.id\n",
    "    left join customers.miners miner on miner.id_customer = customer.id\n",
    "    left join customers.transports transport on transport.id_customer = customer.id\n",
    "    left join public.cities customer_city on customer_city.id = customer.cityid\n",
    "    )\n",
    "\n",
    "    select * from CUSTOMERS_REFERENCE cr\n",
    "    '''"
   ]
  },
  {
   "cell_type": "code",
   "execution_count": 25,
   "id": "7675f748",
   "metadata": {
    "ExecuteTime": {
     "end_time": "2022-01-28T09:42:22.137252Z",
     "start_time": "2022-01-28T09:42:22.134946Z"
    },
    "code_folding": [
     0
    ]
   },
   "outputs": [],
   "source": [
    "sql_storage = '''\n",
    "    /*\n",
    "    Склады (справочник) 145\n",
    "    */\n",
    "    select \n",
    "        storage.id \"ID склада отгрузки\", --Переделать на ID склада\n",
    "        storage.name \"Склад отгрузки\", --Переделать на ID склада\n",
    "        city.name \"Город отгрузки\",\n",
    "        storage.fulladdress \"Адрес склада\"\n",
    "    from opentech.storage storage --ON storage.id = item.id_storage\n",
    "    JOIN public.cities city ON city.id = storage.city_id\n",
    "    '''"
   ]
  },
  {
   "cell_type": "code",
   "execution_count": 26,
   "id": "e9afd366",
   "metadata": {
    "ExecuteTime": {
     "end_time": "2022-01-28T09:42:22.354387Z",
     "start_time": "2022-01-28T09:42:22.351911Z"
    },
    "code_folding": [
     0
    ]
   },
   "outputs": [],
   "source": [
    "sql_users = '''\n",
    "    /*\n",
    "    Сотрудники (справочник)\n",
    "    */\n",
    "    select \n",
    "        u.id, \n",
    "        u.login, u.\"name\", u.customer_id \"Карточка клиента\", u.fired \"Признак, что сотрудник уволен\",\n",
    "        u.id_1c \"Инедтификатор сотрудника в 1С\", ud.id \"Отдел id\", ud.name \"Отдел\", u.email, u.phone, u.workphone, u.workphone_login, \n",
    "        u.employmentdate \"Дата приёма на работу\", u.terminationdate \"Дата увольнения (последний рабочий день)\", \n",
    "        u.siteuser_id \"Учетная запись на сайте\",\n",
    "        u.timezone \"Часовой пояс\"\n",
    "    from opentech.users u\n",
    "    left join users.departments ud on ud.id = u.department\n",
    "    '''"
   ]
  },
  {
   "cell_type": "code",
   "execution_count": 27,
   "id": "a69f2d89",
   "metadata": {
    "ExecuteTime": {
     "end_time": "2022-01-28T09:42:22.533143Z",
     "start_time": "2022-01-28T09:42:22.530939Z"
    },
    "code_folding": [
     0
    ]
   },
   "outputs": [],
   "source": [
    "sql_platforms = '''\n",
    "    /*\n",
    "    Площадки (справочник)\n",
    "    */\n",
    "    select * from orders.platforms op\n",
    "    '''"
   ]
  },
  {
   "cell_type": "code",
   "execution_count": 42,
   "id": "f107727c",
   "metadata": {
    "ExecuteTime": {
     "end_time": "2022-01-28T09:55:38.759521Z",
     "start_time": "2022-01-28T09:55:38.757134Z"
    },
    "code_folding": [
     0
    ]
   },
   "outputs": [],
   "source": [
    "sql_e2e4 = '''\n",
    "    /*\n",
    "    e2e4 ID (справочник)\n",
    "    */\n",
    "    select \n",
    "        id, login, \"name\", surname, id_author, tm_create::timestamp, entrance_datetime::timestamp \"Момент времени последнего входа\",  \n",
    "        id_city \"Выбранный город (не отгрузки, а доставки)\",  payment_type \"Тип платежа по умолчанию\"\n",
    "    from site.users -- 577 692 \n",
    "    \n",
    "    '''"
   ]
  },
  {
   "cell_type": "code",
   "execution_count": 44,
   "id": "5baf3b6f",
   "metadata": {
    "ExecuteTime": {
     "end_time": "2022-01-28T09:58:47.810524Z",
     "start_time": "2022-01-28T09:55:42.730715Z"
    }
   },
   "outputs": [
    {
     "name": "stdout",
     "output_type": "stream",
     "text": [
      "Файл записан в облако\n",
      "/Public/Отчеты (выгрузка jupyter notebooks)/Источники для BI/_Сотрудники (справочник)/_Сотрудники (справочник).xlsx\n",
      "os.remove\n",
      "442.74051666259766MiB (gives results in MiB)\n",
      "Файл записан в облако\n",
      "/Public/Отчеты (выгрузка jupyter notebooks)/Источники для BI/_Склады (справочник)/_Склады (справочник).xlsx\n",
      "os.remove\n",
      "0.049033164978027344MiB (gives results in MiB)\n",
      "Файл записан в облако\n",
      "/Public/Отчеты (выгрузка jupyter notebooks)/Источники для BI/_Клиенты (справочник)/_Клиенты (справочник).xlsx\n",
      "os.remove\n",
      "0.8973379135131836MiB (gives results in MiB)\n",
      "Файл записан в облако\n",
      "/Public/Отчеты (выгрузка jupyter notebooks)/Источники для BI/_Площадки (справочник)/_Площадки (справочник).xlsx\n",
      "os.remove\n",
      "0.0016002655029296875MiB (gives results in MiB)\n",
      "Файл записан в облако\n",
      "/Public/Отчеты (выгрузка jupyter notebooks)/Источники для BI/_e2e4 ID (справочник)/_e2e4 ID (справочник).xlsx\n",
      "os.remove\n",
      "145.91736507415771MiB (gives results in MiB)\n"
     ]
    }
   ],
   "source": [
    "directory_book_of_reference = r'/Public/Отчеты (выгрузка jupyter notebooks)/Источники для BI'\n",
    "\n",
    "AmazonS3_full_path_customer = directory_book_of_reference + r'/_Сотрудники (справочник)/_Клиенты (справочник)' \n",
    "AmazonS3_full_path_storage = directory_book_of_reference + r'/_Склады (справочник)/_Склады (справочник)' \n",
    "AmazonS3_full_path_users = directory_book_of_reference + r'/_Клиенты (справочник)/_Сотрудники (справочник)' \n",
    "AmazonS3_full_path_platforms = directory_book_of_reference + r'/_Площадки (справочник)/_Площадки (справочник)' \n",
    "AmazonS3_full_path_e2e4ID = directory_book_of_reference + r'/_e2e4 ID (справочник)/_e2e4 ID (справочник)' \n",
    "\n",
    "\n",
    "for file_zip in zip([AmazonS3_full_path_customer, AmazonS3_full_path_storage, AmazonS3_full_path_users, AmazonS3_full_path_platforms, AmazonS3_full_path_e2e4ID]\n",
    "             ,[sql_customer, sql_storage, sql_users, sql_platforms, sql_e2e4]\n",
    "            ):\n",
    "\n",
    "    with psycopg2.connect(dbname=database, user=user, password=password, host=host) as cnxn: # коннектимся \n",
    "        df_fon = pd.read_sql_query( file_zip[1], cnxn) \n",
    "    df_fon.to_excel(temp_tmp + file_zip[0].split('/')[-1] + '.xlsx',  index=False, encoding='cp-1251') #   to_excel\n",
    "    print( f'Файл записан в облако\\n{file_zip[0]}.xlsx' if Amazon_owncloud.put_file( \n",
    "        file_zip[0] + '.xlsx'\n",
    "        , temp_tmp + file_zip[0].split('/')[-1] + '.xlsx' ) is True \n",
    "            else f'Возникли проблемы при записи в облако {file_zip[0]}.xlsx' )  \n",
    "    os.remove(temp_tmp + file_zip[0].split('/')[-1] + '.xlsx')\n",
    "    print('os.remove')\n",
    "    #     print(df_fon) \n",
    "    print(f\"{datasize.DataSize(sys.getsizeof(df_fon)):MiB}\", '(gives results in MiB)' )\n",
    "    # df_fon"
   ]
  },
  {
   "cell_type": "code",
   "execution_count": null,
   "id": "ed87f333",
   "metadata": {
    "ExecuteTime": {
     "end_time": "2022-01-28T09:45:04.357892Z",
     "start_time": "2022-01-28T09:45:04.357873Z"
    }
   },
   "outputs": [],
   "source": [
    "# [AmazonS3_full_path_customer, AmazonS3_full_path_storage, AmazonS3_full_path_users, AmazonS3_full_path_platforms, AmazonS3_full_path_e2e4ID]"
   ]
  },
  {
   "cell_type": "code",
   "execution_count": null,
   "id": "da7c5a63",
   "metadata": {
    "ExecuteTime": {
     "end_time": "2022-01-28T09:45:04.360804Z",
     "start_time": "2022-01-28T09:45:04.360791Z"
    }
   },
   "outputs": [],
   "source": [
    "\n",
    "# for i in zip([AmazonS3_full_path_customer, AmazonS3_full_path_storage, AmazonS3_full_path_users, AmazonS3_full_path_platforms, AmazonS3_full_path_e2e4ID]\n",
    "#              ,[sql_customer, sql_storage, sql_users, sql_platforms, sql_e2e4]\n",
    "#             ):\n",
    "#     print(i)"
   ]
  },
  {
   "cell_type": "code",
   "execution_count": null,
   "id": "236848d6",
   "metadata": {
    "ExecuteTime": {
     "end_time": "2022-01-28T09:45:04.363177Z",
     "start_time": "2022-01-28T09:45:04.363165Z"
    }
   },
   "outputs": [],
   "source": [
    "# AmazonS3_full_path_customer"
   ]
  },
  {
   "cell_type": "code",
   "execution_count": null,
   "id": "6849d2b3",
   "metadata": {},
   "outputs": [],
   "source": []
  },
  {
   "cell_type": "code",
   "execution_count": 40,
   "id": "9ecc8fbb",
   "metadata": {
    "ExecuteTime": {
     "end_time": "2022-01-28T09:54:01.014180Z",
     "start_time": "2022-01-28T09:54:01.010301Z"
    }
   },
   "outputs": [
    {
     "data": {
      "text/plain": [
       "['/tmp/_e2e4 ID (справочник).xlsx']"
      ]
     },
     "execution_count": 40,
     "metadata": {},
     "output_type": "execute_result"
    }
   ],
   "source": [
    "glob.glob( '/tmp/*e2e4*' )"
   ]
  },
  {
   "cell_type": "code",
   "execution_count": null,
   "id": "8cb0dd6f",
   "metadata": {},
   "outputs": [],
   "source": []
  },
  {
   "cell_type": "code",
   "execution_count": null,
   "id": "7ba14791",
   "metadata": {},
   "outputs": [],
   "source": []
  },
  {
   "cell_type": "code",
   "execution_count": null,
   "id": "ba0d455a",
   "metadata": {},
   "outputs": [],
   "source": []
  },
  {
   "cell_type": "code",
   "execution_count": null,
   "id": "516890a2",
   "metadata": {},
   "outputs": [],
   "source": []
  },
  {
   "cell_type": "code",
   "execution_count": null,
   "id": "f1100c84",
   "metadata": {},
   "outputs": [],
   "source": []
  },
  {
   "cell_type": "code",
   "execution_count": null,
   "id": "db7a0741",
   "metadata": {},
   "outputs": [],
   "source": []
  },
  {
   "cell_type": "markdown",
   "id": "3d1e4e37",
   "metadata": {
    "ExecuteTime": {
     "end_time": "2022-01-26T10:58:36.280545Z",
     "start_time": "2022-01-26T10:58:36.277784Z"
    }
   },
   "source": [
    "# Исправить на поиск справочников и потом цикл по файлам...."
   ]
  },
  {
   "cell_type": "code",
   "execution_count": null,
   "id": "ef5478b5",
   "metadata": {
    "ExecuteTime": {
     "end_time": "2022-01-28T09:45:04.365469Z",
     "start_time": "2022-01-28T09:45:04.365458Z"
    }
   },
   "outputs": [],
   "source": [
    "# # docs.nextcloud.com Listing folders\n",
    "# # https://docs.nextcloud.com/server/latest/developer_manual/client_apis/WebDAV/basic.html#listing-folders-rfc4918\n",
    "# webdav_options = \"\"\"<?xml version=\"1.0\" encoding=\"UTF-8\"?>\n",
    "#     <d:propfind xmlns:d=\"DAV:\">\n",
    "#         <d:prop xmlns:oc=\"http://owncloud.org/ns\">\n",
    "#             <d:getlastmodified/>\n",
    "#             <d:getcontenttype/>\n",
    "#             <oc:fileid/>\n",
    "#         </d:prop>\n",
    "#     </d:propfind>\"\"\"\n",
    "\n",
    "# path_nextcloud_folder =  'Public/Отчеты (выгрузка jupyter notebooks)/Источники для BI'\n",
    "# req = requests.request('PROPFIND'\n",
    "#     ,f'''https://nextcloud.e2e4.ru//remote.php/dav/files/slebedev/{path_nextcloud_folder}'''   \n",
    "#     ,auth=('slebedev', '!Qwe321654')\n",
    "#     ,data=webdav_options )\n",
    "\n",
    "# xml_dict = xmltodict.parse(req.text, dict_constructor=dict)\n",
    "# # xml_dict\n",
    "# # list_files_for_BI = [j for j in [ urllib.parse.unquote( response['d:href'] ).split('/')[-1] for response in xml_dict['d:multistatus']['d:response'] ] if j != '']\n",
    "# list_files_for_BI = [j for j in [ urllib.parse.unquote( response['d:href'] ) for response in xml_dict['d:multistatus']['d:response'] ] if j != ''  and 'правочник' in j ]\n",
    "# print( list_files_for_BI ) \n"
   ]
  },
  {
   "cell_type": "code",
   "execution_count": null,
   "id": "5e76f6c7",
   "metadata": {},
   "outputs": [],
   "source": []
  },
  {
   "cell_type": "code",
   "execution_count": null,
   "id": "2577f989",
   "metadata": {},
   "outputs": [],
   "source": []
  },
  {
   "cell_type": "code",
   "execution_count": null,
   "id": "827d58bc",
   "metadata": {},
   "outputs": [],
   "source": []
  },
  {
   "cell_type": "code",
   "execution_count": null,
   "id": "65cfc98d",
   "metadata": {},
   "outputs": [],
   "source": []
  },
  {
   "cell_type": "code",
   "execution_count": null,
   "id": "e282bba9",
   "metadata": {},
   "outputs": [],
   "source": []
  },
  {
   "cell_type": "markdown",
   "id": "6fb928cf",
   "metadata": {
    "ExecuteTime": {
     "end_time": "2022-01-26T10:53:09.430938Z",
     "start_time": "2022-01-26T10:53:09.428088Z"
    }
   },
   "source": [
    "# End"
   ]
  },
  {
   "cell_type": "code",
   "execution_count": null,
   "id": "eb0ad067",
   "metadata": {},
   "outputs": [],
   "source": []
  }
 ],
 "metadata": {
  "hide_input": false,
  "kernelspec": {
   "display_name": "python39-spark-conda",
   "language": "python",
   "name": "python39-spark-conda"
  },
  "language_info": {
   "codemirror_mode": {
    "name": "ipython",
    "version": 3
   },
   "file_extension": ".py",
   "mimetype": "text/x-python",
   "name": "python",
   "nbconvert_exporter": "python",
   "pygments_lexer": "ipython3",
   "version": "3.9.7"
  },
  "toc": {
   "base_numbering": 1,
   "nav_menu": {},
   "number_sections": false,
   "sideBar": true,
   "skip_h1_title": false,
   "title_cell": "Table of Contents",
   "title_sidebar": "Contents",
   "toc_cell": false,
   "toc_position": {
    "height": "calc(100% - 180px)",
    "left": "10px",
    "top": "150px",
    "width": "265.391px"
   },
   "toc_section_display": true,
   "toc_window_display": true
  },
  "varInspector": {
   "cols": {
    "lenName": 16,
    "lenType": 16,
    "lenVar": 40
   },
   "kernels_config": {
    "python": {
     "delete_cmd_postfix": "",
     "delete_cmd_prefix": "del ",
     "library": "var_list.py",
     "varRefreshCmd": "print(var_dic_list())"
    },
    "r": {
     "delete_cmd_postfix": ") ",
     "delete_cmd_prefix": "rm(",
     "library": "var_list.r",
     "varRefreshCmd": "cat(var_dic_list()) "
    }
   },
   "types_to_exclude": [
    "module",
    "function",
    "builtin_function_or_method",
    "instance",
    "_Feature"
   ],
   "window_display": false
  }
 },
 "nbformat": 4,
 "nbformat_minor": 5
}
