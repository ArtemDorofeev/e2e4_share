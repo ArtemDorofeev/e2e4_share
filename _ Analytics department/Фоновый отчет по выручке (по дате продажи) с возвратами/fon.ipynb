{
 "cells": [
  {
   "cell_type": "markdown",
   "id": "10a5591e",
   "metadata": {
    "ExecuteTime": {
     "end_time": "2021-07-01T06:52:40.106655Z",
     "start_time": "2021-07-01T06:52:40.102241Z"
    },
    "hide_input": true
   },
   "source": [
    "# Фоновый отчет по выручке (по дате продажи) БЕЗ возвратов\n",
    "<span class=\"burk\">admin</span>"
   ]
  },
  {
   "cell_type": "markdown",
   "id": "a4cc2fea",
   "metadata": {
    "ExecuteTime": {
     "end_time": "2021-07-05T18:30:31.936463Z",
     "start_time": "2021-07-05T09:14:06.862Z"
    }
   },
   "source": [
    "# По месяцам"
   ]
  },
  {
   "cell_type": "markdown",
   "id": "b2d1f624",
   "metadata": {
    "ExecuteTime": {
     "end_time": "2021-07-01T06:53:19.792603Z",
     "start_time": "2021-07-01T06:53:19.787533Z"
    }
   },
   "source": [
    "##  Делаем магию %magic %run"
   ]
  },
  {
   "cell_type": "code",
   "execution_count": 15,
   "id": "48a04472",
   "metadata": {
    "ExecuteTime": {
     "end_time": "2022-01-24T07:21:59.025474Z",
     "start_time": "2022-01-24T07:21:59.023336Z"
    },
    "hide_input": false
   },
   "outputs": [],
   "source": [
    "# #  запуск всех модулей кроме (НЕ КАНАЮТ ПЕРЕМЕННЫЕ! надо через magic тогда все четка)\n",
    "# def exec_f(path_exec):\n",
    "#     with open( path_exec,'r') as exec_f:\n",
    "#         exec(exec_f.read())\n",
    "# [ exec_f(j) for j in glob.glob(r\"/var/lib/private/**/_ Additions/*\", recursive=True) if 'Imports_Formats' not in j];"
   ]
  },
  {
   "cell_type": "code",
   "execution_count": 16,
   "id": "a81dd34a",
   "metadata": {
    "ExecuteTime": {
     "end_time": "2022-01-24T07:21:59.296302Z",
     "start_time": "2022-01-24T07:21:59.238099Z"
    }
   },
   "outputs": [
    {
     "name": "stdout",
     "output_type": "stream",
     "text": [
      "(1, 1) \n",
      " /home/slebedev/jhub-analytics/ \n",
      " /home/slebedev/jhub-analytics/Аналитика/_DATA/ \n",
      " 2017-01-01 2022-01-24 \n",
      "\n"
     ]
    }
   ],
   "source": [
    "# magic\n",
    "############################################################\n",
    "# magic не запускаются с посмощью run !! поэтому отдельно будут тут! # %magic # посмотреть список magic команд\n",
    "%matplotlib inline\n",
    "\n",
    "# run files\n",
    "%run /srv/jhub/share/._Additions/Import_libs.py\n",
    "%run /srv/jhub/share/._Additions/Connecting_.py\n",
    "%run /srv/jhub/share/._Additions/my_script.py\n",
    "%run /srv/jhub/share/._Additions/Date_gen.py\n",
    "%run /srv/jhub/share/._Additions/xx.py\n",
    "\n",
    "# print\n",
    "###########################\n",
    "#################################\n",
    "print(\n",
    "df_test_xx.shape, '\\n'\n",
    ",abs_path, '\\n' # abs_path - путь до шары (видна всем езерам - '/srv/jhub/share/')\n",
    ",path_OUT_dbDATA, '\\n'\n",
    ",date_start, date_end, '\\n'\n",
    ")\n",
    "############################## End ##############################"
   ]
  },
  {
   "cell_type": "markdown",
   "id": "248a742b",
   "metadata": {
    "ExecuteTime": {
     "end_time": "2021-07-01T09:51:05.774847Z",
     "start_time": "2021-07-01T09:51:05.771532Z"
    }
   },
   "source": [
    "## Путь к sql"
   ]
  },
  {
   "cell_type": "code",
   "execution_count": 17,
   "id": "0dd7caa6",
   "metadata": {
    "ExecuteTime": {
     "end_time": "2022-01-24T07:21:59.571485Z",
     "start_time": "2022-01-24T07:21:59.565027Z"
    }
   },
   "outputs": [
    {
     "name": "stdout",
     "output_type": "stream",
     "text": [
      "/home/slebedev/jhub-analytics/_ Analytics department/Фоновый отчет по выручке (по дате продажи) с возвратами/SQL_fon.sql\n"
     ]
    }
   ],
   "source": [
    "path_SQL_fon = glob.glob(abs_path + r'**/' + r\"SQL_fon.sql\", recursive=True)[0]\n",
    "print(path_SQL_fon)"
   ]
  },
  {
   "cell_type": "markdown",
   "id": "e5a96041",
   "metadata": {
    "ExecuteTime": {
     "end_time": "2021-07-01T09:58:35.925623Z",
     "start_time": "2021-07-01T09:58:35.920947Z"
    }
   },
   "source": [
    "## Путь куда будут выгружены файлы "
   ]
  },
  {
   "cell_type": "code",
   "execution_count": 18,
   "id": "4232c720",
   "metadata": {
    "ExecuteTime": {
     "end_time": "2022-01-24T07:22:00.590613Z",
     "start_time": "2022-01-24T07:22:00.587527Z"
    }
   },
   "outputs": [
    {
     "data": {
      "text/plain": [
       "'/home/slebedev/jhub-analytics/Аналитика/_DATA/'"
      ]
     },
     "execution_count": 18,
     "metadata": {},
     "output_type": "execute_result"
    }
   ],
   "source": [
    "path_OUT_dbDATA"
   ]
  },
  {
   "cell_type": "markdown",
   "id": "dc373225",
   "metadata": {
    "ExecuteTime": {
     "start_time": "2021-07-05T06:27:04.547Z"
    }
   },
   "source": [
    "## Качнуть за какую то опредлеленную дату"
   ]
  },
  {
   "cell_type": "code",
   "execution_count": 19,
   "id": "ac585912",
   "metadata": {
    "ExecuteTime": {
     "end_time": "2022-01-24T07:22:03.793014Z",
     "start_time": "2022-01-24T07:22:03.790700Z"
    }
   },
   "outputs": [],
   "source": [
    "# Качнуть за какую то опредлеленную дату\n",
    "# date_start = '01.01.2021'\n",
    "# date_end = '30.06.2021'\n",
    "# df_fon = pd.DataFrame()\n",
    "# with open( path_SQL_fon, \"r\", encoding = \"utf-8\" ) as sql_file:\n",
    "# #        коннектимся\n",
    "#     with psycopg2.connect(dbname=database, user=user, password=password, host=host) as cnxn:\n",
    "# #             читаем sql file, подставляем даты\n",
    "#         df_fon = pd.read_sql_query(sql_file.read().replace('DATE_START_replce', f'{ date_start }').replace('DATE_END_replce', f'{ date_end }'), cnxn)\n",
    "\n",
    "# df_fon.to_csv(path_OUT_dbDATA + r'Фоновый отчет по выручке (по дате продажи) с возвратами/' \\\n",
    "#         + fr'df_fon { date_start } { date_end }.csv', sep='☺',  index=True) # cp-1251 encoding='UTF-8', engine='xlsxwriter'\n",
    "# df_fon.to_excel(path_OUT_dbDATA + r'Фоновый отчет по выручке (по дате продажи) с возвратами/' \\\n",
    "#         + fr'df_fon { date_start } { date_end }.xlsx') # cp-1251 encoding='UTF-8', engine='xlsxwriter'\n",
    "\n",
    "# print(df_fon)\n",
    "# df_fon\n",
    "# print('\\n\\n\\n*** End ***\\n\\n\\n')"
   ]
  },
  {
   "cell_type": "markdown",
   "id": "39ec4a55",
   "metadata": {
    "ExecuteTime": {
     "end_time": "2021-07-01T09:27:35.598329Z",
     "start_time": "2021-07-01T09:01:33.608Z"
    }
   },
   "source": [
    "## Грузим, записываем (read sql file, connect, to_csv/xlsx)\n",
    "<span class=\"mark\">по месяцам</span>"
   ]
  },
  {
   "cell_type": "code",
   "execution_count": 23,
   "id": "0e520141",
   "metadata": {
    "ExecuteTime": {
     "end_time": "2022-01-24T07:22:36.703970Z",
     "start_time": "2022-01-24T07:22:36.695684Z"
    }
   },
   "outputs": [
    {
     "data": {
      "text/html": [
       "<div>\n",
       "<style scoped>\n",
       "    .dataframe tbody tr th:only-of-type {\n",
       "        vertical-align: middle;\n",
       "    }\n",
       "\n",
       "    .dataframe tbody tr th {\n",
       "        vertical-align: top;\n",
       "    }\n",
       "\n",
       "    .dataframe thead th {\n",
       "        text-align: right;\n",
       "    }\n",
       "</style>\n",
       "<table border=\"1\" class=\"dataframe\">\n",
       "  <thead>\n",
       "    <tr style=\"text-align: right;\">\n",
       "      <th></th>\n",
       "      <th>start</th>\n",
       "      <th>end</th>\n",
       "    </tr>\n",
       "  </thead>\n",
       "  <tbody>\n",
       "    <tr>\n",
       "      <th>0</th>\n",
       "      <td>2021-11-01</td>\n",
       "      <td>2021-11-30</td>\n",
       "    </tr>\n",
       "  </tbody>\n",
       "</table>\n",
       "</div>"
      ],
      "text/plain": [
       "        start         end\n",
       "0  2021-11-01  2021-11-30"
      ]
     },
     "execution_count": 23,
     "metadata": {},
     "output_type": "execute_result"
    }
   ],
   "source": [
    "# date_df_start = df_date_m['start'][0]\n",
    "# date_df_end = df_date_m.iloc[-1, -1]\n",
    "# date_df_start, date_df_end, df_date_m.iloc[56:, :]\n",
    "\n",
    "df_date_m = pd.DataFrame([['2021-11-01','2021-11-30']], columns = ['start','end'])\n",
    "df_date_m"
   ]
  },
  {
   "cell_type": "code",
   "execution_count": 24,
   "id": "fb11f253",
   "metadata": {
    "ExecuteTime": {
     "end_time": "2022-01-24T08:35:07.787239Z",
     "start_time": "2022-01-24T07:22:36.867818Z"
    },
    "scrolled": false
   },
   "outputs": [
    {
     "name": "stdout",
     "output_type": "stream",
     "text": [
      "\n",
      "\n",
      "2021-11-01 || 2021-11-30 \n",
      "\n",
      "        ID клиента ФИО оформившего заказ       Наименование клиента  \\\n",
      "0          48232.0                КЛИЕНТ          Черепанов Андрей    \n",
      "1          48232.0                КЛИЕНТ          Черепанов Андрей    \n",
      "2          48232.0                КЛИЕНТ          Черепанов Андрей    \n",
      "3          48232.0                КЛИЕНТ          Черепанов Андрей    \n",
      "4           1462.0           Усачев А.А.  ООО \"Открытые технологии\"   \n",
      "...            ...                   ...                        ...   \n",
      "232935      1462.0      Калиниченко Д.А.  ООО \"Открытые технологии\"   \n",
      "232936      1462.0      Калиниченко Д.А.  ООО \"Открытые технологии\"   \n",
      "232937      1462.0      Калиниченко Д.А.  ООО \"Открытые технологии\"   \n",
      "232938      1462.0      Калиниченко Д.А.  ООО \"Открытые технологии\"   \n",
      "232939         NaN                  None                   Возвраты   \n",
      "\n",
      "       Тип клиента Классификация         ИНН  Отсрочка, дни  \\\n",
      "0               ФЛ          None        None            NaN   \n",
      "1               ФЛ          None        None            NaN   \n",
      "2               ФЛ          None        None            NaN   \n",
      "3               ФЛ          None        None            NaN   \n",
      "4               ЮЛ          None  5405255422            NaN   \n",
      "...            ...           ...         ...            ...   \n",
      "232935          ЮЛ          None  5405255422            NaN   \n",
      "232936          ЮЛ          None  5405255422            NaN   \n",
      "232937          ЮЛ          None  5405255422            NaN   \n",
      "232938          ЮЛ          None  5405255422            NaN   \n",
      "232939        None          None        None            NaN   \n",
      "\n",
      "        Отсрочка факт, дни  ОКВЭД  \\\n",
      "0                      NaN   None   \n",
      "1                      NaN   None   \n",
      "2                      NaN   None   \n",
      "3                      NaN   None   \n",
      "4                      NaN  47.41   \n",
      "...                    ...    ...   \n",
      "232935                 NaN  47.41   \n",
      "232936                 NaN  47.41   \n",
      "232937                 NaN  47.41   \n",
      "232938                 NaN  47.41   \n",
      "232939                 NaN   None   \n",
      "\n",
      "                                                  Отрасль  ... Запрос цен  \\\n",
      "0                                                    None  ...       None   \n",
      "1                                                    None  ...       None   \n",
      "2                                                    None  ...       None   \n",
      "3                                                    None  ...       None   \n",
      "4       Торговля оптовая и розничная; ремонт автотранс...  ...       None   \n",
      "...                                                   ...  ...        ...   \n",
      "232935  Торговля оптовая и розничная; ремонт автотранс...  ...       None   \n",
      "232936  Торговля оптовая и розничная; ремонт автотранс...  ...       None   \n",
      "232937  Торговля оптовая и розничная; ремонт автотранс...  ...       None   \n",
      "232938  Торговля оптовая и розничная; ремонт автотранс...  ...       None   \n",
      "232939                                               None  ...       None   \n",
      "\n",
      "       Коммерческое предложение  Дата готовности к выдаче товара  \\\n",
      "0                          None       2021-11-21 14:02:34.167021   \n",
      "1                          None       2021-11-21 14:02:34.167021   \n",
      "2                          None       2021-11-21 14:02:34.213459   \n",
      "3                          None       2021-11-21 14:02:34.230713   \n",
      "4                          None       2018-12-03 13:23:11.932449   \n",
      "...                         ...                              ...   \n",
      "232935                     None       2021-12-07 22:04:11.370292   \n",
      "232936                     None       2021-12-07 22:04:11.370292   \n",
      "232937                     None       2021-12-07 22:04:11.370292   \n",
      "232938                     None       2021-12-07 22:04:11.370292   \n",
      "232939                     None                              NaT   \n",
      "\n",
      "       Время готовности к выдаче товара День готовности к выдаче товара  \\\n",
      "0                                 14:02                              21   \n",
      "1                                 14:02                              21   \n",
      "2                                 14:02                              21   \n",
      "3                                 14:02                              21   \n",
      "4                                 13:23                              03   \n",
      "...                                 ...                             ...   \n",
      "232935                            22:04                              07   \n",
      "232936                            22:04                              07   \n",
      "232937                            22:04                              07   \n",
      "232938                            22:04                              07   \n",
      "232939                             None                            None   \n",
      "\n",
      "        Месяц готовности к выдаче товара  Год готовности к выдаче товара  \\\n",
      "0                                     11                            2021   \n",
      "1                                     11                            2021   \n",
      "2                                     11                            2021   \n",
      "3                                     11                            2021   \n",
      "4                                     12                            2018   \n",
      "...                                  ...                             ...   \n",
      "232935                                12                            2021   \n",
      "232936                                12                            2021   \n",
      "232937                                12                            2021   \n",
      "232938                                12                            2021   \n",
      "232939                              None                            None   \n",
      "\n",
      "        сборка/комплект Кол-во сборок Под заказ-0;склады выдачи-5;другой-6  \n",
      "0                  None          None                                    5  \n",
      "1                  None          None                                    5  \n",
      "2                  None          None                                    5  \n",
      "3                  None          None                                    5  \n",
      "4                  None          None                                    6  \n",
      "...                 ...           ...                                  ...  \n",
      "232935             None          None                                    6  \n",
      "232936             None          None                                    6  \n",
      "232937             None          None                                    6  \n",
      "232938             None          None                                    6  \n",
      "232939             None          None                                 None  \n",
      "\n",
      "[232940 rows x 72 columns]\n",
      "1221.9677724838257MiB (gives results in MiB)\n"
     ]
    }
   ],
   "source": [
    "## идем по датам, коннектимся, читаем sql file, подставляем даты\n",
    "df_fon = pd.DataFrame()\n",
    "for i in df_date_m.iloc[:,:].values:\n",
    "    print(f'\\n\\n{i[0]} || {i[1]} \\n')\n",
    "#   читаем sql file\n",
    "    with open( path_SQL_fon, \"r\", encoding = \"utf-8\" ) as sql_file:\n",
    "#       коннектимся \n",
    "        with psycopg2.connect(dbname=database, user=user, password=password, host=host) as cnxn:\n",
    "#           подставляем даты\n",
    "#             df_fon = pd.concat([df_fon, \n",
    "#                 pd.read_sql_query(sql_file.read().replace('DATE_START_replce', f'{i[0]}') \\\n",
    "#                                                            .replace('DATE_END_replce', f'{i[1]}'), cnxn)])    \n",
    "            df_fon = pd.read_sql_query(sql_file.read().replace('DATE_START_replce', f'{i[0]}').replace('DATE_END_replce', f'{i[1]}'), cnxn) \n",
    "#   to_excel\n",
    "    df_fon.to_excel(path_OUT_dbDATA + r'Фоновый отчет по выручке (по дате продажи) с возвратами/' \\\n",
    "        + fr'df_fon { i[0] } { i[1] } .xlsx',  index=False, encoding='cp-1251') \n",
    "\n",
    "#   to_csv \n",
    "    df_fon.to_csv(path_OUT_dbDATA + r'Фоновый отчет по выручке (по дате продажи) с возвратами/' \\\n",
    "        + fr'df_fon { i[0] } { i[1] } .csv', sep='☺',  index=False) # cp-1251 encoding='UTF-8', engine='xlsxwriter'\n",
    "\n",
    "#   .to_pickle\n",
    "    df_fon.to_pickle(path_OUT_dbDATA + r'Фоновый отчет по выручке (по дате продажи) с возвратами/' \\\n",
    "        + fr'df_fon { i[0] } { i[1] } .pkl', compression='zip') \n",
    "                    \n",
    "    print(df_fon) \n",
    "    print(f\"{datasize.DataSize(sys.getsizeof(df_fon)):MiB}\", '(gives results in MiB)' )\n",
    "    df_fon"
   ]
  },
  {
   "cell_type": "code",
   "execution_count": 25,
   "id": "5f0238f6",
   "metadata": {
    "ExecuteTime": {
     "end_time": "2022-01-24T08:35:08.052427Z",
     "start_time": "2022-01-24T08:35:08.048235Z"
    },
    "scrolled": true
   },
   "outputs": [
    {
     "name": "stdout",
     "output_type": "stream",
     "text": [
      "ID клиента\n",
      "ФИО оформившего заказ\n",
      "Наименование клиента\n",
      "Тип клиента\n",
      "Классификация\n",
      "ИНН\n",
      "Отсрочка, дни\n",
      "Отсрочка факт, дни\n",
      "ОКВЭД\n",
      "Отрасль\n",
      "Вид деятельности\n",
      "Город клиента\n",
      "Срок жизни клиента\n",
      "Ответственный менеджер\n",
      "Дата отвязки менеджера\n",
      "Маржинальность клиента\n",
      "Прибыль c клиента\n",
      "ID заказа\n",
      "Кто оформил заказ\n",
      "Дата оформления заказа\n",
      "Время оформления заказа\n",
      "Месяц оформления заказа\n",
      "Год оформления заказа\n",
      "Дата закрытия заказа\n",
      "Время закрытия заказа\n",
      "Месяц закрытия заказа\n",
      "Год закрытия заказа\n",
      "Дата отгрузки товара\n",
      "Время отгрузки\n",
      "Месяц отгрузки\n",
      "Год отгрузки\n",
      "Дата полной оплаты заказа\n",
      "Дата полной отгрузки заказа\n",
      "Тип позиции\n",
      "Артикул\n",
      "Наименование позиции\n",
      "Производитель\n",
      "Категория\n",
      "Поставщик\n",
      "Расчетная себестоимость\n",
      "Себестоимость чистая\n",
      "Продажная цена\n",
      "Статус списания\n",
      "Маржа\n",
      "Наценка\n",
      "Склад отгрузки\n",
      "Город отгрузки\n",
      "Дата реализации\n",
      "Время реализации\n",
      "Месяц реализации\n",
      "Год реализации\n",
      "Адрес склада\n",
      "Тип оплаты\n",
      "Способ доставки\n",
      "Транспортная компания\n",
      "Регион доставки\n",
      "Город доставки\n",
      "Адрес доставки\n",
      "Сумма НДС\n",
      "Фирма-поставщик\n",
      "Фирма-грузоотправитель\n",
      "Тендер\n",
      "Запрос цен\n",
      "Коммерческое предложение\n",
      "Дата готовности к выдаче товара\n",
      "Время готовности к выдаче товара\n",
      "День готовности к выдаче товара\n",
      "Месяц готовности к выдаче товара\n",
      "Год готовности к выдаче товара\n",
      "сборка/комплект\n",
      "Кол-во сборок\n",
      "Под заказ-0;склады выдачи-5;другой-6\n"
     ]
    }
   ],
   "source": [
    "for i in df_fon.columns:\n",
    "    print(i)"
   ]
  },
  {
   "cell_type": "markdown",
   "id": "f22e03e8",
   "metadata": {
    "ExecuteTime": {
     "end_time": "2021-07-01T10:02:13.927183Z",
     "start_time": "2021-07-01T10:02:13.923767Z"
    }
   },
   "source": [
    "# End"
   ]
  },
  {
   "cell_type": "code",
   "execution_count": null,
   "id": "63ecdd5f",
   "metadata": {},
   "outputs": [],
   "source": []
  },
  {
   "cell_type": "code",
   "execution_count": null,
   "id": "6103a252",
   "metadata": {},
   "outputs": [],
   "source": []
  }
 ],
 "metadata": {
  "hide_input": false,
  "kernelspec": {
   "display_name": "Python 3",
   "language": "python",
   "name": "python3"
  },
  "language_info": {
   "codemirror_mode": {
    "name": "ipython",
    "version": 3
   },
   "file_extension": ".py",
   "mimetype": "text/x-python",
   "name": "python",
   "nbconvert_exporter": "python",
   "pygments_lexer": "ipython3",
   "version": "3.6.8"
  },
  "toc": {
   "base_numbering": 1,
   "nav_menu": {},
   "number_sections": false,
   "sideBar": true,
   "skip_h1_title": false,
   "title_cell": "Table of Contents",
   "title_sidebar": "Contents",
   "toc_cell": false,
   "toc_position": {
    "height": "716px",
    "left": "0px",
    "top": "144px",
    "width": "269px"
   },
   "toc_section_display": true,
   "toc_window_display": true
  },
  "varInspector": {
   "cols": {
    "lenName": 16,
    "lenType": 16,
    "lenVar": 40
   },
   "kernels_config": {
    "python": {
     "delete_cmd_postfix": "",
     "delete_cmd_prefix": "del ",
     "library": "var_list.py",
     "varRefreshCmd": "print(var_dic_list())"
    },
    "r": {
     "delete_cmd_postfix": ") ",
     "delete_cmd_prefix": "rm(",
     "library": "var_list.r",
     "varRefreshCmd": "cat(var_dic_list()) "
    }
   },
   "oldHeight": 1181,
   "position": {
    "height": "40px",
    "left": "804px",
    "right": "20px",
    "top": "15px",
    "width": "800px"
   },
   "types_to_exclude": [
    "module",
    "function",
    "builtin_function_or_method",
    "instance",
    "_Feature"
   ],
   "varInspector_section_display": "none",
   "window_display": false
  }
 },
 "nbformat": 4,
 "nbformat_minor": 5
}
