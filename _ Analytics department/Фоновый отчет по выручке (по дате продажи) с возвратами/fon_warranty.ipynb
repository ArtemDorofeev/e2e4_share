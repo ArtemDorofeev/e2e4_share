{
 "cells": [
  {
   "cell_type": "markdown",
   "id": "10a5591e",
   "metadata": {
    "ExecuteTime": {
     "end_time": "2021-07-01T06:52:40.106655Z",
     "start_time": "2021-07-01T06:52:40.102241Z"
    }
   },
   "source": [
    "# Фоновый отчет по выручке (по дате продажи) с возвратами\n",
    "<span class=\"burk\">admin</span>"
   ]
  },
  {
   "cell_type": "markdown",
   "id": "b2d1f624",
   "metadata": {
    "ExecuteTime": {
     "end_time": "2021-07-01T06:53:19.792603Z",
     "start_time": "2021-07-01T06:53:19.787533Z"
    }
   },
   "source": [
    "##  Делаем магию %magic %run"
   ]
  },
  {
   "cell_type": "code",
   "execution_count": 31,
   "id": "48a04472",
   "metadata": {
    "ExecuteTime": {
     "end_time": "2021-07-16T10:43:27.238974Z",
     "start_time": "2021-07-16T10:43:27.236021Z"
    },
    "hide_input": false
   },
   "outputs": [],
   "source": [
    "# #  запуск всех модулей кроме (НЕ КАНАЮТ ПЕРЕМЕННЫЕ! надо через magic тогда все четка)\n",
    "# def exec_f(path_exec):\n",
    "#     with open( path_exec,'r') as exec_f:\n",
    "#         exec(exec_f.read())\n",
    "# [ exec_f(j) for j in glob.glob(r\"/var/lib/private/**/_ Additions/*\", recursive=True) if 'Imports_Formats' not in j];"
   ]
  },
  {
   "cell_type": "code",
   "execution_count": 32,
   "id": "a81dd34a",
   "metadata": {
    "ExecuteTime": {
     "end_time": "2021-07-16T10:43:27.275703Z",
     "start_time": "2021-07-16T10:43:27.241308Z"
    },
    "scrolled": true
   },
   "outputs": [
    {
     "name": "stdout",
     "output_type": "stream",
     "text": [
      "\n",
      " /home/slebedev/ \n",
      " /home/slebedev/share/_DATA/ \n",
      " 2017-01-01 \n",
      " 2021-07-16 \n",
      "\n"
     ]
    }
   ],
   "source": [
    "# magic\n",
    "############################################################\n",
    "\n",
    "# magic не запускаются с посмощью run !! поэтому отдельно будут тут! # %magic # посмотреть список magic команд\n",
    "%matplotlib inline\n",
    "\n",
    "\n",
    "# run files\n",
    "%run /home/slebedev/\"_Additions\"/Imports_Formats.py\n",
    "\n",
    "%run /home/slebedev/\"_Additions\"/Connecting_bi_admin.py\n",
    "\n",
    "%run /home/slebedev/\"_Additions\"/Date_gen.py\n",
    "\n",
    "%run /home/slebedev/\"_Additions\"/xx.py\n",
    "\n",
    "\n",
    "############################## End ##############################\n",
    "print( '\\n'\n",
    ",abs_path, '\\n'\n",
    "# ,path_sql_files, '\\n'\n",
    ",path_OUT_dbDATA, '\\n'     \n",
    ",date_start, '\\n' \n",
    ",date_end, '\\n' \n",
    ")"
   ]
  },
  {
   "cell_type": "markdown",
   "id": "b401ad14",
   "metadata": {
    "ExecuteTime": {
     "end_time": "2021-07-01T09:51:05.774847Z",
     "start_time": "2021-07-01T09:51:05.771532Z"
    }
   },
   "source": [
    "## Путь к sql"
   ]
  },
  {
   "cell_type": "code",
   "execution_count": 33,
   "id": "301ab69d",
   "metadata": {
    "ExecuteTime": {
     "end_time": "2021-07-16T10:43:27.282454Z",
     "start_time": "2021-07-16T10:43:27.278169Z"
    }
   },
   "outputs": [
    {
     "name": "stdout",
     "output_type": "stream",
     "text": [
      "/home/slebedev/_ Analytics department/Фоновый отчет по выручке (по дате продажи) с возвратами/SQL_warranty_fon.sql\n"
     ]
    }
   ],
   "source": [
    "path_SQL_warranty_fon = glob.glob( abs_path + r'**/' + r\"SQL_warranty_fon.sql\", recursive=True)[0]\n",
    "print(path_SQL_warranty_fon)"
   ]
  },
  {
   "cell_type": "markdown",
   "id": "6b906996",
   "metadata": {
    "ExecuteTime": {
     "end_time": "2021-07-01T09:58:35.925623Z",
     "start_time": "2021-07-01T09:58:35.920947Z"
    }
   },
   "source": [
    "## Путь куда будут выгружены файлы "
   ]
  },
  {
   "cell_type": "code",
   "execution_count": 34,
   "id": "7eacc47a",
   "metadata": {
    "ExecuteTime": {
     "end_time": "2021-07-16T10:43:27.288731Z",
     "start_time": "2021-07-16T10:43:27.284961Z"
    }
   },
   "outputs": [
    {
     "data": {
      "text/plain": [
       "'/home/slebedev/share/_DATA/'"
      ]
     },
     "execution_count": 34,
     "metadata": {},
     "output_type": "execute_result"
    }
   ],
   "source": [
    "path_OUT_dbDATA"
   ]
  },
  {
   "cell_type": "markdown",
   "id": "cdb489f7",
   "metadata": {
    "ExecuteTime": {
     "start_time": "2021-07-04T13:16:15.442Z"
    }
   },
   "source": [
    "## Качнуть за какую то опредлеленную дату"
   ]
  },
  {
   "cell_type": "code",
   "execution_count": 35,
   "id": "6484bee0",
   "metadata": {
    "ExecuteTime": {
     "end_time": "2021-07-16T10:43:27.293742Z",
     "start_time": "2021-07-16T10:43:27.291039Z"
    }
   },
   "outputs": [],
   "source": [
    "# # Качнуть за какую то опредлеленную дату\n",
    "# date_start = '01.01.2017'\n",
    "# date_end = '01.01.2022'\n",
    "# df_warranty_fon = pd.DataFrame()\n",
    "# with open( path_SQL_warranty_fon, \"r\", encoding = \"utf-8\" ) as sql_file:\n",
    "# #        коннектимся \n",
    "#     with psycopg2.connect(dbname=database, user=user, password=password, host=host) as cnxn:\n",
    "# #             читаем sql file, подставляем даты\n",
    "#         df_warranty_fon = pd.read_sql_query(sql_file.read().replace('DATE_START_replce', f'{ date_start }').replace('DATE_END_replce', f'{ date_end }'), cnxn)\n",
    "    \n",
    "# df_warranty_fon.to_csv(path_OUT_dbDATA + r'Фоновый отчет по выручке (по дате продажи) с возвратами/' \\\n",
    "#         + fr'df_warranty_fon { date_start } { date_end }.csv', sep='☺',  index=True) # cp-1251 encoding='UTF-8', engine='xlsxwriter'\n",
    "# df_warranty_fon.to_excel(path_OUT_dbDATA + r'Фоновый отчет по выручке (по дате продажи) с возвратами/' \\\n",
    "#         + fr'df_warranty_fon { date_start } { date_end }.xlsx') # cp-1251 encoding='UTF-8', engine='xlsxwriter'\n",
    "# df_warranty_fon.to_pickle(path_OUT_dbDATA + r'Фоновый отчет по выручке (по дате продажи) с возвратами/' \\\n",
    "#         + fr'df_warranty_fon { date_start } { date_end }.xlsx', compression='zip') # cp-1251 encoding='UTF-8', engine='xlsxwriter'\n",
    "\n",
    "# # print(df_warranty_fon)\n",
    "# print('\\n*** End ***\\n')\n",
    "# df_warranty_fon"
   ]
  },
  {
   "cell_type": "markdown",
   "id": "ec82a53c",
   "metadata": {
    "ExecuteTime": {
     "end_time": "2021-07-01T09:27:35.598329Z",
     "start_time": "2021-07-01T09:01:33.608Z"
    }
   },
   "source": [
    "## Грузим, записываем (read sql file, connect, to_csv/xlsx)\n",
    "<span class=\"mark\">по годам</span>"
   ]
  },
  {
   "cell_type": "code",
   "execution_count": 36,
   "id": "8c1b77fd",
   "metadata": {
    "ExecuteTime": {
     "end_time": "2021-07-16T10:43:27.303656Z",
     "start_time": "2021-07-16T10:43:27.295883Z"
    },
    "scrolled": true
   },
   "outputs": [
    {
     "data": {
      "text/plain": [
       "('2017-01-01',\n",
       " '2021-12-31',\n",
       "         start         end\n",
       " 0  2017-01-01  2017-12-31\n",
       " 1  2018-01-01  2018-12-31\n",
       " 2  2019-01-01  2019-12-31\n",
       " 3  2020-01-01  2020-12-31\n",
       " 4  2021-01-01  2021-12-31)"
      ]
     },
     "execution_count": 36,
     "metadata": {},
     "output_type": "execute_result"
    }
   ],
   "source": [
    "date_df_start = df_date_Y['start'][0]\n",
    "date_df_end = df_date_Y.iloc[-1,-1] \n",
    "date_df_start, date_df_end, df_date_Y"
   ]
  },
  {
   "cell_type": "code",
   "execution_count": 37,
   "id": "fb11f253",
   "metadata": {
    "ExecuteTime": {
     "end_time": "2021-07-16T10:52:24.967442Z",
     "start_time": "2021-07-16T10:43:27.305555Z"
    },
    "code_folding": [],
    "scrolled": true
   },
   "outputs": [
    {
     "name": "stdout",
     "output_type": "stream",
     "text": [
      "\n",
      "\n",
      "2017-01-01 || 2017-12-31 \n",
      "\n",
      "        ID клиента                      ФИО оформившего заказ  \\\n",
      "0             1.00                              Азгалдян А.Ю.   \n",
      "1             1.00                              Азгалдян А.Ю.   \n",
      "2             1.00                              Азгалдян А.Ю.   \n",
      "3             1.00                              Азгалдян А.Ю.   \n",
      "4             1.00                                Алеев Ф. Р.   \n",
      "...            ...                                        ...   \n",
      "98060          nan                                       None   \n",
      "98061 495793929.00                               sum( p.sum )   \n",
      "98062 495793929.00                 sum( wo.\"Сумма возврата\" )   \n",
      "98063 495793929.00  sum( ea.\"Продажная цена Сумма возврата\" )   \n",
      "98064 495793929.00  sum( ea.\"Продажная цена Сумма возврата\" )   \n",
      "\n",
      "      Наименование клиента Тип клиента Классификация   инн  Отсрочка, дни  \\\n",
      "0             частное лицо          ФЛ          None  None            nan   \n",
      "1             частное лицо          ФЛ          None  None            nan   \n",
      "2             частное лицо          ФЛ          None  None            nan   \n",
      "3             частное лицо          ФЛ          None  None            nan   \n",
      "4             частное лицо          ФЛ          None  None            nan   \n",
      "...                    ...         ...           ...   ...            ...   \n",
      "98060                 None          ФЛ          None  None            nan   \n",
      "98061                 None        None          None  None            nan   \n",
      "98062                 None        None          None  None            nan   \n",
      "98063                 None        None          None  None            nan   \n",
      "98064                 None        None          None  None            nan   \n",
      "\n",
      "       Отсрочка факт, дни ОКВЭД Отрасль  ... Дата готовности к выдаче товара  \\\n",
      "0                     nan  None    None  ...                             NaT   \n",
      "1                     nan  None    None  ...                             NaT   \n",
      "2                     nan  None    None  ...                             NaT   \n",
      "3                     nan  None    None  ...                             NaT   \n",
      "4                     nan  None    None  ...                             NaT   \n",
      "...                   ...   ...     ...  ...                             ...   \n",
      "98060                 nan  None    None  ...                             NaT   \n",
      "98061                 nan  None    None  ...                             NaT   \n",
      "98062                 nan  None    None  ...                             NaT   \n",
      "98063                 nan  None    None  ...                             NaT   \n",
      "98064                 nan  None    None  ...                             NaT   \n",
      "\n",
      "      Время готовности к выдаче товара День готовности к выдаче товара  \\\n",
      "0                                 None                            None   \n",
      "1                                 None                            None   \n",
      "2                                 None                            None   \n",
      "3                                 None                            None   \n",
      "4                                 None                            None   \n",
      "...                                ...                             ...   \n",
      "98060                             None                            None   \n",
      "98061                             None                            None   \n",
      "98062                             None                            None   \n",
      "98063                             None                            None   \n",
      "98064                             None                            None   \n",
      "\n",
      "      Месяц готовности к выдаче товара Год готовности к выдаче товара  \\\n",
      "0                                 None                           None   \n",
      "1                                 None                           None   \n",
      "2                                 None                           None   \n",
      "3                                 None                           None   \n",
      "4                                 None                           None   \n",
      "...                                ...                            ...   \n",
      "98060                             None                           None   \n",
      "98061                             None                           None   \n",
      "98062                             None                           None   \n",
      "98063                             None                           None   \n",
      "98064                             None                           None   \n",
      "\n",
      "      id товара находящийся на складе id принятой по ЗН железяки  case  \\\n",
      "0                          6847221.00                 6847221.00     =   \n",
      "1                          6705151.00                 6705151.00     =   \n",
      "2                          6985629.00                 6985629.00     =   \n",
      "3                          7634309.00                 7634309.00     =   \n",
      "4                          5139497.00                 5139497.00     =   \n",
      "...                               ...                        ...   ...   \n",
      "98060                             nan                13336743.00   not   \n",
      "98061                             nan                        nan  None   \n",
      "98062                             nan                        nan  None   \n",
      "98063                             nan                        nan  None   \n",
      "98064                             nan                        nan  None   \n",
      "\n",
      "      id платежа Сумма возврата  \n",
      "0     2938869.00         120.00  \n",
      "1     2983465.00         470.00  \n",
      "2     3340035.00         450.00  \n",
      "3     2540369.00         211.00  \n",
      "4     2652213.00         400.00  \n",
      "...          ...            ...  \n",
      "98060 4723257.00        1450.00  \n",
      "98061        nan            nan  \n",
      "98062        nan            nan  \n",
      "98063        nan            nan  \n",
      "98064        nan            nan  \n",
      "\n",
      "[98065 rows x 74 columns]\n",
      "452.9197082519531MiB  (gives results in MiB)\n"
     ]
    },
    {
     "data": {
      "text/html": [
       "<div>\n",
       "<style scoped>\n",
       "    .dataframe tbody tr th:only-of-type {\n",
       "        vertical-align: middle;\n",
       "    }\n",
       "\n",
       "    .dataframe tbody tr th {\n",
       "        vertical-align: top;\n",
       "    }\n",
       "\n",
       "    .dataframe thead th {\n",
       "        text-align: right;\n",
       "    }\n",
       "</style>\n",
       "<table border=\"1\" class=\"dataframe\">\n",
       "  <thead>\n",
       "    <tr style=\"text-align: right;\">\n",
       "      <th></th>\n",
       "      <th>ID клиента</th>\n",
       "      <th>ФИО оформившего заказ</th>\n",
       "      <th>Наименование клиента</th>\n",
       "      <th>Тип клиента</th>\n",
       "      <th>Классификация</th>\n",
       "      <th>инн</th>\n",
       "      <th>Отсрочка, дни</th>\n",
       "      <th>Отсрочка факт, дни</th>\n",
       "      <th>ОКВЭД</th>\n",
       "      <th>Отрасль</th>\n",
       "      <th>...</th>\n",
       "      <th>Дата готовности к выдаче товара</th>\n",
       "      <th>Время готовности к выдаче товара</th>\n",
       "      <th>День готовности к выдаче товара</th>\n",
       "      <th>Месяц готовности к выдаче товара</th>\n",
       "      <th>Год готовности к выдаче товара</th>\n",
       "      <th>id товара находящийся на складе</th>\n",
       "      <th>id принятой по ЗН железяки</th>\n",
       "      <th>case</th>\n",
       "      <th>id платежа</th>\n",
       "      <th>Сумма возврата</th>\n",
       "    </tr>\n",
       "  </thead>\n",
       "  <tbody>\n",
       "    <tr>\n",
       "      <th>0</th>\n",
       "      <td>1.00</td>\n",
       "      <td>Азгалдян А.Ю.</td>\n",
       "      <td>частное лицо</td>\n",
       "      <td>ФЛ</td>\n",
       "      <td>None</td>\n",
       "      <td>None</td>\n",
       "      <td>nan</td>\n",
       "      <td>nan</td>\n",
       "      <td>None</td>\n",
       "      <td>None</td>\n",
       "      <td>...</td>\n",
       "      <td>NaT</td>\n",
       "      <td>None</td>\n",
       "      <td>None</td>\n",
       "      <td>None</td>\n",
       "      <td>None</td>\n",
       "      <td>6847221.00</td>\n",
       "      <td>6847221.00</td>\n",
       "      <td>=</td>\n",
       "      <td>2938869.00</td>\n",
       "      <td>120.00</td>\n",
       "    </tr>\n",
       "    <tr>\n",
       "      <th>1</th>\n",
       "      <td>1.00</td>\n",
       "      <td>Азгалдян А.Ю.</td>\n",
       "      <td>частное лицо</td>\n",
       "      <td>ФЛ</td>\n",
       "      <td>None</td>\n",
       "      <td>None</td>\n",
       "      <td>nan</td>\n",
       "      <td>nan</td>\n",
       "      <td>None</td>\n",
       "      <td>None</td>\n",
       "      <td>...</td>\n",
       "      <td>NaT</td>\n",
       "      <td>None</td>\n",
       "      <td>None</td>\n",
       "      <td>None</td>\n",
       "      <td>None</td>\n",
       "      <td>6705151.00</td>\n",
       "      <td>6705151.00</td>\n",
       "      <td>=</td>\n",
       "      <td>2983465.00</td>\n",
       "      <td>470.00</td>\n",
       "    </tr>\n",
       "    <tr>\n",
       "      <th>2</th>\n",
       "      <td>1.00</td>\n",
       "      <td>Азгалдян А.Ю.</td>\n",
       "      <td>частное лицо</td>\n",
       "      <td>ФЛ</td>\n",
       "      <td>None</td>\n",
       "      <td>None</td>\n",
       "      <td>nan</td>\n",
       "      <td>nan</td>\n",
       "      <td>None</td>\n",
       "      <td>None</td>\n",
       "      <td>...</td>\n",
       "      <td>NaT</td>\n",
       "      <td>None</td>\n",
       "      <td>None</td>\n",
       "      <td>None</td>\n",
       "      <td>None</td>\n",
       "      <td>6985629.00</td>\n",
       "      <td>6985629.00</td>\n",
       "      <td>=</td>\n",
       "      <td>3340035.00</td>\n",
       "      <td>450.00</td>\n",
       "    </tr>\n",
       "    <tr>\n",
       "      <th>3</th>\n",
       "      <td>1.00</td>\n",
       "      <td>Азгалдян А.Ю.</td>\n",
       "      <td>частное лицо</td>\n",
       "      <td>ФЛ</td>\n",
       "      <td>None</td>\n",
       "      <td>None</td>\n",
       "      <td>nan</td>\n",
       "      <td>nan</td>\n",
       "      <td>None</td>\n",
       "      <td>None</td>\n",
       "      <td>...</td>\n",
       "      <td>NaT</td>\n",
       "      <td>None</td>\n",
       "      <td>None</td>\n",
       "      <td>None</td>\n",
       "      <td>None</td>\n",
       "      <td>7634309.00</td>\n",
       "      <td>7634309.00</td>\n",
       "      <td>=</td>\n",
       "      <td>2540369.00</td>\n",
       "      <td>211.00</td>\n",
       "    </tr>\n",
       "    <tr>\n",
       "      <th>4</th>\n",
       "      <td>1.00</td>\n",
       "      <td>Алеев Ф. Р.</td>\n",
       "      <td>частное лицо</td>\n",
       "      <td>ФЛ</td>\n",
       "      <td>None</td>\n",
       "      <td>None</td>\n",
       "      <td>nan</td>\n",
       "      <td>nan</td>\n",
       "      <td>None</td>\n",
       "      <td>None</td>\n",
       "      <td>...</td>\n",
       "      <td>NaT</td>\n",
       "      <td>None</td>\n",
       "      <td>None</td>\n",
       "      <td>None</td>\n",
       "      <td>None</td>\n",
       "      <td>5139497.00</td>\n",
       "      <td>5139497.00</td>\n",
       "      <td>=</td>\n",
       "      <td>2652213.00</td>\n",
       "      <td>400.00</td>\n",
       "    </tr>\n",
       "    <tr>\n",
       "      <th>...</th>\n",
       "      <td>...</td>\n",
       "      <td>...</td>\n",
       "      <td>...</td>\n",
       "      <td>...</td>\n",
       "      <td>...</td>\n",
       "      <td>...</td>\n",
       "      <td>...</td>\n",
       "      <td>...</td>\n",
       "      <td>...</td>\n",
       "      <td>...</td>\n",
       "      <td>...</td>\n",
       "      <td>...</td>\n",
       "      <td>...</td>\n",
       "      <td>...</td>\n",
       "      <td>...</td>\n",
       "      <td>...</td>\n",
       "      <td>...</td>\n",
       "      <td>...</td>\n",
       "      <td>...</td>\n",
       "      <td>...</td>\n",
       "      <td>...</td>\n",
       "    </tr>\n",
       "    <tr>\n",
       "      <th>98060</th>\n",
       "      <td>nan</td>\n",
       "      <td>None</td>\n",
       "      <td>None</td>\n",
       "      <td>ФЛ</td>\n",
       "      <td>None</td>\n",
       "      <td>None</td>\n",
       "      <td>nan</td>\n",
       "      <td>nan</td>\n",
       "      <td>None</td>\n",
       "      <td>None</td>\n",
       "      <td>...</td>\n",
       "      <td>NaT</td>\n",
       "      <td>None</td>\n",
       "      <td>None</td>\n",
       "      <td>None</td>\n",
       "      <td>None</td>\n",
       "      <td>nan</td>\n",
       "      <td>13336743.00</td>\n",
       "      <td>not</td>\n",
       "      <td>4723257.00</td>\n",
       "      <td>1450.00</td>\n",
       "    </tr>\n",
       "    <tr>\n",
       "      <th>98061</th>\n",
       "      <td>495793929.00</td>\n",
       "      <td>sum( p.sum )</td>\n",
       "      <td>None</td>\n",
       "      <td>None</td>\n",
       "      <td>None</td>\n",
       "      <td>None</td>\n",
       "      <td>nan</td>\n",
       "      <td>nan</td>\n",
       "      <td>None</td>\n",
       "      <td>None</td>\n",
       "      <td>...</td>\n",
       "      <td>NaT</td>\n",
       "      <td>None</td>\n",
       "      <td>None</td>\n",
       "      <td>None</td>\n",
       "      <td>None</td>\n",
       "      <td>nan</td>\n",
       "      <td>nan</td>\n",
       "      <td>None</td>\n",
       "      <td>nan</td>\n",
       "      <td>nan</td>\n",
       "    </tr>\n",
       "    <tr>\n",
       "      <th>98062</th>\n",
       "      <td>495793929.00</td>\n",
       "      <td>sum( wo.\"Сумма возврата\" )</td>\n",
       "      <td>None</td>\n",
       "      <td>None</td>\n",
       "      <td>None</td>\n",
       "      <td>None</td>\n",
       "      <td>nan</td>\n",
       "      <td>nan</td>\n",
       "      <td>None</td>\n",
       "      <td>None</td>\n",
       "      <td>...</td>\n",
       "      <td>NaT</td>\n",
       "      <td>None</td>\n",
       "      <td>None</td>\n",
       "      <td>None</td>\n",
       "      <td>None</td>\n",
       "      <td>nan</td>\n",
       "      <td>nan</td>\n",
       "      <td>None</td>\n",
       "      <td>nan</td>\n",
       "      <td>nan</td>\n",
       "    </tr>\n",
       "    <tr>\n",
       "      <th>98063</th>\n",
       "      <td>495793929.00</td>\n",
       "      <td>sum( ea.\"Продажная цена Сумма возврата\" )</td>\n",
       "      <td>None</td>\n",
       "      <td>None</td>\n",
       "      <td>None</td>\n",
       "      <td>None</td>\n",
       "      <td>nan</td>\n",
       "      <td>nan</td>\n",
       "      <td>None</td>\n",
       "      <td>None</td>\n",
       "      <td>...</td>\n",
       "      <td>NaT</td>\n",
       "      <td>None</td>\n",
       "      <td>None</td>\n",
       "      <td>None</td>\n",
       "      <td>None</td>\n",
       "      <td>nan</td>\n",
       "      <td>nan</td>\n",
       "      <td>None</td>\n",
       "      <td>nan</td>\n",
       "      <td>nan</td>\n",
       "    </tr>\n",
       "    <tr>\n",
       "      <th>98064</th>\n",
       "      <td>495793929.00</td>\n",
       "      <td>sum( ea.\"Продажная цена Сумма возврата\" )</td>\n",
       "      <td>None</td>\n",
       "      <td>None</td>\n",
       "      <td>None</td>\n",
       "      <td>None</td>\n",
       "      <td>nan</td>\n",
       "      <td>nan</td>\n",
       "      <td>None</td>\n",
       "      <td>None</td>\n",
       "      <td>...</td>\n",
       "      <td>NaT</td>\n",
       "      <td>None</td>\n",
       "      <td>None</td>\n",
       "      <td>None</td>\n",
       "      <td>None</td>\n",
       "      <td>nan</td>\n",
       "      <td>nan</td>\n",
       "      <td>None</td>\n",
       "      <td>nan</td>\n",
       "      <td>nan</td>\n",
       "    </tr>\n",
       "  </tbody>\n",
       "</table>\n",
       "<p>98065 rows × 74 columns</p>\n",
       "</div>"
      ],
      "text/plain": [
       "        ID клиента                      ФИО оформившего заказ  \\\n",
       "0             1.00                              Азгалдян А.Ю.   \n",
       "1             1.00                              Азгалдян А.Ю.   \n",
       "2             1.00                              Азгалдян А.Ю.   \n",
       "3             1.00                              Азгалдян А.Ю.   \n",
       "4             1.00                                Алеев Ф. Р.   \n",
       "...            ...                                        ...   \n",
       "98060          nan                                       None   \n",
       "98061 495793929.00                               sum( p.sum )   \n",
       "98062 495793929.00                 sum( wo.\"Сумма возврата\" )   \n",
       "98063 495793929.00  sum( ea.\"Продажная цена Сумма возврата\" )   \n",
       "98064 495793929.00  sum( ea.\"Продажная цена Сумма возврата\" )   \n",
       "\n",
       "      Наименование клиента Тип клиента Классификация   инн  Отсрочка, дни  \\\n",
       "0             частное лицо          ФЛ          None  None            nan   \n",
       "1             частное лицо          ФЛ          None  None            nan   \n",
       "2             частное лицо          ФЛ          None  None            nan   \n",
       "3             частное лицо          ФЛ          None  None            nan   \n",
       "4             частное лицо          ФЛ          None  None            nan   \n",
       "...                    ...         ...           ...   ...            ...   \n",
       "98060                 None          ФЛ          None  None            nan   \n",
       "98061                 None        None          None  None            nan   \n",
       "98062                 None        None          None  None            nan   \n",
       "98063                 None        None          None  None            nan   \n",
       "98064                 None        None          None  None            nan   \n",
       "\n",
       "       Отсрочка факт, дни ОКВЭД Отрасль  ... Дата готовности к выдаче товара  \\\n",
       "0                     nan  None    None  ...                             NaT   \n",
       "1                     nan  None    None  ...                             NaT   \n",
       "2                     nan  None    None  ...                             NaT   \n",
       "3                     nan  None    None  ...                             NaT   \n",
       "4                     nan  None    None  ...                             NaT   \n",
       "...                   ...   ...     ...  ...                             ...   \n",
       "98060                 nan  None    None  ...                             NaT   \n",
       "98061                 nan  None    None  ...                             NaT   \n",
       "98062                 nan  None    None  ...                             NaT   \n",
       "98063                 nan  None    None  ...                             NaT   \n",
       "98064                 nan  None    None  ...                             NaT   \n",
       "\n",
       "      Время готовности к выдаче товара День готовности к выдаче товара  \\\n",
       "0                                 None                            None   \n",
       "1                                 None                            None   \n",
       "2                                 None                            None   \n",
       "3                                 None                            None   \n",
       "4                                 None                            None   \n",
       "...                                ...                             ...   \n",
       "98060                             None                            None   \n",
       "98061                             None                            None   \n",
       "98062                             None                            None   \n",
       "98063                             None                            None   \n",
       "98064                             None                            None   \n",
       "\n",
       "      Месяц готовности к выдаче товара Год готовности к выдаче товара  \\\n",
       "0                                 None                           None   \n",
       "1                                 None                           None   \n",
       "2                                 None                           None   \n",
       "3                                 None                           None   \n",
       "4                                 None                           None   \n",
       "...                                ...                            ...   \n",
       "98060                             None                           None   \n",
       "98061                             None                           None   \n",
       "98062                             None                           None   \n",
       "98063                             None                           None   \n",
       "98064                             None                           None   \n",
       "\n",
       "      id товара находящийся на складе id принятой по ЗН железяки  case  \\\n",
       "0                          6847221.00                 6847221.00     =   \n",
       "1                          6705151.00                 6705151.00     =   \n",
       "2                          6985629.00                 6985629.00     =   \n",
       "3                          7634309.00                 7634309.00     =   \n",
       "4                          5139497.00                 5139497.00     =   \n",
       "...                               ...                        ...   ...   \n",
       "98060                             nan                13336743.00   not   \n",
       "98061                             nan                        nan  None   \n",
       "98062                             nan                        nan  None   \n",
       "98063                             nan                        nan  None   \n",
       "98064                             nan                        nan  None   \n",
       "\n",
       "      id платежа Сумма возврата  \n",
       "0     2938869.00         120.00  \n",
       "1     2983465.00         470.00  \n",
       "2     3340035.00         450.00  \n",
       "3     2540369.00         211.00  \n",
       "4     2652213.00         400.00  \n",
       "...          ...            ...  \n",
       "98060 4723257.00        1450.00  \n",
       "98061        nan            nan  \n",
       "98062        nan            nan  \n",
       "98063        nan            nan  \n",
       "98064        nan            nan  \n",
       "\n",
       "[98065 rows x 74 columns]"
      ]
     },
     "execution_count": 37,
     "metadata": {},
     "output_type": "execute_result"
    }
   ],
   "source": [
    "## идем по датам, коннектимся, читаем sql file, подставляем даты\n",
    "df_warranty_fon = pd.DataFrame()\n",
    "for i in df_date_Y.iloc[:,:].values:\n",
    "    print(f'\\n\\n{i[0]} || {i[1]} \\n')\n",
    "#   читаем sql file\n",
    "    with open( path_SQL_warranty_fon, \"r\", encoding = \"utf-8\" ) as sql_file:\n",
    "#       коннектимся \n",
    "        with psycopg2.connect(dbname=database, user=user, password=password, host=host) as cnxn:\n",
    "#           подставляем даты\n",
    "#             df_warranty_fon = pd.concat([df_warranty_fon, \n",
    "#                                          pd.read_sql_query(sql_file.read().replace('DATE_START_replce', f'{i[0]}') \\\n",
    "#                                                            .replace('DATE_END_replce', f'{i[1]}'), cnxn)])\n",
    "            df_warranty_fon = pd.read_sql_query(sql_file.read().replace('DATE_START_replce', f'{i[0]}').replace('DATE_END_replce', f'{i[1]}'), cnxn) \n",
    "#   записываем каждую дату excel\n",
    "#     df_warranty_fon.to_excel(path_OUT_dbDATA + r'Фоновый отчет по выручке (по дате продажи) с возвратами/' \\\n",
    "#         + fr'df_warranty_fon { i[0] } { i[1] } .xlsx', index=False, encoding='cp-1251') # , sep='☺',  index=True, cp-1251 encoding='UTF-8', engine='xlsxwriter'\n",
    "#   записываем каждую дату csv\n",
    "#     df_warranty_fon.to_csv(path_OUT_dbDATA + r'Фоновый отчет по выручке (по дате продажи) с возвратами/' \\\n",
    "#         + fr'df_warranty_fon { i[0] } { i[1] } .csv', sep='☺',  index=False) # cp-1251 encoding='UTF-8', engine='xlsxwriter'\n",
    "#   .to_pickle (path, compression='infer', protocol=5, storage_options=None) \n",
    "    df_warranty_fon.to_pickle(path_OUT_dbDATA + r'Фоновый отчет по выручке (по дате продажи) с возвратами/' \\\n",
    "        + fr'df_warranty_fon { i[0] } { i[1] } .pkl', compression='zip') \n",
    "    \n",
    "    print(df_warranty_fon)\n",
    "print(f\"{datasize.DataSize(sys.getsizeof(df_warranty_fon)):MiB}\", ' (gives results in MiB)' )\n",
    "df_warranty_fon"
   ]
  },
  {
   "cell_type": "code",
   "execution_count": 40,
   "id": "022cd417",
   "metadata": {
    "ExecuteTime": {
     "end_time": "2021-07-16T11:02:37.569985Z",
     "start_time": "2021-07-16T11:00:34.828820Z"
    }
   },
   "outputs": [],
   "source": [
    "# df_warranty_fon.to_excel(r'/home/slebedev/df_warranty_fon_1607.xlsx')"
   ]
  },
  {
   "cell_type": "code",
   "execution_count": 38,
   "id": "5eed3c73",
   "metadata": {
    "ExecuteTime": {
     "end_time": "2021-07-16T10:52:24.982426Z",
     "start_time": "2021-07-16T10:52:24.970558Z"
    },
    "scrolled": true
   },
   "outputs": [
    {
     "name": "stdout",
     "output_type": "stream",
     "text": [
      "ID клиента\n",
      "ФИО оформившего заказ\n",
      "Наименование клиента\n",
      "Тип клиента\n",
      "Классификация\n",
      "инн\n",
      "Отсрочка, дни\n",
      "Отсрочка факт, дни\n",
      "ОКВЭД\n",
      "Отрасль\n",
      "Вид деятельности\n",
      "Город клиента\n",
      "Срок жизни клиента\n",
      "Ответственный менеджер\n",
      "Дата отвязки менеджера\n",
      "Маржинальность клиента\n",
      "Прибыль c клиента\n",
      "ID заказа\n",
      "Кто оформил заказ\n",
      "Дата оформления заказа\n",
      "Время оформления заказа\n",
      "Месяц оформления заказа\n",
      "Год оформления заказа\n",
      "Дата закрытия заказа\n",
      "Время закрытия заказа\n",
      "Месяц закрытия заказа\n",
      "Год закрытия заказа\n",
      "Дата отгрузки товара\n",
      "Время отгрузки\n",
      "Месяц отгрузки\n",
      "Год отгрузки\n",
      "Дата полной оплаты заказа\n",
      "Дата полной отгрузки заказа\n",
      "Тип позиции\n",
      "Артикул\n",
      "Наименование позиции\n",
      "Производитель\n",
      "Категория\n",
      "Поставщик\n",
      "Расчетная себестоимость\n",
      "Себестоимость чистая\n",
      "Продажная цена\n",
      "Статус списания\n",
      "Маржа\n",
      "Наценка\n",
      "Склад отгрузки\n",
      "Город отгрузки\n",
      "Дата реализации\n",
      "Время реализации\n",
      "Месяц реализации\n",
      "Год реализации\n",
      "Адрес склада\n",
      "Тип оплаты\n",
      "Способ доставки\n",
      "Транспортная компания\n",
      "Регион доставки\n",
      "Город доставки\n",
      "Адрес доставки\n",
      "Сумма НДС\n",
      "Фирма-поставщик\n",
      "Фирма-грузоотправитель\n",
      "Тендер\n",
      "Запрос цен\n",
      "Коммерческое предложение\n",
      "Дата готовности к выдаче товара\n",
      "Время готовности к выдаче товара\n",
      "День готовности к выдаче товара\n",
      "Месяц готовности к выдаче товара\n",
      "Год готовности к выдаче товара\n",
      "id товара находящийся на складе\n",
      "id принятой по ЗН железяки\n",
      "case\n",
      "id платежа\n",
      "Сумма возврата\n"
     ]
    }
   ],
   "source": [
    "for i in df_warranty_fon.columns:\n",
    "    print(i)"
   ]
  },
  {
   "cell_type": "markdown",
   "id": "d972072f",
   "metadata": {
    "ExecuteTime": {
     "end_time": "2021-07-01T10:02:13.927183Z",
     "start_time": "2021-07-01T10:02:13.923767Z"
    }
   },
   "source": [
    "# End"
   ]
  },
  {
   "cell_type": "code",
   "execution_count": 39,
   "id": "15b61d2e",
   "metadata": {
    "ExecuteTime": {
     "end_time": "2021-07-16T10:52:24.992479Z",
     "start_time": "2021-07-16T10:52:24.985759Z"
    }
   },
   "outputs": [
    {
     "name": "stdout",
     "output_type": "stream",
     "text": [
      "\n",
      "\n",
      "\n",
      "*** End ***\n",
      "\n",
      "\n",
      "\n"
     ]
    }
   ],
   "source": [
    "print('\\n\\n\\n*** End ***\\n\\n\\n')"
   ]
  },
  {
   "cell_type": "code",
   "execution_count": null,
   "id": "340882f2",
   "metadata": {},
   "outputs": [],
   "source": []
  },
  {
   "cell_type": "code",
   "execution_count": null,
   "id": "61fffd38",
   "metadata": {},
   "outputs": [],
   "source": []
  }
 ],
 "metadata": {
  "hide_input": false,
  "kernelspec": {
   "display_name": "Python 3",
   "language": "python",
   "name": "python3"
  },
  "language_info": {
   "codemirror_mode": {
    "name": "ipython",
    "version": 3
   },
   "file_extension": ".py",
   "mimetype": "text/x-python",
   "name": "python",
   "nbconvert_exporter": "python",
   "pygments_lexer": "ipython3",
   "version": "3.6.8"
  },
  "toc": {
   "base_numbering": 1,
   "nav_menu": {},
   "number_sections": false,
   "sideBar": false,
   "skip_h1_title": false,
   "title_cell": "Table of Contents",
   "title_sidebar": "Contents",
   "toc_cell": false,
   "toc_position": {
    "height": "764px",
    "left": "0px",
    "top": "152px",
    "width": "228px"
   },
   "toc_section_display": true,
   "toc_window_display": true
  },
  "varInspector": {
   "cols": {
    "lenName": 16,
    "lenType": 16,
    "lenVar": 40
   },
   "kernels_config": {
    "python": {
     "delete_cmd_postfix": "",
     "delete_cmd_prefix": "del ",
     "library": "var_list.py",
     "varRefreshCmd": "print(var_dic_list())"
    },
    "r": {
     "delete_cmd_postfix": ") ",
     "delete_cmd_prefix": "rm(",
     "library": "var_list.r",
     "varRefreshCmd": "cat(var_dic_list()) "
    }
   },
   "types_to_exclude": [
    "module",
    "function",
    "builtin_function_or_method",
    "instance",
    "_Feature"
   ],
   "window_display": false
  }
 },
 "nbformat": 4,
 "nbformat_minor": 5
}
