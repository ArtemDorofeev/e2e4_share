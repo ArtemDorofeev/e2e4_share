{
 "cells": [
  {
   "cell_type": "code",
   "execution_count": 3,
   "id": "4e9ceee1-c4dd-4fd5-a41d-a8b003fb30b8",
   "metadata": {},
   "outputs": [],
   "source": [
    "import requests\n",
    "import sys\n",
    "import json\n",
    "import datetime\n",
    "import pandas as pd\n",
    "import numpy as np\n",
    "import time"
   ]
  },
  {
   "cell_type": "code",
   "execution_count": 33,
   "id": "26c393c4-4001-4e33-9fed-76a93a9ef2cd",
   "metadata": {},
   "outputs": [],
   "source": [
    "# Номер счетчика\n",
    "count = 1104419\n",
    "\n",
    "# API токен Яндекс Метрика\n",
    "api_token = 'OAuth y0_AgAAAAAKbPwPAAoqfgAAAADnhGWcDf-pg2flQQmJupIgB4GqDCOjWUc'\n",
    "\n",
    "# HEADER запроса\n",
    "metrika_headers = {\n",
    "'GET': '/management/v1/counters HTTP/1.1',\n",
    "'Host': 'api-metrika.yandex.net',\n",
    "'Authorization': api_token,\n",
    "'Content-Type': 'application/x-yametrika+json'\n",
    "}\n",
    "\n",
    "# URL запроса\n",
    "metrika_url = 'https://api-metrika.yandex.net/management/v1/counter'\n",
    "\n",
    "# Список полей отчета\n",
    "fields_list = ['ym:s:visitID', 'ym:s:watchIDs',\n",
    "               'ym:s:dateTimeUTC',\n",
    "               'ym:s:regionCity','ym:s:clientID',\n",
    "               'ym:s:goalsID',\n",
    "               'ym:s:goalsDateTime',\n",
    "               'ym:s:goalsOrder',\n",
    "               'ym:s:lastTrafficSource','ym:s:lastAdvEngine',\n",
    "               'ym:s:lastReferalSource','ym:s:lastSearchEngineRoot',\n",
    "               'ym:s:lastDirectClickOrder','ym:s:lastDirectBannerGroup',\n",
    "               'ym:s:lastDirectClickBanner','ym:s:lastDirectClickOrderName',\n",
    "               'ym:s:lastClickBannerGroupName','ym:s:lastDirectClickBannerName'\n",
    "              ]\n",
    "\n",
    "field_rus = ['ID визита', 'Просмотры',                 \n",
    "             'Дата и время визита',\n",
    "             'Город','ID пользователя',\n",
    "             'ID целей',\n",
    "             'Время достижения цели',\n",
    "             'ID заказов','Источник трафика',\n",
    "             'Рекламная система', 'Переход с сайтов', 'Поисковая система',\n",
    "             'Кампания ЯД', 'Группа объявлений',\n",
    "             'Объявление ЯД', 'Название кампании ЯД',\n",
    "             'Название группы объявлений', 'Название объявления ЯД'\n",
    "            ]\n",
    "\n",
    "# Параметры для выгрузки\n",
    "\n",
    "# Определяем период для отчета\n",
    "\n",
    "report_date = datetime.datetime.now() - datetime.timedelta(days=1)\n",
    "\n",
    "date_from = (report_date.date() - datetime.timedelta(days=29)).strftime(\"%Y-%m-%d\")\n",
    "date_till = report_date.date().strftime(\"%Y-%m-%d\") # Дата окончания отчета\n",
    "\n",
    "payload = {\n",
    "           'fields': fields_list,\n",
    "           'date1': date_from,  # начальная дата\n",
    "           'date2': date_till,  # конечная дата\n",
    "           'source': 'visits'           \n",
    "}"
   ]
  },
  {
   "cell_type": "code",
   "execution_count": 34,
   "id": "b8208f35-f7c0-4200-96c6-2706c9ad4623",
   "metadata": {},
   "outputs": [
    {
     "data": {
      "text/plain": [
       "'2023-07-23'"
      ]
     },
     "execution_count": 34,
     "metadata": {},
     "output_type": "execute_result"
    }
   ],
   "source": [
    "date_till"
   ]
  },
  {
   "cell_type": "code",
   "execution_count": 35,
   "id": "38ed6daa-c103-4875-9322-812b1803dac0",
   "metadata": {},
   "outputs": [
    {
     "data": {
      "text/plain": [
       "<Response [200]>"
      ]
     },
     "execution_count": 35,
     "metadata": {},
     "output_type": "execute_result"
    }
   ],
   "source": [
    "possible_download = f'{metrika_url}/{count}/logrequests/evaluate'\n",
    "poss_resp = requests.get(possible_download, params=payload1, headers=metrika_headers)\n",
    "poss_resp"
   ]
  }
 ],
 "metadata": {
  "kernelspec": {
   "display_name": "python39-spark-conda",
   "language": "python",
   "name": "python39-spark-conda"
  },
  "language_info": {
   "codemirror_mode": {
    "name": "ipython",
    "version": 3
   },
   "file_extension": ".py",
   "mimetype": "text/x-python",
   "name": "python",
   "nbconvert_exporter": "python",
   "pygments_lexer": "ipython3",
   "version": "3.9.7"
  }
 },
 "nbformat": 4,
 "nbformat_minor": 5
}
