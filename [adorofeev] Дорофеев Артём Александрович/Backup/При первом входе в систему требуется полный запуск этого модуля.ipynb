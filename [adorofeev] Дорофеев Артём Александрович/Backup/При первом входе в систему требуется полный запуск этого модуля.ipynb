{
 "cells": [
  {
   "cell_type": "markdown",
   "id": "2eb63ccb",
   "metadata": {
    "ExecuteTime": {
     "end_time": "2021-10-04T07:01:53.429180Z",
     "start_time": "2021-10-04T07:01:53.426139Z"
    },
    "deletable": false,
    "editable": false
   },
   "source": [
    "# При первом входе в систему требуется полный запуск этого модуля"
   ]
  },
  {
   "cell_type": "markdown",
   "id": "4b8ccfc1",
   "metadata": {
    "ExecuteTime": {
     "end_time": "2021-10-04T07:02:31.186173Z",
     "start_time": "2021-10-04T07:02:31.183551Z"
    },
    "deletable": false,
    "editable": false
   },
   "source": [
    "## активировать модули "
   ]
  },
  {
   "cell_type": "code",
   "execution_count": null,
   "id": "a9070c72",
   "metadata": {},
   "outputs": [],
   "source": [
    "# установить либу\n",
    "# !pip install jupyterthemes\n",
    "# активировать модули в nbextension \n",
    "!jupyter nbextensions_configurator enable \n",
    "\n",
    "!jupyter nbextension enable hide_input_all/main\n",
    "!jupyter nbextension enable init_cell/main\n",
    "!jupyter nbextension enable scroll_down/main\n",
    "!jupyter nbextension enable toc2/main\n",
    "!jupyter nbextension enable varInspector/main\n",
    "!jupyter nbextension enable collapsible_headings/main\n",
    "!jupyter nbextension enable help_panel/help_panel\n",
    "!jupyter nbextension enable highlight_selected_word/main\n",
    "!jupyter nbextension enable keyboard_shortcut_editor/main\n",
    "!jupyter nbextension enable nbextensions_configurator/main\n",
    "!jupyter nbextension enable codefolding/main\n",
    "!jupyter nbextension enable execute_time/ExecuteTime\n",
    "!jupyter nbextension enable export_embedded/main\n",
    "!jupyter nbextension enable hide_header/main\n",
    "!jupyter nbextension enable nbextensions_configurator/main\n",
    "!jupyter nbextension enable toggle_all_line_numbers/main\n",
    "!jupyter nbextension enable cell_filter/cell_filter\n",
    "!jupyter nbextension enable codefolding/edit\n",
    "!jupyter nbextension enable contrib_nbextensions_help_item/main\n",
    "!jupyter nbextension enable freeze/main\n",
    "!jupyter nbextension enable hide_input/main\n",
    "!jupyter nbextension enable skip-traceback/main\n",
    "!jupyter nbextension enable tree-filter/index\n"
   ]
  },
  {
   "cell_type": "markdown",
   "id": "de97b1fd",
   "metadata": {
    "ExecuteTime": {
     "end_time": "2021-10-04T07:02:47.183009Z",
     "start_time": "2021-10-04T07:02:47.180746Z"
    },
    "deletable": false,
    "editable": false
   },
   "source": [
    "## применить первичные настройки "
   ]
  },
  {
   "cell_type": "code",
   "execution_count": null,
   "id": "71daf450",
   "metadata": {},
   "outputs": [],
   "source": []
  },
  {
   "cell_type": "code",
   "execution_count": 2,
   "id": "5da0f3e6",
   "metadata": {
    "ExecuteTime": {
     "end_time": "2021-10-20T17:00:14.495055Z",
     "start_time": "2021-10-20T17:00:13.576972Z"
    }
   },
   "outputs": [],
   "source": [
    "!jt -t grade3 -N -kl -cellw 70% -m 200 -fs 115 -cursc p -ofs 13 -lineh 170\n",
    "\n",
    "# !jt -t grade3 -T -N -kl -cellw 70% -m 200 -fs 115 -cursc p -ofs 13 -lineh 170 # для видимости кода!\n",
    "\n",
    "# !jt -t onedork -T -N -kl -cellw 70% -m 200 -fs 115 -cursc p -ofs 125 -lineh 170\n",
    "\n",
    "# list available themes\n",
    "# onedork | grade3 | oceans16 | chesterish | monokai | solarizedl | solarizedd # grade3 - белая onedork monokai темные \n",
    "\n",
    "# Toolbar Visible\t-T\n",
    "# Name & Logo Visible\t-N\n",
    "# Kernel Logo Visible\t-kl\n",
    "# Cell Width\t-cellw\n",
    "# Intro Page Margins\t-m\n",
    "# Code Font-Size\t-fs\n",
    "# Cursor Color\t-cursc\n",
    "# Output Area Fontsize\t-ofs вывод (на юзерах 13)\n",
    "# Line Height\t-lineh 170 норм непонятная хрень"
   ]
  },
  {
   "cell_type": "markdown",
   "id": "ab6c11ef",
   "metadata": {
    "ExecuteTime": {
     "end_time": "2021-10-04T07:03:45.597996Z",
     "start_time": "2021-10-04T07:03:45.594079Z"
    },
    "deletable": false,
    "editable": false
   },
   "source": [
    "## После полного запуска выйдите из своего аккаунта (справа вверху Logout) и зайдите заново\n",
    "для этого выйдите из под своего залогиненного аккаунта и зайдите заново! сохраните пароль и страницу для удобства"
   ]
  },
  {
   "cell_type": "code",
   "execution_count": null,
   "id": "898eb26b",
   "metadata": {},
   "outputs": [],
   "source": [
    "# from IPython.display import display_html\n",
    "# def restartkernel() :\n",
    "#     display_html(\"<script>Jupyter.notebook.kernel.restart()</script>\",raw=True)\n",
    "# restartkernel()\n",
    "\n",
    "# import os\n",
    "# os._exit(00)\n",
    "\n",
    "import IPython\n",
    "IPython.Application.instance().kernel.do_shutdown(True); #automatically restarts kernel\n",
    "print('Готово')"
   ]
  },
  {
   "cell_type": "code",
   "execution_count": null,
   "id": "091d3a5f",
   "metadata": {},
   "outputs": [],
   "source": []
  },
  {
   "cell_type": "code",
   "execution_count": null,
   "id": "9f705235",
   "metadata": {},
   "outputs": [],
   "source": []
  },
  {
   "cell_type": "code",
   "execution_count": null,
   "id": "b4c2122e",
   "metadata": {},
   "outputs": [],
   "source": []
  }
 ],
 "metadata": {
  "hide_input": true,
  "kernelspec": {
   "display_name": "Python 3",
   "language": "python",
   "name": "python3"
  },
  "language_info": {
   "codemirror_mode": {
    "name": "ipython",
    "version": 3
   },
   "file_extension": ".py",
   "mimetype": "text/x-python",
   "name": "python",
   "nbconvert_exporter": "python",
   "pygments_lexer": "ipython3",
   "version": "3.6.8"
  },
  "toc": {
   "base_numbering": 1,
   "nav_menu": {},
   "number_sections": true,
   "sideBar": true,
   "skip_h1_title": false,
   "title_cell": "Table of Contents",
   "title_sidebar": "Contents",
   "toc_cell": false,
   "toc_position": {
    "height": "100px",
    "left": "54px",
    "top": "197.75px",
    "width": "281px"
   },
   "toc_section_display": true,
   "toc_window_display": true
  },
  "varInspector": {
   "cols": {
    "lenName": 16,
    "lenType": 16,
    "lenVar": 40
   },
   "kernels_config": {
    "python": {
     "delete_cmd_postfix": "",
     "delete_cmd_prefix": "del ",
     "library": "var_list.py",
     "varRefreshCmd": "print(var_dic_list())"
    },
    "r": {
     "delete_cmd_postfix": ") ",
     "delete_cmd_prefix": "rm(",
     "library": "var_list.r",
     "varRefreshCmd": "cat(var_dic_list()) "
    }
   },
   "types_to_exclude": [
    "module",
    "function",
    "builtin_function_or_method",
    "instance",
    "_Feature"
   ],
   "window_display": false
  }
 },
 "nbformat": 4,
 "nbformat_minor": 5
}
