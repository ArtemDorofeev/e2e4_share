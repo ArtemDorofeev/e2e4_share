{
 "cells": [
  {
   "cell_type": "code",
   "execution_count": 1,
   "id": "d99c7a2c-283d-4c8b-abc3-4ec39ca9139d",
   "metadata": {},
   "outputs": [],
   "source": [
    "# 0 0 * * * /opt/anaconda3/envs/jupyter_env/bin/ipython /home/slebedev/jhub-analytics/'_ Analytics department'/'[АВТОЗАПУСК]'/'[АВТОЗАПУСК] BA-470 Оплаченные заказы с сайта для метрики.py'\n",
    "\n",
    "# magic    \n",
    "get_ipython().run_line_magic('matplotlib', 'inline')\n",
    "# run files\n",
    "get_ipython().run_line_magic('run', '/srv/jhub/share/._Additions/import_libs.py')\n",
    "get_ipython().run_line_magic('run', '/srv/jhub/share/._Additions/Connecting_.py')\n",
    "get_ipython().run_line_magic('run', '/srv/jhub/share/._Additions/my_script.py')\n",
    "get_ipython().run_line_magic('run', '/srv/jhub/share/._Additions/Date_gen.py')\n",
    "get_ipython().run_line_magic('run', '/srv/jhub/share/._Additions/xx.py')\n",
    "\n",
    "############################## End ##############################"
   ]
  },
  {
   "cell_type": "code",
   "execution_count": 2,
   "id": "8fb67f43-73b2-4225-a026-a1b03ca24929",
   "metadata": {},
   "outputs": [],
   "source": [
    "import requests\n",
    "import sys\n",
    "import json\n",
    "import pandas as pd\n",
    "import numpy as np\n",
    "import datetime\n",
    "import time\n",
    "import pytz\n",
    "\n",
    "# Функции для метрики\n",
    "from Metrika_logs import param_logs\n",
    "from Metrika_logs import make_logs\n",
    "from Metrika_logs import param_costs\n",
    "from Metrika_logs import report_costs\n",
    "\n",
    "# Функции для БД\n",
    "from Q478_sql import db_connect\n",
    "from Q478_sql import query\n",
    "from Q478_sql import sql_query"
   ]
  },
  {
   "cell_type": "markdown",
   "id": "a6da1013-eabd-40a3-951d-b201517db44f",
   "metadata": {},
   "source": [
    "1. Выгружаем данные из Я.Метрики за отчетный период"
   ]
  },
  {
   "cell_type": "code",
   "execution_count": 14,
   "id": "d13b93af-0c38-46ef-b580-f2ee2bb1b0ca",
   "metadata": {},
   "outputs": [],
   "source": [
    "# Определяем период для отчета\n",
    "\n",
    "report_date = datetime.datetime.now() - datetime.timedelta(days=9)\n",
    "\n",
    "date_from = (report_date.date() - datetime.timedelta(days=29)).strftime(\"%Y-%m-%d\")\n",
    "date_till = report_date.date().strftime(\"%Y-%m-%d\") # Дата окончания отчета\n",
    "\n",
    "# Рекламные аккаунты Я.Директа\n",
    "\n",
    "client_logins = ['e2e4online18', 'e2e4vendor', 'e2e4gender']\n",
    "\n",
    "# Определяем цели метрики\n",
    "\n",
    "targets = {'Оформление заказа на сайте': 45333839, 'CRM: Заказ создан': 296990514}#, 'CRM: Заказ оплачен': 296990523}\n"
   ]
  },
  {
   "cell_type": "code",
   "execution_count": 16,
   "id": "097c166a-87b9-4041-be07-5b31a12f4916",
   "metadata": {},
   "outputs": [
    {
     "data": {
      "text/plain": [
       "'2023-08-14'"
      ]
     },
     "execution_count": 16,
     "metadata": {},
     "output_type": "execute_result"
    }
   ],
   "source": [
    "date_till"
   ]
  },
  {
   "cell_type": "code",
   "execution_count": 15,
   "id": "008a2bcf-b8c6-4747-b1c0-e752ac49c809",
   "metadata": {},
   "outputs": [
    {
     "data": {
      "text/plain": [
       "'2023-07-16'"
      ]
     },
     "execution_count": 15,
     "metadata": {},
     "output_type": "execute_result"
    }
   ],
   "source": [
    "date_from"
   ]
  },
  {
   "cell_type": "code",
   "execution_count": 17,
   "id": "67442ee0-e06b-4ef8-8cb1-de92bdc9bd58",
   "metadata": {},
   "outputs": [
    {
     "name": "stdout",
     "output_type": "stream",
     "text": [
      "1. Проверяем возможность создания логов на сервере Яндекса\n",
      "2. Отправляем запрос на создание логов на сервер Яндекса\n",
      "3. Проверяем статус запроса 31764443 на сервере Яндекса\n",
      "4. Логи готовы (2 партии), скачиваем их с сервера Яндекса\n",
      "5. Логи скачены, удаляем их с сервера Яндекса\n",
      "6. Логи удалены с сервера Яндекса\n"
     ]
    }
   ],
   "source": [
    "# Получаем параметры запроса для выгрузки логов\n",
    "\n",
    "metrika_headers, metrika_url, payload, count, field_rus = param_logs(date_from, date_till)\n",
    "\n",
    "# Выгружаем логи с сервера Яндекса в датасет\n",
    "\n",
    "df_logs = make_logs(metrika_headers, metrika_url, payload, count, field_rus)"
   ]
  },
  {
   "cell_type": "code",
   "execution_count": 18,
   "id": "89d96d60-42b0-4b3c-8d43-eab8c70eb613",
   "metadata": {},
   "outputs": [],
   "source": [
    "df_log_test = df_logs.copy()"
   ]
  },
  {
   "cell_type": "code",
   "execution_count": 19,
   "id": "20f9e599-b677-40cc-b04c-e51c0b2e9a93",
   "metadata": {},
   "outputs": [
    {
     "name": "stderr",
     "output_type": "stream",
     "text": [
      "/tmp/ipykernel_3334849/1837451763.py:3: FutureWarning:\n",
      "\n",
      "The default value of regex will change from True to False in a future version. In addition, single character regular expressions will *not* be treated as literal strings when regex=True.\n",
      "\n"
     ]
    }
   ],
   "source": [
    "# Преобразование типа данных полей таблицы Я.Метрики \n",
    "\n",
    "df_logs['Время достижения цели'] = df_logs['Время достижения цели'].str.replace(\"\\\\\", \"\")\n",
    "\n",
    "for i in ['ID целей',\n",
    "        'Время достижения цели',\n",
    "        'ID заказов']:\n",
    "    df_logs[i] = df_logs[i].apply(lambda x: eval(x))\n",
    "\n",
    "# Фильтруем уникальные позиции заказов \n",
    "\n",
    "def unique_ord(row):\n",
    "    un = set(row)\n",
    "    l = list(un)\n",
    "    try:\n",
    "        l.remove('')\n",
    "    except:\n",
    "        l\n",
    "    return l\n",
    "\n",
    "df_logs['ID заказов'] = df_logs['ID заказов'].apply(unique_ord)\n",
    "\n",
    "# Оставляем только целевые визиты\n",
    "\n",
    "for key, value in targets.items():\n",
    "    df_logs[key] = df_logs['ID целей'].apply(lambda x: 'order' if value in x else np.nan)\n",
    "    \n",
    "df_logs = df_logs[df_logs['Оформление заказа на сайте'].notna() | df_logs['CRM: Заказ создан'].notna()]# | df_logs['CRM: Заказ оплачен'].notna()]\n",
    "df_logs.drop(columns=['Оформление заказа на сайте', 'CRM: Заказ создан'], inplace=True)\n",
    "\n",
    "# Выделяем цели ЯМ, касающиеся только оформления заказа на сайте\n",
    "\n",
    "df_logs = df_logs.explode(['ID целей', 'Время достижения цели'])\n",
    "df_logs = df_logs[df_logs['ID целей'].isin(list(targets.values()))]\n",
    "\n",
    "# Приводим даты и время к часовому поясу НСК+7\n",
    "\n",
    "tz_3 = pytz.timezone(\"Europe/Moscow\")\n",
    "tz_7 = pytz.timezone(\"Asia/Novosibirsk\")\n",
    "\n",
    "def interval(row):\n",
    "    lst = []\n",
    "    for i in range(-3, 6):\n",
    "        x = datetime.datetime.strftime(tz_3.localize(datetime.datetime.strptime(row, '%Y-%m-%d %H:%M:%S')).astimezone(tz_7) - datetime.timedelta(seconds=i), '%Y-%m-%d %H:%M:%S')\n",
    "        lst.append(x)\n",
    "    return lst\n",
    "\n",
    "df_logs['interval'] = df_logs['Время достижения цели'].apply(interval)\n",
    "\n",
    "for i in ['Дата и время визита', 'Время достижения цели']:\n",
    "    df_logs[i] = df_logs[i].apply(lambda x: datetime.datetime.strftime(tz_3.localize(datetime.datetime.strptime(x, '%Y-%m-%d %H:%M:%S')).astimezone(tz_7), '%Y-%m-%d %H:%M:%S'))\n",
    "    \n"
   ]
  },
  {
   "cell_type": "code",
   "execution_count": 20,
   "id": "6c6291ab-4d89-40a4-9e6e-99b1752a3927",
   "metadata": {},
   "outputs": [
    {
     "data": {
      "text/plain": [
       "200"
      ]
     },
     "execution_count": 20,
     "metadata": {},
     "output_type": "execute_result"
    }
   ],
   "source": [
    "# Выгружаем затраты с сервера Яндекса в датасет\n",
    "\n",
    "download_status, df_costs = report_costs(date_from, date_till, client_logins)\n",
    "download_status"
   ]
  },
  {
   "cell_type": "code",
   "execution_count": 21,
   "id": "a9bded47-8b33-48a1-b156-e9e47767ea2c",
   "metadata": {},
   "outputs": [],
   "source": [
    "# Преобразование таблицы расходов Я.Метрики\n",
    "\n",
    "df_costs.columns = ['Источник трафика', 'Кампания ЯД', 'Название кампании', 'Расходы по рекламной кампании']\n",
    "df_costs = df_costs.drop_duplicates()"
   ]
  },
  {
   "cell_type": "markdown",
   "id": "9cb5a31f-7c82-47e7-a62c-b3cb2733f4eb",
   "metadata": {},
   "source": [
    "2. Выгружаем заказы из БД за отчетный период"
   ]
  },
  {
   "cell_type": "code",
   "execution_count": 22,
   "id": "0aef941a-e7eb-4eca-a10c-bb2268809ae5",
   "metadata": {},
   "outputs": [],
   "source": [
    "# Формируем SQL запрос\n",
    "\n",
    "sql_query = sql_query(date_from, date_till)"
   ]
  },
  {
   "cell_type": "code",
   "execution_count": null,
   "id": "5a272c4f-0437-44d3-9917-3f9712caf2e8",
   "metadata": {},
   "outputs": [
    {
     "name": "stdout",
     "output_type": "stream",
     "text": [
      "1. Соединение с PostgreSQL установлено. Загружаем данные...\n"
     ]
    }
   ],
   "source": [
    "# Получаем данные из БД\n",
    "\n",
    "df_sql = query(sql_query)"
   ]
  },
  {
   "cell_type": "code",
   "execution_count": 170,
   "id": "ec9d7cd9-ee44-4d9f-80b3-318f4788d08c",
   "metadata": {},
   "outputs": [
    {
     "ename": "AttributeError",
     "evalue": "'str' object has no attribute 'astimezone'",
     "output_type": "error",
     "traceback": [
      "\u001b[0;31m---------------------------------------------------------------------------\u001b[0m",
      "\u001b[0;31mAttributeError\u001b[0m                            Traceback (most recent call last)",
      "\u001b[0;32m/tmp/ipykernel_2693822/3873221060.py\u001b[0m in \u001b[0;36m<module>\u001b[0;34m\u001b[0m\n\u001b[1;32m      1\u001b[0m \u001b[0;31m# Преобразование типа данных таблицы заказов из БД\u001b[0m\u001b[0;34m\u001b[0m\u001b[0;34m\u001b[0m\u001b[0m\n\u001b[1;32m      2\u001b[0m \u001b[0;34m\u001b[0m\u001b[0m\n\u001b[0;32m----> 3\u001b[0;31m \u001b[0mdf_sql\u001b[0m\u001b[0;34m[\u001b[0m\u001b[0;34m'order_date'\u001b[0m\u001b[0;34m]\u001b[0m \u001b[0;34m=\u001b[0m \u001b[0mdf_sql\u001b[0m\u001b[0;34m[\u001b[0m\u001b[0;34m'order_date'\u001b[0m\u001b[0;34m]\u001b[0m\u001b[0;34m.\u001b[0m\u001b[0mapply\u001b[0m\u001b[0;34m(\u001b[0m\u001b[0;32mlambda\u001b[0m \u001b[0mx\u001b[0m\u001b[0;34m:\u001b[0m \u001b[0mdatetime\u001b[0m\u001b[0;34m.\u001b[0m\u001b[0mdatetime\u001b[0m\u001b[0;34m.\u001b[0m\u001b[0mstrftime\u001b[0m\u001b[0;34m(\u001b[0m\u001b[0mx\u001b[0m\u001b[0;34m.\u001b[0m\u001b[0mastimezone\u001b[0m\u001b[0;34m(\u001b[0m\u001b[0mtz_7\u001b[0m\u001b[0;34m)\u001b[0m\u001b[0;34m,\u001b[0m \u001b[0;34m'%Y-%m-%d %H:%M:%S'\u001b[0m\u001b[0;34m)\u001b[0m\u001b[0;34m)\u001b[0m\u001b[0;34m\u001b[0m\u001b[0;34m\u001b[0m\u001b[0m\n\u001b[0m\u001b[1;32m      4\u001b[0m \u001b[0mdf_sql\u001b[0m\u001b[0;34m[\u001b[0m\u001b[0;34m'y_client_ids'\u001b[0m\u001b[0;34m]\u001b[0m \u001b[0;34m=\u001b[0m \u001b[0mdf_sql\u001b[0m\u001b[0;34m[\u001b[0m\u001b[0;34m'y_client_ids'\u001b[0m\u001b[0;34m]\u001b[0m\u001b[0;34m.\u001b[0m\u001b[0mapply\u001b[0m\u001b[0;34m(\u001b[0m\u001b[0;32mlambda\u001b[0m \u001b[0mx\u001b[0m\u001b[0;34m:\u001b[0m \u001b[0;32mNone\u001b[0m \u001b[0;32mif\u001b[0m \u001b[0mx\u001b[0m \u001b[0;34m==\u001b[0m \u001b[0;34m'null'\u001b[0m \u001b[0;32melse\u001b[0m \u001b[0mx\u001b[0m\u001b[0;34m)\u001b[0m\u001b[0;34m\u001b[0m\u001b[0;34m\u001b[0m\u001b[0m\n\u001b[1;32m      5\u001b[0m \u001b[0;32mfor\u001b[0m \u001b[0mi\u001b[0m \u001b[0;32min\u001b[0m \u001b[0mrange\u001b[0m\u001b[0;34m(\u001b[0m\u001b[0;36m9\u001b[0m\u001b[0;34m,\u001b[0m \u001b[0;36m14\u001b[0m\u001b[0;34m)\u001b[0m\u001b[0;34m:\u001b[0m\u001b[0;34m\u001b[0m\u001b[0;34m\u001b[0m\u001b[0m\n",
      "\u001b[0;32m/opt/anaconda3/envs/jupyter_env/lib/python3.9/site-packages/pandas/core/series.py\u001b[0m in \u001b[0;36mapply\u001b[0;34m(self, func, convert_dtype, args, **kwargs)\u001b[0m\n\u001b[1;32m   4355\u001b[0m         \u001b[0mdtype\u001b[0m\u001b[0;34m:\u001b[0m \u001b[0mfloat64\u001b[0m\u001b[0;34m\u001b[0m\u001b[0;34m\u001b[0m\u001b[0m\n\u001b[1;32m   4356\u001b[0m         \"\"\"\n\u001b[0;32m-> 4357\u001b[0;31m         \u001b[0;32mreturn\u001b[0m \u001b[0mSeriesApply\u001b[0m\u001b[0;34m(\u001b[0m\u001b[0mself\u001b[0m\u001b[0;34m,\u001b[0m \u001b[0mfunc\u001b[0m\u001b[0;34m,\u001b[0m \u001b[0mconvert_dtype\u001b[0m\u001b[0;34m,\u001b[0m \u001b[0margs\u001b[0m\u001b[0;34m,\u001b[0m \u001b[0mkwargs\u001b[0m\u001b[0;34m)\u001b[0m\u001b[0;34m.\u001b[0m\u001b[0mapply\u001b[0m\u001b[0;34m(\u001b[0m\u001b[0;34m)\u001b[0m\u001b[0;34m\u001b[0m\u001b[0;34m\u001b[0m\u001b[0m\n\u001b[0m\u001b[1;32m   4358\u001b[0m \u001b[0;34m\u001b[0m\u001b[0m\n\u001b[1;32m   4359\u001b[0m     def _reduce(\n",
      "\u001b[0;32m/opt/anaconda3/envs/jupyter_env/lib/python3.9/site-packages/pandas/core/apply.py\u001b[0m in \u001b[0;36mapply\u001b[0;34m(self)\u001b[0m\n\u001b[1;32m   1041\u001b[0m             \u001b[0;32mreturn\u001b[0m \u001b[0mself\u001b[0m\u001b[0;34m.\u001b[0m\u001b[0mapply_str\u001b[0m\u001b[0;34m(\u001b[0m\u001b[0;34m)\u001b[0m\u001b[0;34m\u001b[0m\u001b[0;34m\u001b[0m\u001b[0m\n\u001b[1;32m   1042\u001b[0m \u001b[0;34m\u001b[0m\u001b[0m\n\u001b[0;32m-> 1043\u001b[0;31m         \u001b[0;32mreturn\u001b[0m \u001b[0mself\u001b[0m\u001b[0;34m.\u001b[0m\u001b[0mapply_standard\u001b[0m\u001b[0;34m(\u001b[0m\u001b[0;34m)\u001b[0m\u001b[0;34m\u001b[0m\u001b[0;34m\u001b[0m\u001b[0m\n\u001b[0m\u001b[1;32m   1044\u001b[0m \u001b[0;34m\u001b[0m\u001b[0m\n\u001b[1;32m   1045\u001b[0m     \u001b[0;32mdef\u001b[0m \u001b[0magg\u001b[0m\u001b[0;34m(\u001b[0m\u001b[0mself\u001b[0m\u001b[0;34m)\u001b[0m\u001b[0;34m:\u001b[0m\u001b[0;34m\u001b[0m\u001b[0;34m\u001b[0m\u001b[0m\n",
      "\u001b[0;32m/opt/anaconda3/envs/jupyter_env/lib/python3.9/site-packages/pandas/core/apply.py\u001b[0m in \u001b[0;36mapply_standard\u001b[0;34m(self)\u001b[0m\n\u001b[1;32m   1096\u001b[0m                 \u001b[0;31m# List[Union[Callable[..., Any], str]]]]]\"; expected\u001b[0m\u001b[0;34m\u001b[0m\u001b[0;34m\u001b[0m\u001b[0m\n\u001b[1;32m   1097\u001b[0m                 \u001b[0;31m# \"Callable[[Any], Any]\"\u001b[0m\u001b[0;34m\u001b[0m\u001b[0;34m\u001b[0m\u001b[0m\n\u001b[0;32m-> 1098\u001b[0;31m                 mapped = lib.map_infer(\n\u001b[0m\u001b[1;32m   1099\u001b[0m                     \u001b[0mvalues\u001b[0m\u001b[0;34m,\u001b[0m\u001b[0;34m\u001b[0m\u001b[0;34m\u001b[0m\u001b[0m\n\u001b[1;32m   1100\u001b[0m                     \u001b[0mf\u001b[0m\u001b[0;34m,\u001b[0m  \u001b[0;31m# type: ignore[arg-type]\u001b[0m\u001b[0;34m\u001b[0m\u001b[0;34m\u001b[0m\u001b[0m\n",
      "\u001b[0;32m/opt/anaconda3/envs/jupyter_env/lib/python3.9/site-packages/pandas/_libs/lib.pyx\u001b[0m in \u001b[0;36mpandas._libs.lib.map_infer\u001b[0;34m()\u001b[0m\n",
      "\u001b[0;32m/tmp/ipykernel_2693822/3873221060.py\u001b[0m in \u001b[0;36m<lambda>\u001b[0;34m(x)\u001b[0m\n\u001b[1;32m      1\u001b[0m \u001b[0;31m# Преобразование типа данных таблицы заказов из БД\u001b[0m\u001b[0;34m\u001b[0m\u001b[0;34m\u001b[0m\u001b[0m\n\u001b[1;32m      2\u001b[0m \u001b[0;34m\u001b[0m\u001b[0m\n\u001b[0;32m----> 3\u001b[0;31m \u001b[0mdf_sql\u001b[0m\u001b[0;34m[\u001b[0m\u001b[0;34m'order_date'\u001b[0m\u001b[0;34m]\u001b[0m \u001b[0;34m=\u001b[0m \u001b[0mdf_sql\u001b[0m\u001b[0;34m[\u001b[0m\u001b[0;34m'order_date'\u001b[0m\u001b[0;34m]\u001b[0m\u001b[0;34m.\u001b[0m\u001b[0mapply\u001b[0m\u001b[0;34m(\u001b[0m\u001b[0;32mlambda\u001b[0m \u001b[0mx\u001b[0m\u001b[0;34m:\u001b[0m \u001b[0mdatetime\u001b[0m\u001b[0;34m.\u001b[0m\u001b[0mdatetime\u001b[0m\u001b[0;34m.\u001b[0m\u001b[0mstrftime\u001b[0m\u001b[0;34m(\u001b[0m\u001b[0mx\u001b[0m\u001b[0;34m.\u001b[0m\u001b[0mastimezone\u001b[0m\u001b[0;34m(\u001b[0m\u001b[0mtz_7\u001b[0m\u001b[0;34m)\u001b[0m\u001b[0;34m,\u001b[0m \u001b[0;34m'%Y-%m-%d %H:%M:%S'\u001b[0m\u001b[0;34m)\u001b[0m\u001b[0;34m)\u001b[0m\u001b[0;34m\u001b[0m\u001b[0;34m\u001b[0m\u001b[0m\n\u001b[0m\u001b[1;32m      4\u001b[0m \u001b[0mdf_sql\u001b[0m\u001b[0;34m[\u001b[0m\u001b[0;34m'y_client_ids'\u001b[0m\u001b[0;34m]\u001b[0m \u001b[0;34m=\u001b[0m \u001b[0mdf_sql\u001b[0m\u001b[0;34m[\u001b[0m\u001b[0;34m'y_client_ids'\u001b[0m\u001b[0;34m]\u001b[0m\u001b[0;34m.\u001b[0m\u001b[0mapply\u001b[0m\u001b[0;34m(\u001b[0m\u001b[0;32mlambda\u001b[0m \u001b[0mx\u001b[0m\u001b[0;34m:\u001b[0m \u001b[0;32mNone\u001b[0m \u001b[0;32mif\u001b[0m \u001b[0mx\u001b[0m \u001b[0;34m==\u001b[0m \u001b[0;34m'null'\u001b[0m \u001b[0;32melse\u001b[0m \u001b[0mx\u001b[0m\u001b[0;34m)\u001b[0m\u001b[0;34m\u001b[0m\u001b[0;34m\u001b[0m\u001b[0m\n\u001b[1;32m      5\u001b[0m \u001b[0;32mfor\u001b[0m \u001b[0mi\u001b[0m \u001b[0;32min\u001b[0m \u001b[0mrange\u001b[0m\u001b[0;34m(\u001b[0m\u001b[0;36m9\u001b[0m\u001b[0;34m,\u001b[0m \u001b[0;36m14\u001b[0m\u001b[0;34m)\u001b[0m\u001b[0;34m:\u001b[0m\u001b[0;34m\u001b[0m\u001b[0;34m\u001b[0m\u001b[0m\n",
      "\u001b[0;31mAttributeError\u001b[0m: 'str' object has no attribute 'astimezone'"
     ]
    }
   ],
   "source": [
    "# Преобразование типа данных таблицы заказов из БД\n",
    "\n",
    "df_sql['order_date'] = df_sql['order_date'].apply(lambda x: datetime.datetime.strftime(x.astimezone(tz_7), '%Y-%m-%d %H:%M:%S'))\n",
    "df_sql['y_client_ids'] = df_sql['y_client_ids'].apply(lambda x: None if x == 'null' else x)\n",
    "for i in range(9, 14):\n",
    "    df_sql.iloc[:, i] = df_sql.iloc[:, i].fillna(0)"
   ]
  },
  {
   "cell_type": "markdown",
   "id": "fb67a211-9828-4877-b247-d5aca035e654",
   "metadata": {},
   "source": [
    "3. Объединяем заказы из БД и заказы из Я.Метрики"
   ]
  },
  {
   "cell_type": "code",
   "execution_count": 198,
   "id": "acc542cb-b769-47af-ae09-494de248adc1",
   "metadata": {},
   "outputs": [],
   "source": [
    "# Объединяем клиентов из БД и метрики\n",
    "df_merge = df_sql.merge(df_logs, how='left', left_on='y_client_ids', right_on='ID пользователя')\n",
    "df_merge = df_merge[df_merge['ID пользователя'].notna()]\n",
    "\n",
    "# Сводим заказы по времени оформления\n",
    "df_merge['in'] = df_merge.apply(lambda x: x['order_date'] in x['interval'], axis=1)\n",
    "df_merge = df_merge[df_merge['in']]\n",
    "df_merge = df_merge[~df_merge.duplicated(subset=[\"id\"])]\n",
    "\n",
    "# Объединяем заказы из БД и сведенные заказы в одну таблицу\n",
    "df_merge2 = df_sql.merge(df_merge, how='left', on='id')\n",
    "df_merge2 = df_merge2.merge(df_costs[df_costs['Кампания ЯД'].notna()], how='left', on='Кампания ЯД')\n",
    "df_merge2['Кампания ЯД'] = df_merge2['Кампания ЯД'].apply(lambda x: int(x) if x != '' and pd.notna(x) else np.nan).astype('Int64')\n",
    "df_merge2['Расходы по рекламной кампании'] = df_merge2['Расходы по рекламной кампании'].fillna(0)"
   ]
  },
  {
   "cell_type": "code",
   "execution_count": 199,
   "id": "f1333061-1067-454c-86e7-856c101b85d6",
   "metadata": {},
   "outputs": [],
   "source": [
    "# Расходы по рекламным системам\n",
    "\n",
    "ya_direct = sum(df_costs[df_costs['Источник трафика'] == 'Yandex.Direct']['Расходы по рекламной кампании'])\n",
    "vk = sum(df_costs[df_costs['Источник трафика'] == 'vk']['Расходы по рекламной кампании']) + sum(df_costs[df_costs['Источник трафика'] == 'elama.vk_ads']['Расходы по рекламной кампании'])\n",
    "retailrocket = sum(df_costs[df_costs['Источник трафика'] == 'retailrocket']['Расходы по рекламной кампании'])\n",
    "news = sum(df_costs[df_costs['Источник трафика'] == '3dnews']['Расходы по рекламной кампании'])\n",
    "gis = sum(df_costs[df_costs['Источник трафика'] == '2gis']['Расходы по рекламной кампании'])\n",
    "admitad = sum(df_costs[df_costs['Источник трафика'] == 'admitad']['Расходы по рекламной кампании'])\n",
    "regmarkets = sum(df_costs[df_costs['Источник трафика'] == 'regmarkets.ru']['Расходы по рекламной кампании'])\n",
    "price_ru = sum(df_costs[df_costs['Источник трафика'] == 'priceru']['Расходы по рекламной кампании'])\n",
    "\n",
    "def spends(row):\n",
    "    if row['Рекламная система'] == 'ya_direct' or row['Рекламная система'] == 'ya_undefined' or pd.notna(row['Кампания ЯД']):\n",
    "        x = round(ya_direct, 1)    \n",
    "    elif row['Рекламная система'] == 'vkontakte':\n",
    "        x = round(vk, 1)\n",
    "    elif row['Рекламная система'] == 'admitad':\n",
    "        x = round(admitad, 1)\n",
    "    elif row['Рекламная система'] == 'market':\n",
    "        x = round(regmarkets, 1)\n",
    "    elif row['Рекламная система'] == 'price_ru':\n",
    "        x = round(price_ru, 1)\n",
    "    else:\n",
    "        x = 0\n",
    "    return x\n",
    "\n",
    "df_merge2['Расходы по рекламному каналу'] = df_merge2.apply(spends, axis = 1)"
   ]
  },
  {
   "cell_type": "code",
   "execution_count": 200,
   "id": "3591a49f-051f-4eab-ac16-225152be395d",
   "metadata": {},
   "outputs": [],
   "source": [
    "# Рекламные затраты на заказ\n",
    "\n",
    "# количество заказов \n",
    "ya_orders = len(df_merge2[((df_merge2['Рекламная система'] == 'ya_direct') | (df_merge2['Рекламная система'] == 'ya_undefined') | (pd.notna(df_merge2['Кампания ЯД'])))])    \n",
    "vk_orders = len(df_merge2[(df_merge2['Рекламная система'] == 'vkontakte') & (pd.notna(df_merge2['Рекламная система'])) & (pd.isna(df_merge2['Кампания ЯД']))])\n",
    "adm_orders = len(df_merge2[(df_merge2['Рекламная система'] == 'admitad') & (pd.notna(df_merge2['Рекламная система'])) & (pd.isna(df_merge2['Кампания ЯД']))])\n",
    "mar_orders = len(df_merge2[(df_merge2['Рекламная система'] == 'market') & (pd.notna(df_merge2['Рекламная система'])) & (pd.isna(df_merge2['Кампания ЯД']))])\n",
    "pr_orders = len(df_merge2[(df_merge2['Рекламная система'] == 'price_ru') & (pd.notna(df_merge2['Рекламная система'])) & (pd.isna(df_merge2['Кампания ЯД']))])\n",
    "\n",
    "def spend_order(row):\n",
    "    if row['Рекламная система'] == 'ya_direct' or row['Рекламная система'] == 'ya_undefined' or pd.notna(row['Кампания ЯД']):\n",
    "        x = round(row['Расходы по рекламному каналу']/ya_orders, 1)    \n",
    "    elif row['Рекламная система'] == 'vkontakte' and pd.isna(row['Кампания ЯД']):\n",
    "        x = round(row['Расходы по рекламному каналу']/vk_orders, 1)  \n",
    "    elif row['Рекламная система'] == 'admitad' and pd.isna(row['Кампания ЯД']):\n",
    "        x = round(row['Расходы по рекламному каналу']/adm_orders, 1)  \n",
    "    elif row['Рекламная система'] == 'market' and pd.isna(row['Кампания ЯД']):\n",
    "        x = round(row['Расходы по рекламному каналу']/mar_orders, 1)  \n",
    "    elif row['Рекламная система'] == 'price_ru' and pd.isna(row['Кампания ЯД']):\n",
    "        x = round(row['Расходы по рекламному каналу']/pr_orders, 1)\n",
    "    else:\n",
    "        x = 0\n",
    "    return x\n",
    "\n",
    "df_merge2['Рекламные затраты на заказ'] = df_merge2.apply(spend_order, axis = 1)\n"
   ]
  },
  {
   "cell_type": "code",
   "execution_count": 201,
   "id": "2faada04-b665-4f92-aa15-7cb749fbf7dd",
   "metadata": {},
   "outputs": [],
   "source": [
    "# Рекламные затраты на выкупленный заказ\n",
    "\n",
    "# количество выкупов\n",
    "ya_ship_ord = len(df_merge2[((df_merge2['Рекламная система'] == 'ya_direct') | (df_merge2['Рекламная система'] == 'ya_undefined') | (pd.notna(df_merge2['Кампания ЯД']))) & (df_merge2['sum_payed_x'] != 0) & (pd.notna(df_merge2['Рекламная система']))])    \n",
    "vk_ship_ord = len(df_merge2[(df_merge2['Рекламная система'] == 'vkontakte') & (df_merge2['sum_payed_x'] != 0) & (pd.notna(df_merge2['Рекламная система'])) & (pd.isna(df_merge2['Кампания ЯД']))])\n",
    "adm_ship_ord = len(df_merge2[(df_merge2['Рекламная система'] == 'admitad') & (df_merge2['sum_payed_x'] != 0) & (pd.notna(df_merge2['Рекламная система'])) & (pd.isna(df_merge2['Кампания ЯД']))])\n",
    "mar_ship_ord = len(df_merge2[(df_merge2['Рекламная система'] == 'market') & (df_merge2['sum_payed_x'] != 0) & (pd.notna(df_merge2['Рекламная система'])) & (pd.isna(df_merge2['Кампания ЯД']))])\n",
    "pr_ship_ord = len(df_merge2[(df_merge2['Рекламная система'] == 'price_ru') & (df_merge2['sum_payed_x'] != 0) & (pd.notna(df_merge2['Рекламная система'])) & (pd.isna(df_merge2['Кампания ЯД']))])\n",
    "\n",
    "def ship_order(row):\n",
    "    if (row['Рекламная система'] == 'ya_direct' or row['Рекламная система'] == 'ya_undefined' or pd.notna(row['Кампания ЯД'])) and row['sum_payed_x'] != 0:\n",
    "        x = round(row['Расходы по рекламному каналу']/ya_ship_ord, 1)    \n",
    "    elif row['Рекламная система'] == 'vkontakte' and pd.isna(row['Кампания ЯД']) and row['sum_payed_x'] != 0:\n",
    "        x = round(row['Расходы по рекламному каналу']/vk_ship_ord, 1)  \n",
    "    elif row['Рекламная система'] == 'admitad' and pd.isna(row['Кампания ЯД']) and row['sum_payed_x'] != 0:\n",
    "        x = round(row['Расходы по рекламному каналу']/adm_ship_ord, 1)  \n",
    "    elif row['Рекламная система'] == 'market' and pd.isna(row['Кампания ЯД']) and row['sum_payed_x'] != 0:\n",
    "        x = round(row['Расходы по рекламному каналу']/mar_ship_ord, 1)  \n",
    "    elif row['Рекламная система'] == 'price_ru' and pd.isna(row['Кампания ЯД']) and row['sum_payed_x'] != 0:\n",
    "        x = round(row['Расходы по рекламному каналу']/pr_ship_ord, 1)\n",
    "    else:\n",
    "        x = 0\n",
    "    return x\n",
    "\n",
    "df_merge2['Рекламные затраты на выкупленный заказ'] = df_merge2.apply(ship_order, axis = 1)"
   ]
  },
  {
   "cell_type": "code",
   "execution_count": 203,
   "id": "fe569b06-443d-497a-adfb-c3a9884ee123",
   "metadata": {},
   "outputs": [],
   "source": [
    "# Рассчет маржинальности\n",
    "\n",
    "df_merge2['Маржа чистая - рекламные затраты на заказ'] = df_merge2['revenue_x'] - df_merge2['Рекламные затраты на заказ']\n",
    "df_merge2['Маржа чистая - рекламные затраты на выкупленные заказы'] = (df_merge2['sum_payed_x'] - df_merge2['Рекламные затраты на выкупленный заказ']).fillna(0)"
   ]
  },
  {
   "cell_type": "code",
   "execution_count": 204,
   "id": "a8ba88eb-d7b5-4ff4-b9ba-4905d7c9b856",
   "metadata": {},
   "outputs": [],
   "source": [
    "\n",
    "# подготавливаем таблицу к загрузке в облако\n",
    "df = df_merge2[['id', 'order_status_x', 'db_client_ids_x', 'y_client_ids_x', \n",
    "                'order_date_x', 'revenue_x', 'item_count_x', 'marginality_x', 'sum_shipped_x', \n",
    "                'ship_item_count_x', 'sum_payed_x', 'margin_x', 'Город', 'client_sity_x', \n",
    "                'Рекламная система', 'Кампания ЯД', 'Расходы по рекламному каналу', \n",
    "                'Расходы по рекламной кампании', 'Рекламные затраты на заказ', \n",
    "                'Маржа чистая - рекламные затраты на заказ', 'Рекламные затраты на выкупленный заказ', \n",
    "                'Маржа чистая - рекламные затраты на выкупленные заказы']]\n",
    "\n",
    "df.columns = ['ID заказа ', 'Статус заказа', 'ID клиента е2е4', 'ID клиента Яндекс', \n",
    "              'Дата оформления заказа', 'Сумма оформленного заказа', 'Кол-во позиций в заказе', \n",
    "              'Маржинальность заказа ', 'Сумма отгруженного заказа', 'Кол-во позиций отгруженного заказа ',\n",
    "              'Сумма оплаты', 'Маржа чистая', 'Рекламный город', 'Город клиента', \n",
    "              'Рекламная система', 'Кампания ЯД', 'Расходы по рекламному каналу', \n",
    "              'Расходы по рекламной кампании', 'Рекламные затраты на заказ', \n",
    "              'Маржа чистая - рекламные затраты на заказ', 'Рекламные затраты на выкупленный заказ', \n",
    "              'Маржа чистая - рекламные затраты на выкупленные заказы']\n"
   ]
  },
  {
   "cell_type": "markdown",
   "id": "fd1c36f3-c09c-404a-a951-2b5011669627",
   "metadata": {},
   "source": [
    "4. Загружаем отчет в облачное хранилище "
   ]
  },
  {
   "cell_type": "code",
   "execution_count": 177,
   "id": "ab647e60-5388-4ea3-91a4-b3c57ceca798",
   "metadata": {},
   "outputs": [],
   "source": [
    "# Создаем адрес загрузки\n",
    "\n",
    "Amazon_owncloud = owncloud.Client('https://nextcloud.e2e4.ru')\n",
    "Amazon_owncloud.login(loginAtlassianjhubAdmin, passwordAtlassianjhubAdmin)\n",
    "\n",
    "AmazonS3_folder_Public = r'/Public/Отчеты (выгрузка jupyter notebooks)'\n",
    "AmazonS3_path_to_file = r'/Рекламные затраты на заказы из метрики/'\n",
    "\n",
    "AmazonS3_full_path_customer = AmazonS3_folder_Public + AmazonS3_path_to_file + r'Рекламные затраты на заказы из метрики'\n"
   ]
  },
  {
   "cell_type": "code",
   "execution_count": 205,
   "id": "1720e65f-672f-4b31-846b-bbab2f1e7027",
   "metadata": {},
   "outputs": [
    {
     "name": "stdout",
     "output_type": "stream",
     "text": [
      "✔ Файл записан в облако\n",
      "Рекламные затраты на заказы из метрики.xlsx\n",
      "✔ os.remove\n"
     ]
    }
   ],
   "source": [
    "df.to_excel(temp_tmp + AmazonS3_full_path_customer.split('/')[-1] + '.xlsx',  index=False, encoding='cp-1251') #   to_excel\n",
    "\n",
    "try:\n",
    "    Amazon_owncloud.put_file( AmazonS3_full_path_customer + '.xlsx', temp_tmp + AmazonS3_full_path_customer.split('/')[-1] + '.xlsx' )\n",
    "    print( f\"✔ Файл записан в облако\\n{AmazonS3_full_path_customer.split('/')[-1]}.xlsx\" )  \n",
    "    os.remove(temp_tmp + AmazonS3_full_path_customer.split('/')[-1] + '.xlsx' )\n",
    "    print( '✔ os.remove' )\n",
    "except:\n",
    "    print( 'Возникли проблемы при записи в облако!' )"
   ]
  },
  {
   "cell_type": "code",
   "execution_count": null,
   "id": "34ef4146-8806-4ca3-945d-609c36a05ac5",
   "metadata": {},
   "outputs": [],
   "source": []
  }
 ],
 "metadata": {
  "kernelspec": {
   "display_name": "python39-spark-conda",
   "language": "python",
   "name": "python39-spark-conda"
  },
  "language_info": {
   "codemirror_mode": {
    "name": "ipython",
    "version": 3
   },
   "file_extension": ".py",
   "mimetype": "text/x-python",
   "name": "python",
   "nbconvert_exporter": "python",
   "pygments_lexer": "ipython3",
   "version": "3.9.7"
  }
 },
 "nbformat": 4,
 "nbformat_minor": 5
}
