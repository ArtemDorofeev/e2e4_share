{
 "cells": [
  {
   "cell_type": "markdown",
   "id": "dd9850d4",
   "metadata": {
    "ExecuteTime": {
     "end_time": "2023-03-01T11:00:18.595023Z",
     "start_time": "2023-03-01T11:00:18.591807Z"
    },
    "deletable": false,
    "editable": false,
    "run_control": {
     "frozen": true
    }
   },
   "source": [
    "# Начало отчета"
   ]
  },
  {
   "cell_type": "code",
   "execution_count": null,
   "id": "78be3b44",
   "metadata": {
    "ExecuteTime": {
     "end_time": "2023-03-17T07:55:34.470731Z",
     "start_time": "2023-03-17T07:55:34.466643Z"
    }
   },
   "outputs": [],
   "source": [
    "\n",
    "# %%javascript\n",
    "# IPython.notebook.kernel.execute('ipynb_file_name_ext = \"' + IPython.notebook.notebook_name + '\"')\n",
    "# // получить имя файла не питона а юпитер ноут в переменную ipynb_file_name\n",
    "# // работает только когда запускаем вручную \n",
    "\n",
    "# // или\n",
    " \n",
    "# %%javascript\n",
    "# IPython.notebook.kernel.execute(`ipynb_file_name_ext = '${window.document.getElementById(\"notebook_name\").innerHTML}'`);\n",
    "# // получить имя файла не питона а юпитер ноут в переменную ipynb_file_name\n",
    "# // работает только когда запускаем вручную "
   ]
  },
  {
   "cell_type": "code",
   "execution_count": null,
   "id": "12a4cc1d",
   "metadata": {
    "ExecuteTime": {
     "end_time": "2023-03-17T07:55:34.497840Z",
     "start_time": "2023-03-17T07:55:34.472685Z"
    }
   },
   "outputs": [],
   "source": [
    "# ipynb_file_name_ext"
   ]
  },
  {
   "cell_type": "code",
   "execution_count": null,
   "id": "91a7afa3",
   "metadata": {
    "ExecuteTime": {
     "end_time": "2023-03-17T07:55:34.506939Z",
     "start_time": "2023-03-17T07:55:34.499411Z"
    }
   },
   "outputs": [],
   "source": [
    "# задаем имя файла если жаваскрипт отработал криво а он нифига не пашет (( только если руками запускать а если ран алл то все криво работает ((\n",
    "ipynb_file_name = 'Среднесуточные складские остатки в разрезе индекса продаж'\n",
    "# ipynb_file_name"
   ]
  },
  {
   "cell_type": "code",
   "execution_count": null,
   "id": "6b14a210",
   "metadata": {
    "ExecuteTime": {
     "end_time": "2023-03-17T07:55:37.745575Z",
     "start_time": "2023-03-17T07:55:34.508628Z"
    },
    "scrolled": false
   },
   "outputs": [],
   "source": [
    "# magic\n",
    "#################################\n",
    "%matplotlib inline \n",
    "#################################\n",
    "\n",
    "# run magic в юпитере! НЕ РАБОТАЕТ в .py файлах\n",
    "# run files исполнить файлы магией тут\n",
    "%run /srv/jhub/share/._Additions/import_my_modules.py\n",
    "\n",
    "# %run /srv/jhub/share/._Additions/import_libs.py\n",
    "# %run /srv/jhub/share/._Additions/prints_.py\n",
    "# %run /srv/jhub/share/._Additions/my_script.py этот импортится внутри import_my_modules.py\n",
    "# %run /srv/jhub/share/._Additions/Connecting_.py\n",
    "# %run /srv/jhub/share/._Additions/Date_gen.py\n",
    "# %run /srv/jhub/share/._Additions/xx.py\n",
    "\n",
    "#################################\n",
    "# еще вариант magic который !РАБОТАЕТ в .py файлах\n",
    "# get_ipython().run_line_magic('matplotlib', 'inline')\n",
    "# run files\n",
    "# get_ipython().run_line_magic('run', '/srv/jhub/share/._Additions/import_libs.py')\n",
    "# get_ipython().run_line_magic('run', '/srv/jhub/share/._Additions/Connecting_.py')\n",
    "# get_ipython().run_line_magic('run', '/srv/jhub/share/._Additions/my_script.py')\n",
    "# get_ipython().run_line_magic('run', '/srv/jhub/share/._Additions/Date_gen.py')\n",
    "# get_ipython().run_line_magic('run', '/srv/jhub/share/._Additions/xx.py')\n",
    "############################## End ##############################\n",
    "# help(Prints_), print(JiraTaskPrint.__doc__)"
   ]
  },
  {
   "cell_type": "code",
   "execution_count": null,
   "id": "9971ed73",
   "metadata": {},
   "outputs": [],
   "source": []
  },
  {
   "cell_type": "code",
   "execution_count": null,
   "id": "540fa482",
   "metadata": {},
   "outputs": [],
   "source": []
  },
  {
   "cell_type": "markdown",
   "id": "279753c7",
   "metadata": {
    "ExecuteTime": {
     "end_time": "2023-01-18T11:53:24.717403Z",
     "start_time": "2023-01-18T11:53:24.714310Z"
    },
    "deletable": false,
    "editable": false,
    "run_control": {
     "frozen": true
    }
   },
   "source": [
    "## Жмем сочетание клавиш:  Alt-Ctrl-L (на англ. раскладке)"
   ]
  },
  {
   "cell_type": "code",
   "execution_count": null,
   "id": "3320a97e",
   "metadata": {
    "ExecuteTime": {
     "end_time": "2023-03-17T07:55:38.223788Z",
     "start_time": "2023-03-17T07:55:37.747619Z"
    },
    "scrolled": true
   },
   "outputs": [],
   "source": [
    "# выводим спарсенные данные с жиры описание и тд....\n",
    "task_link = '''\n",
    "https://jira.e2e4.ru/browse/BA-\\\n",
    "380\n",
    "'''\n",
    "JiraTaskPrint().print_tasks(task_link)"
   ]
  },
  {
   "cell_type": "code",
   "execution_count": null,
   "id": "5fc7d55c",
   "metadata": {
    "ExecuteTime": {
     "end_time": "2023-03-17T07:55:38.228267Z",
     "start_time": "2023-03-17T07:55:38.225725Z"
    }
   },
   "outputs": [],
   "source": [
    "spl1 = '1000-01-01 00:00:00'\n",
    "spl2 = '1000-01-02 00:00:00'\n",
    "spl3 = '1000-01-03 00:00:00'\n"
   ]
  },
  {
   "cell_type": "code",
   "execution_count": null,
   "id": "598f3e85",
   "metadata": {
    "ExecuteTime": {
     "end_time": "2023-03-17T07:55:38.240350Z",
     "start_time": "2023-03-17T07:55:38.230017Z"
    },
    "code_folding": []
   },
   "outputs": [],
   "source": [
    "\n",
    "sql_query_1 = ''' \n",
    "    WITH params AS (\n",
    "    select\n",
    "        /*jhub*/\n",
    "            'DATE_START_replce'::date AS frm, \n",
    "            'DATE_END_replce'::date AS til,\n",
    "            STORAGE_replce AS storage,\n",
    "            CATEGORY_replce AS category,\n",
    "            'BRAND_replce' as brand\n",
    "            --DEL_IN_USE_replce as in_use\n",
    "            --PRODUCTMANAGER_replce \n",
    "            --DEL_STORAGE_NSK_replce \n",
    "\n",
    "        /*confluence*/\n",
    "    --        '\\$from'::date AS frm,\n",
    "    --        '\\$til'::date AS til,\n",
    "    --\t\t\\$storage AS storage,\n",
    "    --\t\t\\$category AS category,\n",
    "    --        '\\$brand' AS brand\n",
    "\n",
    "        /*tests*/\n",
    "    --        '01.08.2022'::date AS frm, \n",
    "    --        '19.08.2022'::date AS til,\n",
    "    --        0 AS storage,\n",
    "    --        0 AS category,\n",
    "    --        '' as brand\n",
    "    )\n",
    "\t, items AS (\n",
    "\t    SELECT i.id, i.name, i.\"rank\", i.id_category\n",
    "\t    FROM params _\n",
    "\t    CROSS JOIN \"catalog\".items i\n",
    "\t\tJOIN \"catalog\".categories c ON c.id = i.id_category\n",
    "\t\tLEFT JOIN \"catalog\".brands b ON b.id = i.id_brand\n",
    "\t    WHERE i.RANK IS NOT NULL\n",
    "\t        AND CASE WHEN _.category = 0 THEN TRUE ELSE i.id_category = _.category END\n",
    "\t        AND CASE WHEN _.brand = '' THEN TRUE ELSE b.name ilike _.brand end\n",
    "\t        \n",
    "\t--        and case when 1 = 1 then true else c.name not ilike 'уцененные товары%' and c.name not ilike 'внутреннее использование%' end\n",
    "\t        /*jhub*/\n",
    "\t        and case when DEL_IN_USE_replce = 1 then true else c.name not ilike 'уцененные товары%' and c.name not ilike 'внутреннее использование%' end\n",
    "\t\n",
    "\t)\n",
    "\t, categories AS (\n",
    "\t    select distinct c.id, c.name, i.rank, c.order, pu.name \"suppliers_name\"\n",
    "\t    FROM items i\n",
    "\t    JOIN \"catalog\".categories c ON c.id = i.id_category\n",
    "\t    left join public.users pu on c.id_product_manager = pu.id \n",
    "\t    where \n",
    "\t--\t    case when 0 = 0 then true\n",
    "\t--\t        else c.id_product_manager = 0 end\n",
    "\t--\t\tand case when 1 = 1 then true \n",
    "\t--\t\t\telse c.name not ilike 'Уцененные товары%' and c.name not ilike 'Внутреннее использование%' end\n",
    "\t        /*jhub*/\n",
    "\t\t    case when PRODUCTMANAGER_replce = 0 then true\n",
    "\t\t        else c.id_product_manager = PRODUCTMANAGER_replce end\n",
    "\t\t    and case when DEL_IN_USE_replce = 1 then true \n",
    "\t\t\t\telse c.name not ilike 'Уцененные товары%' and c.name not ilike 'Внутреннее использование%' end  \n",
    "\t)\n",
    "\t, sales AS (\n",
    "\t    SELECT\n",
    "\t        i.id_category,\n",
    "\t        i.\"rank\",\n",
    "\t\t\tcount(DISTINCT i.id) AS count,\n",
    "\t\t\tcase when (count(s.id)::numeric / (1 + _.til - _.frm)) = 0 then null \n",
    "\t\t\t\telse count(s.id)::numeric / (1 + _.til - _.frm) end AS quantity,\n",
    "\t        case when (sum(s.\"cost\")::numeric / (1 + _.til - _.frm)) = 0 then null \n",
    "\t        \telse sum(s.\"cost\")::numeric / (1 + _.til - _.frm) end AS sum\n",
    "\t    FROM params _\n",
    "\t    CROSS JOIN items i\n",
    "\t\tJOIN sales.items s ON s.id_catalog_item = i.id\n",
    "\t\tJOIN public.storage st ON st.id = s.id_storage\n",
    "\t\tWHERE s.sold_at BETWEEN _.frm AND _.til\n",
    "\t\t\tAND CASE WHEN _.storage = 0 THEN TRUE ELSE COALESCE(st.parentstorageid, st.id) = _.storage END\n",
    "\t\tGROUP BY _.frm, _.til, i.id_category, i.\"rank\"\n",
    "\t)\n",
    "\t, stock AS (\n",
    "\t    SELECT\n",
    "\t        i.id_category,\n",
    "\t        i.\"rank\",\n",
    "\t\t\tsum(h.stock_free\n",
    "\t\t\t\t+ h.stock_reserved\n",
    "\t\t\t\t+ h.relocation_free\n",
    "\t\t\t\t+ h.relocation_reserved\n",
    "\t\t\t\t+ h.arrivals_free\n",
    "\t\t\t\t+ h.arrivals_reserved\n",
    "\t\t\t\t+ h.transit_free\n",
    "\t\t\t\t+ h.transit_reserved)::numeric / (1 + _.til - _.frm) AS quantity,\n",
    "\t        sum(h.stock_free_sum\n",
    "\t\t\t\t+ h.stock_reserved_sum\n",
    "\t\t\t\t+ h.relocation_free_sum\n",
    "\t\t\t\t+ h.relocation_reserved_sum\n",
    "\t\t\t\t+ h.arrivals_free_sum\n",
    "\t\t\t\t+ h.arrivals_reserved_sum\n",
    "\t\t\t\t+ h.transit_free_sum\n",
    "\t\t\t\t+ h.transit_reserved_sum)::numeric / (1 + _.til - _.frm) AS sum,\n",
    "\t        sum(h.stock_free\n",
    "\t\t\t\t+ h.relocation_free\n",
    "\t\t\t\t+ h.arrivals_free\n",
    "\t\t\t\t+ h.transit_free\n",
    "\t        )::numeric / (1 + _.til - _.frm) AS quantity_free,\n",
    "\t        sum(h.stock_free_sum\n",
    "\t\t\t\t+ h.relocation_free_sum\n",
    "\t\t\t\t+ h.arrivals_free_sum\n",
    "\t\t\t\t+ h.transit_free_sum\n",
    "\t        )::numeric / (1 + _.til - _.frm) AS sum_free\n",
    "\t    FROM params _\n",
    "\t    CROSS JOIN items i\n",
    "\t    JOIN store.stock_history h ON h.id_reference_item = i.id\n",
    "\t\tJOIN public.storage st ON st.id = h.id_storage\n",
    "\t\tWHERE \n",
    "\t\t\th.\"date\" BETWEEN _.frm AND _.til\n",
    "\t\t\tAND CASE WHEN _.storage = 0 THEN TRUE \n",
    "\t\t\t\tELSE COALESCE(st.parentstorageid, st.id) = _.storage end\n",
    "\t\t\t\t\n",
    "\t--\t\tand case when 1 = 1 then true \n",
    "\t--\t\t\telse st.id not in ( 47 ) end\n",
    "\t\t\t/*jhub*/\n",
    "\t\t\tand case when DEL_STORAGE_NSK_replce = 0 then true \n",
    "\t\t\t\telse st.id not in ( DEL_STORAGE_NSK_replce ) end\n",
    "\t\n",
    "\t\tGROUP BY _.frm, _.til, i.id_category, i.\"rank\"\n",
    "\t)\n",
    "\t\n",
    "\t, EA as (\n",
    "\tselect\n",
    "\t    c.suppliers_name \"Продакт\",\n",
    "\t--    c.name \"Категория\",\n",
    "\t    c.RANK \"Индекс продаж\",\n",
    "\t    sum(sales.count) \"Продажи уникальных артикулов, шт\",\n",
    "\t    sum(round(sales.quantity, 2)) \"СС Продажи, шт\",\n",
    "\t    sum(sales.sum::int) \"СС Продажи, руб (себестоимость)\",\n",
    "\t    sum(round(stock.quantity, 2)) \"СС Остатки, шт\",\n",
    "\t    sum(stock.sum::int) \"СС Остатки, руб (себестоимость)\",\n",
    "\t    sum(round(stock.quantity_free, 2)) \"СС Остатки-свободный, шт\",\n",
    "\t    sum(stock.sum_free::int) \"СС Остатки-свободный, руб (себестоимость)\",\n",
    "\t    CASE WHEN sum(sales.quantity)=0 THEN NULL ELSE sum(round(stock.quantity / sales.quantity)) END AS \"Оборачиваемость (шт/шт)\",\n",
    "\t    CASE WHEN sum(sales.sum)=0 THEN NULL ELSE sum(round(stock.sum / sales.sum)) END AS \"Оборачиваемость (руб/руб)\"\n",
    "\tFROM categories c\n",
    "\tLEFT JOIN sales ON sales.id_category = c.id AND sales.RANK = c.rank\n",
    "\tLEFT JOIN stock ON stock.id_category = c.id AND stock.RANK = c.RANK\n",
    "\tWHERE \n",
    "\t\tGREATEST(sales.quantity, sales.sum, stock.quantity, stock.sum) > 0\n",
    "\tgroup by  \n",
    "\t\tc.suppliers_name, c.rank --c.suppliers_name,\n",
    "\tORDER BY \n",
    "\t\tc.rank --c.\"order\", c.name, \n",
    "\t)\n",
    "\t\n",
    "    select * from EA\n",
    "\n",
    "    union all\n",
    "    select \n",
    "        'ИТОГО',\n",
    "        'ИТОГО', \n",
    "        sum(\"Продажи уникальных артикулов, шт\") \"Продажи уникальных артикулов, шт\"\n",
    "        , sum(\"СС Продажи, шт\") \"СС Продажи, шт\"\n",
    "        , sum(\"СС Продажи, руб (себестоимость)\") \"СС Продажи, руб (себестоимость)\"\n",
    "        , sum(\"СС Остатки, шт\") \"СС Остатки, шт\"\n",
    "        , sum(\"СС Остатки, руб (себестоимость)\") \"СС Остатки, руб (себестоимость)\"\n",
    "        , sum(\"СС Остатки-свободный, шт\") \"СС Остатки-свободный, шт\"\n",
    "        , sum(\"СС Остатки-свободный, руб (себесто\") \"СС Остатки-свободный, руб (себесто\"\n",
    "        , sum(\"Оборачиваемость (шт/шт)\") \"Оборачиваемость (шт/шт)\"\n",
    "        , sum(\"Оборачиваемость (руб/руб)\") \"Оборачиваемость (руб/руб)\"\n",
    "    from EA\n",
    "\n",
    "    --union all\n",
    "    --select \n",
    "    --\t'ИТОГО',\n",
    "    --\t'конфа', 13863,\t3677.25,\t10614289,\t359909.52,\t667188106,\t319112.76,\t523616688,\t189068,\t261366\n",
    "\n",
    "    /*\n",
    "    --union all\n",
    "    --select \n",
    "    --\t'jhub',  13618,\t3661.59,\t10521794,\t342445.47,\t649022085,\t306226.57,\t509404185,\t181383,\t251725\n",
    "    */\n",
    "\n",
    "\n",
    "\n",
    "     '''"
   ]
  },
  {
   "cell_type": "code",
   "execution_count": null,
   "id": "51cfc98d",
   "metadata": {
    "ExecuteTime": {
     "end_time": "2023-03-17T07:55:38.253376Z",
     "start_time": "2023-03-17T07:55:38.242498Z"
    },
    "code_folding": [
     0
    ]
   },
   "outputs": [],
   "source": [
    "sql_query_2 = f'''\n",
    "    with params as (\n",
    "        select\n",
    "    --         ('01.02.2021' || ' 00:00:00')::timestamp frm,\n",
    "    --         ('28.02.2021' || ' 23:59:59')::timestamp til\n",
    "       ( 'DATE_START_replce' || ' 00:00:00')::timestamp    frm \n",
    "       ,( 'DATE_END_replce' || ' 23:59:59')::timestamp    til \n",
    "    )\n",
    "    -- select * from params\n",
    "\n",
    "    , managers as ( /*продакт*/\n",
    "        select \n",
    "        id, \n",
    "        concat(last_name, ' ', first_name, ' ', middle_name) name\n",
    "        from opentech.users \n",
    "    --    where appointment in (54, 234) /*категорийный менеджер, заместитель руководителя отдела закупок */\n",
    "        union all\n",
    "        select\n",
    "            0,\n",
    "            '-- не указан --'\n",
    "    )\n",
    "\n",
    "    , bundles as (\n",
    "        SELECT\n",
    "            -- a.i i_log\n",
    "            a1.i  a1_i\n",
    "            ,a2.i a2_i\n",
    "            ,a2.id id_order         /* id заказа комплекта */\n",
    "    --        ,a1.id id_order_item    /* id заказа комплектующей */\n",
    "            ,s1.reference_id \"id комплектующей\"\n",
    "            ,s2.reference_id \"id комплекта 1\"\n",
    "            ,s2.id \"id комплекта 2\"\n",
    "            ,s2.serial_number \n",
    "            ,s1.id \"s1_id\"\n",
    "            ,bu.id_bundle\n",
    "            ,a2.store_id\n",
    "            ,case when m.id = 0 then m.name\n",
    "    --        \telse '[' || m.name || '|http://opentech.local/user/' || m.id || ']'\n",
    "    --        \t=ГИПЕРССЫЛКА(\"http://example.microsoft.com/report/budget report.xlsx\"; \"Щелкните, чтобы просмотреть отчет\")\n",
    "    --        \telse '=HYPERLINK(\"http://opentech.local/user/' || m.id || '\"; \"' || m.name || '\")'\n",
    "    --          else '=ГИПЕРССЫЛКА(\"http://opentech.local/user/' || m.id || '\"; \"' || m.name || '\")'\n",
    "            \telse m.name || ' ' || m.id\n",
    "                \tend \"продакт\"\n",
    "            ,a2.id_customer  \"id_customer Плательщик\"\n",
    "            ,a2.firm order_type\n",
    "            ,a2.storage_id id_storage\n",
    "            ,a2.user_login \"Кто добавил позицию в заказ\"\n",
    "            ,rp.id \"Код справочника позиций\"\n",
    "            ,rp.name name\n",
    "            ,g.name category\n",
    "            ,case when b.name is null then 'ПУСТОЕ ЗНАЧЕНИЕ null' else b.name end \"Производитель\"\n",
    "    --        ,b.name \"Производитель\"\n",
    "            ,s1.price \"Продажная цена price\"\n",
    "            ,s1.cost \"Расчетная себестоимость cost\"\n",
    "            ,s1.sprice \"Себестоимость чистая sprice\" -- Закупочная цена по документам\n",
    "\n",
    "            ,a1.price_net \"Цена с учетом скидок и бонус price_net\"\n",
    "\n",
    "            ,a1.price_net - s1.sprice \"Прибыль\"\n",
    "            ,(a1.price_net - s1.sprice)/s1.sprice*100 \"Наценка, %\" \n",
    "\n",
    "    --        ,s1.sold state\n",
    "            ,COALESCE(r.date, checks.created_at)::timestamp realization_date --Дата оформления реализации --Дата/время создания кассовые чеки\n",
    "            ,ROUND(s1.price * (COALESCE(rnds.value, cnds.value, 20) / (100 + COALESCE(rnds.value, cnds.value, 20))), 2) nds\n",
    "            ,c.name  \"supplier Фирма-поставщик\"\n",
    "            ,u.id manager\n",
    "\n",
    "            ,s2.date_sold::timestamp \"s2_date_sold\" --комплект продан \n",
    "            ,s1.date_sold::timestamp \"s1_date_sold\" --его комплектующие списаны \n",
    "\n",
    "            ,s2.date_buy::timestamp \"s2_date_buy\"--Время поступления на склад приходования\n",
    "            ,s1.date_buy::timestamp \"s1_date_buy\"\n",
    "\n",
    "            ,s1.arrive \"s1_arrive\"\n",
    "            ,s2.arrive \"s2_arrive\"\n",
    "\n",
    "    --        ,a2.in_account_date\n",
    "    --        ,a2.acc_date\n",
    "    --        ,a2.fn_date\n",
    "\n",
    "    --        ,a1.in_account_date\n",
    "    --        ,a1.acc_date\n",
    "    --        ,a1.in_account_date\n",
    "\n",
    "    --        ,ai.expiredate\n",
    "    --        ,ai.lastpricesupdate\n",
    "    --        ,ai.tm_created\n",
    "    --        ,ai.tm_closing\n",
    "    --        ,ai.tm_placed\n",
    "\n",
    "    --        ,ai2.expiredate\n",
    "    --        ,ai2.lastpricesupdate\n",
    "    --        ,ai2.tm_created\n",
    "    --        ,ai2.tm_closing\n",
    "    --        ,ai2.tm_placed\n",
    "    \n",
    "        from params _\n",
    "        cross join opentech.store s1                            /* складская позиция комплектующей */\n",
    "        left join opentech.accounts a1 on a1.store_id = s1.id        /* заказ комплектующей */\n",
    "        left join store.bundled_items bu on bu.id_store_item = s1.id\n",
    "        left join opentech.store s2 on s2.id = bu.id_bundle          /* складская позиция комплекта */\n",
    "        left join opentech.accounts a2 on a2.store_id = s2.id        /* заказ комплекта */\n",
    "        /* ндс комплектующей */\n",
    "        left join orders.realization_items_order_items_bindings bi1 on bi1.id_order_item = a1.i\n",
    "        left join orders.realization_items i1 on i1.id = bi1.id_realization_item\n",
    "        left join payments.order_items_locked_by_check_items il1 on il1.id_order_item = a1.i\n",
    "        left join payments.check_items ci1 on ci1.id = il1.id_check_item_fullpaid\n",
    "        left join public.nds rnds on rnds.id = i1.id_nds\n",
    "        left join public.nds cnds on cnds.code = ci1.vat\n",
    "        /* комплектующая */\n",
    "        left join opentech.reference_price rp on rp.id = s1.reference_id\n",
    "        left join opentech.section_new sn on sn.id = rp.section_sootv\n",
    "        left join managers m on m.id = coalesce(sn.productmanagerid, 0) -- продакт\n",
    "        left join catalog.plain_section_list g on g.id = sn.goodid\n",
    "        left join catalog.brands b on b.id = rp.brand_id --,b.name brand\n",
    "        /* комплект */    \n",
    "        left join opentech.users u on lower(u.login) = lower(a2.user_login)\n",
    "        left join orders.realization_items_order_items_bindings bi on bi.id_order_item = a2.i\n",
    "        left join orders.realization_items i on i.id = bi.id_realization_item\n",
    "        left join orders.realizations r on r.id = i.id_realization\n",
    "        left join payments.order_items_locked_by_check_items il on il.id_order_item = a2.i\n",
    "        left join payments.check_items ci on ci.id = il.id_check_item_fullpaid\n",
    "        left join payments.checks checks on checks.id = ci.id_check\n",
    "        left join opentech.supplyitems si on si.id = s2.supplyitemid\n",
    "        left join opentech.supplies su on su.id = si.supplyid\n",
    "        left join customers.suppliers sup on sup.id_customer = su.supplierid\n",
    "        left join opentech.customers c on c.id = coalesce(sup.id_customer_alpha, sup.id_customer)\n",
    "\n",
    "    --    left join opentech.account_item ai on ai.account_id = a2.id \n",
    "    --    left join opentech.account_item ai2 on ai2.account_id = a1.id \n",
    "\n",
    "        where \n",
    "            a1.state = orders.item_state('BUNDLED')\n",
    "    --        and b.name ilike 'BaseTech' --BaseTech\t484\t683681.00\t326604.50\t48969.34\n",
    "        \tand case when BREND_replce = 0 then true else b.id  = BREND_replce end\n",
    "    --    \tand case when 1 = 0 then true else b.id  = 1392 end\n",
    "    --        AND s2.sold != store.item_sold('NONE')\n",
    "    --        AND \n",
    "    --        s2.date_sold BETWEEN _.frm AND _.til\n",
    "    --        AND s2.price > 0\n",
    "\n",
    "            /*tests*/\n",
    "    --        and s1.reference_id in (532690\n",
    "    --       )\n",
    "    --        and \n",
    "    --        a2.id in (6355406,6350260)\n",
    "\n",
    "    --\torder by a2.id, id_bundle\n",
    "\n",
    "    )\n",
    "    --select * from bundles \n",
    "\n",
    "\n",
    "    , sold as (\n",
    "    select \t/*1. Производитель|Продано, шт|Продано, руб|Прибыль, руб|Наценка, %*/\n",
    "        *\n",
    "    --\t\"Производитель\"\n",
    "    --\t,count(*) \"Продано, шт\"\n",
    "    --\t,sum(\"Цена с учетом скидок и бонус price_net\") \"Продано, руб\"\n",
    "    -- \t,sum(\"Прибыль\") \"Прибыль, руб\"\n",
    "    -- \t,round( ((sum(\"Цена с учетом скидок и бонус price_net\") - sum(\"Себестоимость чистая sprice\")) / sum(\"Себестоимость чистая sprice\")) * 100, 0) \"Наценка, %\"\n",
    "\n",
    "    from params _\n",
    "    cross join bundles b\n",
    "    where \n",
    "        s2_date_sold between _.frm and _.til\n",
    "        /*tests*/\n",
    "    --\tand \"Прибыль\" <= 0\n",
    "    --group by \"Производитель\"\n",
    "    )\n",
    "    --select * from sold \n",
    "\n",
    "\n",
    "    , completed as ( \n",
    "    select \t/*|Скомплектовано, шт|Скомплектовано, руб  */\n",
    "        *\n",
    "    --\t\"Производитель\"\n",
    "    --\t,count(*) \"Скомплектовано, шт\"\n",
    "    --\t,sum(\"Цена с учетом скидок и бонус price_net\") \"Скомплектовано, руб\"\n",
    "    from params _\n",
    "    cross join bundles b\n",
    "    where \n",
    "        (s2_date_sold not between _.frm and _.til or s2_date_sold is null) \n",
    "        and \n",
    "        s1_date_sold between _.frm and _.til\n",
    "    --group by \"Производитель\"\n",
    "    )\n",
    "    --select * from completed \n",
    "\n",
    "\n",
    "    , bundles_remainder as (\n",
    "    select /*|Остаток, шт| Остаток, руб*/\n",
    "        * \n",
    "    --\t\"Производитель\"\n",
    "    --\t,count(*) \"Остаток, шт\"\n",
    "    --\t,sum(\"Цена с учетом скидок и бонус price_net\") \"Остаток, руб\"\n",
    "    from params _\n",
    "    cross join bundles b\n",
    "    where \n",
    "        s2_date_buy < _.til::date --Время поступления на склад приходования --69 942\n",
    "        and (s2_date_sold IS NULL OR s2_date_sold >= _.til::date) --7 342\n",
    "        and s2_arrive = ANY(store.arrive_state(ARRAY['NEW', 'OK', 'TRANSIT', 'SELECTED_FOR_TRANSIT'])) -- s.arrive Состояние товара (см. функцию store.arrive_state)\n",
    "        /*and brand is null*/\n",
    "    --group by \"Производитель\"\n",
    "    )\n",
    "    --select * from bundles_remainder\n",
    "\n",
    "\n",
    "    , brand as (\n",
    "    select \n",
    "        case when b.name is null then 'ПУСТОЕ ЗНАЧЕНИЕ null' else b.name end \"Производитель\"\n",
    "    --\tb.name \"Производитель\" \n",
    "    from catalog.brands b  \n",
    "    /*where b.name is null*/\n",
    "    union all \n",
    "    select 'ПУСТОЕ ЗНАЧЕНИЕ null' \"Производитель\" \n",
    "    order by 1\n",
    "    )\n",
    "    --select * from brand\n",
    "\n",
    "    --, end_all as (\n",
    "    --select \n",
    "    --\tb.\"Производитель\", \"Продано, шт\", \"Продано, руб\", \"Прибыль, руб\", \"Наценка, %\"\n",
    "    --\t, \"Скомплектовано, шт\", \"Скомплектовано, руб\"\n",
    "    --\t,\"Остаток, шт\" ,\"Остаток, руб\"\n",
    "    --from brand b\n",
    "    --left join sold s on s.\"Производитель\" = b.\"Производитель\"\n",
    "    --left join completed c on c.\"Производитель\" = b.\"Производитель\"\n",
    "    --left join bundles_remainder br on br.\"Производитель\" = b.\"Производитель\"\n",
    "    --where \n",
    "    --\t\"Продано, шт\" is not null \n",
    "    --\tor  \n",
    "    --\t\"Скомплектовано, шт\" is not null\n",
    "    --\tor  \n",
    "    --\t\"Остаток, шт\" is not null\n",
    "    --\t\n",
    "    --order by b.\"Производитель\"  \n",
    "    --)\n",
    "    --\n",
    "    --select * from end_all\n",
    "\n",
    "    select * from sold\n",
    "    union all\n",
    "    select '1000-01-01 00:00:00'\n",
    "    \t,null,null,null,null,null,null,null,null,null,null,null,null,null,null,null,null,null,null,null,null,null,null,null,null,null,null,null,null,null,null,null,null,null,null,null,null\n",
    "    union all\n",
    "    select * from completed\n",
    "    union all\n",
    "    select '1000-01-02 00:00:00'\n",
    "    \t,null,null,null,null,null,null,null,null,null,null,null,null,null,null,null,null,null,null,null,null,null,null,null,null,null,null,null,null,null,null,null,null,null,null,null,null\n",
    "    union all\n",
    "    select * from bundles_remainder\n",
    "    \n",
    "    '''"
   ]
  },
  {
   "cell_type": "code",
   "execution_count": null,
   "id": "7ea5fe9e",
   "metadata": {},
   "outputs": [],
   "source": []
  },
  {
   "cell_type": "code",
   "execution_count": null,
   "id": "b658ebba",
   "metadata": {},
   "outputs": [],
   "source": []
  },
  {
   "cell_type": "markdown",
   "id": "3f3810a5",
   "metadata": {
    "ExecuteTime": {
     "end_time": "2023-03-02T11:42:28.569194Z",
     "start_time": "2023-03-02T11:42:28.565892Z"
    },
    "deletable": false,
    "editable": false,
    "run_control": {
     "frozen": true
    }
   },
   "source": [
    "## Задаем параметры при необходимости"
   ]
  },
  {
   "cell_type": "code",
   "execution_count": null,
   "id": "7f915507",
   "metadata": {
    "ExecuteTime": {
     "end_time": "2023-03-17T07:55:38.422059Z",
     "start_time": "2023-03-17T07:55:38.255094Z"
    },
    "scrolled": true
   },
   "outputs": [],
   "source": [
    "'''Python OOP set widgets (for set params)'''\n",
    "\n",
    "# print info (set params)\n",
    "Prints_().print_set_params()\n",
    "\n",
    "# ДАТЫ\n",
    "DATE_START_replce = date.today() - relativedelta(months=1)\n",
    "DATE_END_replce = date.today()\n",
    "\n",
    "# значения дат по дефолту устанавливаем которые меняем с помощью пикера! Код ниже ВЫНОСИТЬ НИКУДА НЕ НАДО ИНАЧЕ ПОЕДУТ ЦИФРЫ! поэтому класс ниже через exec!!!\n",
    "exec(MainVariables().exec_class_DatePicker)\n",
    "\n",
    "# БРЕНДЫ\n",
    "df_brand_val = 0 \n",
    "# значение начальное которое меняем с помощью пикера! Код ниже ВЫНОСИТЬ НИКУДА НЕ НАДО ИНАЧЕ ПОЕДУТ ЦИФРЫ! поэтому класс ниже через exec!!!\n",
    "exec(MainVariables().exec_class_BrandPicker)\n",
    "\n",
    "\n",
    "df_for_brand_picker = None\n",
    "# функция отображения всех заданных здесь наших виджетов\n",
    "def display_all_set_params_widgets():\n",
    "    global df_for_brand_picker\n",
    "    '''display all widgets'''\n",
    "#     date start, date end\n",
    "    date_picker1 = DatePicker().dp_start( description = MainVariables().date_picker_description[0], DATE_START_replce = DATE_START_replce )\n",
    "    date_picker2 = DatePicker().dp_end( description = MainVariables().date_picker_description[1], DATE_END_replce = DATE_END_replce )\n",
    "#     brand\n",
    "    df_for_brand_picker = ConnectDatabase().root_database_read_sql_query(MainVariables().sql_query_brand)\n",
    "    brand_picker2 = BrandPicker().brand_picker(df_for_brand_picker)\n",
    "    # display( d1 ), display( d2 ), display( bp )\n",
    "    \n",
    "    # колонка с датами VBox date_box\n",
    "    date_box = widgets.VBox([ \n",
    "        date_picker1\n",
    "        ,date_picker2\n",
    "        ])\n",
    "    box2 = widgets.VBox([ \n",
    "        brand_picker2 \n",
    "    ])\n",
    "    all_VBox_widgets = widgets.HBox([ date_box\n",
    "                                     , box2 \n",
    "                                    ])\n",
    "    display(all_VBox_widgets)\n",
    "#     print(DATE_START_replce, DATE_END_replce )\n",
    "\n",
    "display_all_set_params_widgets()"
   ]
  },
  {
   "cell_type": "code",
   "execution_count": null,
   "id": "a83a9629",
   "metadata": {
    "ExecuteTime": {
     "end_time": "2023-03-17T07:55:38.426131Z",
     "start_time": "2023-03-17T07:55:38.423470Z"
    },
    "scrolled": false
   },
   "outputs": [],
   "source": [
    "# print(\n",
    "#     DATE_START_replce, DATE_END_replce, '\\n'\n",
    "#     , df_brand_val, '\\n'\n",
    "#     ,df_for_brand_picker .loc[df_brand_val].to_string()\n",
    "#      )"
   ]
  },
  {
   "cell_type": "code",
   "execution_count": null,
   "id": "933a8e99",
   "metadata": {},
   "outputs": [],
   "source": []
  },
  {
   "cell_type": "code",
   "execution_count": null,
   "id": "2c4dc672",
   "metadata": {
    "ExecuteTime": {
     "end_time": "2023-03-17T07:55:38.431713Z",
     "start_time": "2023-03-17T07:55:38.427640Z"
    }
   },
   "outputs": [],
   "source": [
    "# all_widget_in_this_report_replace_param = {\n",
    "#     'DATE_START_replce': f'{DATE_START_replce}'\n",
    "#     ,'DATE_END_replce': f'{DATE_END_replce}'\n",
    "#     ,'BREND_replce': f'{df_for_brand_picker .loc[df_brand_val][0]}'\n",
    "#     ,'MANAGER_replce': f'{df_for_brand_picker .loc[df_brand_val][0]}'\n",
    "#     ,'etc._replce': f'{df_for_brand_picker .loc[df_brand_val][0]}'\n",
    "\n",
    "#     }\n",
    "# # all_widget_in_this_report_replace_param"
   ]
  },
  {
   "cell_type": "markdown",
   "id": "6e19db5b",
   "metadata": {
    "ExecuteTime": {
     "end_time": "2023-03-02T11:43:24.383645Z",
     "start_time": "2023-03-02T11:43:24.380358Z"
    },
    "deletable": false,
    "editable": false,
    "run_control": {
     "frozen": true
    }
   },
   "source": [
    "## Жмем кнопку запуска и ждем..."
   ]
  },
  {
   "cell_type": "code",
   "execution_count": null,
   "id": "3799880a",
   "metadata": {
    "ExecuteTime": {
     "end_time": "2023-03-17T07:55:38.464140Z",
     "start_time": "2023-03-17T07:55:38.433373Z"
    },
    "scrolled": false
   },
   "outputs": [],
   "source": [
    "'''Python OOP run button function widgets'''\n",
    "\n",
    "all_sql_query_list = [ sql_query_1\n",
    "                      ,sql_query_2 \n",
    "                     ]\n",
    "\n",
    "all_widget_in_this_report_replace_param = '''{\n",
    "    'DATE_START_replce': f'{DATE_START_replce}'\n",
    "    ,'DATE_END_replce': f'{DATE_END_replce}'\n",
    "    ,'BREND_replce': f'{df_for_brand_picker .loc[df_brand_val][0]}'\n",
    "    ,'MANAGER_replce': f'{df_for_brand_picker .loc[df_brand_val][0]}'\n",
    "    ,'etc._replce': f'{df_for_brand_picker .loc[df_brand_val][0]}'\n",
    "    }'''\n",
    "# eval(all_widget_in_this_report_replace_param)\n",
    "\n",
    "\n",
    "class MakeOutputFile(FileName, ConnectDatabase, MainVariables):\n",
    "    def make_name_for_output_file(self, ):\n",
    "        s3_file_name = self.s3report_file_name( \n",
    "            ipynb_file_name .split('.')[0]\n",
    "            ,getpass_getuser = getpass.getuser()\n",
    "            ,datetime_now = datetime.datetime.now().strftime(\"%H:%M:%S\")\n",
    "            ,DATE_START_replce = DATE_START_replce\n",
    "            ,DATE_END_replce = DATE_END_replce\n",
    "            ,extension='.xlsx'\n",
    "            ,params = df_for_brand_picker .loc[df_brand_val][1]\n",
    "            )\n",
    "        return s3_file_name\n",
    "    \n",
    "    exec(MainVariables().exec_def_sql_replace_params_class_MakeOutputFile)\n",
    "        \n",
    "    exec(MainVariables().exec_def_load_sql_into_df_class_MakeOutputFile)\n",
    "        \n",
    "    def make_excel_sheets_dict(self, dfs: list) -> dict: \n",
    "        try:\n",
    "            # определяем названия листов в соответствии с данными на эти листы (листы в екселе)\n",
    "            sheet_name0 = 'Итоговая'\n",
    "            sheet_name1 = 'Продано Прибыль Наценка'\n",
    "            sheet_name2 = 'Скомплектовано'\n",
    "            sheet_name3 = 'Остаток'\n",
    "            sheets0 = dfs[0]\n",
    "            sheets1 = dfs[1].astype({'frm': 'str'}).set_index(dfs[1].columns[0]).loc[:spl1].reset_index()\n",
    "            sheets2 = dfs[1].astype({'frm': 'str'}).set_index(dfs[1].columns[0]).loc[spl1:spl2].reset_index().iloc[1:]\n",
    "            sheets3 = dfs[1].astype({'frm': 'str'}).set_index(dfs[1].columns[0]).loc[spl2:].reset_index().iloc[1:]\n",
    "            # СЛОВАРЬ названия листов и их данных \n",
    "            excel_sheets = {\n",
    "                f'1 - {sheet_name0}' : sheets0, \n",
    "                f'2 - {sheet_name1}' : sheets1, \n",
    "                f'3 - {sheet_name2}' : sheets2, \n",
    "                f'4 - {sheet_name3}' : sheets3, \n",
    "                }\n",
    "            return excel_sheets\n",
    "        except Exception as exc:\n",
    "                print( Prints_().print_err_make_excel_sheets_dict(), exc )\n",
    "\n",
    "# if we have changeable parameters, replace their into the sql query and print! for exemple for test on DBeaver \n",
    "# print( MakeOutputFile().sql_replace_params(all_sql_query_list, all_widget_in_this_report_replace_param)[0]   )\n",
    "\n",
    "# \n",
    "exec(MainVariables().exec_class_RunFunction)\n",
    "#     \n",
    "exec(MainVariables().exec_class_RunClearButtons)\n",
    "RunClearButtons().display_run_clear_button_widgets()   \n",
    "\n",
    "pd.options.display.float_format = '{:.0f}'.format \n",
    "pd.set_option('max_rows', 500) \n"
   ]
  },
  {
   "cell_type": "code",
   "execution_count": null,
   "id": "3d5434ce",
   "metadata": {
    "ExecuteTime": {
     "end_time": "2023-03-17T07:55:38.469972Z",
     "start_time": "2023-03-17T07:55:38.467652Z"
    }
   },
   "outputs": [],
   "source": [
    "# print( eval(all_widget_in_this_report_replace_param) )"
   ]
  },
  {
   "cell_type": "code",
   "execution_count": null,
   "id": "8056e9f2",
   "metadata": {
    "ExecuteTime": {
     "end_time": "2023-03-17T07:55:38.475437Z",
     "start_time": "2023-03-17T07:55:38.471491Z"
    }
   },
   "outputs": [],
   "source": [
    "### if we have changeable parameters, replace their into the sql query and print! for exemple for test on DBeaver \n",
    "# print( MakeOutputFile().make_name_for_output_file() ) \n",
    "# print( MakeOutputFile().sql_replace_params(all_sql_query_list,  eval(all_widget_in_this_report_replace_param))[0]   )\n",
    "# df_for_brand_picker .loc[df_brand_val][0]"
   ]
  },
  {
   "cell_type": "code",
   "execution_count": null,
   "id": "db06e5da",
   "metadata": {},
   "outputs": [],
   "source": []
  },
  {
   "cell_type": "code",
   "execution_count": null,
   "id": "8ded3b71",
   "metadata": {},
   "outputs": [],
   "source": []
  },
  {
   "cell_type": "markdown",
   "id": "7f543417",
   "metadata": {
    "ExecuteTime": {
     "end_time": "2023-03-02T11:45:11.281057Z",
     "start_time": "2023-03-02T11:45:11.278658Z"
    },
    "deletable": false,
    "editable": false,
    "run_control": {
     "frozen": true
    }
   },
   "source": [
    "# Конец отчета"
   ]
  },
  {
   "cell_type": "markdown",
   "id": "20fa2715",
   "metadata": {
    "ExecuteTime": {
     "end_time": "2023-03-10T05:13:49.266434Z",
     "start_time": "2023-03-10T05:13:49.263574Z"
    },
    "deletable": false,
    "editable": false,
    "run_control": {
     "frozen": true
    }
   },
   "source": [
    "### Заметки!"
   ]
  },
  {
   "cell_type": "code",
   "execution_count": null,
   "id": "a881fe74",
   "metadata": {
    "ExecuteTime": {
     "end_time": "2023-03-17T07:55:38.495852Z",
     "start_time": "2023-03-17T07:55:38.476955Z"
    }
   },
   "outputs": [],
   "source": [
    "# info for users\n",
    "try:\n",
    "    Prints_().print_info4users( )\n",
    "except:\n",
    "    pass\n"
   ]
  },
  {
   "cell_type": "code",
   "execution_count": null,
   "id": "042ed1d1",
   "metadata": {},
   "outputs": [],
   "source": []
  },
  {
   "cell_type": "code",
   "execution_count": null,
   "id": "14bbe7af",
   "metadata": {},
   "outputs": [],
   "source": []
  },
  {
   "cell_type": "code",
   "execution_count": null,
   "id": "82ff7438",
   "metadata": {},
   "outputs": [],
   "source": []
  },
  {
   "cell_type": "code",
   "execution_count": null,
   "id": "0a8937e5",
   "metadata": {},
   "outputs": [],
   "source": []
  }
 ],
 "metadata": {
  "hide_input": true,
  "kernelspec": {
   "display_name": "python39-spark-conda",
   "language": "python",
   "name": "python39-spark-conda"
  },
  "language_info": {
   "codemirror_mode": {
    "name": "ipython",
    "version": 3
   },
   "file_extension": ".py",
   "mimetype": "text/x-python",
   "name": "python",
   "nbconvert_exporter": "python",
   "pygments_lexer": "ipython3",
   "version": "3.9.7"
  },
  "toc": {
   "base_numbering": 1,
   "nav_menu": {},
   "number_sections": false,
   "sideBar": true,
   "skip_h1_title": false,
   "title_cell": "Table of Contents",
   "title_sidebar": "Contents",
   "toc_cell": false,
   "toc_position": {
    "height": "1076px",
    "left": "205px",
    "top": "257.75px",
    "width": "340px"
   },
   "toc_section_display": true,
   "toc_window_display": true
  },
  "varInspector": {
   "cols": {
    "lenName": 16,
    "lenType": 16,
    "lenVar": 40
   },
   "kernels_config": {
    "python": {
     "delete_cmd_postfix": "",
     "delete_cmd_prefix": "del ",
     "library": "var_list.py",
     "varRefreshCmd": "print(var_dic_list())"
    },
    "r": {
     "delete_cmd_postfix": ") ",
     "delete_cmd_prefix": "rm(",
     "library": "var_list.r",
     "varRefreshCmd": "cat(var_dic_list()) "
    }
   },
   "types_to_exclude": [
    "module",
    "function",
    "builtin_function_or_method",
    "instance",
    "_Feature"
   ],
   "window_display": false
  }
 },
 "nbformat": 4,
 "nbformat_minor": 5
}
