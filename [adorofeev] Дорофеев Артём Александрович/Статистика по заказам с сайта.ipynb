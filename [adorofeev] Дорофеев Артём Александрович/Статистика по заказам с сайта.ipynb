{
 "cells": [
  {
   "cell_type": "markdown",
   "id": "dd9850d4",
   "metadata": {
    "ExecuteTime": {
     "end_time": "2023-03-01T11:00:18.595023Z",
     "start_time": "2023-03-01T11:00:18.591807Z"
    },
    "deletable": false,
    "editable": false,
    "run_control": {
     "frozen": true
    }
   },
   "source": [
    "# Начало отчета"
   ]
  },
  {
   "cell_type": "code",
   "execution_count": null,
   "id": "78be3b44",
   "metadata": {
    "ExecuteTime": {
     "end_time": "2023-04-25T07:03:01.838696Z",
     "start_time": "2023-04-25T07:03:01.835297Z"
    }
   },
   "outputs": [],
   "source": [
    "\n",
    "# %%javascript\n",
    "# IPython.notebook.kernel.execute('ipynb_file_name_ext = \"' + IPython.notebook.notebook_name + '\"')\n",
    "# // получить имя файла не питона а юпитер ноут в переменную ipynb_file_name\n",
    "# // работает только когда запускаем вручную \n",
    "\n",
    "# // или\n",
    " \n",
    "# %%javascript\n",
    "# IPython.notebook.kernel.execute(`ipynb_file_name_ext = '${window.document.getElementById(\"notebook_name\").innerHTML}'`);\n",
    "# // получить имя файла не питона а юпитер ноут в переменную ipynb_file_name\n",
    "# // работает только когда запускаем вручную "
   ]
  },
  {
   "cell_type": "code",
   "execution_count": null,
   "id": "12a4cc1d",
   "metadata": {
    "ExecuteTime": {
     "end_time": "2023-04-25T07:03:01.859598Z",
     "start_time": "2023-04-25T07:03:01.842651Z"
    }
   },
   "outputs": [],
   "source": [
    "# ipynb_file_name_ext"
   ]
  },
  {
   "cell_type": "code",
   "execution_count": null,
   "id": "91a7afa3",
   "metadata": {
    "ExecuteTime": {
     "end_time": "2023-04-25T07:03:01.889922Z",
     "start_time": "2023-04-25T07:03:01.861570Z"
    }
   },
   "outputs": [],
   "source": [
    "# задаем имя файла если жаваскрипт отработал криво а он нифига не пашет (( только если руками запускать а если ран алл то все криво работает ((\n",
    "ipynb_file_name = 'Статистика по заказам с сайта'\n",
    "# ipynb_file_name"
   ]
  },
  {
   "cell_type": "code",
   "execution_count": null,
   "id": "6b14a210",
   "metadata": {
    "ExecuteTime": {
     "end_time": "2023-04-25T07:03:06.244417Z",
     "start_time": "2023-04-25T07:03:01.891884Z"
    },
    "scrolled": false
   },
   "outputs": [],
   "source": [
    "# magic\n",
    "#################################\n",
    "%matplotlib inline \n",
    "#################################\n",
    "\n",
    "# run magic в юпитере! НЕ РАБОТАЕТ в .py файлах\n",
    "# run files исполнить файлы магией тут\n",
    "%run /srv/jhub/share/._Additions/import_my_modules.py\n",
    "\n",
    "# %run /srv/jhub/share/._Additions/import_libs.py\n",
    "# %run /srv/jhub/share/._Additions/prints_.py\n",
    "# %run /srv/jhub/share/._Additions/my_script.py этот импортится внутри import_my_modules.py\n",
    "# %run /srv/jhub/share/._Additions/Connecting_.py\n",
    "# %run /srv/jhub/share/._Additions/Date_gen.py\n",
    "# %run /srv/jhub/share/._Additions/xx.py\n",
    "\n",
    "#################################\n",
    "# еще вариант magic который !РАБОТАЕТ в .py файлах\n",
    "# get_ipython().run_line_magic('matplotlib', 'inline')\n",
    "# run files\n",
    "# get_ipython().run_line_magic('run', '/srv/jhub/share/._Additions/import_libs.py')\n",
    "# get_ipython().run_line_magic('run', '/srv/jhub/share/._Additions/Connecting_.py')\n",
    "# get_ipython().run_line_magic('run', '/srv/jhub/share/._Additions/my_script.py')\n",
    "# get_ipython().run_line_magic('run', '/srv/jhub/share/._Additions/Date_gen.py')\n",
    "# get_ipython().run_line_magic('run', '/srv/jhub/share/._Additions/xx.py')\n",
    "############################## End ##############################\n",
    "# help(Prints_), print(JiraTaskPrint.__doc__)"
   ]
  },
  {
   "cell_type": "code",
   "execution_count": null,
   "id": "9971ed73",
   "metadata": {},
   "outputs": [],
   "source": []
  },
  {
   "cell_type": "code",
   "execution_count": null,
   "id": "540fa482",
   "metadata": {},
   "outputs": [],
   "source": []
  },
  {
   "cell_type": "markdown",
   "id": "279753c7",
   "metadata": {
    "ExecuteTime": {
     "end_time": "2023-01-18T11:53:24.717403Z",
     "start_time": "2023-01-18T11:53:24.714310Z"
    },
    "deletable": false,
    "editable": false,
    "run_control": {
     "frozen": true
    }
   },
   "source": [
    "## Жмем сочетание клавиш:  Alt-Ctrl-L (на англ. раскладке)"
   ]
  },
  {
   "cell_type": "code",
   "execution_count": null,
   "id": "3320a97e",
   "metadata": {
    "ExecuteTime": {
     "end_time": "2023-04-25T07:03:06.337189Z",
     "start_time": "2023-04-25T07:03:06.246699Z"
    },
    "scrolled": true
   },
   "outputs": [],
   "source": [
    "# выводим спарсенные данные с жиры описание и тд....\n",
    "task_link = '''\n",
    "https://jira.e2e4.ru/browse/BA-\\\n",
    "310\n",
    "'''\n",
    "JiraTaskPrint().print_tasks(task_link)"
   ]
  },
  {
   "cell_type": "code",
   "execution_count": null,
   "id": "5fc7d55c",
   "metadata": {
    "ExecuteTime": {
     "end_time": "2023-04-25T07:03:06.342365Z",
     "start_time": "2023-04-25T07:03:06.339153Z"
    }
   },
   "outputs": [],
   "source": [
    "spl1 = 'Сформировано заказов'\n",
    "spl2 = 'Оформлено заказов'\n",
    "spl3 = 'Выкуплено заказов'\n",
    "spl4 = 'ИТОГО'"
   ]
  },
  {
   "cell_type": "code",
   "execution_count": null,
   "id": "598f3e85",
   "metadata": {
    "ExecuteTime": {
     "end_time": "2023-04-25T07:03:06.438892Z",
     "start_time": "2023-04-25T07:03:06.344597Z"
    },
    "code_folding": [
     0
    ]
   },
   "outputs": [],
   "source": [
    "sql_query_1 = f'''\n",
    "\n",
    "        /* https://jira.e2e4.ru/browse/BA-310\n",
    "        Цель этого отчета - построить воронку продаж сайта\n",
    "        Обновленное ТЗ для этой задачи:\n",
    "        Отчет \"Статистика с группировкой по месяцам\":\n",
    "        1) Принадлежность к источнику оформления заказа определяется по \"площадке\", на которой создан заказ. К сайту относим площадки \"Сайт-20??\", \"Сайт-2009\", \"Сайт-2015\"\n",
    "        2) Колонка \"Сформировано заказов\" должна учитывать ВСЕ заказы, созданные на сайте, в т.ч. с удаленными позициями и удаленные заказы\n",
    "        3) Колонка \"Сформировано руб.\" должна суммировать стоимость всех когда-либо добавленных в заказ позиций (независимо от того кто добавил позицию менеджер или клиент на сайте), в т.ч. удаленных, по цене прайса на момент добавления позиции в заказ\n",
    "        4) Группировка заказов по периоду осуществляется по минимальной дате добавления позиции в заказ\n",
    "        5) Колонка \"Оформлено заказов\" считает количество когда-либо оформленных заказов (по статусу заказа), в т.ч. впоследствии удаленных и отмененных, среди \"сформированных\" заказов в этот период (по ID заказа)\n",
    "        6) Колонка \"Оформлено руб.\" должна суммировать стоимость всех оформленных позиций в заказах, в т.ч. впоследствии удаленных, по продажной цене на момент оформления заказа среди сформированных заказов в этот период (по ID заказа)\n",
    "        7) Колонка \"Выкуплено заказов\" считает количество выкупленных заказов (не менее 1 отгруженной позиции товара в заказе) среди сформированных заказов в этот период (по ID заказа). Если впоследствии продажа была отменена, заказ уходит из количества выкупленных\n",
    "        8) Колонка \"Выкуплено руб.\" должна суммировать стоимость всех отгруженных позиций в заказах, в т.ч. впоследствии удаленных, по фактической продажной цене среди сформированных заказов в этот период (по ID заказа).\n",
    "        При формировании отчета за прошедший период количество сформированных и оформленных заказов меняться не должно, а суммы сформированных и оформленных заказов могут изменяться. Количество и суммы выкупленных заказов могут меняться за прошлый период при отмене продажи или при последующей отгрузке.\n",
    "        */\n",
    "\n",
    "        /*Отчет \"Статистика с группировкой по месяцам\"*/\n",
    "\n",
    "        /*\n",
    "        --\n",
    "        --\n",
    "        --WITH orders AS (\n",
    "        --    SELECT\n",
    "        --        DISTINCT id\n",
    "        --    FROM opentech.accounts a\n",
    "        --    WHERE a.in_account_date BETWEEN '01.06.2021'::timestamptz AND ('30.09.2021'::date + 1)::timestamptz\n",
    "        ----        AND a.del=0\n",
    "        --)\n",
    "        --SELECT\n",
    "        --    o.id,\n",
    "        --    MIN(a.in_account_date)\n",
    "        --FROM orders o\n",
    "        --JOIN opentech.accounts a ON a.id = o.id\n",
    "        ----    AND a.del = 0\n",
    "        --GROUP BY o.id\n",
    "        --HAVING MIN(a.in_account_date) BETWEEN '01.06.2021'::timestamptz AND ('30.09.2021'::date + 1)::timestamptz\n",
    "        --\n",
    "        --\n",
    "        --\n",
    "        --,LOG_PRICE as (\n",
    "        --select \t\n",
    "        --\t*\n",
    "        --\tSO.\"ID заказа\"\n",
    "        --\t,coalesce(sum( (la._values::hstore -> 'price')::numeric ), 0) \"Общая сумма заказа\"\n",
    "        ----\t,la._values::hstore -> 'id'\n",
    "        --\t\n",
    "        --from SITE_ORDERS SO\n",
    "        --left join _logs.opentech__accounts la on SO.i = la.i\n",
    "        --where\n",
    "        --\tla.\"_op_type\" = 1\n",
    "        ----\tand (la._values::hstore -> 'id')::int in (3654551 )\n",
    "        ----\tla._values::hstore -> 'price' is not null\n",
    "        --\n",
    "        ----\tla.i in (select distinct(i)  from SITE_ORDERS)\n",
    "        --\n",
    "        --group by SO.\"ID заказа\"\n",
    "        --\n",
    "        --)\n",
    "        --select * from LOG_PRICE\n",
    "        */\n",
    "\n",
    "\n",
    "\t\twith \n",
    "\t\t--PARAMS as materialized (\n",
    "\t\t--\tselect \n",
    "\t\t--\t\t('01.06.2021' || ' 00:00:00')::timestamp date_start --  3654551 \n",
    "\t\t--\t\t,('30.09.2021' || ' 23:59:59')::timestamp date_end\n",
    "\t\t----\t\t ( '\\$date_start' || ' 00:00:00')::timestamp date_start \n",
    "\t\t---- \t\t,( '\\$date_end' || ' 23:59:59')::timestamp date_end \n",
    "\t\t----    \t( 'DATE_START_replce' || ' 00:00:00')::timestamp    date_start \n",
    "\t\t----    \t,( 'DATE_END_replce' || ' 23:59:59')::timestamp    date_end\n",
    "\t\t--    )\n",
    "\t\t--, \n",
    "\t\t\n",
    "\t\tSITE_ORDERS as (\n",
    "\t\tselect --distinct\n",
    "\t\t    min(a.in_account_date)::date \"Время добавления позиции в заказ\" \t \n",
    "\t\t    ,a.id \"ID заказа\" \n",
    "\t\t    ,state.name \"Cтатус заказа\" -- orders.states справочник состояний клиентского заказа\n",
    "\t\t--\t,coalesce(sum(a.price_net), 0) \"Общая сумма заказа\"\n",
    "\t\t--\t,round(orders.get_order_summa_brutto(a.id),2) \"Стоимость оформленных позиций\" --вычисление общей суммы заказа COALESCE(SUM(a.price_net), 0)\n",
    "\t\t--from PARAMS _\n",
    "\t\t--cross join opentech.account_item ai\n",
    "\t\tfrom opentech.account_item ai\n",
    "\t\tjoin opentech.accounts a on a.id = ai.account_id\n",
    "\t\tleft join orders.states state on state.id = ai.state\n",
    "\t\t\n",
    "\t\t--\t7832\tSITE-2009\tСайт-2009\n",
    "\t\t--\t1246\tSITE-2015\tСайт-2015\n",
    "\t\t--\t3252\tSITE-2018\tСайт-20??\n",
    "\t\twhere\n",
    "\t\t    ai.id_platform in (7832,1246,3252) \n",
    "\t\t--\tand a.id in( 6107728 --,6111202, 6135089,6111202,6114598\n",
    "\t\t--\t /*с услуг*/\n",
    "\t\t--\t,6277066,6138018,6286938,6138018,6220664,6257057,6258658,6286938,6271032,6182157,6200667,6301913,6261210,6182157,6222603,6287562,6250029,6271224,6215176,6273144\n",
    "\t\t--,6294488,6184155,6290672,6291366,6261048,6172469,6240240,,6143529,6266098,6279167,6244798,6108055,6260851,6219947,6211851,6191045,6279903,6138213,6129232,6206888\n",
    "\t\t--,6279903,6266511,6166614,6263936,6207891,6128631,6178052,6266098,6287540,6256512,6256444,6148114,6257900,6114598,6109126,6304253,6123738,6242094,6186854,6167719,6242391,6278809\n",
    "\t\t--,6192867,6178476,6122951,6228320,6241824,6184180,6131372,6265676,6137539,6232239,6108055,6170003,6129115,6255799,6273144,6181844,6234126,6279167,6291346,6271032,6235067,6183096,6206982\n",
    "\t\t--,6266511,6132144,6141325,6249245,6218681,6251376,6244330,6278805,6286653,6124159,6124341,6125664,6208372,6164988,6163493,6286938,6242712,6178476,6286982,6302446,6217307,6222647,6187197,6212947\n",
    "\t\t--,6303447,6109004,6196513,6178137 \n",
    "\t\t--\t,6135089 --товарн позиц 0\n",
    "\t\t--\t,6230575,6176068,6109913,6282264,6133277,6273303,6114257,6196775,6153929,6205539,6165432,6211799,6282498,6282421,6266636,6227657,6194593,6238221,6278950,6256432\n",
    "\t\t--\t,6175315,6243630,6130124,6109423,6204662,6213770,6154972,6280294,6135089,6278817,6153538,6193104,6117473,6112445,6137459,6155081,6137027,6262182,6237306\n",
    "\t\t--)\n",
    "\t\t\n",
    "\t\tgroup by \n",
    "\t\t    a.id, state.name\t\n",
    "\t\t\n",
    "\t\thaving  \t\n",
    "\t\t--        min(a.in_account_date)  between  ('27.10.2021' || ' 00:00:00')::timestamp and ('30.10.2021' || ' 23:59:59')::timestamp\n",
    "\t\t    min(a.in_account_date)  between  ('DATE_START_replce' || ' 00:00:00')::timestamp and ('DATE_END_replce' || ' 23:59:59')::timestamp\n",
    "\t\t)\n",
    "\t\t\n",
    "\t\t\n",
    "\t\t, storage_city1 as(\n",
    "\t\tselect --\t* \n",
    "\t\t    \"ID заказа\"\n",
    "\t\t    ,pc.name \"Город отгрузки\"\n",
    "\t\t    ,count(distinct pc.name) \"count Город отгрузки\"\n",
    "\t\t    ,count(a.reference_id) \"count Товарная позиция\"\n",
    "\t\t    ,coalesce(sum(a.price_net), 0) \"Общая сумма заказа\"\n",
    "\t\t\n",
    "\t\tfrom SITE_ORDERS SO\n",
    "\t\tleft join opentech.accounts a on a.id = SO.\"ID заказа\"\n",
    "\t\t--/* место продажи */\n",
    "\t\tleft join opentech.storage storage on storage.id = a.storage_id\n",
    "\t\tleft join public.cities pc on pc.id = storage.city_id \n",
    "\t\t/*--where ХЗ ЗАЧЕМ ТУТ\n",
    "\t\t--\tSO.\"Cтатус заказа\" not in ('Не оформлен')*/\n",
    "\t\tgroup by \n",
    "\t\t    \"ID заказа\"\n",
    "\t\t    ,pc.name\n",
    "\t\t--\t,a.reference_id\n",
    "\t\t)\n",
    "\t\t, storage_city2 as (\n",
    "\t\tselect \tdistinct --*\n",
    "\t\t    \"ID заказа\", --\"Город отгрузки\", \"count Город отгрузки\", \"count Товарная позиция\", \"Общая сумма заказа\"\n",
    "\t\t    case \n",
    "\t\t        when  max(\"Общая сумма заказа\") OVER (PARTITION BY \"ID заказа\") = min(\"Общая сумма заказа\") OVER (PARTITION BY \"ID заказа\")\n",
    "\t\t            then max(\"count Товарная позиция\") OVER (PARTITION BY \"ID заказа\")  \n",
    "\t\t        else max(\"Общая сумма заказа\") OVER (PARTITION BY \"ID заказа\") \n",
    "\t\t        end \"count Товарная (сумма)\" \n",
    "\t\t    --\tmax(\"Общая сумма заказа\") OVER (PARTITION BY \"ID заказа\") \n",
    "\t\tfrom storage_city1\n",
    "\t\t)\n",
    "\t\t, storage_city3 as (\n",
    "\t\tselect s1.\"ID заказа\", \"Город отгрузки\", \"count Город отгрузки\", \"count Товарная позиция\", \"Общая сумма заказа\", \"count Товарная (сумма)\"\n",
    "\t\tfrom storage_city1 s1\n",
    "\t\tleft join storage_city2 s2 on s1.\"ID заказа\" = s2.\"ID заказа\" \n",
    "\t\twhere \n",
    "\t\t    \"Общая сумма заказа\" = \"count Товарная (сумма)\"\n",
    "\t\t)\n",
    "\t\t, storage_city4 as (\n",
    "\t\tselect s1.\"ID заказа\", \"Город отгрузки\", \"count Город отгрузки\", \"count Товарная позиция\", \"Общая сумма заказа\", \"count Товарная (сумма)\" \n",
    "\t\tfrom storage_city1 s1\n",
    "\t\tleft join storage_city2 s2 on s1.\"ID заказа\" = s2.\"ID заказа\" \n",
    "\t\twhere \n",
    "\t\t    \"count Товарная позиция\" = \"count Товарная (сумма)\"\n",
    "\t\t    and s1.\"ID заказа\" not in (select distinct \"ID заказа\" from storage_city3)\n",
    "\t\t)\n",
    "\t\t, storage_city5 as (\n",
    "\t\tselect distinct * from storage_city3\n",
    "\t\tunion\n",
    "\t\tselect distinct * from storage_city4\n",
    "\t\t)\n",
    "\t\t\n",
    "\t\t, FORMED as ( --Сформировано\n",
    "\t\tselect\n",
    "\t\t    to_char(SO.\"Время добавления позиции в заказ\", 'YYYY') \"Год\"\n",
    "\t\t--\t,to_char(SO.\"Время добавления позиции в заказ\", 'MM') || ' (' || \n",
    "\t\t    ,to_char(SO.\"Время добавления позиции в заказ\", 'TMMonth') \"Месяц\"\n",
    "\t\t    ,s5.\"Город отгрузки\" \"Город\"\n",
    "\t\t    ,case when a.firm = 1 then 'ФЛ' else 'ЮЛ' end \"Тип клиента\"\n",
    "\t\t    ,op.name \"Платформа\" --\t,ai.id_platform -- Сайт старый новый, Маркетплейс, Платформа, Площадка\n",
    "\t\t--\t,SO.\"ID заказа\" \n",
    "\t\t    ,case when SO.\"ID заказа\" is null then null else \n",
    "\t\t-- \t\tconcat('<a href=\"http://opentech.local/new/order/',a.id,'?main=2&additional=8\">',a.id,'</a>') end \"ID заказа\" /*confluence*/ \n",
    "\t\t        concat( '=HYPERLINK(\"http://opentech.local/new/order/',SO.\"ID заказа\",'\", \"',SO.\"ID заказа\",'\")' ) end \"ID заказа\" /*jupyter*/ --excel\n",
    "\t\t    ,SO.\"Cтатус заказа\" -- orders.states справочник состояний клиентского заказа\n",
    "\t\t    ,coalesce(sum(a.price_net), 0) \"Общая сумма заказа\"\n",
    "\t\t    \n",
    "\t\t\n",
    "\t\t--\t,array_to_string(array_agg( distinct a.state ),'; ') \"Состояние позиции заказа\"\n",
    "\t\t--\t,a.reference_id \"Товарная позиция\"\n",
    "\t\t--\t,count(reference_id) \"кол во товарная позиция\"\n",
    "\t\t--\t,round(orders.get_order_summa_brutto(a.id),2) \"Стоимость оформленных позиций\" --вычисление общей суммы заказа COALESCE(SUM(a.price_net), 0)\n",
    "\t\t--\t,array_to_string(array_agg( distinct ai.id_platform ),'; ') \"id_platform\"\n",
    "\t\t\n",
    "\t\tfrom SITE_ORDERS SO\n",
    "\t\tleft join opentech.accounts a on a.id = SO.\"ID заказа\"\n",
    "\t\tleft join storage_city5 s5 on s5.\"ID заказа\" = SO.\"ID заказа\"\n",
    "\t\tleft join opentech.account_item ai on a.id = ai.account_id --id_platform\n",
    "\t\t/*Сайт старый новый, Маркетплейс, Платформа, Площадка*/\n",
    "\t\tleft join orders.platforms op on op.id = ai.id_platform\n",
    "\t\t\n",
    "\t\tgroup by SO.\"Время добавления позиции в заказ\", SO.\"ID заказа\", SO.\"Cтатус заказа\", s5.\"Город отгрузки\", op.name ,a.firm \n",
    "\t\torder by 1,2,3,4,5,6,7\n",
    "\t\t\n",
    "\t\t)\n",
    "\t\t\n",
    "\t\t\n",
    "\t\t, FORMALIZED as ( --Оформлено\n",
    "\t\tselect\n",
    "\t\t    to_char(SO.\"Время добавления позиции в заказ\", 'YYYY') \"Год\"\n",
    "\t\t--\t,to_char(SO.\"Время добавления позиции в заказ\", 'MM') || ' (' || \n",
    "\t\t    ,to_char(SO.\"Время добавления позиции в заказ\", 'TMMonth') \"Месяц\"\n",
    "\t\t    ,s5.\"Город отгрузки\" \"Город\"\n",
    "\t\t    ,case when a.firm = 1 then 'ФЛ' else 'ЮЛ' end \"Тип клиента\"\n",
    "\t\t    ,op.name \"Платформа\" --\t,ai.id_platform -- Сайт старый новый, Маркетплейс, Платформа, Площадка\n",
    "\t\t--\t,SO.\"ID заказа\" \n",
    "\t\t    ,case when SO.\"ID заказа\" is null then null else \n",
    "\t\t-- \t\tconcat('<a href=\"http://opentech.local/new/order/',a.id,'?main=2&additional=8\">',a.id,'</a>') end \"ID заказа\" /*confluence*/ \n",
    "\t\t        concat( '=HYPERLINK(\"http://opentech.local/new/order/',SO.\"ID заказа\",'\", \"',SO.\"ID заказа\",'\")' ) end \"ID заказа\" /*jupyter*/ --excel\n",
    "\t\t    ,SO.\"Cтатус заказа\" -- orders.states справочник состояний клиентского заказа\n",
    "\t\t    ,coalesce(sum(a.price_net), 0) \"Общая сумма заказа\"\n",
    "\t\t\n",
    "\t\t--\t,array_to_string(array_agg( distinct a.state ),'; ') \"Состояние позиции заказа\"\n",
    "\t\t--\t,a.reference_id \"Товарная позиция\"\n",
    "\t\t--\t,count(reference_id) \"кол во товарная позиция\"\n",
    "\t\t--\t,round(orders.get_order_summa_brutto(a.id),2) \"Стоимость оформленных позиций\" --вычисление общей суммы заказа COALESCE(SUM(a.price_net), 0)\n",
    "\t\t--\t,array_to_string(array_agg( distinct ai.id_platform ),'; ') \"id_platform\"\n",
    "\t\t\n",
    "\t\tfrom SITE_ORDERS SO\n",
    "\t\tleft join opentech.accounts a on a.id = SO.\"ID заказа\"\n",
    "\t\tleft join storage_city5 s5 on s5.\"ID заказа\" = SO.\"ID заказа\"\n",
    "\t\tleft join opentech.account_item ai on a.id = ai.account_id --id_platform\n",
    "\t\t/*Сайт старый новый, Маркетплейс, Платформа, Площадка*/\n",
    "\t\tleft join orders.platforms op on op.id = ai.id_platform\n",
    "\t\t\n",
    "\t\twhere \n",
    "\t\t--\tacc_date is not null --Дата создания/оформления заказа --Оформлено не то!!!\n",
    "\t\t    SO.\"Cтатус заказа\" not in ('Не оформлен')\n",
    "\t\t\n",
    "\t\tgroup by SO.\"Время добавления позиции в заказ\", SO.\"ID заказа\", SO.\"Cтатус заказа\", s5.\"Город отгрузки\", op.name,  a.firm\n",
    "\t\torder by 1,2,3,4,5,6,7\n",
    "\t\t\n",
    "\t\t)\n",
    "\t\t\n",
    "\t\t, DISCLUDED_ORDERS1 as (\n",
    "\t\tselect distinct \n",
    "\t\t    SO.\"ID заказа\" \n",
    "\t\t    ,a.reference_id\n",
    "\t\t    ,oo.orderid\n",
    "\t\tfrom SITE_ORDERS SO\n",
    "\t\tleft join opentech.accounts a on a.id = SO.\"ID заказа\" \n",
    "\t\tleft join opentech.orderservices oo  ON a.i = oo.orderitemid\n",
    "\t\twhere \n",
    "\t\t    a.state in (23) --\t23\tSOLD\tПродана\n",
    "\t\t--\tand a.reference_id = 0 --доставки не услуги\t\t\t\n",
    "\t\t--\tand oo.orderid is null --если не пусто то это услуга\n",
    "\t\t)\n",
    "\t\t\n",
    "\t\t, DISCLUDED_ORDERS2 as (\n",
    "\t\tselect \n",
    "\t\t--\t*\n",
    "\t\t    \"ID заказа\"\n",
    "\t\t    ,case  when reference_id = 0 then count(reference_id) end \"= 0\"\n",
    "\t\t    ,case  when reference_id != 0 then count(reference_id) end \"!= 0\"\n",
    "\t\t    ,case  when orderid is not null  then count(orderid) end \"not null\"\n",
    "\t\tfrom DISCLUDED_ORDERS1\n",
    "\t\tgroup by \"ID заказа\", reference_id, orderid\n",
    "\t\t)\n",
    "\t\t\n",
    "\t\t, PURCHASED_ORDERS as ( --Выкуплено заказов\n",
    "\t\tselect\n",
    "\t\t    to_char(SO.\"Время добавления позиции в заказ\", 'YYYY') \"Год\"\n",
    "\t\t--\t,to_char(SO.\"Время добавления позиции в заказ\", 'MM') || ' (' || \n",
    "\t\t    ,to_char(SO.\"Время добавления позиции в заказ\", 'TMMonth') \"Месяц\"\n",
    "\t\t    ,s5.\"Город отгрузки\" \"Город\"\n",
    "\t\t    ,case when a.firm = 1 then 'ФЛ' else 'ЮЛ' end \"Тип клиента\"\n",
    "\t\t    ,op.name \"Платформа\" --\t,ai.id_platform -- Сайт старый новый, Маркетплейс, Платформа, Площадка\n",
    "\t\t--\t,SO.\"ID заказа\" \n",
    "\t\t    ,case when SO.\"ID заказа\" is null then null else \n",
    "\t\t-- \t\tconcat('<a href=\"http://opentech.local/new/order/',a.id,'?main=2&additional=8\">',a.id,'</a>') end \"ID заказа\" /*confluence*/ \n",
    "\t\t        concat( '=HYPERLINK(\"http://opentech.local/new/order/',SO.\"ID заказа\",'\", \"',SO.\"ID заказа\",'\")' ) end \"ID заказа\" /*jupyter*/ --excel\n",
    "\t\t    ,SO.\"Cтатус заказа\" -- orders.states справочник состояний клиентского заказа\n",
    "\t\t    ,coalesce(sum(a.price_net), 0) \"Общая сумма заказа\"\n",
    "\t\t\n",
    "\t\t--\t,array_to_string(array_agg( distinct a.state ),'; ') \"Состояние позиции заказа\"\n",
    "\t\t--\t,a.reference_id \"Товарная позиция\"\n",
    "\t\t--\t,count(reference_id) \"кол во товарная позиция\"\n",
    "\t\t--\t,round(orders.get_order_summa_brutto(a.id),2) \"Стоимость оформленных позиций\" --вычисление общей суммы заказа COALESCE(SUM(a.price_net), 0)\n",
    "\t\t--\t,array_to_string(array_agg( distinct ai.id_platform ),'; ') \"id_platform\"\n",
    "\t\t\n",
    "\t\t\n",
    "\t\tfrom SITE_ORDERS SO\n",
    "\t\tleft join opentech.accounts a on a.id = SO.\"ID заказа\"\n",
    "\t\tleft join storage_city5 s5 on s5.\"ID заказа\" = SO.\"ID заказа\"\n",
    "\t\tleft join opentech.account_item ai on a.id = ai.account_id\n",
    "\t\t/*Сайт старый новый, Маркетплейс, Платформа, Площадка*/\n",
    "\t\tleft join orders.platforms op on op.id = ai.id_platform\n",
    "\t\t\n",
    "\t\twhere \n",
    "\t\t    a.state in (23) --\t23\tSOLD\tПродана\n",
    "\t\t    and a.id not in ( \n",
    "\t\t        /*исключаем заказы в которых нет товаров и услуг (кроме товарной id = 0)*/\n",
    "\t\t        select \n",
    "\t\t            \"ID заказа\" --, sum(\"= 0\") \"= 0\", sum(\"!= 0\") \"!= 0\", sum(\"not null\") \"not null\"\n",
    "\t\t        from DISCLUDED_ORDERS2\n",
    "\t\t        group by  \"ID заказа\"\n",
    "\t\t        having\n",
    "\t\t            sum(\"!= 0\") is null \n",
    "\t\t            and sum(\"not null\") is null\n",
    "\t\t        )\n",
    "\t\t\n",
    "\t\tgroup by SO.\"Время добавления позиции в заказ\", SO.\"ID заказа\", SO.\"Cтатус заказа\", s5.\"Город отгрузки\", op.name, a.firm\n",
    "\t\torder by 1,2,3,4,5,6,7\n",
    "\t\t\n",
    "\t\t)\n",
    "\t\t\n",
    "\t\t, t1 as (\n",
    "\t\tselect \n",
    "\t\t--\tF.\"Год\" \"Год\" \n",
    "\t\t--\t,F.\"Месяц\" \"Месяц\"\n",
    "\t\t    F.\"Город\" \n",
    "\t\t    ,count(F.\"ID заказа\") \"Сформировано заказов\"\n",
    "\t\t    ,sum(F.\"Общая сумма заказа\") \"Сформировано, руб.\"\n",
    "\t\t--\t,sum(\"Стоимость оформленных позиций\") \"Стоимость оформленных позиций\"\n",
    "\t\tfrom FORMED F\n",
    "\t\t--left join PURCHASED_ORDERS\n",
    "\t\tgroup by \n",
    "\t\t--\tF.\"Год\", F.\"Месяц\"\n",
    "\t\t    F.\"Город\"\t\n",
    "\t\torder by F.\"Город\" --F.\"Год\", F.\"Месяц\"\n",
    "\t\t)\n",
    "\t\t, t2 as (\n",
    "\t\tselect \n",
    "\t\t--\tFZ.\"Год\" \"Год\" \n",
    "\t\t--\t,FZ.\"Месяц\" \"Месяц\"\n",
    "\t\t    FZ.\"Город\"\n",
    "\t\t    ,count(FZ.\"ID заказа\") \"Оформлено заказов\"\n",
    "\t\t    ,sum(FZ.\"Общая сумма заказа\") \"Оформлено, руб.\"\n",
    "\t\t----\t,sum(\"Стоимость оформленных позиций\") \"Стоимость оформленных позиций\"\n",
    "\t\tfrom FORMALIZED FZ\n",
    "\t\tgroup by \n",
    "\t\t--\tFZ.\"Год\", FZ.\"Месяц\"\n",
    "\t\t    FZ.\"Город\"\n",
    "\t\torder by FZ.\"Город\" --FZ.\"Год\", FZ.\"Месяц\"\n",
    "\t\t)\n",
    "\t\t, t3 as (\n",
    "\t\tselect \n",
    "\t\t--\tPO.\"Год\" \"Год\" \n",
    "\t\t--\t,PO.\"Месяц\" \"Месяц\"\n",
    "\t\t    PO.\"Город\"\n",
    "\t\t    ,count(PO.\"ID заказа\") \"Выкуплено заказов\"\n",
    "\t\t    ,sum(PO.\"Общая сумма заказа\") \"Выкуплено, руб.\"\n",
    "\t\t----\t,sum(\"Стоимость оформленных позиций\") \"Стоимость оформленных позиций\"\n",
    "\t\tfrom PURCHASED_ORDERS PO  \n",
    "\t\t    --/*по тз их надо учесть! where \"Общая сумма заказа\" != 0*/\n",
    "\t\tgroup by \n",
    "\t\t--\tPO.\"Год\", PO.\"Месяц\"\n",
    "\t\t    PO.\"Город\"\n",
    "\t\torder by PO.\"Город\" --PO.\"Год\", to_char(PO.\"Месяц\", 'TMMonth') \"Месяц\"\n",
    "\t\t)\n",
    "\t\t\n",
    "\t\t, EA as (\n",
    "\t\tselect --*\n",
    "\t\t--\tt1.\"Год\"::text\n",
    "\t\t--\t,t1.\"Месяц\"::text \n",
    "\t\t    t1.\"Город\"\n",
    "\t\t    ,t1.\"Сформировано заказов\"\n",
    "\t\t    ,t1.\"Сформировано, руб.\"\n",
    "\t\t    ,t2.\"Оформлено заказов\"\n",
    "\t\t    ,t2.\"Оформлено, руб.\"\n",
    "\t\t    ,t3.\"Выкуплено заказов\"\n",
    "\t\t    ,t3.\"Выкуплено, руб.\"\n",
    "\t\tfrom t1\n",
    "\t\tleft join t2 on t1.\"Город\" = t2.\"Город\" --t1.\"Год\" = t2.\"Год\" and t1.\"Месяц\" = t2.\"Месяц\"\n",
    "\t\tleft join t3 on t1.\"Город\" = t3.\"Город\" --t1.\"Год\" = t3.\"Год\" and t1.\"Месяц\" = t3.\"Месяц\"\n",
    "\t\torder by \n",
    "\t\t--\tt1.\"Год\", t1.\"Месяц\"\n",
    "\t\t     t1.\"Город\"\n",
    "\t\t)\n",
    "\t\t\n",
    "\t\t--select * from SITE_ORDERS --116 613\n",
    "\t\t\n",
    "\t\t--select distinct * from storage_city1\n",
    "\t\t--select distinct * from storage_city2\n",
    "\t\t--select distinct \"ID заказа\" from storage_city3\n",
    "\t\t\n",
    "\t\t/*исключаем заказы в которых нет товаров и услуг (кроме товарной id = 0)*/\n",
    "\t\t--\t\tselect \n",
    "\t\t--\t\t\t\"ID заказа\" --, sum(\"= 0\") \"= 0\", sum(\"!= 0\") \"!= 0\", sum(\"not null\") \"not null\"\n",
    "\t\t--\t\tfrom DISCLUDED_ORDERS2\n",
    "\t\t--\t\tgroup by  \"ID заказа\"\n",
    "\t\t--\t\thaving\n",
    "\t\t--\t\t\tsum(\"!= 0\") is null \n",
    "\t\t--\t\t\tand sum(\"not null\") is null\n",
    "\t\t\n",
    "\t\t\n",
    "\t\t/*Сформировано заказов*/\n",
    "\t\tselect distinct * from FORMED --117954  стало после хавинг 116613 \n",
    "\t\tunion all \n",
    "\t\tselect 'ИТОГО',null,null,null,null, count(distinct \"ID заказа\")::text, null, sum(\"Общая сумма заказа\") from FORMED --3595347732.00 верно!\n",
    "\t\tunion all\n",
    "\t\tselect null,'Сформировано заказов',null,null,null,null,null,null\n",
    "\t\t\n",
    "\t\t/*Оформлено заказов*/\n",
    "\t\tunion all\n",
    "\t\tselect distinct * from FORMALIZED\t--88599\n",
    "\t\tunion all\n",
    "\t\tselect 'ИТОГО',null,null,null,null, count(distinct \"ID заказа\")::text, null, sum(\"Общая сумма заказа\") from FORMALIZED\t--2180315592.00 верно\n",
    "\t\tunion all\n",
    "\t\tselect null,'Оформлено заказов',null,null,null,null,null,null\n",
    "\t\t\n",
    "\t\t/*Выкуплено заказов*/\n",
    "\t\tunion all\n",
    "\t\tselect distinct * from PURCHASED_ORDERS --75353-104 = 75249 -- 75249 верно!\n",
    "\t\tunion all \n",
    "\t\tselect 'ИТОГО',null,null,null,null, count(distinct \"ID заказа\")::text, null, sum(\"Общая сумма заказа\") from PURCHASED_ORDERS --1 148 765 338  странно  460 626 229\n",
    "\t\tunion all\n",
    "\t\tselect null,'Выкуплено заказов',null,null,null,null,null,null\n",
    "\t\t\n",
    "\t\t/*ИТОГО*/\n",
    "\t\tunion all\n",
    "\t\tselect --*\n",
    "\t\t--\t\"Год\", \t\"Месяц\", \t\t\t\t\t\"Город\", \t\t\t\"Платформа\", \t\t\t\"ID заказа\", \t\t\"Cтатус заказа\", \t\"Общая сумма заказа\"\n",
    "\t\t    \"Город\", \"Сформировано заказов\"::text, \"Сформировано, руб.\"::text, \"Оформлено заказов\"::text, \"Оформлено, руб.\"::text, \"Выкуплено заказов\"::text, \"Выкуплено, руб.\"::text, null\n",
    "\t\tfrom EA \n",
    "\t\tunion all \n",
    "\t\tselect \t'ИТОГО' --,null\n",
    "\t\t    ,sum( EA.\"Сформировано заказов\")::text,  sum(EA.\"Сформировано, руб.\")::text\n",
    "\t\t    ,sum( EA.\"Оформлено заказов\")::text, \tsum(EA.\"Оформлено, руб.\")::text\n",
    "\t\t    ,sum( EA.\"Выкуплено заказов\")::text, \tsum(EA.\"Выкуплено, руб.\")::text\n",
    "\t\t    ,null\n",
    "\t\tfrom EA\n",
    "        \n",
    "    '''"
   ]
  },
  {
   "cell_type": "code",
   "execution_count": null,
   "id": "51cfc98d",
   "metadata": {
    "ExecuteTime": {
     "end_time": "2023-04-25T07:03:06.445543Z",
     "start_time": "2023-04-25T07:03:06.440692Z"
    },
    "code_folding": [
     0
    ]
   },
   "outputs": [],
   "source": [
    "# sql_query_2 = f'''   ПУСТОЙ    '''"
   ]
  },
  {
   "cell_type": "code",
   "execution_count": null,
   "id": "7ea5fe9e",
   "metadata": {},
   "outputs": [],
   "source": []
  },
  {
   "cell_type": "code",
   "execution_count": null,
   "id": "b658ebba",
   "metadata": {},
   "outputs": [],
   "source": []
  },
  {
   "cell_type": "markdown",
   "id": "3f3810a5",
   "metadata": {
    "ExecuteTime": {
     "end_time": "2023-03-02T11:42:28.569194Z",
     "start_time": "2023-03-02T11:42:28.565892Z"
    },
    "deletable": false,
    "editable": false,
    "run_control": {
     "frozen": true
    }
   },
   "source": [
    "## Задаем параметры при необходимости"
   ]
  },
  {
   "cell_type": "code",
   "execution_count": null,
   "id": "7f915507",
   "metadata": {
    "ExecuteTime": {
     "end_time": "2023-04-25T07:03:06.634777Z",
     "start_time": "2023-04-25T07:03:06.447418Z"
    },
    "scrolled": true
   },
   "outputs": [],
   "source": [
    "'''Python OOP set widgets (for set params)'''\n",
    "\n",
    "# print info (set params)\n",
    "Prints_().print_set_params()\n",
    "\n",
    "# ДАТЫ\n",
    "DATE_START_replce = date.today() - relativedelta(months=1)\n",
    "DATE_END_replce = date.today()\n",
    "\n",
    "# значения дат по дефолту устанавливаем которые меняем с помощью пикера! Код ниже ВЫНОСИТЬ НИКУДА НЕ НАДО ИНАЧЕ ПОЕДУТ ЦИФРЫ! поэтому класс ниже через exec!!!\n",
    "exec(MainVariables().exec_class_DatePicker)\n",
    "\n",
    "# БРЕНДЫ\n",
    "df_brand_val = 0 \n",
    "# значение начальное которое меняем с помощью пикера! Код ниже ВЫНОСИТЬ НИКУДА НЕ НАДО ИНАЧЕ ПОЕДУТ ЦИФРЫ! поэтому класс ниже через exec!!!\n",
    "exec(MainVariables().exec_class_BrandPicker)\n",
    "\n",
    "\n",
    "df_for_brand_picker = None\n",
    "# функция отображения всех заданных здесь наших виджетов\n",
    "def display_all_set_params_widgets():\n",
    "    global df_for_brand_picker\n",
    "    '''display all widgets'''\n",
    "#     date start, date end\n",
    "    date_picker1 = DatePicker().dp_start( description = MainVariables().date_picker_description[0], DATE_START_replce = DATE_START_replce )\n",
    "    date_picker2 = DatePicker().dp_end( description = MainVariables().date_picker_description[1], DATE_END_replce = DATE_END_replce )\n",
    "#     brand\n",
    "    df_for_brand_picker = ConnectDatabase().root_database_read_sql_query(MainVariables().sql_query_brand)\n",
    "    brand_picker2 = BrandPicker().brand_picker(df_for_brand_picker)\n",
    "    # display( d1 ), display( d2 ), display( bp )\n",
    "    \n",
    "    # колонка с датами VBox date_box\n",
    "    date_box = widgets.VBox([ \n",
    "        date_picker1\n",
    "        ,date_picker2\n",
    "        ])\n",
    "    box2 = widgets.VBox([ \n",
    "        brand_picker2 \n",
    "    ])\n",
    "    all_VBox_widgets = widgets.HBox([ date_box\n",
    "#                                      , box2 \n",
    "                                    ])\n",
    "    display(all_VBox_widgets)\n",
    "#     print(DATE_START_replce, DATE_END_replce )\n",
    "\n",
    "display_all_set_params_widgets()"
   ]
  },
  {
   "cell_type": "code",
   "execution_count": null,
   "id": "a83a9629",
   "metadata": {
    "ExecuteTime": {
     "end_time": "2023-04-25T07:03:06.639680Z",
     "start_time": "2023-04-25T07:03:06.637451Z"
    },
    "scrolled": false
   },
   "outputs": [],
   "source": [
    "# print(\n",
    "#     DATE_START_replce, DATE_END_replce, '\\n'\n",
    "#     , df_brand_val, '\\n'\n",
    "#     ,df_for_brand_picker .loc[df_brand_val].to_string()\n",
    "#      )"
   ]
  },
  {
   "cell_type": "code",
   "execution_count": null,
   "id": "933a8e99",
   "metadata": {},
   "outputs": [],
   "source": []
  },
  {
   "cell_type": "code",
   "execution_count": null,
   "id": "2c4dc672",
   "metadata": {
    "ExecuteTime": {
     "end_time": "2023-04-25T07:03:06.681582Z",
     "start_time": "2023-04-25T07:03:06.641236Z"
    }
   },
   "outputs": [],
   "source": [
    "# all_widget_in_this_report_replace_param = {\n",
    "#     'DATE_START_replce': f'{DATE_START_replce}'\n",
    "#     ,'DATE_END_replce': f'{DATE_END_replce}'\n",
    "#     ,'BREND_replce': f'{df_for_brand_picker .loc[df_brand_val][0]}'\n",
    "#     ,'MANAGER_replce': f'{df_for_brand_picker .loc[df_brand_val][0]}'\n",
    "#     ,'etc._replce': f'{df_for_brand_picker .loc[df_brand_val][0]}'\n",
    "\n",
    "#     }\n",
    "# # all_widget_in_this_report_replace_param"
   ]
  },
  {
   "cell_type": "markdown",
   "id": "6e19db5b",
   "metadata": {
    "ExecuteTime": {
     "end_time": "2023-03-02T11:43:24.383645Z",
     "start_time": "2023-03-02T11:43:24.380358Z"
    },
    "deletable": false,
    "editable": false,
    "run_control": {
     "frozen": true
    }
   },
   "source": [
    "## Жмем кнопку запуска и ждем..."
   ]
  },
  {
   "cell_type": "code",
   "execution_count": null,
   "id": "3799880a",
   "metadata": {
    "ExecuteTime": {
     "end_time": "2023-04-25T07:03:06.723939Z",
     "start_time": "2023-04-25T07:03:06.682863Z"
    },
    "scrolled": false
   },
   "outputs": [],
   "source": [
    "'''Python OOP run button function widgets'''\n",
    "\n",
    "all_sql_query_with_connect= { sql_query_1: 'root_database_read_sql_query'\n",
    "#                       ,sql_query_2: 'root_database_read_sql_query'\n",
    "                    }\n",
    "\n",
    "class MakeOutputFile(FileName, ConnectDatabase, MainVariables):\n",
    "    def make_name_for_output_file(self, ):\n",
    "        s3_file_name = self.s3report_file_name( \n",
    "            ipynb_file_name .split('.')[0]\n",
    "            ,getpass_getuser = getpass.getuser()\n",
    "            ,datetime_now = datetime.datetime.now().strftime(\"%H:%M:%S\")\n",
    "            ,DATE_START_replce = DATE_START_replce\n",
    "            ,DATE_END_replce = DATE_END_replce\n",
    "            ,extension='.xlsx'\n",
    "            ,params = df_for_brand_picker .loc[df_brand_val][1]\n",
    "            )\n",
    "        return s3_file_name\n",
    "    \n",
    "    exec(MainVariables().exec_def_sql_replace_params_class_MakeOutputFile)\n",
    "        \n",
    "    exec(MainVariables().exec_def_load_sql_into_df_class_MakeOutputFile)\n",
    "        \n",
    "    def make_excel_sheets_dict(self, dfs: list) -> dict: \n",
    "        try:\n",
    "            # определяем названия листов в соответствии с данными на эти листы (листы в екселе)\n",
    "            sheet_name0 = spl1\n",
    "            sheet_name1 = spl2\n",
    "            sheet_name2 = spl3\n",
    "            sheet_name3 = spl4\n",
    "            sheets0 = dfs[0].set_index(dfs[0].columns[1]).loc[:spl1].reset_index().iloc[:-1]\n",
    "            sheets1 = dfs[0].set_index(dfs[0].columns[1]).loc[spl1:spl2].reset_index().iloc[1:-1]\n",
    "            sheets2 = dfs[0].set_index(dfs[0].columns[1]).loc[spl2:spl3].reset_index().iloc[1:-1]\n",
    "            sheets3 = dfs[0] .set_index(dfs[0].columns[1]) .loc[spl3:].reset_index().iloc[1:,:]\n",
    "            # преобразование последнего листа\n",
    "            sheets3.columns = [\"Сформировано заказов\", \"Город\", \"Сформировано, руб.\", \"Оформлено заказов\", \n",
    "                                    \"Оформлено, руб.\", \"Выкуплено заказов\", \"Выкуплено, руб.\", \"\"]\n",
    "            sheets3 = sheets3[[\"Город\", \"Сформировано заказов\", \"Сформировано, руб.\", \"Оформлено заказов\", \n",
    "                                    \"Оформлено, руб.\", \"Выкуплено заказов\", \"Выкуплено, руб.\"]]\n",
    "            sheets3[[ \"Сформировано заказов\", \"Сформировано, руб.\", \"Оформлено заказов\", \"Оформлено, руб.\", \"Выкуплено заказов\", \"Выкуплено, руб.\" ]] = \\\n",
    "            sheets3[[ \"Сформировано заказов\", \"Сформировано, руб.\", \"Оформлено заказов\", \\\n",
    "                \"Оформлено, руб.\", \"Выкуплено заказов\", \"Выкуплено, руб.\" ]].fillna(0) \\\n",
    "                .applymap(lambda x:  int(str(x).split('.')[0]) if type(x) != 'float' else x )\n",
    "            # СЛОВАРЬ названия листов и их данных \n",
    "            excel_sheets = {\n",
    "                f'1 - {sheet_name0}' : sheets0, \n",
    "                f'2 - {sheet_name1}' : sheets1, \n",
    "                f'3 - {sheet_name2}' : sheets2, \n",
    "                f'4 - {sheet_name3}' : sheets3, \n",
    "                }\n",
    "            return excel_sheets\n",
    "        except Exception as exc:\n",
    "                print( Prints_().print_err_make_excel_sheets_dict(), exc )\n",
    "\n",
    "# if we have changeable parameters, replace their into the sql query and print! for exemple for test on DBeaver \n",
    "# print( MakeOutputFile().sql_replace_params(all_sql_query_list, all_widget_in_this_report_replace_param)[0]   )\n",
    "\n",
    "# \n",
    "exec( MainVariables().exec_class_RunFunction .replace('brand = ', '') ) # нету бренда\n",
    "#     \n",
    "exec(MainVariables().exec_class_RunClearButtons)\n",
    "RunClearButtons().display_run_clear_button_widgets()   \n",
    "\n",
    "pd.options.display.float_format = '{:.0f}'.format \n",
    "pd.set_option('max_rows', 500) \n"
   ]
  },
  {
   "cell_type": "code",
   "execution_count": null,
   "id": "3d5434ce",
   "metadata": {
    "ExecuteTime": {
     "end_time": "2023-04-25T07:03:06.728433Z",
     "start_time": "2023-04-25T07:03:06.725455Z"
    },
    "scrolled": false
   },
   "outputs": [],
   "source": [
    "# ### if we have changeable parameters, replace their into the sql query and print! for exemple for test on DBeaver \n",
    "# ### dict params for replace \n",
    "# eval(MainVariables().all_replace_params_for_widgets) \n",
    "\n",
    "# ### print file name \n",
    "# print( MakeOutputFile().make_name_for_output_file() ) \n",
    "\n",
    "# ### print coonect database & sql \n",
    "# print( \n",
    "#     list(MakeOutputFile().sql_replace_params(all_sql_query_with_connect,  eval(MainVariables().all_replace_params_for_widgets)).values()) [0]\n",
    "#     ,' - coonect to database\\n'\n",
    "#     ,list(MakeOutputFile().sql_replace_params(all_sql_query_with_connect,  eval(MainVariables().all_replace_params_for_widgets)).keys()) [0]\n",
    "#     )"
   ]
  },
  {
   "cell_type": "code",
   "execution_count": null,
   "id": "db06e5da",
   "metadata": {},
   "outputs": [],
   "source": []
  },
  {
   "cell_type": "code",
   "execution_count": null,
   "id": "8ded3b71",
   "metadata": {},
   "outputs": [],
   "source": []
  },
  {
   "cell_type": "markdown",
   "id": "7f543417",
   "metadata": {
    "ExecuteTime": {
     "end_time": "2023-03-02T11:45:11.281057Z",
     "start_time": "2023-03-02T11:45:11.278658Z"
    },
    "deletable": false,
    "editable": false,
    "run_control": {
     "frozen": true
    }
   },
   "source": [
    "# Конец отчета"
   ]
  },
  {
   "cell_type": "markdown",
   "id": "20fa2715",
   "metadata": {
    "ExecuteTime": {
     "end_time": "2023-03-10T05:13:49.266434Z",
     "start_time": "2023-03-10T05:13:49.263574Z"
    },
    "deletable": false,
    "editable": false,
    "run_control": {
     "frozen": true
    }
   },
   "source": [
    "### Заметки!"
   ]
  },
  {
   "cell_type": "code",
   "execution_count": null,
   "id": "a881fe74",
   "metadata": {
    "ExecuteTime": {
     "end_time": "2023-04-25T07:03:06.771678Z",
     "start_time": "2023-04-25T07:03:06.730073Z"
    }
   },
   "outputs": [],
   "source": [
    "# info for users\n",
    "try:\n",
    "    Prints_().print_info4users( )\n",
    "except:\n",
    "    pass\n"
   ]
  },
  {
   "cell_type": "code",
   "execution_count": null,
   "id": "042ed1d1",
   "metadata": {},
   "outputs": [],
   "source": []
  },
  {
   "cell_type": "code",
   "execution_count": null,
   "id": "14bbe7af",
   "metadata": {},
   "outputs": [],
   "source": []
  },
  {
   "cell_type": "code",
   "execution_count": null,
   "id": "82ff7438",
   "metadata": {},
   "outputs": [],
   "source": []
  },
  {
   "cell_type": "code",
   "execution_count": null,
   "id": "0a8937e5",
   "metadata": {},
   "outputs": [],
   "source": []
  }
 ],
 "metadata": {
  "hide_input": true,
  "kernelspec": {
   "display_name": "python39-spark-conda",
   "language": "python",
   "name": "python39-spark-conda"
  },
  "language_info": {
   "codemirror_mode": {
    "name": "ipython",
    "version": 3
   },
   "file_extension": ".py",
   "mimetype": "text/x-python",
   "name": "python",
   "nbconvert_exporter": "python",
   "pygments_lexer": "ipython3",
   "version": "3.9.7"
  },
  "toc": {
   "base_numbering": 1,
   "nav_menu": {},
   "number_sections": false,
   "sideBar": true,
   "skip_h1_title": false,
   "title_cell": "Table of Contents",
   "title_sidebar": "Contents",
   "toc_cell": false,
   "toc_position": {
    "height": "1076px",
    "left": "205px",
    "top": "257.75px",
    "width": "340px"
   },
   "toc_section_display": true,
   "toc_window_display": true
  },
  "varInspector": {
   "cols": {
    "lenName": 16,
    "lenType": 16,
    "lenVar": 40
   },
   "kernels_config": {
    "python": {
     "delete_cmd_postfix": "",
     "delete_cmd_prefix": "del ",
     "library": "var_list.py",
     "varRefreshCmd": "print(var_dic_list())"
    },
    "r": {
     "delete_cmd_postfix": ") ",
     "delete_cmd_prefix": "rm(",
     "library": "var_list.r",
     "varRefreshCmd": "cat(var_dic_list()) "
    }
   },
   "types_to_exclude": [
    "module",
    "function",
    "builtin_function_or_method",
    "instance",
    "_Feature"
   ],
   "window_display": false
  }
 },
 "nbformat": 4,
 "nbformat_minor": 5
}
