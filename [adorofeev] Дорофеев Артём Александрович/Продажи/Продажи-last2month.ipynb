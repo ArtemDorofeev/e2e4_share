{
 "cells": [
  {
   "cell_type": "code",
   "execution_count": 1,
   "id": "ce1aadf1-4b95-4b8f-87d9-d34f20dc3002",
   "metadata": {},
   "outputs": [],
   "source": [
    "# magic    \n",
    "get_ipython().run_line_magic('matplotlib', 'inline')\n",
    "# run files\n",
    "get_ipython().run_line_magic('run', '/srv/jhub/share/._Additions/import_libs.py')\n",
    "get_ipython().run_line_magic('run', '/srv/jhub/share/._Additions/Connecting_.py')\n",
    "get_ipython().run_line_magic('run', '/srv/jhub/share/._Additions/my_script.py')\n",
    "get_ipython().run_line_magic('run', '/srv/jhub/share/._Additions/Date_gen.py')\n",
    "get_ipython().run_line_magic('run', '/srv/jhub/share/._Additions/xx.py')"
   ]
  },
  {
   "cell_type": "code",
   "execution_count": 2,
   "id": "fa81a17a-0d45-4ac9-8731-e80cc8fcd12e",
   "metadata": {},
   "outputs": [],
   "source": [
    "# В НАЧАЛЕ СКРИПТА АВТОЗАПУСКА\n",
    "# logs crontab АВТОЗАПУСК\n",
    "start_datetime = datetime.datetime.today()\n",
    "name_file = r'[АВТОЗАПУСК] Источники для BI (Продажи_)-last2month.py'\n",
    "path_ipy = r\"/opt/anaconda3/envs/jupyter_env/bin/ipython\" \n",
    "path_file = fr\"/home/adorofeev/jhub-analytics/'[adorofeev] Дорофеев Артём Александрович'/'Продажи'/'{name_file}'\" \n",
    "log_info = []"
   ]
  },
  {
   "cell_type": "code",
   "execution_count": 33,
   "id": "53f4597b-6309-4969-a7ef-ed93291b033d",
   "metadata": {},
   "outputs": [
    {
     "name": "stdout",
     "output_type": "stream",
     "text": [
      "path_SQL_sales - /home/adorofeev/jhub-analytics/[adorofeev] Дорофеев Артём Александрович/Продажи/ [АВТОЗАПУСК] Источники для BI (Продажи_).sql\n"
     ]
    }
   ],
   "source": [
    "path_SQL_sales = glob(abs_path + r'**/' + r\"*АВТОЗАПУСК] Источники для BI (Продажи_).sql\", recursive=True)[2]\n",
    "print(f'path_SQL_sales - {path_SQL_sales}')"
   ]
  },
  {
   "cell_type": "code",
   "execution_count": 28,
   "id": "e5aaf2f1-ddff-4076-9543-d8e2d2f0ac0e",
   "metadata": {},
   "outputs": [
    {
     "name": "stdout",
     "output_type": "stream",
     "text": [
      "path_SQL_sales - /home/adorofeev/[adorofeev] Дорофеев Артём Александрович/Продажи/[АВТОЗАПУСК] Источники для BI (Продажи_).sql\n"
     ]
    }
   ],
   "source": [
    "date_df_start = df_date_m['start'][0]\n",
    "date_df_end = df_date_m.iloc[-1, -1]"
   ]
  },
  {
   "cell_type": "code",
   "execution_count": 13,
   "id": "e253ad55-d8ec-4edf-850c-c9ed2aceabad",
   "metadata": {},
   "outputs": [],
   "source": [
    "# public_link = '''https://nextcloud.e2e4.ru/apps/files/?dir=/Public/Отчеты%20(выгрузка%20jupyter%20notebooks)&fileid=2018892'''\n",
    "AmazonS3_folder_Public = r'/Public/Отчеты (выгрузка jupyter notebooks)'\n",
    "AmazonS3_path_to_file = r'/Источники для BI/Продажи_/'\n",
    "# print('AmazonS3_file_name - ', AmazonS3_file_name, '/nAmazonS3_full_path - ', AmazonS3_full_path)\n",
    "Amazon_owncloud = owncloud.Client('https://nextcloud.e2e4.ru')\n",
    "Amazon_owncloud.login(loginAtlassianjhubAdmin, passwordAtlassianjhubAdmin)\n",
    "### Amazon_owncloud.mkdir('testdir')"
   ]
  },
  {
   "cell_type": "code",
   "execution_count": 23,
   "id": "ff3cd0a6-24a1-465d-9f77-e5813294995d",
   "metadata": {},
   "outputs": [
    {
     "data": {
      "text/plain": [
       "array(['2023-07-01', '2023-07-31'], dtype=object)"
      ]
     },
     "execution_count": 23,
     "metadata": {},
     "output_type": "execute_result"
    }
   ],
   "source": [
    "i = df_date_m.iloc[-2:-1,:].values[0]\n",
    "i"
   ]
  },
  {
   "cell_type": "code",
   "execution_count": 24,
   "id": "924a6b03-9d15-40a6-876f-acfa18db5d6f",
   "metadata": {},
   "outputs": [
    {
     "name": "stdout",
     "output_type": "stream",
     "text": [
      "2023-07-01 || 2023-07-31\n"
     ]
    }
   ],
   "source": [
    "AmazonS3_file_name = fr'(Тест id_комплектов)Источники для BI (Продажи) {i[0]} - {i[1]}' # ({getpass.getuser()})\n",
    "AmazonS3_full_path = AmazonS3_folder_Public + AmazonS3_path_to_file + AmazonS3_file_name\n",
    "\n",
    "print(f'{i[0]} || {i[1]}')"
   ]
  },
  {
   "cell_type": "code",
   "execution_count": 34,
   "id": "05dbb7c4-e767-4f84-bdfc-0b22f05e20b7",
   "metadata": {},
   "outputs": [
    {
     "name": "stdout",
     "output_type": "stream",
     "text": [
      "подставляем даты, выгружаем\n",
      "✔ .read_sql_query\n"
     ]
    }
   ],
   "source": [
    "with open( path_SQL_sales, \"r\", encoding = \"utf-8\" ) as sql_file_sales:\n",
    "#       коннектимся \n",
    "    with psycopg2.connect(dbname=database, user=user, password=password, host=host) as cnxn:\n",
    "#           подставляем даты\n",
    "        print('подставляем даты, выгружаем')\n",
    "        df_fon = pd.read_sql_query(sql_file_sales.read().replace('DATE_START_replce', f'{i[0]}').replace('DATE_END_replce', f'{i[1]}'), cnxn) \n",
    "        print('✔ .read_sql_query')"
   ]
  },
  {
   "cell_type": "code",
   "execution_count": 37,
   "id": "1eee96c9-6ed3-4170-9d21-26e676cf2b1f",
   "metadata": {},
   "outputs": [
    {
     "name": "stdout",
     "output_type": "stream",
     "text": [
      "✔ .to_excel\n",
      "✔ .to_pickle\n",
      "✔ Файл записан в облако\n",
      " /Public/Отчеты (выгрузка jupyter notebooks)/Источники для BI/Продажи_/(Тест id_комплектов)Источники для BI (Продажи) 2023-07-01 - 2023-07-31.xlsx\n",
      "✔ Файл записан в облако\n",
      " /Public/Отчеты (выгрузка jupyter notebooks)/Источники для BI/Продажи_/(Тест id_комплектов)Источники для BI (Продажи) 2023-07-01 - 2023-07-31.pkl\n",
      "✔ os.remove\n",
      "356.8668260574341MiB (MiB)\n",
      "\n",
      "\n"
     ]
    }
   ],
   "source": [
    "log_info.append( (i, df_fon.shape) )\n",
    "if df_fon.shape[0] != 0:\n",
    "#   to_excel\n",
    "    df_fon.to_excel(temp_tmp + AmazonS3_file_name + '.xlsx',  index=False, encoding='cp-1251') \n",
    "    print('✔ .to_excel')\n",
    "#   to_csv \n",
    "#     df_fon.to_csv(path_OUT_dbDATA + r'Фоновый отчет по выручке (по дате продажи) с возвратами/' \\\n",
    "#         + fr'Источники для BI (Продажи) { i[0] } { i[1] } .csv', sep='☺',  index=False) # cp-1251 encoding='UTF-8', engine='xlsxwriter'\n",
    "#   .to_pickle\n",
    "    df_fon.to_pickle(temp_tmp + AmazonS3_file_name + '.pkl', compression='zip') \n",
    "    print('✔ .to_pickle')\n",
    "\n",
    "    Amazon_owncloud.put_file( # полный путь и там и там!!! \n",
    "                AmazonS3_full_path + '.xlsx', temp_tmp + AmazonS3_file_name + '.xlsx')\n",
    "    print( f'✔ Файл записан в облако\\n {AmazonS3_full_path}.xlsx')  \n",
    "\n",
    "    Amazon_owncloud.put_file( # полный путь и там и там!!! \n",
    "                AmazonS3_full_path + '.pkl', temp_tmp + AmazonS3_file_name + '.pkl'\n",
    "                ) \n",
    "    print( f'✔ Файл записан в облако\\n {AmazonS3_full_path}.pkl') \n",
    "\n",
    "    os.remove(temp_tmp + AmazonS3_file_name + '.xlsx')\n",
    "    os.remove(temp_tmp + AmazonS3_file_name + '.pkl')\n",
    "    print('✔ os.remove')\n",
    "#     print(df_fon) \n",
    "    print(f\"{datasize.DataSize(sys.getsizeof(df_fon)):MiB}\", '(MiB)\\n\\n' )\n",
    "\n",
    "else:\n",
    "    print( df_fon, '-- df.shape =', df_fon.shape)"
   ]
  },
  {
   "cell_type": "code",
   "execution_count": null,
   "id": "39aca18b-c68c-4c49-8eb9-7f3b08c82576",
   "metadata": {},
   "outputs": [],
   "source": [
    "## идем по датам, коннектимся, читаем sql file, подставляем даты\n",
    "df_fon = pd.DataFrame()\n",
    "for i in df_date_m.iloc[-2:,:].values:\n",
    "    AmazonS3_file_name = fr'(Тест id_комплектов)Источники для BI (Продажи) {i[0]} - {i[1]}' # ({getpass.getuser()})\n",
    "    AmazonS3_full_path = AmazonS3_folder_Public + AmazonS3_path_to_file + AmazonS3_file_name\n",
    "\n",
    "    print(f'{i[0]} || {i[1]}')\n",
    "#   читаем sql file\n",
    "    with open( path_SQL_sales, \"r\", encoding = \"utf-8\" ) as sql_file_sales:\n",
    "#       коннектимся \n",
    "        with psycopg2.connect(dbname=database, user=user, password=password, host=host) as cnxn:\n",
    "#           подставляем даты\n",
    "            print('подставляем даты, выгружаем')\n",
    "            df_fon = pd.read_sql_query(sql_file_sales.read().replace('DATE_START_replce', f'{i[0]}').replace('DATE_END_replce', f'{i[1]}'), cnxn) \n",
    "            print('✔ .read_sql_query')\n",
    "    \n",
    "#   !! отсекаем товары на сегодня потому что грузится ночью до указанной даты а надо до всчерашнего конца дня ИСКЛЮЧАЯ СЕГОНЯ НОЧЬ!!  \n",
    "    df_fon = df_fon[df_fon['Дата отгрузки товара'].astype(str) != pd.Timestamp.now().strftime( '%Y-%m-%d' )]\n",
    "            \n",
    "    log_info.append( (i, df_fon.shape) )\n",
    "    if df_fon.shape[0] != 0:\n",
    "    #   to_excel\n",
    "        df_fon.to_excel(temp_tmp + AmazonS3_file_name + '.xlsx',  index=False, encoding='cp-1251') \n",
    "        print('✔ .to_excel')\n",
    "    #   to_csv \n",
    "    #     df_fon.to_csv(path_OUT_dbDATA + r'Фоновый отчет по выручке (по дате продажи) с возвратами/' \\\n",
    "    #         + fr'Источники для BI (Продажи) { i[0] } { i[1] } .csv', sep='☺',  index=False) # cp-1251 encoding='UTF-8', engine='xlsxwriter'\n",
    "    #   .to_pickle\n",
    "        df_fon.to_pickle(temp_tmp + AmazonS3_file_name + '.pkl', compression='zip') \n",
    "        print('✔ .to_pickle')\n",
    "\n",
    "        Amazon_owncloud.put_file( # полный путь и там и там!!! \n",
    "                    AmazonS3_full_path + '.xlsx', temp_tmp + AmazonS3_file_name + '.xlsx')\n",
    "        print( f'✔ Файл записан в облако\\n {AmazonS3_full_path}.xlsx')  \n",
    "\n",
    "        Amazon_owncloud.put_file( # полный путь и там и там!!! \n",
    "                    AmazonS3_full_path + '.pkl', temp_tmp + AmazonS3_file_name + '.pkl'\n",
    "                    ) \n",
    "        print( f'✔ Файл записан в облако\\n {AmazonS3_full_path}.pkl') \n",
    "\n",
    "        os.remove(temp_tmp + AmazonS3_file_name + '.xlsx')\n",
    "        os.remove(temp_tmp + AmazonS3_file_name + '.pkl')\n",
    "        print('✔ os.remove')\n",
    "    #     print(df_fon) \n",
    "        print(f\"{datasize.DataSize(sys.getsizeof(df_fon)):MiB}\", '(MiB)\\n\\n' )\n",
    "\n",
    "    else:\n",
    "        print( df_fon, '-- df.shape =', df_fon.shape)"
   ]
  },
  {
   "cell_type": "code",
   "execution_count": null,
   "id": "ce151c59-1af9-437e-9b8a-68ea07f7c4dc",
   "metadata": {},
   "outputs": [],
   "source": []
  },
  {
   "cell_type": "code",
   "execution_count": null,
   "id": "bb96cff4-43b9-4d59-9efd-548d0455a0c4",
   "metadata": {},
   "outputs": [],
   "source": []
  }
 ],
 "metadata": {
  "kernelspec": {
   "display_name": "python39-spark-conda",
   "language": "python",
   "name": "python39-spark-conda"
  },
  "language_info": {
   "codemirror_mode": {
    "name": "ipython",
    "version": 3
   },
   "file_extension": ".py",
   "mimetype": "text/x-python",
   "name": "python",
   "nbconvert_exporter": "python",
   "pygments_lexer": "ipython3",
   "version": "3.9.7"
  }
 },
 "nbformat": 4,
 "nbformat_minor": 5
}
