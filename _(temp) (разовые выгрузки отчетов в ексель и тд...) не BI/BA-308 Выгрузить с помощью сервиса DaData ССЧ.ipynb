{
 "cells": [
  {
   "cell_type": "code",
   "execution_count": 34,
   "id": "c18318a3",
   "metadata": {
    "ExecuteTime": {
     "end_time": "2021-11-11T09:39:58.261304Z",
     "start_time": "2021-11-11T09:39:58.259170Z"
    }
   },
   "outputs": [],
   "source": [
    "# # https://dadata.ru/api/find-party/\n",
    "# # https://github.com/hflabs/dadata-py\n",
    "# pip install dadata"
   ]
  },
  {
   "cell_type": "code",
   "execution_count": 35,
   "id": "f29e76c1",
   "metadata": {
    "ExecuteTime": {
     "end_time": "2021-11-11T09:39:58.316449Z",
     "start_time": "2021-11-11T09:39:58.263086Z"
    }
   },
   "outputs": [],
   "source": [
    "# magic\n",
    "############################################################\n",
    "# magic не запускаются с посмощью run !! поэтому отдельно будут тут! # %magic # посмотреть список magic команд\n",
    "%matplotlib inline\n",
    "\n",
    "# run files\n",
    "%run /srv/jhub/share/._Additions/Import_libs.py\n",
    "%run /srv/jhub/share/._Additions/Connecting_bi_admin.py\n",
    "%run /srv/jhub/share/._Additions/my_script.py\n",
    "%run /srv/jhub/share/._Additions/Date_gen.py\n",
    "%run /srv/jhub/share/._Additions/xx.py\n",
    "\n",
    "# print\n",
    "###########################\n",
    "#################################\n",
    "# print(\n",
    "# df_test_xx.shape, '\\n'\n",
    "# ,abs_path, '\\n' # abs_path - путь до шары (видна всем езерам - '/srv/jhub/share/')\n",
    "# ,path_OUT_dbDATA, '\\n'\n",
    "# ,date_start, date_end, '\\n'\n",
    "# )\n",
    "############################## End ##############################"
   ]
  },
  {
   "cell_type": "code",
   "execution_count": 36,
   "id": "7d213782",
   "metadata": {
    "ExecuteTime": {
     "end_time": "2021-11-11T09:39:58.321926Z",
     "start_time": "2021-11-11T09:39:58.318404Z"
    }
   },
   "outputs": [
    {
     "data": {
      "text/html": [
       "<script> </script> <form action=\"javascript:IPython.notebook.execute_cells_below()\">\n",
       "     <input type=\"submit\" id=\"toggleButton\" value=\"Обновить все данные (жми)\"></form>"
      ],
      "text/plain": [
       "<IPython.core.display.HTML object>"
      ]
     },
     "execution_count": 36,
     "metadata": {},
     "output_type": "execute_result"
    }
   ],
   "source": [
    "# execute_cells_below КНОПКА ПОВТОРНОГО ЗАПУСКА ЯЧЕЕК (после до... below above)\n",
    "from IPython.core.display import display, HTML # НЕ коментить при автогрузе тупит((\n",
    "HTML(f'''<script> </script> <form action=\"javascript:IPython.notebook.execute_cells_below()\">\n",
    "     <input type=\"submit\" id=\"toggleButton\" value=\"{execute_cells_below_text_value}\"></form>''')"
   ]
  },
  {
   "cell_type": "markdown",
   "id": "af4f9137",
   "metadata": {
    "ExecuteTime": {
     "end_time": "2021-11-11T09:08:59.394122Z",
     "start_time": "2021-11-11T09:08:59.391553Z"
    }
   },
   "source": [
    "# Выгрузить с помощью сервиса DaData ССЧ"
   ]
  },
  {
   "cell_type": "code",
   "execution_count": 37,
   "id": "4c496e57",
   "metadata": {
    "ExecuteTime": {
     "end_time": "2021-11-11T09:39:58.620583Z",
     "start_time": "2021-11-11T09:39:58.323525Z"
    }
   },
   "outputs": [
    {
     "name": "stdout",
     "output_type": "stream",
     "text": [
      "\u001b[34mДанные с jira \n",
      "(подтягиваются автоматически и обнавляются при запуске)\u001b[0m\n"
     ]
    },
    {
     "data": {
      "application/vnd.jupyter.widget-view+json": {
       "model_id": "cb694a6d21164b898c615939a941d23f",
       "version_major": 2,
       "version_minor": 0
      },
      "text/plain": [
       "HTML(value=\"<a href='\\nhttps://jira.e2e4.ru/browse/BA-308\\n'>\\nhttps://jira.e2e4.ru/browse/BA-308\\n</a>\")"
      ]
     },
     "metadata": {},
     "output_type": "display_data"
    },
    {
     "name": "stdout",
     "output_type": "stream",
     "text": [
      "\u001b[1m\u001b[31mБизнес аналитика / BA-308\u001b[0m \n",
      "\n",
      "    \u001b[1m\u001b[34mВыгрузить с помощью сервиса DaData ССЧ\u001b[0m \n",
      "\n",
      "\n",
      "    \u001b[1mОписание\u001b[0m: \n",
      "    \n",
      "Выгрузить с помощью сервиса DaData по ИНН компаний (список во вложении) среднесписочную численность персонала каждого ЮЛ на момент выгрузки.\n",
      " \n",
      "Цель: оценить рынок ФЛ - сотрудников компаний - наших активных клиентов ЮЛ.\n",
      "\n",
      "    \n"
     ]
    }
   ],
   "source": [
    "# выводим спарсенные данные с жиры описание и тд....\n",
    "task_link = '''\n",
    "https://jira.e2e4.ru/browse/BA-\\\n",
    "308\n",
    "'''\n",
    "tasks(loginAtlassianjhubAdmin, passwordAtlassianjhubAdmin, task_link)"
   ]
  },
  {
   "cell_type": "code",
   "execution_count": 38,
   "id": "39b8aeed",
   "metadata": {
    "ExecuteTime": {
     "end_time": "2021-11-11T09:39:58.624434Z",
     "start_time": "2021-11-11T09:39:58.622364Z"
    }
   },
   "outputs": [],
   "source": [
    "# !! нам не подходит потому что тариф простой https://dadata.ru/profile/#info\n",
    "\n",
    "# !! брать данные с налога https://www.nalog.gov.ru/opendata/7707329152-sshr2019/\n",
    "# Гиперссылка (URL) на набор https://data.nalog.ru/opendata/7707329152-sshr2019/data-20211001-structure-20180801.zip\n",
    "    \n",
    "# # https://confluence.e2e4.ru/pages/viewpage.action?pageId=218826583\n",
    "# token = \"3493cf7b908cadfa24015a47e8521b499219c74f\"\n",
    "# dadata = Dadata(token)\n",
    "# result = dadata.find_by_id(\"party\", \"5406727910\")\n",
    "# result[0]['data']"
   ]
  },
  {
   "cell_type": "code",
   "execution_count": 57,
   "id": "ea30372d",
   "metadata": {
    "ExecuteTime": {
     "end_time": "2021-11-11T09:47:19.593596Z",
     "start_time": "2021-11-11T09:47:19.588342Z"
    }
   },
   "outputs": [
    {
     "data": {
      "text/plain": [
       "[]"
      ]
     },
     "execution_count": 57,
     "metadata": {},
     "output_type": "execute_result"
    }
   ],
   "source": [
    "patр_to_xml = r'\\Downloads\\_ Google Chrome\\data-20211001-structure-20180801'\n",
    "glob.glob(patр_to_xml)\n",
    "\n",
    "glob.glob(r'D:\\Downloads\\_ Google Chrome\\data-20211001-structure-20180801/*')"
   ]
  },
  {
   "cell_type": "code",
   "execution_count": 58,
   "id": "55b2f686",
   "metadata": {
    "ExecuteTime": {
     "end_time": "2021-11-11T09:47:19.829091Z",
     "start_time": "2021-11-11T09:47:19.812484Z"
    }
   },
   "outputs": [
    {
     "ename": "FileNotFoundError",
     "evalue": "[Errno 2] No such file or directory: '\\\\Downloads\\\\_ Google Chrome\\\\data-20211001-structure-20180801'",
     "output_type": "error",
     "traceback": [
      "\u001b[0;31m---------------------------------------------------------------------------\u001b[0m",
      "\u001b[0;31mFileNotFoundError\u001b[0m                         Traceback (most recent call last)",
      "\u001b[0;32m<ipython-input-58-601cbf4ae7c0>\u001b[0m in \u001b[0;36m<module>\u001b[0;34m\u001b[0m\n\u001b[0;32m----> 1\u001b[0;31m \u001b[0mos\u001b[0m\u001b[0;34m.\u001b[0m\u001b[0mlistdir\u001b[0m\u001b[0;34m(\u001b[0m\u001b[0mpatр_to_xml\u001b[0m\u001b[0;34m)\u001b[0m\u001b[0;34m\u001b[0m\u001b[0;34m\u001b[0m\u001b[0m\n\u001b[0m",
      "\u001b[0;31mFileNotFoundError\u001b[0m: [Errno 2] No such file or directory: '\\\\Downloads\\\\_ Google Chrome\\\\data-20211001-structure-20180801'"
     ]
    }
   ],
   "source": [
    "os.listdir(patр_to_xml)"
   ]
  },
  {
   "cell_type": "code",
   "execution_count": 60,
   "id": "c33043c3",
   "metadata": {
    "ExecuteTime": {
     "end_time": "2021-11-11T09:59:49.092313Z",
     "start_time": "2021-11-11T09:59:49.073860Z"
    }
   },
   "outputs": [
    {
     "ename": "AttributeError",
     "evalue": "module 'pandas' has no attribute 'read_xml'",
     "output_type": "error",
     "traceback": [
      "\u001b[0;31m---------------------------------------------------------------------------\u001b[0m",
      "\u001b[0;31mAttributeError\u001b[0m                            Traceback (most recent call last)",
      "\u001b[0;32m<ipython-input-60-29f67789d821>\u001b[0m in \u001b[0;36m<module>\u001b[0;34m\u001b[0m\n\u001b[0;32m----> 1\u001b[0;31m \u001b[0mdf\u001b[0m \u001b[0;34m=\u001b[0m \u001b[0mpd\u001b[0m\u001b[0;34m.\u001b[0m\u001b[0mread_xml\u001b[0m\u001b[0;34m\u001b[0m\u001b[0;34m\u001b[0m\u001b[0m\n\u001b[0m",
      "\u001b[0;31mAttributeError\u001b[0m: module 'pandas' has no attribute 'read_xml'"
     ]
    }
   ],
   "source": [
    "df = pd.read_xml"
   ]
  },
  {
   "cell_type": "code",
   "execution_count": null,
   "id": "c6c7aad5",
   "metadata": {},
   "outputs": [],
   "source": []
  },
  {
   "cell_type": "code",
   "execution_count": null,
   "id": "a40f5527",
   "metadata": {},
   "outputs": [],
   "source": []
  },
  {
   "cell_type": "code",
   "execution_count": null,
   "id": "3db4963b",
   "metadata": {},
   "outputs": [],
   "source": []
  },
  {
   "cell_type": "code",
   "execution_count": null,
   "id": "6c51370a",
   "metadata": {},
   "outputs": [],
   "source": []
  },
  {
   "cell_type": "code",
   "execution_count": null,
   "id": "47e45c44",
   "metadata": {},
   "outputs": [],
   "source": []
  }
 ],
 "metadata": {
  "hide_input": false,
  "kernelspec": {
   "display_name": "Python 3",
   "language": "python",
   "name": "python3"
  },
  "language_info": {
   "codemirror_mode": {
    "name": "ipython",
    "version": 3
   },
   "file_extension": ".py",
   "mimetype": "text/x-python",
   "name": "python",
   "nbconvert_exporter": "python",
   "pygments_lexer": "ipython3",
   "version": "3.6.8"
  },
  "toc": {
   "base_numbering": 1,
   "nav_menu": {},
   "number_sections": false,
   "sideBar": true,
   "skip_h1_title": false,
   "title_cell": "Table of Contents",
   "title_sidebar": "Contents",
   "toc_cell": false,
   "toc_position": {
    "height": "calc(100% - 180px)",
    "left": "10px",
    "top": "150px",
    "width": "357px"
   },
   "toc_section_display": true,
   "toc_window_display": true
  },
  "varInspector": {
   "cols": {
    "lenName": 16,
    "lenType": 16,
    "lenVar": 40
   },
   "kernels_config": {
    "python": {
     "delete_cmd_postfix": "",
     "delete_cmd_prefix": "del ",
     "library": "var_list.py",
     "varRefreshCmd": "print(var_dic_list())"
    },
    "r": {
     "delete_cmd_postfix": ") ",
     "delete_cmd_prefix": "rm(",
     "library": "var_list.r",
     "varRefreshCmd": "cat(var_dic_list()) "
    }
   },
   "types_to_exclude": [
    "module",
    "function",
    "builtin_function_or_method",
    "instance",
    "_Feature"
   ],
   "window_display": false
  }
 },
 "nbformat": 4,
 "nbformat_minor": 5
}
