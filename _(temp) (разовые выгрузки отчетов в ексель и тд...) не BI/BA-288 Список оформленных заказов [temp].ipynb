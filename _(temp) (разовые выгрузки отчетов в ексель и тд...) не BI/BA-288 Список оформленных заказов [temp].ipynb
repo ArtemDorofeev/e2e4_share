{
 "cells": [
  {
   "cell_type": "markdown",
   "id": "2aa2e825",
   "metadata": {
    "ExecuteTime": {
     "end_time": "2021-10-27T06:43:06.545897Z",
     "start_time": "2021-10-27T06:43:06.540678Z"
    }
   },
   "source": [
    "# temp BA-288 Список оформленных заказов"
   ]
  },
  {
   "cell_type": "markdown",
   "id": "6f7f0a33",
   "metadata": {
    "ExecuteTime": {
     "end_time": "2021-10-27T06:50:13.758425Z",
     "start_time": "2021-10-27T06:50:13.755688Z"
    }
   },
   "source": [
    "## magic"
   ]
  },
  {
   "cell_type": "code",
   "execution_count": 67,
   "id": "406c9f9b",
   "metadata": {
    "ExecuteTime": {
     "end_time": "2021-11-01T08:50:10.150074Z",
     "start_time": "2021-11-01T08:50:10.091262Z"
    }
   },
   "outputs": [
    {
     "name": "stdout",
     "output_type": "stream",
     "text": [
      "(1, 1) \n",
      " /home/slebedev/jhub-analytics/ \n",
      " /home/slebedev/jhub-analytics/Аналитика/_DATA/ \n",
      " 2017-01-01 2021-11-01 \n",
      "\n"
     ]
    }
   ],
   "source": [
    "# magic\n",
    "############################################################\n",
    "# magic не запускаются с посмощью run !! поэтому отдельно будут тут! # %magic # посмотреть список magic команд\n",
    "%matplotlib inline\n",
    "\n",
    "# run files\n",
    "%run /srv/jhub/share/._Additions/Import_libs.py\n",
    "%run /srv/jhub/share/._Additions/Connecting_bi_admin.py\n",
    "%run /srv/jhub/share/._Additions/my_script.py\n",
    "%run /srv/jhub/share/._Additions/Date_gen.py\n",
    "%run /srv/jhub/share/._Additions/xx.py\n",
    "\n",
    "# print\n",
    "############################################################\n",
    "print(\n",
    "df_test.shape, '\\n'\n",
    ",abs_path, '\\n' # abs_path - путь до шары (видна всем езерам - '/srv/jhub/share/')\n",
    ",path_OUT_dbDATA, '\\n'\n",
    ",date_start, date_end, '\\n'\n",
    ")\n",
    "############################## End ##############################"
   ]
  },
  {
   "cell_type": "code",
   "execution_count": 68,
   "id": "cd25e56a",
   "metadata": {
    "ExecuteTime": {
     "end_time": "2021-11-01T08:50:18.678192Z",
     "start_time": "2021-11-01T08:50:18.403997Z"
    }
   },
   "outputs": [
    {
     "data": {
      "text/html": [
       "<a href='\n",
       "https://jira.e2e4.ru/browse/BA-288\n",
       "'>\n",
       "https://jira.e2e4.ru/browse/BA-288\n",
       "</a>"
      ],
      "text/plain": [
       "<IPython.core.display.HTML object>"
      ]
     },
     "metadata": {},
     "output_type": "display_data"
    },
    {
     "name": "stdout",
     "output_type": "stream",
     "text": [
      "\u001b[1m\u001b[31mБизнес аналитика / BA-288\u001b[0m \n",
      "\n",
      "    \u001b[1m\u001b[34mОбновить отчет по оформленным заказам с сайта\u001b[0m \n",
      "\n",
      "\n",
      "    \u001b[1mОписание\u001b[0m: \n",
      "    \n",
      "Дано\n",
      "У нас есть отчет со списком оформленных заказов с сайта: https://confluence.e2e4.ru/pages/viewpage.action?pageId=183326070&run_1_date=11.04.2019&run_1=run\n",
      "Как мы его используем:\n",
      "\n",
      "для сверки Яндекс.Метрики и Google Analytics\n",
      "для сверки систем рекомендации и триггерных писем\n",
      "\n",
      "Сейчас он нам нужен для проверки результатов работы CPA-сетей. Там мы будем платить за каждый оплаченный заказ. \n",
      "Мы хотим выгружать его с периодичностью (например, раз в месяц) и сверять с данными CPA-сетей.\n",
      "Для этого нам нужны:\n",
      "\n",
      "дата и время создания,\n",
      "клиент,\n",
      "номер заказа,\n",
      "статус заказа (сейчас там нет ничего про оплату),\n",
      "сумма заказа.\n",
      "\n",
      "Но в существующем отчете действует ограничение в 10 000 строк, поэтому мы не можем выгрузить ничего более 6–7 дней.\n",
      "Что нужно\n",
      "\n",
      "Проверить отчет на адекватность.\n",
      "Добавить информацию, оплачен ли заказ.\n",
      "Перенести его в Excel-выгрузку.\n",
      "\n",
      "И бонусный вопрос: какой статус и сумма будет у заказа, который оплатили, но потом отменили и вернули деньги? Нам важно их обязательно видеть, чтобы пресечь мошенничество.\n",
      " \n",
      "\n",
      "    \n"
     ]
    }
   ],
   "source": [
    "# выводим спарсенные данные с жиры описание и тд....\n",
    "task_link = '''\n",
    "https://jira.e2e4.ru/browse/BA-\\\n",
    "288\n",
    "'''\n",
    "tasks(loginAtlassianjhubAdmin, passwordAtlassianjhubAdmin, task_link)"
   ]
  },
  {
   "cell_type": "code",
   "execution_count": null,
   "id": "5c99df56",
   "metadata": {},
   "outputs": [],
   "source": []
  },
  {
   "cell_type": "markdown",
   "id": "dd7e6e53",
   "metadata": {
    "ExecuteTime": {
     "end_time": "2021-10-27T06:48:49.484524Z",
     "start_time": "2021-10-27T06:48:49.480817Z"
    }
   },
   "source": [
    "## Путь куда будут выгружены файлы¶"
   ]
  },
  {
   "cell_type": "code",
   "execution_count": 29,
   "id": "0163b55d",
   "metadata": {
    "ExecuteTime": {
     "end_time": "2021-10-29T07:30:49.037678Z",
     "start_time": "2021-10-29T07:30:49.033728Z"
    },
    "scrolled": true
   },
   "outputs": [
    {
     "data": {
      "text/plain": [
       "'/home/slebedev/jhub-analytics/Аналитика/_DATA/_temp/BA-288 Список оформленных заказов'"
      ]
     },
     "execution_count": 29,
     "metadata": {},
     "output_type": "execute_result"
    }
   ],
   "source": [
    "folder_out = '_temp/'\n",
    "file_name = 'BA-288 Список оформленных заказов'\n",
    "\n",
    "path_OUT_dbDATA + folder_out + file_name"
   ]
  },
  {
   "cell_type": "code",
   "execution_count": null,
   "id": "35800b9e",
   "metadata": {},
   "outputs": [],
   "source": []
  },
  {
   "cell_type": "markdown",
   "id": "d278c449",
   "metadata": {
    "ExecuteTime": {
     "end_time": "2021-10-27T06:51:22.710558Z",
     "start_time": "2021-10-27T06:51:22.707957Z"
    }
   },
   "source": [
    "## Качнуть за какую то опредлеленную дату"
   ]
  },
  {
   "cell_type": "code",
   "execution_count": 62,
   "id": "673958a7",
   "metadata": {
    "ExecuteTime": {
     "end_time": "2021-10-29T11:22:17.104366Z",
     "start_time": "2021-10-29T11:22:17.098821Z"
    }
   },
   "outputs": [
    {
     "data": {
      "text/plain": [
       "'/home/slebedev/jhub-analytics/Аналитика/_DATA/_temp/BA-288 Список оформленных заказов 01.10.2021 31.10.2021.csv'"
      ]
     },
     "execution_count": 62,
     "metadata": {},
     "output_type": "execute_result"
    }
   ],
   "source": [
    "#  Качнуть за какую то опредлеленную дату\n",
    "date_start = '01.10.2021'\n",
    "date_end = '31.10.2021'\n",
    "\n",
    "path_OUT_dbDATA + folder_out + file_name + fr' { date_start } { date_end }.csv'"
   ]
  },
  {
   "cell_type": "code",
   "execution_count": null,
   "id": "ed7b2a4d",
   "metadata": {},
   "outputs": [],
   "source": []
  },
  {
   "cell_type": "markdown",
   "id": "ab2028f0",
   "metadata": {
    "ExecuteTime": {
     "end_time": "2021-10-27T06:51:38.307220Z",
     "start_time": "2021-10-27T06:51:38.304110Z"
    }
   },
   "source": [
    "## SQL"
   ]
  },
  {
   "cell_type": "code",
   "execution_count": 63,
   "id": "9eac4e9d",
   "metadata": {
    "ExecuteTime": {
     "end_time": "2021-10-29T11:22:18.978824Z",
     "start_time": "2021-10-29T11:22:18.968756Z"
    },
    "code_folding": [
     3
    ]
   },
   "outputs": [],
   "source": [
    "# DATE_START_replce date_start\n",
    "# DATE_END_replce date_end\n",
    "\n",
    "sql_288 = '''     \n",
    "         /*\n",
    "         * BA-288 Список оформленных заказов\n",
    "         * https://confluence.e2e4.ru/pages/viewpage.action?pageId=183326070\n",
    "         * https://jira.e2e4.ru/browse/BA-288\n",
    "         * */\n",
    "\n",
    "        with params as materialized (\n",
    "        select \n",
    "    --\t\t('01.09.2021' || ' 00:00:00')::timestamp date_start --32 614 тут и  32 614 o2\n",
    "    --\t\t,('30.09.2021' || ' 23:59:59')::timestamp date_end\n",
    "            -- ( '\\$frm' || ' 00:00:00')::timestamp date_start \n",
    "            -- ,( '\\$til' || ' 23:59:59')::timestamp date_end \n",
    "            ( 'DATE_START_replce' || ' 00:00:00')::timestamp    date_start \n",
    "            ,( 'DATE_END_replce' || ' 23:59:59')::timestamp    date_end\n",
    "        )\n",
    "\n",
    "        , payments_1 as (\n",
    "        select distinct\n",
    "            ai.tm_created \"Дата создания заказа\" --время Дата создания заказа\n",
    "        -- \t,concat( '<a href=\"http://opentech.local/new/order/',a.id,'?main=2&additional=8\">',a.id,'</a>' ) \"ID заказа\" --позиции клиентских заказов\n",
    "            ,case when a.id is null then null else \n",
    "                concat( '=HYPERLINK(\"http://opentech.local/new/order/',a.id,'\", \"',a.id,'\")' ) end \"ID заказа\" --excel\n",
    "            --,a.id \"ID заказа\" --позиции клиентских заказов\n",
    "            ,state.name \"Cтатус заказа\" --справочник состояний клиентского заказа\n",
    "            ,c.name \"Клиент (Покупатель)\" \n",
    "        --\t,concat('<a href=\"http://opentech.local/index.php?p=customers&id=',c.id,']\">',c.name,'</a>') \"Клиент (Покупатель)\"\n",
    "    --        ,case when c.id is null then null else \n",
    "    --            concat( '=HYPERLINK(\"http://opentech.local/index.php?p=customers&id=',c.id,'\", \"',c.name,'\")' ) end \"Клиент (Покупатель)\" --excel\t\n",
    "                /*кавычки внутри фирмы не понимает и вываливает 0 сучий ексель!*/\n",
    "\n",
    "            --,c.name \"Клиент c.name\"\n",
    "            ,round(orders.get_order_summa_brutto(a.id),2) \"Стоимость оформленных позиций\" --вычисление общей суммы заказа COALESCE(SUM(a.price_net), 0)\n",
    "            ,pa.payment_id \"pa.payment_id\"\n",
    "            ,pa.sum \"pa.sum\"\n",
    "        from params _\n",
    "        cross join opentech.account_item ai\n",
    "        join orders.states state on state.id = ai.state\n",
    "        join opentech.accounts a on a.id = ai.account_id\n",
    "        join opentech.customers c on c.id=a.id_customer\n",
    "        left join opentech.payments_account pa on pa.account_id = a.id\n",
    "        where \n",
    "        --\tcase when 666=\\$ordersatate then true else state.id=\\$ordersatate end\n",
    "        --\tand ai.tm_created::date between '\\$frm' and '\\$til' --время Дата создания заказаия заказа\n",
    "        --\tcase when 0=0 then true else state.id=2 end\n",
    "        --\tand \n",
    "            ai.tm_created::date between _.date_start and _.date_end\n",
    "            and\n",
    "            ai.siteuserid is not null --учетная запись сайта, с которой был оформлен заказ\n",
    "            and a.user_login = 'client' --кто добавил позицию в заказ\n",
    "    --\t\tand a.state = 23 --по стат продано (Состояние позиции заказа) --которые купили товары или услуги в статусе списания \"Продано\"\n",
    "\n",
    "    --\t\tand \n",
    "    --    \ta.id in ( 6248305, 6255767 ) --\"ID заказа\" 6255767\n",
    "\n",
    "        )\n",
    "\n",
    "        , orders_1 as (\n",
    "        select --distinct\n",
    "        -- \tconcat('<a href=\"http://opentech.local/new/order/',a.id,'?main=2&additional=8\">',a.id,'</a>') \"ID заказа\" --позиции клиентских заказов\n",
    "            case when a.id is null then null else \n",
    "                concat( '=HYPERLINK(\"http://opentech.local/new/order/',a.id,'\", \"',a.id,'\")' ) end \"ID заказа\" --excel\n",
    "            ,sum(a.price_net) \"Стоимость отгруженных позиций\" --сумма всех позиц (продажная) в статусе продано \n",
    "        from params _\n",
    "        cross join opentech.account_item ai\n",
    "        join orders.states state on state.id = ai.state\n",
    "        join opentech.accounts a on a.id = ai.account_id\n",
    "        --left join opentech.store os ON a.store_id = os.id\n",
    "        /* место продажи */\n",
    "        join opentech.storage storage on storage.id = a.storage_id\n",
    "        join public.cities pc on pc.id = storage.city_id \n",
    "        where \n",
    "        --\tcase when 0=\\$city then true else pc.id=\\$city end\n",
    "        --\tand case when 0=\\$ordersatate then true else state.id=\\$ordersatate end\n",
    "        --\tand ai.tm_created::date between '\\$frm' and '\\$til' --время Дата создания заказаия заказа\n",
    "        --\tcase when 0=0 then true else pc.id=659 end\n",
    "        --\tand case when 0=0 then true else state.id=2 end\n",
    "        --\tand \n",
    "    --        ai.tm_created::date between _.date_start and _.date_end\n",
    "    --        and \n",
    "            ai.siteuserid is not null --учетная запись сайта, с которой был оформлен заказ \n",
    "            and a.user_login = 'client' --кто добавил позицию в заказ\n",
    "            /* \"Стоимость отгруженных позиций\" поэтому a.state = 23*/\n",
    "            and a.state = 23 --по стат продано (Состояние позиции заказа) --которые купили товары или услуги в статусе списания \"Продано\"\n",
    "\n",
    "    --\t\tand \n",
    "    --    \ta.id in ( 6248305, 6255767 ) --\"ID заказа\" 6255767\n",
    "\n",
    "        group by 1\n",
    "\n",
    "        )\n",
    "\n",
    "        --select * from payments_1\n",
    "        , orders_2 as (\n",
    "        select distinct\n",
    "            ai.tm_created \"Дата создания заказа\" --время Дата создания заказаия заказа\n",
    "        -- \t,concat('<a href=\"http://opentech.local/new/order/',a.id,'?main=2&additional=8\">',a.id,'</a>') \"ID заказа\" --позиции клиентских заказов\n",
    "            ,case when a.id is null then null else \n",
    "                concat( '=HYPERLINK(\"http://opentech.local/new/order/',a.id,'\", \"',a.id,'\")' ) end \"ID заказа\" --excel\n",
    "        --\t,a.id \"ID заказа 2\" --позиции клиентских заказов\n",
    "            ,state.name \"Cтатус заказа\" --справочник состояний клиентского заказа\n",
    "            ,c.name \"Клиент (Покупатель)\" \n",
    "        --\t,concat('<a href=\"http://opentech.local/index.php?p=customers&id=',c.id,']\">',c.name,'</a>') \"Клиент (Покупатель)\"\n",
    "        --  \t,case when c.id is null then null else \n",
    "        --      concat( '=HYPERLINK(\"http://opentech.local/index.php?p=customers&id=',c.id,'\", \"',c.name,'\")' ) end \"Клиент (Покупатель)\" --excel\n",
    "\n",
    "        --\t,c.id \"ID клиента\"\n",
    "            ,pc.name \"Город отгрузки\"\n",
    "            ,sum(a.price_net) \"Стоимость оформленных позиций\"\n",
    "        --\t,round(orders.get_order_summa_brutto(a.id),2) \"Стоимость оформленных позиций\" --вычисление общей суммы заказа\n",
    "            ,sum(os.sprice) \"Чистая себестоимость позиций\"\n",
    "            ,case when sum(os.sprice) is null then null\n",
    "                else sum(a.price_net) - sum(os.sprice) end \"Валовый доход по ЧС, руб\" -- если нет чистой себестоимости, то выводим доход от расчетной себестоимости (доход: цена продажи − чистая себестоимость)\n",
    "        --\t,ai.id_platform \"id_platform\" -- Сайт старый новый, Маркетплейс, Платформа, Площадка\n",
    "            ,op.name \"Площадка\"\n",
    "\n",
    "            /*не совсем верно надо переделать или убрать согласно новым данным с op.name \"Площадка\" (переделать на id)*/\n",
    "        --\t,case \n",
    "        --        when ai.siteuserid is null then 'менеджер' --Учетная запись сайта, с которой был оформлен заказ\n",
    "        --        when (a.user_login ilike 'SHOP') and (op.name ilike '20?') then 'новый сайт' \n",
    "        --        when (a.user_login ilike 'SHOP') and (op.name ilike 'Cайт') then 'старый сайт' \n",
    "        --        \telse 'маркетплейсы' end as \"Кто оформил заказ\"\n",
    "\n",
    "        from params _\n",
    "        cross join opentech.account_item ai\n",
    "        join orders.states state on state.id = ai.state\n",
    "        join opentech.accounts a on a.id = ai.account_id\n",
    "        join opentech.customers c on c.id=a.id_customer\n",
    "        left join opentech.store os ON a.store_id = os.id\n",
    "        /* место продажи */\n",
    "        join opentech.storage storage on storage.id = a.storage_id\n",
    "        join public.cities pc on pc.id = storage.city_id \n",
    "        /*Сайт старый новый, Маркетплейс, Платформа, Площадка*/\n",
    "        left join orders.platforms op on op.id = ai.id_platform\n",
    "        where \n",
    "        --\tcase when 0=\\$city then true else pc.id=\\$city end\n",
    "        --\tand case when 666=\\$ordersatate then true else state.id=\\$ordersatate end\n",
    "        --\tand case when 0=\\$ordersplatform then true else op.id=\\$ordersplatform end\n",
    "        --\tand ai.tm_created::date between '\\$frm' and '\\$til' --время Дата создания заказаия заказа\n",
    "\n",
    "        --\tcase when 0=0 then true else pc.id=659 end\n",
    "        --\tand case when 0=0 then true else state.id=2 end\n",
    "        --\tand case when 0=0 then true else op.id=3252 end --Сайт-20??\n",
    "        --\tand \n",
    "            ai.tm_created::date between _.date_start and _.date_end\n",
    "            and \n",
    "            ai.siteuserid is not null --учетная запись сайта, с которой был оформлен заказ\n",
    "            and a.user_login = 'client' --кто добавил позицию в заказ \n",
    "\n",
    "    --\t\tand \n",
    "    --    \ta.id in ( 6248305, 6255767 ) --\"ID заказа\" 6255767\n",
    "            --\tand op.name = 'Сайт-2009'\n",
    "\n",
    "        group by 2,1,3,4,5,9 --,10\n",
    "\n",
    "        )\n",
    "\n",
    "        --select * from orders_2\n",
    "        , end_all as materialized (\n",
    "        select \n",
    "            --row_number() OVER()::text \"№\"\n",
    "            o2.\"Город отгрузки\"\n",
    "            ,o2.\"Дата создания заказа\"::text\n",
    "            ,o2.\"ID заказа\"::text --,p1.\"ID заказа 2\"::text, \n",
    "            ,o2.\"Cтатус заказа\"::text\n",
    "            ,o2.\"Клиент (Покупатель)\"::text --p1.\"ID клиента\"--,p1.\"Клиент просто номер\"\n",
    "            ,array_to_string(array_agg(p1.\"pa.payment_id\"),' ') \"ID платежей\"\n",
    "\n",
    "    --\t\t,array_to_string(array_agg(concat(\n",
    "    --\t\t\t'<a href=\"http://opentech.local/payments/',p1.\"pa.payment_id\",'\">',p1.\"pa.payment_id\",'</a>'\n",
    "    --\t\t\t)),'; ') \"ID платежей\"\n",
    "\n",
    "    --        ,case when max(p1.\"pa.payment_id\") is null then null else \n",
    "    --            array_to_string(array_agg(concat(\n",
    "    --            '=HYPERLINK(\"http://opentech.local/payments/',p1.\"pa.payment_id\",'\", \"',p1.\"pa.payment_id\",'\")' \n",
    "    --            )),' ') end \"ID платежей\" --excel\n",
    "\n",
    "            ,array_to_string(array_agg( round(p1.\"pa.sum\",2)),' ') \"Платежи по заказу\"\n",
    "            ,sum(p1.\"pa.sum\") \"Оплачено по заказу\"\n",
    "            ,p1.\"Стоимость оформленных позиций\"\n",
    "            ,o1.\"Стоимость отгруженных позиций\"\n",
    "            ,o2.\"Чистая себестоимость позиций\"\n",
    "            /*деление на ноль*/\n",
    "            ,case when p1.\"Стоимость оформленных позиций\" <> 0 then round((sum(p1.\"pa.sum\") / p1.\"Стоимость оформленных позиций\")*100,0)\n",
    "                else null end \"% выкупа по доходу\"\n",
    "            ,o2.\"Валовый доход по ЧС, руб\"\n",
    "            ,o2.\"Площадка\"\n",
    "        --\t,o2.\"Кто оформил заказ\"\n",
    "\n",
    "        from orders_2 o2\n",
    "        left join orders_1 o1 on o1.\"ID заказа\" = o2.\"ID заказа\"\n",
    "        left join payments_1 p1 on p1.\"ID заказа\" = o2.\"ID заказа\" \n",
    "    --        and p1.\"Дата создания заказа\" = o2.\"Дата создания заказа\"  \n",
    "    --        and p1.\"Cтатус заказа\" = o2.\"Cтатус заказа\" \n",
    "    --        and p1.\"Клиент (Покупатель)\" = o2.\"Клиент (Покупатель)\" \n",
    "    --        and p1.\"Стоимость оформленных позиций\" = o2.\"Стоимость оформленных позиций\"\n",
    "\n",
    "        group by \n",
    "        --\to2.\"ID заказа\",o2.\"Дата создания заказа\",o2.\"Город отгрузки\",o2.\"Cтатус заказа\",o2.\"Клиент (Покупатель)\",o2.\"pa.payment_id\",o2.\"Стоимость оформленных позиций\"\n",
    "        --\t,\"Стоимость отгруженных позиций\",\"Чистая себестоимость позиций\",\"Валовый доход по ЧС, руб\",\"Площадка\" \n",
    "            3,2,1,4,5 ,9,10 ,11,13,14 --,15\n",
    "        order by o2.\"ID заказа\" --7--2\n",
    "        )\n",
    "\n",
    "        select --distinct \n",
    "        --\trow_number() OVER()::text \"№\", \n",
    "            * \n",
    "        from end_all  \n",
    "\n",
    "        union all\n",
    "        select \n",
    "        --\tnull \"№\",\n",
    "            null \"Город отгрузки\"\n",
    "            ,null \"Дата создания заказа\"\n",
    "            ,(select distinct count(ea.\"ID заказа\") from end_all ea)::text \"ID заказа\"\n",
    "            ,null \"Cтатус заказа\"\n",
    "            ,(select distinct count(ea.\"Клиент (Покупатель)\") from end_all ea)::text \"Клиент (Покупатель)\"\n",
    "            ,null \"ID платежей\" \n",
    "            ,null \"Платежи по заказу\"\n",
    "            ,(select sum(ea.\"Оплачено по заказу\") from end_all ea) \"Оплачено по заказу\"\n",
    "            ,(select sum(ea.\"Стоимость оформленных позиций\") from end_all ea) \"Стоимость оформленных позиций\"\t\n",
    "            ,null \"Стоимость отгруженных позиций\"\n",
    "        ,null,null,null,null--,null\n",
    "'''\n"
   ]
  },
  {
   "cell_type": "markdown",
   "id": "de00e53f",
   "metadata": {
    "ExecuteTime": {
     "end_time": "2021-10-27T07:44:00.689005Z",
     "start_time": "2021-10-27T07:44:00.685932Z"
    }
   },
   "source": [
    "## коннектимся, подставляем даты, сохраняем в файл"
   ]
  },
  {
   "cell_type": "code",
   "execution_count": 64,
   "id": "fafc1bae",
   "metadata": {
    "ExecuteTime": {
     "end_time": "2021-10-29T11:25:00.917037Z",
     "start_time": "2021-10-29T11:22:20.653503Z"
    }
   },
   "outputs": [
    {
     "name": "stdout",
     "output_type": "stream",
     "text": [
      "      Город отгрузки           Дата создания заказа  \\\n",
      "0            Северск  2021-10-01 00:01:58.895434+07   \n",
      "1        Новокузнецк  2021-10-01 00:04:49.671716+07   \n",
      "2        Новосибирск  2021-10-01 00:06:13.057852+07   \n",
      "3             Тюмень  2021-10-01 00:06:16.522711+07   \n",
      "4            Барнаул   2021-10-01 00:07:50.85878+07   \n",
      "...              ...                            ...   \n",
      "27541    Новосибирск  2021-10-29 18:09:09.951061+07   \n",
      "27542           Омск  2021-10-29 18:09:41.625843+07   \n",
      "27543        Барнаул  2021-10-29 18:15:19.315438+07   \n",
      "27544      Хабаровск  2021-10-29 18:17:05.418128+07   \n",
      "27545           None                           None   \n",
      "\n",
      "                                               ID заказа Cтатус заказа  \\\n",
      "0      =HYPERLINK(\"http://opentech.local/new/order/63...   Не оформлен   \n",
      "1      =HYPERLINK(\"http://opentech.local/new/order/63...   Не оформлен   \n",
      "2      =HYPERLINK(\"http://opentech.local/new/order/63...         Выдан   \n",
      "3      =HYPERLINK(\"http://opentech.local/new/order/63...         Выдан   \n",
      "4      =HYPERLINK(\"http://opentech.local/new/order/63...   Не оформлен   \n",
      "...                                                  ...           ...   \n",
      "27541  =HYPERLINK(\"http://opentech.local/new/order/63...        В пути   \n",
      "27542  =HYPERLINK(\"http://opentech.local/new/order/63...   В обработке   \n",
      "27543  =HYPERLINK(\"http://opentech.local/new/order/63...         Выдан   \n",
      "27544  =HYPERLINK(\"http://opentech.local/new/order/63...        В пути   \n",
      "27545                                              27545          None   \n",
      "\n",
      "                     Клиент (Покупатель) ID платежей Платежи по заказу  \\\n",
      "0              Кузнецов Валерий Иванович                                 \n",
      "1        Дубровин Владимир Александрович                                 \n",
      "2                       Юрий Белослудцев     4886232            760.00   \n",
      "3                           Денис Пушкин     4880769            630.00   \n",
      "4                Сельцов Андрей Игоревич                                 \n",
      "...                                  ...         ...               ...   \n",
      "27541                ООО \"ФАРТА ПРОМГАЗ\"                                 \n",
      "27542  Лоскутов Константин Александрович                                 \n",
      "27543          Ламов Владимир Витальевич     4912928           2400.00   \n",
      "27544                     Ольга Махинина                                 \n",
      "27545                              27545        None              None   \n",
      "\n",
      "       Оплачено по заказу  Стоимость оформленных позиций  \\\n",
      "0                     NaN                            0.0   \n",
      "1                     NaN                            0.0   \n",
      "2                   760.0                          760.0   \n",
      "3                   630.0                          630.0   \n",
      "4                     NaN                            0.0   \n",
      "...                   ...                            ...   \n",
      "27541                 NaN                         2050.0   \n",
      "27542                 NaN                         1900.0   \n",
      "27543              2400.0                         2400.0   \n",
      "27544                 NaN                         9750.0   \n",
      "27545         224942897.8                    558276614.0   \n",
      "\n",
      "       Стоимость отгруженных позиций  Чистая себестоимость позиций  \\\n",
      "0                                NaN                           NaN   \n",
      "1                                NaN                           NaN   \n",
      "2                              760.0                        672.00   \n",
      "3                              630.0                       1188.20   \n",
      "4                                NaN                           NaN   \n",
      "...                              ...                           ...   \n",
      "27541                            NaN                           NaN   \n",
      "27542                            NaN                           NaN   \n",
      "27543                         2250.0                       1832.57   \n",
      "27544                            NaN                           NaN   \n",
      "27545                            NaN                           NaN   \n",
      "\n",
      "       % выкупа по доходу  Валовый доход по ЧС, руб   Площадка  \n",
      "0                     NaN                       NaN  Сайт-2009  \n",
      "1                     NaN                       NaN  Сайт-2009  \n",
      "2                   100.0                     88.00  Сайт-2009  \n",
      "3                   100.0                   -558.20  Сайт-2009  \n",
      "4                     NaN                       NaN  Сайт-2009  \n",
      "...                   ...                       ...        ...  \n",
      "27541                 NaN                       NaN  Сайт-2009  \n",
      "27542                 NaN                       NaN  Сайт-2009  \n",
      "27543               100.0                    417.43  Сайт-2009  \n",
      "27544                 NaN                       NaN  Сайт-2009  \n",
      "27545                 NaN                       NaN       None  \n",
      "\n",
      "[27546 rows x 14 columns] \n",
      "\n",
      " 01.10.2021 31.10.2021\n",
      "\n",
      "\n",
      "\n",
      "*** End ***\n",
      "\n",
      "\n",
      "\n"
     ]
    }
   ],
   "source": [
    "df_fon = pd.DataFrame()\n",
    "#   коннектимся\n",
    "with psycopg2.connect(dbname=database, user=user, password=password, host=host) as cnxn:\n",
    "#   , подставляем даты\n",
    "    df_fon = pd.read_sql_query( sql_288.replace('DATE_START_replce', f'{ date_start }').replace('DATE_END_replce', f'{ date_end }')\n",
    "                               ,cnxn)\n",
    "    \n",
    "# to_csv\n",
    "# df_fon.to_csv(\n",
    "#     path_OUT_dbDATA + folder_out + file_name + fr' { date_start } { date_end }.csv' \\\n",
    "#     , sep='☺',  index=True) # cp-1251 encoding='UTF-8', engine='xlsxwriter'\n",
    "\n",
    "# to_excel\n",
    "df_fon.to_excel(\n",
    "    path_OUT_dbDATA + folder_out + file_name + fr' { date_start } { date_end }.xlsx' \\\n",
    "    , index=False ) # cp-1251 encoding='UTF-8', engine='xlsxwriter'\n",
    "\n",
    "print(df_fon, '\\n\\n', date_start, date_end)\n",
    "print('\\n\\n\\n*** End ***\\n\\n\\n')"
   ]
  },
  {
   "cell_type": "code",
   "execution_count": 65,
   "id": "837d7c88",
   "metadata": {
    "ExecuteTime": {
     "end_time": "2021-10-29T11:25:00.944708Z",
     "start_time": "2021-10-29T11:25:00.942614Z"
    }
   },
   "outputs": [],
   "source": [
    "# sql_288.replace('DATE_START_replce', f'{ date_start }').replace('DATE_END_replce', f'{ date_end }')"
   ]
  },
  {
   "cell_type": "code",
   "execution_count": 61,
   "id": "14ca6cd7",
   "metadata": {
    "ExecuteTime": {
     "end_time": "2021-10-29T11:20:51.732104Z",
     "start_time": "2021-10-29T11:20:51.729658Z"
    }
   },
   "outputs": [],
   "source": [
    "# # to_excel\n",
    "# df_fon.to_excel(\n",
    "#     path_OUT_dbDATA + folder_out + file_name + fr' { date_start } { date_end }.xlsx' \\\n",
    "#     , index=False ) # cp-1251 encoding='UTF-8', engine='xlsxwriter'\n",
    "\n",
    "# print(df_fon, '\\n\\n', date_start, date_end)\n",
    "# print('\\n\\n\\n*** End ***\\n\\n\\n')"
   ]
  },
  {
   "cell_type": "code",
   "execution_count": null,
   "id": "df150a3d",
   "metadata": {},
   "outputs": [],
   "source": []
  },
  {
   "cell_type": "code",
   "execution_count": null,
   "id": "9bc1475d",
   "metadata": {},
   "outputs": [],
   "source": []
  },
  {
   "cell_type": "code",
   "execution_count": null,
   "id": "33243cfe",
   "metadata": {},
   "outputs": [],
   "source": []
  }
 ],
 "metadata": {
  "hide_input": false,
  "kernelspec": {
   "display_name": "Python 3",
   "language": "python",
   "name": "python3"
  },
  "language_info": {
   "codemirror_mode": {
    "name": "ipython",
    "version": 3
   },
   "file_extension": ".py",
   "mimetype": "text/x-python",
   "name": "python",
   "nbconvert_exporter": "python",
   "pygments_lexer": "ipython3",
   "version": "3.6.8"
  },
  "toc": {
   "base_numbering": 1,
   "nav_menu": {},
   "number_sections": false,
   "sideBar": true,
   "skip_h1_title": false,
   "title_cell": "Table of Contents",
   "title_sidebar": "Contents",
   "toc_cell": false,
   "toc_position": {
    "height": "1076px",
    "left": "58px",
    "top": "324px",
    "width": "268px"
   },
   "toc_section_display": true,
   "toc_window_display": true
  },
  "varInspector": {
   "cols": {
    "lenName": 16,
    "lenType": 16,
    "lenVar": 40
   },
   "kernels_config": {
    "python": {
     "delete_cmd_postfix": "",
     "delete_cmd_prefix": "del ",
     "library": "var_list.py",
     "varRefreshCmd": "print(var_dic_list())"
    },
    "r": {
     "delete_cmd_postfix": ") ",
     "delete_cmd_prefix": "rm(",
     "library": "var_list.r",
     "varRefreshCmd": "cat(var_dic_list()) "
    }
   },
   "types_to_exclude": [
    "module",
    "function",
    "builtin_function_or_method",
    "instance",
    "_Feature"
   ],
   "window_display": false
  }
 },
 "nbformat": 4,
 "nbformat_minor": 5
}
