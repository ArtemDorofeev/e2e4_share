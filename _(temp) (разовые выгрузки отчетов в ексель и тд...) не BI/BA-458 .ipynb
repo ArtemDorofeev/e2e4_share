{
 "cells": [
  {
   "cell_type": "markdown",
   "id": "2aa2e825",
   "metadata": {
    "ExecuteTime": {
     "end_time": "2021-10-27T06:43:06.545897Z",
     "start_time": "2021-10-27T06:43:06.540678Z"
    }
   },
   "source": [
    "# temp BA-288 Список оформленных заказов"
   ]
  },
  {
   "cell_type": "markdown",
   "id": "6f7f0a33",
   "metadata": {
    "ExecuteTime": {
     "end_time": "2021-10-27T06:50:13.758425Z",
     "start_time": "2021-10-27T06:50:13.755688Z"
    }
   },
   "source": [
    "## magic"
   ]
  },
  {
   "cell_type": "code",
   "execution_count": 22,
   "id": "406c9f9b",
   "metadata": {
    "ExecuteTime": {
     "end_time": "2023-02-14T11:24:47.711140Z",
     "start_time": "2023-02-14T11:24:47.628568Z"
    }
   },
   "outputs": [],
   "source": [
    "# magic    \n",
    "get_ipython().run_line_magic('matplotlib', 'inline')\n",
    "# run files\n",
    "get_ipython().run_line_magic('run', '/srv/jhub/share/._Additions/Import_libs.py')\n",
    "get_ipython().run_line_magic('run', '/srv/jhub/share/._Additions/Connecting_.py')\n",
    "get_ipython().run_line_magic('run', '/srv/jhub/share/._Additions/my_script.py')\n",
    "get_ipython().run_line_magic('run', '/srv/jhub/share/._Additions/Date_gen.py')\n",
    "get_ipython().run_line_magic('run', '/srv/jhub/share/._Additions/xx.py')\n",
    "\n",
    "# print\n",
    "###########################\n",
    "# print(\n",
    "# df_test_xx.shape, '\\n'\n",
    "# ,abs_path, '\\n' # abs_path - путь до шары (видна всем езерам - '/srv/jhub/share/')\n",
    "# ,path_OUT_dbDATA, '\\n'\n",
    "# ,date_start, date_end, '\\n'\n",
    "# )\n",
    "############################## End ##############################\n"
   ]
  },
  {
   "cell_type": "code",
   "execution_count": 24,
   "id": "cd25e56a",
   "metadata": {
    "ExecuteTime": {
     "end_time": "2023-02-14T11:25:22.215551Z",
     "start_time": "2023-02-14T11:25:21.919420Z"
    }
   },
   "outputs": [
    {
     "name": "stdout",
     "output_type": "stream",
     "text": [
      "\u001b[34mДанные с jira \n",
      "(подтягиваются автоматически и обнавляются при запуске)\u001b[0m\n"
     ]
    },
    {
     "data": {
      "application/vnd.jupyter.widget-view+json": {
       "model_id": "7cb50ce0608b4bbcba25ba8b41c70909",
       "version_major": 2,
       "version_minor": 0
      },
      "text/plain": [
       "HTML(value=\"<a href='\\nhttps://jira.e2e4.ru/browse/BA-458\\n'>\\nhttps://jira.e2e4.ru/browse/BA-458\\n</a>\")"
      ]
     },
     "metadata": {},
     "output_type": "display_data"
    },
    {
     "name": "stdout",
     "output_type": "stream",
     "text": [
      "\u001b[1m\u001b[31mБизнес аналитика / BA-458\u001b[0m \n",
      "\n",
      "        \u001b[1m\u001b[34mРазовая выгрузка заказов по дате оформления \u001b[0m \n",
      "\n",
      "\n",
      "        \u001b[1mОписание\u001b[0m: \n",
      "        \n",
      "Для сверки вэб-аналитики необходима единоразовая выгрузка заказов за последние 2 недели (по дате оформления позиции).\n",
      "Принимаются к учету только заказы с ID площадки 7832, 1246, 3252. Учитываются те позиции и заказы, которые есть на момент выгрузки (без логов), независимо от статуса заказа (включая удаленные).\n",
      "Форма вывода (1 строка, 1 позиция):\n",
      "ID заказа| Дата и время с секундами оформления позиции| Дата  и время с секундами оформления заказа| Кто оформил заказ\n",
      "фильтр по дате оф заказа \n",
      "последние 2 недели \n",
      "\n",
      "        \n"
     ]
    }
   ],
   "source": [
    "# выводим спарсенные данные с жиры описание и тд....\n",
    "task_link = '''\n",
    "https://jira.e2e4.ru/browse/BA-\\\n",
    "458\n",
    "'''\n",
    "tasks(loginAtlassianjhubAdmin, passwordAtlassianjhubAdmin, task_link)"
   ]
  },
  {
   "cell_type": "code",
   "execution_count": null,
   "id": "5c99df56",
   "metadata": {},
   "outputs": [],
   "source": []
  },
  {
   "cell_type": "markdown",
   "id": "d278c449",
   "metadata": {
    "ExecuteTime": {
     "end_time": "2021-10-27T06:51:22.710558Z",
     "start_time": "2021-10-27T06:51:22.707957Z"
    }
   },
   "source": [
    "## Качнуть за какую то опредлеленную дату"
   ]
  },
  {
   "cell_type": "code",
   "execution_count": 25,
   "id": "673958a7",
   "metadata": {
    "ExecuteTime": {
     "end_time": "2023-02-14T11:25:22.423304Z",
     "start_time": "2023-02-14T11:25:22.420639Z"
    }
   },
   "outputs": [],
   "source": [
    "# #  Качнуть за какую то опредлеленную дату\n",
    "# date_start = '01.10.2021'\n",
    "# date_end = '31.10.2021'\n",
    "\n",
    "# path_OUT_dbDATA + folder_out + file_name + fr' { date_start } { date_end }.csv'"
   ]
  },
  {
   "cell_type": "code",
   "execution_count": null,
   "id": "ed7b2a4d",
   "metadata": {},
   "outputs": [],
   "source": []
  },
  {
   "cell_type": "markdown",
   "id": "ab2028f0",
   "metadata": {
    "ExecuteTime": {
     "end_time": "2021-10-27T06:51:38.307220Z",
     "start_time": "2021-10-27T06:51:38.304110Z"
    }
   },
   "source": [
    "## SQL"
   ]
  },
  {
   "cell_type": "code",
   "execution_count": 26,
   "id": "9eac4e9d",
   "metadata": {
    "ExecuteTime": {
     "end_time": "2023-02-14T11:25:27.241240Z",
     "start_time": "2023-02-14T11:25:27.228636Z"
    },
    "code_folding": [
     3
    ]
   },
   "outputs": [],
   "source": [
    "# DATE_START_replce date_start\n",
    "# DATE_END_replce date_end\n",
    "\n",
    "sql_ = '''     \n",
    "\n",
    "    /* \n",
    "    https://jira.e2e4.ru/browse/BA-458\n",
    "    */\n",
    "\n",
    "    with params as (\n",
    "        select\n",
    "             ('31.01.2023' || ' 00:00:00')::timestamp frm, -- 6 556\n",
    "             ('13.02.2023' || ' 23:59:59')::timestamp til\n",
    "    --   ( 'DATE_START_replce' || ' 00:00:00')::timestamp    frm \n",
    "    --   ,( 'DATE_END_replce' || ' 23:59:59')::timestamp    til \n",
    "    )\n",
    "    -- select * from params\n",
    "\n",
    "    , wares as  (\n",
    "        select\n",
    "            -- a.i AS i_log,\n",
    "            a.i,\n",
    "            tm_placed,\n",
    "            a.in_account_date,\n",
    "            a.user_login AS order_source,\n",
    "            ai.id_platform,\n",
    "\n",
    "            a.id AS id_order,        \n",
    "            null::INT AS id_order_item,\n",
    "            a.id_customer AS id_customer,\n",
    "            a.firm AS order_type,\n",
    "            a.storage_id AS id_storage,\n",
    "            'Товар' AS TYPE,\n",
    "            rp.id AS id,\n",
    "            rp.name AS name,\n",
    "            g.name AS category,\n",
    "            b.name AS brand,\n",
    "            s.price AS price,\n",
    "            round(s.cost) AS cost,\n",
    "            round(s.sprice) AS sprice,\n",
    "            s.date_sold AS date_sold,\n",
    "            s.sold AS state, \n",
    "            COALESCE(r.date, checks.created_at) AS realization_date,\n",
    "            ROUND(s.price * (COALESCE(rnds.value, cnds.value, 20) / (100 + COALESCE(rnds.value, cnds.value, 20))), 2) AS nds,\n",
    "            c.name AS supplier,\n",
    "            u.id AS manager\n",
    "            --Состояние сборки: (oc.collect) 0 - сборка не заказана, 1 - собрать, 2 - собрана, 3 - разобрать, 4 - разобрана, 5 - продана\n",
    "            ,case when (oc.collect = 0) or (oc.collect is null) then null else 'c' end \"сборка/комплект\" \n",
    "            ,case when (oc.collect = 0) or (oc.collect is null) then null else oc.collectcount::text end \"Кол-во сборок\" --oc.collectcount - Количество собранных компьютеров в составе заказа\n",
    "    --        ,a.in_account_date in_account_date\n",
    "            ,a.state item_state --Состояниt позиций\n",
    "            ,a.del adel --Позиция удалена --лучше orders.item_state('DELETED')\n",
    "\n",
    "        FROM params _\n",
    "        CROSS JOIN opentech.accounts a\n",
    "        LEFT JOIN opentech.account_item ai ON ai.account_id = a.id\n",
    "        JOIN opentech.reference_price rp ON rp.id = a.reference_id -- rp.id = s.reference_id\n",
    "        LEFT join opentech.store s ON a.store_id = s.id\n",
    "        LEFT join opentech.order_client oc ON a.id = oc.account_id\n",
    "        LEFT JOIN opentech.users u ON lower(u.login) = lower(a.user_login)\n",
    "        LEFT JOIN orders.realization_items_order_items_bindings bi ON bi.id_order_item = a.i\n",
    "        LEFT JOIN orders.realization_items i ON i.id = bi.id_realization_item\n",
    "        LEFT JOIN orders.realizations r ON r.id = i.id_realization\n",
    "        LEFT JOIN payments.order_items_locked_by_check_items il ON il.id_order_item = a.i\n",
    "        LEFT JOIN payments.check_items ci ON ci.id = il.id_check_item_fullpaid\n",
    "        LEFT JOIN payments.checks checks ON checks.id = ci.id_check\n",
    "        LEFT JOIN public.nds rnds ON rnds.id = i.id_nds\n",
    "        LEFT JOIN public.nds cnds ON cnds.code = ci.vat\n",
    "        LEFT JOIN opentech.section_new sn ON sn.id = rp.section_sootv\n",
    "        LEFT JOIN catalog.plain_section_list g ON g.id = sn.goodid\n",
    "        LEFT JOIN catalog.brands b ON b.id = rp.brand_id\n",
    "        LEFT JOIN opentech.supplyitems si ON si.id = s.supplyitemid\n",
    "        LEFT JOIN opentech.supplies su ON su.id = si.supplyid\n",
    "        LEFT JOIN customers.suppliers sup ON sup.id_customer = su.supplierid\n",
    "        LEFT JOIN opentech.customers c ON c.id = COALESCE(sup.id_customer_alpha, sup.id_customer)\n",
    "        WHERE \n",
    "            a.state != orders.item_state('BUNDLED') -- WHEN 'BUNDLED' THEN RETURN 27;                  --Комплект\n",
    "    --        AND s.date_sold BETWEEN _.frm AND _.til\n",
    "    --        AND a.in_account_date BETWEEN _.frm AND _.til\n",
    "            AND tm_placed BETWEEN _.frm AND _.til\n",
    "            and ai.id_platform in (7832, 1246, 3252)\n",
    "\n",
    "            )\n",
    "\n",
    "    , bundles AS  (\n",
    "        SELECT\n",
    "            -- a.i AS i_log,\n",
    "            a2.i,\n",
    "            tm_placed,\n",
    "            a1.in_account_date,\n",
    "            a2.user_login AS order_source,\n",
    "            ai.id_platform,\n",
    "\n",
    "            a2.id AS id_order,          /* id заказа комплекта */\n",
    "            a1.id AS id_order_item,     /* id заказа комплектующей */\n",
    "            a2.id_customer AS id_customer,\n",
    "            a2.firm AS order_type,\n",
    "            a2.storage_id AS id_storage,\n",
    "            'Комплектующая' AS TYPE,\n",
    "            rp.id AS id,\n",
    "            rp.name AS name,\n",
    "            g.name AS category,\n",
    "            b.name AS brand,\n",
    "            s1.price AS price,\n",
    "            round(s1.cost) AS cost,\n",
    "            round(s1.sprice) AS sprice,\n",
    "            s2.date_sold AS date_sold,\n",
    "            s1.sold AS state, \n",
    "            COALESCE(r.date, checks.created_at) AS realization_date,\n",
    "            ROUND(s1.price * (COALESCE(rnds.value, cnds.value, 20) / (100 + COALESCE(rnds.value, cnds.value, 20))), 2) AS nds,\n",
    "            c.name AS supplier,\n",
    "            u.id AS manager\n",
    "            ,'к' \"сборка/комплект\" \n",
    "            ,null\n",
    "    --        ,a2.in_account_date in_account_date\n",
    "            ,a1.state item_state\n",
    "            ,a1.del adel\n",
    "\n",
    "        FROM params _\n",
    "        CROSS JOIN opentech.accounts a1                            /* Складская позиция комплектующей */\n",
    "        LEFT JOIN opentech.store s1 ON a1.store_id = s1.id        /* Заказ комплектующей */\n",
    "        LEFT JOIN store.bundled_items bu ON bu.id_store_item = s1.id\n",
    "        LEFT JOIN opentech.store s2 ON s2.id = bu.id_bundle          /* Складская позиция комплекта */\n",
    "        LEFT JOIN opentech.accounts a2 ON a2.store_id = s2.id        /* Заказ комплекта */\n",
    "        LEFT JOIN opentech.account_item ai ON ai.account_id = a1.id\n",
    "\n",
    "        /* НДС комплектующей */\n",
    "        LEFT JOIN orders.realization_items_order_items_bindings bi1 ON bi1.id_order_item = a1.i\n",
    "        LEFT JOIN orders.realization_items i1 ON i1.id = bi1.id_realization_item\n",
    "        LEFT JOIN payments.order_items_locked_by_check_items il1 ON il1.id_order_item = a1.i\n",
    "        LEFT JOIN payments.check_items ci1 ON ci1.id = il1.id_check_item_fullpaid\n",
    "        LEFT JOIN public.nds rnds ON rnds.id = i1.id_nds\n",
    "        LEFT JOIN public.nds cnds ON cnds.code = ci1.vat\n",
    "        /* Комплектующая */\n",
    "        JOIN opentech.reference_price rp ON rp.id = a1.reference_id --rp.id = s1.reference_id\n",
    "        LEFT JOIN opentech.section_new sn ON sn.id = rp.section_sootv\n",
    "        LEFT JOIN catalog.plain_section_list g ON g.id = sn.goodid\n",
    "        LEFT JOIN catalog.brands b ON b.id = rp.brand_id\n",
    "        /* Комплект */    \n",
    "        LEFT JOIN opentech.users u ON lower(u.login) = lower(a2.user_login)\n",
    "        LEFT JOIN orders.realization_items_order_items_bindings bi ON bi.id_order_item = a2.i\n",
    "        LEFT JOIN orders.realization_items i ON i.id = bi.id_realization_item\n",
    "        LEFT JOIN orders.realizations r ON r.id = i.id_realization\n",
    "        LEFT JOIN payments.order_items_locked_by_check_items il ON il.id_order_item = a2.i\n",
    "        LEFT JOIN payments.check_items ci ON ci.id = il.id_check_item_fullpaid\n",
    "        LEFT JOIN payments.checks checks ON checks.id = ci.id_check\n",
    "        LEFT JOIN opentech.supplyitems si ON si.id = s2.supplyitemid\n",
    "        LEFT JOIN opentech.supplies su ON su.id = si.supplyid\n",
    "        LEFT JOIN customers.suppliers sup ON sup.id_customer = su.supplierid\n",
    "        LEFT JOIN opentech.customers c ON c.id = COALESCE(sup.id_customer_alpha, sup.id_customer)\n",
    "        WHERE \n",
    "            a1.state = orders.item_state('BUNDLED')\n",
    "    --        AND s2.date_sold BETWEEN _.frm AND _.til\n",
    "    --        AND a1.in_account_date BETWEEN _.frm AND _.til\n",
    "            AND ai.tm_placed BETWEEN _.frm AND _.til\n",
    "            and ai.id_platform in (7832, 1246, 3252)\n",
    "\n",
    "    )\n",
    "\n",
    "    , services AS  (\n",
    "        SELECT\n",
    "            -- a.i AS i_log,\n",
    "            a.i,\n",
    "            tm_placed,\n",
    "            a.in_account_date,\n",
    "            a.user_login AS order_source,\n",
    "            ai.id_platform,\n",
    "\n",
    "            a.id AS id_order,\n",
    "            null::INT AS id_order_item,\n",
    "            a.id_customer AS id_customer,\n",
    "            a.firm AS order_type,\n",
    "            a.storage_id AS id_storage,\n",
    "            'Услуга' AS TYPE,\n",
    "            t.id AS id,\n",
    "            t.name AS name,\n",
    "            c.name AS category,\n",
    "            NULL::TEXT AS brand,\n",
    "            a.price AS price,\n",
    "            NULL::int AS cost,\n",
    "            NULL::int AS sprice,\n",
    "            os.done AS date_sold,\n",
    "            store.item_sold('SHIPPED') AS state,\n",
    "            COALESCE(r.date, checks.created_at) AS realization_date,\n",
    "            ROUND(a.price * (COALESCE(rnds.value, cnds.value, 20) / (100 + COALESCE(rnds.value, cnds.value, 20))), 2) AS nds,\n",
    "            NULL::TEXT AS supplier,\n",
    "            u.id AS manager\n",
    "            ,null\n",
    "            ,null\n",
    "    --        ,a.in_account_date in_account_date\n",
    "            ,os.state item_state\n",
    "            ,a.del adel\n",
    "\n",
    "        FROM params _\n",
    "        CROSS JOIN opentech.accounts a\n",
    "            LEFT JOIN opentech.account_item ai ON ai.account_id = a.id\n",
    "\n",
    "        LEFT JOIN opentech.orderservices os ON a.i = os.orderitemid\n",
    "        LEFT JOIN opentech.users u ON lower(u.login) = lower(a.user_login)\n",
    "        LEFT JOIN orders.realization_items_order_items_bindings bi ON bi.id_order_item = a.i\n",
    "        LEFT JOIN orders.realization_items i ON i.id = bi.id_realization_item\n",
    "        LEFT JOIN orders.realizations r ON r.id = i.id_realization\n",
    "        LEFT JOIN payments.order_items_locked_by_check_items il ON il.id_order_item = a.i\n",
    "        LEFT JOIN payments.check_items ci ON ci.id = il.id_check_item_fullpaid\n",
    "        LEFT JOIN payments.checks checks ON checks.id = ci.id_check\n",
    "        LEFT JOIN public.nds rnds ON rnds.id = i.id_nds\n",
    "        LEFT JOIN public.nds cnds ON cnds.code = ci.vat\n",
    "        JOIN service.types t ON t.id = os.type\n",
    "        JOIN service.categories c ON c.id = t.id_category\n",
    "        WHERE \n",
    "    --    \tos.state = service.state('SOLD')\n",
    "    --        os.done BETWEEN _.frm AND _.til\n",
    "    --        a.in_account_date BETWEEN _.frm AND _.til\n",
    "    --        AND \n",
    "            tm_placed BETWEEN _.frm AND _.til\n",
    "            and ai.id_platform in (7832, 1246, 3252)\n",
    "\n",
    "    )\n",
    "\n",
    "    , deliveries AS  (\n",
    "        SELECT\n",
    "            -- a.i AS i_log,\n",
    "            a.i,\n",
    "            tm_placed,\n",
    "            a.in_account_date,\n",
    "            a.user_login AS order_source,\n",
    "            ai.id_platform,\n",
    "\n",
    "            a.id AS id_order,\n",
    "            null::INT AS id_order_item,\n",
    "            a.id_customer AS id_customer,\n",
    "            a.firm AS order_type,\n",
    "            a.storage_id AS id_storage,\n",
    "            'Доставка' AS TYPE,\n",
    "            d.id AS id,\n",
    "            a.correct_name AS name,\n",
    "            t.name AS category,\n",
    "            NULL::text AS brand,\n",
    "            a.price AS price,\n",
    "            NULL::int AS cost,\n",
    "            NULL::int AS sprice,\n",
    "            d.date AS date_sold,\n",
    "            store.item_sold('SHIPPED') AS state,\n",
    "            COALESCE(r.date, checks.created_at) AS realization_date,\n",
    "            ROUND(a.price * (COALESCE(rnds.value, cnds.value, 20) / (100 + COALESCE(rnds.value, cnds.value, 20))), 2) AS nds,\n",
    "            NULL::text AS supplier,\n",
    "            u.id AS manager\n",
    "            ,null\n",
    "            ,null\n",
    "    --        ,a.in_account_date in_account_date\n",
    "            ,d.state item_state\n",
    "            ,a.del adel\n",
    "\n",
    "        FROM params _\n",
    "        CROSS JOIN opentech.accounts a\n",
    "            LEFT JOIN opentech.account_item ai ON ai.account_id = a.id\n",
    "\n",
    "        LEFT JOIN logistics.delivery_items di ON a.i = di.id_order_item AND a.correct_name ILIKE 'Доставка%'\n",
    "        LEFT JOIN logistics.deliveries d  ON di.id_delivery = d.id\n",
    "        LEFT JOIN logistics.delivery_types t ON t.id = d.type\n",
    "        LEFT JOIN opentech.users u ON lower(u.login) = lower(a.user_login)\n",
    "        LEFT JOIN orders.realization_items_order_items_bindings bi ON bi.id_order_item = a.i\n",
    "        LEFT JOIN orders.realization_items i ON i.id = bi.id_realization_item\n",
    "        LEFT JOIN orders.realizations r ON r.id = i.id_realization\n",
    "        LEFT JOIN payments.order_items_locked_by_check_items il ON il.id_order_item = a.i\n",
    "        LEFT JOIN payments.check_items ci ON ci.id = il.id_check_item_fullpaid\n",
    "        LEFT JOIN payments.checks checks ON checks.id = ci.id_check\n",
    "        LEFT JOIN public.nds rnds ON rnds.id = i.id_nds\n",
    "        LEFT JOIN public.nds cnds ON cnds.code = ci.vat\n",
    "        WHERE \n",
    "    --    \tand d.state = logistics.delivery_state('CLOSED')\n",
    "    --        d.date BETWEEN _.frm AND _.til\n",
    "    --        AND \n",
    "            tm_placed BETWEEN _.frm AND _.til\n",
    "            and ai.id_platform in (7832, 1246, 3252)\n",
    "\n",
    "    )\n",
    "\n",
    "    , giftcards AS  (\n",
    "        SELECT\n",
    "            -- a.i AS i_log,\n",
    "            a.i,\n",
    "            tm_placed,\n",
    "            a.in_account_date,\n",
    "            a.user_login AS order_source,\n",
    "            ai.id_platform,\n",
    "\n",
    "            a.id AS id_order,\n",
    "            null::INT AS id_order_item,\n",
    "            a.id_customer AS id_customer,\n",
    "            a.firm AS order_type,\n",
    "            a.storage_id AS id_storage,\n",
    "            'Подарочная карта' AS TYPE,\n",
    "            1 AS id,\n",
    "            a.correct_name AS name,\n",
    "            'Подарочная карта' AS category,\n",
    "            NULL::text AS brand,\n",
    "            a.price AS price,\n",
    "            NULL::int AS cost,\n",
    "            NULL::int AS sprice,\n",
    "            g.sold_on AS date_sold,\n",
    "            store.item_sold('SHIPPED') AS state,\n",
    "            COALESCE(r.date, checks.created_at) AS realization_date,\n",
    "            ROUND(a.price * (COALESCE(rnds.value, cnds.value, 20) / (100 + COALESCE(rnds.value, cnds.value, 20))), 2) AS nds,\n",
    "            NULL::text AS supplier,\n",
    "            u.id AS manager\n",
    "            ,null\n",
    "            ,null\n",
    "    --        ,a.in_account_date in_account_date\n",
    "            ,g.status item_state\n",
    "            ,a.del adel\n",
    "\n",
    "        FROM params _\n",
    "        CROSS JOIN opentech.accounts a\n",
    "        LEFT JOIN opentech.account_item ai ON ai.account_id = a.id\n",
    "\n",
    "        LEFT JOIN payments.giftcards g ON a.i = g.id_order_item\n",
    "        LEFT JOIN opentech.users u ON lower(u.login) = lower(a.user_login)\n",
    "        LEFT JOIN orders.realization_items_order_items_bindings bi ON bi.id_order_item = a.i\n",
    "        LEFT JOIN orders.realization_items i ON i.id = bi.id_realization_item\n",
    "        LEFT JOIN orders.realizations r ON r.id = i.id_realization\n",
    "        LEFT JOIN payments.order_items_locked_by_check_items il ON il.id_order_item = a.i\n",
    "        LEFT JOIN payments.check_items ci ON ci.id = il.id_check_item_fullpaid\n",
    "        LEFT JOIN payments.checks checks ON checks.id = ci.id_check\n",
    "        LEFT JOIN public.nds rnds ON rnds.id = i.id_nds\n",
    "        LEFT JOIN public.nds cnds ON cnds.code = ci.vat\n",
    "\n",
    "        WHERE \n",
    "    --    \tg.status = ANY(payments.giftcard_status(ARRAY['ISSUED', 'EXPENDED']))\n",
    "    --        g.sold_on BETWEEN _.frm AND _.til\n",
    "    --            AND \n",
    "                tm_placed BETWEEN _.frm AND _.til\n",
    "                and ai.id_platform in (7832, 1246, 3252)\n",
    "\n",
    "    )\n",
    "\n",
    "    , items AS  (\n",
    "        SELECT * FROM wares\n",
    "        UNION ALL SELECT * FROM bundles\n",
    "        UNION ALL SELECT * FROM services\n",
    "        UNION ALL SELECT * FROM deliveries\n",
    "        UNION ALL SELECT * FROM giftcards\n",
    "    )\n",
    "\n",
    "\n",
    "    select \n",
    "\n",
    "        item.i,\n",
    "        item.id_platform,\n",
    "        COALESCE(item.id_order_item, ai.account_id) \"ID закаpf\",\n",
    "        item.tm_placed::timestamp,\n",
    "        item.in_account_date::timestamp,\n",
    "        item.order_source,\n",
    "        item.adel\n",
    "\n",
    "    from items item\n",
    "    LEFT JOIN opentech.account_item ai ON ai.account_id = item.id_order\n",
    "\n",
    "    --where \n",
    "    --    COALESCE(item.id_order_item, ai.account_id) in (7076147)\n",
    "\n",
    "\n",
    "'''\n"
   ]
  },
  {
   "cell_type": "markdown",
   "id": "dd7e6e53",
   "metadata": {
    "ExecuteTime": {
     "end_time": "2021-10-27T06:48:49.484524Z",
     "start_time": "2021-10-27T06:48:49.480817Z"
    }
   },
   "source": [
    "## Путь куда будут выгружены файлы¶"
   ]
  },
  {
   "cell_type": "code",
   "execution_count": 27,
   "id": "35800b9e",
   "metadata": {
    "ExecuteTime": {
     "end_time": "2023-02-14T11:25:29.583846Z",
     "start_time": "2023-02-14T11:25:28.740076Z"
    }
   },
   "outputs": [
    {
     "data": {
      "text/plain": [
       "'/Public/Отчеты (выгрузка jupyter notebooks)/ДЛЯ ТЕСТОВ/458/458 30.01.2023 13.02.2023.xlsx (slebedev-18:25:28).xlsx'"
      ]
     },
     "execution_count": 27,
     "metadata": {},
     "output_type": "execute_result"
    }
   ],
   "source": [
    "public_link = '''https://nextcloud.e2e4.ru/apps/files/?dir=/Public/Отчеты%20(выгрузка%20jupyter%20notebooks)&fileid=2018892'''\n",
    "AmazonS3_folder_Public = r'/Public/Отчеты (выгрузка jupyter notebooks)'\n",
    "AmazonS3_path_to_file = r'/ДЛЯ ТЕСТОВ/458/'\n",
    "#     AmazonS3_file_name = fr'''458 30.01.2023 13.02.2023.xlsx ({getpass.getuser()}-{datetime.datetime.now().strftime(\"%H:%M:%S\")}) {DATE_START_replce} - {DATE_END_replce}.xlsx'''\n",
    "AmazonS3_file_name = fr'''458 30.01.2023 13.02.2023.xlsx ({getpass.getuser()}-{datetime.datetime.now().strftime(\"%H:%M:%S\")}).xlsx'''\n",
    "AmazonS3_full_path = AmazonS3_folder_Public + AmazonS3_path_to_file + AmazonS3_file_name\n",
    "#     print('AmazonS3_file_name, AmazonS3_full_path', AmazonS3_file_name, AmazonS3_full_path)\n",
    "Amazon_owncloud = owncloud.Client('https://nextcloud.e2e4.ru')\n",
    "Amazon_owncloud.login(loginAtlassianjhubAdmin, passwordAtlassianjhubAdmin)\n",
    "# Amazon_owncloud.mkdir('testdir')\n",
    "AmazonS3_full_path"
   ]
  },
  {
   "cell_type": "markdown",
   "id": "de00e53f",
   "metadata": {
    "ExecuteTime": {
     "end_time": "2021-10-27T07:44:00.689005Z",
     "start_time": "2021-10-27T07:44:00.685932Z"
    }
   },
   "source": [
    "## коннектимся, подставляем даты, сохраняем в файл"
   ]
  },
  {
   "cell_type": "code",
   "execution_count": 28,
   "id": "df150a3d",
   "metadata": {
    "ExecuteTime": {
     "end_time": "2023-02-14T11:27:48.638981Z",
     "start_time": "2023-02-14T11:25:30.614543Z"
    }
   },
   "outputs": [
    {
     "name": "stdout",
     "output_type": "stream",
     "text": [
      "Выгрузка завершена! \n",
      "Идет запись в файл/облако\n",
      "\u001b[31m1й лист в excel:\u001b[0m\n",
      "\u001b[32m1 - Итоговая\u001b[0m \n",
      "более детальная информация в файле по пути:\n",
      "\u001b[1m\u001b[4m\u001b[34m/Public/Отчеты (выгрузка jupyter notebooks)/ДЛЯ ТЕСТОВ/458/458 30.01.2023 13.02.2023.xlsx (slebedev-18:25:28).xlsx\u001b[0m \n",
      "!! Идет запись в файл пожалуйста подождите  \n",
      "\n",
      "Запись в файл завершена!\n",
      "\n",
      "Идет запись в облако\n",
      "\n",
      "\n",
      "Файл записан в облако\n",
      "/Public/Отчеты (выгрузка jupyter notebooks)/ДЛЯ ТЕСТОВ/458/458 30.01.2023 13.02.2023.xlsx (slebedev-18:25:28).xlsx \n"
     ]
    },
    {
     "data": {
      "application/vnd.jupyter.widget-view+json": {
       "model_id": "44250d9afadb4d54bc4daa8d593a2f4c",
       "version_major": 2,
       "version_minor": 0
      },
      "text/plain": [
       "HTML(value='<a href=\"https://nextcloud.e2e4.ru/apps/files/?dir=/Public/Отчеты%20(выгрузка%20jupyter%20notebook…"
      ]
     },
     "metadata": {},
     "output_type": "display_data"
    }
   ],
   "source": [
    "\n",
    "\n",
    "#     print( f'''Выбранные даты: {DATE_START_replce.strftime(\"%d.%m.%Y\")}    {DATE_END_replce.strftime(\"%d.%m.%Y\")}\n",
    "#                ({DATE_START_replce})  ({DATE_END_replce}) \\n\\nИдет выгрузка с БД немного подождите...\\n''' )\n",
    "#   connect\n",
    "with psycopg2.connect(dbname=database, user=user, password=password, host=host) as cnxn:\n",
    "    df_ = pd.read_sql_query(sql_ \\\n",
    "#                              .replace('''DATE_START_replce''', f'''{ DATE_START_replce }''') \\\n",
    "#                              .replace('''DATE_END_replce''', f'''{ DATE_END_replce }''') \\\n",
    "#                              .replace('''BREND_replce''', f'''{ df_1_val }''') \\\n",
    "                         , cnxn) \n",
    "\n",
    "\n",
    "print('Выгрузка завершена! \\nИдет запись в файл/облако')\n",
    "\n",
    "\n",
    "sheet_name0 = 'Итоговая'\n",
    "#     sheet_name1 = 'Продано Прибыль Наценка'\n",
    "#     sheet_name2 = 'Скомплектовано'\n",
    "#     sheet_name3 = 'Остаток'\n",
    "sheets0 = df_\n",
    "#     sheets1 = df_det.astype({'frm': 'str'}).set_index(df_det.columns[0]).loc[:spl1].reset_index()\n",
    "#     sheets2 = df_det.astype({'frm': 'str'}).set_index(df_det.columns[0]).loc[spl1:spl2].reset_index().iloc[1:]\n",
    "#     sheets3 = df_det.astype({'frm': 'str'}).set_index(df_det.columns[0]).loc[spl2:].reset_index().iloc[1:]\n",
    "\n",
    "excel_sheets = {\n",
    "    f'1 - {sheet_name0}' : sheets0 \n",
    "#         ,f'2 - {sheet_name1}' : sheets1 \n",
    "#         ,f'3 - {sheet_name2}' : sheets2 \n",
    "#         ,f'4 - {sheet_name3}' : sheets3 \n",
    "    }\n",
    "excel_writer = pd.ExcelWriter( temp_tmp + AmazonS3_file_name, engine='xlsxwriter' )\n",
    "\n",
    "if df_.shape[0] != 0:\n",
    "    for sheet_name in excel_sheets.keys():\n",
    "        excel_sheets[sheet_name].iloc[:,:].to_excel(excel_writer, sheet_name=sheet_name, index=False)\n",
    "        print(\n",
    "f'''\\\n",
    "{ colored( str(eval(sheet_name[0])) + 'й лист в excel:', 'red')}\\n\\\n",
    "{colored(sheet_name, 'green')} \\nболее детальная информация в файле по пути:\\n\\\n",
    "{colored(AmazonS3_full_path, 'blue', attrs=[\"underline\",\"bold\"])} \\n\\\n",
    "!! Идет запись в файл пожалуйста подождите  \\n\\\n",
    "''')\n",
    "    excel_writer.save()\n",
    "else:\n",
    "    False \n",
    "\n",
    "print('Запись в файл завершена!\\n\\nИдет запись в облако\\n\\n') #\n",
    "\n",
    "try:\n",
    "    Amazon_owncloud.put_file( \n",
    "#           полный путь и там и там!!! \n",
    "        AmazonS3_full_path, temp_tmp + AmazonS3_file_name )  \n",
    "    print( f'Файл записан в облако\\n{AmazonS3_full_path} ' )\n",
    "except:\n",
    "    print( f'Возникли проблемы при записи в облако{AmazonS3_full_path}'   )\n",
    "\n",
    "os.remove(temp_tmp + AmazonS3_file_name)\n",
    "display(HTML(fr\"\"\"<a href=\"{public_link}\">Ссылка на nextcloud.e2e4.ru</a>\"\"\"))\n"
   ]
  },
  {
   "cell_type": "code",
   "execution_count": null,
   "id": "9bc1475d",
   "metadata": {},
   "outputs": [],
   "source": []
  },
  {
   "cell_type": "code",
   "execution_count": null,
   "id": "33243cfe",
   "metadata": {},
   "outputs": [],
   "source": []
  }
 ],
 "metadata": {
  "hide_input": false,
  "kernelspec": {
   "display_name": "python39-spark-conda",
   "language": "python",
   "name": "python39-spark-conda"
  },
  "language_info": {
   "codemirror_mode": {
    "name": "ipython",
    "version": 3
   },
   "file_extension": ".py",
   "mimetype": "text/x-python",
   "name": "python",
   "nbconvert_exporter": "python",
   "pygments_lexer": "ipython3",
   "version": "3.9.7"
  },
  "toc": {
   "base_numbering": 1,
   "nav_menu": {},
   "number_sections": false,
   "sideBar": true,
   "skip_h1_title": false,
   "title_cell": "Table of Contents",
   "title_sidebar": "Contents",
   "toc_cell": false,
   "toc_position": {
    "height": "1076px",
    "left": "58px",
    "top": "324px",
    "width": "268px"
   },
   "toc_section_display": true,
   "toc_window_display": true
  },
  "varInspector": {
   "cols": {
    "lenName": 16,
    "lenType": 16,
    "lenVar": 40
   },
   "kernels_config": {
    "python": {
     "delete_cmd_postfix": "",
     "delete_cmd_prefix": "del ",
     "library": "var_list.py",
     "varRefreshCmd": "print(var_dic_list())"
    },
    "r": {
     "delete_cmd_postfix": ") ",
     "delete_cmd_prefix": "rm(",
     "library": "var_list.r",
     "varRefreshCmd": "cat(var_dic_list()) "
    }
   },
   "types_to_exclude": [
    "module",
    "function",
    "builtin_function_or_method",
    "instance",
    "_Feature"
   ],
   "window_display": false
  }
 },
 "nbformat": 4,
 "nbformat_minor": 5
}
