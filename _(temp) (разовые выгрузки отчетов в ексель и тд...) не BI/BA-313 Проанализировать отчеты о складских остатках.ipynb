{
 "cells": [
  {
   "cell_type": "markdown",
   "id": "e4f47613",
   "metadata": {
    "ExecuteTime": {
     "end_time": "2021-12-07T11:30:13.869519Z",
     "start_time": "2021-12-07T11:30:13.866262Z"
    }
   },
   "source": [
    "# BA-313 Проанализировать отчеты о складских остатках"
   ]
  },
  {
   "cell_type": "markdown",
   "id": "32e9f96c",
   "metadata": {
    "ExecuteTime": {
     "end_time": "2021-12-07T11:33:08.249494Z",
     "start_time": "2021-12-07T11:33:08.247377Z"
    }
   },
   "source": [
    "## magic"
   ]
  },
  {
   "cell_type": "code",
   "execution_count": 97,
   "id": "c6f70f83",
   "metadata": {
    "ExecuteTime": {
     "end_time": "2021-12-08T11:00:24.168393Z",
     "start_time": "2021-12-08T11:00:24.107249Z"
    }
   },
   "outputs": [],
   "source": [
    "# magic\n",
    "############################################################\n",
    "# magic не запускаются с посмощью run !! поэтому отдельно будут тут! # %magic # посмотреть список magic команд\n",
    "%matplotlib inline\n",
    "\n",
    "# run files\n",
    "%run /srv/jhub/share/._Additions/Import_libs.py\n",
    "%run /srv/jhub/share/._Additions/Connecting_bi_admin.py\n",
    "%run /srv/jhub/share/._Additions/my_script.py\n",
    "%run /srv/jhub/share/._Additions/Date_gen.py\n",
    "%run /srv/jhub/share/._Additions/xx.py\n",
    "\n",
    "# print\n",
    "###########################\n",
    "#################################\n",
    "# print(\n",
    "# df_test_xx.shape, '\\n'\n",
    "# ,abs_path, '\\n' # abs_path - путь до шары (видна всем езерам - '/srv/jhub/share/')\n",
    "# ,path_OUT_dbDATA, '\\n'\n",
    "# ,date_start, date_end, '\\n'\n",
    "# )\n",
    "############################## End ##############################"
   ]
  },
  {
   "cell_type": "code",
   "execution_count": 98,
   "id": "31f94f8d",
   "metadata": {
    "ExecuteTime": {
     "end_time": "2021-12-08T11:00:25.189393Z",
     "start_time": "2021-12-08T11:00:24.842923Z"
    }
   },
   "outputs": [
    {
     "name": "stdout",
     "output_type": "stream",
     "text": [
      "\u001b[34mДанные с jira \n",
      "(подтягиваются автоматически и обнавляются при запуске)\u001b[0m\n"
     ]
    },
    {
     "data": {
      "application/vnd.jupyter.widget-view+json": {
       "model_id": "54a44521cc794a8cb6e8e366c2b3d0dd",
       "version_major": 2,
       "version_minor": 0
      },
      "text/plain": [
       "HTML(value=\"<a href='\\nhttps://jira.e2e4.ru/browse/BA-313\\n'>\\nhttps://jira.e2e4.ru/browse/BA-313\\n</a>\")"
      ]
     },
     "metadata": {},
     "output_type": "display_data"
    },
    {
     "name": "stdout",
     "output_type": "stream",
     "text": [
      "\u001b[1m\u001b[31mБизнес аналитика / BA-313\u001b[0m \n",
      "\n",
      "    \u001b[1m\u001b[34mПроанализировать отчеты о складских остатках\u001b[0m \n",
      "\n",
      "\n",
      "    \u001b[1mОписание\u001b[0m: \n",
      "    \n",
      "С целью сверки складских остатков и введения с  2022 года номенклатурного учета необходимо выяснить причину отклонений в отчетах в фоновых задачах \n",
      "\"Складские остатки на дату\" и \"Складские остатки на дату (в разрезе складов)\".\n",
      "По состоянию на 02.12.2021 разница в количестве составила 3618 шт.\n",
      "Просьба для детального анализа в отчет \"Складские остатки на дату\" добавить колонку с состоянием позиции и сделать выгрузку в Excel\n",
      "\n",
      "    \n"
     ]
    }
   ],
   "source": [
    "# выводим спарсенные данные с жиры описание и тд....\n",
    "task_link = '''\n",
    "https://jira.e2e4.ru/browse/BA-\\\n",
    "313\n",
    "'''\n",
    "tasks(loginAtlassianjhubAdmin, passwordAtlassianjhubAdmin, task_link)"
   ]
  },
  {
   "cell_type": "code",
   "execution_count": 99,
   "id": "e3dc1d7e",
   "metadata": {
    "ExecuteTime": {
     "end_time": "2021-12-08T11:00:25.775982Z",
     "start_time": "2021-12-08T11:00:25.772094Z"
    }
   },
   "outputs": [
    {
     "data": {
      "text/plain": [
       "'/home/slebedev/jhub-analytics/_temp (разовые выгрузки отчетов в ексель и тд...)/BA-313 Проанализировать отчеты о складских остатках'"
      ]
     },
     "execution_count": 99,
     "metadata": {},
     "output_type": "execute_result"
    }
   ],
   "source": [
    "folder_out = os.getcwd()\n",
    "file_name = '/BA-313 Проанализировать отчеты о складских остатках'\n",
    "\n",
    "folder_out + file_name"
   ]
  },
  {
   "cell_type": "code",
   "execution_count": 100,
   "id": "08535538",
   "metadata": {
    "ExecuteTime": {
     "end_time": "2021-12-08T11:00:27.325337Z",
     "start_time": "2021-12-08T11:00:27.321820Z"
    }
   },
   "outputs": [
    {
     "data": {
      "text/plain": [
       "('/home/slebedev/jhub-analytics/_temp (разовые выгрузки отчетов в ексель и тд...)',\n",
       " '/BA-313 Проанализировать отчеты о складских остатках')"
      ]
     },
     "execution_count": 100,
     "metadata": {},
     "output_type": "execute_result"
    }
   ],
   "source": [
    "folder_out, file_name"
   ]
  },
  {
   "cell_type": "code",
   "execution_count": 101,
   "id": "333afa4a",
   "metadata": {
    "ExecuteTime": {
     "end_time": "2021-12-08T11:00:29.962253Z",
     "start_time": "2021-12-08T11:00:29.956466Z"
    }
   },
   "outputs": [
    {
     "data": {
      "application/javascript": [
       "IPython.notebook.kernel.execute('notebook_name = \"' + IPython.notebook.notebook_name + '\"');"
      ]
     },
     "metadata": {},
     "output_type": "display_data"
    },
    {
     "data": {
      "application/javascript": [
       "IPython.notebook.kernel.execute('notebook_path = \"' + IPython.notebook.notebook_path + '\"');"
      ]
     },
     "metadata": {},
     "output_type": "display_data"
    }
   ],
   "source": [
    "def get_notebook_name():\n",
    "    \"\"\"Execute JS code to save Jupyter notebook name to variable `notebook_name`\"\"\"\n",
    "    from IPython.core.display import Javascript, display_javascript\n",
    "    js = Javascript(\"\"\"IPython.notebook.kernel.execute('notebook_name = \"' + IPython.notebook.notebook_name + '\"');\"\"\")\n",
    "    return display_javascript(js)\n",
    "\n",
    "def get_notebook_path():\n",
    "    \"\"\"Execute JS code to save Jupyter notebook path to variable `notebook_path`\"\"\"\n",
    "    from IPython.core.display import Javascript, display_javascript\n",
    "    js = Javascript(\"\"\"IPython.notebook.kernel.execute('notebook_path = \"' + IPython.notebook.notebook_path + '\"');\"\"\")\n",
    "    return display_javascript(js)\n",
    "\n",
    "# execute javascript\n",
    "get_notebook_name()\n",
    "get_notebook_path()"
   ]
  },
  {
   "cell_type": "code",
   "execution_count": 102,
   "id": "9eeda262",
   "metadata": {
    "ExecuteTime": {
     "end_time": "2021-12-08T11:00:31.793496Z",
     "start_time": "2021-12-08T11:00:31.788303Z"
    }
   },
   "outputs": [
    {
     "name": "stdout",
     "output_type": "stream",
     "text": [
      "notebook_name='BA-313 Проанализировать отчеты о складских остатках.ipynb'\n",
      "notebook_path='jhub-analytics/_temp (разовые выгрузки отчетов в ексель и тд...)/BA-313 Проанализировать отчеты о складских остатках.ipynb'\n"
     ]
    },
    {
     "data": {
      "text/plain": [
       "\"notebook_name='BA-313 Проанализировать отчеты о складских остатках.ipynb'\""
      ]
     },
     "execution_count": 102,
     "metadata": {},
     "output_type": "execute_result"
    }
   ],
   "source": [
    "print(f\"{notebook_name=}\")\n",
    "print(f\"{notebook_path=}\")\n",
    "\n",
    "f\"{notebook_name=}\""
   ]
  },
  {
   "cell_type": "markdown",
   "id": "20c61906",
   "metadata": {
    "ExecuteTime": {
     "end_time": "2021-12-07T11:33:34.325582Z",
     "start_time": "2021-12-07T11:33:34.323627Z"
    }
   },
   "source": [
    "## Качнуть за какую то опредлеленную дату\n"
   ]
  },
  {
   "cell_type": "code",
   "execution_count": 103,
   "id": "01f8c062",
   "metadata": {
    "ExecuteTime": {
     "end_time": "2021-12-08T11:00:34.536341Z",
     "start_time": "2021-12-08T11:00:34.532651Z"
    }
   },
   "outputs": [
    {
     "data": {
      "text/plain": [
       "'/home/slebedev/jhub-analytics/_temp (разовые выгрузки отчетов в ексель и тд...)/BA-313 Проанализировать отчеты о складских остатках 02-12-2021 '"
      ]
     },
     "execution_count": 103,
     "metadata": {},
     "output_type": "execute_result"
    }
   ],
   "source": [
    "#  Качнуть за какую то опредлеленную дату\n",
    "date_start = '02-12-2021'\n",
    "date_end = '' # ЕЕ НЕТ\n",
    "\n",
    "full_path_out  = folder_out + file_name + fr' { date_start } { date_end }'\n",
    "full_path_out"
   ]
  },
  {
   "cell_type": "markdown",
   "id": "c4970b9a",
   "metadata": {
    "ExecuteTime": {
     "end_time": "2021-12-07T11:33:55.970950Z",
     "start_time": "2021-12-07T11:33:55.967849Z"
    }
   },
   "source": [
    "## SQL"
   ]
  },
  {
   "cell_type": "code",
   "execution_count": 125,
   "id": "13d361a8",
   "metadata": {
    "ExecuteTime": {
     "end_time": "2021-12-08T15:38:11.799286Z",
     "start_time": "2021-12-08T15:38:11.791454Z"
    },
    "code_folding": []
   },
   "outputs": [],
   "source": [
    "# DATE_START_replce date_start\n",
    "# DATE_END_replce date_end\n",
    "\n",
    "sql_313 = f'''\n",
    "    /** StoreRemainsTask 39 064 02-12-2021\n",
    "     * MAIN-996 Сделать выгрузку в эксель складских остатков на конкретную дату \n",
    "     * 02-12-2021\n",
    "     * Витрина; На другом складе (серийник выбран); На складе выдачи (серийник выбран); Ответственное хранение; \n",
    "     * Перемещается (серийник выбран) - в этих состояниях товар должен быть на складе, даже есть data_sold\n",
    "     * 24 4 3 28 15\n",
    "     */\n",
    "\n",
    "    --ois.name \"Состояние позиции заказа\"\n",
    "    --1\tNOT_IN_WORK\tНе оформлена\n",
    "    --2\tDELETED\tУдалена\n",
    "    --3\tSELECTED_ON_STORAGE\tНа складе выдачи (серийник выбран)\n",
    "    --4\tSELECTED_ON_OTHER_STORAGE\tНа другом складе (серийник выбран)\n",
    "    --5\tRESERVED_ON_STORAGE\tНа складе выдачи\n",
    "    --6\tRESERVED_ON_OTHER_STORAGE\tНа другом складе\n",
    "    --7\tREJECTED\tПроблема с приходом\n",
    "    --8\tENTER\tПриходуется\n",
    "    --9\tORDER\tЗапрос на резерв у поставщика\n",
    "    --10\tRESERVED_FROM_SUPPLIER\tВ резерве у поставщика\n",
    "    --11\tTRANSIT_FROM_SUPPLIER\tТранзит от поставщика\n",
    "    --12\tNOT_AVAILABLE\tОтсутствует у поставщика\n",
    "    --13\tSHIPS_SERIAL_SELECTED\tОтгружается (серийник выбран)\n",
    "    --14\tSHIPS\tОтгружается\n",
    "    --15\tTRANSIT_SERIAL_SELECTED\tПеремещается (серийник выбран)\n",
    "    --16\tTRANSIT\tПеремещается\n",
    "    --17\tSERVICE\tСЦ\n",
    "    --18\tSUBSTITUTION\tПодмена\n",
    "    --19\tTEST\tТестируется\n",
    "    --20\tDONATED\tПодарена\n",
    "    --21\tWRITTEN_OFF\tИзрасходовано\n",
    "    --22\tEXPLOITED\tЭксплуатируется\n",
    "    --23\tSOLD\tПродана\n",
    "    --24\tEXHIBITED\tВитрина\n",
    "    --25\tREPLACEMENT\tЗамена по гарантии\n",
    "    --26\tSUBCONTRACT\tСубподряд\n",
    "    --27\tBUNDLED\tКомплект\n",
    "    --28\tSAFEKEEPING\tОтветственное хранение\n",
    "\n",
    "    --        store.arrive_state(in_state text) Получение состояния складкой позиции по кодовому обозначению\n",
    "    --        CASE in_state\n",
    "    --\t        WHEN 'NEW' THEN RETURN 0;                    --неоприходована\n",
    "    --\t        WHEN 'OK' THEN RETURN 1;                     --оприходована\n",
    "    --\t        WHEN 'ERROR' THEN RETURN 2;                  --проблема с поступлением (не приехало или приехало не то)\n",
    "    --\t        WHEN 'TRANSIT' THEN RETURN 3;                --позиция перемещается со склада на склад\n",
    "    --\t        WHEN 'SELECTED_FOR_TRANSIT' THEN RETURN 4;   --позиция выбрана для перемещения на другой склад\n",
    "    --\t        WHEN 'BROKEN' THEN RETURN 7;                 --дефектное оборудование\n",
    "    --\t        WHEN 'IS_WANTED' THEN RETURN 8;              --разыскивается\n",
    "    --\t        WHEN 'MISSING' THEN RETURN 9;                --пропажа\n",
    "    --\t        WHEN 'TO_RECYCLE' THEN RETURN 10;            --на утилизацию\n",
    "    --\t        WHEN 'RECYCLED' THEN RETURN 11;              --утилизирована\n",
    "    --\t        WHEN 'PRESALES_REFIT' THEN RETURN 12;        --предпродажный ремонт\n",
    "    --\t        WHEN 'SERIAL_DELETED' THEN RETURN 999;       --Серийник удален\n",
    "    --\t    ELSE RAISE 'Неизвестное кодовое обозначение состояния складкой позиции [%]', in_state;\n",
    "    --\t    END CASE;\n",
    "\n",
    "\n",
    "    WITH base0 AS (            \n",
    "        SELECT\n",
    "            a.id \"ID заказа\",\n",
    "        --  ,a.i\n",
    "\n",
    "            rp.id,\n",
    "            rp.name,\n",
    "            CASE \n",
    "                WHEN '02-12-2021'::date < '2019-01-01'::date AND rp.nds = payments.id_vat('НДС 20%') THEN payments.id_vat('НДС 18%') /*NDS_CHANGE_DATE = '2019-01-01'*/\n",
    "                ELSE rp.nds\n",
    "            END\tAS nds,\n",
    "            COUNT(s.id) AS quantity,\n",
    "            SUM(s.sprice) AS summa,\n",
    "            s.contragent_id AS contragentId,\n",
    "            gtd.countries_id AS countryId,\n",
    "            gtd.gtd AS gtd,\n",
    "            t.code AS codeType\n",
    "\n",
    "        ,ois.name \"Состояние позиции заказа\"\n",
    "        ,s.arrive \"функцию store.arrive_state\"\n",
    "        ,s.date_buy\n",
    "        ,s.date_sold\n",
    "\n",
    "        FROM opentech.store s\n",
    "        JOIN supplies.payment_types t ON t.id = s.firm\n",
    "        LEFT JOIN opentech.reference_price rp ON rp.id = s.reference_id\n",
    "        LEFT JOIN opentech.gtd ON gtd.id=s.gtd_id\n",
    "        /*Состояние позиции заказа*/\n",
    "        left join opentech.accounts a on a.store_id = s.id\n",
    "        left join orders.item_states ois on ois.id = a.state\n",
    "\n",
    "        WHERE \t\n",
    "            s.date_buy < '02-12-2021'::date\n",
    "            AND \n",
    "            case \n",
    "                when ((s.date_sold IS NULL OR s.date_sold >= '02-12-2021'::date)\n",
    "                    AND s.arrive = ANY(store.arrive_state(ARRAY['NEW', 'OK', 'TRANSIT', 'SELECTED_FOR_TRANSIT']))) then true --39 066+ фон\n",
    "                end \n",
    "        GROUP BY rp.id, s.contragent_id, gtd.countries_id, gtd.gtd, t.code\n",
    "            ,ois.name  ,s.arrive, a.id ,s.date_buy ,s.date_sold\n",
    "            --\t,a.i\n",
    "\n",
    "    )\n",
    "    , base1 AS (            \n",
    "        SELECT\n",
    "        a.id \"ID заказа\",\n",
    "        --  ,a.i\n",
    "\n",
    "            rp.id,\n",
    "            rp.name,\n",
    "            CASE \n",
    "                WHEN '02-12-2021'::date < '2019-01-01'::date AND rp.nds = payments.id_vat('НДС 20%') THEN payments.id_vat('НДС 18%') /*NDS_CHANGE_DATE = '2019-01-01'*/\n",
    "                ELSE rp.nds\n",
    "            END\tAS nds,\n",
    "            COUNT(s.id) AS quantity,\n",
    "            SUM(s.sprice) AS summa,\n",
    "            s.contragent_id AS contragentId,\n",
    "            gtd.countries_id AS countryId,\n",
    "            gtd.gtd AS gtd,\n",
    "            t.code AS codeType\n",
    "\n",
    "        ,ois.name \"Состояние позиции заказа\"\n",
    "        ,s.arrive \"функцию store.arrive_state\"\n",
    "        ,s.date_buy\n",
    "        ,s.date_sold\n",
    "\n",
    "\n",
    "        FROM opentech.store s\n",
    "        JOIN supplies.payment_types t ON t.id = s.firm\n",
    "        LEFT JOIN opentech.reference_price rp ON rp.id = s.reference_id\n",
    "        LEFT JOIN opentech.gtd ON gtd.id=s.gtd_id\n",
    "        /*Состояние позиции заказа*/\n",
    "        left join opentech.accounts a on a.store_id = s.id\n",
    "        left join orders.item_states ois on ois.id = a.state\n",
    "\n",
    "        WHERE \t\n",
    "            s.date_buy < '02-12-2021'::date\n",
    "            AND \n",
    "            case \n",
    "                when ((s.date_sold IS not NULL and ois.id = any(array[24, 4, 3, 28, 15])) \n",
    "                    and (s.date_sold IS NULL OR s.date_sold >= '02-12-2021'::date)) then true --1 186+ фон\n",
    "                end \n",
    "        GROUP BY rp.id, s.contragent_id, gtd.countries_id, gtd.gtd, t.code\n",
    "                ,ois.name  ,s.arrive, a.id ,s.date_buy ,s.date_sold\n",
    "            --\t,a.i\n",
    "\n",
    "    )\n",
    "\n",
    "    , base AS (\n",
    "    select * from base0\n",
    "    union all\n",
    "    select * from base1\n",
    "    )\n",
    "\n",
    "    , end_all as(\n",
    "    SELECT \n",
    "\n",
    "    --    array_to_string(array_agg( distinct \"Состояние позиции заказа\" ),'; ') \"Состояние позиции заказа\"\n",
    "    --    ,array_to_string(array_agg( distinct \"функцию store.arrive_state\" ),'; ') \"функцию store.arrive_state\"\n",
    "\n",
    "            \"ID заказа\",\n",
    "    --\t\t,i\n",
    "\n",
    "        b.id AS \"Код\",\n",
    "        b.name AS \"Наименование\",\n",
    "        b.quantity::int AS \"Количество\",\n",
    "        round( summa * 100 / (100 + COALESCE(nds.value, 0)), 2 ) AS \"Сумма без НДС, руб.\",\n",
    "        round( summa * COALESCE(nds.value, 0) / (100 + COALESCE(nds.value, 0)), 2 ) AS \"Сумма НДС, руб.\",\n",
    "        c.aname AS \"Поставщик\",\n",
    "        pc.name AS \"Страна\",\n",
    "        b.gtd AS \"Номер ГТД\",\n",
    "        b.codeType AS \"Тип\"\n",
    "\n",
    "            ,\"Состояние позиции заказа\"\n",
    "            ,case  \n",
    "                when \"функцию store.arrive_state\" = 0 then 'неоприходована'\n",
    "                when \"функцию store.arrive_state\" = 1 then 'оприходована'\n",
    "                when \"функцию store.arrive_state\" = 3 then 'позиц перемещ со скл на склад'\n",
    "                when \"функцию store.arrive_state\" = 4 then 'поз выбр для перем на друг скл'\n",
    "                end \"функцию store.arrive_state\"\n",
    "\n",
    "            ,date_buy::date \"Время поступл на склад приходов\"\n",
    "            ,date_sold::date \"Время отгрузки\"\n",
    "\n",
    "    from base b\n",
    "    join opentech.customers c on c.id = b.contragentid\n",
    "    left join public.nds nds on nds.id = b.nds\n",
    "    left join public.countries pc on pc.id = b.countryid\n",
    "    --where \n",
    "    --\tb.id in (187420 \n",
    "    --\t,771590, 917730\n",
    "    --\t)\n",
    "    order by b.name\n",
    "    )\n",
    "    --select count(*) from end_all ea\n",
    "\n",
    "    select \n",
    "        *\n",
    "    from end_all ea\n",
    "\n",
    "\n",
    "        '''\n"
   ]
  },
  {
   "cell_type": "markdown",
   "id": "f272c08b",
   "metadata": {
    "ExecuteTime": {
     "end_time": "2021-12-07T12:15:43.315702Z",
     "start_time": "2021-12-07T12:15:43.313453Z"
    }
   },
   "source": [
    "## коннектимся, подставляем даты, сохраняем в файл"
   ]
  },
  {
   "cell_type": "code",
   "execution_count": 126,
   "id": "dc1c0eee",
   "metadata": {
    "ExecuteTime": {
     "end_time": "2021-12-08T15:38:12.230314Z",
     "start_time": "2021-12-08T15:38:12.227173Z"
    }
   },
   "outputs": [
    {
     "data": {
      "text/plain": [
       "'/home/slebedev/jhub-analytics/_temp (разовые выгрузки отчетов в ексель и тд...)/BA-313 Проанализировать отчеты о складских остатках 02-12-2021 .xlsx'"
      ]
     },
     "execution_count": 126,
     "metadata": {},
     "output_type": "execute_result"
    }
   ],
   "source": [
    "full_path_out + '.csv'\n",
    "full_path_out + '.xlsx'"
   ]
  },
  {
   "cell_type": "code",
   "execution_count": 127,
   "id": "8318be5b",
   "metadata": {
    "ExecuteTime": {
     "end_time": "2021-12-08T15:40:20.945456Z",
     "start_time": "2021-12-08T15:38:12.446234Z"
    },
    "scrolled": false
   },
   "outputs": [
    {
     "name": "stdout",
     "output_type": "stream",
     "text": [
      "       ID заказа     Код                                       Наименование  \\\n",
      "0            NaN  849042  045H Картридж EasyPrint LC-045H BK для Canon i...   \n",
      "1            NaN  849042  045H Картридж EasyPrint LC-045H BK для Canon i...   \n",
      "2            NaN  849043  045H Картридж EasyPrint LC-045H C для Canon i-...   \n",
      "3            NaN  849044  045H Картридж EasyPrint LC-045H M для Canon i-...   \n",
      "4            NaN  849045  045H Картридж EasyPrint LC-045H Y для Canon i-...   \n",
      "...          ...     ...                                                ...   \n",
      "73486        NaN  754005  Ящик с органайзером 46смx23смx20.5см, комбинир...   \n",
      "73487        NaN  754002  Ящик с органайзером 58.5смx29.5смx29.5см, плас...   \n",
      "73488  6375136.0  754002  Ящик с органайзером 58.5смx29.5смx29.5см, плас...   \n",
      "73489  6372163.0  754002  Ящик с органайзером 58.5смx29.5смx29.5см, плас...   \n",
      "73490        NaN  753950  Ящик с органайзером 58смx32смx28см, пластик, р...   \n",
      "\n",
      "       Количество  Сумма без НДС, руб.  Сумма НДС, руб.  \\\n",
      "0              10              5442.50          1088.50   \n",
      "1               2              1099.02           219.80   \n",
      "2               9              4898.25           979.65   \n",
      "3               7              3809.75           761.95   \n",
      "4               9              4898.25           979.65   \n",
      "...           ...                  ...              ...   \n",
      "73486           1              1621.67           324.33   \n",
      "73487           1               793.33           158.67   \n",
      "73488           1               793.33           158.67   \n",
      "73489           1               793.33           158.67   \n",
      "73490           1              1040.00           208.00   \n",
      "\n",
      "                         Поставщик  Страна                   Номер ГТД Тип  \\\n",
      "0      ТонерОптТорг ответ хранение    None                              ОТ   \n",
      "1      ТонерОптТорг ответ хранение    None                              ОТ   \n",
      "2      ТонерОптТорг ответ хранение    None                              ОТ   \n",
      "3      ТонерОптТорг ответ хранение    None                              ОТ   \n",
      "4      ТонерОптТорг ответ хранение    None                              ОТ   \n",
      "...                            ...     ...                         ...  ..   \n",
      "73486                         Zubr   КИТАЙ  10702070/190721/0218682/01  ОТ   \n",
      "73487                         Zubr  РОССИЯ                              ОТ   \n",
      "73488                         Zubr  РОССИЯ                              ОТ   \n",
      "73489                         Zubr  РОССИЯ                              ОТ   \n",
      "73490                         Zubr  РОССИЯ                              ОТ   \n",
      "\n",
      "      Состояние позиции заказа функцию store.arrive_state  \\\n",
      "0                         None               оприходована   \n",
      "1                         None               оприходована   \n",
      "2                         None               оприходована   \n",
      "3                         None               оприходована   \n",
      "4                         None               оприходована   \n",
      "...                        ...                        ...   \n",
      "73486                     None               оприходована   \n",
      "73487                     None               оприходована   \n",
      "73488                  Продана               оприходована   \n",
      "73489                  Продана               оприходована   \n",
      "73490                     None               оприходована   \n",
      "\n",
      "      Время поступл на склад приходов Время отгрузки  \n",
      "0                          2021-10-06           None  \n",
      "1                          2021-08-25           None  \n",
      "2                          2021-10-06           None  \n",
      "3                          2021-10-06           None  \n",
      "4                          2021-10-06           None  \n",
      "...                               ...            ...  \n",
      "73486                      2021-11-19           None  \n",
      "73487                      2021-11-19           None  \n",
      "73488                      2021-12-01     2021-12-08  \n",
      "73489                      2021-11-12     2021-12-08  \n",
      "73490                      2021-11-19           None  \n",
      "\n",
      "[73491 rows x 14 columns] \n",
      "\n",
      "\n",
      " date_start - 02-12-2021 date_start - \n",
      "\n",
      "\n",
      "\n",
      "*** End ***\n",
      "\n",
      "\n",
      "\n"
     ]
    }
   ],
   "source": [
    "df_fon = pd.DataFrame()\n",
    "#   коннектимся\n",
    "with psycopg2.connect(dbname=database, user=user, password=password, host=host) as cnxn:\n",
    "#   , подставляем даты\n",
    "    df_fon = pd.read_sql_query( sql_313\n",
    "#                                .replace('DATE_START_replce', f'{ date_start }')\n",
    "#                                .replace('DATE_END_replce', f'{ date_end }')\n",
    "                               ,cnxn)\n",
    "    \n",
    "# to_csv\n",
    "df_fon.to_csv(\n",
    "    full_path_out + '.csv' \\\n",
    "    , sep=';',  index=True) # cp-1251 encoding='UTF-8', engine='xlsxwriter'\n",
    "\n",
    "# to_excel\n",
    "df_fon.to_excel(\n",
    "    full_path_out + '.xlsx' \\\n",
    "    , index=False ) # cp-1251 encoding='UTF-8', engine='xlsxwriter'\n",
    "\n",
    "print(df_fon, '\\n\\n\\n', f'date_start - {date_start}', f'date_start - {date_end}')\n",
    "print('\\n\\n\\n*** End ***\\n\\n\\n')"
   ]
  },
  {
   "cell_type": "code",
   "execution_count": 128,
   "id": "e9468467",
   "metadata": {
    "ExecuteTime": {
     "end_time": "2021-12-08T15:40:20.970285Z",
     "start_time": "2021-12-08T15:40:20.968243Z"
    }
   },
   "outputs": [],
   "source": [
    "# sql_313"
   ]
  },
  {
   "cell_type": "code",
   "execution_count": null,
   "id": "03e629ed",
   "metadata": {},
   "outputs": [],
   "source": [
    "#  OperationalError: terminating connection due to idle-in-transaction timeout\n",
    "# server closed the connection unexpectedly\n",
    "# \tThis probably means the server terminated abnormally\n",
    "# \tbefore or while processing the request."
   ]
  },
  {
   "cell_type": "code",
   "execution_count": null,
   "id": "d5e7d425",
   "metadata": {},
   "outputs": [],
   "source": []
  },
  {
   "cell_type": "code",
   "execution_count": null,
   "id": "af5784d2",
   "metadata": {},
   "outputs": [],
   "source": []
  },
  {
   "cell_type": "code",
   "execution_count": null,
   "id": "eda32fdd",
   "metadata": {},
   "outputs": [],
   "source": []
  },
  {
   "cell_type": "code",
   "execution_count": null,
   "id": "a514510e",
   "metadata": {},
   "outputs": [],
   "source": []
  }
 ],
 "metadata": {
  "hide_input": false,
  "kernelspec": {
   "display_name": "python39-spark-conda",
   "language": "python",
   "name": "python39-spark-conda"
  },
  "language_info": {
   "codemirror_mode": {
    "name": "ipython",
    "version": 3
   },
   "file_extension": ".py",
   "mimetype": "text/x-python",
   "name": "python",
   "nbconvert_exporter": "python",
   "pygments_lexer": "ipython3",
   "version": "3.9.7"
  },
  "toc": {
   "base_numbering": 1,
   "nav_menu": {},
   "number_sections": false,
   "sideBar": true,
   "skip_h1_title": false,
   "title_cell": "Table of Contents",
   "title_sidebar": "Contents",
   "toc_cell": false,
   "toc_position": {
    "height": "calc(100% - 180px)",
    "left": "10px",
    "top": "150px",
    "width": "445px"
   },
   "toc_section_display": true,
   "toc_window_display": true
  },
  "varInspector": {
   "cols": {
    "lenName": 16,
    "lenType": 16,
    "lenVar": 40
   },
   "kernels_config": {
    "python": {
     "delete_cmd_postfix": "",
     "delete_cmd_prefix": "del ",
     "library": "var_list.py",
     "varRefreshCmd": "print(var_dic_list())"
    },
    "r": {
     "delete_cmd_postfix": ") ",
     "delete_cmd_prefix": "rm(",
     "library": "var_list.r",
     "varRefreshCmd": "cat(var_dic_list()) "
    }
   },
   "types_to_exclude": [
    "module",
    "function",
    "builtin_function_or_method",
    "instance",
    "_Feature"
   ],
   "window_display": false
  }
 },
 "nbformat": 4,
 "nbformat_minor": 5
}
