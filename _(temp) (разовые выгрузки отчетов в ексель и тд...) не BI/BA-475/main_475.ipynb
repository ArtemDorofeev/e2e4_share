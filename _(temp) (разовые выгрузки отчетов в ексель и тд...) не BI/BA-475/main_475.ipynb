{
 "cells": [
  {
   "cell_type": "code",
   "execution_count": 1,
   "id": "ce91064c-1f17-42e7-a963-ceb342799a20",
   "metadata": {},
   "outputs": [],
   "source": [
    "import pandas as pd\n",
    "import numpy as np\n",
    "import requests\n",
    "import glob\n",
    "import os\n",
    "from glob import glob\n",
    "from os import getcwd\n",
    "import owncloud\n",
    "import json\n",
    "import time\n",
    "import csv"
   ]
  },
  {
   "cell_type": "code",
   "execution_count": 2,
   "id": "d966d3f3-1846-45bc-a5d3-120fd6fb0169",
   "metadata": {},
   "outputs": [],
   "source": [
    "# Функции для БД\n",
    "from Q475_sql import db_connect\n",
    "from Q475_sql import query\n",
    "from Q475_sql import sql_query\n",
    "from Q475_sql import sql_query1"
   ]
  },
  {
   "cell_type": "code",
   "execution_count": 100,
   "id": "9aa28e28-037a-4822-8d89-cfbf4b2933c7",
   "metadata": {},
   "outputs": [],
   "source": [
    "loginAtlassianjhubAdmin = \"adorofeev\"\n",
    "passwordAtlassianjhubAdmin = \"$ZM~2(p}^i27Qz'J\"\n",
    "    \n",
    "#     link AmazonS3 nextcloud client login\n",
    "amazon_owncloud_client = owncloud.Client('https://nextcloud.e2e4.ru')\n",
    "#     amazon_owncloud_client = 'https://nextcloud.e2e4.ru'\n",
    "amazon_owncloud_client.login(loginAtlassianjhubAdmin, passwordAtlassianjhubAdmin)\n",
    "\n",
    "AmazonS3_folder_Public = r'/Public/Отчеты (выгрузка jupyter notebooks)'\n",
    "AmazonS3_path_to_file = r'/Проверка на ДУБЛИ (\"ID клиента\" - Аутсорсер, Обслуживающая компания) [АВТОЗАПУСК] Источники для BI (Справочники).py Клиенты (справочник)/'\n",
    "\n",
    "AmazonS3_full_path_customer = AmazonS3_folder_Public + AmazonS3_path_to_file + r'Cтатус ЮЛ'"
   ]
  },
  {
   "cell_type": "code",
   "execution_count": 4,
   "id": "11f4edbd-af11-4201-be4d-d8f9ffd0ffbf",
   "metadata": {},
   "outputs": [],
   "source": [
    "temp_tmp = glob('/tmp', recursive = True)[0] + '/'"
   ]
  },
  {
   "cell_type": "code",
   "execution_count": 5,
   "id": "11ecd467-f586-432b-8aa5-8ba2b1407755",
   "metadata": {},
   "outputs": [
    {
     "name": "stdout",
     "output_type": "stream",
     "text": [
      "1. Соединение с PostgreSQL установлено. Загружаем данные...\n",
      "2. Заказы успешно выгружены\n",
      "3. Соединение с PostgreSQL закрыто\n"
     ]
    }
   ],
   "source": [
    "sql_query = sql_query()\n",
    "df_rep = query(sql_query)"
   ]
  },
  {
   "cell_type": "code",
   "execution_count": null,
   "id": "c0e72001-646d-485c-b292-d52bc780b84a",
   "metadata": {
    "jupyter": {
     "source_hidden": true
    },
    "tags": []
   },
   "outputs": [],
   "source": [
    "# Выгружаем список кастомеров\n",
    "\n",
    "sql_query1 = sql_query1()\n",
    "df_cast = query(sql_query1)\n",
    "df_ul = df_cast[df_cast['inn'].notna()]"
   ]
  },
  {
   "cell_type": "markdown",
   "id": "530c4a94-3f95-4c85-ada1-95e6dc1c526e",
   "metadata": {},
   "source": [
    "Парсим данные с fek.ru"
   ]
  },
  {
   "cell_type": "code",
   "execution_count": null,
   "id": "ce0f6ace-abc8-4d77-a225-50c921968f2b",
   "metadata": {
    "jupyter": {
     "source_hidden": true
    },
    "tags": []
   },
   "outputs": [],
   "source": [
    "link = 'https://fek.ru/search-company?query={}'\n",
    "\n",
    "def get_json(query):\n",
    "    #time.sleep(1)\n",
    "    session = requests.session()\n",
    "    session.headers = {\n",
    "        \"User-Agent\": \"Mozilla/5.0 (Windows NT 10.0; Win64; x64) AppleWebKit/537.36 (KHTML, like Gecko) Chrome/107.0.0.0 Safari/537.36\",\n",
    "        \"Accept-language\": \"ru-RU,ru;q=0.9,en-US;q=0.8,en;q=0.7\"\n",
    "    }\n",
    "\n",
    "    res = session.get(link.format(query))\n",
    "    res.encoding = 'utf8'\n",
    "    html = res.text\n",
    "    js = json.loads(html)\n",
    "    return js\n",
    "\n",
    "def get_status(js, inn):\n",
    "    for i in js['suggestions']:\n",
    "        kod = i['data']['inn']\n",
    "        if kod == inn:\n",
    "            status = i['data']['state']['status']\n",
    "            break\n",
    "        else:\n",
    "            status = 'ИНН не найден'\n",
    "            continue\n",
    "    return status\n",
    "\n",
    "def parse(row):\n",
    "    try:\n",
    "        json_response = get_json(row)\n",
    "        if json_response['suggestions']:\n",
    "            status = get_status(json_response, row)\n",
    "        else:\n",
    "            status = 'Статус не получен'+json_response['message']\n",
    "        return status\n",
    "    except Exception as e:\n",
    "        return e"
   ]
  },
  {
   "cell_type": "code",
   "execution_count": null,
   "id": "0581f496-6ea3-4797-abda-b678df5effa9",
   "metadata": {
    "jupyter": {
     "source_hidden": true
    },
    "tags": []
   },
   "outputs": [],
   "source": [
    "# Настройки для парсинга\n",
    "\n",
    "x = 60000 #стартовый индекс\n",
    "n = 1000 # размер партиции\n",
    "m = 7 # Количество партиций\n",
    "\n",
    "name_file = 'parse_fek.ru_part_{}'"
   ]
  },
  {
   "cell_type": "code",
   "execution_count": null,
   "id": "5fe08693-583d-4bc0-a63b-a248df92e3db",
   "metadata": {
    "jupyter": {
     "source_hidden": true
    },
    "tags": []
   },
   "outputs": [],
   "source": [
    "# Запуск парсера!!!\n",
    "\n",
    "for i in range(8):    \n",
    "    for _ in range(m):\n",
    "        df = df_ul.iloc[x:x+n]\n",
    "        x += n\n",
    "        df['status'] = df['inn'].apply(parse)\n",
    "        df.to_csv(temp_tmp + name_file.format(x) + '.csv', sep = ';', index=False)\n",
    "        \n",
    "    df_excel = pd.DataFrame()\n",
    "    ind = x - m*n\n",
    "    for j in range(ind+n, x+1, n):\n",
    "        file = temp_tmp + name_file.format(j) + '.csv'    \n",
    "        d = pd.read_csv(file, sep = ';')\n",
    "        df_excel = pd.concat([df_excel, d], ignore_index = True)\n",
    "        os.remove(file)\n",
    "    df_excel.to_excel(temp_tmp + AmazonS3_full_path_customer.split('/')[-1]+ str(i) + '.xlsx',  index=False, encoding='cp-1251') #   to_excel\n",
    "\n",
    "df_total = pd.DataFrame()\n",
    "for k in range(8):\n",
    "    tab = temp_tmp + AmazonS3_full_path_customer.split('/')[-1]+ str(k) + '.xlsx'\n",
    "    t = pd.read_excel(tab)\n",
    "    df_total = pd.concat([df_total, t], ignore_index = True)\n",
    "    os.remove(tab)\n",
    "df_total.to_excel(temp_tmp + AmazonS3_full_path_customer.split('/')[-1]+ 'total' + '.xlsx',  index=False, encoding='cp-1251') #   to_excel"
   ]
  },
  {
   "cell_type": "code",
   "execution_count": 6,
   "id": "3f764efc-f165-4f06-9433-7394a4b2ba70",
   "metadata": {},
   "outputs": [
    {
     "data": {
      "text/plain": [
       "'Парсинг статуса ЮЛtotal.xlsx'"
      ]
     },
     "execution_count": 6,
     "metadata": {},
     "output_type": "execute_result"
    }
   ],
   "source": [
    "total_name = AmazonS3_full_path_customer.split('/')[-1]+ 'total' + '.xlsx'\n",
    "total_name\n",
    "\n",
    "#amazon_owncloud_client.put_file( AmazonS3_full_path_customer + '_fek.ru_04.08.23' + '.xlsx', temp_tmp + total_name)"
   ]
  },
  {
   "cell_type": "code",
   "execution_count": 106,
   "id": "8b28f73c-397b-4c14-b445-bb93ed556c36",
   "metadata": {},
   "outputs": [
    {
     "data": {
      "text/html": [
       "<div>\n",
       "<style scoped>\n",
       "    .dataframe tbody tr th:only-of-type {\n",
       "        vertical-align: middle;\n",
       "    }\n",
       "\n",
       "    .dataframe tbody tr th {\n",
       "        vertical-align: top;\n",
       "    }\n",
       "\n",
       "    .dataframe thead th {\n",
       "        text-align: right;\n",
       "    }\n",
       "</style>\n",
       "<table border=\"1\" class=\"dataframe\">\n",
       "  <thead>\n",
       "    <tr style=\"text-align: right;\">\n",
       "      <th></th>\n",
       "      <th>id компании</th>\n",
       "      <th>Название компании</th>\n",
       "      <th>Головная организация</th>\n",
       "      <th>Филиалы</th>\n",
       "      <th>Аутсорсеры</th>\n",
       "      <th>Статус компании</th>\n",
       "    </tr>\n",
       "  </thead>\n",
       "  <tbody>\n",
       "    <tr>\n",
       "      <th>18</th>\n",
       "      <td>5038</td>\n",
       "      <td>ВТБ 24 (ПАО)</td>\n",
       "      <td>302534.0</td>\n",
       "      <td>[275821, 207106, 164328, 144613, 140993, 97442...</td>\n",
       "      <td>None</td>\n",
       "      <td>ЮЛ активно</td>\n",
       "    </tr>\n",
       "  </tbody>\n",
       "</table>\n",
       "</div>"
      ],
      "text/plain": [
       "    id компании Название компании  Головная организация  \\\n",
       "18         5038      ВТБ 24 (ПАО)              302534.0   \n",
       "\n",
       "                                              Филиалы Аутсорсеры  \\\n",
       "18  [275821, 207106, 164328, 144613, 140993, 97442...       None   \n",
       "\n",
       "   Статус компании  \n",
       "18      ЮЛ активно  "
      ]
     },
     "execution_count": 106,
     "metadata": {},
     "output_type": "execute_result"
    }
   ],
   "source": [
    "df_rep[df_rep['id компании'] == 5038]"
   ]
  },
  {
   "cell_type": "code",
   "execution_count": 8,
   "id": "75975dbe-f044-4749-ba7f-2385757ec87b",
   "metadata": {},
   "outputs": [
    {
     "name": "stderr",
     "output_type": "stream",
     "text": [
      "/tmp/ipykernel_2260594/604300140.py:5: SettingWithCopyWarning: \n",
      "A value is trying to be set on a copy of a slice from a DataFrame.\n",
      "Try using .loc[row_indexer,col_indexer] = value instead\n",
      "\n",
      "See the caveats in the documentation: https://pandas.pydata.org/pandas-docs/stable/user_guide/indexing.html#returning-a-view-versus-a-copy\n",
      "  df_liq['status'] = 'ЮЛ закрыто/ликвидировано'\n"
     ]
    }
   ],
   "source": [
    "# Выводим результат парсинга в датафрейм, оставляем только ликвидированные фирмы\n",
    "\n",
    "df_total = pd.read_excel(temp_tmp + total_name)\n",
    "df_liq = df_total[(df_total['status'] == 'LIQUIDATED') | (df_total['status'] == 'LIQUIDATING')]\n",
    "df_liq['status'] = 'ЮЛ закрыто/ликвидировано'"
   ]
  },
  {
   "cell_type": "code",
   "execution_count": 113,
   "id": "eb863109-e81d-40b0-b7b8-6f8194556c24",
   "metadata": {},
   "outputs": [],
   "source": [
    "# Объединяем результат парсинга с дубликатами из БД\n",
    "\n",
    "df_report = df_rep.merge(df_liq, how='outer', left_on=['id компании', 'Название компании'], right_on=['id', 'name'])\n",
    "df_report.loc[df_report['status'].isna(), 'status'] = df_report['Статус компании']\n",
    "df_report.loc[df_report['id компании'].isna(), 'id компании'] = df_report['id']\n",
    "df_report.loc[df_report['Название компании'].isna(), 'Название компании'] = df_report['name']\n",
    "df_report['id компании'] = df_report['id компании'].astype('int64')\n",
    "#df_report['Головная организация'] = df_report['Головная организация'].astype('Int64')"
   ]
  },
  {
   "cell_type": "code",
   "execution_count": 114,
   "id": "def125e3-443a-4fe0-a30c-10334101fa2a",
   "metadata": {},
   "outputs": [],
   "source": [
    "# Уточняем шапку таблицы\n",
    "\n",
    "df_report = df_report[['id компании', 'Название компании', 'Головная организация', 'Филиалы', 'Аутсорсеры', 'status']]\n",
    "df_report.columns = ['id компании', 'Название компании', 'Головная организация', 'Филиалы', 'Аутсорсеры', 'Статус компании']"
   ]
  },
  {
   "cell_type": "code",
   "execution_count": 115,
   "id": "8f4b3a80-4918-4f1f-8560-b0f9bc573f67",
   "metadata": {},
   "outputs": [],
   "source": [
    "# Преобразовываем id компаний в ссылки\n",
    "\n",
    "def id_to_link(row):\n",
    "    if pd.notna(row):\n",
    "        lnk = f'@ГИПЕРССЫЛКА(\"http://opentech.local/index.php?p=customers&id={int(row)}\"; {int(row)})'\n",
    "    else:\n",
    "        lnk = np.nan\n",
    "    return lnk"
   ]
  },
  {
   "cell_type": "code",
   "execution_count": 116,
   "id": "ae8cbdfc-3874-458b-9eea-57001e5330fb",
   "metadata": {},
   "outputs": [],
   "source": [
    "df_report['id компании'] = df_report['id компании'].apply(id_to_link)\n",
    "df_report['Головная организация'] = df_report['Головная организация'].apply(id_to_link)"
   ]
  },
  {
   "cell_type": "code",
   "execution_count": 117,
   "id": "0f205d3a-52bc-4e83-b587-fa37d4c35c67",
   "metadata": {},
   "outputs": [
    {
     "data": {
      "text/html": [
       "<div>\n",
       "<style scoped>\n",
       "    .dataframe tbody tr th:only-of-type {\n",
       "        vertical-align: middle;\n",
       "    }\n",
       "\n",
       "    .dataframe tbody tr th {\n",
       "        vertical-align: top;\n",
       "    }\n",
       "\n",
       "    .dataframe thead th {\n",
       "        text-align: right;\n",
       "    }\n",
       "</style>\n",
       "<table border=\"1\" class=\"dataframe\">\n",
       "  <thead>\n",
       "    <tr style=\"text-align: right;\">\n",
       "      <th></th>\n",
       "      <th>id компании</th>\n",
       "      <th>Название компании</th>\n",
       "      <th>Головная организация</th>\n",
       "      <th>Филиалы</th>\n",
       "      <th>Аутсорсеры</th>\n",
       "      <th>Статус компании</th>\n",
       "    </tr>\n",
       "  </thead>\n",
       "  <tbody>\n",
       "    <tr>\n",
       "      <th>0</th>\n",
       "      <td>@ГИПЕРССЫЛКА(\"http://opentech.local/index.php?...</td>\n",
       "      <td>ООО \"Сибирская Канцелярская Компания\"</td>\n",
       "      <td>NaN</td>\n",
       "      <td>None</td>\n",
       "      <td>None</td>\n",
       "      <td>ЮЛ закрыто/ликвидировано</td>\n",
       "    </tr>\n",
       "    <tr>\n",
       "      <th>1</th>\n",
       "      <td>@ГИПЕРССЫЛКА(\"http://opentech.local/index.php?...</td>\n",
       "      <td>ЗАО \"АРКА Текнолоджиз\"</td>\n",
       "      <td>NaN</td>\n",
       "      <td>None</td>\n",
       "      <td>None</td>\n",
       "      <td>ЮЛ закрыто/ликвидировано</td>\n",
       "    </tr>\n",
       "    <tr>\n",
       "      <th>2</th>\n",
       "      <td>@ГИПЕРССЫЛКА(\"http://opentech.local/index.php?...</td>\n",
       "      <td>ООО \"Система\"</td>\n",
       "      <td>NaN</td>\n",
       "      <td>None</td>\n",
       "      <td>None</td>\n",
       "      <td>ЮЛ закрыто/ликвидировано</td>\n",
       "    </tr>\n",
       "    <tr>\n",
       "      <th>3</th>\n",
       "      <td>@ГИПЕРССЫЛКА(\"http://opentech.local/index.php?...</td>\n",
       "      <td>ООО \"Дюрон Техногрупп\"</td>\n",
       "      <td>NaN</td>\n",
       "      <td>None</td>\n",
       "      <td>None</td>\n",
       "      <td>ЮЛ закрыто/ликвидировано</td>\n",
       "    </tr>\n",
       "    <tr>\n",
       "      <th>4</th>\n",
       "      <td>@ГИПЕРССЫЛКА(\"http://opentech.local/index.php?...</td>\n",
       "      <td>АО \"Гемма - 2000\"</td>\n",
       "      <td>NaN</td>\n",
       "      <td>None</td>\n",
       "      <td>None</td>\n",
       "      <td>ЮЛ закрыто/ликвидировано</td>\n",
       "    </tr>\n",
       "    <tr>\n",
       "      <th>...</th>\n",
       "      <td>...</td>\n",
       "      <td>...</td>\n",
       "      <td>...</td>\n",
       "      <td>...</td>\n",
       "      <td>...</td>\n",
       "      <td>...</td>\n",
       "    </tr>\n",
       "    <tr>\n",
       "      <th>26550</th>\n",
       "      <td>@ГИПЕРССЫЛКА(\"http://opentech.local/index.php?...</td>\n",
       "      <td>ИП Даньшин Денис Сергеевич</td>\n",
       "      <td>NaN</td>\n",
       "      <td>NaN</td>\n",
       "      <td>NaN</td>\n",
       "      <td>ЮЛ закрыто/ликвидировано</td>\n",
       "    </tr>\n",
       "    <tr>\n",
       "      <th>26551</th>\n",
       "      <td>@ГИПЕРССЫЛКА(\"http://opentech.local/index.php?...</td>\n",
       "      <td>ООО \"УСОЛЬМАШ\"</td>\n",
       "      <td>NaN</td>\n",
       "      <td>NaN</td>\n",
       "      <td>NaN</td>\n",
       "      <td>ЮЛ закрыто/ликвидировано</td>\n",
       "    </tr>\n",
       "    <tr>\n",
       "      <th>26552</th>\n",
       "      <td>@ГИПЕРССЫЛКА(\"http://opentech.local/index.php?...</td>\n",
       "      <td>ООО НТЦ \"РМ НАНОТЕХ\"</td>\n",
       "      <td>NaN</td>\n",
       "      <td>NaN</td>\n",
       "      <td>NaN</td>\n",
       "      <td>ЮЛ закрыто/ликвидировано</td>\n",
       "    </tr>\n",
       "    <tr>\n",
       "      <th>26553</th>\n",
       "      <td>@ГИПЕРССЫЛКА(\"http://opentech.local/index.php?...</td>\n",
       "      <td>ООО \"ЮНАЙТЕД СЕРВИС\"</td>\n",
       "      <td>NaN</td>\n",
       "      <td>NaN</td>\n",
       "      <td>NaN</td>\n",
       "      <td>ЮЛ закрыто/ликвидировано</td>\n",
       "    </tr>\n",
       "    <tr>\n",
       "      <th>26554</th>\n",
       "      <td>@ГИПЕРССЫЛКА(\"http://opentech.local/index.php?...</td>\n",
       "      <td>\"МУРМАНСКИЙ ДОМ КУЛЬТУРЫ ЖЕЛЕЗНОДОРОЖНИКОВ\"</td>\n",
       "      <td>NaN</td>\n",
       "      <td>NaN</td>\n",
       "      <td>NaN</td>\n",
       "      <td>ЮЛ закрыто/ликвидировано</td>\n",
       "    </tr>\n",
       "  </tbody>\n",
       "</table>\n",
       "<p>26555 rows × 6 columns</p>\n",
       "</div>"
      ],
      "text/plain": [
       "                                             id компании  \\\n",
       "0      @ГИПЕРССЫЛКА(\"http://opentech.local/index.php?...   \n",
       "1      @ГИПЕРССЫЛКА(\"http://opentech.local/index.php?...   \n",
       "2      @ГИПЕРССЫЛКА(\"http://opentech.local/index.php?...   \n",
       "3      @ГИПЕРССЫЛКА(\"http://opentech.local/index.php?...   \n",
       "4      @ГИПЕРССЫЛКА(\"http://opentech.local/index.php?...   \n",
       "...                                                  ...   \n",
       "26550  @ГИПЕРССЫЛКА(\"http://opentech.local/index.php?...   \n",
       "26551  @ГИПЕРССЫЛКА(\"http://opentech.local/index.php?...   \n",
       "26552  @ГИПЕРССЫЛКА(\"http://opentech.local/index.php?...   \n",
       "26553  @ГИПЕРССЫЛКА(\"http://opentech.local/index.php?...   \n",
       "26554  @ГИПЕРССЫЛКА(\"http://opentech.local/index.php?...   \n",
       "\n",
       "                                 Название компании Головная организация  \\\n",
       "0            ООО \"Сибирская Канцелярская Компания\"                  NaN   \n",
       "1                           ЗАО \"АРКА Текнолоджиз\"                  NaN   \n",
       "2                                    ООО \"Система\"                  NaN   \n",
       "3                           ООО \"Дюрон Техногрупп\"                  NaN   \n",
       "4                                АО \"Гемма - 2000\"                  NaN   \n",
       "...                                            ...                  ...   \n",
       "26550                   ИП Даньшин Денис Сергеевич                  NaN   \n",
       "26551                               ООО \"УСОЛЬМАШ\"                  NaN   \n",
       "26552                         ООО НТЦ \"РМ НАНОТЕХ\"                  NaN   \n",
       "26553                         ООО \"ЮНАЙТЕД СЕРВИС\"                  NaN   \n",
       "26554  \"МУРМАНСКИЙ ДОМ КУЛЬТУРЫ ЖЕЛЕЗНОДОРОЖНИКОВ\"                  NaN   \n",
       "\n",
       "      Филиалы Аутсорсеры           Статус компании  \n",
       "0        None       None  ЮЛ закрыто/ликвидировано  \n",
       "1        None       None  ЮЛ закрыто/ликвидировано  \n",
       "2        None       None  ЮЛ закрыто/ликвидировано  \n",
       "3        None       None  ЮЛ закрыто/ликвидировано  \n",
       "4        None       None  ЮЛ закрыто/ликвидировано  \n",
       "...       ...        ...                       ...  \n",
       "26550     NaN        NaN  ЮЛ закрыто/ликвидировано  \n",
       "26551     NaN        NaN  ЮЛ закрыто/ликвидировано  \n",
       "26552     NaN        NaN  ЮЛ закрыто/ликвидировано  \n",
       "26553     NaN        NaN  ЮЛ закрыто/ликвидировано  \n",
       "26554     NaN        NaN  ЮЛ закрыто/ликвидировано  \n",
       "\n",
       "[26555 rows x 6 columns]"
      ]
     },
     "execution_count": 117,
     "metadata": {},
     "output_type": "execute_result"
    }
   ],
   "source": [
    "df_report"
   ]
  },
  {
   "cell_type": "code",
   "execution_count": 118,
   "id": "3ea8ab51-80bd-4924-a3f3-1fb55bf2f0ff",
   "metadata": {},
   "outputs": [
    {
     "data": {
      "text/plain": [
       "True"
      ]
     },
     "execution_count": 118,
     "metadata": {},
     "output_type": "execute_result"
    }
   ],
   "source": [
    "# Выгружаем данные в excel и в облако \n",
    "\n",
    "df_report.to_excel(temp_tmp + AmazonS3_full_path_customer.split('/')[-1]+ '_report' + '.xlsx',  index=False, encoding='cp-1251') #   to_excel\n",
    "amazon_owncloud_client.put_file( AmazonS3_full_path_customer + '_report_links' + '.xlsx', temp_tmp + AmazonS3_full_path_customer.split('/')[-1]+ '_report' + '.xlsx')"
   ]
  }
 ],
 "metadata": {
  "kernelspec": {
   "display_name": "python39-spark-conda",
   "language": "python",
   "name": "python39-spark-conda"
  },
  "language_info": {
   "codemirror_mode": {
    "name": "ipython",
    "version": 3
   },
   "file_extension": ".py",
   "mimetype": "text/x-python",
   "name": "python",
   "nbconvert_exporter": "python",
   "pygments_lexer": "ipython3",
   "version": "3.9.7"
  }
 },
 "nbformat": 4,
 "nbformat_minor": 5
}
